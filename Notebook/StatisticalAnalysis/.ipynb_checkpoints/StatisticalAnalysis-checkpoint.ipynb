{
 "cells": [
  {
   "cell_type": "code",
   "execution_count": 192,
   "id": "a6044bb8",
   "metadata": {},
   "outputs": [],
   "source": [
    "!pip install PyNonpar"
   ]
  },
  {
   "cell_type": "code",
   "execution_count": 193,
   "id": "da559ec0",
   "metadata": {},
   "outputs": [],
   "source": [
    "import numpy as np\n",
    "import pandas as pd\n",
    "from statistics import mean, stdev\n",
    "from math import sqrt\n",
    "from scipy import stats\n",
    "from PyNonpar.twosample import wilcoxon_mann_whitney_test"
   ]
  },
  {
   "cell_type": "markdown",
   "id": "25edb55c",
   "metadata": {},
   "source": [
    "# Data"
   ]
  },
  {
   "cell_type": "code",
   "execution_count": 194,
   "id": "d9295f3d",
   "metadata": {},
   "outputs": [],
   "source": [
    "#Eclipse BM25\n",
    "Eclipse_data_sim_BM25 = (1.12, 1.35, 1.57, 2.24)\n",
    "Eclipse_data_dissim_BM25 = (2.57, 2.94, 4.04, 6.25)\n",
    "\n",
    "#Firefox BM25\n",
    "Firefox_data_sim_BM25 = (11.57, 20.90, 26.68, 47.20)\n",
    "Firefox_data_dissim_BM25 = (20.71, 34.68, 40.07, 58.09)\n",
    "\n",
    "#Mobile BM25\n",
    "Mobile_data_sim_BM25 = (22.00, 44.00, 48.00, 78.00)\n",
    "Mobile_data_dissim_BM25 = (15.73, 28.09, 35.96, 59.55)\n",
    "\n",
    "# Eclipse_data_sim_BM25 = (1.12,1.35,1.57,2.02,2.02,2.02,2.24,2.24,2.24)\n",
    "# Eclipse_data_dissim_BM25 = (2.57,2.94,4.04,4.41,4.78,4.78,5.88,6.25,6.25)\n",
    "\n",
    "# Firefox_data_sim_BM25 = (11.56,20.90,26.68,31.72,33.58,35.63,39.55,44.03,47.20)\n",
    "# Firefox_data_dissim_BM25 = (20.71,34.68,40.07,45.83,47.55,48.90,53.06,55.88,58.09)\n",
    "\n",
    "# Mobile_data_sim_BM25 = (22,44,48,58,60,64,70,78,78)\n",
    "# Mobile_data_dissim_BM25 = (15.73,28.09,35.96,43.82,44.94,47.19,51.69,56.18,59.55)\n",
    "\n",
    "#Eclipse LDA+GloVe\n",
    "Eclipse_data_sim_LDA = (0, 9.0, 13.5, 20.0)\n",
    "Eclipse_data_dissim_LDA = (0, 5.5, 8.5, 15.5)\n",
    "\n",
    "#Firefox LDA+GloVe\n",
    "Firefox_data_sim_LDA = (0, 3.0, 3.5, 6.0)\n",
    "Firefox_data_dissim_LDA = (0, 6.0, 8.5, 14.5)\n",
    "\n",
    "#Mobile LDA+GloVe\n",
    "Mobile_data_sim_LDA = (0, 2.46, 13.11, 22.95)\n",
    "Mobile_data_dissim_LDA = (0, 4.58, 6.11, 13.74)"
   ]
  },
  {
   "cell_type": "markdown",
   "id": "c0c37add",
   "metadata": {},
   "source": [
    "# Statistical Significance Test"
   ]
  },
  {
   "cell_type": "markdown",
   "id": "df670a1f",
   "metadata": {},
   "source": [
    "#### If p-value ≤ 0.05: then the null hypothesis can be rejected (i.e. the variable is NOT normally distributed).\n",
    "#### If p-value > 0.05: then the null hypothesis cannot be rejected (i.e. the variable MAY BE normally distributed). "
   ]
  },
  {
   "cell_type": "code",
   "execution_count": 195,
   "id": "63475533",
   "metadata": {},
   "outputs": [],
   "source": [
    "#Significance Test\n",
    "def significance_test_shapiro(data_name, algo_name, data_sim, data_dissim):\n",
    "    data = data_sim + data_dissim;\n",
    "    \n",
    "    shapiro_sim = stats.shapiro(data_sim)\n",
    "    shapiro_dissim = stats.shapiro(data_dissim)\n",
    "    shapiro_BM25 = stats.shapiro(data)\n",
    "    \n",
    "    dict_result = {'Data':[], 'Statistics':[], 'P-Value':[]}\n",
    "    \n",
    "    result = pd.DataFrame(dict_result)\n",
    "    \n",
    "    result.loc[len(result.index)] = ['Textually Similar', shapiro_sim.statistic, shapiro_sim.pvalue]\n",
    "    result.loc[len(result.index)] = ['Textually Dissimilar', shapiro_dissim.statistic, shapiro_dissim.pvalue]\n",
    "    result.loc[len(result.index)] = ['Textually Similar & Dissimilar', shapiro_BM25.statistic, shapiro_BM25.pvalue]\n",
    "    \n",
    "    result = result.style.set_caption(data_name+' '+algo_name+' : ')\n",
    "    display(result)"
   ]
  },
  {
   "cell_type": "code",
   "execution_count": 196,
   "id": "9ce7e990",
   "metadata": {},
   "outputs": [
    {
     "data": {
      "text/html": [
       "<style type=\"text/css\">\n",
       "</style>\n",
       "<table id=\"T_e9805\">\n",
       "  <caption>Eclipse BM25 : </caption>\n",
       "  <thead>\n",
       "    <tr>\n",
       "      <th class=\"blank level0\" >&nbsp;</th>\n",
       "      <th id=\"T_e9805_level0_col0\" class=\"col_heading level0 col0\" >Data</th>\n",
       "      <th id=\"T_e9805_level0_col1\" class=\"col_heading level0 col1\" >Statistics</th>\n",
       "      <th id=\"T_e9805_level0_col2\" class=\"col_heading level0 col2\" >P-Value</th>\n",
       "    </tr>\n",
       "  </thead>\n",
       "  <tbody>\n",
       "    <tr>\n",
       "      <th id=\"T_e9805_level0_row0\" class=\"row_heading level0 row0\" >0</th>\n",
       "      <td id=\"T_e9805_row0_col0\" class=\"data row0 col0\" >Textually Similar</td>\n",
       "      <td id=\"T_e9805_row0_col1\" class=\"data row0 col1\" >0.929077</td>\n",
       "      <td id=\"T_e9805_row0_col2\" class=\"data row0 col2\" >0.588985</td>\n",
       "    </tr>\n",
       "    <tr>\n",
       "      <th id=\"T_e9805_level0_row1\" class=\"row_heading level0 row1\" >1</th>\n",
       "      <td id=\"T_e9805_row1_col0\" class=\"data row1 col0\" >Textually Dissimilar</td>\n",
       "      <td id=\"T_e9805_row1_col1\" class=\"data row1 col1\" >0.894547</td>\n",
       "      <td id=\"T_e9805_row1_col2\" class=\"data row1 col2\" >0.404480</td>\n",
       "    </tr>\n",
       "    <tr>\n",
       "      <th id=\"T_e9805_level0_row2\" class=\"row_heading level0 row2\" >2</th>\n",
       "      <td id=\"T_e9805_row2_col0\" class=\"data row2 col0\" >Textually Similar & Dissimilar</td>\n",
       "      <td id=\"T_e9805_row2_col1\" class=\"data row2 col1\" >0.876609</td>\n",
       "      <td id=\"T_e9805_row2_col2\" class=\"data row2 col2\" >0.174729</td>\n",
       "    </tr>\n",
       "  </tbody>\n",
       "</table>\n"
      ],
      "text/plain": [
       "<pandas.io.formats.style.Styler at 0x2a107fc6e90>"
      ]
     },
     "metadata": {},
     "output_type": "display_data"
    },
    {
     "data": {
      "text/html": [
       "<style type=\"text/css\">\n",
       "</style>\n",
       "<table id=\"T_7ab95\">\n",
       "  <caption>Eclipse LDA+GloVe : </caption>\n",
       "  <thead>\n",
       "    <tr>\n",
       "      <th class=\"blank level0\" >&nbsp;</th>\n",
       "      <th id=\"T_7ab95_level0_col0\" class=\"col_heading level0 col0\" >Data</th>\n",
       "      <th id=\"T_7ab95_level0_col1\" class=\"col_heading level0 col1\" >Statistics</th>\n",
       "      <th id=\"T_7ab95_level0_col2\" class=\"col_heading level0 col2\" >P-Value</th>\n",
       "    </tr>\n",
       "  </thead>\n",
       "  <tbody>\n",
       "    <tr>\n",
       "      <th id=\"T_7ab95_level0_row0\" class=\"row_heading level0 row0\" >0</th>\n",
       "      <td id=\"T_7ab95_row0_col0\" class=\"data row0 col0\" >Textually Similar</td>\n",
       "      <td id=\"T_7ab95_row0_col1\" class=\"data row0 col1\" >0.992360</td>\n",
       "      <td id=\"T_7ab95_row0_col2\" class=\"data row0 col2\" >0.969230</td>\n",
       "    </tr>\n",
       "    <tr>\n",
       "      <th id=\"T_7ab95_level0_row1\" class=\"row_heading level0 row1\" >1</th>\n",
       "      <td id=\"T_7ab95_row1_col0\" class=\"data row1 col0\" >Textually Dissimilar</td>\n",
       "      <td id=\"T_7ab95_row1_col1\" class=\"data row1 col1\" >0.993376</td>\n",
       "      <td id=\"T_7ab95_row1_col2\" class=\"data row1 col2\" >0.974069</td>\n",
       "    </tr>\n",
       "    <tr>\n",
       "      <th id=\"T_7ab95_level0_row2\" class=\"row_heading level0 row2\" >2</th>\n",
       "      <td id=\"T_7ab95_row2_col0\" class=\"data row2 col0\" >Textually Similar & Dissimilar</td>\n",
       "      <td id=\"T_7ab95_row2_col1\" class=\"data row2 col1\" >0.949097</td>\n",
       "      <td id=\"T_7ab95_row2_col2\" class=\"data row2 col2\" >0.702121</td>\n",
       "    </tr>\n",
       "  </tbody>\n",
       "</table>\n"
      ],
      "text/plain": [
       "<pandas.io.formats.style.Styler at 0x2a10c2ab4c0>"
      ]
     },
     "metadata": {},
     "output_type": "display_data"
    }
   ],
   "source": [
    "significance_test_shapiro('Eclipse', 'BM25', Eclipse_data_sim_BM25, Eclipse_data_dissim_BM25)\n",
    "significance_test_shapiro('Eclipse', 'LDA+GloVe', Eclipse_data_sim_LDA, Eclipse_data_dissim_LDA)"
   ]
  },
  {
   "cell_type": "code",
   "execution_count": 197,
   "id": "fff3e605",
   "metadata": {},
   "outputs": [
    {
     "data": {
      "text/html": [
       "<style type=\"text/css\">\n",
       "</style>\n",
       "<table id=\"T_85f45\">\n",
       "  <caption>Firefox BM25 : </caption>\n",
       "  <thead>\n",
       "    <tr>\n",
       "      <th class=\"blank level0\" >&nbsp;</th>\n",
       "      <th id=\"T_85f45_level0_col0\" class=\"col_heading level0 col0\" >Data</th>\n",
       "      <th id=\"T_85f45_level0_col1\" class=\"col_heading level0 col1\" >Statistics</th>\n",
       "      <th id=\"T_85f45_level0_col2\" class=\"col_heading level0 col2\" >P-Value</th>\n",
       "    </tr>\n",
       "  </thead>\n",
       "  <tbody>\n",
       "    <tr>\n",
       "      <th id=\"T_85f45_level0_row0\" class=\"row_heading level0 row0\" >0</th>\n",
       "      <td id=\"T_85f45_row0_col0\" class=\"data row0 col0\" >Textually Similar</td>\n",
       "      <td id=\"T_85f45_row0_col1\" class=\"data row0 col1\" >0.948557</td>\n",
       "      <td id=\"T_85f45_row0_col2\" class=\"data row0 col2\" >0.707116</td>\n",
       "    </tr>\n",
       "    <tr>\n",
       "      <th id=\"T_85f45_level0_row1\" class=\"row_heading level0 row1\" >1</th>\n",
       "      <td id=\"T_85f45_row1_col0\" class=\"data row1 col0\" >Textually Dissimilar</td>\n",
       "      <td id=\"T_85f45_row1_col1\" class=\"data row1 col1\" >0.985476</td>\n",
       "      <td id=\"T_85f45_row1_col2\" class=\"data row1 col2\" >0.933301</td>\n",
       "    </tr>\n",
       "    <tr>\n",
       "      <th id=\"T_85f45_level0_row2\" class=\"row_heading level0 row2\" >2</th>\n",
       "      <td id=\"T_85f45_row2_col0\" class=\"data row2 col0\" >Textually Similar & Dissimilar</td>\n",
       "      <td id=\"T_85f45_row2_col1\" class=\"data row2 col1\" >0.969269</td>\n",
       "      <td id=\"T_85f45_row2_col2\" class=\"data row2 col2\" >0.892212</td>\n",
       "    </tr>\n",
       "  </tbody>\n",
       "</table>\n"
      ],
      "text/plain": [
       "<pandas.io.formats.style.Styler at 0x2a107fc67a0>"
      ]
     },
     "metadata": {},
     "output_type": "display_data"
    },
    {
     "data": {
      "text/html": [
       "<style type=\"text/css\">\n",
       "</style>\n",
       "<table id=\"T_324f9\">\n",
       "  <caption>Firefox LDA+GloVe : </caption>\n",
       "  <thead>\n",
       "    <tr>\n",
       "      <th class=\"blank level0\" >&nbsp;</th>\n",
       "      <th id=\"T_324f9_level0_col0\" class=\"col_heading level0 col0\" >Data</th>\n",
       "      <th id=\"T_324f9_level0_col1\" class=\"col_heading level0 col1\" >Statistics</th>\n",
       "      <th id=\"T_324f9_level0_col2\" class=\"col_heading level0 col2\" >P-Value</th>\n",
       "    </tr>\n",
       "  </thead>\n",
       "  <tbody>\n",
       "    <tr>\n",
       "      <th id=\"T_324f9_level0_row0\" class=\"row_heading level0 row0\" >0</th>\n",
       "      <td id=\"T_324f9_row0_col0\" class=\"data row0 col0\" >Textually Similar</td>\n",
       "      <td id=\"T_324f9_row0_col1\" class=\"data row0 col1\" >0.973019</td>\n",
       "      <td id=\"T_324f9_row0_col2\" class=\"data row0 col2\" >0.860078</td>\n",
       "    </tr>\n",
       "    <tr>\n",
       "      <th id=\"T_324f9_level0_row1\" class=\"row_heading level0 row1\" >1</th>\n",
       "      <td id=\"T_324f9_row1_col0\" class=\"data row1 col0\" >Textually Dissimilar</td>\n",
       "      <td id=\"T_324f9_row1_col1\" class=\"data row1 col1\" >0.995554</td>\n",
       "      <td id=\"T_324f9_row1_col2\" class=\"data row1 col2\" >0.983867</td>\n",
       "    </tr>\n",
       "    <tr>\n",
       "      <th id=\"T_324f9_level0_row2\" class=\"row_heading level0 row2\" >2</th>\n",
       "      <td id=\"T_324f9_row2_col0\" class=\"data row2 col0\" >Textually Similar & Dissimilar</td>\n",
       "      <td id=\"T_324f9_row2_col1\" class=\"data row2 col1\" >0.916692</td>\n",
       "      <td id=\"T_324f9_row2_col2\" class=\"data row2 col2\" >0.403602</td>\n",
       "    </tr>\n",
       "  </tbody>\n",
       "</table>\n"
      ],
      "text/plain": [
       "<pandas.io.formats.style.Styler at 0x2a10c2ab220>"
      ]
     },
     "metadata": {},
     "output_type": "display_data"
    }
   ],
   "source": [
    "significance_test_shapiro('Firefox', 'BM25', Firefox_data_sim_BM25, Firefox_data_dissim_BM25)\n",
    "significance_test_shapiro('Firefox', 'LDA+GloVe', Firefox_data_sim_LDA, Firefox_data_dissim_LDA)"
   ]
  },
  {
   "cell_type": "code",
   "execution_count": 198,
   "id": "6598d5ed",
   "metadata": {},
   "outputs": [
    {
     "data": {
      "text/html": [
       "<style type=\"text/css\">\n",
       "</style>\n",
       "<table id=\"T_8bfaf\">\n",
       "  <caption>Mobile BM25 : </caption>\n",
       "  <thead>\n",
       "    <tr>\n",
       "      <th class=\"blank level0\" >&nbsp;</th>\n",
       "      <th id=\"T_8bfaf_level0_col0\" class=\"col_heading level0 col0\" >Data</th>\n",
       "      <th id=\"T_8bfaf_level0_col1\" class=\"col_heading level0 col1\" >Statistics</th>\n",
       "      <th id=\"T_8bfaf_level0_col2\" class=\"col_heading level0 col2\" >P-Value</th>\n",
       "    </tr>\n",
       "  </thead>\n",
       "  <tbody>\n",
       "    <tr>\n",
       "      <th id=\"T_8bfaf_level0_row0\" class=\"row_heading level0 row0\" >0</th>\n",
       "      <td id=\"T_8bfaf_row0_col0\" class=\"data row0 col0\" >Textually Similar</td>\n",
       "      <td id=\"T_8bfaf_row0_col1\" class=\"data row0 col1\" >0.962871</td>\n",
       "      <td id=\"T_8bfaf_row0_col2\" class=\"data row0 col2\" >0.796961</td>\n",
       "    </tr>\n",
       "    <tr>\n",
       "      <th id=\"T_8bfaf_level0_row1\" class=\"row_heading level0 row1\" >1</th>\n",
       "      <td id=\"T_8bfaf_row1_col0\" class=\"data row1 col0\" >Textually Dissimilar</td>\n",
       "      <td id=\"T_8bfaf_row1_col1\" class=\"data row1 col1\" >0.965712</td>\n",
       "      <td id=\"T_8bfaf_row1_col2\" class=\"data row1 col2\" >0.814776</td>\n",
       "    </tr>\n",
       "    <tr>\n",
       "      <th id=\"T_8bfaf_level0_row2\" class=\"row_heading level0 row2\" >2</th>\n",
       "      <td id=\"T_8bfaf_row2_col0\" class=\"data row2 col0\" >Textually Similar & Dissimilar</td>\n",
       "      <td id=\"T_8bfaf_row2_col1\" class=\"data row2 col1\" >0.966348</td>\n",
       "      <td id=\"T_8bfaf_row2_col2\" class=\"data row2 col2\" >0.867909</td>\n",
       "    </tr>\n",
       "  </tbody>\n",
       "</table>\n"
      ],
      "text/plain": [
       "<pandas.io.formats.style.Styler at 0x2a10c299c00>"
      ]
     },
     "metadata": {},
     "output_type": "display_data"
    },
    {
     "data": {
      "text/html": [
       "<style type=\"text/css\">\n",
       "</style>\n",
       "<table id=\"T_e7dce\">\n",
       "  <caption>Mobile LDA+GloVe : </caption>\n",
       "  <thead>\n",
       "    <tr>\n",
       "      <th class=\"blank level0\" >&nbsp;</th>\n",
       "      <th id=\"T_e7dce_level0_col0\" class=\"col_heading level0 col0\" >Data</th>\n",
       "      <th id=\"T_e7dce_level0_col1\" class=\"col_heading level0 col1\" >Statistics</th>\n",
       "      <th id=\"T_e7dce_level0_col2\" class=\"col_heading level0 col2\" >P-Value</th>\n",
       "    </tr>\n",
       "  </thead>\n",
       "  <tbody>\n",
       "    <tr>\n",
       "      <th id=\"T_e7dce_level0_row0\" class=\"row_heading level0 row0\" >0</th>\n",
       "      <td id=\"T_e7dce_row0_col0\" class=\"data row0 col0\" >Textually Similar</td>\n",
       "      <td id=\"T_e7dce_row0_col1\" class=\"data row0 col1\" >0.922441</td>\n",
       "      <td id=\"T_e7dce_row0_col2\" class=\"data row0 col2\" >0.550718</td>\n",
       "    </tr>\n",
       "    <tr>\n",
       "      <th id=\"T_e7dce_level0_row1\" class=\"row_heading level0 row1\" >1</th>\n",
       "      <td id=\"T_e7dce_row1_col0\" class=\"data row1 col0\" >Textually Dissimilar</td>\n",
       "      <td id=\"T_e7dce_row1_col1\" class=\"data row1 col1\" >0.960688</td>\n",
       "      <td id=\"T_e7dce_row1_col2\" class=\"data row1 col2\" >0.783237</td>\n",
       "    </tr>\n",
       "    <tr>\n",
       "      <th id=\"T_e7dce_level0_row2\" class=\"row_heading level0 row2\" >2</th>\n",
       "      <td id=\"T_e7dce_row2_col0\" class=\"data row2 col0\" >Textually Similar & Dissimilar</td>\n",
       "      <td id=\"T_e7dce_row2_col1\" class=\"data row2 col1\" >0.892610</td>\n",
       "      <td id=\"T_e7dce_row2_col2\" class=\"data row2 col2\" >0.247431</td>\n",
       "    </tr>\n",
       "  </tbody>\n",
       "</table>\n"
      ],
      "text/plain": [
       "<pandas.io.formats.style.Styler at 0x2a10d1c8b50>"
      ]
     },
     "metadata": {},
     "output_type": "display_data"
    }
   ],
   "source": [
    "significance_test_shapiro('Mobile', 'BM25', Mobile_data_sim_BM25, Mobile_data_dissim_BM25)\n",
    "significance_test_shapiro('Mobile', 'LDA+GloVe', Mobile_data_sim_LDA, Mobile_data_dissim_LDA)"
   ]
  },
  {
   "cell_type": "markdown",
   "id": "3025964c",
   "metadata": {},
   "source": [
    "# Significance Test for Normal Distribution"
   ]
  },
  {
   "cell_type": "markdown",
   "id": "78e2d81b",
   "metadata": {},
   "source": [
    "#### Cohen suggested that for\n",
    "#### d = 0.2 effect size is  'small' ,\n",
    "#### d = 0.5 effect size is 'medium' \n",
    "#### d = 0.8 effect size is 'large'  "
   ]
  },
  {
   "cell_type": "code",
   "execution_count": 199,
   "id": "97875834",
   "metadata": {},
   "outputs": [],
   "source": [
    "#Test when Data is Normally Distributed\n",
    "def significance_test_ttest_ind(data_name, algo_name, data_sim, data_dissim):\n",
    "    t_value, p_value = stats.ttest_ind(data_sim, data_dissim)\n",
    "    \n",
    "    cohen_d = (mean(data_sim) - mean(data_dissim)) / (sqrt((stdev(data_sim) ** 2 + stdev(data_dissim) ** 2) / 2))\n",
    "\n",
    "    dict_result = {'Test Statistic':[], 'P-Value':[], 'Cohens-d Value':[]}\n",
    "    \n",
    "    result = pd.DataFrame(dict_result)\n",
    "    \n",
    "    result.loc[len(result.index)] = [t_value, p_value, cohen_d]\n",
    "    \n",
    "    result = result.style.set_caption(data_name+' '+algo_name+' : ')\n",
    "    display(result)"
   ]
  },
  {
   "cell_type": "code",
   "execution_count": 200,
   "id": "e5a2c3a7",
   "metadata": {},
   "outputs": [
    {
     "data": {
      "text/html": [
       "<style type=\"text/css\">\n",
       "</style>\n",
       "<table id=\"T_94359\">\n",
       "  <caption>Eclipse BM25 : </caption>\n",
       "  <thead>\n",
       "    <tr>\n",
       "      <th class=\"blank level0\" >&nbsp;</th>\n",
       "      <th id=\"T_94359_level0_col0\" class=\"col_heading level0 col0\" >Test Statistic</th>\n",
       "      <th id=\"T_94359_level0_col1\" class=\"col_heading level0 col1\" >P-Value</th>\n",
       "      <th id=\"T_94359_level0_col2\" class=\"col_heading level0 col2\" >Cohens-d Value</th>\n",
       "    </tr>\n",
       "  </thead>\n",
       "  <tbody>\n",
       "    <tr>\n",
       "      <th id=\"T_94359_level0_row0\" class=\"row_heading level0 row0\" >0</th>\n",
       "      <td id=\"T_94359_row0_col0\" class=\"data row0 col0\" >-2.760112</td>\n",
       "      <td id=\"T_94359_row0_col1\" class=\"data row0 col1\" >0.032849</td>\n",
       "      <td id=\"T_94359_row0_col2\" class=\"data row0 col2\" >-1.951694</td>\n",
       "    </tr>\n",
       "  </tbody>\n",
       "</table>\n"
      ],
      "text/plain": [
       "<pandas.io.formats.style.Styler at 0x2a10c2b8af0>"
      ]
     },
     "metadata": {},
     "output_type": "display_data"
    },
    {
     "data": {
      "text/html": [
       "<style type=\"text/css\">\n",
       "</style>\n",
       "<table id=\"T_22472\">\n",
       "  <caption>Eclipse LDA+GloVe : </caption>\n",
       "  <thead>\n",
       "    <tr>\n",
       "      <th class=\"blank level0\" >&nbsp;</th>\n",
       "      <th id=\"T_22472_level0_col0\" class=\"col_heading level0 col0\" >Test Statistic</th>\n",
       "      <th id=\"T_22472_level0_col1\" class=\"col_heading level0 col1\" >P-Value</th>\n",
       "      <th id=\"T_22472_level0_col2\" class=\"col_heading level0 col2\" >Cohens-d Value</th>\n",
       "    </tr>\n",
       "  </thead>\n",
       "  <tbody>\n",
       "    <tr>\n",
       "      <th id=\"T_22472_level0_row0\" class=\"row_heading level0 row0\" >0</th>\n",
       "      <td id=\"T_22472_row0_col0\" class=\"data row0 col0\" >0.613394</td>\n",
       "      <td id=\"T_22472_row0_col1\" class=\"data row0 col1\" >0.562132</td>\n",
       "      <td id=\"T_22472_row0_col2\" class=\"data row0 col2\" >0.433735</td>\n",
       "    </tr>\n",
       "  </tbody>\n",
       "</table>\n"
      ],
      "text/plain": [
       "<pandas.io.formats.style.Styler at 0x2a10c2ba290>"
      ]
     },
     "metadata": {},
     "output_type": "display_data"
    }
   ],
   "source": [
    "significance_test_ttest_ind('Eclipse', 'BM25', Eclipse_data_sim_BM25, Eclipse_data_dissim_BM25)\n",
    "significance_test_ttest_ind('Eclipse', 'LDA+GloVe', Eclipse_data_sim_LDA, Eclipse_data_dissim_LDA)"
   ]
  },
  {
   "cell_type": "code",
   "execution_count": 201,
   "id": "8ecba100",
   "metadata": {},
   "outputs": [
    {
     "data": {
      "text/html": [
       "<style type=\"text/css\">\n",
       "</style>\n",
       "<table id=\"T_09279\">\n",
       "  <caption>Firefox BM25 : </caption>\n",
       "  <thead>\n",
       "    <tr>\n",
       "      <th class=\"blank level0\" >&nbsp;</th>\n",
       "      <th id=\"T_09279_level0_col0\" class=\"col_heading level0 col0\" >Test Statistic</th>\n",
       "      <th id=\"T_09279_level0_col1\" class=\"col_heading level0 col1\" >P-Value</th>\n",
       "      <th id=\"T_09279_level0_col2\" class=\"col_heading level0 col2\" >Cohens-d Value</th>\n",
       "    </tr>\n",
       "  </thead>\n",
       "  <tbody>\n",
       "    <tr>\n",
       "      <th id=\"T_09279_level0_row0\" class=\"row_heading level0 row0\" >0</th>\n",
       "      <td id=\"T_09279_row0_col0\" class=\"data row0 col0\" >-1.092462</td>\n",
       "      <td id=\"T_09279_row0_col1\" class=\"data row0 col1\" >0.316542</td>\n",
       "      <td id=\"T_09279_row0_col2\" class=\"data row0 col2\" >-0.772487</td>\n",
       "    </tr>\n",
       "  </tbody>\n",
       "</table>\n"
      ],
      "text/plain": [
       "<pandas.io.formats.style.Styler at 0x2a10a564e50>"
      ]
     },
     "metadata": {},
     "output_type": "display_data"
    },
    {
     "data": {
      "text/html": [
       "<style type=\"text/css\">\n",
       "</style>\n",
       "<table id=\"T_bed3d\">\n",
       "  <caption>Firefox LDA+GloVe : </caption>\n",
       "  <thead>\n",
       "    <tr>\n",
       "      <th class=\"blank level0\" >&nbsp;</th>\n",
       "      <th id=\"T_bed3d_level0_col0\" class=\"col_heading level0 col0\" >Test Statistic</th>\n",
       "      <th id=\"T_bed3d_level0_col1\" class=\"col_heading level0 col1\" >P-Value</th>\n",
       "      <th id=\"T_bed3d_level0_col2\" class=\"col_heading level0 col2\" >Cohens-d Value</th>\n",
       "    </tr>\n",
       "  </thead>\n",
       "  <tbody>\n",
       "    <tr>\n",
       "      <th id=\"T_bed3d_level0_row0\" class=\"row_heading level0 row0\" >0</th>\n",
       "      <td id=\"T_bed3d_row0_col0\" class=\"data row0 col0\" >-1.270798</td>\n",
       "      <td id=\"T_bed3d_row0_col1\" class=\"data row0 col1\" >0.250847</td>\n",
       "      <td id=\"T_bed3d_row0_col2\" class=\"data row0 col2\" >-0.898590</td>\n",
       "    </tr>\n",
       "  </tbody>\n",
       "</table>\n"
      ],
      "text/plain": [
       "<pandas.io.formats.style.Styler at 0x2a10a549d20>"
      ]
     },
     "metadata": {},
     "output_type": "display_data"
    }
   ],
   "source": [
    "significance_test_ttest_ind('Firefox', 'BM25', Firefox_data_sim_BM25, Firefox_data_dissim_BM25)\n",
    "significance_test_ttest_ind('Firefox', 'LDA+GloVe', Firefox_data_sim_LDA, Firefox_data_dissim_LDA)"
   ]
  },
  {
   "cell_type": "code",
   "execution_count": 202,
   "id": "27d75b71",
   "metadata": {},
   "outputs": [
    {
     "data": {
      "text/html": [
       "<style type=\"text/css\">\n",
       "</style>\n",
       "<table id=\"T_95b1f\">\n",
       "  <caption>Mobile BM25 : </caption>\n",
       "  <thead>\n",
       "    <tr>\n",
       "      <th class=\"blank level0\" >&nbsp;</th>\n",
       "      <th id=\"T_95b1f_level0_col0\" class=\"col_heading level0 col0\" >Test Statistic</th>\n",
       "      <th id=\"T_95b1f_level0_col1\" class=\"col_heading level0 col1\" >P-Value</th>\n",
       "      <th id=\"T_95b1f_level0_col2\" class=\"col_heading level0 col2\" >Cohens-d Value</th>\n",
       "    </tr>\n",
       "  </thead>\n",
       "  <tbody>\n",
       "    <tr>\n",
       "      <th id=\"T_95b1f_level0_row0\" class=\"row_heading level0 row0\" >0</th>\n",
       "      <td id=\"T_95b1f_row0_col0\" class=\"data row0 col0\" >0.892056</td>\n",
       "      <td id=\"T_95b1f_row0_col1\" class=\"data row0 col1\" >0.406714</td>\n",
       "      <td id=\"T_95b1f_row0_col2\" class=\"data row0 col2\" >0.630779</td>\n",
       "    </tr>\n",
       "  </tbody>\n",
       "</table>\n"
      ],
      "text/plain": [
       "<pandas.io.formats.style.Styler at 0x2a10c2baf20>"
      ]
     },
     "metadata": {},
     "output_type": "display_data"
    },
    {
     "data": {
      "text/html": [
       "<style type=\"text/css\">\n",
       "</style>\n",
       "<table id=\"T_43f47\">\n",
       "  <caption>Mobile LDA+GloVe : </caption>\n",
       "  <thead>\n",
       "    <tr>\n",
       "      <th class=\"blank level0\" >&nbsp;</th>\n",
       "      <th id=\"T_43f47_level0_col0\" class=\"col_heading level0 col0\" >Test Statistic</th>\n",
       "      <th id=\"T_43f47_level0_col1\" class=\"col_heading level0 col1\" >P-Value</th>\n",
       "      <th id=\"T_43f47_level0_col2\" class=\"col_heading level0 col2\" >Cohens-d Value</th>\n",
       "    </tr>\n",
       "  </thead>\n",
       "  <tbody>\n",
       "    <tr>\n",
       "      <th id=\"T_43f47_level0_row0\" class=\"row_heading level0 row0\" >0</th>\n",
       "      <td id=\"T_43f47_row0_col0\" class=\"data row0 col0\" >0.587377</td>\n",
       "      <td id=\"T_43f47_row0_col1\" class=\"data row0 col1\" >0.578369</td>\n",
       "      <td id=\"T_43f47_row0_col2\" class=\"data row0 col2\" >0.415338</td>\n",
       "    </tr>\n",
       "  </tbody>\n",
       "</table>\n"
      ],
      "text/plain": [
       "<pandas.io.formats.style.Styler at 0x2a10c299720>"
      ]
     },
     "metadata": {},
     "output_type": "display_data"
    }
   ],
   "source": [
    "significance_test_ttest_ind('Mobile', 'BM25', Mobile_data_sim_BM25, Mobile_data_dissim_BM25)\n",
    "significance_test_ttest_ind('Mobile', 'LDA+GloVe', Mobile_data_sim_LDA, Mobile_data_dissim_LDA)"
   ]
  },
  {
   "cell_type": "markdown",
   "id": "f863c1ba",
   "metadata": {},
   "source": [
    "# Significance Test for Non Gaussian Distribution"
   ]
  },
  {
   "cell_type": "code",
   "execution_count": 203,
   "id": "6da22a08",
   "metadata": {},
   "outputs": [],
   "source": [
    "#Test when Data is not Normally Distributed\n",
    "def significance_test_wilcoxon(data_name, algo_name, data_sim, data_dissim):\n",
    "    t_value, p_value = stats.wilcoxon(data_sim, data_dissim)\n",
    "    \n",
    "    data_sim_list= list(data_sim)\n",
    "    data_dissim_list = list(data_dissim)\n",
    "    \n",
    "    wilcoxon_result = PyNonpar.twosample.wilcoxon_mann_whitney_test(data_sim_list, data_dissim_list, method= \"asymptotic\")\n",
    "   \n",
    "    r_val = abs(wilcoxon_result.statistic)/sqrt(len(data_sim_list))\n",
    "    \n",
    "    dict_result = {'Test Statistic':[], 'P-Value':[], 'Effect Value':[]}\n",
    "    \n",
    "    result = pd.DataFrame(dict_result)\n",
    "    \n",
    "    result.loc[len(result.index)] = [t_value, p_value, r_val]\n",
    "    \n",
    "    result = result.style.set_caption(data_name+' '+algo_name+' : ')\n",
    "    display(result)"
   ]
  }
 ],
 "metadata": {
  "kernelspec": {
   "display_name": "Python 3 (ipykernel)",
   "language": "python",
   "name": "python3"
  },
  "language_info": {
   "codemirror_mode": {
    "name": "ipython",
    "version": 3
   },
   "file_extension": ".py",
   "mimetype": "text/x-python",
   "name": "python",
   "nbconvert_exporter": "python",
   "pygments_lexer": "ipython3",
   "version": "3.10.9"
  }
 },
 "nbformat": 4,
 "nbformat_minor": 5
}
