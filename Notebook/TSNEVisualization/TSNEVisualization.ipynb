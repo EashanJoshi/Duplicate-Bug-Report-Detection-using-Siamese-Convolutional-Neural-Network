{
 "cells": [
  {
   "cell_type": "code",
   "execution_count": 143,
   "id": "9f1b6d4e",
   "metadata": {},
   "outputs": [],
   "source": [
    "#!pip install gensim"
   ]
  },
  {
   "cell_type": "code",
   "execution_count": 144,
   "id": "044466a1",
   "metadata": {},
   "outputs": [],
   "source": [
    "import numpy as np\n",
    "import pandas as pd\n",
    "import seaborn as sns\n",
    "import matplotlib.pyplot as plt\n",
    "\n",
    "from sklearn.manifold import TSNE\n",
    "\n",
    "import pickle\n",
    "import itertools\n",
    "\n",
    "from gensim.test.utils import datapath, get_tmpfile\n",
    "from gensim.models import KeyedVectors\n",
    "from gensim.scripts.glove2word2vec import glove2word2vec\n",
    "\n",
    "from typing import List, Dict, Tuple, Set\n",
    "\n",
    "from keras.layers.preprocessing.text_vectorization import TextVectorization\n",
    "\n",
    "import warnings\n",
    "warnings.filterwarnings('ignore')"
   ]
  },
  {
   "cell_type": "code",
   "execution_count": 145,
   "id": "4bdbd2cd",
   "metadata": {},
   "outputs": [
    {
     "name": "stdout",
     "output_type": "stream",
     "text": [
      "Indexing word vectors.\n",
      "Found 400000 word vectors.\n"
     ]
    }
   ],
   "source": [
    "print('Indexing word vectors.')\n",
    "\n",
    "embeddings_index = {}\n",
    "f = open('../../PreProcessedData/Requirement/glove.6B.100d.txt', encoding='utf-8')\n",
    "for line in f:\n",
    "    values = line.split()\n",
    "    word = values[0]\n",
    "    coefs = np.asarray(values[1:], dtype='float32')\n",
    "    embeddings_index[word] = coefs\n",
    "f.close()\n",
    "\n",
    "print('Found %s word vectors.' % len(embeddings_index))"
   ]
  },
  {
   "cell_type": "code",
   "execution_count": 146,
   "id": "3ae4a033",
   "metadata": {},
   "outputs": [],
   "source": [
    "pickle.dump({'embeddings_index' : embeddings_index } , open('../../PreProcessedData/Requirement/save.glove.6B.100d.txt', 'wb'))"
   ]
  },
  {
   "cell_type": "code",
   "execution_count": 147,
   "id": "457af394",
   "metadata": {},
   "outputs": [],
   "source": [
    "MAX_TOKENS = 100\n",
    "MAX_TITLE_LENGTH = 21\n",
    "MAX_DESCRIPTION_LENGTH = 350\n",
    "EMBEDDING_DIM = 100"
   ]
  },
  {
   "cell_type": "code",
   "execution_count": 148,
   "id": "3d4c508c",
   "metadata": {},
   "outputs": [],
   "source": [
    "def build_vocab(sentences: List[str], sequence_length: int):\n",
    "    vectorizer = TextVectorization(max_tokens=MAX_TOKENS - 2,output_sequence_length=sequence_length)\n",
    "    vectorizer.adapt(sentences)\n",
    "    vocab = vectorizer.get_vocabulary()\n",
    "    word_index = dict(zip(vocab, range(len(vocab))))\n",
    "\n",
    "    return vectorizer, word_index"
   ]
  },
  {
   "cell_type": "code",
   "execution_count": 149,
   "id": "c4031c58",
   "metadata": {},
   "outputs": [],
   "source": [
    "def create_embedding_matrix(embeddings_index: Dict[str, np.ndarray],word_index: Dict[str, int],verbose=False):\n",
    "    hits = 0\n",
    "    misses = 0\n",
    "\n",
    "    #To initialize Embedding Matrix\n",
    "    embedding_matrix = np.zeros((MAX_TOKENS, EMBEDDING_DIM))\n",
    "    for word, i in word_index.items():\n",
    "        embedding_vector = embeddings_index.get(word)\n",
    "        if embedding_vector is not None:\n",
    "        # Words not found in Embedding Index will zeros.\n",
    "        # This includes the representation for \"Padding\" and \"OOV\"\n",
    "            embedding_matrix[i] = embedding_vector\n",
    "            hits += 1\n",
    "        else:\n",
    "            misses += 1\n",
    "\n",
    "    if verbose:\n",
    "        print('Embedding shape:', embedding_matrix.shape)\n",
    "        print(f'Found {hits} words, missed {misses}.')\n",
    "\n",
    "    return embedding_matrix"
   ]
  },
  {
   "cell_type": "code",
   "execution_count": 150,
   "id": "1e11ee54",
   "metadata": {},
   "outputs": [],
   "source": [
    "#Preprocessing Dataset\n",
    "def preprocessing_data(df_original, similarity, sample_n):\n",
    "    df_original = df_original.sample(n=sample_n, random_state=1).reset_index(drop=True)\n",
    "    \n",
    "    df = pd.DataFrame()\n",
    "\n",
    "    df['Unnamed: 0'] = df_original['Unnamed: 0']\n",
    "    df['description1'] = df_original['Description1']\n",
    "    df['description2'] = df_original['Description2']\n",
    "    df['is_similar'] = df_original['is_similar']\n",
    "\n",
    "    df['description1'] = df['description1'].str.replace('[','').str.replace(']','')\n",
    "    df['description2'] = df['description2'].str.replace('[','').str.replace(']','')\n",
    "\n",
    "    df['description1'] = df['description1'].str.replace(\"'\", \"\")\n",
    "    df['description2'] = df['description2'].str.replace(\"'\", \"\")\n",
    "\n",
    "    df.loc[df['is_similar'] == 1, 'Textual_Similarity'] = similarity\n",
    "    \n",
    "    #To show Data\n",
    "    display(df.head())\n",
    "    \n",
    "    return df"
   ]
  },
  {
   "cell_type": "markdown",
   "id": "592337dd",
   "metadata": {},
   "source": [
    "# Eclipse Visualization\n",
    "#### Textually Similar"
   ]
  },
  {
   "cell_type": "code",
   "execution_count": 151,
   "id": "70084e80",
   "metadata": {},
   "outputs": [
    {
     "data": {
      "text/html": [
       "<div>\n",
       "<style scoped>\n",
       "    .dataframe tbody tr th:only-of-type {\n",
       "        vertical-align: middle;\n",
       "    }\n",
       "\n",
       "    .dataframe tbody tr th {\n",
       "        vertical-align: top;\n",
       "    }\n",
       "\n",
       "    .dataframe thead th {\n",
       "        text-align: right;\n",
       "    }\n",
       "</style>\n",
       "<table border=\"1\" class=\"dataframe\">\n",
       "  <thead>\n",
       "    <tr style=\"text-align: right;\">\n",
       "      <th></th>\n",
       "      <th>Unnamed: 0</th>\n",
       "      <th>description1</th>\n",
       "      <th>description2</th>\n",
       "      <th>is_similar</th>\n",
       "      <th>Textual_Similarity</th>\n",
       "    </tr>\n",
       "  </thead>\n",
       "  <tbody>\n",
       "    <tr>\n",
       "      <th>0</th>\n",
       "      <td>391</td>\n",
       "      <td>since the upgrade to     the keyboard shortcut...</td>\n",
       "      <td>after recent upgrade from     integration buil...</td>\n",
       "      <td>1</td>\n",
       "      <td>Textually Similar</td>\n",
       "    </tr>\n",
       "    <tr>\n",
       "      <th>1</th>\n",
       "      <td>459</td>\n",
       "      <td>package     public record         package     ...</td>\n",
       "      <td>using build id      create a record   public r...</td>\n",
       "      <td>1</td>\n",
       "      <td>Textually Similar</td>\n",
       "    </tr>\n",
       "    <tr>\n",
       "      <th>2</th>\n",
       "      <td>490</td>\n",
       "      <td>i used to have an ubuntu     vm  but i discove...</td>\n",
       "      <td>created attachment   error log  hi   using    ...</td>\n",
       "      <td>1</td>\n",
       "      <td>Textually Similar</td>\n",
       "    </tr>\n",
       "    <tr>\n",
       "      <th>3</th>\n",
       "      <td>39</td>\n",
       "      <td>what steps will reproduce the problem      win...</td>\n",
       "      <td>created attachment   screenshot of menu bar  n...</td>\n",
       "      <td>1</td>\n",
       "      <td>Textually Similar</td>\n",
       "    </tr>\n",
       "    <tr>\n",
       "      <th>4</th>\n",
       "      <td>302</td>\n",
       "      <td>the following problem was reported via the aut...</td>\n",
       "      <td>using oxygen   build id        entry org eclip...</td>\n",
       "      <td>1</td>\n",
       "      <td>Textually Similar</td>\n",
       "    </tr>\n",
       "  </tbody>\n",
       "</table>\n",
       "</div>"
      ],
      "text/plain": [
       "   Unnamed: 0                                       description1  \\\n",
       "0         391  since the upgrade to     the keyboard shortcut...   \n",
       "1         459  package     public record         package     ...   \n",
       "2         490  i used to have an ubuntu     vm  but i discove...   \n",
       "3          39  what steps will reproduce the problem      win...   \n",
       "4         302  the following problem was reported via the aut...   \n",
       "\n",
       "                                        description2  is_similar  \\\n",
       "0  after recent upgrade from     integration buil...           1   \n",
       "1  using build id      create a record   public r...           1   \n",
       "2  created attachment   error log  hi   using    ...           1   \n",
       "3  created attachment   screenshot of menu bar  n...           1   \n",
       "4  using oxygen   build id        entry org eclip...           1   \n",
       "\n",
       "  Textual_Similarity  \n",
       "0  Textually Similar  \n",
       "1  Textually Similar  \n",
       "2  Textually Similar  \n",
       "3  Textually Similar  \n",
       "4  Textually Similar  "
      ]
     },
     "metadata": {},
     "output_type": "display_data"
    },
    {
     "name": "stdout",
     "output_type": "stream",
     "text": [
      "Embedding shape: (100, 100)\n",
      "Found 82 words, missed 16.\n"
     ]
    }
   ],
   "source": [
    "df_sim_eclipse_og = pd.read_csv('../../PreProcessedData/Eclipse/Eclipse_textually_similar_pair.csv')\n",
    "df_sim_eclipse =  preprocessing_data(df_sim_eclipse_og, 'Textually Similar', 100)\n",
    "\n",
    "descr_vectorizer, descr_word_index = build_vocab([df_sim_eclipse.description1, df_sim_eclipse.description2],MAX_DESCRIPTION_LENGTH)\n",
    "\n",
    "#To Create Embedding Matrix of Description\n",
    "descr_embedding_matrix = create_embedding_matrix(embeddings_index, descr_word_index, True)"
   ]
  },
  {
   "cell_type": "code",
   "execution_count": 152,
   "id": "fdb782cc",
   "metadata": {},
   "outputs": [],
   "source": [
    "#Picking top 100 points as TSNE takes a lot of time for 15K points\n",
    "top_100_sim_eclipse = descr_embedding_matrix\n",
    "\n",
    "model_sim_eclipse = TSNE(n_components=2, random_state=0, perplexity = 40, n_iter=7000, metric='cosine')\n",
    "\n",
    "#Configuring the Parameters\n",
    "tsne_data_sim_eclipse = model_sim_eclipse.fit_transform(top_100_sim_eclipse)\n",
    "\n",
    "sim_label_eclipse = df_sim_eclipse[\"Textual_Similarity\"]\n",
    "tsne_data_sim_eclipse = np.vstack((tsne_data_sim_eclipse.T, sim_label_eclipse)).T\n",
    "tsne_df_sim_eclipse = pd.DataFrame(data=tsne_data_sim_eclipse, columns=(\"Dim_1\", \"Dim_2\",\"Textual_Similarity\"))"
   ]
  },
  {
   "cell_type": "markdown",
   "id": "519fdd6e",
   "metadata": {},
   "source": [
    "#### Textually Dissimilar "
   ]
  },
  {
   "cell_type": "code",
   "execution_count": 153,
   "id": "a45735c1",
   "metadata": {},
   "outputs": [
    {
     "data": {
      "text/html": [
       "<div>\n",
       "<style scoped>\n",
       "    .dataframe tbody tr th:only-of-type {\n",
       "        vertical-align: middle;\n",
       "    }\n",
       "\n",
       "    .dataframe tbody tr th {\n",
       "        vertical-align: top;\n",
       "    }\n",
       "\n",
       "    .dataframe thead th {\n",
       "        text-align: right;\n",
       "    }\n",
       "</style>\n",
       "<table border=\"1\" class=\"dataframe\">\n",
       "  <thead>\n",
       "    <tr style=\"text-align: right;\">\n",
       "      <th></th>\n",
       "      <th>Unnamed: 0</th>\n",
       "      <th>description1</th>\n",
       "      <th>description2</th>\n",
       "      <th>is_similar</th>\n",
       "      <th>Textual_Similarity</th>\n",
       "    </tr>\n",
       "  </thead>\n",
       "  <tbody>\n",
       "    <tr>\n",
       "      <th>0</th>\n",
       "      <td>345</td>\n",
       "      <td>when rebuilding the bindings manually  i see t...</td>\n",
       "      <td>now that the epl     has been fully rolled out...</td>\n",
       "      <td>1</td>\n",
       "      <td>Textually Dissimilar</td>\n",
       "    </tr>\n",
       "    <tr>\n",
       "      <th>1</th>\n",
       "      <td>190</td>\n",
       "      <td>can not access our hipp     tried to restart  ...</td>\n",
       "      <td>hi   cannot open</td>\n",
       "      <td>1</td>\n",
       "      <td>Textually Dissimilar</td>\n",
       "    </tr>\n",
       "    <tr>\n",
       "      <th>2</th>\n",
       "      <td>685</td>\n",
       "      <td>i have the following code    final boolean ann...</td>\n",
       "      <td>the current null analysis in ecj does not reco...</td>\n",
       "      <td>1</td>\n",
       "      <td>Textually Dissimilar</td>\n",
       "    </tr>\n",
       "    <tr>\n",
       "      <th>3</th>\n",
       "      <td>191</td>\n",
       "      <td>hello  the kura hipp is unavailable  i ve trie...</td>\n",
       "      <td>hi   cannot open</td>\n",
       "      <td>1</td>\n",
       "      <td>Textually Dissimilar</td>\n",
       "    </tr>\n",
       "    <tr>\n",
       "      <th>4</th>\n",
       "      <td>644</td>\n",
       "      <td>all the builds kicked off from    are  waiting...</td>\n",
       "      <td>e g     lib job master   console   umbrella jo...</td>\n",
       "      <td>1</td>\n",
       "      <td>Textually Dissimilar</td>\n",
       "    </tr>\n",
       "  </tbody>\n",
       "</table>\n",
       "</div>"
      ],
      "text/plain": [
       "   Unnamed: 0                                       description1  \\\n",
       "0         345  when rebuilding the bindings manually  i see t...   \n",
       "1         190  can not access our hipp     tried to restart  ...   \n",
       "2         685  i have the following code    final boolean ann...   \n",
       "3         191  hello  the kura hipp is unavailable  i ve trie...   \n",
       "4         644  all the builds kicked off from    are  waiting...   \n",
       "\n",
       "                                        description2  is_similar  \\\n",
       "0  now that the epl     has been fully rolled out...           1   \n",
       "1                                 hi   cannot open             1   \n",
       "2  the current null analysis in ecj does not reco...           1   \n",
       "3                                 hi   cannot open             1   \n",
       "4  e g     lib job master   console   umbrella jo...           1   \n",
       "\n",
       "     Textual_Similarity  \n",
       "0  Textually Dissimilar  \n",
       "1  Textually Dissimilar  \n",
       "2  Textually Dissimilar  \n",
       "3  Textually Dissimilar  \n",
       "4  Textually Dissimilar  "
      ]
     },
     "metadata": {},
     "output_type": "display_data"
    },
    {
     "name": "stdout",
     "output_type": "stream",
     "text": [
      "Embedding shape: (100, 100)\n",
      "Found 94 words, missed 4.\n"
     ]
    }
   ],
   "source": [
    "df_dissim_eclipse_og = pd.read_csv('../../PreProcessedData/Eclipse/Eclipse_textually_dissimilar_pair.csv')\n",
    "df_dissim_eclipse =  preprocessing_data(df_dissim_eclipse_og, 'Textually Dissimilar', 100)\n",
    "\n",
    "descr_vectorizer, descr_word_index = build_vocab([df_dissim_eclipse.description1, df_dissim_eclipse.description2],MAX_DESCRIPTION_LENGTH)\n",
    "\n",
    "#To create Embedding Matrix of Description\n",
    "descr_embedding_matrix = create_embedding_matrix(embeddings_index, descr_word_index, True)"
   ]
  },
  {
   "cell_type": "code",
   "execution_count": 154,
   "id": "4e5d5d2b",
   "metadata": {},
   "outputs": [],
   "source": [
    "#Picking top 100 points as TSNE takes a lot of time for 15K points\n",
    "top_100_dissim_eclipse = descr_embedding_matrix\n",
    "\n",
    "model_dissim_eclipse = TSNE(n_components=2, random_state=0, perplexity = 40, n_iter=7000, metric='cosine')\n",
    "\n",
    "#Configuring the Parameters\n",
    "tsne_data_dissim_eclipse = model_dissim_eclipse.fit_transform(top_100_dissim_eclipse)\n",
    "\n",
    "dissim_label_eclipse = df_dissim_eclipse[\"Textual_Similarity\"]\n",
    "tsne_data_dissim_eclipse = np.vstack((tsne_data_dissim_eclipse.T, dissim_label_eclipse)).T\n",
    "tsne_df_dissim_eclipse = pd.DataFrame(data=tsne_data_dissim_eclipse, columns=(\"Dim_1\", \"Dim_2\",\"Textual_Similarity\"))"
   ]
  },
  {
   "cell_type": "code",
   "execution_count": 155,
   "id": "5a120289",
   "metadata": {},
   "outputs": [],
   "source": [
    "#To Concatenate Textually Similar & Dissimilar Data\n",
    "complete_tsne_df_eclipse = pd.concat([tsne_df_sim_eclipse, tsne_df_dissim_eclipse], ignore_index=True)"
   ]
  },
  {
   "cell_type": "code",
   "execution_count": 156,
   "id": "c19a4a0d",
   "metadata": {},
   "outputs": [
    {
     "data": {
      "image/png": "[encoded data removed]",
      "text/plain": [
       "<Figure size 500x500 with 1 Axes>"
      ]
     },
     "metadata": {},
     "output_type": "display_data"
    }
   ],
   "source": [
    "sns.set(font_scale = 2.0)\n",
    "sns.set(rc={'figure.figsize':(1,1)})\n",
    "sns.FacetGrid(complete_tsne_df_eclipse, hue=\"Textual_Similarity\", height=5).map(plt.scatter, 'Dim_1', 'Dim_2')\n",
    "plt.legend(labels=['Textually Similar', 'Textually Dissimilar'],bbox_to_anchor=(0.79, -0.13))\n",
    "plt.xlabel('Glove Embedding Dimension 1')\n",
    "plt.ylabel('Glove Embedding Dimension 2')\n",
    "plt.title('Eclipse')\n",
    "plt.show()"
   ]
  },
  {
   "cell_type": "markdown",
   "id": "8e3eb9af",
   "metadata": {},
   "source": [
    "# Firefox Visualization\n",
    "#### Textually Similar"
   ]
  },
  {
   "cell_type": "code",
   "execution_count": 157,
   "id": "661b2190",
   "metadata": {},
   "outputs": [
    {
     "data": {
      "text/html": [
       "<div>\n",
       "<style scoped>\n",
       "    .dataframe tbody tr th:only-of-type {\n",
       "        vertical-align: middle;\n",
       "    }\n",
       "\n",
       "    .dataframe tbody tr th {\n",
       "        vertical-align: top;\n",
       "    }\n",
       "\n",
       "    .dataframe thead th {\n",
       "        text-align: right;\n",
       "    }\n",
       "</style>\n",
       "<table border=\"1\" class=\"dataframe\">\n",
       "  <thead>\n",
       "    <tr style=\"text-align: right;\">\n",
       "      <th></th>\n",
       "      <th>Unnamed: 0</th>\n",
       "      <th>description1</th>\n",
       "      <th>description2</th>\n",
       "      <th>is_similar</th>\n",
       "      <th>Textual_Similarity</th>\n",
       "    </tr>\n",
       "  </thead>\n",
       "  <tbody>\n",
       "    <tr>\n",
       "      <th>0</th>\n",
       "      <td>858</td>\n",
       "      <td>created attachment   firefox bing icon png  us...</td>\n",
       "      <td>bing released a new logo and renamed bing to m...</td>\n",
       "      <td>1</td>\n",
       "      <td>Textually Similar</td>\n",
       "    </tr>\n",
       "    <tr>\n",
       "      <th>1</th>\n",
       "      <td>989</td>\n",
       "      <td>user agent  mozilla       gecko   firefox     ...</td>\n",
       "      <td>saw this feedback          i ve now found that...</td>\n",
       "      <td>1</td>\n",
       "      <td>Textually Similar</td>\n",
       "    </tr>\n",
       "    <tr>\n",
       "      <th>2</th>\n",
       "      <td>636</td>\n",
       "      <td>created attachment   rec of the issue gif   af...</td>\n",
       "      <td>i think i have a fix incoming  but basically  ...</td>\n",
       "      <td>1</td>\n",
       "      <td>Textually Similar</td>\n",
       "    </tr>\n",
       "    <tr>\n",
       "      <th>3</th>\n",
       "      <td>734</td>\n",
       "      <td>user agent  mozilla       gecko   firefox     ...</td>\n",
       "      <td>reproducible  always  steps to reproduce     o...</td>\n",
       "      <td>1</td>\n",
       "      <td>Textually Similar</td>\n",
       "    </tr>\n",
       "    <tr>\n",
       "      <th>4</th>\n",
       "      <td>724</td>\n",
       "      <td>user agent  mozilla       gecko   firefox     ...</td>\n",
       "      <td>user agent  mozilla       gecko   firefox     ...</td>\n",
       "      <td>1</td>\n",
       "      <td>Textually Similar</td>\n",
       "    </tr>\n",
       "  </tbody>\n",
       "</table>\n",
       "</div>"
      ],
      "text/plain": [
       "   Unnamed: 0                                       description1  \\\n",
       "0         858  created attachment   firefox bing icon png  us...   \n",
       "1         989  user agent  mozilla       gecko   firefox     ...   \n",
       "2         636  created attachment   rec of the issue gif   af...   \n",
       "3         734  user agent  mozilla       gecko   firefox     ...   \n",
       "4         724  user agent  mozilla       gecko   firefox     ...   \n",
       "\n",
       "                                        description2  is_similar  \\\n",
       "0  bing released a new logo and renamed bing to m...           1   \n",
       "1  saw this feedback          i ve now found that...           1   \n",
       "2  i think i have a fix incoming  but basically  ...           1   \n",
       "3  reproducible  always  steps to reproduce     o...           1   \n",
       "4  user agent  mozilla       gecko   firefox     ...           1   \n",
       "\n",
       "  Textual_Similarity  \n",
       "0  Textually Similar  \n",
       "1  Textually Similar  \n",
       "2  Textually Similar  \n",
       "3  Textually Similar  \n",
       "4  Textually Similar  "
      ]
     },
     "metadata": {},
     "output_type": "display_data"
    },
    {
     "name": "stdout",
     "output_type": "stream",
     "text": [
      "Embedding shape: (100, 100)\n",
      "Found 96 words, missed 2.\n"
     ]
    }
   ],
   "source": [
    "df_sim_firefox_og = pd.read_csv('../../PreProcessedData/Firefox/Firefox_textually_similar_pair.csv')\n",
    "df_sim_firefox =  preprocessing_data(df_sim_firefox_og, 'Textually Similar', 100)\n",
    "\n",
    "descr_vectorizer, descr_word_index = build_vocab([df_sim_firefox.description1, df_sim_firefox.description2],MAX_DESCRIPTION_LENGTH)\n",
    "\n",
    "#To Create Embedding Matrix of Description\n",
    "descr_embedding_matrix = create_embedding_matrix(embeddings_index, descr_word_index, True)"
   ]
  },
  {
   "cell_type": "code",
   "execution_count": 158,
   "id": "617d8724",
   "metadata": {},
   "outputs": [],
   "source": [
    "#Picking top 100 points as TSNE takes a lot of time for 15K points\n",
    "top_100_sim_firefox = descr_embedding_matrix\n",
    "\n",
    "model_sim_firefox = TSNE(n_components=2, random_state=2, perplexity = 40, n_iter=7000, metric='cosine')\n",
    "\n",
    "#Configuring the Parameters\n",
    "tsne_data_sim_firefox = model_sim_firefox.fit_transform(top_100_sim_firefox)\n",
    "\n",
    "sim_label_firefox = df_sim_firefox[\"Textual_Similarity\"]\n",
    "tsne_data_sim_firefox = np.vstack((tsne_data_sim_firefox.T, sim_label_firefox)).T\n",
    "tsne_df_sim_firefox = pd.DataFrame(data=tsne_data_sim_firefox, columns=(\"Dim_1\", \"Dim_2\",\"Textual_Similarity\"))"
   ]
  },
  {
   "cell_type": "markdown",
   "id": "df405849",
   "metadata": {},
   "source": [
    "#### Textually Dissimilar "
   ]
  },
  {
   "cell_type": "code",
   "execution_count": 159,
   "id": "7e595e20",
   "metadata": {},
   "outputs": [
    {
     "data": {
      "text/html": [
       "<div>\n",
       "<style scoped>\n",
       "    .dataframe tbody tr th:only-of-type {\n",
       "        vertical-align: middle;\n",
       "    }\n",
       "\n",
       "    .dataframe tbody tr th {\n",
       "        vertical-align: top;\n",
       "    }\n",
       "\n",
       "    .dataframe thead th {\n",
       "        text-align: right;\n",
       "    }\n",
       "</style>\n",
       "<table border=\"1\" class=\"dataframe\">\n",
       "  <thead>\n",
       "    <tr style=\"text-align: right;\">\n",
       "      <th></th>\n",
       "      <th>Unnamed: 0</th>\n",
       "      <th>description1</th>\n",
       "      <th>description2</th>\n",
       "      <th>is_similar</th>\n",
       "      <th>Textual_Similarity</th>\n",
       "    </tr>\n",
       "  </thead>\n",
       "  <tbody>\n",
       "    <tr>\n",
       "      <th>0</th>\n",
       "      <td>120</td>\n",
       "      <td>filed by  philringnalda  at  gmail com     job...</td>\n",
       "      <td>filed by  philringnalda  at  gmail com     job...</td>\n",
       "      <td>1</td>\n",
       "      <td>Textually Dissimilar</td>\n",
       "    </tr>\n",
       "    <tr>\n",
       "      <th>1</th>\n",
       "      <td>1317</td>\n",
       "      <td>instant crash when you try to view source on a...</td>\n",
       "      <td>str    open a new tab with command ctrl t     ...</td>\n",
       "      <td>1</td>\n",
       "      <td>Textually Dissimilar</td>\n",
       "    </tr>\n",
       "    <tr>\n",
       "      <th>2</th>\n",
       "      <td>11</td>\n",
       "      <td>filed by  cbook  at  mozilla com     job id   ...</td>\n",
       "      <td>created attachment   notification logic png  a...</td>\n",
       "      <td>1</td>\n",
       "      <td>Textually Dissimilar</td>\n",
       "    </tr>\n",
       "    <tr>\n",
       "      <th>3</th>\n",
       "      <td>437</td>\n",
       "      <td>created attachment   screenshot from          ...</td>\n",
       "      <td>clicking on the hamburger menu icon today does...</td>\n",
       "      <td>1</td>\n",
       "      <td>Textually Dissimilar</td>\n",
       "    </tr>\n",
       "    <tr>\n",
       "      <th>4</th>\n",
       "      <td>482</td>\n",
       "      <td>hook up the sidebar switcher to the synced tab...</td>\n",
       "      <td>it s a header in the sidebar that lets you swi...</td>\n",
       "      <td>1</td>\n",
       "      <td>Textually Dissimilar</td>\n",
       "    </tr>\n",
       "  </tbody>\n",
       "</table>\n",
       "</div>"
      ],
      "text/plain": [
       "   Unnamed: 0                                       description1  \\\n",
       "0         120  filed by  philringnalda  at  gmail com     job...   \n",
       "1        1317  instant crash when you try to view source on a...   \n",
       "2          11  filed by  cbook  at  mozilla com     job id   ...   \n",
       "3         437  created attachment   screenshot from          ...   \n",
       "4         482  hook up the sidebar switcher to the synced tab...   \n",
       "\n",
       "                                        description2  is_similar  \\\n",
       "0  filed by  philringnalda  at  gmail com     job...           1   \n",
       "1  str    open a new tab with command ctrl t     ...           1   \n",
       "2  created attachment   notification logic png  a...           1   \n",
       "3  clicking on the hamburger menu icon today does...           1   \n",
       "4  it s a header in the sidebar that lets you swi...           1   \n",
       "\n",
       "     Textual_Similarity  \n",
       "0  Textually Dissimilar  \n",
       "1  Textually Dissimilar  \n",
       "2  Textually Dissimilar  \n",
       "3  Textually Dissimilar  \n",
       "4  Textually Dissimilar  "
      ]
     },
     "metadata": {},
     "output_type": "display_data"
    },
    {
     "name": "stdout",
     "output_type": "stream",
     "text": [
      "Embedding shape: (100, 100)\n",
      "Found 87 words, missed 11.\n"
     ]
    }
   ],
   "source": [
    "df_dissim_firefox_og = pd.read_csv('../../PreProcessedData/Firefox/Firefox_textually_dissimilar_pair.csv')\n",
    "df_dissim_firefox =  preprocessing_data(df_dissim_firefox_og, 'Textually Dissimilar', 100)\n",
    "\n",
    "descr_vectorizer, descr_word_index = build_vocab([df_dissim_firefox.description1, df_dissim_firefox.description2],MAX_DESCRIPTION_LENGTH)\n",
    "\n",
    "#To create Embedding Matrix of Description\n",
    "descr_embedding_matrix = create_embedding_matrix(embeddings_index, descr_word_index, True)"
   ]
  },
  {
   "cell_type": "code",
   "execution_count": 160,
   "id": "66dddb24",
   "metadata": {},
   "outputs": [],
   "source": [
    "#Picking top 100 points as TSNE takes a lot of time for 15K points\n",
    "top_100_dissim_firefox = descr_embedding_matrix\n",
    "\n",
    "model_dissim_firefox = TSNE(n_components=2, random_state=2,perplexity = 40,n_iter=7000,metric='cosine')\n",
    "\n",
    "#Configuring the Parameters\n",
    "tsne_data_dissim_firefox = model_dissim_firefox.fit_transform(top_100_dissim_firefox)\n",
    "\n",
    "dissim_label_firefox = df_dissim_firefox[\"Textual_Similarity\"]\n",
    "tsne_data_dissim_firefox = np.vstack((tsne_data_dissim_firefox.T, dissim_label_firefox)).T\n",
    "tsne_df_dissim_firefox = pd.DataFrame(data=tsne_data_dissim_firefox, columns=(\"Dim_1\", \"Dim_2\",\"Textual_Similarity\"))"
   ]
  },
  {
   "cell_type": "code",
   "execution_count": 161,
   "id": "46724bfa",
   "metadata": {},
   "outputs": [],
   "source": [
    "#To Concatenate Textually Similar & Dissimilar Data\n",
    "complete_tsne_df_firefox = pd.concat([tsne_df_sim_firefox, tsne_df_dissim_firefox], ignore_index=True)"
   ]
  },
  {
   "cell_type": "code",
   "execution_count": 162,
   "id": "6c34cdc3",
   "metadata": {},
   "outputs": [
    {
     "data": {
      "image/png": "[encoded data removed]",
      "text/plain": [
       "<Figure size 500x500 with 1 Axes>"
      ]
     },
     "metadata": {},
     "output_type": "display_data"
    }
   ],
   "source": [
    "sns.set(font_scale = 2.0)\n",
    "sns.set(rc={'figure.figsize':(1,1)})\n",
    "sns.FacetGrid(complete_tsne_df_firefox, hue=\"Textual_Similarity\", height=5).map(plt.scatter, 'Dim_1', 'Dim_2')\n",
    "plt.legend(labels=['Textually Similar', 'Textually Dissimilar'],bbox_to_anchor=(0.79, -0.13))\n",
    "plt.xlabel('Glove Embedding Dimension 1')\n",
    "plt.ylabel('Glove Embedding Dimension 2')\n",
    "plt.title('Firefox')\n",
    "plt.show()"
   ]
  },
  {
   "cell_type": "markdown",
   "id": "3ecfc56a",
   "metadata": {},
   "source": [
    "# Mobile Visualization\n",
    "#### Textually Similar"
   ]
  },
  {
   "cell_type": "code",
   "execution_count": 163,
   "id": "0784f8b9",
   "metadata": {},
   "outputs": [
    {
     "data": {
      "text/html": [
       "<div>\n",
       "<style scoped>\n",
       "    .dataframe tbody tr th:only-of-type {\n",
       "        vertical-align: middle;\n",
       "    }\n",
       "\n",
       "    .dataframe tbody tr th {\n",
       "        vertical-align: top;\n",
       "    }\n",
       "\n",
       "    .dataframe thead th {\n",
       "        text-align: right;\n",
       "    }\n",
       "</style>\n",
       "<table border=\"1\" class=\"dataframe\">\n",
       "  <thead>\n",
       "    <tr style=\"text-align: right;\">\n",
       "      <th></th>\n",
       "      <th>Unnamed: 0</th>\n",
       "      <th>description1</th>\n",
       "      <th>description2</th>\n",
       "      <th>is_similar</th>\n",
       "      <th>Textual_Similarity</th>\n",
       "    </tr>\n",
       "  </thead>\n",
       "  <tbody>\n",
       "    <tr>\n",
       "      <th>0</th>\n",
       "      <td>25</td>\n",
       "      <td>filed by    dvarga  at  mozilla com   parsed...</td>\n",
       "      <td>filed by    csabou  at  mozilla com   parsed...</td>\n",
       "      <td>1</td>\n",
       "      <td>Textually Similar</td>\n",
       "    </tr>\n",
       "    <tr>\n",
       "      <th>1</th>\n",
       "      <td>116</td>\n",
       "      <td>this bug is for crash report bp               ...</td>\n",
       "      <td>we re throwing  invalid color format   introdu...</td>\n",
       "      <td>1</td>\n",
       "      <td>Textually Similar</td>\n",
       "    </tr>\n",
       "    <tr>\n",
       "      <th>2</th>\n",
       "      <td>46</td>\n",
       "      <td>filed by    ccoroiu  at  mozilla com   parse...</td>\n",
       "      <td>filed by    apavel  at  mozilla com   parsed...</td>\n",
       "      <td>1</td>\n",
       "      <td>Textually Similar</td>\n",
       "    </tr>\n",
       "    <tr>\n",
       "      <th>3</th>\n",
       "      <td>29</td>\n",
       "      <td>filed by  apavel  at  mozilla com     job id  ...</td>\n",
       "      <td>i get the following errors today    home snorp...</td>\n",
       "      <td>1</td>\n",
       "      <td>Textually Similar</td>\n",
       "    </tr>\n",
       "    <tr>\n",
       "      <th>4</th>\n",
       "      <td>62</td>\n",
       "      <td>filed by    abutkovits  at  mozilla com   pa...</td>\n",
       "      <td>filed by    csabou  at  mozilla com   parsed...</td>\n",
       "      <td>1</td>\n",
       "      <td>Textually Similar</td>\n",
       "    </tr>\n",
       "  </tbody>\n",
       "</table>\n",
       "</div>"
      ],
      "text/plain": [
       "   Unnamed: 0                                       description1  \\\n",
       "0          25    filed by    dvarga  at  mozilla com   parsed...   \n",
       "1         116  this bug is for crash report bp               ...   \n",
       "2          46    filed by    ccoroiu  at  mozilla com   parse...   \n",
       "3          29  filed by  apavel  at  mozilla com     job id  ...   \n",
       "4          62    filed by    abutkovits  at  mozilla com   pa...   \n",
       "\n",
       "                                        description2  is_similar  \\\n",
       "0    filed by    csabou  at  mozilla com   parsed...           1   \n",
       "1  we re throwing  invalid color format   introdu...           1   \n",
       "2    filed by    apavel  at  mozilla com   parsed...           1   \n",
       "3  i get the following errors today    home snorp...           1   \n",
       "4    filed by    csabou  at  mozilla com   parsed...           1   \n",
       "\n",
       "  Textual_Similarity  \n",
       "0  Textually Similar  \n",
       "1  Textually Similar  \n",
       "2  Textually Similar  \n",
       "3  Textually Similar  \n",
       "4  Textually Similar  "
      ]
     },
     "metadata": {},
     "output_type": "display_data"
    },
    {
     "name": "stdout",
     "output_type": "stream",
     "text": [
      "Embedding shape: (100, 100)\n",
      "Found 80 words, missed 18.\n"
     ]
    }
   ],
   "source": [
    "df_sim_mobile_og = pd.read_csv('../../PreProcessedData/Mobile/Mobile_textually_similar_pair.csv')\n",
    "df_sim_mobile_og = pd.concat([df_sim_mobile_og,df_sim_mobile_og,df_sim_mobile_og])\n",
    "df_sim_mobile = preprocessing_data(df_sim_mobile_og, 'Textually Similar', 100)\n",
    "\n",
    "descr_vectorizer, descr_word_index = build_vocab([df_sim_mobile.description1, df_sim_mobile.description2],MAX_DESCRIPTION_LENGTH)\n",
    "\n",
    "#To Create Embedding Matrix of Description\n",
    "descr_embedding_matrix = create_embedding_matrix(embeddings_index, descr_word_index, True)"
   ]
  },
  {
   "cell_type": "code",
   "execution_count": 164,
   "id": "40107333",
   "metadata": {},
   "outputs": [],
   "source": [
    "#Picking top 100 points as TSNE takes a lot of time for 15K points\n",
    "top_100_sim_mobile = descr_embedding_matrix\n",
    "\n",
    "model_sim_mobile = TSNE(n_components=2, random_state=42 ,perplexity = 40, n_iter=7000, metric='cosine')\n",
    "\n",
    "#Configuring the Parameters\n",
    "tsne_data_sim_mobile = model_sim_mobile.fit_transform(top_100_sim_mobile)\n",
    "\n",
    "sim_label_mobile = df_sim_mobile[\"Textual_Similarity\"]\n",
    "tsne_data_sim_mobile = np.vstack((tsne_data_sim_mobile.T, sim_label_mobile)).T\n",
    "tsne_df_sim_mobile = pd.DataFrame(data=tsne_data_sim_mobile, columns=(\"Dim_1\", \"Dim_2\",\"Textual_Similarity\"))"
   ]
  },
  {
   "cell_type": "markdown",
   "id": "6a9a1762",
   "metadata": {},
   "source": [
    "#### Textually Dissimilar"
   ]
  },
  {
   "cell_type": "code",
   "execution_count": 165,
   "id": "77cdff94",
   "metadata": {},
   "outputs": [
    {
     "data": {
      "text/html": [
       "<div>\n",
       "<style scoped>\n",
       "    .dataframe tbody tr th:only-of-type {\n",
       "        vertical-align: middle;\n",
       "    }\n",
       "\n",
       "    .dataframe tbody tr th {\n",
       "        vertical-align: top;\n",
       "    }\n",
       "\n",
       "    .dataframe thead th {\n",
       "        text-align: right;\n",
       "    }\n",
       "</style>\n",
       "<table border=\"1\" class=\"dataframe\">\n",
       "  <thead>\n",
       "    <tr style=\"text-align: right;\">\n",
       "      <th></th>\n",
       "      <th>Unnamed: 0</th>\n",
       "      <th>description1</th>\n",
       "      <th>description2</th>\n",
       "      <th>is_similar</th>\n",
       "      <th>Textual_Similarity</th>\n",
       "    </tr>\n",
       "  </thead>\n",
       "  <tbody>\n",
       "    <tr>\n",
       "      <th>0</th>\n",
       "      <td>16</td>\n",
       "      <td>ios got an empty notification after a tab was ...</td>\n",
       "      <td>the very first notification i received was emp...</td>\n",
       "      <td>1</td>\n",
       "      <td>Textually Dissimilar</td>\n",
       "    </tr>\n",
       "    <tr>\n",
       "      <th>1</th>\n",
       "      <td>51</td>\n",
       "      <td>add a method to bvc to reify a tab from a sent...</td>\n",
       "      <td>implement the following two fxa messages api c...</td>\n",
       "      <td>1</td>\n",
       "      <td>Textually Dissimilar</td>\n",
       "    </tr>\n",
       "    <tr>\n",
       "      <th>2</th>\n",
       "      <td>34</td>\n",
       "      <td>this should be done on application foregroundi...</td>\n",
       "      <td>implement the following two fxa messages api c...</td>\n",
       "      <td>1</td>\n",
       "      <td>Textually Dissimilar</td>\n",
       "    </tr>\n",
       "    <tr>\n",
       "      <th>3</th>\n",
       "      <td>114</td>\n",
       "      <td>we ve had this for a long time  should fix it ...</td>\n",
       "      <td>we ve had this for a while  but i guess we sho...</td>\n",
       "      <td>1</td>\n",
       "      <td>Textually Dissimilar</td>\n",
       "    </tr>\n",
       "    <tr>\n",
       "      <th>4</th>\n",
       "      <td>76</td>\n",
       "      <td>when testing out the  multi account containers...</td>\n",
       "      <td>this implements the  cookiestoreid  parameter ...</td>\n",
       "      <td>1</td>\n",
       "      <td>Textually Dissimilar</td>\n",
       "    </tr>\n",
       "  </tbody>\n",
       "</table>\n",
       "</div>"
      ],
      "text/plain": [
       "   Unnamed: 0                                       description1  \\\n",
       "0          16  ios got an empty notification after a tab was ...   \n",
       "1          51  add a method to bvc to reify a tab from a sent...   \n",
       "2          34  this should be done on application foregroundi...   \n",
       "3         114  we ve had this for a long time  should fix it ...   \n",
       "4          76  when testing out the  multi account containers...   \n",
       "\n",
       "                                        description2  is_similar  \\\n",
       "0  the very first notification i received was emp...           1   \n",
       "1  implement the following two fxa messages api c...           1   \n",
       "2  implement the following two fxa messages api c...           1   \n",
       "3  we ve had this for a while  but i guess we sho...           1   \n",
       "4  this implements the  cookiestoreid  parameter ...           1   \n",
       "\n",
       "     Textual_Similarity  \n",
       "0  Textually Dissimilar  \n",
       "1  Textually Dissimilar  \n",
       "2  Textually Dissimilar  \n",
       "3  Textually Dissimilar  \n",
       "4  Textually Dissimilar  "
      ]
     },
     "metadata": {},
     "output_type": "display_data"
    },
    {
     "name": "stdout",
     "output_type": "stream",
     "text": [
      "Embedding shape: (100, 100)\n",
      "Found 85 words, missed 13.\n"
     ]
    }
   ],
   "source": [
    "df_dissim_mobile_og = pd.read_csv('../../PreProcessedData/Mobile/Mobile_textually_dissimilar_pair.csv')\n",
    "df_dissim_mobile_og = pd.concat([df_dissim_mobile_og,df_dissim_mobile_og,df_dissim_mobile_og])\n",
    "df_dissim_mobile =  preprocessing_data(df_dissim_mobile_og, 'Textually Dissimilar', 100)\n",
    "\n",
    "descr_vectorizer, descr_word_index = build_vocab([df_dissim_mobile.description1, df_dissim_mobile.description2],MAX_DESCRIPTION_LENGTH)\n",
    "\n",
    "#To create Embedding Matrix of Description\n",
    "descr_embedding_matrix = create_embedding_matrix(embeddings_index, descr_word_index, True)"
   ]
  },
  {
   "cell_type": "code",
   "execution_count": 166,
   "id": "2dae604d",
   "metadata": {},
   "outputs": [],
   "source": [
    "#Picking top 100 points as TSNE takes a lot of time for 15K points\n",
    "top_100_dissim_mobile = descr_embedding_matrix\n",
    "\n",
    "model_dissim_mobile = TSNE(n_components=2, random_state=42, perplexity = 40, n_iter=7000, metric='cosine')\n",
    "\n",
    "#Configuring the Parameters\n",
    "tsne_data_dissim_mobile = model_dissim_mobile.fit_transform(top_100_dissim_mobile)\n",
    "\n",
    "dissim_label_mobile = df_dissim_mobile[\"Textual_Similarity\"]\n",
    "tsne_data_dissim_mobile = np.vstack((tsne_data_dissim_mobile.T, dissim_label_mobile)).T\n",
    "tsne_df_dissim_mobile = pd.DataFrame(data=tsne_data_dissim_mobile, columns=(\"Dim_1\", \"Dim_2\",\"Textual_Similarity\"))"
   ]
  },
  {
   "cell_type": "code",
   "execution_count": 167,
   "id": "ade0c8ca",
   "metadata": {},
   "outputs": [],
   "source": [
    "#To Concatenate Textually Similar & Dissimilar Data\n",
    "complete_tsne_df_mobile = pd.concat([tsne_df_sim_mobile, tsne_df_dissim_mobile], ignore_index=True)"
   ]
  },
  {
   "cell_type": "code",
   "execution_count": 168,
   "id": "05988b55",
   "metadata": {},
   "outputs": [
    {
     "data": {
      "image/png": "[encoded data removed]",
      "text/plain": [
       "<Figure size 500x500 with 1 Axes>"
      ]
     },
     "metadata": {},
     "output_type": "display_data"
    }
   ],
   "source": [
    "sns.set(font_scale = 2.0)\n",
    "sns.set(rc={'figure.figsize':(1,1)})\n",
    "sns.FacetGrid(complete_tsne_df_mobile, hue=\"Textual_Similarity\", height=5).map(plt.scatter, 'Dim_1', 'Dim_2')\n",
    "plt.legend(labels=['Textually Similar', 'Textually Dissimilar'],bbox_to_anchor=(0.79, -0.13))\n",
    "plt.xlabel('Glove Embedding Dimension 1')\n",
    "plt.ylabel('Glove Embedding Dimension 2')\n",
    "plt.title('Mobile')\n",
    "plt.show()"
   ]
  }
 ],
 "metadata": {
  "kernelspec": {
   "display_name": "Python 3 (ipykernel)",
   "language": "python",
   "name": "python3"
  },
  "language_info": {
   "codemirror_mode": {
    "name": "ipython",
    "version": 3
   },
   "file_extension": ".py",
   "mimetype": "text/x-python",
   "name": "python",
   "nbconvert_exporter": "python",
   "pygments_lexer": "ipython3",
   "version": "3.10.9"
  }
 },
 "nbformat": 4,
 "nbformat_minor": 5
}
