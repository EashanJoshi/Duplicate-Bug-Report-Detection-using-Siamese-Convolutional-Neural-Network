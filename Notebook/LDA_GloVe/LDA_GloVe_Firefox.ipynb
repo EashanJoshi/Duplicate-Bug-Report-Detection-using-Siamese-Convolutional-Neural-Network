{
  "nbformat": 4,
  "nbformat_minor": 0,
  "metadata": {
    "colab": {
      "provenance": []
    },
    "kernelspec": {
      "name": "python3",
      "display_name": "Python 3"
    },
    "language_info": {
      "name": "python"
    }
  },
  "cells": [
    {
      "cell_type": "code",
      "execution_count": 1,
      "metadata": {
        "id": "NcEh6XNB_R72"
      },
      "outputs": [],
      "source": [
        "# For Installation (Required)\n",
        "!pip install pyLDAvis\n",
        "!pip install glove-python-binary"
      ]
    },
    {
      "cell_type": "code",
      "source": [
        "import pandas as pd\n",
        "import numpy as np\n",
        "import matplotlib.pyplot as plt\n",
        "%matplotlib inline\n",
        "\n",
        "import re\n",
        "import string\n",
        "import nltk\n",
        "import gensim\n",
        "import time\n",
        "import pickle\n",
        "import warnings\n",
        "warnings.filterwarnings('ignore')\n",
        "\n",
        "import pyLDAvis\n",
        "import pyLDAvis.gensim_models as gensimvis\n",
        "\n",
        "from gensim import corpora,models\n",
        "from gensim.utils import simple_preprocess\n",
        "from gensim.parsing.preprocessing import STOPWORDS\n",
        "from gensim.models import CoherenceModel\n",
        "from gensim.models import Word2Vec,FastText\n",
        "from gensim.test.utils import get_tmpfile\n",
        "\n",
        "from nltk import word_tokenize\n",
        "from nltk.corpus import stopwords\n",
        "from nltk.stem import WordNetLemmatizer, SnowballStemmer\n",
        "from nltk.stem.porter import *\n",
        "nltk.download('stopwords')\n",
        "nltk.download('wordnet')\n",
        "nltk.download('omw-1.4')\n",
        "\n",
        "from glove import Glove\n",
        "from glove import Corpus\n",
        "\n",
        "from sklearn.metrics.pairwise import cosine_similarity\n",
        "from sklearn.decomposition import PCA\n",
        "\n",
        "from scipy.spatial import distance"
      ],
      "metadata": {
        "colab": {
          "base_uri": "https://localhost:8080/"
        },
        "id": "1syBdp1UQFCa",
        "outputId": "35a41628-75ad-4007-9ba4-af8c7764a961"
      },
      "execution_count": 2,
      "outputs": [
        {
          "output_type": "stream",
          "name": "stderr",
          "text": [
            "[nltk_data] Downloading package stopwords to /root/nltk_data...\n",
            "[nltk_data]   Unzipping corpora/stopwords.zip.\n",
            "[nltk_data] Downloading package wordnet to /root/nltk_data...\n",
            "[nltk_data] Downloading package omw-1.4 to /root/nltk_data...\n"
          ]
        }
      ]
    },
    {
      "cell_type": "code",
      "source": [
        "from google.colab import drive\n",
        "drive.mount('/content/drive', force_remount=True)"
      ],
      "metadata": {
        "colab": {
          "base_uri": "https://localhost:8080/"
        },
        "id": "p8ZzbGRFIW7o",
        "outputId": "52405726-b6ca-42d4-cd3c-f6c1a357d03d"
      },
      "execution_count": 3,
      "outputs": [
        {
          "output_type": "stream",
          "name": "stdout",
          "text": [
            "Mounted at /content/drive\n"
          ]
        }
      ]
    },
    {
      "cell_type": "code",
      "source": [
        "#Import Whole Dataset\n",
        "firefox_data=pd.read_csv('/content/drive/Shareddrives/DSCI-644-Team-5/PrimaryDataset/firefox_preproccessed_whole_dataset.csv')\n",
        "\n",
        "#Cleaning the Data\n",
        "firefox_data = firefox_data.reset_index()\n",
        "firefox_data = firefox_data.drop(columns = [\"index\",\"Unnamed: 0\"])\n",
        "firefox_data = firefox_data.drop_duplicates()\n",
        "firefox_data = firefox_data.dropna(axis=0, subset=['Bug ID'])\n",
        "\n",
        "#To show Data\n",
        "firefox_data.head()"
      ],
      "metadata": {
        "colab": {
          "base_uri": "https://localhost:8080/",
          "height": 354
        },
        "id": "v5viW4TBJ8Kb",
        "outputId": "f45345f1-2983-4d74-eece-6d65f9c9d7d5"
      },
      "execution_count": 4,
      "outputs": [
        {
          "output_type": "execute_result",
          "data": {
            "text/plain": [
              "    Bug ID    Type                                            Summary  \\\n",
              "0  1399936  defect  Shield unenrolls users in active preference ex...   \n",
              "1  1387208  defect  browser_as_load_location.js is permafailing on...   \n",
              "2  1368432  defect  web.skype.com is inaccessible: SEC_ERROR_OCSP_...   \n",
              "3  1383741  defect  Perma failure when 56 merge to beta in browser...   \n",
              "4  1388753  defect  Bookmarks and history pages in Library sub men...   \n",
              "\n",
              "   Product                   Component    Status Resolution  \\\n",
              "0  Firefox             Normandy Client  VERIFIED      FIXED   \n",
              "1  Firefox                New Tab Page  RESOLVED      FIXED   \n",
              "2  Firefox                   Untriaged  RESOLVED  DUPLICATE   \n",
              "3  Firefox                 Preferences  RESOLVED      FIXED   \n",
              "4  Firefox  Toolbars and Customization  VERIFIED      FIXED   \n",
              "\n",
              "               Updated                                        Description  \\\n",
              "0  2018-01-27 11:10:40  the activity stream team is conducting a study...   \n",
              "1  2019-06-28 14:29:46  filed by  rvandermeulen  at  mozilla com     j...   \n",
              "2  2017-05-29 04:49:00  user agent  mozilla       gecko   firefox     ...   \n",
              "3  2017-07-27 02:02:17  found via uplift simulations   perma failure w...   \n",
              "4  2017-09-22 10:09:03  user agent  mozilla       gecko   firefox     ...   \n",
              "\n",
              "   Duplicate_Bug_Ids  \n",
              "0                NaN  \n",
              "1                NaN  \n",
              "2          1368433.0  \n",
              "3                NaN  \n",
              "4                NaN  "
            ],
            "text/html": [
              "\n",
              "  <div id=\"df-a30e5d90-3031-4674-8294-76f6f151b022\">\n",
              "    <div class=\"colab-df-container\">\n",
              "      <div>\n",
              "<style scoped>\n",
              "    .dataframe tbody tr th:only-of-type {\n",
              "        vertical-align: middle;\n",
              "    }\n",
              "\n",
              "    .dataframe tbody tr th {\n",
              "        vertical-align: top;\n",
              "    }\n",
              "\n",
              "    .dataframe thead th {\n",
              "        text-align: right;\n",
              "    }\n",
              "</style>\n",
              "<table border=\"1\" class=\"dataframe\">\n",
              "  <thead>\n",
              "    <tr style=\"text-align: right;\">\n",
              "      <th></th>\n",
              "      <th>Bug ID</th>\n",
              "      <th>Type</th>\n",
              "      <th>Summary</th>\n",
              "      <th>Product</th>\n",
              "      <th>Component</th>\n",
              "      <th>Status</th>\n",
              "      <th>Resolution</th>\n",
              "      <th>Updated</th>\n",
              "      <th>Description</th>\n",
              "      <th>Duplicate_Bug_Ids</th>\n",
              "    </tr>\n",
              "  </thead>\n",
              "  <tbody>\n",
              "    <tr>\n",
              "      <th>0</th>\n",
              "      <td>1399936</td>\n",
              "      <td>defect</td>\n",
              "      <td>Shield unenrolls users in active preference ex...</td>\n",
              "      <td>Firefox</td>\n",
              "      <td>Normandy Client</td>\n",
              "      <td>VERIFIED</td>\n",
              "      <td>FIXED</td>\n",
              "      <td>2018-01-27 11:10:40</td>\n",
              "      <td>the activity stream team is conducting a study...</td>\n",
              "      <td>NaN</td>\n",
              "    </tr>\n",
              "    <tr>\n",
              "      <th>1</th>\n",
              "      <td>1387208</td>\n",
              "      <td>defect</td>\n",
              "      <td>browser_as_load_location.js is permafailing on...</td>\n",
              "      <td>Firefox</td>\n",
              "      <td>New Tab Page</td>\n",
              "      <td>RESOLVED</td>\n",
              "      <td>FIXED</td>\n",
              "      <td>2019-06-28 14:29:46</td>\n",
              "      <td>filed by  rvandermeulen  at  mozilla com     j...</td>\n",
              "      <td>NaN</td>\n",
              "    </tr>\n",
              "    <tr>\n",
              "      <th>2</th>\n",
              "      <td>1368432</td>\n",
              "      <td>defect</td>\n",
              "      <td>web.skype.com is inaccessible: SEC_ERROR_OCSP_...</td>\n",
              "      <td>Firefox</td>\n",
              "      <td>Untriaged</td>\n",
              "      <td>RESOLVED</td>\n",
              "      <td>DUPLICATE</td>\n",
              "      <td>2017-05-29 04:49:00</td>\n",
              "      <td>user agent  mozilla       gecko   firefox     ...</td>\n",
              "      <td>1368433.0</td>\n",
              "    </tr>\n",
              "    <tr>\n",
              "      <th>3</th>\n",
              "      <td>1383741</td>\n",
              "      <td>defect</td>\n",
              "      <td>Perma failure when 56 merge to beta in browser...</td>\n",
              "      <td>Firefox</td>\n",
              "      <td>Preferences</td>\n",
              "      <td>RESOLVED</td>\n",
              "      <td>FIXED</td>\n",
              "      <td>2017-07-27 02:02:17</td>\n",
              "      <td>found via uplift simulations   perma failure w...</td>\n",
              "      <td>NaN</td>\n",
              "    </tr>\n",
              "    <tr>\n",
              "      <th>4</th>\n",
              "      <td>1388753</td>\n",
              "      <td>defect</td>\n",
              "      <td>Bookmarks and history pages in Library sub men...</td>\n",
              "      <td>Firefox</td>\n",
              "      <td>Toolbars and Customization</td>\n",
              "      <td>VERIFIED</td>\n",
              "      <td>FIXED</td>\n",
              "      <td>2017-09-22 10:09:03</td>\n",
              "      <td>user agent  mozilla       gecko   firefox     ...</td>\n",
              "      <td>NaN</td>\n",
              "    </tr>\n",
              "  </tbody>\n",
              "</table>\n",
              "</div>\n",
              "      <button class=\"colab-df-convert\" onclick=\"convertToInteractive('df-a30e5d90-3031-4674-8294-76f6f151b022')\"\n",
              "              title=\"Convert this dataframe to an interactive table.\"\n",
              "              style=\"display:none;\">\n",
              "        \n",
              "  <svg xmlns=\"http://www.w3.org/2000/svg\" height=\"24px\"viewBox=\"0 0 24 24\"\n",
              "       width=\"24px\">\n",
              "    <path d=\"M0 0h24v24H0V0z\" fill=\"none\"/>\n",
              "    <path d=\"M18.56 5.44l.94 2.06.94-2.06 2.06-.94-2.06-.94-.94-2.06-.94 2.06-2.06.94zm-11 1L8.5 8.5l.94-2.06 2.06-.94-2.06-.94L8.5 2.5l-.94 2.06-2.06.94zm10 10l.94 2.06.94-2.06 2.06-.94-2.06-.94-.94-2.06-.94 2.06-2.06.94z\"/><path d=\"M17.41 7.96l-1.37-1.37c-.4-.4-.92-.59-1.43-.59-.52 0-1.04.2-1.43.59L10.3 9.45l-7.72 7.72c-.78.78-.78 2.05 0 2.83L4 21.41c.39.39.9.59 1.41.59.51 0 1.02-.2 1.41-.59l7.78-7.78 2.81-2.81c.8-.78.8-2.07 0-2.86zM5.41 20L4 18.59l7.72-7.72 1.47 1.35L5.41 20z\"/>\n",
              "  </svg>\n",
              "      </button>\n",
              "      \n",
              "  <style>\n",
              "    .colab-df-container {\n",
              "      display:flex;\n",
              "      flex-wrap:wrap;\n",
              "      gap: 12px;\n",
              "    }\n",
              "\n",
              "    .colab-df-convert {\n",
              "      background-color: #E8F0FE;\n",
              "      border: none;\n",
              "      border-radius: 50%;\n",
              "      cursor: pointer;\n",
              "      display: none;\n",
              "      fill: #1967D2;\n",
              "      height: 32px;\n",
              "      padding: 0 0 0 0;\n",
              "      width: 32px;\n",
              "    }\n",
              "\n",
              "    .colab-df-convert:hover {\n",
              "      background-color: #E2EBFA;\n",
              "      box-shadow: 0px 1px 2px rgba(60, 64, 67, 0.3), 0px 1px 3px 1px rgba(60, 64, 67, 0.15);\n",
              "      fill: #174EA6;\n",
              "    }\n",
              "\n",
              "    [theme=dark] .colab-df-convert {\n",
              "      background-color: #3B4455;\n",
              "      fill: #D2E3FC;\n",
              "    }\n",
              "\n",
              "    [theme=dark] .colab-df-convert:hover {\n",
              "      background-color: #434B5C;\n",
              "      box-shadow: 0px 1px 3px 1px rgba(0, 0, 0, 0.15);\n",
              "      filter: drop-shadow(0px 1px 2px rgba(0, 0, 0, 0.3));\n",
              "      fill: #FFFFFF;\n",
              "    }\n",
              "  </style>\n",
              "\n",
              "      <script>\n",
              "        const buttonEl =\n",
              "          document.querySelector('#df-a30e5d90-3031-4674-8294-76f6f151b022 button.colab-df-convert');\n",
              "        buttonEl.style.display =\n",
              "          google.colab.kernel.accessAllowed ? 'block' : 'none';\n",
              "\n",
              "        async function convertToInteractive(key) {\n",
              "          const element = document.querySelector('#df-a30e5d90-3031-4674-8294-76f6f151b022');\n",
              "          const dataTable =\n",
              "            await google.colab.kernel.invokeFunction('convertToInteractive',\n",
              "                                                     [key], {});\n",
              "          if (!dataTable) return;\n",
              "\n",
              "          const docLinkHtml = 'Like what you see? Visit the ' +\n",
              "            '<a target=\"_blank\" href=https://colab.research.google.com/notebooks/data_table.ipynb>data table notebook</a>'\n",
              "            + ' to learn more about interactive tables.';\n",
              "          element.innerHTML = '';\n",
              "          dataTable['output_type'] = 'display_data';\n",
              "          await google.colab.output.renderOutput(dataTable, element);\n",
              "          const docLink = document.createElement('div');\n",
              "          docLink.innerHTML = docLinkHtml;\n",
              "          element.appendChild(docLink);\n",
              "        }\n",
              "      </script>\n",
              "    </div>\n",
              "  </div>\n",
              "  "
            ]
          },
          "metadata": {},
          "execution_count": 4
        }
      ]
    },
    {
      "cell_type": "code",
      "source": [
        "#To show Info\n",
        "firefox_data.info()"
      ],
      "metadata": {
        "colab": {
          "base_uri": "https://localhost:8080/"
        },
        "id": "ouXQWHvH9EjI",
        "outputId": "05f7b7a1-5343-416d-9a70-461ac5aae645"
      },
      "execution_count": 5,
      "outputs": [
        {
          "output_type": "stream",
          "name": "stdout",
          "text": [
            "<class 'pandas.core.frame.DataFrame'>\n",
            "Int64Index: 38290 entries, 0 to 38289\n",
            "Data columns (total 10 columns):\n",
            " #   Column             Non-Null Count  Dtype  \n",
            "---  ------             --------------  -----  \n",
            " 0   Bug ID             38290 non-null  int64  \n",
            " 1   Type               38290 non-null  object \n",
            " 2   Summary            38290 non-null  object \n",
            " 3   Product            38290 non-null  object \n",
            " 4   Component          38290 non-null  object \n",
            " 5   Status             38290 non-null  object \n",
            " 6   Resolution         38290 non-null  object \n",
            " 7   Updated            38290 non-null  object \n",
            " 8   Description        38290 non-null  object \n",
            " 9   Duplicate_Bug_Ids  7859 non-null   float64\n",
            "dtypes: float64(1), int64(1), object(8)\n",
            "memory usage: 3.2+ MB\n"
          ]
        }
      ]
    },
    {
      "cell_type": "markdown",
      "source": [
        "# **Cleaning and Preprocessing**"
      ],
      "metadata": {
        "id": "grF-2qVVK5pF"
      }
    },
    {
      "cell_type": "code",
      "source": [
        "#Text Cleaning to Remove Punctuations\n",
        "def clean_text_round_1(text):\n",
        "    text = re.sub(r'\\w*\\d\\w*', '', text)\n",
        "    text = re.sub(r'\\w*\\f\\w*', '', text)\n",
        "    text = re.sub(r'\\(.*?\\)', '', text)\n",
        "    text = re.sub(r'\\[.*]\\)', '', text)\n",
        "    text = text.lower()\n",
        "    text = re.sub(r'[%s]' % re.escape(string.punctuation), '', text)\n",
        "    return text\n",
        "\n",
        "round1 = lambda x: clean_text_round_1(x)\n",
        "\n",
        "#Text Cleaning to Remove Additional Punctuations\n",
        "def clean_text_round_2(text):\n",
        "    text = re.sub(r'[‘’“”…]', '', text)\n",
        "    text = re.sub(r'\\n', '', text)\n",
        "    text = re.sub(r'\\t', '', text)\n",
        "    return text\n",
        "\n",
        "round2 = lambda x: clean_text_round_2(x)"
      ],
      "metadata": {
        "id": "jJQmEzp_LEfg"
      },
      "execution_count": 6,
      "outputs": []
    },
    {
      "cell_type": "code",
      "source": [
        "#To Clean Data in 'Description' Column\n",
        "firefox_data[\"Description\"]= firefox_data[\"Description\"].str.replace(\"fixed in HEAD\", \"\", case = False)\n",
        "firefox_data[\"Description\"]= firefox_data[\"Description\"].str.replace(\"has been marked as readonly\", \" \", case = False)\n",
        "\n",
        "firefox_data = firefox_data.dropna(axis=0, subset=['Description'])\n",
        "\n",
        "firefox_data['Description'] = firefox_data['Description'].apply(clean_text_round_1)\n",
        "firefox_data['Description'] = firefox_data['Description'].apply(clean_text_round_2)\n",
        "\n",
        "#To show Info\n",
        "firefox_data.info()"
      ],
      "metadata": {
        "colab": {
          "base_uri": "https://localhost:8080/"
        },
        "id": "LWHbWUCOLHLt",
        "outputId": "ad60511b-6399-41b3-d4d8-6a557604320b"
      },
      "execution_count": 7,
      "outputs": [
        {
          "output_type": "stream",
          "name": "stdout",
          "text": [
            "<class 'pandas.core.frame.DataFrame'>\n",
            "Int64Index: 38290 entries, 0 to 38289\n",
            "Data columns (total 10 columns):\n",
            " #   Column             Non-Null Count  Dtype  \n",
            "---  ------             --------------  -----  \n",
            " 0   Bug ID             38290 non-null  int64  \n",
            " 1   Type               38290 non-null  object \n",
            " 2   Summary            38290 non-null  object \n",
            " 3   Product            38290 non-null  object \n",
            " 4   Component          38290 non-null  object \n",
            " 5   Status             38290 non-null  object \n",
            " 6   Resolution         38290 non-null  object \n",
            " 7   Updated            38290 non-null  object \n",
            " 8   Description        38290 non-null  object \n",
            " 9   Duplicate_Bug_Ids  7859 non-null   float64\n",
            "dtypes: float64(1), int64(1), object(8)\n",
            "memory usage: 3.2+ MB\n"
          ]
        }
      ]
    },
    {
      "cell_type": "code",
      "source": [
        "#Helper Functions for Preprocessing\n",
        "def lemmatize(text):\n",
        "    return WordNetLemmatizer().lemmatize(text, pos='v')\n",
        "\n",
        "def preprocess(text):\n",
        "    result = []\n",
        "    for token in gensim.utils.simple_preprocess(text):\n",
        "        if token not in gensim.parsing.preprocessing.STOPWORDS and len(token) > 5:\n",
        "            result.append(lemmatize(token))\n",
        "    return result"
      ],
      "metadata": {
        "id": "mcLs5MXnLIbv"
      },
      "execution_count": 8,
      "outputs": []
    },
    {
      "cell_type": "code",
      "source": [
        "#To Preprocess Data in 'Description' Column\n",
        "firefox_data['Description'] = firefox_data['Description'].map(preprocess)\n",
        "\n",
        "print('Null Duplicate Bug Ids: ',firefox_data['Duplicate_Bug_Ids'].isnull().sum())\n",
        "\n",
        "#To save Duplicate Reports in a CSV File\n",
        "duplicate_reports = firefox_data.dropna(axis=0, subset=['Duplicate_Bug_Ids'])\n",
        "duplicate_reports.reset_index(drop=True)\n",
        "duplicate_reports.to_csv('firefox_duplicate_reports.csv')\n",
        "\n",
        "#Seperating all the master reports into a dataframe\n",
        "master_reports = firefox_data[firefox_data.isnull().any(axis=1)]\n",
        "master_reports.reset_index(drop=True)\n",
        "\n",
        "print('NA Values in Master Report: ', master_reports.Description.isna().sum())\n",
        "\n",
        "#To save Master Reports in a CSV File\n",
        "master_reports.to_csv('firefox_master_reports.csv')"
      ],
      "metadata": {
        "colab": {
          "base_uri": "https://localhost:8080/"
        },
        "id": "AwPul_AbLJlH",
        "outputId": "1c9cd887-4a7e-4fb3-a695-e9ad854b1286"
      },
      "execution_count": 9,
      "outputs": [
        {
          "output_type": "stream",
          "name": "stdout",
          "text": [
            "Null Duplicate Bug Ids:  30431\n",
            "NA Values in Master Report:  0\n"
          ]
        }
      ]
    },
    {
      "cell_type": "code",
      "source": [
        "#Import Master Reports\n",
        "master_reports = pd.read_csv('firefox_master_reports.csv')\n",
        "master_reports = master_reports.drop(columns=['Unnamed: 0'])\n",
        "\n",
        "#To Preprocess Data in 'Description' Column\n",
        "master_reports['Description'] = master_reports['Description'].map(preprocess)"
      ],
      "metadata": {
        "id": "uqeosVKfcC1Y"
      },
      "execution_count": 10,
      "outputs": []
    },
    {
      "cell_type": "code",
      "source": [
        "#To Create a Dictionary\n",
        "dictionary = gensim.corpora.Dictionary(master_reports['Description'])\n",
        "dictionary.filter_extremes(no_below=15, no_above=0.5, keep_n=100000)\n",
        "\n",
        "#To Create BoW a Dictionary\n",
        "bow_corpus = [dictionary.doc2bow(doc) for doc in master_reports['Description']]"
      ],
      "metadata": {
        "id": "ugoAnV19Lfsq"
      },
      "execution_count": 11,
      "outputs": []
    },
    {
      "cell_type": "code",
      "source": [
        "#To Open Pickle File\n",
        "file_bow = open('firefox_bow_corpus.pickle', 'wb')\n",
        "\n",
        "#To dump BoW data in Pickle File\n",
        "pickle.dump(bow_corpus, file_bow)\n",
        "\n",
        "#To Open Pickle File\n",
        "file_dict = open('firefox_dictionary.pickle', 'wb')\n",
        "\n",
        "#To dump Dictionary data in Pickle File\n",
        "pickle.dump(dictionary, file_dict)"
      ],
      "metadata": {
        "id": "CWyz-rCKMc61"
      },
      "execution_count": 12,
      "outputs": []
    },
    {
      "cell_type": "code",
      "source": [
        "#Parameters for LDA Model\n",
        "corpus = bow_corpus\n",
        "no_of_topics = 10\n",
        "dictionary = dictionary\n",
        "p = 20\n",
        "k = 2\n",
        "epochs = 100\n",
        "\n",
        "#Training the LDA model on the BoW corpus\n",
        "lda_model = gensim.models.LdaMulticore(corpus, num_topics=no_of_topics, id2word=dictionary, passes=p, workers=k, iterations=epochs)"
      ],
      "metadata": {
        "id": "QQvR0qf-Meig"
      },
      "execution_count": 1,
      "outputs": []
    },
    {
      "cell_type": "code",
      "source": [
        "#Saving the Model\n",
        "lda_model.save('firefox_lda_model.model')"
      ],
      "metadata": {
        "id": "d1mVcjWfMfsw",
        "colab": {
          "base_uri": "https://localhost:8080/"
        },
        "outputId": "d36a5a6a-4ef7-4328-e934-af61c8803aa8"
      },
      "execution_count": 14,
      "outputs": [
        {
          "output_type": "stream",
          "name": "stderr",
          "text": [
            "/usr/local/lib/python3.8/dist-packages/smart_open/smart_open_lib.py:496: DeprecationWarning: This function is deprecated.  See https://github.com/RaRe-Technologies/smart_open/blob/develop/MIGRATING_FROM_OLDER_VERSIONS.rst for more information\n",
            "  warnings.warn(message, category=DeprecationWarning)\n",
            "/usr/local/lib/python3.8/dist-packages/smart_open/smart_open_lib.py:496: DeprecationWarning: This function is deprecated.  See https://github.com/RaRe-Technologies/smart_open/blob/develop/MIGRATING_FROM_OLDER_VERSIONS.rst for more information\n",
            "  warnings.warn(message, category=DeprecationWarning)\n",
            "/usr/local/lib/python3.8/dist-packages/smart_open/smart_open_lib.py:496: DeprecationWarning: This function is deprecated.  See https://github.com/RaRe-Technologies/smart_open/blob/develop/MIGRATING_FROM_OLDER_VERSIONS.rst for more information\n",
            "  warnings.warn(message, category=DeprecationWarning)\n"
          ]
        }
      ]
    },
    {
      "cell_type": "code",
      "source": [
        "#Evaluation of Model\n",
        "\n",
        "#Perplexity\n",
        "print('Perplexity: ', lda_model.log_perplexity(bow_corpus))  \n",
        "\n",
        "#Coherence Score\n",
        "coherence_model_lda = CoherenceModel(model=lda_model, texts=firefox_data['Description'], dictionary=dictionary, coherence='c_v')\n",
        "print('\\nCoherence Score: ', coherence_model_lda.get_coherence())"
      ],
      "metadata": {
        "colab": {
          "base_uri": "https://localhost:8080/"
        },
        "id": "AGhi5UmVNKdJ",
        "outputId": "03b7e03d-3146-4ef2-8a11-2a788b29db49"
      },
      "execution_count": 2,
      "outputs": [
        {
          "output_type": "stream",
          "name": "stdout",
          "text": [
            "Perplexity:  -5.485928713312202\n",
            "\n",
            "Coherence Score:  0.5390895826383824\n"
          ]
        }
      ]
    },
    {
      "cell_type": "code",
      "source": [
        "pyLDAvis.enable_notebook()\n",
        "vis = pyLDAvis.gensim_models.prepare(lda_model, bow_corpus, dictionary)"
      ],
      "metadata": {
        "id": "KPD4vluDNMC4"
      },
      "execution_count": 16,
      "outputs": []
    },
    {
      "cell_type": "code",
      "source": [
        "#Visualization\n",
        "vis"
      ],
      "metadata": {
        "colab": {
          "base_uri": "https://localhost:8080/",
          "height": 881
        },
        "id": "T_mrYYeu_mF2",
        "outputId": "9bdea34f-d878-4796-c0ea-9ee36e05856d"
      },
      "execution_count": 17,
      "outputs": [
        {
          "output_type": "execute_result",
          "data": {
            "text/plain": [
              "PreparedData(topic_coordinates=              x         y  topics  cluster       Freq\n",
              "topic                                                \n",
              "6      0.192609 -0.179711       1        1  27.765300\n",
              "4     -0.208116 -0.073758       2        1  16.293659\n",
              "3     -0.247777 -0.089970       3        1  10.582644\n",
              "8      0.230086 -0.172904       4        1  10.007827\n",
              "7     -0.187826  0.022739       5        1   8.118777\n",
              "1     -0.118048 -0.065253       6        1   6.458552\n",
              "2      0.107400  0.153176       7        1   6.447605\n",
              "5      0.266739  0.085332       8        1   6.065415\n",
              "9     -0.016631  0.008600       9        1   4.873069\n",
              "0     -0.018436  0.311748      10        1   3.387154, topic_info=           Term          Freq         Total Category  logprob  loglift\n",
              "31      browser  89363.000000  89363.000000  Default  30.0000  30.0000\n",
              "135    resource  13076.000000  13076.000000  Default  29.0000  29.0000\n",
              "868      thread  14820.000000  14820.000000  Default  28.0000  28.0000\n",
              "44      firefox  30056.000000  30056.000000  Default  27.0000  27.0000\n",
              "52       result  25813.000000  25813.000000  Default  26.0000  26.0000\n",
              "..          ...           ...           ...      ...      ...      ...\n",
              "44      firefox    732.716850  30056.069110  Topic10  -4.0502  -0.3289\n",
              "65      request    344.920412   2094.592904  Topic10  -4.8037   1.5814\n",
              "160     message    412.786950  15011.591488  Topic10  -4.6240  -0.2085\n",
              "33   extensions    348.864514   2694.537055  Topic10  -4.7923   1.3409\n",
              "320     central    344.218539   3471.509217  Topic10  -4.8057   1.0741\n",
              "\n",
              "[708 rows x 6 columns], token_table=      Topic      Freq            Term\n",
              "term                                 \n",
              "2095      1  0.995352  aboutcerterror\n",
              "2647      1  0.302215     aboutlogins\n",
              "2647      4  0.001467     aboutlogins\n",
              "2647      8  0.692454     aboutlogins\n",
              "2647     10  0.004401     aboutlogins\n",
              "...     ...       ...             ...\n",
              "448       2  0.915930         youtube\n",
              "448       3  0.074690         youtube\n",
              "448       9  0.009828         youtube\n",
              "994       1  0.931473     zombiecheck\n",
              "994       4  0.068263     zombiecheck\n",
              "\n",
              "[1541 rows x 3 columns], R=30, lambda_step=0.01, plot_opts={'xlab': 'PC1', 'ylab': 'PC2'}, topic_order=[7, 5, 4, 9, 8, 2, 3, 6, 10, 1])"
            ],
            "text/html": [
              "\n",
              "<link rel=\"stylesheet\" type=\"text/css\" href=\"https://cdn.jsdelivr.net/gh/bmabey/pyLDAvis@3.4.0/pyLDAvis/js/ldavis.v1.0.0.css\">\n",
              "\n",
              "\n",
              "<div id=\"ldavis_el4801400874046829285151212225\" style=\"background-color:white;\"></div>\n",
              "<script type=\"text/javascript\">\n",
              "\n",
              "var ldavis_el4801400874046829285151212225_data = {\"mdsDat\": {\"x\": [0.1926085726928077, -0.20811573269862438, -0.2477765209538138, 0.23008624694833693, -0.18782643433868731, -0.1180481982359509, 0.10740044022621495, 0.26673920358818043, -0.01663112433578007, -0.01843645289268366], \"y\": [-0.1797106121351357, -0.07375780663659635, -0.08996994146728587, -0.1729036265965608, 0.022738982083075347, -0.06525286558083647, 0.153176281825006, 0.08533168045290304, 0.008599662076995815, 0.31174824597843565], \"topics\": [1, 2, 3, 4, 5, 6, 7, 8, 9, 10], \"cluster\": [1, 1, 1, 1, 1, 1, 1, 1, 1, 1], \"Freq\": [27.765299936986445, 16.293658741248485, 10.582644304898823, 10.007826623693129, 8.118777276238037, 6.4585517157154495, 6.447604585846635, 6.0654145704344495, 4.8730686672606405, 3.3871535776779065]}, \"tinfo\": {\"Term\": [\"browser\", \"resource\", \"thread\", \"firefox\", \"result\", \"serial\", \"domwindow\", \"search\", \"content\", \"modules\", \"parent\", \"worker\", \"download\", \"actual\", \"reproduce\", \"mozilla\", \"components\", \"expect\", \"process\", \"console\", \"message\", \"chrome\", \"service\", \"javascript\", \"docshell\", \"attachment\", \"button\", \"affect\", \"engine\", \"checkouts\", \"mochitests\", \"contextmenu\", \"tester\", \"exectest\", \"trackingui\", \"protectionsui\", \"uitour\", \"nexttest\", \"waitforfocus\", \"focusedorloaded\", \"searchmode\", \"psutil\", \"minidumps\", \"simpletest\", \"garble\", \"tabbox\", \"syncipc\", \"breakpad\", \"tabstrip\", \"aboutcerterror\", \"underflow\", \"xulelement\", \"elapse\", \"mainthreadio\", \"aboutnewtab\", \"eventutils\", \"selectedindex\", \"reflows\", \"multiselect\", \"gurlbar\", \"mochikit\", \"mozcrash\", \"content\", \"browser\", \"urlbar\", \"uncaught\", \"sitedata\", \"components\", \"orphan\", \"zombiecheck\", \"process\", \"tabbrowser\", \"residentfast\", \"unexpected\", \"previously\", \"runtests\", \"chrome\", \"buffer\", \"screentopng\", \"performance\", \"heapallocated\", \"sessionstore\", \"preferences\", \"launch\", \"message\", \"memory\", \"screenshot\", \"finish\", \"exception\", \"artifacts\", \"public\", \"javascript\", \"mozilla\", \"window\", \"console\", \"expect\", \"applewebkit\", \"safari\", \"specialpowers\", \"freeze\", \"shippable\", \"xulstore\", \"respond\", \"reinstall\", \"stable\", \"reboot\", \"laptop\", \"explorer\", \"computers\", \"fedora\", \"amazonaws\", \"regressor\", \"suddenly\", \"perfectly\", \"outlook\", \"morning\", \"synchronize\", \"malicious\", \"unusable\", \"sensitive\", \"mailto\", \"bookmarking\", \"proceed\", \"catalina\", \"padlock\", \"repeatedly\", \"videos\", \"webpage\", \"facebook\", \"bookmarked\", \"terminal\", \"bookmarks\", \"firefox\", \"youtube\", \"desktop\", \"folder\", \"bookmark\", \"internet\", \"problem\", \"reproduce\", \"website\", \"actual\", \"result\", \"browsers\", \"normally\", \"picture\", \"expect\", \"happen\", \"account\", \"mozilla\", \"appear\", \"delete\", \"session\", \"restart\", \"attachment\", \"window\", \"create\", \"restore\", \"version\", \"windows\", \"update\", \"history\", \"toolbar\", \"google\", \"select\", \"chrome\", \"display\", \"button\", \"change\", \"platforms\", \"prerequisites\", \"reproducible\", \"precondition\", \"mozregression\", \"severity\", \"screencast\", \"awesome\", \"darker\", \"startpage\", \"chiclet\", \"horizontally\", \"magnify\", \"searchform\", \"migrations\", \"autofilled\", \"megabar\", \"aliases\", \"arrows\", \"stretch\", \"monochromatic\", \"unfocused\", \"organic\", \"russian\", \"redshift\", \"selections\", \"japanese\", \"whitespace\", \"reviewers\", \"italian\", \"affect\", \"contrast\", \"tochange\", \"fromchange\", \"density\", \"suggestion\", \"versions\", \"suggestions\", \"ubuntu\", \"attach\", \"highlight\", \"overlap\", \"hamburger\", \"additional\", \"nightly\", \"regression\", \"dropdown\", \"dismiss\", \"display\", \"observe\", \"navigate\", \"attachment\", \"windows\", \"proton\", \"create\", \"address\", \"button\", \"screen\", \"search\", \"result\", \"select\", \"profile\", \"actual\", \"expect\", \"firefox\", \"reproduce\", \"screenshot\", \"enable\", \"browser\", \"preferences\", \"serial\", \"domwindow\", \"docshell\", \"checkouts\", \"protections\", \"libxul\", \"runmessage\", \"interpreter\", \"netwerk\", \"nsthread\", \"iothread\", \"actorsparent\", \"nsappshell\", \"thirdpartyutil\", \"nstracerefcnt\", \"mmanager\", \"nsthreadmanager\", \"libeditor\", \"cansend\", \"libpref\", \"thread\", \"nsiurimutator\", \"xpcjscontext\", \"infobar\", \"madoptfreecount\", \"madoptcount\", \"mfreecount\", \"msharecount\", \"mrealloccount\", \"malloccount\", \"parent\", \"worker\", \"workspace\", \"leakcheck\", \"xpconnect\", \"messagechannel\", \"ensure\", \"channel\", \"success\", \"shutdown\", \"destroy\", \"chromium\", \"startupcache\", \"collections\", \"background\", \"process\", \"generate\", \"chrome\", \"browser\", \"mozilla\", \"message\", \"layout\", \"components\", \"common\", \"result\", \"content\", \"create\", \"pioneer\", \"protection\", \"engagement\", \"maximize\", \"stories\", \"uplift\", \"portal\", \"captive\", \"friendly\", \"breakage\", \"attack\", \"validity\", \"heuristics\", \"variant\", \"treatment\", \"impression\", \"personalize\", \"survey\", \"partner\", \"pulseaudio\", \"impressions\", \"personalization\", \"templates\", \"certerror\", \"restrict\", \"retention\", \"contentblocking\", \"discoverystream\", \"harder\", \"trivial\", \"cookies\", \"measure\", \"propose\", \"impact\", \"social\", \"confuse\", \"policy\", \"domains\", \"useful\", \"onboarding\", \"design\", \"understand\", \"currently\", \"cookie\", \"control\", \"policies\", \"trackers\", \"pocket\", \"decide\", \"things\", \"domain\", \"privacy\", \"likely\", \"experience\", \"disable\", \"prompt\", \"request\", \"better\", \"probably\", \"default\", \"provide\", \"enable\", \"private\", \"permission\", \"browse\", \"change\", \"settings\", \"report\", \"feature\", \"support\", \"release\", \"telemetry\", \"update\", \"switch\", \"current\", \"security\", \"preferences\", \"access\", \"section\", \"content\", \"browser\", \"pseudo\", \"subdialogs\", \"eslint\", \"webdriver\", \"reciperunner\", \"indirectly\", \"inline\", \"fluent\", \"subdialog\", \"translation\", \"usagetelemetry\", \"translations\", \"toolbarbutton\", \"allocations\", \"regexp\", \"stylesheets\", \"efforts\", \"titlebar\", \"declaration\", \"annotations\", \"setcontext\", \"markup\", \"menulist\", \"menupopup\", \"controlcenter\", \"modals\", \"redundant\", \"august\", \"decorators\", \"pageaction\", \"palette\", \"native\", \"anonymous\", \"pageactions\", \"selector\", \"marionette\", \"function\", \"queryinterface\", \"script\", \"assign\", \"package\", \"properties\", \"convert\", \"unused\", \"identity\", \"indicator\", \"string\", \"remove\", \"initially\", \"ignore\", \"replace\", \"central\", \"viewer\", \"container\", \"customizableui\", \"comment\", \"source\", \"button\", \"command\", \"document\", \"element\", \"reference\", \"change\", \"update\", \"toolbar\", \"dialog\", \"unknown\", \"create\", \"background\", \"server\", \"instead\", \"browser\", \"object\", \"content\", \"xpcshell\", \"searchservice\", \"clients\", \"fission\", \"firefoxaccounts\", \"indexeddb\", \"syncengine\", \"fxaccounts\", \"metadata\", \"hostname\", \"loadengines\", \"syncscheduler\", \"unlock\", \"finalize\", \"assets\", \"iconurl\", \"bucket\", \"opensearch\", \"buildcache\", \"searchcache\", \"codebase\", \"blocker\", \"searchutils\", \"doctor\", \"acrobat\", \"decline\", \"repair\", \"searchterms\", \"reject\", \"partition\", \"engine\", \"engines\", \"wikipedia\", \"addons\", \"sqlite\", \"pending\", \"manifest\", \"extension\", \"yandex\", \"search\", \"builtin\", \"service\", \"distribution\", \"status\", \"console\", \"provider\", \"screenshots\", \"region\", \"simple\", \"amazon\", \"google\", \"profile\", \"manager\", \"storage\", \"database\", \"record\", \"toolkit\", \"update\", \"common\", \"message\", \"complete\", \"mozilla\", \"extensions\", \"server\", \"return\", \"settings\", \"components\", \"finish\", \"default\", \"change\", \"uriloader\", \"exthandler\", \"topsitesfeed\", \"tinderboxprint\", \"codecoverage\", \"testrunner\", \"headless\", \"subtests\", \"payment\", \"messageport\", \"philringnalda\", \"triage\", \"percent\", \"activity\", \"sitepermissions\", \"mozharness\", \"geckoview\", \"networkerror\", \"middleware\", \"onaction\", \"accordance\", \"taskimpl\", \"extensioncommon\", \"usercontextid\", \"fetchicon\", \"wkocher\", \"flavor\", \"mtransport\", \"getscreenshot\", \"loader\", \"resource\", \"taskcluster\", \"payments\", \"modules\", \"stream\", \"mochitest\", \"setpref\", \"actors\", \"receivemessage\", \"promise\", \"developers\", \"artifact\", \"bootstrap\", \"javascript\", \"aboutlogins\", \"typeerror\", \"devtools\", \"handler\", \"public\", \"listener\", \"message\", \"console\", \"mozilla\", \"failure\", \"artifacts\", \"return\", \"autoland\", \"chrome\", \"sessionstore\", \"service\", \"common\", \"property\", \"texture\", \"shader\", \"logurl\", \"experimental\", \"printer\", \"dependencies\", \"vertex\", \"framebuffer\", \"renderer\", \"webrtc\", \"multisample\", \"graphics\", \"linear\", \"compression\", \"compile\", \"stencil\", \"robustness\", \"anisotropic\", \"robust\", \"decode\", \"compress\", \"viewport\", \"compositing\", \"unwriteable\", \"minmax\", \"marker\", \"widevinecdm\", \"unavailable\", \"unsupported\", \"uniform\", \"surface\", \"download\", \"compatibility\", \"devices\", \"runtime\", \"device\", \"margin\", \"microphone\", \"reporter\", \"webrender\", \"version\", \"locales\", \"context\", \"plugin\", \"feature\", \"enable\", \"extensions\", \"object\", \"driver\", \"filter\", \"buffer\", \"description\", \"default\", \"mozilla\", \"chromium\", \"browser\", \"application\", \"create\", \"disable\", \"expect\", \"normandy\", \"backup\", \"nimbus\", \"master\", \"author\", \"aboutwelcome\", \"outline\", \"regressions\", \"business\", \"renewal\", \"scraper\", \"automate\", \"comparison\", \"changeset\", \"offend\", \"scratch\", \"enroll\", \"definitions\", \"multistage\", \"heartbeat\", \"thunderbird\", \"treeherder\", \"sheriffing\", \"attribution\", \"moments\", \"newcomers\", \"neighborhood\", \"responses\", \"bisection\", \"comparisons\", \"interactions\", \"recipe\", \"metrics\", \"recipes\", \"certviewer\", \"import\", \"rollout\", \"enrollment\", \"locally\", \"review\", \"experiment\", \"toolkit\", \"include\", \"branch\", \"action\", \"upgrade\", \"platform\", \"collection\", \"summary\", \"failures\", \"logins\", \"filter\", \"regression\", \"preference\", \"client\", \"telemetry\", \"information\", \"format\", \"follow\", \"performance\", \"firefox\", \"request\", \"message\", \"extensions\", \"central\"], \"Freq\": [89363.0, 13076.0, 14820.0, 30056.0, 25813.0, 10933.0, 10644.0, 12439.0, 29557.0, 6778.0, 7432.0, 8174.0, 5905.0, 11682.0, 11943.0, 22217.0, 21431.0, 15439.0, 15835.0, 7271.0, 15011.0, 19130.0, 6018.0, 5265.0, 4260.0, 6465.0, 7797.0, 4647.0, 3584.0, 3993.0, 3755.93343632446, 1647.9030012385088, 1598.277637197068, 1503.316607124085, 1197.6226369319036, 1074.3284212554775, 987.2584380718655, 879.276819356509, 766.7518073604192, 733.8780383922171, 1093.2772903374168, 542.8741204544338, 516.0886767113707, 3433.5824448024086, 377.97905863472425, 342.49383404318866, 332.4749582113423, 285.5589151524595, 261.3093202221892, 247.2893448218485, 209.34725012723038, 208.95137310808815, 203.102773857226, 193.63132986968625, 189.58605440790797, 174.1021127848825, 148.60654089905904, 145.40145038446758, 141.98319763697202, 127.18135308132837, 5176.620530337688, 983.5812214610825, 27228.079369686282, 79596.93618326641, 8050.590385934191, 1613.9630698662895, 686.6682386890349, 18814.886507879342, 1730.7998577835053, 1923.884277650423, 13362.587208655215, 795.0474203731181, 1380.4715765870021, 5337.857041417016, 2589.2580899686805, 972.8279138768303, 14540.139177764868, 6099.471439259705, 1096.943427850929, 2448.549058765734, 1199.3859796308368, 2727.381837908513, 5276.302861514244, 3562.0678598166473, 8071.0664844898965, 2473.068867258604, 3439.3589897793545, 2572.306589444689, 1847.4693352752713, 2379.1335367996057, 2413.5972365094613, 2422.518318311749, 4007.804349142638, 2538.3762920700965, 2220.6152581506403, 2146.912928373902, 1233.7117973676766, 1419.0284757244185, 406.8094210927642, 374.2775773326747, 349.25730237772495, 277.17425999955606, 213.9963679005362, 179.09519535790145, 138.60204129092642, 128.43128045271854, 254.0923822242714, 105.93684394601699, 102.25804232302528, 86.44861089403771, 82.64959434758147, 80.61934432113851, 78.40879841060863, 69.79670329343686, 68.86372877621639, 68.70478689754181, 67.54342581554017, 81.68173259151301, 61.311524935956676, 61.07439889405694, 56.09225502069997, 56.08339187173539, 55.817809526980575, 55.43079909684315, 54.836296754765996, 54.51947304181127, 149.25770176996235, 323.1196699614137, 422.73232438504056, 162.08324956786606, 86.62751694214083, 3123.817594599864, 23538.1461352629, 465.5870453539394, 899.55339043962, 1171.8999020318686, 1984.7820840328905, 233.46825271229906, 1248.079874655279, 9061.413260743084, 1314.2619796812137, 8677.429563586824, 17935.54711204177, 359.2571958378209, 318.73082704648687, 301.68755105546035, 9469.181904230101, 1875.2285217305825, 1241.6073849221073, 10553.042904989128, 1583.9247415452564, 745.0367024244227, 772.9370237728858, 985.9896930404112, 2681.4159344671903, 2857.022794623238, 3475.6995668982117, 875.8382656996415, 1671.1214493249895, 1880.2520956723554, 1738.3143184592898, 966.2772017076535, 999.2355366624375, 984.3381909869646, 1142.5448699826504, 2032.1682356660388, 1164.1102246907133, 1157.9914599936935, 996.3636172759482, 2123.231421727266, 1360.7063242486001, 974.8136742342392, 322.38010358155674, 228.82792690534055, 210.45296216263716, 174.49796689245, 119.04505921783415, 66.99443999665581, 66.05162509823265, 56.99439415994518, 56.815206162272126, 53.77895892815101, 51.90427999768541, 50.102149122631346, 46.56753228173045, 173.02081244402513, 43.44159351224025, 121.4746751190001, 42.262728730144765, 41.69311538001625, 38.918208678714976, 38.811048541613175, 34.628261279774335, 32.83464094530606, 32.010065186594474, 31.025739887403983, 29.900183601553067, 29.755802758635387, 29.078608525578353, 4425.50533957078, 419.00935513693344, 492.25343124480185, 493.862026689492, 82.49593259070727, 502.5974138450782, 2242.578071553688, 698.7711194405695, 1230.6769531817768, 1876.5733882748914, 705.9159037730007, 195.14818736738445, 431.886197014327, 896.5730042865032, 3043.4587869912843, 2017.188907939999, 412.7511358108558, 360.5084881943656, 3013.241219512793, 1348.2632636686237, 1032.4256811932169, 3783.0950666991776, 3286.396876540977, 918.4637823566154, 4798.094587938702, 1957.5940406485836, 3692.2227808417047, 1478.462279452778, 4081.679071509085, 6881.31898728696, 1637.6519372850307, 1824.9261189529727, 3003.903171334871, 3414.3645624572086, 4860.963010760428, 2815.4731779311755, 1679.2633629503096, 1388.74727411649, 3099.0344453483626, 1010.065503778975, 10932.920663076906, 10643.939944377682, 4259.88506030595, 3992.8446076935065, 859.1667354437335, 690.7460125395212, 506.7640886622486, 427.70010791837666, 407.46771076740026, 403.8961727915805, 396.6342790041523, 328.8130236108142, 277.01753361716885, 275.34305868586966, 247.33411231407425, 227.73242489030997, 221.36277896936778, 220.37782946212454, 219.2963730181167, 205.00718266555432, 14757.851650582801, 198.86557959773756, 179.73826645114926, 176.94305226724916, 161.6720232007575, 159.8669094190764, 159.8669094190764, 159.8669094190764, 158.964374231445, 158.0618101062014, 7389.785532406548, 7881.49714331862, 3409.019715555929, 661.4453490333037, 315.0031848047302, 594.7960669350078, 2037.378979681277, 1894.6722189986576, 1021.4442347738444, 973.1523372425186, 381.84886647718537, 784.8917558971385, 335.8966327693349, 578.8243569949482, 736.5960964762236, 1877.1757283953298, 456.47422263257965, 1705.6855350873714, 3100.855211959862, 1667.2972459633356, 1414.2031019362205, 571.5787840208139, 1277.7646910629558, 693.5538290535445, 857.7572422275626, 829.3629626114023, 559.8313867131064, 496.93427738337016, 456.14351190304757, 385.65999024769604, 265.3145858668622, 169.05519518950754, 165.36952927953308, 163.49372508378588, 142.1800657048292, 126.94826801546532, 124.98090964459246, 108.55769869397506, 106.03939546771153, 101.71817925435853, 94.84678605031205, 94.19442733939759, 93.46973496127652, 90.53381558157773, 90.1407664651345, 82.36688384864442, 73.83846571425673, 72.57179022596401, 71.073136412018, 70.77735773778839, 68.15899636205584, 67.95699029104145, 66.7044470113194, 263.0789502874417, 64.60923558242655, 59.952731546962795, 58.16871041177904, 1045.00836944897, 146.30135342268028, 128.2287822694597, 176.99425679695347, 128.24670575989776, 198.5484923776249, 1060.159223857351, 106.12755744327161, 267.1225225958689, 762.8644594385195, 495.7777368726677, 288.79860739346077, 1050.5299782753677, 618.4129581242528, 1089.3690434963069, 585.8085444259334, 305.89942487944074, 945.8723818023119, 199.3577843348765, 406.44522944588596, 403.12434823521335, 846.6031476177019, 270.4714804202466, 294.7543942888197, 1605.637496828414, 503.0377012549766, 1135.9968806249087, 401.8058272608271, 527.9116090617003, 1944.5261681222855, 436.21240273249134, 2004.9444115677607, 720.0789397610749, 492.58479675287583, 626.098203387735, 1772.7466845501967, 1079.6295572973004, 912.0856046208187, 839.3378777883216, 799.0043667241778, 753.7691390255253, 1001.3082000865907, 1173.5882737177512, 653.2994183261525, 617.4690580541369, 661.3652003021441, 1091.6365821844443, 702.7708342324387, 598.4890324351294, 706.7005741831263, 728.930913871671, 372.50904672191035, 358.3851897827416, 289.2721843946339, 262.9793020159107, 258.6209934503518, 237.18896093713525, 225.11698890285135, 223.3774975641324, 204.71838747311693, 196.49376032888586, 180.4768484274578, 142.5848889259307, 133.16166996775527, 124.42465051890456, 117.79374785658298, 116.60249527455538, 104.70270572951405, 103.70379518088708, 98.77191536984535, 96.37433956925882, 88.48559900328337, 79.3330072189538, 76.96152490894148, 76.62700159768312, 76.57155584816455, 73.47841974945368, 72.53204633616963, 70.05090506988483, 63.291523830516994, 109.4209541321295, 126.62685895384995, 1093.2209112998185, 267.8220372377551, 299.600369865413, 263.3010330272633, 2812.031228221911, 1627.3988201321147, 234.62489848887006, 914.3863514066862, 190.06618053550446, 673.3024806337171, 360.30642515457424, 337.52010826637047, 197.00821620889175, 428.17071532297547, 442.4131204662345, 1354.9164826765727, 2166.185990706807, 530.2265634777539, 577.49465320138, 484.97805109866675, 1676.8715927136604, 359.95604686138887, 457.46623995038266, 833.0731895367717, 546.8167758387543, 794.2956760711841, 2122.642869316617, 495.5735863000312, 960.7848635349661, 727.7807961313825, 484.35001453540997, 1294.6693441434468, 1159.8267006059575, 751.688390787385, 640.6093211513385, 496.55256140318454, 892.2361386343805, 563.3145101426259, 539.3046891367196, 519.2130468800525, 865.2170831434885, 506.8661431096917, 576.4398580433107, 2187.5587735185504, 605.9092591712163, 405.78063760436106, 403.60031106439527, 323.4881227722645, 169.58208827442206, 162.93864542525023, 158.52252871593515, 148.1203390074907, 130.29735804961433, 115.24538662382865, 115.1656495001738, 111.42152826014534, 108.56921557251135, 105.0066701369805, 100.86100154183401, 91.78927710368788, 87.93068638990661, 73.41633930440535, 72.83954086286309, 72.27969844516093, 680.303119309055, 70.53557703746407, 69.84889535841383, 66.8267987135377, 65.20931615239365, 65.10954687083206, 64.79474183558429, 359.20382903676466, 60.811064324711104, 3480.084982421943, 1014.4510720002731, 579.0333554794739, 1563.9269924707799, 589.2776649373523, 609.8934680143374, 307.48939185371194, 2043.7373877989091, 114.99750614776721, 7566.730805140129, 219.425229210168, 3372.790619344453, 263.4326455296965, 943.66650521416, 3049.2743825711427, 296.26193130489645, 673.3568730083044, 374.6903556683653, 389.8512595265838, 401.1210588660985, 980.0328231553743, 1462.4087515815609, 490.5895046759219, 529.8095801556198, 314.4356008679889, 595.7497764406303, 773.0893155340328, 989.0681559953503, 778.1487917009595, 1413.7739161071938, 625.1236128539106, 1432.1906002615513, 634.3423205707322, 563.5993654890842, 568.4333330640706, 616.2867186260886, 890.5699703165812, 640.4353777840522, 666.3283727469355, 665.8572954402929, 505.18840017426214, 482.2347345639647, 390.6186739640011, 373.0926051579797, 341.2427906996957, 281.36784319702, 230.18656677326024, 192.37992474764476, 174.21583612689653, 160.8440779828993, 147.8223459380889, 142.6906963935948, 141.3936460783598, 2390.529183298089, 120.27876623663848, 117.32524783566616, 115.30032983987944, 114.53496562660594, 109.52671440027392, 106.60939471003022, 97.77217399578791, 97.26461159857797, 96.82017771845506, 91.08263822263285, 81.56734936229321, 77.20431735512311, 75.61114439875574, 75.22584034093008, 72.96251770643727, 540.768751337528, 12616.67731097734, 336.87754888751016, 684.3397831886703, 6434.704145489836, 2793.4957566204157, 2183.7357702611666, 289.8317647068735, 560.2897479284127, 356.3563838017517, 609.0877847193236, 333.9065537349676, 195.63358202267426, 240.70308145599824, 2643.725695556999, 471.5150055104843, 658.4304858321278, 520.1790509496672, 448.48459302123894, 1349.2348255976224, 315.6105257242914, 2885.9688708036574, 1738.7175194786228, 3332.958969185348, 536.4046319659852, 1132.1173438337885, 642.3710961834767, 620.0857387471251, 807.6889945726123, 538.0240332033093, 578.3260712353732, 510.1416956544371, 420.9779924775266, 2282.611124176985, 990.569105763477, 500.05547298276895, 448.6733375827108, 442.59814730331885, 396.4813947446553, 373.9378560239529, 348.4472393368162, 287.35860251322515, 378.12793880926216, 197.43641339820297, 191.32640556975593, 183.51076055168352, 178.03858598631814, 164.86199656566487, 156.6487326010994, 155.25336754024462, 151.82316966104204, 148.4585065534522, 126.56250942901599, 117.99138277641913, 114.92719187636644, 110.85324978231021, 110.71264099152903, 108.5800696345247, 105.54641982616639, 94.20158433848823, 92.31440554545321, 87.29085037935498, 85.91292227396585, 170.5225184309974, 5382.432480625914, 180.7783227004882, 612.9125776871916, 332.9245868171483, 1073.7751291614245, 299.5172400868801, 234.23561784135285, 260.8801594019472, 634.4805768727757, 2416.602241619847, 443.21705706644866, 1292.5971828945962, 337.6463875430246, 911.8218140339968, 1516.257678256549, 771.8080355804104, 661.8079143832323, 327.4900056232434, 419.7515225930681, 1075.3485272988921, 375.54205592679267, 665.420879736653, 986.3472630608994, 388.89395896352966, 922.1199742534914, 430.47600404453743, 508.10733062421605, 397.6236527097287, 367.43059560120844, 1506.5063845692148, 357.6624956541514, 317.085873936207, 298.91825650142147, 212.8973032219449, 210.12604678044613, 201.91358605739617, 198.61504302611874, 183.29640680671815, 182.4579468908418, 179.77256378823338, 166.69738813524017, 165.62422604176703, 153.9699074416387, 153.26792619563426, 151.30210447626888, 141.90056048740246, 139.90060685813367, 127.87350120301174, 126.52051621202075, 118.11082495765531, 116.4629539766267, 115.91472792533484, 115.69015269030336, 102.26072992649075, 96.5752253979869, 89.93479132015729, 89.3886905556514, 84.40140639699617, 82.49716902468171, 340.134109638469, 661.3944189923178, 459.4384643144792, 205.83905930868386, 218.32191655503803, 966.3893307303412, 689.2828043675885, 150.32561844668564, 196.80085121467997, 404.5240703016175, 989.983814106334, 1770.4299430837386, 1287.7897327209928, 331.23959835425063, 972.2474438040781, 544.624894845305, 503.7361791701205, 454.6342976076069, 346.79806878016893, 217.3796603748414, 474.0122511760684, 450.7869996518282, 730.6797867849095, 370.5666493815398, 458.4453579545929, 665.7568786298522, 403.1927984940571, 290.9330937310366, 447.7908741568483, 446.0550339319883, 732.7168496843717, 344.92041218360134, 412.7869502706309, 348.8645135245981, 344.21853867102845], \"Total\": [89363.0, 13076.0, 14820.0, 30056.0, 25813.0, 10933.0, 10644.0, 12439.0, 29557.0, 6778.0, 7432.0, 8174.0, 5905.0, 11682.0, 11943.0, 22217.0, 21431.0, 15439.0, 15835.0, 7271.0, 15011.0, 19130.0, 6018.0, 5265.0, 4260.0, 6465.0, 7797.0, 4647.0, 3584.0, 3993.0, 3756.797376539654, 1648.7672762132775, 1599.1415649763812, 1504.180532466513, 1198.4865745541538, 1075.1928239274264, 988.122381835656, 880.1407394610037, 767.6157223082672, 734.7419520849359, 1094.9132726369703, 543.7380720242697, 516.9525932431003, 3441.2293185943877, 378.8430094936775, 343.35772711086565, 333.3388236895891, 286.42285291791575, 262.17324348338616, 248.15338948732304, 210.21117558689028, 209.81529651299485, 203.96698426595447, 194.49528471633104, 190.45751092739357, 174.96604713915266, 149.47044604953857, 146.2653782813384, 142.84716730799968, 128.04528914899208, 5229.413245764484, 991.5355794020039, 29557.441621202615, 89363.32491369157, 8642.188475350818, 1677.2788196888569, 706.7175575502525, 21431.51626536888, 1839.9410180012187, 2065.545404149797, 15835.248752335168, 838.2790998935855, 1499.4271961431061, 6274.452614183016, 2929.1281106784086, 1043.7585532743597, 19130.899879382778, 7783.603260952347, 1190.4532575621768, 2923.971243801845, 1321.1618698489635, 3578.3813372978275, 8002.150596640725, 4989.001336338966, 15011.591487744421, 3371.0266536123036, 5653.076686338381, 3783.211413003781, 2524.529223169069, 3853.2923346987423, 4136.194283697149, 5265.067206021875, 22217.92567425506, 7301.382039431745, 7271.21825358055, 15439.03094213632, 1234.5811579965869, 1420.9344581668306, 407.6825609755928, 375.14695422836485, 350.1280389945551, 278.04925312593383, 214.86576160405176, 179.96460215988836, 139.47149707133124, 129.3006434511541, 256.14754309219813, 106.80623306347067, 103.12740660714974, 87.31804776421355, 83.51927603197242, 81.48952126621481, 79.27819262408009, 70.66613135501231, 69.73307722653068, 69.57418410601706, 68.41295901629053, 82.7438561951168, 62.18090659436378, 61.944170250167964, 56.96178750823652, 56.95284524829196, 56.687249175313056, 56.30021804541341, 55.705657430839665, 55.38890894933785, 152.6657733239538, 333.41593807019586, 437.5423907182807, 166.26845065381735, 89.00326081228859, 3631.586838478685, 30056.069109623255, 508.7725682818186, 1011.8946405115228, 1348.4826792717997, 2379.0240851968856, 250.35342771785088, 1468.6357378120556, 11943.6257013732, 1553.7411998530026, 11682.110657301806, 25813.35636152835, 401.2238399689429, 357.5081371454573, 336.7955667056726, 15439.03094213632, 2669.018842598009, 1702.0928683715263, 22217.92567425506, 2461.7721889822733, 1020.0016888287049, 1124.5412727220062, 1598.2114988356675, 6465.2889561186275, 7301.382039431745, 10351.196103699753, 1577.0012158321017, 4646.412809377396, 5984.688532398377, 5250.600372574736, 2172.843297000868, 2346.4856150617343, 2329.2737470380644, 3542.866281629314, 19130.899879382778, 4583.729195227635, 7797.788268149403, 5669.479786504497, 2124.09911343832, 1361.5739975748315, 975.6813539092981, 323.247948199184, 229.69565198499413, 211.32070336423706, 175.36581704329865, 119.91277488354501, 67.86214426616482, 66.9194001480143, 57.8621131247216, 57.68289761892911, 54.64663257256739, 52.77513380192863, 50.970047688788114, 47.435640718953906, 176.2855297338146, 44.309700677263095, 123.90670436453156, 43.13044412278166, 42.561145491080055, 39.78607700045929, 39.679300873445136, 35.496010900293115, 33.7025554798678, 32.878567815982855, 31.893456797180306, 30.76806057986618, 30.62479037867347, 29.94633759011978, 4647.945931006218, 442.30720595223653, 529.1190779548167, 531.4982327759956, 85.77302490150906, 544.0925090826778, 2518.312920991266, 777.440204713237, 1428.7334192517171, 2296.571330019786, 828.1883969716927, 215.04872653897277, 500.430857801064, 1106.6223024763801, 4203.565787653532, 2748.6393342803854, 495.81974234039734, 435.58366440188024, 4583.729195227635, 1882.5047639768716, 1464.699504113509, 6465.2889561186275, 5984.688532398377, 1370.4697447683484, 10351.196103699753, 3485.432985353241, 7797.788268149403, 2708.431426337018, 12439.036534281793, 25813.35636152835, 3542.866281629314, 4370.971189649215, 11682.110657301806, 15439.03094213632, 30056.069109623255, 11943.6257013732, 5653.076686338381, 5576.429820734942, 89363.32491369157, 8002.150596640725, 10933.785300832962, 10644.804581656394, 4260.749727385958, 3993.7092928688453, 860.0316268071704, 691.6107198721206, 507.62911591540774, 428.5647482106692, 408.33244004004405, 404.7608301340755, 397.50171416832336, 329.6778693109143, 277.8821935704178, 276.20769546216474, 248.19876423208757, 228.5970612358891, 222.22739676159546, 221.24247184044378, 220.16100999477663, 205.87187421928957, 14820.34540446903, 199.73024735724795, 180.602911596941, 177.80871452328793, 162.5366512396168, 160.73153646147424, 160.73153646147424, 160.73153646147424, 159.82900134872622, 158.92643705034388, 7432.005542198653, 8174.13056905791, 3713.485027866877, 689.8195616735726, 325.2366215551146, 652.7787110263349, 2489.7188675006496, 2614.8488630560887, 1296.177157391112, 1585.9754441414934, 467.3363075188804, 1258.9899522331314, 453.9463580276201, 1182.3483200359294, 2079.0778630925793, 15835.248752335168, 854.8765655454972, 19130.899879382778, 89363.32491369157, 22217.92567425506, 15011.591487744421, 1512.2809659255836, 21431.51626536888, 3148.129967369684, 25813.35636152835, 29557.441621202615, 10351.196103699753, 497.7944833829899, 457.00358961150124, 386.5202311890415, 266.17474898935563, 169.91522745707212, 166.2295608472127, 164.3537979864031, 143.0401405812736, 127.81069978305135, 125.8409644351891, 109.41778983682407, 106.90053051853961, 102.57860236839113, 95.70683388092222, 95.05492136595765, 94.32993853630335, 91.3939822627904, 91.0008378261059, 83.22699657615193, 74.70143282331075, 73.43191706279197, 71.93318153127491, 71.63736956667839, 69.01997736916059, 68.81705408189474, 67.5646337825679, 266.53492204481466, 65.46930057082342, 60.81285926962883, 59.02876278208529, 1076.183151377254, 148.68936025087598, 131.00803972640742, 182.15508926083734, 132.07379832349096, 208.7318590511425, 1214.0563807330807, 109.24898700696387, 288.80189658706246, 875.2371805011356, 556.7359058200007, 318.0541364630378, 1309.808571810017, 748.2041566456688, 1413.6408481037054, 717.2020991474067, 353.7842421858165, 1276.5549201678982, 219.92907808669656, 506.3848258015101, 510.5421140115669, 1283.966800774058, 322.0128372461105, 365.26246954129044, 3155.6839387954756, 727.1664661350011, 2094.5929041370596, 548.4554461551182, 789.7054142807334, 4961.575180971697, 635.563913461011, 5576.429820734942, 1316.4571515093028, 761.5938399890757, 1098.8840996103968, 5669.479786504497, 2758.7426739954226, 2145.3499177188596, 1953.7477827596433, 1882.762925759033, 1804.373495266217, 3133.4210699965165, 5250.600372574736, 1518.5039617052194, 1328.2467765968368, 1658.4599255782366, 8002.150596640725, 2452.5847837526476, 1329.5031044290452, 29557.441621202615, 89363.32491369157, 373.3742515500157, 359.2504066570989, 290.13750179140004, 263.8445391888365, 259.48660081278285, 238.05420509894765, 225.98226962329582, 224.24278766283626, 205.58363084750638, 197.35903125870072, 181.34224388692195, 143.45011013452236, 134.02689860596922, 125.29246295749806, 118.65906086981884, 117.46890038608448, 105.56853063219351, 104.58374511769381, 99.63712154166042, 97.23969490901753, 89.35082631242364, 80.19823349244699, 77.82698897890644, 77.49231159140814, 77.43677365932336, 74.34395642741508, 73.39730620020528, 70.916185560842, 64.15673696353507, 111.04805144346777, 129.15068455444472, 1167.6108046811744, 278.2400514762745, 314.04749914849685, 276.40610384758617, 3186.8586378095756, 1824.7960892902643, 248.02375338894245, 1035.3447643236536, 199.28197887048006, 766.862022834066, 413.3413802324232, 392.5218773240531, 215.67530807238873, 525.2705755053307, 549.5264681397573, 2086.752672798902, 3729.853055701604, 708.689352417676, 819.0272723902792, 678.2276864085835, 3471.5092167807175, 464.6652618245389, 650.1926705383954, 1519.5475128977623, 842.483503597524, 1623.5544060544285, 7797.788268149403, 811.0382502890703, 2758.6366502821706, 1730.5258778846091, 826.4718332150608, 5669.479786504497, 5250.600372574736, 2346.4856150617343, 1766.9928943357202, 1135.6310924369425, 10351.196103699753, 2079.0778630925793, 1860.4739879574063, 1654.1118893142243, 89363.32491369157, 2218.9366916494387, 29557.441621202615, 2188.422426444052, 606.7725410619479, 406.64400383203827, 404.46403698056656, 324.35138137603064, 170.4454440436311, 163.80189624226344, 159.38590337619158, 148.98486206352226, 131.16070348236428, 116.10864459115656, 116.02889799761795, 112.28502408876899, 109.43272385500083, 105.87023630633169, 101.72432176207641, 92.65267532559847, 88.79398787007354, 74.27959821424595, 73.70284114128731, 73.1430641374171, 688.6069201186449, 71.39887684570374, 70.71223324805332, 67.6907006562319, 66.07265155357909, 65.97300559434015, 65.65817808883952, 364.2980555355583, 61.675130783930854, 3584.403622745148, 1039.2201243112681, 622.3337630928756, 1748.5768021547344, 640.0368056008688, 688.4689958397682, 340.28228684344543, 2835.174713805522, 121.23309619915995, 12439.036534281793, 250.10383480045783, 6018.636490009829, 322.9231993382546, 1655.7163007000318, 7271.21825358055, 399.89226033151266, 1166.8997429414776, 552.400267459983, 601.9625320229957, 629.3461539650742, 2329.2737470380644, 4370.971189649215, 973.9089807109684, 1179.1243241278428, 487.5038821035164, 1736.637669490841, 3020.579722978032, 5250.600372574736, 3148.129967369684, 15011.591487744421, 1994.8508138215486, 22217.92567425506, 2694.5370548013716, 1860.4739879574063, 1925.3250022295845, 2758.7426739954226, 21431.51626536888, 3783.211413003781, 4961.575180971697, 5669.479786504497, 506.0390736240481, 483.08539108955466, 391.4692866938278, 373.9432685302625, 342.093499195403, 282.21847906789674, 231.0372776766641, 193.2305728773884, 175.06653765821622, 161.71001806440657, 148.67294314483067, 143.54214267511733, 142.24432024261847, 2405.0667383193786, 121.12942061819393, 118.17592661264679, 116.15100769355563, 115.38561056041966, 110.37732434362742, 107.46000042562707, 98.62641027511997, 98.11522975350024, 97.67079007846276, 91.93357397782935, 82.41795521194493, 78.05491450699247, 76.46194738705906, 76.07669070607307, 73.81313019273176, 547.0735668069443, 13076.184148095654, 342.52657010456335, 700.9744625587773, 6778.275124057556, 2965.331018384925, 2349.5278115372485, 300.7789110576775, 602.4128151549913, 390.2976714643552, 744.5098945790394, 397.4340938151075, 217.67936920066225, 279.54150940220535, 5265.067206021875, 681.633766986593, 1113.5665934943343, 810.3039668050359, 729.7285644067172, 4136.194283697149, 455.37448763100633, 15011.591487744421, 7271.21825358055, 22217.92567425506, 1071.4753656678477, 3853.2923346987423, 1925.3250022295845, 1987.806347702847, 19130.899879382778, 3578.3813372978275, 6018.636490009829, 3148.129967369684, 1136.344287854392, 2283.476852439125, 991.4348681971599, 500.9242537609726, 449.53916817131017, 443.4638724399112, 397.3473345663906, 374.8035749341887, 349.3130269738069, 288.2244092847936, 379.52517396403147, 198.30213311551043, 192.19216194669664, 184.37649653757404, 178.90432446285232, 165.72783207770362, 157.5144526169017, 156.11909130462294, 152.68888940176652, 149.3242460431243, 127.42828562663085, 118.85714706921478, 115.792982470252, 111.71903790227253, 111.57835992200681, 109.44578883019291, 106.41224529657127, 95.06734637897875, 93.18032851087993, 88.15674128603388, 86.77867039751318, 174.06016445601514, 5905.878597860186, 185.39270878346383, 657.7748798273803, 355.46492115370006, 1241.3841464574925, 331.3614021512551, 256.64609637440464, 292.2848587457607, 883.5459123276258, 4646.412809377396, 616.4155932919849, 2617.1398213555244, 440.28908363619865, 1953.7477827596433, 5576.429820734942, 2694.5370548013716, 2218.9366916494387, 601.3497079124564, 989.0326126643473, 7783.603260952347, 893.1365234512641, 4961.575180971697, 22217.92567425506, 1258.9899522331314, 89363.32491369157, 2756.9095540187877, 10351.196103699753, 3155.6839387954756, 15439.03094213632, 1507.3685278297983, 358.52463243135253, 317.94809831616067, 299.7804107255302, 213.75941780442952, 210.98826306633762, 202.77577785577395, 199.477144570244, 184.15855753662274, 183.32004136553206, 180.63465736989357, 167.55954847774066, 166.48638567951343, 154.83208411617548, 154.13003360770975, 152.16422897317713, 142.76269830804898, 140.76277764829615, 128.73570900954428, 127.38269857246621, 118.97312105662114, 117.32521600724355, 116.77681905239315, 116.5523646482081, 103.12291832758201, 97.43751171279035, 90.79688493148637, 90.25081413017904, 85.26355434453487, 83.359270947396, 343.98324406981214, 673.6965159729023, 467.3812664275443, 212.30028320243315, 227.25634028801687, 1078.650274558403, 765.5320864506115, 154.4762582859621, 210.9650704965282, 479.90242009793934, 1387.9959231183066, 3020.579722978032, 2141.3451326538243, 406.6714181616219, 1914.7418621655158, 879.6246812227032, 855.9627860619561, 815.1081387596319, 559.9692586577723, 262.20100759846554, 1076.2061648890826, 989.0326126643473, 2748.6393342803854, 788.9988723399889, 1292.5744500317612, 3133.4210699965165, 1180.9325138132115, 520.3709217556557, 1986.5336915180094, 2923.971243801845, 30056.069109623255, 2094.5929041370596, 15011.591487744421, 2694.5370548013716, 3471.5092167807175], \"Category\": [\"Default\", \"Default\", \"Default\", \"Default\", \"Default\", \"Default\", \"Default\", \"Default\", \"Default\", \"Default\", \"Default\", \"Default\", \"Default\", \"Default\", \"Default\", \"Default\", \"Default\", \"Default\", \"Default\", \"Default\", \"Default\", \"Default\", \"Default\", \"Default\", \"Default\", \"Default\", \"Default\", \"Default\", \"Default\", \"Default\", \"Topic1\", \"Topic1\", \"Topic1\", \"Topic1\", \"Topic1\", \"Topic1\", \"Topic1\", \"Topic1\", \"Topic1\", \"Topic1\", \"Topic1\", \"Topic1\", \"Topic1\", \"Topic1\", \"Topic1\", \"Topic1\", \"Topic1\", \"Topic1\", \"Topic1\", \"Topic1\", \"Topic1\", \"Topic1\", \"Topic1\", \"Topic1\", \"Topic1\", \"Topic1\", \"Topic1\", \"Topic1\", \"Topic1\", \"Topic1\", \"Topic1\", \"Topic1\", \"Topic1\", \"Topic1\", \"Topic1\", \"Topic1\", \"Topic1\", \"Topic1\", \"Topic1\", \"Topic1\", \"Topic1\", \"Topic1\", \"Topic1\", \"Topic1\", \"Topic1\", \"Topic1\", \"Topic1\", \"Topic1\", \"Topic1\", \"Topic1\", \"Topic1\", \"Topic1\", \"Topic1\", \"Topic1\", \"Topic1\", \"Topic1\", \"Topic1\", \"Topic1\", \"Topic1\", \"Topic1\", \"Topic1\", \"Topic1\", \"Topic1\", \"Topic1\", \"Topic1\", \"Topic1\", \"Topic2\", \"Topic2\", \"Topic2\", \"Topic2\", \"Topic2\", \"Topic2\", \"Topic2\", \"Topic2\", \"Topic2\", \"Topic2\", \"Topic2\", \"Topic2\", \"Topic2\", \"Topic2\", \"Topic2\", \"Topic2\", \"Topic2\", \"Topic2\", \"Topic2\", \"Topic2\", \"Topic2\", \"Topic2\", \"Topic2\", \"Topic2\", \"Topic2\", \"Topic2\", \"Topic2\", \"Topic2\", \"Topic2\", \"Topic2\", \"Topic2\", \"Topic2\", \"Topic2\", \"Topic2\", \"Topic2\", \"Topic2\", \"Topic2\", \"Topic2\", \"Topic2\", \"Topic2\", \"Topic2\", \"Topic2\", \"Topic2\", \"Topic2\", \"Topic2\", \"Topic2\", \"Topic2\", \"Topic2\", \"Topic2\", \"Topic2\", \"Topic2\", \"Topic2\", \"Topic2\", \"Topic2\", \"Topic2\", \"Topic2\", \"Topic2\", \"Topic2\", \"Topic2\", \"Topic2\", \"Topic2\", \"Topic2\", \"Topic2\", \"Topic2\", \"Topic2\", \"Topic2\", \"Topic2\", \"Topic2\", \"Topic2\", \"Topic2\", \"Topic2\", \"Topic2\", \"Topic2\", \"Topic3\", \"Topic3\", \"Topic3\", \"Topic3\", \"Topic3\", \"Topic3\", \"Topic3\", \"Topic3\", \"Topic3\", \"Topic3\", \"Topic3\", \"Topic3\", \"Topic3\", \"Topic3\", \"Topic3\", \"Topic3\", \"Topic3\", \"Topic3\", \"Topic3\", \"Topic3\", \"Topic3\", \"Topic3\", \"Topic3\", \"Topic3\", \"Topic3\", \"Topic3\", \"Topic3\", \"Topic3\", \"Topic3\", \"Topic3\", \"Topic3\", \"Topic3\", \"Topic3\", \"Topic3\", \"Topic3\", \"Topic3\", \"Topic3\", \"Topic3\", \"Topic3\", \"Topic3\", \"Topic3\", \"Topic3\", \"Topic3\", \"Topic3\", \"Topic3\", \"Topic3\", \"Topic3\", \"Topic3\", \"Topic3\", \"Topic3\", \"Topic3\", \"Topic3\", \"Topic3\", \"Topic3\", \"Topic3\", \"Topic3\", \"Topic3\", \"Topic3\", \"Topic3\", \"Topic3\", \"Topic3\", \"Topic3\", \"Topic3\", \"Topic3\", \"Topic3\", \"Topic3\", \"Topic3\", \"Topic3\", \"Topic3\", \"Topic3\", \"Topic4\", \"Topic4\", \"Topic4\", \"Topic4\", \"Topic4\", \"Topic4\", \"Topic4\", \"Topic4\", \"Topic4\", \"Topic4\", \"Topic4\", \"Topic4\", \"Topic4\", \"Topic4\", \"Topic4\", \"Topic4\", \"Topic4\", \"Topic4\", \"Topic4\", \"Topic4\", \"Topic4\", \"Topic4\", \"Topic4\", \"Topic4\", \"Topic4\", \"Topic4\", \"Topic4\", \"Topic4\", \"Topic4\", \"Topic4\", \"Topic4\", \"Topic4\", \"Topic4\", \"Topic4\", \"Topic4\", \"Topic4\", \"Topic4\", \"Topic4\", \"Topic4\", \"Topic4\", \"Topic4\", \"Topic4\", \"Topic4\", \"Topic4\", \"Topic4\", \"Topic4\", \"Topic4\", \"Topic4\", \"Topic4\", \"Topic4\", \"Topic4\", \"Topic4\", \"Topic4\", \"Topic4\", \"Topic4\", \"Topic4\", \"Topic4\", \"Topic5\", \"Topic5\", \"Topic5\", \"Topic5\", \"Topic5\", \"Topic5\", \"Topic5\", \"Topic5\", \"Topic5\", \"Topic5\", \"Topic5\", \"Topic5\", \"Topic5\", \"Topic5\", \"Topic5\", \"Topic5\", \"Topic5\", \"Topic5\", \"Topic5\", \"Topic5\", \"Topic5\", \"Topic5\", \"Topic5\", \"Topic5\", \"Topic5\", \"Topic5\", \"Topic5\", \"Topic5\", \"Topic5\", \"Topic5\", \"Topic5\", \"Topic5\", \"Topic5\", \"Topic5\", \"Topic5\", \"Topic5\", \"Topic5\", \"Topic5\", \"Topic5\", \"Topic5\", \"Topic5\", \"Topic5\", \"Topic5\", \"Topic5\", \"Topic5\", \"Topic5\", \"Topic5\", \"Topic5\", \"Topic5\", \"Topic5\", \"Topic5\", \"Topic5\", \"Topic5\", \"Topic5\", \"Topic5\", \"Topic5\", \"Topic5\", \"Topic5\", \"Topic5\", \"Topic5\", \"Topic5\", \"Topic5\", \"Topic5\", \"Topic5\", \"Topic5\", \"Topic5\", \"Topic5\", \"Topic5\", \"Topic5\", \"Topic5\", \"Topic5\", \"Topic5\", \"Topic5\", \"Topic5\", \"Topic5\", \"Topic5\", \"Topic5\", \"Topic5\", \"Topic5\", \"Topic5\", \"Topic5\", \"Topic6\", \"Topic6\", \"Topic6\", \"Topic6\", \"Topic6\", \"Topic6\", \"Topic6\", \"Topic6\", \"Topic6\", \"Topic6\", \"Topic6\", \"Topic6\", \"Topic6\", \"Topic6\", \"Topic6\", \"Topic6\", \"Topic6\", \"Topic6\", \"Topic6\", \"Topic6\", \"Topic6\", \"Topic6\", \"Topic6\", \"Topic6\", \"Topic6\", \"Topic6\", \"Topic6\", \"Topic6\", \"Topic6\", \"Topic6\", \"Topic6\", \"Topic6\", \"Topic6\", \"Topic6\", \"Topic6\", \"Topic6\", \"Topic6\", \"Topic6\", \"Topic6\", \"Topic6\", \"Topic6\", \"Topic6\", \"Topic6\", \"Topic6\", \"Topic6\", \"Topic6\", \"Topic6\", \"Topic6\", \"Topic6\", \"Topic6\", \"Topic6\", \"Topic6\", \"Topic6\", \"Topic6\", \"Topic6\", \"Topic6\", \"Topic6\", \"Topic6\", \"Topic6\", \"Topic6\", \"Topic6\", \"Topic6\", \"Topic6\", \"Topic6\", \"Topic6\", \"Topic6\", \"Topic6\", \"Topic6\", \"Topic6\", \"Topic6\", \"Topic6\", \"Topic6\", \"Topic6\", \"Topic6\", \"Topic7\", \"Topic7\", \"Topic7\", \"Topic7\", \"Topic7\", \"Topic7\", \"Topic7\", \"Topic7\", \"Topic7\", \"Topic7\", \"Topic7\", \"Topic7\", \"Topic7\", \"Topic7\", \"Topic7\", \"Topic7\", \"Topic7\", \"Topic7\", \"Topic7\", \"Topic7\", \"Topic7\", \"Topic7\", \"Topic7\", \"Topic7\", \"Topic7\", \"Topic7\", \"Topic7\", \"Topic7\", \"Topic7\", \"Topic7\", \"Topic7\", \"Topic7\", \"Topic7\", \"Topic7\", \"Topic7\", \"Topic7\", \"Topic7\", \"Topic7\", \"Topic7\", \"Topic7\", \"Topic7\", \"Topic7\", \"Topic7\", \"Topic7\", \"Topic7\", \"Topic7\", \"Topic7\", \"Topic7\", \"Topic7\", \"Topic7\", \"Topic7\", \"Topic7\", \"Topic7\", \"Topic7\", \"Topic7\", \"Topic7\", \"Topic7\", \"Topic7\", \"Topic7\", \"Topic7\", \"Topic7\", \"Topic7\", \"Topic7\", \"Topic7\", \"Topic7\", \"Topic7\", \"Topic7\", \"Topic7\", \"Topic7\", \"Topic7\", \"Topic8\", \"Topic8\", \"Topic8\", \"Topic8\", \"Topic8\", \"Topic8\", \"Topic8\", \"Topic8\", \"Topic8\", \"Topic8\", \"Topic8\", \"Topic8\", \"Topic8\", \"Topic8\", \"Topic8\", \"Topic8\", \"Topic8\", \"Topic8\", \"Topic8\", \"Topic8\", \"Topic8\", \"Topic8\", \"Topic8\", \"Topic8\", \"Topic8\", \"Topic8\", \"Topic8\", \"Topic8\", \"Topic8\", \"Topic8\", \"Topic8\", \"Topic8\", \"Topic8\", \"Topic8\", \"Topic8\", \"Topic8\", \"Topic8\", \"Topic8\", \"Topic8\", \"Topic8\", \"Topic8\", \"Topic8\", \"Topic8\", \"Topic8\", \"Topic8\", \"Topic8\", \"Topic8\", \"Topic8\", \"Topic8\", \"Topic8\", \"Topic8\", \"Topic8\", \"Topic8\", \"Topic8\", \"Topic8\", \"Topic8\", \"Topic8\", \"Topic8\", \"Topic8\", \"Topic8\", \"Topic8\", \"Topic8\", \"Topic9\", \"Topic9\", \"Topic9\", \"Topic9\", \"Topic9\", \"Topic9\", \"Topic9\", \"Topic9\", \"Topic9\", \"Topic9\", \"Topic9\", \"Topic9\", \"Topic9\", \"Topic9\", \"Topic9\", \"Topic9\", \"Topic9\", \"Topic9\", \"Topic9\", \"Topic9\", \"Topic9\", \"Topic9\", \"Topic9\", \"Topic9\", \"Topic9\", \"Topic9\", \"Topic9\", \"Topic9\", \"Topic9\", \"Topic9\", \"Topic9\", \"Topic9\", \"Topic9\", \"Topic9\", \"Topic9\", \"Topic9\", \"Topic9\", \"Topic9\", \"Topic9\", \"Topic9\", \"Topic9\", \"Topic9\", \"Topic9\", \"Topic9\", \"Topic9\", \"Topic9\", \"Topic9\", \"Topic9\", \"Topic9\", \"Topic9\", \"Topic9\", \"Topic9\", \"Topic9\", \"Topic9\", \"Topic9\", \"Topic9\", \"Topic9\", \"Topic9\", \"Topic9\", \"Topic9\", \"Topic10\", \"Topic10\", \"Topic10\", \"Topic10\", \"Topic10\", \"Topic10\", \"Topic10\", \"Topic10\", \"Topic10\", \"Topic10\", \"Topic10\", \"Topic10\", \"Topic10\", \"Topic10\", \"Topic10\", \"Topic10\", \"Topic10\", \"Topic10\", \"Topic10\", \"Topic10\", \"Topic10\", \"Topic10\", \"Topic10\", \"Topic10\", \"Topic10\", \"Topic10\", \"Topic10\", \"Topic10\", \"Topic10\", \"Topic10\", \"Topic10\", \"Topic10\", \"Topic10\", \"Topic10\", \"Topic10\", \"Topic10\", \"Topic10\", \"Topic10\", \"Topic10\", \"Topic10\", \"Topic10\", \"Topic10\", \"Topic10\", \"Topic10\", \"Topic10\", \"Topic10\", \"Topic10\", \"Topic10\", \"Topic10\", \"Topic10\", \"Topic10\", \"Topic10\", \"Topic10\", \"Topic10\", \"Topic10\", \"Topic10\", \"Topic10\", \"Topic10\", \"Topic10\", \"Topic10\", \"Topic10\", \"Topic10\", \"Topic10\", \"Topic10\", \"Topic10\"], \"logprob\": [30.0, 29.0, 28.0, 27.0, 26.0, 25.0, 24.0, 23.0, 22.0, 21.0, 20.0, 19.0, 18.0, 17.0, 16.0, 15.0, 14.0, 13.0, 12.0, 11.0, 10.0, 9.0, 8.0, 7.0, 6.0, 5.0, 4.0, 3.0, 2.0, 1.0, -4.5197, -5.3435, -5.3741, -5.4353, -5.6627, -5.7713, -5.8558, -5.9717, -6.1086, -6.1524, -5.7538, -6.4539, -6.5045, -4.6094, -6.8159, -6.9145, -6.9442, -7.0963, -7.1851, -7.2402, -7.4068, -7.4087, -7.437, -7.4848, -7.5059, -7.5911, -7.7495, -7.7713, -7.7951, -7.9051, -4.1989, -5.8596, -2.5388, -1.466, -3.7573, -5.3643, -6.2189, -2.9084, -5.2944, -5.1887, -3.2505, -6.0724, -5.5206, -4.1682, -4.8916, -5.8706, -3.1661, -4.0348, -5.7505, -4.9475, -5.6612, -4.8397, -4.1798, -4.5727, -3.7547, -4.9375, -4.6077, -4.8982, -5.2292, -4.9763, -4.9619, -4.9582, -4.4548, -4.9115, -5.0452, -5.079, -5.1, -4.96, -6.2094, -6.2928, -6.3619, -6.5931, -6.8518, -7.0298, -7.2861, -7.3624, -6.6801, -7.5549, -7.5903, -7.7582, -7.8031, -7.828, -7.8558, -7.9722, -7.9856, -7.9879, -8.005, -7.8149, -8.1018, -8.1057, -8.1908, -8.1909, -8.1957, -8.2026, -8.2134, -8.2192, -7.2121, -6.4397, -6.171, -7.1296, -7.7561, -4.1709, -2.1514, -6.0745, -5.4159, -5.1514, -4.6245, -6.7647, -5.0884, -3.106, -5.0367, -3.1493, -2.4232, -6.3337, -6.4534, -6.5084, -3.062, -4.6813, -5.0936, -2.9536, -4.8501, -5.6043, -5.5676, -5.3241, -4.3236, -4.2602, -4.0642, -5.4426, -4.7965, -4.6786, -4.7571, -5.3443, -5.3108, -5.3258, -5.1767, -4.6009, -5.158, -5.1633, -5.3136, -4.1255, -4.5704, -4.9039, -6.0105, -6.3532, -6.4369, -6.6243, -7.0067, -7.5816, -7.5958, -7.7432, -7.7464, -7.8013, -7.8368, -7.8721, -7.9453, -6.6328, -8.0148, -6.9865, -8.0423, -8.0559, -8.1247, -8.1275, -8.2415, -8.2947, -8.3201, -8.3514, -8.3883, -8.3932, -8.4162, -3.391, -5.7483, -5.5872, -5.5839, -7.3734, -5.5664, -4.0708, -5.2369, -4.6709, -4.249, -5.2267, -6.5124, -5.718, -4.9876, -3.7654, -4.1767, -5.7633, -5.8987, -3.7754, -4.5796, -4.8465, -3.5479, -3.6886, -4.9635, -3.3102, -4.2067, -3.5722, -4.4874, -3.4719, -2.9496, -4.3852, -4.2769, -3.7785, -3.6504, -3.2972, -3.8433, -4.3601, -4.55, -3.7473, -4.8684, -2.4308, -2.4576, -3.3733, -3.4381, -4.9744, -5.1926, -5.5023, -5.6719, -5.7204, -5.7292, -5.7473, -5.9349, -6.1063, -6.1123, -6.2196, -6.3022, -6.3305, -6.335, -6.3399, -6.4073, -2.1308, -6.4377, -6.5388, -6.5545, -6.6448, -6.656, -6.656, -6.656, -6.6617, -6.6674, -2.8225, -2.7581, -3.5962, -5.2359, -5.9778, -5.3421, -4.1109, -4.1835, -4.8014, -4.8498, -5.7853, -5.0648, -5.9135, -5.3693, -5.1283, -4.1928, -5.6068, -4.2886, -3.6909, -4.3114, -4.476, -5.3819, -4.5775, -5.1885, -4.976, -5.0097, -5.4027, -5.3127, -5.3983, -5.5662, -5.9402, -6.3909, -6.413, -6.4244, -6.5641, -6.6774, -6.693, -6.8339, -6.8573, -6.8989, -6.9689, -6.9758, -6.9835, -7.0154, -7.0198, -7.11, -7.2193, -7.2366, -7.2574, -7.2616, -7.2993, -7.3023, -7.3209, -5.9487, -7.3528, -7.4276, -7.4578, -4.5694, -6.5355, -6.6673, -6.345, -6.6672, -6.2301, -4.555, -6.8565, -5.9334, -4.8841, -5.315, -5.8554, -4.5641, -5.094, -4.5278, -5.1482, -5.7979, -4.669, -6.2261, -5.5137, -5.5219, -4.7799, -5.921, -5.835, -4.1399, -5.3005, -4.4859, -5.5252, -5.2522, -3.9484, -5.443, -3.9178, -4.9418, -5.3215, -5.0816, -4.0409, -4.5368, -4.7054, -4.7885, -4.8378, -4.8961, -4.6121, -4.4533, -5.0391, -5.0955, -5.0268, -4.5257, -4.9661, -5.1267, -4.9605, -4.9296, -5.3721, -5.4108, -5.625, -5.7203, -5.737, -5.8235, -5.8758, -5.8835, -5.9707, -6.0117, -6.0968, -6.3324, -6.4008, -6.4687, -6.5234, -6.5336, -6.6413, -6.6508, -6.6996, -6.7241, -6.8095, -6.9187, -6.9491, -6.9534, -6.9542, -6.9954, -7.0084, -7.0432, -7.1446, -6.5972, -6.4511, -4.2955, -5.7021, -5.5899, -5.7191, -3.3507, -3.8976, -5.8344, -4.4741, -6.045, -4.7802, -5.4054, -5.4708, -6.0091, -5.2329, -5.2001, -4.0809, -3.6117, -5.0191, -4.9337, -5.1083, -3.8677, -5.4064, -5.1667, -4.5673, -4.9883, -4.6149, -3.632, -5.0867, -4.4246, -4.7024, -5.1096, -4.1264, -4.2364, -4.6701, -4.83, -5.0847, -4.4986, -4.9585, -5.0021, -5.0401, -4.5294, -5.0641, -4.9355, -3.6001, -4.884, -5.2849, -5.2903, -5.5115, -6.1573, -6.1973, -6.2248, -6.2927, -6.4209, -6.5436, -6.5443, -6.5774, -6.6033, -6.6367, -6.6769, -6.7712, -6.8141, -6.9945, -7.0024, -7.0101, -4.7681, -7.0346, -7.0443, -7.0886, -7.1131, -7.1146, -7.1195, -5.4068, -7.1829, -3.1359, -4.3686, -4.9293, -3.9357, -4.9118, -4.8774, -5.5622, -3.6681, -6.5458, -2.3592, -5.8997, -3.1672, -5.7169, -4.4409, -3.268, -5.5994, -4.7784, -5.3646, -5.3249, -5.2964, -4.4031, -4.0028, -5.0951, -5.0182, -5.5399, -4.9009, -4.6403, -4.3939, -4.6338, -4.0367, -4.8527, -4.0237, -4.8381, -4.9563, -4.9478, -4.867, -4.4988, -4.8285, -4.7889, -4.7896, -5.0046, -5.0511, -5.2618, -5.3078, -5.397, -5.5899, -5.7907, -5.9701, -6.0693, -6.1491, -6.2336, -6.2689, -6.278, -3.4503, -6.4398, -6.4646, -6.482, -6.4887, -6.5334, -6.5604, -6.6469, -6.6521, -6.6567, -6.7178, -6.8281, -6.8831, -6.904, -6.9091, -6.9396, -4.9366, -1.7868, -5.4099, -4.7011, -2.4601, -3.2945, -3.5408, -5.5603, -4.9011, -5.3536, -4.8176, -5.4187, -5.9533, -5.746, -3.3496, -5.0736, -4.7397, -4.9754, -5.1237, -4.0223, -5.4751, -3.262, -3.7687, -3.118, -4.9447, -4.1977, -4.7644, -4.7997, -4.5354, -4.9417, -4.8694, -4.9949, -5.187, -3.2776, -4.1124, -4.796, -4.9044, -4.918, -5.0281, -5.0866, -5.1572, -5.35, -5.0755, -5.7253, -5.7567, -5.7984, -5.8287, -5.9056, -5.9567, -5.9656, -5.988, -6.0104, -6.17, -6.2401, -6.2664, -6.3025, -6.3038, -6.3232, -6.3515, -6.4653, -6.4855, -6.5415, -6.5574, -5.8718, -2.4198, -5.8134, -4.5925, -5.2028, -4.0318, -5.3085, -5.5544, -5.4466, -4.5579, -3.2206, -4.9166, -3.8463, -5.1887, -4.1953, -3.6867, -4.362, -4.5157, -5.2192, -4.971, -4.0303, -5.0823, -4.5103, -4.1167, -5.0474, -4.184, -4.9458, -4.78, -5.0252, -5.1042, -3.3294, -4.7674, -4.8878, -4.9468, -5.2862, -5.2993, -5.3391, -5.3556, -5.4359, -5.4404, -5.4553, -5.5308, -5.5372, -5.6102, -5.6148, -5.6277, -5.6918, -5.706, -5.7959, -5.8066, -5.8753, -5.8894, -5.8941, -5.896, -6.0194, -6.0766, -6.1479, -6.154, -6.2114, -6.2342, -4.8176, -4.1526, -4.517, -5.3199, -5.261, -3.7734, -4.1113, -5.6342, -5.3648, -4.6443, -3.7493, -3.168, -3.4863, -4.8441, -3.7674, -4.3469, -4.4249, -4.5275, -4.7982, -5.2653, -4.4857, -4.536, -4.053, -4.7319, -4.5191, -4.146, -4.6475, -4.9739, -4.5426, -4.5465, -4.0502, -4.8037, -4.624, -4.7923, -4.8057], \"loglift\": [30.0, 29.0, 28.0, 27.0, 26.0, 25.0, 24.0, 23.0, 22.0, 21.0, 20.0, 19.0, 18.0, 17.0, 16.0, 15.0, 14.0, 13.0, 12.0, 11.0, 10.0, 9.0, 8.0, 7.0, 6.0, 5.0, 4.0, 3.0, 2.0, 1.0, 1.2812, 1.2809, 1.2808, 1.2808, 1.2807, 1.2806, 1.2805, 1.2804, 1.2803, 1.2802, 1.2799, 1.2798, 1.2797, 1.2792, 1.2791, 1.2789, 1.2788, 1.2784, 1.2781, 1.2779, 1.2773, 1.2773, 1.2771, 1.2769, 1.2768, 1.2764, 1.2756, 1.2755, 1.2753, 1.2746, 1.2712, 1.2733, 1.1993, 1.1656, 1.2105, 1.2429, 1.2526, 1.1512, 1.2202, 1.2103, 1.1116, 1.2284, 1.1987, 1.1197, 1.158, 1.211, 1.007, 1.0376, 1.1996, 1.1039, 1.1847, 1.0098, 0.8649, 0.9445, 0.6608, 0.9716, 0.7845, 0.8956, 0.9691, 0.7992, 0.7427, 0.5051, -0.4313, 0.2248, 0.0952, -0.6915, 1.8137, 1.8131, 1.8123, 1.8121, 1.8119, 1.8112, 1.8103, 1.8096, 1.8081, 1.8076, 1.8063, 1.8062, 1.8059, 1.8044, 1.8039, 1.8037, 1.8034, 1.802, 1.8018, 1.8018, 1.8016, 1.8015, 1.8003, 1.8003, 1.799, 1.799, 1.7989, 1.7988, 1.7987, 1.7986, 1.7918, 1.783, 1.78, 1.7889, 1.7873, 1.6638, 1.57, 1.7257, 1.6967, 1.674, 1.6332, 1.7446, 1.6517, 1.5382, 1.647, 1.5171, 1.4503, 1.7039, 1.6996, 1.7043, 1.3255, 1.4614, 1.4989, 1.0699, 1.3734, 1.5003, 1.4395, 1.3314, 0.9343, 0.8761, 0.7231, 1.2263, 0.7918, 0.6566, 0.709, 1.0041, 0.9607, 0.9531, 0.6827, -0.4278, 0.4438, -0.0928, 0.0757, 2.2455, 2.2453, 2.2451, 2.2433, 2.2422, 2.2418, 2.241, 2.2387, 2.2331, 2.2329, 2.2308, 2.2308, 2.2299, 2.2293, 2.2288, 2.2275, 2.2273, 2.2262, 2.2261, 2.2256, 2.2253, 2.2239, 2.2238, 2.2212, 2.2199, 2.2192, 2.2184, 2.2173, 2.2172, 2.2166, 2.1969, 2.1918, 2.1737, 2.1725, 2.207, 2.1666, 2.13, 2.1393, 2.0967, 2.044, 2.0862, 2.1488, 2.0986, 2.0355, 1.923, 1.9366, 2.0626, 2.0568, 1.8265, 1.9122, 1.8962, 1.71, 1.6465, 1.8457, 1.4771, 1.6691, 1.4983, 1.6406, 1.1316, 0.9239, 1.4743, 1.3725, 0.8878, 0.737, 0.4241, 0.8009, 1.0321, 0.8558, -1.1157, 0.1763, 2.3017, 2.3017, 2.3016, 2.3016, 2.3008, 2.3006, 2.3001, 2.2998, 2.2997, 2.2997, 2.2996, 2.2992, 2.2987, 2.2987, 2.2983, 2.298, 2.2979, 2.2979, 2.2979, 2.2976, 2.2976, 2.2975, 2.297, 2.2969, 2.2965, 2.2964, 2.2964, 2.2964, 2.2964, 2.2963, 2.2961, 2.2653, 2.2163, 2.2598, 2.2698, 2.2088, 2.1013, 1.9796, 2.0636, 1.8134, 2.0998, 1.8293, 2.0006, 1.5875, 1.2642, 0.1693, 1.6744, -0.1155, -1.0592, -0.2879, -0.0605, 1.3288, -0.5179, 0.7891, -1.1025, -1.2716, -0.6154, 2.5093, 2.5091, 2.5088, 2.5078, 2.5059, 2.5058, 2.5057, 2.505, 2.5042, 2.5041, 2.5031, 2.5029, 2.5026, 2.502, 2.5019, 2.5018, 2.5015, 2.5015, 2.5006, 2.4994, 2.4992, 2.499, 2.4989, 2.4984, 2.4984, 2.4982, 2.4979, 2.4978, 2.4967, 2.4963, 2.4816, 2.4948, 2.4895, 2.4822, 2.4816, 2.461, 2.3754, 2.482, 2.433, 2.3736, 2.395, 2.4145, 2.2904, 2.3205, 2.2504, 2.3086, 2.3656, 2.2112, 2.4128, 2.2911, 2.2748, 2.0945, 2.3366, 2.2965, 1.8353, 2.1425, 1.8991, 2.1999, 2.1083, 1.5743, 2.1346, 1.4881, 1.9077, 2.0752, 1.9484, 1.3484, 1.5728, 1.6557, 1.6661, 1.6539, 1.6381, 1.3702, 1.0127, 1.6675, 1.745, 1.5917, 0.519, 1.2611, 1.7128, -1.2225, -2.2979, 2.7374, 2.7374, 2.7368, 2.7365, 2.7364, 2.7361, 2.7359, 2.7359, 2.7355, 2.7354, 2.735, 2.7337, 2.7333, 2.7328, 2.7324, 2.7324, 2.7315, 2.7313, 2.731, 2.7308, 2.73, 2.7289, 2.7286, 2.7285, 2.7285, 2.7281, 2.7279, 2.7275, 2.7262, 2.725, 2.72, 2.6739, 2.7016, 2.6927, 2.6912, 2.6146, 2.6253, 2.6842, 2.6155, 2.6924, 2.6097, 2.6024, 2.5888, 2.6492, 2.5354, 2.523, 2.3079, 2.1964, 2.4497, 2.3903, 2.4044, 2.0121, 2.4844, 2.3882, 2.1387, 2.3075, 2.0248, 1.4386, 2.2472, 1.685, 1.8736, 2.2054, 1.2629, 1.2297, 1.6014, 1.7252, 1.9125, 0.2886, 1.4339, 1.5015, 1.5811, -1.8977, 1.2632, -1.1975, 2.7411, 2.74, 2.7393, 2.7393, 2.7388, 2.7364, 2.7362, 2.736, 2.7356, 2.7349, 2.734, 2.734, 2.7337, 2.7335, 2.7333, 2.7329, 2.7321, 2.7317, 2.7298, 2.7297, 2.7296, 2.7293, 2.7293, 2.7292, 2.7286, 2.7283, 2.7283, 2.7282, 2.7274, 2.7274, 2.7119, 2.7173, 2.6693, 2.6299, 2.6588, 2.6203, 2.6401, 2.4141, 2.6887, 2.2444, 2.6106, 2.1623, 2.5378, 2.1792, 1.8724, 2.4415, 2.1916, 2.3533, 2.307, 2.291, 1.8757, 1.6466, 2.0558, 1.9415, 2.3029, 1.6716, 1.3787, 1.0721, 1.3438, 0.3789, 1.5811, -0.0002, 1.2951, 1.5472, 1.5215, 1.2426, -0.4393, 0.9653, 0.7338, 0.5997, 2.8009, 2.8008, 2.8004, 2.8003, 2.8001, 2.7995, 2.7989, 2.7982, 2.7977, 2.7972, 2.7968, 2.7966, 2.7966, 2.7965, 2.7955, 2.7953, 2.7952, 2.7952, 2.7948, 2.7946, 2.7939, 2.7939, 2.7938, 2.7933, 2.7922, 2.7916, 2.7914, 2.7913, 2.791, 2.791, 2.7668, 2.7859, 2.7786, 2.7506, 2.7429, 2.7294, 2.7655, 2.7301, 2.7116, 2.6018, 2.6284, 2.6958, 2.653, 2.1137, 2.434, 2.2771, 2.3593, 2.3158, 1.6823, 2.436, 1.1536, 1.3718, 0.9055, 2.1107, 1.5777, 1.7049, 1.6376, -0.3623, 0.9078, 0.4601, 0.9827, 1.8096, 3.0211, 3.0206, 3.0197, 3.0195, 3.0195, 3.0193, 3.0191, 3.019, 3.0184, 3.0178, 3.0171, 3.0169, 3.0167, 3.0166, 3.0162, 3.0159, 3.0159, 3.0158, 3.0156, 3.0146, 3.0141, 3.0139, 3.0137, 3.0137, 3.0135, 3.0133, 3.0123, 3.0121, 3.0116, 3.0114, 3.0009, 2.9286, 2.9962, 2.9508, 2.9559, 2.8764, 2.9204, 2.9301, 2.9078, 2.6903, 2.3677, 2.6916, 2.316, 2.756, 2.2594, 1.7191, 1.7712, 1.8116, 2.4137, 2.1644, 1.0421, 2.1551, 1.0124, -0.0932, 1.8467, -1.5523, 1.1645, 0.0073, 0.95, -0.7167, 3.3846, 3.3828, 3.3825, 3.3823, 3.3811, 3.3811, 3.3809, 3.3808, 3.3805, 3.3805, 3.3804, 3.38, 3.38, 3.3796, 3.3796, 3.3795, 3.3791, 3.379, 3.3785, 3.3784, 3.3779, 3.3778, 3.3778, 3.3778, 3.3768, 3.3763, 3.3756, 3.3756, 3.375, 3.3748, 3.3739, 3.3668, 3.368, 3.3543, 3.3451, 3.2753, 3.2803, 3.3579, 3.3157, 3.2143, 3.0473, 2.851, 2.8767, 3.18, 2.7075, 2.9058, 2.855, 2.8014, 2.906, 3.1977, 2.5652, 2.5994, 2.0603, 2.6294, 2.3486, 1.8362, 2.3105, 2.8037, 1.8954, 1.5049, -0.3289, 1.5814, -0.2085, 1.3409, 1.0741]}, \"token.table\": {\"Topic\": [1, 1, 4, 8, 10, 1, 10, 1, 2, 3, 4, 5, 6, 7, 8, 9, 8, 1, 2, 3, 5, 6, 7, 9, 7, 1, 2, 3, 4, 5, 6, 8, 10, 5, 8, 9, 1, 8, 4, 2, 3, 2, 3, 4, 5, 7, 2, 3, 5, 7, 8, 9, 1, 2, 3, 4, 7, 8, 9, 10, 3, 10, 3, 6, 3, 7, 9, 2, 9, 6, 6, 8, 1, 2, 3, 5, 6, 9, 2, 1, 2, 4, 7, 8, 9, 2, 3, 1, 8, 1, 4, 8, 7, 4, 6, 2, 3, 6, 7, 2, 3, 5, 10, 6, 10, 3, 1, 4, 8, 10, 3, 2, 3, 4, 6, 9, 10, 2, 3, 5, 6, 10, 6, 7, 1, 2, 3, 6, 7, 2, 3, 2, 1, 2, 6, 7, 9, 1, 4, 8, 10, 3, 5, 10, 5, 1, 2, 3, 5, 1, 2, 3, 4, 5, 6, 8, 9, 2, 5, 6, 7, 1, 4, 8, 9, 7, 7, 8, 10, 10, 1, 2, 3, 4, 5, 6, 4, 5, 2, 1, 3, 4, 6, 7, 8, 10, 5, 4, 10, 1, 2, 3, 4, 5, 6, 7, 8, 9, 10, 10, 1, 4, 5, 7, 9, 10, 4, 3, 1, 2, 4, 6, 8, 9, 2, 4, 9, 7, 8, 9, 10, 7, 7, 8, 5, 7, 8, 10, 1, 4, 7, 2, 4, 6, 7, 8, 9, 2, 5, 6, 7, 1, 4, 7, 8, 10, 10, 10, 7, 9, 9, 1, 2, 3, 4, 6, 7, 8, 1, 4, 6, 7, 8, 10, 9, 9, 9, 2, 2, 5, 6, 1, 3, 4, 7, 8, 10, 2, 4, 6, 9, 1, 4, 5, 6, 7, 8, 9, 1, 5, 1, 2, 3, 4, 5, 6, 9, 1, 3, 9, 5, 9, 6, 4, 6, 7, 10, 1, 4, 5, 7, 9, 1, 4, 5, 7, 9, 1, 2, 3, 4, 5, 6, 7, 9, 10, 2, 3, 5, 6, 7, 9, 10, 2, 5, 6, 7, 1, 4, 6, 3, 4, 7, 9, 2, 5, 6, 7, 9, 6, 1, 2, 3, 4, 5, 6, 7, 9, 10, 10, 2, 3, 5, 6, 7, 3, 5, 9, 3, 5, 6, 7, 9, 10, 2, 3, 5, 6, 2, 7, 10, 1, 4, 7, 2, 5, 8, 2, 7, 9, 2, 7, 9, 3, 5, 6, 8, 9, 10, 1, 2, 3, 4, 5, 6, 8, 10, 1, 2, 3, 4, 5, 6, 7, 8, 9, 10, 5, 3, 5, 2, 3, 5, 6, 7, 9, 5, 7, 4, 7, 1, 2, 4, 6, 9, 2, 5, 2, 5, 7, 4, 2, 7, 9, 1, 6, 9, 2, 3, 5, 6, 6, 1, 1, 3, 4, 6, 9, 1, 2, 3, 5, 6, 7, 8, 9, 5, 1, 3, 7, 9, 3, 7, 10, 4, 10, 4, 5, 6, 10, 6, 1, 1, 2, 4, 5, 7, 8, 1, 1, 2, 3, 4, 5, 9, 2, 3, 5, 5, 9, 10, 9, 2, 2, 4, 7, 9, 8, 1, 4, 5, 7, 8, 9, 10, 8, 2, 9, 1, 4, 6, 7, 8, 9, 10, 7, 10, 2, 3, 5, 9, 10, 2, 8, 1, 6, 9, 10, 7, 1, 2, 4, 7, 8, 10, 2, 3, 4, 5, 6, 7, 8, 9, 10, 7, 7, 8, 6, 1, 2, 3, 6, 2, 3, 5, 6, 7, 9, 10, 2, 7, 9, 10, 9, 2, 5, 3, 10, 2, 4, 6, 7, 8, 9, 7, 1, 8, 2, 3, 4, 5, 6, 7, 9, 10, 8, 2, 3, 7, 9, 9, 1, 2, 3, 6, 1, 6, 8, 9, 1, 2, 3, 5, 6, 5, 8, 1, 4, 10, 5, 1, 2, 3, 5, 6, 1, 2, 3, 4, 5, 7, 9, 10, 3, 7, 7, 1, 3, 6, 7, 2, 3, 4, 6, 7, 8, 5, 6, 6, 7, 9, 10, 5, 5, 2, 4, 5, 6, 9, 10, 7, 3, 6, 6, 4, 2, 3, 4, 5, 10, 1, 2, 3, 5, 6, 6, 2, 3, 5, 6, 4, 10, 2, 5, 9, 4, 4, 3, 3, 1, 4, 7, 8, 9, 2, 9, 1, 2, 3, 4, 1, 4, 5, 6, 7, 8, 9, 1, 4, 4, 4, 4, 3, 4, 5, 6, 9, 1, 6, 7, 8, 7, 4, 8, 6, 8, 9, 7, 10, 3, 4, 6, 10, 9, 4, 4, 3, 2, 1, 2, 4, 2, 4, 7, 9, 4, 6, 7, 8, 6, 9, 1, 4, 6, 9, 6, 10, 5, 5, 9, 3, 5, 1, 2, 4, 8, 9, 10, 6, 6, 1, 2, 3, 4, 5, 6, 7, 8, 9, 10, 1, 4, 8, 8, 7, 9, 10, 4, 3, 9, 8, 3, 1, 9, 4, 1, 4, 1, 4, 8, 1, 6, 1, 4, 8, 10, 3, 2, 1, 8, 8, 1, 2, 4, 7, 8, 9, 10, 3, 4, 4, 8, 9, 1, 10, 4, 6, 9, 1, 2, 3, 4, 10, 4, 8, 10, 1, 2, 3, 5, 8, 9, 10, 10, 1, 2, 5, 10, 4, 4, 4, 4, 4, 1, 4, 6, 7, 8, 9, 3, 7, 8, 9, 10, 8, 3, 5, 9, 7, 3, 1, 4, 10, 2, 2, 3, 4, 6, 7, 8, 2, 6, 7, 4, 6, 4, 6, 1, 4, 7, 5, 8, 4, 8, 1, 7, 9, 8, 2, 1, 9, 10, 1, 3, 4, 5, 6, 9, 5, 5, 8, 2, 9, 5, 4, 6, 8, 9, 10, 3, 4, 7, 9, 3, 5, 9, 5, 7, 9, 4, 5, 7, 8, 9, 10, 5, 3, 3, 5, 7, 9, 10, 1, 3, 4, 5, 6, 7, 9, 3, 1, 2, 3, 4, 5, 6, 9, 3, 4, 5, 9, 1, 2, 4, 5, 7, 9, 2, 3, 5, 6, 7, 2, 5, 6, 2, 1, 2, 4, 7, 8, 9, 2, 3, 4, 5, 7, 8, 9, 1, 6, 8, 2, 3, 5, 6, 4, 6, 8, 1, 6, 7, 8, 5, 10, 5, 4, 1, 3, 6, 2, 3, 4, 5, 6, 7, 5, 7, 6, 1, 1, 4, 7, 8, 5, 4, 6, 2, 1, 4, 8, 9, 10, 6, 6, 10, 1, 3, 4, 5, 7, 8, 3, 6, 6, 7, 8, 1, 6, 3, 7, 3, 10, 10, 2, 2, 7, 9, 1, 2, 3, 5, 7, 9, 10, 1, 2, 3, 4, 5, 6, 7, 10, 9, 10, 7, 2, 2, 3, 5, 6, 2, 4, 5, 6, 7, 8, 9, 1, 2, 6, 7, 9, 2, 3, 10, 3, 1, 2, 3, 4, 5, 6, 7, 8, 9, 10, 1, 4, 1, 4, 7, 8, 2, 10, 2, 3, 5, 6, 7, 9, 1, 2, 3, 5, 6, 8, 10, 5, 1, 2, 3, 4, 7, 8, 5, 1, 2, 3, 4, 5, 6, 7, 8, 10, 5, 10, 3, 9, 9, 7, 9, 10, 4, 1, 4, 5, 8, 9, 3, 2, 9, 10, 10, 2, 3, 5, 6, 8, 9, 3, 1, 2, 3, 4, 2, 3, 7, 8, 9, 1, 4, 2, 6, 7, 8, 9, 1, 3, 4, 7, 9, 7, 3, 1, 4, 7, 7, 7, 3, 4, 5, 8, 10, 1, 2, 3, 4, 5, 7, 8, 9, 10, 1, 2, 3, 5, 8, 9, 1, 3, 6, 9, 2, 4, 1, 2, 4, 5, 6, 7, 8, 10, 1, 4, 7, 8, 9, 2, 5, 7, 8, 9, 1, 4, 8, 9, 6, 1, 8, 1, 2, 3, 5, 7, 8, 9, 3, 9, 10, 2, 1, 2, 4, 7, 8, 2, 5, 6, 7, 10, 1, 4, 1, 4, 8, 5, 8, 1, 2, 4, 5, 6, 7, 9, 10, 2, 7, 9, 2, 3, 4, 7, 1, 4, 7, 8, 9, 9, 1, 4, 5, 7, 9, 5, 5, 8, 9, 3, 1, 3, 4, 5, 6, 7, 10, 6, 6, 6, 8, 4, 7, 2, 1, 3, 7, 9, 3, 5, 7, 1, 4, 8, 10, 1, 2, 3, 4, 5, 6, 7, 8, 9, 10, 4, 9, 5, 1, 2, 3, 5, 9, 7, 2, 1, 7, 1, 1, 6, 1, 8, 10, 8, 1, 4, 5, 7, 9, 10, 5, 2, 7, 1, 8, 9, 2, 5, 6, 7, 4, 4, 9, 10, 8, 6, 3, 10, 1, 2, 3, 4, 6, 6, 4, 7, 8, 10, 8, 1, 5, 9, 1, 6, 6, 5, 10, 8, 5, 1, 4, 7, 8, 2, 3, 4, 9, 1, 9, 1, 4, 1, 2, 5, 6, 1, 4, 7, 8, 3, 9, 1, 4, 6, 7, 8, 9, 10, 7, 9, 2, 1, 6, 9, 1, 2, 3, 5, 6, 7, 9, 10, 2, 8, 10, 5, 8, 1, 3, 4, 5, 9, 6, 2, 5, 6, 7, 8, 5, 5, 2, 3, 5, 7, 9, 10, 2, 3, 5, 9, 9, 2, 3, 2, 6, 9, 9, 1, 6, 2, 3, 4, 9, 6, 9, 2, 3, 5, 3, 9, 3, 7, 9, 1, 2, 3, 4, 5, 6, 8, 9, 1, 2, 3, 4, 5, 6, 8, 9, 8, 4, 7, 8, 9, 4, 7, 8, 4, 1, 4, 6, 7, 7, 1, 2, 7, 9, 2, 3, 9, 1, 4], \"Freq\": [0.9953521106856291, 0.30221507498182937, 0.0014670634707855796, 0.6924539582107935, 0.004401190412356738, 0.9975978320562638, 0.9953160282378982, 0.3078384914566707, 0.14923031506376355, 0.12313539658266828, 0.019978921962088562, 0.2866363701907808, 0.010601060632944952, 0.004485064113938249, 0.04118104322797847, 0.0570826341773959, 0.9936486558379993, 0.004700096069172761, 0.7296899147390711, 0.14922805019623517, 0.0041125840605261655, 0.0364257445360889, 0.06932641702029822, 0.005875120086465951, 0.989796225337663, 0.015145644733124426, 0.010967535841228032, 0.0668497422703423, 0.011489799452715081, 0.0626716333784459, 0.21360581709820312, 0.11176441285822852, 0.5076402303654118, 0.001663155510934027, 0.9941512066608147, 0.004157888777335067, 0.06805964111080762, 0.9295950980988358, 0.9979438434483602, 0.742759613784048, 0.2571453128739518, 0.038856979390145444, 0.8105746630921038, 0.006325554784442282, 0.13916220525773018, 0.005421904100950527, 0.05261421739475803, 0.025163321362710364, 0.0034313620040059586, 0.8944416957108865, 0.018872491022032773, 0.005147043006008938, 0.02410030557264804, 0.23899469692875971, 0.5617666465624388, 0.024961030771671184, 0.0008607251990231442, 0.021231221575904225, 0.041888626352459685, 0.08607251990231442, 0.9522485987787362, 0.04776303410051501, 0.970442123118761, 0.9896844317128917, 0.32096803758525877, 0.6371692231271722, 0.03972376702787856, 0.9937825606657122, 0.9954882807487462, 0.9872511435769369, 0.9631970615950389, 0.03594018886548653, 0.004062114295041298, 0.6434389043345417, 0.22869703481082507, 0.07555532588776814, 0.04590189153396667, 0.002437268577024779, 0.999529267077484, 0.49584506608397944, 0.1741079968692832, 0.034458874380378965, 0.11462109793894476, 0.024302574563004112, 0.15597174719539952, 0.016141176623631532, 0.9765411857297077, 0.09647216489607556, 0.9004068723633719, 0.617394112192631, 0.0884957512642653, 0.2937747519975024, 0.9917801609149743, 0.04014412163780983, 0.9534228888979834, 0.16328689429244475, 0.8173053348984501, 0.016546405288301067, 0.003048022026792302, 0.41467597476254364, 0.5851246596518845, 0.9961817010063252, 0.9952608027312418, 0.9870807270075749, 0.9964473246969435, 0.9908161729798279, 0.5981467970328371, 0.09004901317819836, 0.3119016098909663, 0.9966605992745619, 0.9923880096642624, 0.2395292686437615, 0.1322701784679406, 0.35448407829408074, 0.27079312900891106, 0.0028858948029368853, 0.9985366906932037, 0.13310105772813058, 0.03646604321318646, 0.7329674685850478, 0.0966350145149441, 0.9851806043713699, 0.011617658443835598, 0.9875009677260258, 0.04413574484316762, 0.8343757477494068, 0.023118723489278275, 0.06809514918660146, 0.03026451074960065, 0.9743279579677773, 0.018043110332736617, 0.9832695760126131, 0.005507234410062528, 0.8602300148517668, 0.0016521703230187583, 0.1316229024004944, 0.0005507234410062527, 0.06081386637839298, 0.042927435090630336, 0.8621259880701593, 0.03219557631797275, 0.16475217339560472, 0.019671901300967725, 0.8139249163275397, 0.9933172441981545, 0.9985236760488628, 0.39585612363872297, 0.03367052086122471, 0.5696688124088289, 0.8907121582245957, 0.009914581858449336, 0.03467865595861681, 0.03470103650457267, 0.008157709000913732, 0.009679586125912727, 0.0018352047683811413, 0.010317431685654953, 0.894762385076093, 0.054832235297142186, 0.04735511230207735, 0.9929556774987355, 0.7835702560273825, 0.05087617992897909, 0.027236742790261535, 0.1381108419789205, 0.9827732211130816, 0.8756363139122851, 0.047980071995193704, 0.07197010799279056, 0.9937089128405432, 0.03795948156338537, 0.14850364746756844, 0.4734675876081716, 0.002949554310668458, 0.06489019483470607, 0.27225668702387545, 0.9947265412944636, 0.9927283308234545, 0.9769056303766956, 0.23678462267263592, 0.010658188611785314, 0.026789501105298222, 0.4830751973503776, 0.03658351226207392, 0.10686994526952302, 0.09909234817443643, 0.9852219979194555, 0.03520253819920305, 0.959269165928283, 0.06120490998591988, 0.17567749379243863, 0.09753981332050056, 0.0015874472330642045, 0.3127271049136483, 0.22841601853534943, 0.11747109524675113, 0.00035276605179204544, 0.0038804265697125, 0.001234681181272159, 0.9946258934579015, 0.049333635233216516, 0.7247072772631418, 0.021416151729148254, 0.05354037932287063, 0.06922006183885418, 0.0814578628269389, 0.9998223974714154, 0.9851005592750594, 0.7600269768632079, 0.10621559951760924, 0.08917510471311091, 0.0017249580630320398, 0.04223533681605722, 0.0006272574774661963, 0.06751443873656926, 0.6235156989200807, 0.3089778431591228, 0.2661355405806971, 0.17020296199928303, 0.20811180353548697, 0.35433162088941644, 0.9984162957624619, 0.984372214222943, 0.9968035078188422, 0.09201233116642556, 0.2981199529792188, 0.05152690545319831, 0.5582081424096483, 0.453335105160645, 0.4897034065074878, 0.055821113695154044, 0.25892736862306037, 0.008630912287435346, 0.6115617849382758, 0.08630912287435345, 0.024659749392672414, 0.009863899757068965, 0.11038791810507484, 0.23858033913032303, 0.6492708731556552, 0.0011869668613448908, 0.3157429999087693, 0.22044833192825541, 0.2471308389627993, 0.1620009355668736, 0.054635609642161284, 0.9970785258054089, 0.9836938239508625, 0.021575821542539442, 0.9763059247999097, 0.995608268879289, 0.29676404666367096, 0.0887284396274827, 0.027570984065036996, 0.20853689765555256, 0.012030974864743416, 0.31330663710269313, 0.053136805652616755, 0.8779126855528697, 0.059631805056421336, 0.005412589504338713, 0.04157428662384304, 0.00886544832607203, 0.006625756117380148, 0.9935638731251739, 0.9927884263559209, 0.9949452062404445, 0.9890678274161936, 0.023954177492257776, 0.9533762641918595, 0.023954177492257776, 0.3054508780432107, 0.0015128138939555686, 0.012377568223272834, 0.41932450569732077, 0.239162123780794, 0.022142094266076957, 0.15841458181112733, 0.029222107324382712, 0.7028685814338368, 0.10766039540562052, 0.9211893352930917, 0.028047082376890443, 0.023919526224923455, 0.019487478225680213, 6.766485495027851e-05, 0.00030449184727625333, 0.006969480059878687, 0.011255560723467171, 0.986737490090622, 0.1811137472030424, 0.01872272914124278, 0.11080798879511033, 0.053493511832122226, 0.05081883624051612, 0.09093897011460779, 0.4940507914209574, 0.9995346364375695, 0.9473053894700657, 0.05200005717854776, 0.7703512539700681, 0.2291954144043178, 0.9943596092827303, 0.11973854889417629, 0.8610985005581189, 0.0050952573997521825, 0.012738143499380458, 0.03341334016651205, 0.03742294098649349, 0.8259777689161779, 0.0066826680333024096, 0.09489388607289422, 0.0074336789140044945, 0.008362888778255056, 0.971024308141837, 0.0037168394570022472, 0.009292098642505619, 0.0003864287720885038, 0.33580660294490977, 0.4635213121201603, 0.05410002809239053, 0.0006762503511548816, 0.08617361617573634, 0.005023574037150549, 0.04907645405523998, 0.005216788423194801, 0.29136152017741074, 0.07001710949999793, 0.46452211356450235, 0.11067220533870639, 0.00376436072580634, 0.0564654108870951, 0.001505744290322536, 0.0038173517165875077, 0.8024073308266941, 0.19239452651601038, 0.001526940686635003, 0.4481597279583181, 0.003290453215552996, 0.5481895057111291, 0.9872956524511903, 0.1743575858990824, 0.644097434968375, 0.17846011733200198, 0.09093840693551197, 0.9048371490083441, 0.9936055806129042, 0.9837655742828897, 0.9966390066026177, 0.9819701403425095, 0.006852662463000569, 0.10581317038456761, 0.12496031550177508, 0.02599980758020804, 0.39201260266282667, 0.07598393378091807, 0.13423156471642292, 0.1340300158204523, 0.00020154889597060496, 0.9945811125566022, 0.7303909475439235, 0.07843124268928038, 0.05490186988249626, 0.04803913614718423, 0.08725475749182442, 0.9560115210365785, 0.0349760312574358, 0.99660917678519, 0.10076846891472023, 0.15003305371747233, 0.0011196496546080025, 0.28663031157964863, 0.4209882701326089, 0.04030738756588809, 0.0017961837732149287, 0.09519773998039123, 0.8909071515146046, 0.010777102639289573, 0.889420660974191, 0.0721418980567955, 0.038541561975548276, 0.0855914666942157, 0.81739850692976, 0.09629040003099266, 0.010064561803449258, 0.14845228660087656, 0.8403909105880131, 0.05880532646426838, 0.07572192722796202, 0.865163296200332, 0.0638516326604355, 0.004560830904316822, 0.9319297814487373, 0.13698563075985445, 0.006170523908101551, 0.16413593595550127, 0.6417344864425614, 0.04936419126481241, 0.0024682095632406207, 0.11884597876605893, 0.3106973444884112, 0.05772518968637148, 0.005659332322193282, 0.002829666161096641, 0.36276320185258937, 0.13129650987488414, 0.010186798179947908, 0.08555989929177096, 0.109643426499825, 0.03042129752596301, 0.04721638886842175, 0.5089229565280895, 0.050385274027376234, 0.02693552385111308, 0.00158444257947724, 0.1261216293263883, 0.012992429151713367, 0.992831746074395, 0.8287730452327811, 0.1698869954216781, 0.2539417034522682, 0.6573250451045396, 0.03817852070803002, 0.030106490615475098, 0.00021816297547445722, 0.01985283076817561, 0.18270598123920745, 0.8144351367103655, 0.9998240386237335, 0.9899277223284002, 0.5662217239955211, 0.0724995805371986, 0.008699949664463831, 0.3483604844812393, 0.004349974832231916, 0.20762244110893943, 0.7893570166688924, 0.009153402950420554, 0.9702607127445788, 0.01830680590084111, 0.9999244155540647, 0.08737057348028737, 0.0011852597177558365, 0.9112954001374161, 0.014966333036467038, 0.43901243573636645, 0.5437767669916357, 0.09075879025629026, 0.832964008352175, 0.02016862005695339, 0.05647213615946949, 0.994614582311709, 0.9952591137755236, 0.41721421749703685, 0.04449514507932388, 0.04391728605231967, 0.4206813716590621, 0.07396595545653839, 0.027974888058295348, 0.005738438576060584, 0.24908409944212972, 0.359549042031296, 0.05899832161012288, 0.022595101893238552, 0.004124502726543545, 0.2718585275408702, 0.9986540647886887, 0.0005579728765222824, 0.008648579586095377, 0.9708728051487713, 0.019808037116541024, 0.023094240997214847, 0.9757316821323273, 0.9946575799064595, 0.019420460032417954, 0.9710230016208977, 0.8181646637256198, 0.07189566755369953, 0.10724102366948478, 0.0020082588702150708, 0.9960794389405825, 0.9944786594030763, 0.7316215566248985, 0.017825105602664013, 0.026935715132914508, 0.02416292092805566, 0.0740732166155149, 0.12477573921864808, 0.9992151657058231, 0.13906313213871418, 0.6133156954920748, 0.22112786824479283, 0.00012954180916508075, 0.002526065278719075, 0.023770921981792318, 0.18342974049357158, 0.008213271962398728, 0.8076384096358749, 0.28170111560671557, 0.004322779267622234, 0.7132585791576687, 0.9988006202585117, 0.9924514418274488, 0.004232543391970706, 0.17706139856410788, 0.7209432244323436, 0.09734849801532623, 0.9931321321561555, 0.08535789091865152, 0.07904882941596858, 0.15030411226979942, 0.23529088192358721, 0.0337720351025969, 0.2865056164747781, 0.12952132143743209, 0.9977532106961325, 0.9667634701762096, 0.03199689972214405, 0.20999082872965363, 0.04013158060166714, 0.027065484591822023, 0.13532742295911013, 0.5002448186626416, 0.04293145831806252, 0.043864750890194315, 0.16781018655497149, 0.8276093291461094, 0.03531673873612202, 0.026615513250410797, 0.42943106955951266, 0.4667951554687432, 0.04145878025544759, 0.9849052080530626, 0.9949288330331647, 0.11324196853153716, 0.006066534028475205, 0.42465738199326436, 0.45600114114038626, 0.9960457545078181, 0.6798456970074248, 0.014802239126133666, 0.031983409540395955, 0.1691684471558133, 0.08405557218054474, 0.019824427401071872, 0.7831363414207642, 0.1617310627770556, 0.001962997881885678, 0.0076523646243001, 0.0008983210645917509, 0.005955535946737904, 0.0023622516883709003, 0.011911071893475808, 0.024387753346139015, 0.9958335883439203, 0.9988527113954785, 0.9939584668865334, 0.9944578477828019, 0.9989901868501854, 0.8691249936060707, 0.06155066080998623, 0.06896640307624964, 0.2109201579560532, 0.2597489296069772, 0.22249811412070528, 0.07148129458176504, 0.0025169469923156705, 0.007047451578483878, 0.2255184505114841, 0.16526672879769785, 0.0192170614881044, 0.25558691779178855, 0.5592164893038382, 0.9962411164989121, 0.9969426534976833, 0.9936570272721498, 0.929448057465509, 0.0696145306198863, 0.046580546998574446, 0.004932057917496117, 0.8916064701962426, 0.021920257411093855, 0.020824244540539164, 0.014248167317211007, 0.9975788111243392, 0.9977747788066508, 0.9900904200797607, 0.09709004006565282, 0.007018557113179722, 0.5334103406016588, 0.051469418829984626, 0.018716152301812592, 0.08422268535815666, 0.142710661301321, 0.06433677353748078, 0.9889839356411438, 0.4224492725474056, 0.05538206926688549, 0.4207319990817658, 0.10088981610634179, 0.993797031394926, 0.9918365669214445, 0.09991390263123316, 0.8632561187338545, 0.03596900494724394, 0.21651886428271713, 0.14525949122764567, 0.6139269063206156, 0.023296333498773362, 0.026601535690504517, 0.7025053439393799, 0.09479138774222033, 0.16747727399514817, 0.007868059852121054, 0.9866334311625635, 0.9955103449664268, 0.9075345174297763, 0.09158605221768384, 0.9969956785595299, 0.994359424333808, 0.05554291773248819, 0.012074547333149607, 0.8524630417203622, 0.060372736665748036, 0.019319275733039373, 0.09066461454993793, 0.4445787698235535, 0.15233496150268758, 0.014267020563695816, 0.014727247033492456, 0.10953389981160014, 0.03175562641596811, 0.1417497526973649, 0.9881611769325366, 0.9911505241162392, 0.9928795616473066, 0.026652930228447416, 0.0437869568038779, 0.8148181526982495, 0.11422684383620321, 0.05250130422947605, 0.0036628816904285618, 0.08058339718942836, 0.70449424512576, 0.11232837183980922, 0.045175540848618925, 0.9716994497284921, 0.021959309598384002, 0.07138551003616406, 0.0064895918214694604, 0.02503128273995363, 0.8955636713627855, 0.9859012042524388, 0.9941181290089072, 0.09293224009778105, 0.17372257947926908, 0.0639784768512362, 0.045765625776796694, 0.02194882052560658, 0.6014910816378994, 0.9973865887344159, 0.19289334753761442, 0.8043288642606186, 0.9955715753959924, 0.9954517722854241, 0.2150842635197148, 0.12109074678472131, 0.016935768781079906, 0.30569062649849227, 0.3412557409387601, 0.046564831103249014, 0.03668744268740831, 0.05220905305515798, 0.11570655001413391, 0.7478594086279386, 0.9956533332241807, 0.3192045250451, 0.09733319797776724, 0.26902654099444984, 0.31376353882274033, 0.008721355041907634, 0.988420238082865, 0.9306842815133801, 0.05192659081405125, 0.011983059418627212, 0.9986822336344108, 0.9987378314345812, 0.9683988872672028, 0.9719862038517162, 0.4602030525324947, 0.010826072634895666, 0.02013269647892878, 0.5021778253800726, 0.006647588460023654, 0.9916159918370752, 0.0039039999678625007, 0.713970544376296, 0.07576666641612574, 0.1950290117007681, 0.01523350964980306, 0.3061600393261733, 0.37823659286084477, 0.28499995021507707, 0.0019837583541652696, 0.006612527847217566, 0.0006612527847217565, 0.02116008911109621, 0.04059032471052161, 0.9582215940590995, 0.9943841169821144, 0.9957649668144525, 0.9991169600837975, 0.02173826379055188, 0.018632797534758754, 0.8384758890641439, 0.11800771772013878, 0.9979580014554766, 0.15152364015594844, 0.11858371838291618, 0.03513591655790109, 0.6939343520185465, 0.990451661932147, 0.010967446361957619, 0.9888980803031787, 0.26280970462611825, 0.016222821273217176, 0.7186709824035209, 0.061621575407735274, 0.9338038734864499, 0.5324258666173458, 0.02137136986422156, 0.0055751399645795376, 0.44043605720178347, 0.9981549031534543, 0.9954487060997542, 0.9966982755241731, 0.988167018860518, 0.9831152154749805, 0.997453487280921, 0.9910101338114732, 0.9941706548794622, 0.3275460092452635, 0.040044809907728136, 0.5041538888383209, 0.12834874970425686, 0.011754946274474435, 0.0058774731372372175, 0.9021921265659129, 0.07640715078408383, 0.09355344285346054, 0.9053558985818762, 0.04079252165679772, 0.07656442526352804, 0.8823736222993477, 0.9961259599830607, 0.9850591036701596, 0.9973967254109718, 0.9955865498368419, 0.9819128937918735, 0.013450861558792788, 0.9813624536354422, 0.011345230677866384, 0.7336044042695415, 0.12488776959056894, 0.05665929689263341, 0.027291389079174208, 0.04775993088855487, 0.009492657071017116, 0.9893740077862888, 0.9936469621140748, 0.5376511881894219, 0.019984556617126326, 0.008926435288983093, 0.09419387685538876, 0.02278239454352401, 0.0011324582083038252, 0.09419387685538876, 0.19225143465675526, 0.0013323037744750884, 0.027512072942910575, 0.03063825407013487, 0.9114880585865124, 0.05668077002974951, 0.9956093130598515, 0.993389515888518, 0.014977065840710528, 0.9820676029837332, 0.9954487060997542, 0.08572115575023437, 0.9117613838888565, 0.9965815048890592, 0.9809682797490987, 0.998157290909164, 0.9959268526001986, 0.9973881499934376, 0.9899772224337147, 0.009943754214130416, 0.06767317212387859, 0.0025537046084482488, 0.9295484774751626, 0.9997877509858174, 0.981922452180397, 0.0026555428439477367, 0.04794730134905636, 0.9493565667113159, 0.9891108751983246, 0.9868155453852233, 0.991747167237461, 0.9924000917783015, 0.007059756750455397, 0.9900493556822177, 0.18039487838616075, 0.4749768342338209, 0.07502950655432385, 0.06445246153916721, 0.15001400440645551, 0.04437858036146569, 0.010712071121733098, 0.9969714185750475, 0.9948131982197809, 0.9954487060997542, 0.9858472983501224, 0.9934335899717632, 0.9940694147180877, 0.9942851209256187, 0.04282248828080424, 0.9360995938183807, 0.01969834460916995, 0.03413669483711738, 0.17000074028884452, 0.7045813814381026, 0.09080360826673221, 0.9912234331377372, 0.9967368743959863, 0.996658070633359, 0.995509822602203, 0.998703912442796, 0.15058643827086293, 0.7239092127302306, 0.06803747447941043, 0.00023789326741052597, 0.010705197033473668, 0.046389187145052566, 0.997018072065278, 0.036362808700801025, 0.8922873827350405, 0.0699284782707712, 0.9997555157726897, 0.9968252965075495, 0.9963438319087354, 0.9981202970311542, 0.9944768431818863, 0.9951701442358245, 0.277610443920371, 0.1342985589095301, 0.2284878166682274, 0.027490644608997774, 0.0337999728799153, 0.2983410939533857, 0.7160672449785958, 0.09986694514538279, 0.16201818228373271, 0.021779493356173907, 0.992668310119325, 0.9957193334840396, 0.10397181704266267, 0.8717636967423255, 0.0228509488005852, 0.9910580897522552, 0.9828802207072215, 0.9407910270300053, 0.058697533748839154, 0.9961742084583409, 0.9894873816603669, 0.06045141586850569, 0.9067712380275854, 0.027900653477771858, 0.8776024629734782, 0.04172849749651011, 0.0795449483527224, 0.9873323920157345, 0.9815570699634438, 0.009005110733609576, 0.044579243706634714, 0.9552695079993153, 0.015485787062606553, 0.9833474784755161, 0.005516680493199785, 0.9943480206035711, 0.9890534357146956, 0.9852572287042793, 0.9939078154370172, 0.02282536790512306, 0.9757844779440107, 0.059552427557016945, 0.8860239221897643, 0.05374243462462505, 0.9912522324933881, 0.9905735414937914, 0.8375595366032835, 0.009918018195792251, 0.152532279838736, 0.019695537453684183, 0.026260716604912245, 0.017069465793192958, 0.6473266643110869, 0.26260716604912243, 0.026260716604912245, 0.9870271061086158, 0.9956891881386942, 0.9954736676990708, 0.8966863873951149, 0.10095144758752948, 0.9984039931949615, 0.13435163522596894, 0.04556272846793729, 0.0011682750889214688, 0.2289819174286079, 0.5888106448164203, 0.9994825507758248, 0.09993434231123534, 0.13173163304662838, 0.7676774477544897, 0.2506746830429451, 0.7410570317457065, 0.007833583845092034, 0.8170639777778443, 0.15755670561245122, 0.025097528327647094, 0.02388686428425095, 0.8731060738381382, 0.002471054925956995, 0.01812106945701796, 0.003294739901275993, 0.07907375763062384, 0.9917629041556125, 0.9961393468817472, 0.010139431475071495, 0.46387898998452093, 0.05323201524412535, 0.003802286803151811, 0.4702161346564406, 0.6593227578364804, 0.12621607001797672, 0.04773716707610605, 0.13646331530656494, 0.0072480515455867825, 0.003873958584710177, 0.0191198601116341, 0.9995784308632113, 0.8838807666218353, 0.059744740887918577, 0.019118317084133942, 0.0017069925967976736, 0.033457054897234405, 0.002048391116157208, 0.99895397918807, 0.1183831232305731, 0.025701599122427057, 0.6596743774756277, 0.19548792059785428, 0.13369215989917943, 0.2795381525164661, 0.009874989083462118, 0.5469224723148249, 0.018230749077160834, 0.01139421817322552, 0.0785102886200544, 0.02912478448808469, 0.6686037482482051, 0.2203353261272494, 0.0037988849332284383, 0.8497682358317425, 0.1484370796565063, 0.001361808070243177, 0.9878764768918731, 0.8438768603511457, 0.01105129466148698, 0.11853302902634892, 0.009030486494815075, 0.0010735543385444494, 0.016419066354209227, 0.1553430509008896, 0.4175273459412717, 0.00549077057676193, 0.041409561433079556, 0.33447944096774757, 0.015785965408190546, 0.02974167395746045, 0.11013957047053675, 0.07118777115778595, 0.8179877855677669, 0.2392849617018729, 0.06463444367809211, 0.6917260674485176, 0.002750401858642217, 0.10403023277229335, 0.8709507860005955, 0.02419307738890543, 0.22000374593517058, 0.22352380587013332, 0.18568316156928397, 0.37048630815482725, 0.9770392738286192, 0.015266238653572175, 0.9978039787119519, 0.9988004780579985, 0.9988905953417088, 0.6698433172307429, 0.32908424408612746, 0.11957884705274768, 0.09912457058319873, 0.004720217646818988, 0.6860049646710262, 0.03461492941000591, 0.055069205879554856, 0.2575693760979832, 0.740199372087408, 0.9989976503509226, 0.9986425963855685, 0.5836282907490117, 0.08727829865799222, 0.002659449543595331, 0.3261452213009183, 0.990610182471736, 0.052414334604532174, 0.9474898947742354, 0.9899409359734127, 0.06149152750503113, 0.02562146979376297, 0.9121243246579618, 0.017812174644647665, 0.9811539533426755, 0.9981247555316587, 0.02826185584631964, 0.9703237173903075, 0.07140234383857119, 0.4595086321224179, 0.0005758253535368645, 0.09846613545480383, 0.3431919107079712, 0.0259121409091589, 0.9791542371234292, 0.994586910327178, 0.5856218936308937, 0.39081791661731125, 0.02177932662263654, 0.9913487504957976, 0.9944457602732766, 0.3204198303774758, 0.6788555728336352, 0.7338176292700351, 0.2659497704493781, 0.9976080238602173, 0.9939928317333512, 0.9946400450515743, 0.985456810830984, 0.010980020176389793, 0.007204716780702867, 0.11749230442376983, 0.2654661029197441, 0.4178735732807663, 0.012192597628881776, 0.018288896443322662, 0.161829023074249, 0.01152860430634619, 0.05817923568551449, 0.02037613784377466, 0.044505774764034126, 0.15255292675141818, 0.5807199285475778, 0.06220084183889106, 0.06997594706875244, 0.9957518889956897, 0.9927992523037895, 0.9852514587508254, 0.9929785771788071, 0.11353119541276442, 0.0383352088406737, 0.13269879983310126, 0.7150990879894902, 0.24751207046196444, 0.013983732794461268, 0.42510547695162254, 0.0004661244264820423, 0.11886172875292078, 0.0848346456197317, 0.10907311579679789, 0.02052791932413784, 0.003421319887356307, 0.06158375797241352, 0.02052791932413784, 0.892964490599996, 0.7586473510266004, 0.2356905742346187, 0.005525960177436886, 0.9993016634923194, 0.014800011944455398, 0.05538068985667181, 0.000954839480287445, 0.002864518440862335, 0.5423488248032687, 0.006683876362012115, 0.11219363893377478, 0.05967746751796531, 0.040103258172072685, 0.16470981034958426, 0.9203514539083311, 0.07869671852259642, 0.027301542709766105, 0.007341591316911894, 0.0004588494573069934, 0.9648839338070558, 0.9959706860805159, 0.986140688677059, 0.61693962327159, 0.2721792455609956, 0.06006714384794386, 0.018145283037399706, 0.018770982452482456, 0.013765387131820468, 0.25808477248715833, 0.5554846700215005, 0.018389332683360175, 0.091312548496685, 0.015218758082780833, 0.05326565328973292, 0.007609379041390417, 0.9881271569555649, 0.0005036152532018234, 0.6948340908790697, 0.2665674274832113, 0.03323860671132035, 0.003254129328381013, 0.0015883250293288278, 0.9916430571593866, 0.02025632033803998, 0.1272512431492255, 0.009868463754429733, 0.002077571316722049, 0.030644176921650224, 0.14335242085382138, 0.295015126974531, 0.3334501963338889, 0.03739628370099689, 0.15628177074975755, 0.8439215620486908, 0.979598541869251, 0.9911317413064864, 0.99283181002867, 0.01959421461946485, 0.07968313945249039, 0.9000275915207521, 0.998760678031099, 0.9322079296477294, 0.06706531867969276, 0.0028132171150795733, 0.05907755941667103, 0.9368012993214978, 0.9860262917518706, 0.9986386014107038, 0.00070376222791452, 0.9964865138333119, 0.9923488655577366, 0.3311880047164922, 0.5457033121192592, 0.10448852322716533, 0.0007384347931248433, 0.0059074783449987464, 0.011445739293435071, 0.9922116118960549, 0.6083412963972216, 0.08703225293033819, 0.2970064078659305, 0.007429582567223991, 0.0625589305692915, 0.059988015614389115, 0.5767419215497697, 0.22538354437977623, 0.07455653369216933, 0.9214977514081054, 0.07812150490515388, 0.07726894726923217, 0.8827977225509775, 0.0009658618408654021, 0.019317236817308042, 0.01835137497644264, 0.05080779353434792, 0.328160463935456, 0.0003215683135085311, 0.6083268570797637, 0.012460772148455581, 0.9904638528121328, 0.9853125184895257, 0.998252580652016, 0.0009133143464336834, 0.9987268028632347, 0.9899756875990533, 0.9944134016762515, 0.5204952118537394, 0.007521607107712996, 0.4497921050412372, 0.007521607107712996, 0.013538892793883393, 0.08260675937179111, 0.09888692362754557, 0.0018089071395282726, 0.179081806813299, 0.3985625397427294, 0.016280164255754456, 0.025927668999905243, 0.13205022118556392, 0.06512065702301782, 0.11854808130292965, 0.32262013554583, 0.4623375170814257, 0.08834654630432615, 0.0002822573364355468, 0.00790320542019531, 0.9968525814836824, 0.9732784037035893, 0.9514985245948894, 0.04341438135033716, 0.9847577222141352, 0.9999281766733702, 0.18704910805125813, 0.07686213348083308, 0.021499897477156107, 0.06449969243146832, 0.2897111185046785, 0.3031485544279011, 0.004837476932360124, 0.05267474881903246, 0.26069027471659745, 0.034559322588306095, 0.5604259379344061, 0.0960350406540429, 0.04818367091638831, 0.687391400165257, 0.1911890699036614, 0.02045278422225215, 0.0809218854010846, 0.019563532734328145, 0.762076409122808, 0.07573256577641399, 0.15034730770372964, 0.011737150415532796, 0.984881770340877, 0.0332470117829584, 0.9641633417057937, 0.029723685638733864, 0.1399188128847716, 0.08627118514656902, 0.3914826889003972, 0.22329012626170805, 0.11128257915964995, 0.017761714588999503, 0.9937502414897764, 0.9995613749212284, 0.993347831712691, 0.9967782100576852, 0.05926951791544494, 0.01702422323103206, 0.6135025631034886, 0.3045444377995735, 0.0056747410770106865, 0.1212700062156216, 0.15283343249092038, 0.03986959108458792, 0.6478808551245537, 0.038208358122730095, 0.9978992046373298, 0.0020341567945431883, 0.9720998051631815, 0.026884856329112736, 0.9906759182663482, 0.9691551361799036, 0.02271457350421649, 0.04496307590788105, 0.03634002025431482, 0.016014246213765855, 0.16075839468434183, 0.48905044206654186, 0.10717226312289456, 0.05543392920149719, 0.0905420843624454, 0.9983257538071793, 0.9202595770208007, 0.07812050738716475, 0.9966194019478396, 0.9862610820482439, 0.7401755605219688, 0.2577397041103284, 0.065832534205235, 0.1038825310394534, 0.5701459843095582, 0.04529761527883142, 0.21440871231980208, 0.9967339338812742, 0.061910350339007346, 0.022050261764577958, 0.1976042688902563, 0.44948610520101223, 0.26884357612966203, 0.9946136230944731, 0.0020233828745594533, 0.9418847281074255, 0.055643029050384964, 0.9737901117001353, 0.03689943758247214, 0.18162190706177847, 0.04648370708441296, 0.06948595388907092, 0.6493342587564903, 0.002396067375485204, 0.013897190777814183, 0.9960083019033689, 0.9971611025396312, 0.9965194008582087, 0.9936315829370892, 0.7877009667837563, 0.21139085690377007, 0.983877122046147, 0.0165413047409414, 0.9244751427437249, 0.0496239142228242, 0.009189613744967445, 0.8991045173150389, 0.0861802613163199, 0.014148998126559982, 0.08036155432507759, 0.21251166588187187, 0.08750480359841782, 0.619676874462265, 0.1019777887981279, 0.046739819865808614, 0.0037179402165984127, 0.015934029499707483, 0.42437631900887596, 0.2538822033620059, 0.011684954966452154, 0.015402895183050568, 0.10835140059801089, 0.01752743244967823, 0.01723541977209896, 0.9824189270096407, 0.9890018833890475, 0.1745138680457676, 0.3299299920412437, 0.0638786611337338, 0.43002851258070285, 0.001317085796571831, 0.9951044752187885, 0.9939637311084265, 0.9959835950857142, 0.9911323987784572, 0.9960457359667131, 0.9483714911906077, 0.05010264481761701, 0.9955249305085532, 0.9838652805740697, 0.014597407723650887, 0.9886334694796914, 0.3003107399163069, 0.018829259994752507, 0.31945913991097047, 0.1439321399598878, 0.004787099998665892, 0.21254723994076558, 0.9911028340301477, 0.977492276192964, 0.022471086809033654, 0.9992861388876487, 0.995682497220164, 0.9997911726415725, 0.1382347898936415, 0.8017617813831207, 0.05726869867022291, 0.0019747827127663074, 0.9956275821347267, 0.9957932556382775, 0.004183438260575498, 0.9918206646343419, 0.9974775089976351, 0.9944183953535333, 0.9298474020284968, 0.06803761478257293, 0.0161944312618342, 0.4257430744887465, 0.23183606859046854, 0.005540200168522226, 0.3204792712868242, 0.9923381155823934, 0.14301890352825555, 0.25591113987810543, 0.014566740174174175, 0.5859802297338248, 0.998801217081955, 0.0932771900639587, 0.8649339442294353, 0.04239872275634486, 0.9995940091741664, 0.993113914017346, 0.9968622531268867, 0.9889019805518933, 0.9887047639685425, 0.9962231114499637, 0.9825718389883397, 0.3601041934471791, 0.022450386125135856, 0.02604244790515759, 0.5908941628135757, 0.12248611087410152, 0.8616022999201084, 0.011898650770627005, 0.0034996031678314722, 0.9988641266949434, 0.9873328573772724, 0.9622729274667671, 0.0375608391762121, 0.9942382911683512, 0.08803532729169199, 0.9086503424035351, 0.0031441188318461423, 0.8507515042720664, 0.07187878014737765, 0.04319101866948857, 0.034106560868157026, 0.9802424099151517, 0.9910269379105917, 0.32316832679568275, 0.07308711477940509, 0.4376421210284859, 0.08717619714651932, 0.04843122063695517, 0.026417029438339186, 0.003522270591778558, 0.9885556947669789, 0.986878583881853, 0.9810085336634378, 0.08345878886589338, 0.9134100781433886, 0.9948165583146132, 0.0078086308404185095, 0.331009765869448, 0.012760445519708296, 0.22359347821100806, 0.22092711646062124, 0.1883594122237538, 0.012379536698224466, 0.003237724982612553, 0.3683389142169486, 0.012505333507365537, 0.6195824328649289, 0.9926032359049374, 0.9979466533747944, 0.9315927352155069, 0.04049900103408613, 0.002198517198993247, 0.010761163131914313, 0.014811063235322927, 0.9925982834547976, 0.0034625811388968464, 0.924509164085458, 0.06925162277793694, 0.0034625811388968464, 0.9898451247195666, 0.9915759957956108, 0.9926145934176273, 0.3596322730144824, 0.03465038656812189, 0.018939341726675316, 0.018293682349629567, 0.5201862381065254, 0.04820923348608262, 0.09450771507232616, 0.8906756508707042, 0.0007941824795993796, 0.013898193392989143, 0.9978560104867468, 0.975988243833966, 0.01965077001007985, 0.1527981664073914, 0.7747512662909988, 0.07101886607667489, 0.9931517225540354, 0.9991978768928603, 0.9967991030194032, 0.968759927523312, 0.029992567415582413, 0.28068716808011174, 0.7175631635596406, 0.0026348713302869666, 0.9959813628484734, 0.845700686912541, 0.15253505540203366, 0.0012872156574011279, 0.9750370817857535, 0.9887727340708148, 0.012854838471629087, 0.9303689343841552, 0.056239918313377255, 0.3476054240544203, 0.3912957827121666, 0.0920373699623997, 0.07519124421035332, 0.01862661058762851, 0.05409934692730339, 0.0020544055795178504, 0.018900531331564226, 0.009190119034976517, 0.3141349779228337, 0.5490678390715061, 0.02823872939838239, 0.03943396531371742, 0.0013367445869056753, 0.027069077884839924, 0.031580590865646574, 0.9864849700540256, 0.9641392357778676, 0.007217893022572541, 0.02544613133381506, 0.0031807664167268824, 0.9180055862398936, 0.0368925682941817, 0.04470194406448294, 0.9966616728843966, 0.006149369005363008, 0.9685256183446738, 0.003074684502681504, 0.021522791518770526, 0.9998069721645385, 0.9961142179500514, 0.9962263767511053, 0.9485858532481897, 0.0412428631847039, 0.9159298850834935, 0.07468956144457672, 0.009827573874286412, 0.931473109298191, 0.06826284220948281], \"Term\": [\"aboutcerterror\", \"aboutlogins\", \"aboutlogins\", \"aboutlogins\", \"aboutlogins\", \"aboutnewtab\", \"aboutwelcome\", \"access\", \"access\", \"access\", \"access\", \"access\", \"access\", \"access\", \"access\", \"access\", \"accordance\", \"account\", \"account\", \"account\", \"account\", \"account\", \"account\", \"account\", \"acrobat\", \"action\", \"action\", \"action\", \"action\", \"action\", \"action\", \"action\", \"action\", \"activity\", \"activity\", \"activity\", \"actors\", \"actors\", \"actorsparent\", \"actual\", \"actual\", \"additional\", \"additional\", \"additional\", \"additional\", \"additional\", \"addons\", \"addons\", \"addons\", \"addons\", \"addons\", \"addons\", \"address\", \"address\", \"address\", \"address\", \"address\", \"address\", \"address\", \"address\", \"affect\", \"affect\", \"aliases\", \"allocations\", \"amazon\", \"amazon\", \"amazon\", \"amazonaws\", \"anisotropic\", \"annotations\", \"anonymous\", \"anonymous\", \"appear\", \"appear\", \"appear\", \"appear\", \"appear\", \"appear\", \"applewebkit\", \"application\", \"application\", \"application\", \"application\", \"application\", \"application\", \"arrows\", \"arrows\", \"artifact\", \"artifact\", \"artifacts\", \"artifacts\", \"artifacts\", \"assets\", \"assign\", \"assign\", \"attach\", \"attach\", \"attach\", \"attach\", \"attachment\", \"attachment\", \"attack\", \"attribution\", \"august\", \"author\", \"autofilled\", \"autoland\", \"autoland\", \"autoland\", \"automate\", \"awesome\", \"background\", \"background\", \"background\", \"background\", \"background\", \"backup\", \"better\", \"better\", \"better\", \"better\", \"bisection\", \"blocker\", \"blocker\", \"bookmark\", \"bookmark\", \"bookmark\", \"bookmark\", \"bookmark\", \"bookmarked\", \"bookmarked\", \"bookmarking\", \"bookmarks\", \"bookmarks\", \"bookmarks\", \"bookmarks\", \"bookmarks\", \"bootstrap\", \"bootstrap\", \"bootstrap\", \"bootstrap\", \"branch\", \"branch\", \"branch\", \"breakage\", \"breakpad\", \"browse\", \"browse\", \"browse\", \"browser\", \"browser\", \"browser\", \"browser\", \"browser\", \"browser\", \"browser\", \"browser\", \"browsers\", \"browsers\", \"browsers\", \"bucket\", \"buffer\", \"buffer\", \"buffer\", \"buffer\", \"buildcache\", \"builtin\", \"builtin\", \"builtin\", \"business\", \"button\", \"button\", \"button\", \"button\", \"button\", \"button\", \"cansend\", \"captive\", \"catalina\", \"central\", \"central\", \"central\", \"central\", \"central\", \"central\", \"central\", \"certerror\", \"certviewer\", \"certviewer\", \"change\", \"change\", \"change\", \"change\", \"change\", \"change\", \"change\", \"change\", \"change\", \"change\", \"changeset\", \"channel\", \"channel\", \"channel\", \"channel\", \"channel\", \"channel\", \"checkouts\", \"chiclet\", \"chrome\", \"chrome\", \"chrome\", \"chrome\", \"chrome\", \"chrome\", \"chromium\", \"chromium\", \"chromium\", \"client\", \"client\", \"client\", \"client\", \"clients\", \"codebase\", \"codecoverage\", \"collection\", \"collection\", \"collection\", \"collection\", \"collections\", \"collections\", \"collections\", \"command\", \"command\", \"command\", \"command\", \"command\", \"command\", \"comment\", \"comment\", \"comment\", \"comment\", \"common\", \"common\", \"common\", \"common\", \"common\", \"comparison\", \"comparisons\", \"compatibility\", \"compatibility\", \"compile\", \"complete\", \"complete\", \"complete\", \"complete\", \"complete\", \"complete\", \"complete\", \"components\", \"components\", \"components\", \"components\", \"components\", \"components\", \"compositing\", \"compress\", \"compression\", \"computers\", \"confuse\", \"confuse\", \"confuse\", \"console\", \"console\", \"console\", \"console\", \"console\", \"console\", \"container\", \"container\", \"container\", \"container\", \"content\", \"content\", \"content\", \"content\", \"content\", \"content\", \"content\", \"contentblocking\", \"contentblocking\", \"context\", \"context\", \"context\", \"context\", \"context\", \"context\", \"context\", \"contextmenu\", \"contrast\", \"contrast\", \"control\", \"control\", \"controlcenter\", \"convert\", \"convert\", \"convert\", \"convert\", \"cookie\", \"cookie\", \"cookie\", \"cookie\", \"cookie\", \"cookies\", \"cookies\", \"cookies\", \"cookies\", \"cookies\", \"create\", \"create\", \"create\", \"create\", \"create\", \"create\", \"create\", \"create\", \"create\", \"current\", \"current\", \"current\", \"current\", \"current\", \"current\", \"current\", \"currently\", \"currently\", \"currently\", \"currently\", \"customizableui\", \"customizableui\", \"customizableui\", \"darker\", \"database\", \"database\", \"database\", \"decide\", \"decide\", \"declaration\", \"decline\", \"decode\", \"decorators\", \"default\", \"default\", \"default\", \"default\", \"default\", \"default\", \"default\", \"default\", \"default\", \"definitions\", \"delete\", \"delete\", \"delete\", \"delete\", \"delete\", \"density\", \"density\", \"dependencies\", \"description\", \"description\", \"description\", \"description\", \"description\", \"description\", \"design\", \"design\", \"design\", \"design\", \"desktop\", \"desktop\", \"desktop\", \"destroy\", \"destroy\", \"destroy\", \"developers\", \"developers\", \"developers\", \"device\", \"device\", \"device\", \"devices\", \"devices\", \"devices\", \"devtools\", \"devtools\", \"devtools\", \"devtools\", \"devtools\", \"devtools\", \"dialog\", \"dialog\", \"dialog\", \"dialog\", \"dialog\", \"dialog\", \"dialog\", \"dialog\", \"disable\", \"disable\", \"disable\", \"disable\", \"disable\", \"disable\", \"disable\", \"disable\", \"disable\", \"disable\", \"discoverystream\", \"dismiss\", \"dismiss\", \"display\", \"display\", \"display\", \"display\", \"display\", \"display\", \"distribution\", \"distribution\", \"docshell\", \"doctor\", \"document\", \"document\", \"document\", \"document\", \"document\", \"domain\", \"domain\", \"domains\", \"domains\", \"domains\", \"domwindow\", \"download\", \"download\", \"download\", \"driver\", \"driver\", \"driver\", \"dropdown\", \"dropdown\", \"dropdown\", \"dropdown\", \"efforts\", \"elapse\", \"element\", \"element\", \"element\", \"element\", \"element\", \"enable\", \"enable\", \"enable\", \"enable\", \"enable\", \"enable\", \"enable\", \"enable\", \"engagement\", \"engine\", \"engine\", \"engine\", \"engine\", \"engines\", \"engines\", \"enroll\", \"enrollment\", \"enrollment\", \"ensure\", \"ensure\", \"ensure\", \"ensure\", \"eslint\", \"eventutils\", \"exception\", \"exception\", \"exception\", \"exception\", \"exception\", \"exception\", \"exectest\", \"expect\", \"expect\", \"expect\", \"expect\", \"expect\", \"expect\", \"experience\", \"experience\", \"experience\", \"experiment\", \"experiment\", \"experiment\", \"experimental\", \"explorer\", \"extension\", \"extension\", \"extension\", \"extension\", \"extensioncommon\", \"extensions\", \"extensions\", \"extensions\", \"extensions\", \"extensions\", \"extensions\", \"extensions\", \"exthandler\", \"facebook\", \"facebook\", \"failure\", \"failure\", \"failure\", \"failure\", \"failure\", \"failure\", \"failure\", \"failures\", \"failures\", \"feature\", \"feature\", \"feature\", \"feature\", \"feature\", \"fedora\", \"fetchicon\", \"filter\", \"filter\", \"filter\", \"filter\", \"finalize\", \"finish\", \"finish\", \"finish\", \"finish\", \"finish\", \"finish\", \"firefox\", \"firefox\", \"firefox\", \"firefox\", \"firefox\", \"firefox\", \"firefox\", \"firefox\", \"firefox\", \"firefoxaccounts\", \"fission\", \"flavor\", \"fluent\", \"focusedorloaded\", \"folder\", \"folder\", \"folder\", \"follow\", \"follow\", \"follow\", \"follow\", \"follow\", \"follow\", \"follow\", \"format\", \"format\", \"format\", \"format\", \"framebuffer\", \"freeze\", \"friendly\", \"fromchange\", \"fromchange\", \"function\", \"function\", \"function\", \"function\", \"function\", \"function\", \"fxaccounts\", \"garble\", \"geckoview\", \"generate\", \"generate\", \"generate\", \"generate\", \"generate\", \"generate\", \"generate\", \"generate\", \"getscreenshot\", \"google\", \"google\", \"google\", \"google\", \"graphics\", \"gurlbar\", \"hamburger\", \"hamburger\", \"hamburger\", \"handler\", \"handler\", \"handler\", \"handler\", \"happen\", \"happen\", \"happen\", \"happen\", \"happen\", \"harder\", \"headless\", \"heapallocated\", \"heapallocated\", \"heartbeat\", \"heuristics\", \"highlight\", \"highlight\", \"highlight\", \"highlight\", \"highlight\", \"history\", \"history\", \"history\", \"history\", \"history\", \"history\", \"history\", \"history\", \"horizontally\", \"hostname\", \"iconurl\", \"identity\", \"identity\", \"identity\", \"identity\", \"ignore\", \"ignore\", \"ignore\", \"ignore\", \"ignore\", \"ignore\", \"impact\", \"impact\", \"import\", \"import\", \"import\", \"import\", \"impression\", \"impressions\", \"include\", \"include\", \"include\", \"include\", \"include\", \"include\", \"indexeddb\", \"indicator\", \"indicator\", \"indirectly\", \"infobar\", \"information\", \"information\", \"information\", \"information\", \"information\", \"initially\", \"initially\", \"initially\", \"initially\", \"initially\", \"inline\", \"instead\", \"instead\", \"instead\", \"instead\", \"interactions\", \"interactions\", \"internet\", \"internet\", \"internet\", \"interpreter\", \"iothread\", \"italian\", \"japanese\", \"javascript\", \"javascript\", \"javascript\", \"javascript\", \"javascript\", \"laptop\", \"laptop\", \"launch\", \"launch\", \"launch\", \"launch\", \"layout\", \"layout\", \"layout\", \"layout\", \"layout\", \"layout\", \"layout\", \"leakcheck\", \"leakcheck\", \"libeditor\", \"libpref\", \"libxul\", \"likely\", \"likely\", \"likely\", \"likely\", \"linear\", \"listener\", \"listener\", \"listener\", \"listener\", \"loadengines\", \"loader\", \"loader\", \"locales\", \"locales\", \"locales\", \"locally\", \"locally\", \"logins\", \"logins\", \"logins\", \"logins\", \"logurl\", \"madoptcount\", \"madoptfreecount\", \"magnify\", \"mailto\", \"mainthreadio\", \"malicious\", \"malloccount\", \"manager\", \"manager\", \"manager\", \"manager\", \"manifest\", \"manifest\", \"manifest\", \"manifest\", \"margin\", \"margin\", \"marionette\", \"marionette\", \"marionette\", \"marker\", \"markup\", \"master\", \"maximize\", \"measure\", \"measure\", \"megabar\", \"megabar\", \"memory\", \"memory\", \"memory\", \"memory\", \"memory\", \"memory\", \"menulist\", \"menupopup\", \"message\", \"message\", \"message\", \"message\", \"message\", \"message\", \"message\", \"message\", \"message\", \"message\", \"messagechannel\", \"messagechannel\", \"messagechannel\", \"messageport\", \"metadata\", \"metrics\", \"metrics\", \"mfreecount\", \"microphone\", \"microphone\", \"middleware\", \"migrations\", \"minidumps\", \"minmax\", \"mmanager\", \"mochikit\", \"mochikit\", \"mochitest\", \"mochitest\", \"mochitest\", \"mochitests\", \"modals\", \"modules\", \"modules\", \"modules\", \"moments\", \"monochromatic\", \"morning\", \"mozcrash\", \"mozcrash\", \"mozharness\", \"mozilla\", \"mozilla\", \"mozilla\", \"mozilla\", \"mozilla\", \"mozilla\", \"mozilla\", \"mozregression\", \"mrealloccount\", \"msharecount\", \"mtransport\", \"multisample\", \"multiselect\", \"multistage\", \"native\", \"native\", \"native\", \"navigate\", \"navigate\", \"navigate\", \"navigate\", \"neighborhood\", \"netwerk\", \"networkerror\", \"newcomers\", \"nexttest\", \"nightly\", \"nightly\", \"nightly\", \"nightly\", \"nightly\", \"nightly\", \"nimbus\", \"normally\", \"normally\", \"normally\", \"normandy\", \"nsappshell\", \"nsiurimutator\", \"nsthread\", \"nsthreadmanager\", \"nstracerefcnt\", \"object\", \"object\", \"object\", \"object\", \"object\", \"object\", \"observe\", \"observe\", \"observe\", \"observe\", \"offend\", \"onaction\", \"onboarding\", \"onboarding\", \"onboarding\", \"opensearch\", \"organic\", \"orphan\", \"orphan\", \"outline\", \"outlook\", \"overlap\", \"overlap\", \"overlap\", \"package\", \"package\", \"package\", \"padlock\", \"pageaction\", \"pageaction\", \"pageactions\", \"pageactions\", \"palette\", \"palette\", \"parent\", \"parent\", \"partition\", \"partner\", \"payment\", \"payments\", \"payments\", \"pending\", \"pending\", \"pending\", \"percent\", \"perfectly\", \"performance\", \"performance\", \"performance\", \"permission\", \"permission\", \"permission\", \"permission\", \"permission\", \"permission\", \"personalization\", \"personalize\", \"philringnalda\", \"picture\", \"picture\", \"pioneer\", \"platform\", \"platform\", \"platform\", \"platform\", \"platform\", \"platforms\", \"plugin\", \"plugin\", \"plugin\", \"pocket\", \"pocket\", \"pocket\", \"policies\", \"policies\", \"policies\", \"policy\", \"policy\", \"policy\", \"policy\", \"policy\", \"policy\", \"portal\", \"precondition\", \"preference\", \"preference\", \"preference\", \"preference\", \"preference\", \"preferences\", \"preferences\", \"preferences\", \"preferences\", \"preferences\", \"preferences\", \"preferences\", \"prerequisites\", \"previously\", \"previously\", \"previously\", \"previously\", \"previously\", \"previously\", \"printer\", \"privacy\", \"privacy\", \"privacy\", \"privacy\", \"private\", \"private\", \"private\", \"private\", \"private\", \"private\", \"probably\", \"probably\", \"probably\", \"probably\", \"probably\", \"problem\", \"problem\", \"problem\", \"proceed\", \"process\", \"process\", \"process\", \"process\", \"process\", \"process\", \"profile\", \"profile\", \"profile\", \"profile\", \"profile\", \"profile\", \"profile\", \"promise\", \"promise\", \"promise\", \"prompt\", \"prompt\", \"prompt\", \"prompt\", \"properties\", \"properties\", \"properties\", \"property\", \"property\", \"property\", \"property\", \"propose\", \"propose\", \"protection\", \"protections\", \"protectionsui\", \"proton\", \"proton\", \"provide\", \"provide\", \"provide\", \"provide\", \"provide\", \"provide\", \"provider\", \"provider\", \"pseudo\", \"psutil\", \"public\", \"public\", \"public\", \"public\", \"pulseaudio\", \"queryinterface\", \"queryinterface\", \"reboot\", \"receivemessage\", \"receivemessage\", \"receivemessage\", \"recipe\", \"recipe\", \"reciperunner\", \"recipes\", \"recipes\", \"record\", \"record\", \"record\", \"record\", \"record\", \"record\", \"redshift\", \"redundant\", \"reference\", \"reference\", \"reference\", \"reflows\", \"regexp\", \"region\", \"region\", \"regression\", \"regression\", \"regressions\", \"regressor\", \"reinstall\", \"reject\", \"reject\", \"release\", \"release\", \"release\", \"release\", \"release\", \"release\", \"release\", \"remove\", \"remove\", \"remove\", \"remove\", \"remove\", \"remove\", \"remove\", \"remove\", \"renderer\", \"renewal\", \"repair\", \"repeatedly\", \"replace\", \"replace\", \"replace\", \"replace\", \"report\", \"report\", \"report\", \"report\", \"report\", \"report\", \"report\", \"reporter\", \"reporter\", \"reporter\", \"reporter\", \"reporter\", \"reproduce\", \"reproduce\", \"reproduce\", \"reproducible\", \"request\", \"request\", \"request\", \"request\", \"request\", \"request\", \"request\", \"request\", \"request\", \"request\", \"residentfast\", \"residentfast\", \"resource\", \"resource\", \"resource\", \"resource\", \"respond\", \"responses\", \"restart\", \"restart\", \"restart\", \"restart\", \"restart\", \"restart\", \"restore\", \"restore\", \"restore\", \"restore\", \"restore\", \"restore\", \"restore\", \"restrict\", \"result\", \"result\", \"result\", \"result\", \"result\", \"result\", \"retention\", \"return\", \"return\", \"return\", \"return\", \"return\", \"return\", \"return\", \"return\", \"return\", \"review\", \"review\", \"reviewers\", \"robust\", \"robustness\", \"rollout\", \"rollout\", \"rollout\", \"runmessage\", \"runtests\", \"runtests\", \"runtime\", \"runtime\", \"runtime\", \"russian\", \"safari\", \"safari\", \"scraper\", \"scratch\", \"screen\", \"screen\", \"screen\", \"screen\", \"screen\", \"screen\", \"screencast\", \"screenshot\", \"screenshot\", \"screenshot\", \"screenshot\", \"screenshots\", \"screenshots\", \"screenshots\", \"screenshots\", \"screenshots\", \"screentopng\", \"screentopng\", \"script\", \"script\", \"script\", \"script\", \"script\", \"search\", \"search\", \"search\", \"search\", \"search\", \"searchcache\", \"searchform\", \"searchmode\", \"searchmode\", \"searchservice\", \"searchterms\", \"searchutils\", \"section\", \"section\", \"section\", \"section\", \"section\", \"security\", \"security\", \"security\", \"security\", \"security\", \"security\", \"security\", \"security\", \"security\", \"select\", \"select\", \"select\", \"select\", \"select\", \"select\", \"selectedindex\", \"selections\", \"selector\", \"selector\", \"sensitive\", \"serial\", \"server\", \"server\", \"server\", \"server\", \"server\", \"server\", \"server\", \"server\", \"service\", \"service\", \"service\", \"service\", \"service\", \"session\", \"session\", \"session\", \"session\", \"session\", \"sessionstore\", \"sessionstore\", \"sessionstore\", \"sessionstore\", \"setcontext\", \"setpref\", \"setpref\", \"settings\", \"settings\", \"settings\", \"settings\", \"settings\", \"settings\", \"settings\", \"severity\", \"shader\", \"sheriffing\", \"shippable\", \"shutdown\", \"shutdown\", \"shutdown\", \"shutdown\", \"shutdown\", \"simple\", \"simple\", \"simple\", \"simple\", \"simple\", \"simpletest\", \"simpletest\", \"sitedata\", \"sitedata\", \"sitepermissions\", \"social\", \"social\", \"source\", \"source\", \"source\", \"source\", \"source\", \"source\", \"source\", \"source\", \"specialpowers\", \"sqlite\", \"sqlite\", \"stable\", \"startpage\", \"startupcache\", \"startupcache\", \"status\", \"status\", \"status\", \"status\", \"status\", \"stencil\", \"storage\", \"storage\", \"storage\", \"storage\", \"storage\", \"stories\", \"stream\", \"stream\", \"stream\", \"stretch\", \"string\", \"string\", \"string\", \"string\", \"string\", \"string\", \"string\", \"stylesheets\", \"subdialog\", \"subdialogs\", \"subtests\", \"success\", \"success\", \"suddenly\", \"suggestion\", \"suggestion\", \"suggestion\", \"suggestion\", \"suggestions\", \"suggestions\", \"suggestions\", \"summary\", \"summary\", \"summary\", \"summary\", \"support\", \"support\", \"support\", \"support\", \"support\", \"support\", \"support\", \"support\", \"support\", \"support\", \"surface\", \"surface\", \"survey\", \"switch\", \"switch\", \"switch\", \"switch\", \"switch\", \"syncengine\", \"synchronize\", \"syncipc\", \"syncscheduler\", \"tabbox\", \"tabbrowser\", \"tabbrowser\", \"tabstrip\", \"taskcluster\", \"taskcluster\", \"taskimpl\", \"telemetry\", \"telemetry\", \"telemetry\", \"telemetry\", \"telemetry\", \"telemetry\", \"templates\", \"terminal\", \"terminal\", \"tester\", \"testrunner\", \"texture\", \"things\", \"things\", \"things\", \"things\", \"thirdpartyutil\", \"thread\", \"thread\", \"thunderbird\", \"tinderboxprint\", \"titlebar\", \"tochange\", \"tochange\", \"toolbar\", \"toolbar\", \"toolbar\", \"toolbar\", \"toolbar\", \"toolbarbutton\", \"toolkit\", \"toolkit\", \"toolkit\", \"toolkit\", \"topsitesfeed\", \"trackers\", \"trackers\", \"trackers\", \"trackingui\", \"translation\", \"translations\", \"treatment\", \"treeherder\", \"triage\", \"trivial\", \"typeerror\", \"typeerror\", \"typeerror\", \"typeerror\", \"ubuntu\", \"ubuntu\", \"ubuntu\", \"ubuntu\", \"uitour\", \"unavailable\", \"uncaught\", \"uncaught\", \"underflow\", \"understand\", \"understand\", \"understand\", \"unexpected\", \"unexpected\", \"unexpected\", \"unexpected\", \"unfocused\", \"uniform\", \"unknown\", \"unknown\", \"unknown\", \"unknown\", \"unknown\", \"unknown\", \"unknown\", \"unlock\", \"unsupported\", \"unusable\", \"unused\", \"unused\", \"unwriteable\", \"update\", \"update\", \"update\", \"update\", \"update\", \"update\", \"update\", \"update\", \"upgrade\", \"upgrade\", \"upgrade\", \"uplift\", \"uriloader\", \"urlbar\", \"urlbar\", \"urlbar\", \"urlbar\", \"urlbar\", \"usagetelemetry\", \"useful\", \"useful\", \"useful\", \"useful\", \"usercontextid\", \"validity\", \"variant\", \"version\", \"version\", \"version\", \"version\", \"version\", \"version\", \"versions\", \"versions\", \"versions\", \"versions\", \"vertex\", \"videos\", \"videos\", \"viewer\", \"viewer\", \"viewer\", \"viewport\", \"waitforfocus\", \"webdriver\", \"webpage\", \"webpage\", \"webrender\", \"webrender\", \"webrtc\", \"webrtc\", \"website\", \"website\", \"website\", \"whitespace\", \"widevinecdm\", \"wikipedia\", \"wikipedia\", \"wikipedia\", \"window\", \"window\", \"window\", \"window\", \"window\", \"window\", \"window\", \"window\", \"windows\", \"windows\", \"windows\", \"windows\", \"windows\", \"windows\", \"windows\", \"windows\", \"wkocher\", \"worker\", \"worker\", \"worker\", \"worker\", \"workspace\", \"workspace\", \"workspace\", \"xpcjscontext\", \"xpconnect\", \"xpconnect\", \"xpconnect\", \"xpconnect\", \"xpcshell\", \"xulelement\", \"xulstore\", \"yandex\", \"yandex\", \"youtube\", \"youtube\", \"youtube\", \"zombiecheck\", \"zombiecheck\"]}, \"R\": 30, \"lambda.step\": 0.01, \"plot.opts\": {\"xlab\": \"PC1\", \"ylab\": \"PC2\"}, \"topic.order\": [7, 5, 4, 9, 8, 2, 3, 6, 10, 1]};\n",
              "\n",
              "function LDAvis_load_lib(url, callback){\n",
              "  var s = document.createElement('script');\n",
              "  s.src = url;\n",
              "  s.async = true;\n",
              "  s.onreadystatechange = s.onload = callback;\n",
              "  s.onerror = function(){console.warn(\"failed to load library \" + url);};\n",
              "  document.getElementsByTagName(\"head\")[0].appendChild(s);\n",
              "}\n",
              "\n",
              "if(typeof(LDAvis) !== \"undefined\"){\n",
              "   // already loaded: just create the visualization\n",
              "   !function(LDAvis){\n",
              "       new LDAvis(\"#\" + \"ldavis_el4801400874046829285151212225\", ldavis_el4801400874046829285151212225_data);\n",
              "   }(LDAvis);\n",
              "}else if(typeof define === \"function\" && define.amd){\n",
              "   // require.js is available: use it to load d3/LDAvis\n",
              "   require.config({paths: {d3: \"https://d3js.org/d3.v5\"}});\n",
              "   require([\"d3\"], function(d3){\n",
              "      window.d3 = d3;\n",
              "      LDAvis_load_lib(\"https://cdn.jsdelivr.net/gh/bmabey/pyLDAvis@3.4.0/pyLDAvis/js/ldavis.v3.0.0.js\", function(){\n",
              "        new LDAvis(\"#\" + \"ldavis_el4801400874046829285151212225\", ldavis_el4801400874046829285151212225_data);\n",
              "      });\n",
              "    });\n",
              "}else{\n",
              "    // require.js not available: dynamically load d3 & LDAvis\n",
              "    LDAvis_load_lib(\"https://d3js.org/d3.v5.js\", function(){\n",
              "         LDAvis_load_lib(\"https://cdn.jsdelivr.net/gh/bmabey/pyLDAvis@3.4.0/pyLDAvis/js/ldavis.v3.0.0.js\", function(){\n",
              "                 new LDAvis(\"#\" + \"ldavis_el4801400874046829285151212225\", ldavis_el4801400874046829285151212225_data);\n",
              "            })\n",
              "         });\n",
              "}\n",
              "</script>"
            ]
          },
          "metadata": {},
          "execution_count": 17
        }
      ]
    },
    {
      "cell_type": "code",
      "source": [
        "#Creating 10 empty clusters and pushing master reports in each of them based on topic modeling and saving them in individual csv file\n",
        "for c in range(10):\n",
        "    exec('topic_{} = pd.DataFrame()'.format(c))\n",
        "    for i in range(len(master_reports)):\n",
        "        topic=lda_model[dictionary.doc2bow(master_reports.Description[i])]\n",
        "        topic= np.asarray(topic)\n",
        "        if int(topic[np.argmax(topic[:,1]),0])== c:\n",
        "            exec('topic_{} = topic_{}.append(master_reports.loc[[i]])'.format(c,c))\n",
        "            exec('topic_{} = topic_{}.reset_index(drop=True)'.format(c,c))\n",
        "            exec('topic_{}.to_csv(\"topic_{}.csv\")'.format(c,c))"
      ],
      "metadata": {
        "id": "CrsYFPvuNPYK"
      },
      "execution_count": 18,
      "outputs": []
    },
    {
      "cell_type": "code",
      "source": [
        "#To Open Pickle File\n",
        "file_bow = open('firefox_bow_corpus.pickle', 'rb')\n",
        "bow_corpus = pickle.load(file_bow)\n",
        "\n",
        "file_dict = open('firefox_dictionary.pickle', 'rb')\n",
        "dictionary=pickle.load(file_dict)\n",
        "\n",
        "#To load Trained Model\n",
        "lda_model =  models.LdaModel.load('firefox_lda_model.model')"
      ],
      "metadata": {
        "id": "FGrOGYa3NSJO"
      },
      "execution_count": 2,
      "outputs": []
    },
    {
      "cell_type": "code",
      "source": [
        "#To Create corpus for Word2Vec and FastText models\n",
        "for i in range(10):\n",
        "    exec('sent_{} = []'.format(i))\n",
        "    exec('x= topic_{}'.format(i))\n",
        "    for j in range(len(x)):\n",
        "        exec('sent_{}.append(topic_{}.Description[{}])'.format(i,i,j))\n",
        "\n",
        "for sent in range(10):\n",
        "    exec('print(len(sent_{}))'.format(sent))"
      ],
      "metadata": {
        "colab": {
          "base_uri": "https://localhost:8080/"
        },
        "id": "T64bkIl1OIWq",
        "outputId": "7ebb0c03-e37a-4212-d94b-896c19b94ba4"
      },
      "execution_count": 20,
      "outputs": [
        {
          "output_type": "stream",
          "name": "stdout",
          "text": [
            "1212\n",
            "3148\n",
            "1065\n",
            "5222\n",
            "9753\n",
            "1141\n",
            "2895\n",
            "5168\n",
            "514\n",
            "320\n"
          ]
        }
      ]
    },
    {
      "cell_type": "code",
      "source": [
        "#Training GloVe model for each cluster\n",
        "for cluster in range(10):\n",
        "    vector_size = 100\n",
        "    exec('glove_corpus{}=Corpus()'.format(cluster, cluster)) \n",
        "    exec('glove_corpus{}.fit(sent_{})'.format(cluster, cluster))\n",
        "    exec('glove{}= Glove(no_components=vector_size, learning_rate=0.18, alpha=0.75, max_count=100, max_loss=10.0, random_state=None)'.format(cluster, cluster))\n",
        "    exec('glove{}.fit(glove_corpus{}.matrix, epochs=200, no_threads=3, verbose=True)'.format(cluster, cluster))\n",
        "    exec('transformer = lambda dictionary2:glove{}.transform_paragraph(words, epochs=1000,ignore_missing=False)'.format(cluster, cluster))\n",
        "    exec('glove{}.add_dictionary(glove_corpus{}.dictionary)'.format(cluster, cluster))\n",
        "\n",
        "    #Save the all the models in individual file\n",
        "    exec('path = get_tmpfile(\"glove{}.model\")'.format(cluster))\n",
        "    exec('glove{}.save(\"glove{}.model\")'.format(cluster, cluster))"
      ],
      "metadata": {
        "id": "Jy7TvWMLNv_w"
      },
      "execution_count": 2,
      "outputs": []
    },
    {
      "cell_type": "markdown",
      "source": [
        "# **Classification**"
      ],
      "metadata": {
        "id": "edCLRlO7O2RE"
      }
    },
    {
      "cell_type": "code",
      "source": [
        "#To Import all the Clusters created using LDA based Topic Modeling\n",
        "for c in range(10):\n",
        "    exec('topic_{} = pd.read_csv(\"topic_{}.csv\")'.format(c,c))\n",
        "    exec(\"topic_{}= topic_{}.drop(columns=['Unnamed: 0'])\".format(c,c))\n",
        "    exec(\"topic_{}['Description'] = topic_{}['Description'].map(preprocess)\".format(c,c))"
      ],
      "metadata": {
        "id": "DxOIGsj5NyIz"
      },
      "execution_count": 22,
      "outputs": []
    },
    {
      "cell_type": "code",
      "source": [
        "#To Import all the trained GloVe models\n",
        "for mod in range(10):  \n",
        "    exec('glove{} = Glove.load(\"glove{}.model\")'.format(mod, mod))"
      ],
      "metadata": {
        "id": "nJF0u5RpPg_i"
      },
      "execution_count": 23,
      "outputs": []
    },
    {
      "cell_type": "code",
      "source": [
        "#This will return the index of cluster in which the master report of duplicate report may reside\n",
        "def sim_with_clusters_lda_topn(DR, n):\n",
        "    vec_bow = dictionary.doc2bow(DR)\n",
        "    x= lda_model[vec_bow]\n",
        "    topic = np.asarray(x)\n",
        "    sim=[]\n",
        "    x= topic[np.argsort(topic[:,1])[-n:][::-1],0]\n",
        "\n",
        "    for i in range(len(x)):\n",
        "        sim.append(int(x[i]))\n",
        "\n",
        "    return sim\n",
        "\n",
        "#To get Similarity between two feature vectors using the average of Cosine Similarity & Euclidean Similarity\n",
        "def sim(vec1, vec2): \n",
        "    sim1 = 1/(1+np.linalg.norm(np.array(vec1) - np.array(vec2)))\n",
        "    sim2 = cosine_similarity(vec1, vec2)\n",
        "    sim=(sim1+sim2)/2 \n",
        "    return sim"
      ],
      "metadata": {
        "id": "YdwkOSEvPlPx"
      },
      "execution_count": 24,
      "outputs": []
    },
    {
      "cell_type": "markdown",
      "source": [
        "# **LDA and GLOVE**"
      ],
      "metadata": {
        "id": "EpnKk2gLPzfy"
      }
    },
    {
      "cell_type": "code",
      "source": [
        "#Returns Top-N Master Reports\n",
        "def compare_topn(model, cluster, sent, DR, topn, modal):\n",
        "    similarity=[]\n",
        "    \n",
        "    if (modal == 'single'):\n",
        "        vec_duplicate, master= feature_vectors_single_modality(DR, sent, model)\n",
        "    else:\n",
        "        raise ValueError('Invalid Modality entered')\n",
        "\n",
        "    for doc in range(len(master)):\n",
        "        vec_master = master[doc]\n",
        "        vec_master= [vec_master]\n",
        "        unified_sim = sim(vec_duplicate, vec_master)\n",
        "        similarity.append(unified_sim)\n",
        "    \n",
        "    similarity = np.asarray(similarity)\n",
        "    similarity= np.concatenate(similarity, axis=0 )\n",
        "    similarity= np.concatenate(similarity, axis=0 )\n",
        "    max_similar_reports=similarity.argsort()[-topn:][::-1]\n",
        "\n",
        "    return(max_similar_reports)"
      ],
      "metadata": {
        "id": "w8TPjFd_PyTI"
      },
      "execution_count": 25,
      "outputs": []
    },
    {
      "cell_type": "code",
      "source": [
        "# creation of feature vectors by singlemodality feature extraction\n",
        "def feature_vectors_single_modality(DR, corpus, model):\n",
        "    master = averaged_word_vectorizer_glove(corpus=sent, model=model, num_features=100)\n",
        "\n",
        "    vec_duplicate = averaged_word_vectorizer_glove(corpus=DR, model=model, num_features=100)\n",
        "\n",
        "    vec_duplicate = [vec_duplicate]\n",
        "\n",
        "    return vec_duplicate, master\n",
        "\n",
        "def averaged_word_vectorizer_glove(corpus, model, num_features):\n",
        "    vocabulary = set(model.dictionary)\n",
        "    if(any(isinstance(i, list) for i in corpus)):\n",
        "        features = [average_word_vectors_glove(tokenized_sentence, model, vocabulary, num_features)\n",
        "                      for tokenized_sentence in corpus]\n",
        "        return np.array(features)\n",
        "    else:\n",
        "          features = average_word_vectors_glove(corpus, model, vocabulary, num_features)\n",
        "    return np.array(features)\n",
        "\n",
        "def average_word_vectors_glove(words, model, vocabulary, num_features):  \n",
        "    feature_vector = np.zeros((num_features,),dtype=\"float64\")\n",
        "    nwords = 0.  \n",
        "\n",
        "    for word in words:\n",
        "        if word in vocabulary: \n",
        "            nwords = nwords + 1.\n",
        "            feature_vector = np.add(feature_vector, model.word_vectors[model.dictionary[word]])\n",
        "\n",
        "    if nwords:\n",
        "        feature_vector = np.divide(feature_vector, nwords)\n",
        "        \n",
        "    return feature_vector"
      ],
      "metadata": {
        "id": "olzYGJuCP3R7"
      },
      "execution_count": 26,
      "outputs": []
    },
    {
      "cell_type": "markdown",
      "source": [
        "# Complete Data\n",
        "\n",
        "Determining the top-n values for the Recall Rate @ k"
      ],
      "metadata": {
        "id": "RqfoaGo6P8dP"
      }
    },
    {
      "cell_type": "code",
      "source": [
        "#Import Duplicate Reports\n",
        "test = pd.read_csv('firefox_duplicate_reports.csv')\n",
        "test = test.drop(columns=['Unnamed: 0'])\n",
        "test['Description']= test['Description'].fillna('').astype(str).map(preprocess)\n",
        "test = test.rename(columns={'Bug ID':'Bug_ID'})\n",
        "\n",
        "#To Decide the Iterations\n",
        "number_of_samples = test.shape[0]\n",
        "\n",
        "if(number_of_samples > 200):\n",
        "  number_of_samples = 200"
      ],
      "metadata": {
        "id": "tyQCJE6kZnaq"
      },
      "execution_count": 27,
      "outputs": []
    },
    {
      "cell_type": "code",
      "source": [
        "#Evaluating the performance by Recall Rate\n",
        "def evaluate(vec_acc, t2, t1):\n",
        "  sum = 0\n",
        "  for i,num in enumerate(vec_acc):\n",
        "      sum = sum + int(num)\n",
        "  recall_rate = (sum/len(vec_acc))*100\n",
        "  print(\"Recall Rate : {} %\".format(recall_rate))\n",
        "  print(\"Time : \", (t2-t1)/60, \"min\")"
      ],
      "metadata": {
        "id": "XOntmWZcoQpi"
      },
      "execution_count": 28,
      "outputs": []
    },
    {
      "cell_type": "code",
      "source": [
        "#For k=1\n",
        "vec_acc_top1=[]\n",
        "t1_top1 = time.time()\n",
        "\n",
        "for i in range(number_of_samples):\n",
        "    print(f'\\rRunning sample {i}', end='')\n",
        "    sample = test.Description[i] \n",
        "    n = 1\n",
        "    max_cluster =sim_with_clusters_lda_topn(sample, n)\n",
        "    v=[]\n",
        "\n",
        "    for max in max_cluster:\n",
        "        exec('cluster = topic_{}'.format(max)) \n",
        "        exec('model = glove{}'.format(max))                \n",
        "        exec('sent = topic_{}.Description'.format(max))\n",
        "        \n",
        "        cluster = cluster.rename(columns={'Bug ID':'Bug_ID'})\n",
        "        topn = 1  \n",
        "        modal = 'single'                                 \n",
        "        \n",
        "        #This will return the Top-N predicted master reports\n",
        "        max_sim = compare_topn(model, cluster, sent, sample, topn, modal)\n",
        "        t2_top1 = time.time()\n",
        "\n",
        "        #Comparing the predicted value to the ground truth\n",
        "        for num in max_sim:\n",
        "            if (cluster.Bug_ID[num] == test.Duplicate_Bug_Ids[i]):\n",
        "                v.append(\"1\")\n",
        "            else:\n",
        "                v.append(\"0\")\n",
        "\n",
        "    if(all(x==v[0] for x in v)):\n",
        "        vec_acc_top1.append(\"0\")\n",
        "    else:\n",
        "        vec_acc_top1.append(\"1\")"
      ],
      "metadata": {
        "colab": {
          "base_uri": "https://localhost:8080/"
        },
        "id": "wU-r0jXhfFOP",
        "outputId": "553cafb9-12cf-4dd2-e78e-7213293b0856"
      },
      "execution_count": 30,
      "outputs": [
        {
          "output_type": "stream",
          "name": "stdout",
          "text": [
            "Running sample 199"
          ]
        }
      ]
    },
    {
      "cell_type": "code",
      "source": [
        "#For k=5\n",
        "vec_acc_top5=[]\n",
        "t1_top5 = time.time()\n",
        "\n",
        "for i in range(number_of_samples):\n",
        "    print(f'\\rRunning sample {i}', end='')\n",
        "    sample = test.Description[i] \n",
        "    n = 3\n",
        "    max_cluster =sim_with_clusters_lda_topn(sample, n)\n",
        "    v=[]\n",
        "\n",
        "    for max in max_cluster:\n",
        "        exec('cluster = topic_{}'.format(max)) \n",
        "        exec('model = glove{}'.format(max))                \n",
        "        exec('sent = topic_{}.Description'.format(max))\n",
        "        \n",
        "        cluster = cluster.rename(columns={'Bug ID':'Bug_ID'})\n",
        "        topn = 1 \n",
        "        modal = 'single'                                 \n",
        "        \n",
        "        #This will return the Top-N predicted master reports\n",
        "        max_sim = compare_topn(model, cluster, sent, sample, topn, modal)\n",
        "        t2_top5 = time.time()\n",
        "\n",
        "        #Comparing the predicted value to the ground truth\n",
        "        for num in max_sim:\n",
        "            if (cluster.Bug_ID[num] == test.Duplicate_Bug_Ids[i]):\n",
        "                v.append(\"1\")\n",
        "            else:\n",
        "                v.append(\"0\")\n",
        "\n",
        "    if(all(x==v[0] for x in v)):\n",
        "        vec_acc_top5.append(\"0\")\n",
        "    else:\n",
        "        vec_acc_top5.append(\"1\")"
      ],
      "metadata": {
        "colab": {
          "base_uri": "https://localhost:8080/"
        },
        "id": "3TGzhXLZpn69",
        "outputId": "f965ec0f-1984-47fd-e1f4-43ec42f0fd17"
      },
      "execution_count": 31,
      "outputs": [
        {
          "output_type": "stream",
          "name": "stdout",
          "text": [
            "Running sample 199"
          ]
        }
      ]
    },
    {
      "cell_type": "code",
      "source": [
        "#For k=10\n",
        "vec_acc_top10=[]\n",
        "t1_top10 = time.time()\n",
        "\n",
        "for i in range(number_of_samples):\n",
        "    print(f'\\rRunning sample {i}', end='')\n",
        "    sample = test.Description[i] \n",
        "    n = 3\n",
        "    max_cluster =sim_with_clusters_lda_topn(sample, n)\n",
        "    v=[]\n",
        "\n",
        "    for max in max_cluster:\n",
        "        exec('cluster = topic_{}'.format(max)) \n",
        "        exec('model = glove{}'.format(max))                \n",
        "        exec('sent = topic_{}.Description'.format(max))\n",
        "        \n",
        "        cluster = cluster.rename(columns={'Bug ID':'Bug_ID'})\n",
        "        topn = 3  \n",
        "        modal = 'single'                                 \n",
        "        \n",
        "        #This will return the Top-N predicted master reports\n",
        "        max_sim = compare_topn(model, cluster, sent, sample, topn, modal)\n",
        "        t2_top10 = time.time()\n",
        "\n",
        "        #Comparing the predicted value to the ground truth\n",
        "        for num in max_sim:\n",
        "            if (cluster.Bug_ID[num] == test.Duplicate_Bug_Ids[i]):\n",
        "                v.append(\"1\")\n",
        "            else:\n",
        "                v.append(\"0\")\n",
        "\n",
        "    if(all(x==v[0] for x in v)):\n",
        "        vec_acc_top10.append(\"0\")\n",
        "    else:\n",
        "        vec_acc_top10.append(\"1\")"
      ],
      "metadata": {
        "colab": {
          "base_uri": "https://localhost:8080/"
        },
        "id": "81ID20CTp3LX",
        "outputId": "d24de10b-f0ee-4333-e09e-31e389599d54"
      },
      "execution_count": 32,
      "outputs": [
        {
          "output_type": "stream",
          "name": "stdout",
          "text": [
            "Running sample 199"
          ]
        }
      ]
    },
    {
      "cell_type": "code",
      "source": [
        "#For k=100\n",
        "vec_acc_top100=[]\n",
        "t1_top100 = time.time()\n",
        "\n",
        "for i in range(number_of_samples):\n",
        "    print(f'\\rRunning sample {i}', end='')\n",
        "    sample = test.Description[i] \n",
        "    n = 3\n",
        "    max_cluster =sim_with_clusters_lda_topn(sample, n)\n",
        "    v=[]\n",
        "\n",
        "    for max in max_cluster:\n",
        "        exec('cluster = topic_{}'.format(max)) \n",
        "        exec('model = glove{}'.format(max))                \n",
        "        exec('sent = topic_{}.Description'.format(max))\n",
        "        \n",
        "        cluster = cluster.rename(columns={'Bug ID':'Bug_ID'})\n",
        "        topn = 33   \n",
        "        modal = 'single'                                 \n",
        "        \n",
        "        #This will return the Top-N predicted master reports\n",
        "        max_sim = compare_topn(model, cluster, sent, sample, topn, modal)\n",
        "        t2_top100 = time.time()\n",
        "\n",
        "        #Comparing the predicted value to the ground truth\n",
        "        for num in max_sim:\n",
        "            if (cluster.Bug_ID[num] == test.Duplicate_Bug_Ids[i]):\n",
        "                v.append(\"1\")\n",
        "            else:\n",
        "                v.append(\"0\")\n",
        "\n",
        "    if(all(x==v[0] for x in v)):\n",
        "        vec_acc_top100.append(\"0\")\n",
        "    else:\n",
        "        vec_acc_top100.append(\"1\")"
      ],
      "metadata": {
        "colab": {
          "base_uri": "https://localhost:8080/"
        },
        "id": "Hc4wxJ7pqC3N",
        "outputId": "1ecbf679-ebf7-4855-e47e-b96b8898a1c6"
      },
      "execution_count": 33,
      "outputs": [
        {
          "output_type": "stream",
          "name": "stdout",
          "text": [
            "Running sample 199"
          ]
        }
      ]
    },
    {
      "cell_type": "code",
      "source": [
        "print('For k=1')\n",
        "evaluate(vec_acc_top1, t2_top1, t1_top1)\n",
        "\n",
        "print('\\nFor k=5')\n",
        "evaluate(vec_acc_top5, t2_top5, t1_top5)\n",
        "\n",
        "print('\\nFor k=10')\n",
        "evaluate(vec_acc_top10, t2_top10, t1_top10)\n",
        "\n",
        "print('\\nFor k=100')\n",
        "evaluate(vec_acc_top100, t2_top100, t1_top100)"
      ],
      "metadata": {
        "colab": {
          "base_uri": "https://localhost:8080/"
        },
        "id": "YFL6LJLNjRcj",
        "outputId": "b89bad81-f747-497a-f46d-45b02d108d7e"
      },
      "execution_count": 34,
      "outputs": [
        {
          "output_type": "stream",
          "name": "stdout",
          "text": [
            "For k=1\n",
            "Recall Rate : 0.0 %\n",
            "Time :  9.957866668701172 min\n",
            "\n",
            "For k=5\n",
            "Recall Rate : 5.0 %\n",
            "Time :  21.93537183602651 min\n",
            "\n",
            "For k=10\n",
            "Recall Rate : 7.5 %\n",
            "Time :  21.739986900488535 min\n",
            "\n",
            "For k=100\n",
            "Recall Rate : 13.0 %\n",
            "Time :  21.631046350797018 min\n"
          ]
        }
      ]
    },
    {
      "cell_type": "markdown",
      "source": [
        "# Textually Similar Data\n",
        "\n",
        "Determining the top-n values for the Recall Rate @ k"
      ],
      "metadata": {
        "id": "AeHfgskBr4eb"
      }
    },
    {
      "cell_type": "code",
      "source": [
        "#Import Textually Similar Data\n",
        "test_sim = pd.read_csv('/content/drive/Shareddrives/DSCI-644-Team-5/PreProcessedData/Firefox_final_sim.csv')\n",
        "\n",
        "#Cleaning the Data\n",
        "test_sim = test_sim.drop(columns=['Unnamed: 0'])\n",
        "test_sim['Description']= test_sim['Description'].fillna('').astype(str).map(preprocess)\n",
        "test_sim.replace(\"\", np.nan, inplace=True)\n",
        "test_sim.dropna(subset = [\"Duplicate_Bug_Ids\"], inplace=True)\n",
        "test_sim = test_sim.reset_index(drop=True)\n",
        "\n",
        "#To Decide the Iterations\n",
        "number_of_samples_sim = test_sim.shape[0]\n",
        "\n",
        "if(number_of_samples_sim > 200):\n",
        "  number_of_samples_sim = 200"
      ],
      "metadata": {
        "id": "-D58P1BsPG2M"
      },
      "execution_count": 35,
      "outputs": []
    },
    {
      "cell_type": "code",
      "source": [
        "#For k=1\n",
        "vec_acc_top1_sim=[]\n",
        "t1_top1_sim = time.time()\n",
        "\n",
        "for i in range(number_of_samples_sim):\n",
        "    print(f'\\rRunning sample {i}', end='')\n",
        "    sample = test_sim.Description[i] \n",
        "    n = 1\n",
        "    max_cluster =sim_with_clusters_lda_topn(sample, n)\n",
        "    v=[]\n",
        "\n",
        "    for max in max_cluster:\n",
        "        exec('cluster = topic_{}'.format(max)) \n",
        "        exec('model = glove{}'.format(max))                \n",
        "        exec('sent = topic_{}.Description'.format(max))\n",
        "      \n",
        "        cluster = cluster.rename(columns={'Bug ID':'Bug_ID'})\n",
        "        topn = 1   \n",
        "        modal = 'single'                                 \n",
        "        \n",
        "        #This will return the Top-N predicted master reports\n",
        "        max_sim = compare_topn(model, cluster, sent, sample, topn, modal)\n",
        "        t2_top1_sim = time.time()\n",
        "\n",
        "        #Comparing the predicted value to the ground truth\n",
        "        for num in max_sim:\n",
        "            if (cluster.Bug_ID[num] == test_sim.Duplicate_Bug_Ids[i]):\n",
        "                v.append(\"1\")\n",
        "            else:\n",
        "                v.append(\"0\")\n",
        "\n",
        "    if(all(x==v[0] for x in v)):\n",
        "        vec_acc_top1_sim.append(\"0\")\n",
        "    else:\n",
        "        vec_acc_top1_sim.append(\"1\")"
      ],
      "metadata": {
        "colab": {
          "base_uri": "https://localhost:8080/"
        },
        "id": "6RDaBg1tglW4",
        "outputId": "8d270fe1-0238-47ad-b6c3-4e9db6022c18"
      },
      "execution_count": 36,
      "outputs": [
        {
          "output_type": "stream",
          "name": "stdout",
          "text": [
            "Running sample 199"
          ]
        }
      ]
    },
    {
      "cell_type": "code",
      "source": [
        "#For k=5\n",
        "vec_acc_top5_sim=[]\n",
        "t1_top5_sim = time.time()\n",
        "\n",
        "for i in range(number_of_samples_sim):\n",
        "    print(f'\\rRunning sample {i}', end='')\n",
        "    sample = test_sim.Description[i]\n",
        "    n = 3\n",
        "    max_cluster =sim_with_clusters_lda_topn(sample, n)\n",
        "    v=[]\n",
        "\n",
        "    for max in max_cluster:\n",
        "        exec('cluster = topic_{}'.format(max))             \n",
        "        exec('model = glove{}'.format(max))                \n",
        "        exec('sent = topic_{}.Description'.format(max))     \n",
        "        \n",
        "        cluster = cluster.rename(columns={'Bug ID':'Bug_ID'})\n",
        "        topn = 1           \n",
        "        modal = 'single'        \n",
        "        \n",
        "        #This will return the Top-N predicted master reports\n",
        "        max_sim = compare_topn(model, cluster, sent, sample, topn, modal)\n",
        "        t2_top5_sim = time.time()\n",
        "\n",
        "        #Comparing the predicted value to the ground truth\n",
        "        for num in max_sim:\n",
        "            if (cluster.Bug_ID[num] == test_sim.Duplicate_Bug_Ids[i]):\n",
        "                v.append(\"1\")\n",
        "            else:\n",
        "                v.append(\"0\")\n",
        "\n",
        "    if(all(x==v[0] for x in v)):\n",
        "        vec_acc_top5_sim.append(\"0\")\n",
        "    else:\n",
        "        vec_acc_top5_sim.append(\"1\")"
      ],
      "metadata": {
        "colab": {
          "base_uri": "https://localhost:8080/"
        },
        "id": "r32ErU6uwPtO",
        "outputId": "913878f2-547a-4277-c1b3-78d4952244d5"
      },
      "execution_count": 37,
      "outputs": [
        {
          "output_type": "stream",
          "name": "stdout",
          "text": [
            "Running sample 199"
          ]
        }
      ]
    },
    {
      "cell_type": "code",
      "source": [
        "#For k=10\n",
        "vec_acc_top10_sim=[]\n",
        "t1_top10_sim = time.time()\n",
        "\n",
        "for i in range(number_of_samples_sim):\n",
        "    print(f'\\rRunning sample {i}', end='')\n",
        "    sample = test_sim.Description[i] \n",
        "    n = 3\n",
        "    max_cluster =sim_with_clusters_lda_topn(sample, n)\n",
        "    v=[]\n",
        "\n",
        "    for max in max_cluster:\n",
        "        exec('cluster = topic_{}'.format(max))              \n",
        "        exec('model = glove{}'.format(max))               \n",
        "        exec('sent = topic_{}.Description'.format(max))    \n",
        "        \n",
        "        cluster = cluster.rename(columns={'Bug ID':'Bug_ID'})\n",
        "        topn = 3          \n",
        "        modal = 'single'                                    \n",
        "        \n",
        "        #This will return the Top-N predicted master reports\n",
        "        max_sim = compare_topn(model, cluster, sent, sample, topn, modal)\n",
        "        t2_top10_sim = time.time()\n",
        "\n",
        "        #Comparing the predicted value to the ground truth\n",
        "        for num in max_sim:\n",
        "            if (cluster.Bug_ID[num] == test_sim.Duplicate_Bug_Ids[i]):\n",
        "                v.append(\"1\")\n",
        "            else:\n",
        "                v.append(\"0\")\n",
        "\n",
        "    if(all(x==v[0] for x in v)):\n",
        "        vec_acc_top10_sim.append(\"0\")\n",
        "    else:\n",
        "        vec_acc_top10_sim.append(\"1\")"
      ],
      "metadata": {
        "colab": {
          "base_uri": "https://localhost:8080/"
        },
        "id": "GgKgKY_cwsn7",
        "outputId": "7e0af465-5951-4eef-9f0d-d148f52f4953"
      },
      "execution_count": 38,
      "outputs": [
        {
          "output_type": "stream",
          "name": "stdout",
          "text": [
            "Running sample 199"
          ]
        }
      ]
    },
    {
      "cell_type": "code",
      "source": [
        "#For k=100\n",
        "vec_acc_top100_sim=[]\n",
        "t1_top100_sim = time.time()\n",
        "\n",
        "for i in range(number_of_samples_sim):\n",
        "    print(f'\\rRunning sample {i}', end='')\n",
        "    sample = test_sim.Description[i]\n",
        "    n = 3\n",
        "    max_cluster =sim_with_clusters_lda_topn(sample, n)\n",
        "    v=[]\n",
        "\n",
        "    for max in max_cluster:\n",
        "        exec('cluster = topic_{}'.format(max))              \n",
        "        exec('model = glove{}'.format(max))               \n",
        "        exec('sent = topic_{}.Description'.format(max))     \n",
        "        \n",
        "        cluster = cluster.rename(columns={'Bug ID':'Bug_ID'})\n",
        "        topn = 33          \n",
        "        modal = 'single'    \n",
        "\n",
        "        #This will return the Top-N predicted master reports\n",
        "        max_sim = compare_topn(model, cluster, sent, sample, topn, modal)\n",
        "        t2_top100_sim = time.time()\n",
        "\n",
        "        #Comparing the predicted value to the ground truth\n",
        "        for num in max_sim:\n",
        "            if (cluster.Bug_ID[num] == test_sim.Duplicate_Bug_Ids[i]):\n",
        "                v.append(\"1\")\n",
        "            else:\n",
        "                v.append(\"0\")\n",
        "\n",
        "    if(all(x==v[0] for x in v)):\n",
        "        vec_acc_top100_sim.append(\"0\")\n",
        "    else:\n",
        "        vec_acc_top100_sim.append(\"1\")"
      ],
      "metadata": {
        "colab": {
          "base_uri": "https://localhost:8080/"
        },
        "id": "GheBGogUxA0O",
        "outputId": "844c4b8e-55ee-46d3-df2a-312251eeaf2f"
      },
      "execution_count": 39,
      "outputs": [
        {
          "output_type": "stream",
          "name": "stdout",
          "text": [
            "Running sample 199"
          ]
        }
      ]
    },
    {
      "cell_type": "code",
      "source": [
        "print('For k=1')\n",
        "evaluate(vec_acc_top1_sim, t2_top1_sim, t1_top1_sim)\n",
        "\n",
        "print('\\nFor k=5')\n",
        "evaluate(vec_acc_top5_sim, t2_top5_sim, t1_top5_sim)\n",
        "\n",
        "print('\\nFor k=10')\n",
        "evaluate(vec_acc_top10_sim, t2_top10_sim, t1_top10_sim)\n",
        "\n",
        "print('\\nFor k=100')\n",
        "evaluate(vec_acc_top100_sim, t2_top100_sim, t1_top100_sim)"
      ],
      "metadata": {
        "colab": {
          "base_uri": "https://localhost:8080/"
        },
        "id": "m9Wsh8cYu7QE",
        "outputId": "5a33bf1f-ab9a-4ba8-ef40-c3b4c9b91325"
      },
      "execution_count": 40,
      "outputs": [
        {
          "output_type": "stream",
          "name": "stdout",
          "text": [
            "For k=1\n",
            "Recall Rate : 0.0 %\n",
            "Time :  14.386229968070984 min\n",
            "\n",
            "For k=5\n",
            "Recall Rate : 3.0 %\n",
            "Time :  24.397793928782146 min\n",
            "\n",
            "For k=10\n",
            "Recall Rate : 3.5000000000000004 %\n",
            "Time :  24.308109386761984 min\n",
            "\n",
            "For k=100\n",
            "Recall Rate : 6.0 %\n",
            "Time :  24.257803535461427 min\n"
          ]
        }
      ]
    },
    {
      "cell_type": "markdown",
      "source": [
        "# Textually Dissimilar Data\n",
        "\n",
        "Determining the top-n values for the Recall Rate @ k"
      ],
      "metadata": {
        "id": "3yYy3RIVPdH2"
      }
    },
    {
      "cell_type": "code",
      "source": [
        "#Import Textually Similar Data\n",
        "test_dissim = pd.read_csv('/content/drive/Shareddrives/DSCI-644-Team-5/PreProcessedData/Firefox_final_dis.csv')\n",
        "\n",
        "#Cleaning the Data\n",
        "test_dissim = test_dissim.drop(columns=['Unnamed: 0'])\n",
        "test_dissim['Description']= test_dissim['Description'].fillna('').astype(str).map(preprocess)\n",
        "test_dissim.replace(\"\", np.nan, inplace=True)\n",
        "test_dissim.dropna(subset = [\"Duplicate_Bug_Ids\"], inplace=True)\n",
        "test_dissim = test_dissim.reset_index(drop=True)\n",
        "\n",
        "#To Decide the Iterations\n",
        "number_of_samples_dis = test_dissim.shape[0]\n",
        "\n",
        "if(number_of_samples_dis > 200):\n",
        "  number_of_samples_dis = 200"
      ],
      "metadata": {
        "id": "0XwLRct5PdzU"
      },
      "execution_count": 41,
      "outputs": []
    },
    {
      "cell_type": "code",
      "source": [
        "#For k=1\n",
        "vec_acc_top1_dis=[]\n",
        "t1_top1_dis = time.time()\n",
        "\n",
        "for i in range(number_of_samples_dis):\n",
        "    print(f'\\rRunning sample {i}', end='')\n",
        "    sample = test_dissim.Description[i] \n",
        "    n = 1\n",
        "    max_cluster =sim_with_clusters_lda_topn(sample, n)\n",
        "    v=[]\n",
        "    \n",
        "    for max in max_cluster:\n",
        "        exec('cluster = topic_{}'.format(max))              \n",
        "        exec('model = glove{}'.format(max))               \n",
        "        exec('sent = topic_{}.Description'.format(max))     \n",
        "        \n",
        "        cluster = cluster.rename(columns={'Bug ID':'Bug_ID'})\n",
        "        topn = 1              \n",
        "        modal = 'single'                                    \n",
        "        \n",
        "        #This will return the Top-N predicted master reports\n",
        "        max_sim = compare_topn(model, cluster, sent, sample, topn, modal)\n",
        "        t2_top1_dis = time.time()\n",
        "\n",
        "        #Comparing the predicted value to the ground truth\n",
        "        for num in max_sim:\n",
        "            if (cluster.Bug_ID[num] == test_dissim.Duplicate_Bug_Ids[i]):\n",
        "                v.append(\"1\")\n",
        "            else:\n",
        "                v.append(\"0\")\n",
        "\n",
        "    if(all(x==v[0] for x in v)):\n",
        "        vec_acc_top1_dis.append(\"0\")\n",
        "    else:\n",
        "        vec_acc_top1_dis.append(\"1\")"
      ],
      "metadata": {
        "colab": {
          "base_uri": "https://localhost:8080/"
        },
        "id": "isHWj_qI25_d",
        "outputId": "eac68e02-92ac-471a-c833-57d3b89b4ab8"
      },
      "execution_count": 42,
      "outputs": [
        {
          "output_type": "stream",
          "name": "stdout",
          "text": [
            "Running sample 199"
          ]
        }
      ]
    },
    {
      "cell_type": "code",
      "source": [
        "#For k=5\n",
        "vec_acc_top5_dis=[]\n",
        "t1_top5_dis = time.time()\n",
        "\n",
        "for i in range(number_of_samples_dis):\n",
        "    print(f'\\rRunning sample {i}', end='')\n",
        "    sample = test_dissim.Description[i] \n",
        "    n = 3\n",
        "    max_cluster =sim_with_clusters_lda_topn(sample, n)\n",
        "    v=[]\n",
        "\n",
        "    for max in max_cluster:\n",
        "        exec('cluster = topic_{}'.format(max))                       \n",
        "        exec('model = glove{}'.format(max))                \n",
        "        exec('sent = topic_{}.Description'.format(max))     \n",
        "        \n",
        "        cluster = cluster.rename(columns={'Bug ID':'Bug_ID'})\n",
        "        topn = 1          \n",
        "        modal = 'single'                                    \n",
        "        \n",
        "        #This will return the Top-N predicted master reports\n",
        "        max_sim = compare_topn(model, cluster, sent, sample, topn, modal)\n",
        "        t2_top5_dis = time.time()\n",
        "\n",
        "        #Comparing the predicted value to the ground truth\n",
        "        for num in max_sim:\n",
        "            if (cluster.Bug_ID[num] == test_dissim.Duplicate_Bug_Ids[i]):\n",
        "                v.append(\"1\")\n",
        "            else:\n",
        "                v.append(\"0\")\n",
        "\n",
        "    if(all(x==v[0] for x in v)):\n",
        "        vec_acc_top5_dis.append(\"0\")\n",
        "    else:\n",
        "        vec_acc_top5_dis.append(\"1\")"
      ],
      "metadata": {
        "colab": {
          "base_uri": "https://localhost:8080/"
        },
        "id": "aChnGZGa4y4T",
        "outputId": "51bed745-3927-4316-fa31-91be67bc6a3c"
      },
      "execution_count": 43,
      "outputs": [
        {
          "output_type": "stream",
          "name": "stdout",
          "text": [
            "Running sample 199"
          ]
        }
      ]
    },
    {
      "cell_type": "code",
      "source": [
        "#For k=10\n",
        "vec_acc_top10_dis=[]\n",
        "t1_top10_dis = time.time()\n",
        "\n",
        "for i in range(number_of_samples_dis):\n",
        "    print(f'\\rRunning sample {i}', end='')\n",
        "    sample = test_dissim.Description[i] \n",
        "    n = 3\n",
        "    max_cluster =sim_with_clusters_lda_topn(sample, n)\n",
        "    v=[]\n",
        "\n",
        "    for max in max_cluster:\n",
        "        exec('cluster = topic_{}'.format(max))                         \n",
        "        exec('model = glove{}'.format(max))                \n",
        "        exec('sent = topic_{}.Description'.format(max))     \n",
        "        \n",
        "        cluster = cluster.rename(columns={'Bug ID':'Bug_ID'})\n",
        "        topn = 3      \n",
        "        modal = 'single'                                  \n",
        "        \n",
        "        #This will return the Top-N predicted master reports\n",
        "        max_sim = compare_topn(model, cluster, sent, sample, topn, modal)\n",
        "        t2_top10_dis = time.time()\n",
        "\n",
        "        #Comparing the predicted value to the ground truth\n",
        "        for num in max_sim:\n",
        "            if (cluster.Bug_ID[num] == test_dissim.Duplicate_Bug_Ids[i]):\n",
        "                v.append(\"1\")\n",
        "            else:\n",
        "                v.append(\"0\")\n",
        "\n",
        "    if(all(x==v[0] for x in v)):\n",
        "        vec_acc_top10_dis.append(\"0\")\n",
        "    else:\n",
        "        vec_acc_top10_dis.append(\"1\")"
      ],
      "metadata": {
        "colab": {
          "base_uri": "https://localhost:8080/"
        },
        "id": "tqbDuoBy5xF-",
        "outputId": "7afca842-f2a5-4310-be54-677def1c2682"
      },
      "execution_count": 44,
      "outputs": [
        {
          "output_type": "stream",
          "name": "stdout",
          "text": [
            "Running sample 199"
          ]
        }
      ]
    },
    {
      "cell_type": "code",
      "source": [
        "#For k=100\n",
        "vec_acc_top100_dis=[]\n",
        "t1_top100_dis = time.time()\n",
        "\n",
        "for i in range(number_of_samples_dis):\n",
        "    print(f'\\rRunning sample {i}', end='')\n",
        "    sample = test_dissim.Description[i] \n",
        "    n = 3\n",
        "    max_cluster =sim_with_clusters_lda_topn(sample, n)\n",
        "    v=[]\n",
        "\n",
        "    for max in max_cluster:\n",
        "        exec('cluster = topic_{}'.format(max))                \n",
        "        exec('model = glove{}'.format(max))               \n",
        "        exec('sent = topic_{}.Description'.format(max))    \n",
        "        \n",
        "        cluster = cluster.rename(columns={'Bug ID':'Bug_ID'})\n",
        "        topn = 33         \n",
        "        modal = 'single'                                   \n",
        "        \n",
        "        #This will return the Top-N predicted master reports\n",
        "        max_sim = compare_topn(model, cluster, sent, sample, topn, modal)\n",
        "        t2_top100_dis = time.time()\n",
        "\n",
        "        #Comparing the predicted value to the ground truth\n",
        "        for num in max_sim:\n",
        "            if (cluster.Bug_ID[num] == test_dissim.Duplicate_Bug_Ids[i]):\n",
        "                v.append(\"1\")\n",
        "            else:\n",
        "                v.append(\"0\")\n",
        "\n",
        "    if(all(x==v[0] for x in v)):\n",
        "        vec_acc_top100_dis.append(\"0\")\n",
        "    else:\n",
        "        vec_acc_top100_dis.append(\"1\")"
      ],
      "metadata": {
        "colab": {
          "base_uri": "https://localhost:8080/"
        },
        "id": "qi-tC3Nd6y0g",
        "outputId": "4beaf731-6610-45c3-f1a3-fc55c38be0b8"
      },
      "execution_count": 45,
      "outputs": [
        {
          "output_type": "stream",
          "name": "stdout",
          "text": [
            "Running sample 199"
          ]
        }
      ]
    },
    {
      "cell_type": "code",
      "source": [
        "print('For k=1')\n",
        "evaluate(vec_acc_top1_dis, t2_top1_dis, t1_top1_dis)\n",
        "\n",
        "print('\\nFor k=5')\n",
        "evaluate(vec_acc_top5_dis, t2_top5_dis, t1_top5_dis)\n",
        "\n",
        "print('\\nFor k=10')\n",
        "evaluate(vec_acc_top10_dis, t2_top10_dis, t1_top10_dis)\n",
        "\n",
        "print('\\nFor k=100')\n",
        "evaluate(vec_acc_top100_dis, t2_top100_dis, t1_top100_dis)"
      ],
      "metadata": {
        "colab": {
          "base_uri": "https://localhost:8080/"
        },
        "id": "XPdfuaKm4r1M",
        "outputId": "35ef3a8a-265e-4f20-cc42-943ab29dddbe"
      },
      "execution_count": 46,
      "outputs": [
        {
          "output_type": "stream",
          "name": "stdout",
          "text": [
            "For k=1\n",
            "Recall Rate : 0.0 %\n",
            "Time :  7.60915093421936 min\n",
            "\n",
            "For k=5\n",
            "Recall Rate : 6.0 %\n",
            "Time :  20.23075507481893 min\n",
            "\n",
            "For k=10\n",
            "Recall Rate : 8.5 %\n",
            "Time :  22.185565944512685 min\n",
            "\n",
            "For k=100\n",
            "Recall Rate : 14.499999999999998 %\n",
            "Time :  22.22200423081716 min\n"
          ]
        }
      ]
    }
  ]
}