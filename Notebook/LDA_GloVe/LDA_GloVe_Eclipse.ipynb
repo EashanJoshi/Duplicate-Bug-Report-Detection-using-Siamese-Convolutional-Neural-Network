{
  "nbformat": 4,
  "nbformat_minor": 0,
  "metadata": {
    "colab": {
      "provenance": []
    },
    "kernelspec": {
      "name": "python3",
      "display_name": "Python 3"
    },
    "language_info": {
      "name": "python"
    }
  },
  "cells": [
    {
      "cell_type": "code",
      "execution_count": 50,
      "metadata": {
        "id": "NcEh6XNB_R72"
      },
      "outputs": [],
      "source": [
        "# For Installation (Required)\n",
        "!pip install pyLDAvis\n",
        "!pip install glove-python-binary"
      ]
    },
    {
      "cell_type": "code",
      "source": [
        "import pandas as pd\n",
        "import numpy as np\n",
        "import matplotlib.pyplot as plt\n",
        "%matplotlib inline\n",
        "\n",
        "import re\n",
        "import string\n",
        "import nltk\n",
        "import gensim\n",
        "import time\n",
        "import pickle\n",
        "import warnings\n",
        "warnings.filterwarnings('ignore')\n",
        "\n",
        "import pyLDAvis\n",
        "import pyLDAvis.gensim_models as gensimvis\n",
        "\n",
        "from gensim import corpora,models\n",
        "from gensim.utils import simple_preprocess\n",
        "from gensim.parsing.preprocessing import STOPWORDS\n",
        "from gensim.models import CoherenceModel\n",
        "from gensim.models import Word2Vec,FastText\n",
        "from gensim.test.utils import get_tmpfile\n",
        "\n",
        "from nltk import word_tokenize\n",
        "from nltk.corpus import stopwords\n",
        "from nltk.stem import WordNetLemmatizer, SnowballStemmer\n",
        "from nltk.stem.porter import *\n",
        "nltk.download('stopwords')\n",
        "nltk.download('wordnet')\n",
        "nltk.download('omw-1.4')\n",
        "\n",
        "from glove import Glove\n",
        "from glove import Corpus\n",
        "\n",
        "from sklearn.metrics.pairwise import cosine_similarity\n",
        "from sklearn.decomposition import PCA\n",
        "\n",
        "from scipy.spatial import distance"
      ],
      "metadata": {
        "colab": {
          "base_uri": "https://localhost:8080/"
        },
        "id": "1syBdp1UQFCa",
        "outputId": "564e3b09-85da-4f3f-eefd-ec23b6091ac3"
      },
      "execution_count": 14,
      "outputs": [
        {
          "output_type": "stream",
          "name": "stderr",
          "text": [
            "[nltk_data] Downloading package stopwords to /root/nltk_data...\n",
            "[nltk_data]   Package stopwords is already up-to-date!\n",
            "[nltk_data] Downloading package wordnet to /root/nltk_data...\n",
            "[nltk_data]   Package wordnet is already up-to-date!\n",
            "[nltk_data] Downloading package omw-1.4 to /root/nltk_data...\n",
            "[nltk_data]   Package omw-1.4 is already up-to-date!\n"
          ]
        }
      ]
    },
    {
      "cell_type": "code",
      "source": [
        "from google.colab import drive\n",
        "drive.mount('/content/drive', force_remount=True)"
      ],
      "metadata": {
        "colab": {
          "base_uri": "https://localhost:8080/"
        },
        "id": "p8ZzbGRFIW7o",
        "outputId": "f96e8a31-104d-4fbc-ee7f-222e8ea23354"
      },
      "execution_count": 3,
      "outputs": [
        {
          "output_type": "stream",
          "name": "stdout",
          "text": [
            "Mounted at /content/drive\n"
          ]
        }
      ]
    },
    {
      "cell_type": "code",
      "source": [
        "#Import Whole Dataset\n",
        "eclipse_data=pd.read_csv('/content/drive/Shareddrives/DSCI-644-Team-5/PrimaryDataset/eclipse_preproccessed_whole_dataset.csv')\n",
        "\n",
        "#Cleaning the Data\n",
        "eclipse_data = eclipse_data.reset_index()\n",
        "eclipse_data = eclipse_data.drop(columns = [\"index\",\"Unnamed: 0\"])\n",
        "eclipse_data = eclipse_data.drop_duplicates()\n",
        "eclipse_data = eclipse_data.dropna(axis=0, subset=['Bug ID'])\n",
        "\n",
        "#To show Data\n",
        "eclipse_data.head()"
      ],
      "metadata": {
        "colab": {
          "base_uri": "https://localhost:8080/",
          "height": 461
        },
        "id": "v5viW4TBJ8Kb",
        "outputId": "61d9db74-5aa8-4f0b-8fe8-654978bf3661"
      },
      "execution_count": 4,
      "outputs": [
        {
          "output_type": "execute_result",
          "data": {
            "text/plain": [
              "     Bug ID     Product           Component    Status   Resolution  \\\n",
              "0  518088.0   Web Tools  Web Standard Tools  RESOLVED      INVALID   \n",
              "1  546444.0  z_Archived                 PDT    CLOSED  NOT_ECLIPSE   \n",
              "2  533893.0    Platform             Website  RESOLVED      INVALID   \n",
              "3  519449.0         PDE                  UI  VERIFIED        FIXED   \n",
              "4  519450.0         JDT                  UI  RESOLVED        FIXED   \n",
              "\n",
              "                                             Summary           Changed  \\\n",
              "0                       search widget is not working  10-06-2017 14:42   \n",
              "1                                                Bug  14-05-2020 11:25   \n",
              "2  AntCompareCVSDebugDocIDEIncubatorPMCRelengReso...  22-04-2018 12:23   \n",
              "3                              Problem with KEY_NAME  03-08-2017 03:21   \n",
              "4                              Problem with KEY_NAME  13-07-2017 09:43   \n",
              "\n",
              "                                         Description  Duplicate_Bug_Ids  \n",
              "0                       search widget is not working                NaN  \n",
              "1        created attachment   eclipse   hello world                 NaN  \n",
              "2  created attachment   error in website  antcomp...                NaN  \n",
              "3  in  product pluginsection recommendedbundles m...                NaN  \n",
              "4  in  renametyperefactoring another type the tem...                NaN  "
            ],
            "text/html": [
              "\n",
              "  <div id=\"df-10f9a070-d6da-4066-a4e5-b7a50eaff5b2\">\n",
              "    <div class=\"colab-df-container\">\n",
              "      <div>\n",
              "<style scoped>\n",
              "    .dataframe tbody tr th:only-of-type {\n",
              "        vertical-align: middle;\n",
              "    }\n",
              "\n",
              "    .dataframe tbody tr th {\n",
              "        vertical-align: top;\n",
              "    }\n",
              "\n",
              "    .dataframe thead th {\n",
              "        text-align: right;\n",
              "    }\n",
              "</style>\n",
              "<table border=\"1\" class=\"dataframe\">\n",
              "  <thead>\n",
              "    <tr style=\"text-align: right;\">\n",
              "      <th></th>\n",
              "      <th>Bug ID</th>\n",
              "      <th>Product</th>\n",
              "      <th>Component</th>\n",
              "      <th>Status</th>\n",
              "      <th>Resolution</th>\n",
              "      <th>Summary</th>\n",
              "      <th>Changed</th>\n",
              "      <th>Description</th>\n",
              "      <th>Duplicate_Bug_Ids</th>\n",
              "    </tr>\n",
              "  </thead>\n",
              "  <tbody>\n",
              "    <tr>\n",
              "      <th>0</th>\n",
              "      <td>518088.0</td>\n",
              "      <td>Web Tools</td>\n",
              "      <td>Web Standard Tools</td>\n",
              "      <td>RESOLVED</td>\n",
              "      <td>INVALID</td>\n",
              "      <td>search widget is not working</td>\n",
              "      <td>10-06-2017 14:42</td>\n",
              "      <td>search widget is not working</td>\n",
              "      <td>NaN</td>\n",
              "    </tr>\n",
              "    <tr>\n",
              "      <th>1</th>\n",
              "      <td>546444.0</td>\n",
              "      <td>z_Archived</td>\n",
              "      <td>PDT</td>\n",
              "      <td>CLOSED</td>\n",
              "      <td>NOT_ECLIPSE</td>\n",
              "      <td>Bug</td>\n",
              "      <td>14-05-2020 11:25</td>\n",
              "      <td>created attachment   eclipse   hello world</td>\n",
              "      <td>NaN</td>\n",
              "    </tr>\n",
              "    <tr>\n",
              "      <th>2</th>\n",
              "      <td>533893.0</td>\n",
              "      <td>Platform</td>\n",
              "      <td>Website</td>\n",
              "      <td>RESOLVED</td>\n",
              "      <td>INVALID</td>\n",
              "      <td>AntCompareCVSDebugDocIDEIncubatorPMCRelengReso...</td>\n",
              "      <td>22-04-2018 12:23</td>\n",
              "      <td>created attachment   error in website  antcomp...</td>\n",
              "      <td>NaN</td>\n",
              "    </tr>\n",
              "    <tr>\n",
              "      <th>3</th>\n",
              "      <td>519449.0</td>\n",
              "      <td>PDE</td>\n",
              "      <td>UI</td>\n",
              "      <td>VERIFIED</td>\n",
              "      <td>FIXED</td>\n",
              "      <td>Problem with KEY_NAME</td>\n",
              "      <td>03-08-2017 03:21</td>\n",
              "      <td>in  product pluginsection recommendedbundles m...</td>\n",
              "      <td>NaN</td>\n",
              "    </tr>\n",
              "    <tr>\n",
              "      <th>4</th>\n",
              "      <td>519450.0</td>\n",
              "      <td>JDT</td>\n",
              "      <td>UI</td>\n",
              "      <td>RESOLVED</td>\n",
              "      <td>FIXED</td>\n",
              "      <td>Problem with KEY_NAME</td>\n",
              "      <td>13-07-2017 09:43</td>\n",
              "      <td>in  renametyperefactoring another type the tem...</td>\n",
              "      <td>NaN</td>\n",
              "    </tr>\n",
              "  </tbody>\n",
              "</table>\n",
              "</div>\n",
              "      <button class=\"colab-df-convert\" onclick=\"convertToInteractive('df-10f9a070-d6da-4066-a4e5-b7a50eaff5b2')\"\n",
              "              title=\"Convert this dataframe to an interactive table.\"\n",
              "              style=\"display:none;\">\n",
              "        \n",
              "  <svg xmlns=\"http://www.w3.org/2000/svg\" height=\"24px\"viewBox=\"0 0 24 24\"\n",
              "       width=\"24px\">\n",
              "    <path d=\"M0 0h24v24H0V0z\" fill=\"none\"/>\n",
              "    <path d=\"M18.56 5.44l.94 2.06.94-2.06 2.06-.94-2.06-.94-.94-2.06-.94 2.06-2.06.94zm-11 1L8.5 8.5l.94-2.06 2.06-.94-2.06-.94L8.5 2.5l-.94 2.06-2.06.94zm10 10l.94 2.06.94-2.06 2.06-.94-2.06-.94-.94-2.06-.94 2.06-2.06.94z\"/><path d=\"M17.41 7.96l-1.37-1.37c-.4-.4-.92-.59-1.43-.59-.52 0-1.04.2-1.43.59L10.3 9.45l-7.72 7.72c-.78.78-.78 2.05 0 2.83L4 21.41c.39.39.9.59 1.41.59.51 0 1.02-.2 1.41-.59l7.78-7.78 2.81-2.81c.8-.78.8-2.07 0-2.86zM5.41 20L4 18.59l7.72-7.72 1.47 1.35L5.41 20z\"/>\n",
              "  </svg>\n",
              "      </button>\n",
              "      \n",
              "  <style>\n",
              "    .colab-df-container {\n",
              "      display:flex;\n",
              "      flex-wrap:wrap;\n",
              "      gap: 12px;\n",
              "    }\n",
              "\n",
              "    .colab-df-convert {\n",
              "      background-color: #E8F0FE;\n",
              "      border: none;\n",
              "      border-radius: 50%;\n",
              "      cursor: pointer;\n",
              "      display: none;\n",
              "      fill: #1967D2;\n",
              "      height: 32px;\n",
              "      padding: 0 0 0 0;\n",
              "      width: 32px;\n",
              "    }\n",
              "\n",
              "    .colab-df-convert:hover {\n",
              "      background-color: #E2EBFA;\n",
              "      box-shadow: 0px 1px 2px rgba(60, 64, 67, 0.3), 0px 1px 3px 1px rgba(60, 64, 67, 0.15);\n",
              "      fill: #174EA6;\n",
              "    }\n",
              "\n",
              "    [theme=dark] .colab-df-convert {\n",
              "      background-color: #3B4455;\n",
              "      fill: #D2E3FC;\n",
              "    }\n",
              "\n",
              "    [theme=dark] .colab-df-convert:hover {\n",
              "      background-color: #434B5C;\n",
              "      box-shadow: 0px 1px 3px 1px rgba(0, 0, 0, 0.15);\n",
              "      filter: drop-shadow(0px 1px 2px rgba(0, 0, 0, 0.3));\n",
              "      fill: #FFFFFF;\n",
              "    }\n",
              "  </style>\n",
              "\n",
              "      <script>\n",
              "        const buttonEl =\n",
              "          document.querySelector('#df-10f9a070-d6da-4066-a4e5-b7a50eaff5b2 button.colab-df-convert');\n",
              "        buttonEl.style.display =\n",
              "          google.colab.kernel.accessAllowed ? 'block' : 'none';\n",
              "\n",
              "        async function convertToInteractive(key) {\n",
              "          const element = document.querySelector('#df-10f9a070-d6da-4066-a4e5-b7a50eaff5b2');\n",
              "          const dataTable =\n",
              "            await google.colab.kernel.invokeFunction('convertToInteractive',\n",
              "                                                     [key], {});\n",
              "          if (!dataTable) return;\n",
              "\n",
              "          const docLinkHtml = 'Like what you see? Visit the ' +\n",
              "            '<a target=\"_blank\" href=https://colab.research.google.com/notebooks/data_table.ipynb>data table notebook</a>'\n",
              "            + ' to learn more about interactive tables.';\n",
              "          element.innerHTML = '';\n",
              "          dataTable['output_type'] = 'display_data';\n",
              "          await google.colab.output.renderOutput(dataTable, element);\n",
              "          const docLink = document.createElement('div');\n",
              "          docLink.innerHTML = docLinkHtml;\n",
              "          element.appendChild(docLink);\n",
              "        }\n",
              "      </script>\n",
              "    </div>\n",
              "  </div>\n",
              "  "
            ]
          },
          "metadata": {},
          "execution_count": 4
        }
      ]
    },
    {
      "cell_type": "code",
      "source": [
        "#To show Info\n",
        "eclipse_data.info()"
      ],
      "metadata": {
        "colab": {
          "base_uri": "https://localhost:8080/"
        },
        "id": "ouXQWHvH9EjI",
        "outputId": "a27e2bff-280f-495c-cec1-0599f12854f6"
      },
      "execution_count": 5,
      "outputs": [
        {
          "output_type": "stream",
          "name": "stdout",
          "text": [
            "<class 'pandas.core.frame.DataFrame'>\n",
            "Int64Index: 46273 entries, 0 to 46315\n",
            "Data columns (total 9 columns):\n",
            " #   Column             Non-Null Count  Dtype  \n",
            "---  ------             --------------  -----  \n",
            " 0   Bug ID             46273 non-null  float64\n",
            " 1   Product            46263 non-null  object \n",
            " 2   Component          46263 non-null  object \n",
            " 3   Status             46263 non-null  object \n",
            " 4   Resolution         46263 non-null  object \n",
            " 5   Summary            46263 non-null  object \n",
            " 6   Changed            46263 non-null  object \n",
            " 7   Description        46263 non-null  object \n",
            " 8   Duplicate_Bug_Ids  3238 non-null   float64\n",
            "dtypes: float64(2), object(7)\n",
            "memory usage: 3.5+ MB\n"
          ]
        }
      ]
    },
    {
      "cell_type": "markdown",
      "source": [
        "# **Cleaning and Preprocessing**"
      ],
      "metadata": {
        "id": "grF-2qVVK5pF"
      }
    },
    {
      "cell_type": "code",
      "source": [
        "#Text Cleaning to Remove Punctuations\n",
        "def clean_text_round_1(text):\n",
        "    text = re.sub(r'\\w*\\d\\w*', '', text)\n",
        "    text = re.sub(r'\\w*\\f\\w*', '', text)\n",
        "    text = re.sub(r'\\(.*?\\)', '', text)\n",
        "    text = re.sub(r'\\[.*]\\)', '', text)\n",
        "    text = text.lower()\n",
        "    text = re.sub(r'[%s]' % re.escape(string.punctuation), '', text)\n",
        "    return text\n",
        "\n",
        "round1 = lambda x: clean_text_round_1(x)\n",
        "\n",
        "#Text Cleaning to Remove Additional Punctuations\n",
        "def clean_text_round_2(text):\n",
        "    text = re.sub(r'[‘’“”…]', '', text)\n",
        "    text = re.sub(r'\\n', '', text)\n",
        "    text = re.sub(r'\\t', '', text)\n",
        "    return text\n",
        "\n",
        "round2 = lambda x: clean_text_round_2(x)"
      ],
      "metadata": {
        "id": "jJQmEzp_LEfg"
      },
      "execution_count": 6,
      "outputs": []
    },
    {
      "cell_type": "code",
      "source": [
        "#To Clean Data in 'Description' Column\n",
        "eclipse_data[\"Description\"]= eclipse_data[\"Description\"].str.replace(\"fixed in HEAD\", \"\", case = False)\n",
        "eclipse_data[\"Description\"]= eclipse_data[\"Description\"].str.replace(\"has been marked as readonly\", \" \", case = False)\n",
        "\n",
        "eclipse_data = eclipse_data.dropna(axis=0, subset=['Description'])\n",
        "\n",
        "eclipse_data['Description'] = eclipse_data['Description'].apply(clean_text_round_1)\n",
        "eclipse_data['Description'] = eclipse_data['Description'].apply(clean_text_round_2)\n",
        "\n",
        "#To show Info\n",
        "eclipse_data.info()"
      ],
      "metadata": {
        "colab": {
          "base_uri": "https://localhost:8080/"
        },
        "id": "LWHbWUCOLHLt",
        "outputId": "23be6f34-489c-4d75-ef02-637e120d93d3"
      },
      "execution_count": 7,
      "outputs": [
        {
          "output_type": "stream",
          "name": "stdout",
          "text": [
            "<class 'pandas.core.frame.DataFrame'>\n",
            "Int64Index: 46263 entries, 0 to 46315\n",
            "Data columns (total 9 columns):\n",
            " #   Column             Non-Null Count  Dtype  \n",
            "---  ------             --------------  -----  \n",
            " 0   Bug ID             46263 non-null  float64\n",
            " 1   Product            46263 non-null  object \n",
            " 2   Component          46263 non-null  object \n",
            " 3   Status             46263 non-null  object \n",
            " 4   Resolution         46263 non-null  object \n",
            " 5   Summary            46263 non-null  object \n",
            " 6   Changed            46263 non-null  object \n",
            " 7   Description        46263 non-null  object \n",
            " 8   Duplicate_Bug_Ids  3238 non-null   float64\n",
            "dtypes: float64(2), object(7)\n",
            "memory usage: 3.5+ MB\n"
          ]
        }
      ]
    },
    {
      "cell_type": "code",
      "source": [
        "#Helper Functions for Preprocessing\n",
        "def lemmatize(text):\n",
        "    return WordNetLemmatizer().lemmatize(text, pos='v')\n",
        "\n",
        "def preprocess(text):\n",
        "    result = []\n",
        "    for token in gensim.utils.simple_preprocess(text):\n",
        "        if token not in gensim.parsing.preprocessing.STOPWORDS and len(token) > 5:\n",
        "            result.append(lemmatize(token))\n",
        "    return result"
      ],
      "metadata": {
        "id": "mcLs5MXnLIbv"
      },
      "execution_count": 8,
      "outputs": []
    },
    {
      "cell_type": "code",
      "source": [
        "#To Preprocess Data in 'Description' Column\n",
        "eclipse_data['Description'] = eclipse_data['Description'].map(preprocess)\n",
        "\n",
        "print('Null Duplicate Bug Ids: ',eclipse_data['Duplicate_Bug_Ids'].isnull().sum())\n",
        "\n",
        "#To save Duplicate Reports in a CSV File\n",
        "duplicate_reports = eclipse_data.dropna(axis=0, subset=['Duplicate_Bug_Ids'])\n",
        "duplicate_reports.reset_index(drop=True)\n",
        "duplicate_reports.to_csv('eclipse_duplicate_reports.csv')\n",
        "\n",
        "#Seperating all the master reports into a dataframe\n",
        "master_reports = eclipse_data[eclipse_data.isnull().any(axis=1)]\n",
        "master_reports.reset_index(drop=True)\n",
        "\n",
        "print('NA Values in Master Report: ', master_reports.Description.isna().sum())\n",
        "\n",
        "#To save Master Reports in a CSV File\n",
        "master_reports.to_csv('eclipse_master_reports.csv')"
      ],
      "metadata": {
        "colab": {
          "base_uri": "https://localhost:8080/"
        },
        "id": "AwPul_AbLJlH",
        "outputId": "f982e674-1a0b-4784-bf2d-6595cd25a83f"
      },
      "execution_count": 9,
      "outputs": [
        {
          "output_type": "stream",
          "name": "stdout",
          "text": [
            "Null Duplicate Bug Ids:  43025\n",
            "NA Values in Master Report:  0\n"
          ]
        }
      ]
    },
    {
      "cell_type": "code",
      "source": [
        "#Import Master Reports\n",
        "master_reports = pd.read_csv('eclipse_master_reports.csv')\n",
        "master_reports = master_reports.drop(columns=['Unnamed: 0'])\n",
        "\n",
        "#To Preprocess Data in 'Description' Column\n",
        "master_reports['Description'] = master_reports['Description'].map(preprocess)"
      ],
      "metadata": {
        "id": "uqeosVKfcC1Y"
      },
      "execution_count": 10,
      "outputs": []
    },
    {
      "cell_type": "code",
      "source": [
        "#To Create a Dictionary\n",
        "dictionary = gensim.corpora.Dictionary(master_reports['Description'])\n",
        "dictionary.filter_extremes(no_below=15, no_above=0.5, keep_n=100000)\n",
        "\n",
        "#To Create BoW a Dictionary\n",
        "bow_corpus = [dictionary.doc2bow(doc) for doc in master_reports['Description']]"
      ],
      "metadata": {
        "id": "ugoAnV19Lfsq"
      },
      "execution_count": 11,
      "outputs": []
    },
    {
      "cell_type": "code",
      "source": [
        "#To Open Pickle File\n",
        "file_bow = open('eclipse_bow_corpus.pickle', 'wb')\n",
        "\n",
        "#To dump BoW data in Pickle File\n",
        "pickle.dump(bow_corpus, file_bow)\n",
        "\n",
        "#To Open Pickle File\n",
        "file_dict = open('eclipse_dictionary.pickle', 'wb')\n",
        "\n",
        "#To dump Dictionary data in Pickle File\n",
        "pickle.dump(dictionary, file_dict)"
      ],
      "metadata": {
        "id": "CWyz-rCKMc61"
      },
      "execution_count": 12,
      "outputs": []
    },
    {
      "cell_type": "code",
      "source": [
        "#Parameters for LDA Model\n",
        "corpus = bow_corpus\n",
        "no_of_topics = 10\n",
        "dictionary = dictionary\n",
        "p = 20\n",
        "k = 2\n",
        "epochs = 100\n",
        "\n",
        "#Training the LDA model on the BoW corpus\n",
        "lda_model = gensim.models.LdaMulticore(corpus, num_topics=no_of_topics, id2word=dictionary, passes=p, workers=k, iterations=epochs)"
      ],
      "metadata": {
        "id": "QQvR0qf-Meig"
      },
      "execution_count": 15,
      "outputs": []
    },
    {
      "cell_type": "code",
      "source": [
        "#Saving the Model\n",
        "lda_model.save('eclipse_lda_model.model')"
      ],
      "metadata": {
        "id": "d1mVcjWfMfsw"
      },
      "execution_count": 16,
      "outputs": []
    },
    {
      "cell_type": "code",
      "source": [
        "#Evaluation of Model\n",
        "\n",
        "#Perplexity\n",
        "print('Perplexity: ', lda_model.log_perplexity(bow_corpus))  \n",
        "\n",
        "#Coherence Score\n",
        "coherence_model_lda = CoherenceModel(model=lda_model, texts=eclipse_data['Description'], dictionary=dictionary, coherence='c_v')\n",
        "print('\\nCoherence Score: ', coherence_model_lda.get_coherence())"
      ],
      "metadata": {
        "colab": {
          "base_uri": "https://localhost:8080/"
        },
        "id": "AGhi5UmVNKdJ",
        "outputId": "7f8392ac-d9c2-40e6-9f7e-535db1aac45c"
      },
      "execution_count": 17,
      "outputs": [
        {
          "output_type": "stream",
          "name": "stdout",
          "text": [
            "Perplexity:  -5.685573833701201\n",
            "\n",
            "Coherence Score:  0.5700483061364353\n"
          ]
        }
      ]
    },
    {
      "cell_type": "code",
      "source": [
        "pyLDAvis.enable_notebook()\n",
        "vis = pyLDAvis.gensim_models.prepare(lda_model, bow_corpus, dictionary)"
      ],
      "metadata": {
        "id": "KPD4vluDNMC4"
      },
      "execution_count": 18,
      "outputs": []
    },
    {
      "cell_type": "code",
      "source": [
        "#Visualization\n",
        "vis"
      ],
      "metadata": {
        "colab": {
          "base_uri": "https://localhost:8080/",
          "height": 881
        },
        "id": "T_mrYYeu_mF2",
        "outputId": "b3b483ed-8f86-4743-a739-2670136dcfa7"
      },
      "execution_count": 19,
      "outputs": [
        {
          "output_type": "execute_result",
          "data": {
            "text/plain": [
              "PreparedData(topic_coordinates=              x         y  topics  cluster       Freq\n",
              "topic                                                \n",
              "0     -0.303541 -0.109925       1        1  21.988644\n",
              "7     -0.286510 -0.076367       2        1  14.442248\n",
              "2      0.189487  0.009744       3        1   9.880446\n",
              "3      0.238102  0.010409       4        1   9.483390\n",
              "8     -0.188367  0.077971       5        1   9.023105\n",
              "1      0.189671  0.021314       6        1   8.047284\n",
              "4     -0.002229  0.205186       7        1   7.418118\n",
              "6      0.069847  0.204197       8        1   6.982420\n",
              "5      0.179677 -0.346995       9        1   6.538116\n",
              "9     -0.086137  0.004465      10        1   6.196230, topic_info=           Term           Freq          Total Category  logprob  loglift\n",
              "4       eclipse  163493.000000  163493.000000  Default  30.0000  30.0000\n",
              "19     internal   60608.000000   60608.000000  Default  29.0000  29.0000\n",
              "24      project   15057.000000   15057.000000  Default  28.0000  28.0000\n",
              "89      feature    8287.000000    8287.000000  Default  27.0000  27.0000\n",
              "1247    widgets   12681.000000   12681.000000  Default  26.0000  26.0000\n",
              "...         ...            ...            ...      ...      ...      ...\n",
              "203      client     534.124144    1377.770810  Topic10  -5.0103   1.8336\n",
              "97     platform     643.283311    5563.667582  Topic10  -4.8244   0.6238\n",
              "66    workspace     573.810575    4167.902983  Topic10  -4.9386   0.7984\n",
              "4       eclipse     754.979217  163493.381826  Topic10  -4.6643  -2.5966\n",
              "1174     engine     522.519806    1485.042499  Topic10  -5.0323   1.7367\n",
              "\n",
              "[659 rows x 6 columns], token_table=      Topic      Freq       Term\n",
              "term                            \n",
              "1030      9  0.991931   abstract\n",
              "458       1  0.069391     accept\n",
              "458       2  0.713844     accept\n",
              "458       3  0.006644     accept\n",
              "458       4  0.048722     accept\n",
              "...     ...       ...        ...\n",
              "66        6  0.063581  workspace\n",
              "66        7  0.228892  workspace\n",
              "66       10  0.137719  workspace\n",
              "2649      9  0.999586    wrapper\n",
              "1469     10  0.996398     xerces\n",
              "\n",
              "[1419 rows x 3 columns], R=30, lambda_step=0.01, plot_opts={'xlab': 'PC1', 'ylab': 'PC2'}, topic_order=[1, 8, 3, 4, 9, 2, 5, 7, 6, 10])"
            ],
            "text/html": [
              "\n",
              "<link rel=\"stylesheet\" type=\"text/css\" href=\"https://cdn.jsdelivr.net/gh/bmabey/pyLDAvis@3.4.0/pyLDAvis/js/ldavis.v1.0.0.css\">\n",
              "\n",
              "\n",
              "<div id=\"ldavis_el1291407095815834083485052054\" style=\"background-color:white;\"></div>\n",
              "<script type=\"text/javascript\">\n",
              "\n",
              "var ldavis_el1291407095815834083485052054_data = {\"mdsDat\": {\"x\": [-0.3035411331559773, -0.28650992305366474, 0.18948710420336198, 0.2381017401936074, -0.18836651984045746, 0.18967086195731817, -0.002229141126801568, 0.06984676334257148, 0.17967730886911573, -0.08613706138907364], \"y\": [-0.10992483372247129, -0.07636650946483103, 0.009743778152615115, 0.010408992414563466, 0.0779713822637597, 0.021314147664086153, 0.20518589164932566, 0.20419699848272208, -0.34699512752115064, 0.004465280081380092], \"topics\": [1, 2, 3, 4, 5, 6, 7, 8, 9, 10], \"cluster\": [1, 1, 1, 1, 1, 1, 1, 1, 1, 1], \"Freq\": [21.988644239491585, 14.442247511523155, 9.880445811146451, 9.48339016783963, 9.023105470863111, 8.047283667579325, 7.418117570282552, 6.9824199217395995, 6.538115720600783, 6.19622991893382]}, \"tinfo\": {\"Term\": [\"eclipse\", \"internal\", \"project\", \"feature\", \"widgets\", \"workbench\", \"create\", \"apache\", \"equinox\", \"bundle\", \"repository\", \"execute\", \"method\", \"attachment\", \"reflect\", \"platform\", \"release\", \"invoke\", \"version\", \"launcher\", \"framework\", \"change\", \"string\", \"public\", \"return\", \"select\", \"remove\", \"compiler\", \"server\", \"adaptor\", \"widgets\", \"workbench\", \"adaptor\", \"sendevent\", \"viewers\", \"databinding\", \"eclipsestarter\", \"observable\", \"runwithdefault\", \"renderers\", \"windowproc\", \"readanddispatch\", \"handleevent\", \"runapplication\", \"basicrun\", \"invokeframework\", \"eventtable\", \"platformui\", \"createandrunui\", \"ideapplication\", \"safecreategui\", \"syncexec\", \"workbenchpage\", \"synchronizer\", \"texteditor\", \"methodrequestor\", \"editparts\", \"creategui\", \"typedlistener\", \"processcontents\", \"widget\", \"reflect\", \"contexts\", \"runtime\", \"invoke\", \"lambda\", \"eclipse\", \"display\", \"internal\", \"launcher\", \"equinox\", \"command\", \"action\", \"execute\", \"method\", \"application\", \"papyrus\", \"saferunner\", \"access\", \"parser\", \"loader\", \"semantics\", \"stringbuilder\", \"bundleloader\", \"loadclass\", \"gradle\", \"buildmanager\", \"equinoxbundle\", \"findlocalclass\", \"findclass\", \"daemon\", \"datatools\", \"activator\", \"reconciler\", \"cpptemplates\", \"typesystem\", \"objectteams\", \"parsers\", \"reconcile\", \"typedeclaration\", \"basicbuild\", \"embedder\", \"putall\", \"serviceregistry\", \"equinoxmodule\", \"assertj\", \"thousand\", \"dostart\", \"manipulation\", \"lookup\", \"friendly\", \"modulecontainer\", \"jupiter\", \"tracecompass\", \"compiler\", \"inject\", \"worker\", \"google\", \"buildship\", \"internal\", \"thread\", \"registry\", \"container\", \"eclipse\", \"resources\", \"collect\", \"accept\", \"framework\", \"events\", \"builder\", \"director\", \"exception\", \"message\", \"report\", \"product\", \"object\", \"refactoring\", \"resolve\", \"runtime\", \"workspace\", \"module\", \"attachment\", \"screenshot\", \"runners\", \"screen\", \"critical\", \"parentrunner\", \"scroll\", \"resize\", \"autorefactor\", \"subapp\", \"indentation\", \"columns\", \"border\", \"distribute\", \"underscore\", \"screenshots\", \"gadget\", \"rectangle\", \"keyboard\", \"breakpoint\", \"navigation\", \"runchild\", \"shortcut\", \"scrollbar\", \"column\", \"square\", \"duration\", \"charstring\", \"observation\", \"detach\", \"height\", \"breakpoints\", \"attach\", \"select\", \"perspective\", \"reproduce\", \"sequence\", \"cursor\", \"explorer\", \"dialog\", \"assist\", \"create\", \"diagram\", \"button\", \"observe\", \"snippet\", \"initially\", \"content\", \"delete\", \"element\", \"expect\", \"editor\", \"character\", \"problem\", \"launch\", \"window\", \"result\", \"appear\", \"selection\", \"elements\", \"preference\", \"windows\", \"display\", \"application\", \"example\", \"message\", \"import\", \"formatter\", \"background\", \"unnecessary\", \"useful\", \"negation\", \"tooltip\", \"notification\", \"customize\", \"toggle\", \"enhancement\", \"listeners\", \"epsilon\", \"handly\", \"renderer\", \"faster\", \"indent\", \"configurable\", \"suggestions\", \"experiment\", \"improvement\", \"factor\", \"keywords\", \"foreground\", \"toolitem\", \"computation\", \"selector\", \"modern\", \"usages\", \"breadcrumb\", \"margin\", \"deprecate\", \"children\", \"implementations\", \"microprofile\", \"toolbar\", \"removal\", \"format\", \"browser\", \"better\", \"history\", \"active\", \"propose\", \"implementation\", \"suggest\", \"insert\", \"functionality\", \"change\", \"easier\", \"currently\", \"filter\", \"support\", \"improve\", \"provide\", \"default\", \"disable\", \"introduce\", \"option\", \"search\", \"current\", \"comment\", \"implement\", \"instead\", \"specific\", \"enable\", \"possible\", \"editor\", \"remove\", \"property\", \"context\", \"action\", \"result\", \"update\", \"replace\", \"handle\", \"feature\", \"requirement\", \"concatenation\", \"baseline\", \"satisfy\", \"friday\", \"lucene\", \"qualifier\", \"classifier\", \"disjoint\", \"versioning\", \"httpcomponents\", \"universal\", \"buildlogs\", \"notarization\", \"deadlines\", \"sphinx\", \"scopedhandler\", \"notifier\", \"logback\", \"statistics\", \"comparatorlogs\", \"mavenproject\", \"assemble\", \"sonarcloud\", \"mainly\", \"replaceall\", \"dohandle\", \"webservice\", \"converters\", \"releng\", \"artifact\", \"aggregator\", \"chromium\", \"bundle\", \"gitcache\", \"recommenders\", \"production\", \"publisher\", \"platform\", \"servlet\", \"repository\", \"dependency\", \"instal\", \"version\", \"contain\", \"metadata\", \"products\", \"target\", \"snapshot\", \"equinox\", \"product\", \"eclipse\", \"wikitext\", \"software\", \"dependencies\", \"package\", \"plugins\", \"plugin\", \"resolve\", \"update\", \"configuration\", \"download\", \"source\", \"different\", \"require\", \"workspace\", \"follow\", \"primitive\", \"redundant\", \"attribute\", \"opposite\", \"generation\", \"passage\", \"android\", \"keyset\", \"clauses\", \"compliance\", \"instantiation\", \"symbol\", \"stereotype\", \"clause\", \"genmodel\", \"unreachable\", \"parenthesis\", \"derive\", \"capabilities\", \"treemap\", \"unneeded\", \"statet\", \"definitions\", \"copyright\", \"keyple\", \"constraints\", \"diagnostic\", \"exchange\", \"physical\", \"furthermore\", \"generate\", \"metamodel\", \"validation\", \"validate\", \"reference\", \"profile\", \"template\", \"generator\", \"define\", \"category\", \"hashmap\", \"license\", \"marker\", \"module\", \"component\", \"resource\", \"source\", \"include\", \"document\", \"papyrus\", \"export\", \"package\", \"designer\", \"compile\", \"manifest\", \"memory\", \"provide\", \"target\", \"example\", \"errors\", \"remove\", \"plugin\", \"contain\", \"require\", \"support\", \"problem\", \"migrate\", \"docker\", \"migration\", \"configurations\", \"glassfish\", \"nightly\", \"upcoming\", \"snapshots\", \"jersey\", \"toolchain\", \"mentor\", \"readme\", \"arduino\", \"mockito\", \"outdated\", \"arrange\", \"infrastructure\", \"etrice\", \"silent\", \"noteworthy\", \"toolchains\", \"composer\", \"positive\", \"rework\", \"primary\", \"topics\", \"installations\", \"onboarding\", \"completions\", \"anytime\", \"archive\", \"success\", \"project\", \"marketplace\", \"communication\", \"modular\", \"directory\", \"concern\", \"question\", \"terminal\", \"confirm\", \"download\", \"installation\", \"bugzilla\", \"minimum\", \"latest\", \"installer\", \"install\", \"upgrade\", \"photon\", \"oxygen\", \"update\", \"settings\", \"foundation\", \"release\", \"version\", \"process\", \"instance\", \"eclipse\", \"create\", \"workspace\", \"happen\", \"instal\", \"follow\", \"versions\", \"expect\", \"github\", \"approval\", \"committer\", \"jakarta\", \"password\", \"agreement\", \"materials\", \"webmaster\", \"permissions\", \"organization\", \"credentials\", \"passive\", \"promote\", \"username\", \"containsall\", \"servers\", \"company\", \"vscode\", \"travis\", \"locationtech\", \"codewind\", \"weblogic\", \"secure\", \"subscribe\", \"contributor\", \"verification\", \"deadline\", \"mosquitto\", \"expire\", \"initiate\", \"gerrit\", \"packet\", \"commit\", \"branch\", \"review\", \"response\", \"upload\", \"remote\", \"website\", \"author\", \"request\", \"address\", \"release\", \"server\", \"master\", \"permission\", \"repositories\", \"require\", \"jenkins\", \"status\", \"access\", \"receive\", \"account\", \"repository\", \"change\", \"message\", \"eclipse\", \"service\", \"create\", \"project\", \"connection\", \"follow\", \"process\", \"string\", \"static\", \"boolean\", \"wrapper\", \"capella\", \"collection\", \"constant\", \"parameter\", \"useless\", \"statement\", \"println\", \"valueof\", \"parameters\", \"public\", \"assignment\", \"bracket\", \"hashset\", \"ternary\", \"inited\", \"tostring\", \"literal\", \"conditional\", \"serialize\", \"expression\", \"instanceof\", \"literals\", \"abstract\", \"struct\", \"stringbuffer\", \"modifiers\", \"variable\", \"condition\", \"integer\", \"polarsys\", \"private\", \"sirius\", \"return\", \"collections\", \"constructor\", \"comparison\", \"override\", \"method\", \"expressions\", \"duplicate\", \"statements\", \"remove\", \"assign\", \"object\", \"import\", \"extend\", \"switch\", \"record\", \"number\", \"follow\", \"hudson\", \"viatra\", \"lifecycle\", \"plexus\", \"codehaus\", \"artifactid\", \"frameworks\", \"transport\", \"groupid\", \"surefire\", \"pipeline\", \"timeout\", \"classworlds\", \"aspectj\", \"xerces\", \"springframework\", \"defaultmaven\", \"mavencli\", \"tomcat\", \"webtools\", \"testresult\", \"execchain\", \"catalina\", \"mojoexecutor\", \"gitroot\", \"executor\", \"remoting\", \"jenkinsci\", \"socket\", \"buildproject\", \"apache\", \"testsuite\", \"console\", \"runner\", \"connector\", \"stream\", \"security\", \"execute\", \"plugins\", \"concurrent\", \"aether\", \"library\", \"framework\", \"versions\", \"connect\", \"launcher\", \"persistence\", \"plugin\", \"failure\", \"invoke\", \"reflect\", \"jenkins\", \"script\", \"storage\", \"server\", \"client\", \"platform\", \"workspace\", \"eclipse\", \"engine\"], \"Freq\": [163493.0, 60608.0, 15057.0, 8287.0, 12681.0, 11784.0, 13903.0, 5485.0, 10707.0, 5947.0, 6647.0, 5948.0, 6285.0, 4880.0, 8174.0, 5563.0, 5285.0, 7648.0, 7821.0, 5854.0, 5450.0, 7210.0, 3203.0, 3139.0, 3299.0, 3923.0, 5643.0, 4876.0, 3840.0, 4288.0, 12680.35671289668, 11783.097403583619, 4287.214384358697, 4164.005188842396, 2697.757659012463, 2321.4885738965577, 2205.9832784816813, 2042.688840568108, 1938.5341812055653, 1522.6121202192874, 1257.9002256507076, 1231.817586360114, 1209.5266101015548, 1106.2842634058584, 1105.582194271768, 1097.3102329537314, 1090.485755674715, 1061.785892123197, 956.8302293862523, 938.9384848957142, 923.9528261771104, 685.9850075091002, 595.3484712710816, 578.9871964632763, 521.5636788188411, 518.0697449822328, 502.58498121986327, 498.1921685965312, 495.753621558912, 483.9927889255942, 3327.2690168492436, 6448.104164050612, 866.1108398580196, 7157.298151685563, 5818.619806327576, 3068.181484209814, 77634.38634596828, 4817.535530217345, 29297.03353781546, 4095.1832224442055, 6118.136303400517, 2453.0135397389795, 1830.188018891281, 2152.868098840004, 1866.7076580323746, 1531.5512755244952, 1351.9966808761574, 1159.859768516169, 1225.0336754284629, 2728.66038810344, 1981.281005870533, 963.2010041002133, 922.6982978133985, 872.3044749494679, 797.1452197726816, 764.5685680125202, 590.4166497997095, 574.7466599676244, 540.7441755265658, 516.8637817775567, 460.1930613062083, 414.66777638238574, 401.8215472486048, 334.3266643141364, 323.1969631718807, 309.3968683174977, 290.2883893513709, 280.21776146550906, 270.25321041959756, 252.34202407107824, 248.68353578710483, 246.48567408297572, 242.15814758595783, 229.1591165137031, 228.97551947541174, 228.02306637406735, 227.5439928522758, 226.12874394950921, 203.04302459706295, 1100.3607704749968, 340.38317158475115, 347.1002196202603, 426.02371393191095, 533.9767295824631, 4297.49447239071, 931.2672896957351, 1263.4144128908845, 1255.555555575689, 296.18431441129263, 31309.609654086278, 2911.609620935837, 911.424379111235, 1467.8407611954904, 51505.38400997592, 1792.4378908429862, 666.4538587114503, 966.5070547456958, 2685.044268972683, 1055.1067084486501, 802.9390450591784, 520.1556193000465, 1329.4775301435734, 1629.428061356691, 1193.402829219525, 1261.5388891687555, 1143.7169676623391, 710.5498772029492, 858.4509830871443, 1188.8619320167845, 929.1715712302388, 781.5495554461547, 4879.544343097205, 1922.7124084469203, 841.4079298979082, 668.3239810819615, 464.34366450881964, 440.9254416853605, 439.67444537003917, 420.8593656321932, 388.34089545044884, 360.2929752340415, 313.1997289173082, 303.398037487663, 284.07473863821355, 255.4739357384031, 219.17193767045612, 195.7398429720006, 193.25896294853345, 185.04364605960424, 177.62296607427217, 565.4572332926723, 147.06558947454454, 139.7406744911971, 136.4263519974227, 128.7729278200293, 737.6098485075762, 116.96452024842482, 114.64771640558202, 113.47174418590019, 109.2502412110527, 110.56698396928292, 319.63568419429646, 284.87371700751163, 2251.208399679361, 3533.6666627416967, 448.2349533862897, 2197.876169789768, 483.3895555944081, 343.502921621068, 1074.9657007371645, 1998.9718592308402, 519.2628487924243, 9360.134393908578, 2501.069385251761, 1419.9301202879149, 571.839842066459, 466.44594493431504, 411.6705047959033, 1712.4329819745678, 1169.3635573309189, 1104.5841313028398, 1375.374430937292, 2107.290833747, 676.5989931242782, 1646.2671415845791, 1264.3764747230118, 1052.9430509840802, 1325.266185371615, 814.607586349181, 710.4924590184175, 801.0244485579843, 670.5187406740994, 881.4018687674086, 1494.8805894269467, 1019.245664712076, 930.9053422137368, 1030.5214621635757, 717.5814777866606, 724.8678932219055, 566.9074438137159, 556.5885259000694, 484.01383572047627, 264.17883742198956, 233.9326998079439, 194.73902951557932, 176.64273518461968, 149.70766400920445, 146.92724783723293, 135.06728216250087, 134.63556959380475, 133.3219800712637, 128.3916775480026, 113.97380919552734, 101.79313439701528, 100.12808272327322, 92.77992152904201, 91.13585469373271, 87.96424716947429, 85.25945775797497, 83.15905452621317, 82.47846362887559, 79.07144917174622, 78.55864422331929, 76.43961792854849, 74.75245404321068, 69.12848880213977, 65.66797406668033, 65.08853280199243, 538.256524954765, 312.4649720615769, 206.5474357062872, 425.82939325086505, 382.39747058130973, 172.55689224262906, 762.5498417259689, 817.8131033542439, 768.1231750685295, 422.58652575332275, 502.3661008416218, 559.4571340485893, 1068.3217562948405, 893.2986424996034, 617.6742275282883, 315.13262237615595, 4270.165314620476, 266.0327526416264, 1864.774991257804, 1021.8683879251741, 2152.842523510594, 563.057193321699, 1791.0319999882329, 1703.6024131089466, 693.2207875299133, 516.3812044287065, 755.9265386639058, 1182.1370125849567, 1147.792259889922, 816.2273602419368, 704.6298039394464, 951.5712198635775, 630.6321119583162, 920.7991269926277, 1019.1249039272005, 1315.5496106256512, 1347.4615205760306, 708.6804699846423, 772.4896768459209, 922.7657224463788, 907.8781747365979, 1043.39898913319, 699.7255308927588, 681.5303559460219, 8286.177436001148, 2297.266840523886, 561.0542393754456, 462.2745433825061, 321.56649698436274, 295.0912234784297, 264.94163098256985, 260.1399378906748, 190.07735101250694, 181.92871598684013, 157.55223477812063, 139.2220253067811, 125.44730063405719, 122.4545657121853, 121.50629785830888, 113.1594728280729, 97.57652998157485, 89.379041625559, 86.95038072518678, 185.8130581323643, 77.97921610737156, 69.93052130906278, 69.69990724866437, 69.07379574346132, 63.849890663275836, 62.524245089261456, 62.30853957714634, 59.6105947206464, 59.43463175937387, 59.397760937094034, 1273.2445522904177, 960.2276053637441, 629.9090844856264, 319.70200515088, 5388.480952022041, 149.9019770427434, 324.9926931953016, 243.36668052730218, 126.8939457782232, 4825.115751883557, 525.6990380369338, 5027.503123800563, 810.4079919402051, 1449.9071019434004, 4146.811455827639, 2476.3012886126708, 637.8486332316809, 274.7679936507936, 1752.382374598335, 821.6099329568619, 4347.983115741829, 1827.7832401053806, 23351.455241169926, 276.5391237556827, 469.0142934395769, 587.0460034056339, 1342.5001630755796, 1025.7988223476623, 1271.586743445977, 876.6712479850544, 1233.1395254870072, 774.4449346002851, 767.9181405279821, 786.0275459809403, 636.9517849336777, 692.7943187542444, 657.2485378313025, 590.958723388965, 1750.2224000822466, 665.1325276608704, 995.8017653046498, 571.6570999753097, 450.0381233922134, 441.18467253502956, 423.52708071388054, 373.6547253340679, 364.41047661982304, 285.9884438555476, 285.34736680569597, 279.57384675431604, 268.8732608598038, 263.9440395252685, 210.24539627711786, 205.89517868382936, 200.92876906784159, 195.52116184637035, 192.52424167858555, 186.6334532072819, 182.50911415972217, 179.16492979551512, 164.8201587277096, 161.8329140522337, 159.49634926190467, 159.3198532664081, 156.4304533692246, 158.37124329706214, 140.99850329766716, 134.22036682897067, 2220.638006380102, 200.70052916917132, 964.821686596815, 626.0614607963968, 1810.6918293312197, 808.0562843949705, 703.3011459786281, 330.43860006366094, 1100.1411118512585, 305.6967314470814, 616.870445454104, 890.0326256067364, 344.5744095604004, 1496.7454268098331, 705.9232407228379, 1537.943697279995, 1838.9445575011666, 1146.353006886735, 699.725016208058, 1267.117682304117, 614.7174243895892, 1572.5971208425747, 394.29227191033, 661.5486478088515, 472.6416234420174, 486.9188719251993, 907.5494565735697, 921.8281097590142, 817.9261584341782, 651.3000369768375, 961.9484407756515, 876.9563975580895, 865.3315660127862, 769.368362182127, 751.675023110295, 632.4170119645894, 795.4791459365201, 777.1918142972887, 924.2247969049374, 590.4960641839763, 444.75996836626774, 399.1274137396465, 363.3736804689801, 322.67429655032794, 258.74431917018626, 180.95861675785616, 160.4157647966956, 153.9049086484082, 145.097364003968, 142.9398525132979, 138.25926105645624, 133.7940769363806, 551.9077770953593, 122.61748693425903, 110.16086587513593, 102.45770662028714, 99.49835340216838, 99.40656221544366, 92.12693394820475, 90.83974757675708, 196.32608894263555, 81.57496606019828, 83.80956741290427, 78.06938104886608, 74.63765428719509, 74.16706678157013, 970.2893941061657, 319.7524054777337, 12808.616717999985, 399.4266197434127, 241.6208591462615, 154.07336551316106, 848.5551922288388, 435.4370289897021, 771.3629009178447, 348.61924347726267, 402.82897734391713, 1714.254562521559, 661.0277289037441, 687.7617697124216, 256.4309312194135, 1196.7580209633581, 617.9137556602651, 1098.3563506622197, 466.05507717692103, 514.559804045336, 706.9255548135134, 2537.1860044192085, 734.5682870686385, 579.9400442224223, 1745.515941570181, 2210.3749984491046, 1086.2717501406103, 1137.5632766378956, 7342.6998301402555, 1759.380418188213, 953.5844027686006, 691.8652811522247, 711.4589655824108, 824.2627545686382, 612.5819412869291, 610.634177625343, 2281.4616815549293, 774.9973668529825, 670.9940791342264, 385.3984398335471, 381.31596841666914, 371.1929640934456, 352.2722372291227, 337.67484658659174, 328.1262234981191, 291.2494057845468, 273.83316983306753, 232.8677445550833, 227.22610326685654, 222.62392957373285, 203.78896167545898, 195.1727598275063, 191.3374574767074, 181.10971836132794, 179.93737795506874, 170.73982866377773, 164.3224585462892, 159.72183990425293, 159.39403933787239, 154.90157029612314, 150.88818307451257, 147.55567707293505, 136.67910339844502, 135.07053964086776, 130.59014325924966, 127.79020022669464, 1855.5362147648177, 205.38089269066236, 2122.3638164065924, 1873.3276803408428, 1014.2196175346365, 389.45947676246374, 402.5700284234133, 1187.0482475573438, 626.0069555169955, 355.7424388016476, 1755.101433064354, 716.9683239646861, 3526.74356628958, 2642.147627763382, 1271.1676013625677, 338.6837175008403, 637.9376016582877, 2054.6550428117935, 1280.4094801169513, 607.3554626328295, 1458.47552220198, 487.3610802415731, 677.4793986799725, 1570.3845635637915, 1591.2982354960288, 921.1402274775162, 2896.0931861972376, 675.5713509957479, 975.5235581624518, 944.6748749749338, 458.8928020131756, 630.2603564682628, 550.6399335724824, 3202.9673698858014, 1628.0154071403126, 1389.204405930778, 1352.544679494384, 1070.244841295017, 1001.0284430312385, 873.0390342035938, 855.8982933531872, 781.7954585022006, 742.409203872622, 610.4527087236536, 447.336532275889, 465.880678367154, 3131.7991675131752, 354.57026916866613, 329.6675297012633, 294.3291356073284, 278.1604597902025, 268.06199077550616, 261.26603602015064, 239.5410584323595, 208.1459020975668, 207.18839806759834, 972.3352382772829, 204.1916255237514, 188.43362903112504, 183.47240004717412, 179.7099351764502, 179.37467791370173, 166.50534835384468, 1098.0173970990095, 1745.304682360993, 569.4805640630575, 564.3459607545335, 732.6100421841181, 1248.4971019777236, 2889.0189155088515, 591.8026214947763, 833.3940659638135, 639.1702736426099, 830.9489193211223, 3904.50108267657, 737.0964053668066, 859.5332707368032, 563.0737226056742, 2670.8311748932542, 622.3728576378679, 1423.58222637783, 1071.86733060463, 674.6536284276275, 772.9193857155664, 645.3366224209632, 648.5141088221338, 686.3409980591612, 1181.494297225175, 879.5816187806477, 770.9747332022354, 534.0521247742674, 510.73514195022005, 499.7990777872971, 458.1255430404749, 691.7767905339888, 440.94139692954724, 421.08415810836937, 416.06278522852017, 381.89421411760634, 379.06444010258207, 325.20989428653934, 319.18715593373685, 306.93326810433354, 284.25263291705215, 283.20651201307555, 264.5989007703563, 252.08285800373412, 237.6724110823779, 234.120508187793, 232.09137153758263, 229.24557880787125, 214.55643608791382, 196.3034556917653, 170.83632872087838, 166.96116107763163, 164.05744736093763, 143.83349372681275, 5357.488852159834, 316.86214858827014, 1632.519838688117, 564.3765773222069, 371.8882796999247, 1034.9914217592675, 1067.9336567639511, 3484.3007111328334, 1934.512927723716, 1079.4980871784408, 304.2431683302944, 989.0443773849952, 2286.972091596393, 974.2518869155664, 697.4609540511002, 1747.3942002346441, 569.5330370113613, 1358.5209733880379, 499.8025463332014, 1581.5942747592003, 1620.5810290931176, 772.1858897581102, 589.5835074059822, 482.46962571031395, 652.7881713904455, 534.1241437220224, 643.283311319262, 573.8105746276036, 754.9792167469009, 522.5198063815369], \"Total\": [163493.0, 60608.0, 15057.0, 8287.0, 12681.0, 11784.0, 13903.0, 5485.0, 10707.0, 5947.0, 6647.0, 5948.0, 6285.0, 4880.0, 8174.0, 5563.0, 5285.0, 7648.0, 7821.0, 5854.0, 5450.0, 7210.0, 3203.0, 3139.0, 3299.0, 3923.0, 5643.0, 4876.0, 3840.0, 4288.0, 12681.323909691911, 11784.064626643727, 4288.181582788029, 4164.972364234274, 2698.7248669884043, 2322.4558078869886, 2206.950471962369, 2043.656042049577, 1939.5013608673062, 1523.579322223962, 1258.8673986420397, 1232.7847679587446, 1210.4938070081168, 1107.2514544676117, 1106.5493872334378, 1098.2774259145665, 1091.452936767753, 1062.7530976878952, 957.7974078913203, 939.9056878066041, 924.9199977879824, 686.952222224747, 596.3156522461185, 579.9544187565083, 522.530910733101, 519.0369228930284, 503.5521909210277, 499.15934071665566, 496.72080678911635, 484.95996532142306, 3575.306846917523, 8174.14691907205, 913.2447174197066, 9407.987034805281, 7648.396083363201, 3822.504039072339, 163493.38182616042, 6849.471956416029, 60608.9320660105, 5854.689778819128, 10707.911548785438, 4636.727702172373, 3450.896144796368, 5948.0966977243515, 6285.146303257624, 3347.782394326157, 2619.985310333484, 1568.0489866590717, 3925.928230902846, 2729.6210502017307, 1982.2416743572123, 964.1616615418487, 923.6634123444222, 873.265091000361, 798.1058851158491, 765.5292705202676, 591.3772606004369, 575.7072724152154, 541.7047848762245, 517.8244215049308, 461.15371025867705, 415.62858573315197, 402.78226653484137, 335.28730184236105, 324.15755901362144, 310.3574792469462, 291.24905634677276, 281.1784953968774, 271.2139030906252, 253.3026499910617, 249.6441414535256, 247.44632719322212, 243.12577095527303, 230.119778408003, 229.9361259642801, 228.988994085367, 228.51062309776094, 227.08937335511328, 204.00387578669913, 1116.7245813343418, 342.9536627277325, 351.0253126262569, 434.76021580237443, 551.1445679804999, 4876.926331318405, 999.4663520963672, 1396.1810580302104, 1391.443869479232, 302.8662416292494, 60608.9320660105, 4080.056312947314, 1087.9106649183877, 1923.6984064138694, 163493.38182616042, 2891.256657636597, 830.0445938800432, 1354.6372001556992, 5450.226582522287, 1763.0802751018034, 1232.624422321569, 606.1147636298155, 3294.8524532141773, 4800.839807032921, 3148.8704184283774, 3879.994128051873, 3171.161145558998, 1229.6978605435181, 2495.0295269272224, 9407.987034805281, 4167.9029832924825, 2306.3814043178036, 4880.529548135431, 1923.6972993350805, 842.3928826911821, 669.309111515514, 465.32855067752246, 441.91032431573836, 440.6597589074271, 421.84424427964376, 389.3351583171971, 361.2778678990771, 314.1872103118294, 304.38300342937396, 285.05995266653747, 256.4588318102729, 220.16148577554327, 196.72482603282305, 194.243773199131, 186.0285077644375, 178.6078626518683, 569.0042317598944, 148.0505309729348, 140.7255636831994, 137.4112357126466, 129.7577667892396, 743.7144307135395, 117.9494193800472, 115.63288086221169, 114.4566622158479, 110.23522182940228, 111.56834356614719, 322.8014604511344, 289.7344796004141, 2407.674109275203, 3923.207906771232, 472.78441008917554, 2494.213984525468, 515.2989140194986, 360.97793267571967, 1205.7734048494965, 2456.5652309146353, 575.0693847910512, 13903.221671504762, 3298.9965960626473, 1778.8933784602784, 677.2422433802963, 534.6670805470573, 464.3800409556106, 3094.216291912766, 1870.1577282216829, 1799.253832798617, 2452.3020137198264, 4773.728270714028, 960.8259868947835, 4255.135710765739, 2854.7525558356706, 2142.1212916999893, 3325.797231087396, 1378.235177571652, 1155.7255683791936, 1503.122275374859, 1054.3271606997632, 1975.1568627595827, 6849.471956416029, 3347.782394326157, 2926.9898857728467, 4800.839807032921, 2924.709623920356, 725.8709170798408, 567.9098818595173, 557.5925307936523, 485.016313759371, 265.186754436989, 234.93514814726208, 195.74155481984724, 177.64742098352264, 150.71014019467444, 147.92978613834126, 136.06977566402398, 135.63811214633827, 134.32442777061036, 129.39405319368456, 114.9762597780645, 102.79556242181937, 101.13048721598275, 93.78245595490554, 92.13836365835154, 88.96671185701899, 86.26189788959066, 84.16149161723769, 83.48085910831115, 80.073977341391, 79.56119427760576, 77.44220753582518, 75.75487498199813, 70.13090714514016, 66.67046690154758, 66.09100717197258, 550.5724773611271, 321.38057385450685, 212.97194989477669, 445.6403085877577, 403.3439197125902, 179.1198287862526, 857.4418618494793, 927.7128815072949, 889.0907738651014, 470.8990279722478, 571.9480057186954, 654.3175243582781, 1323.535632407163, 1111.2225473242947, 749.2615104772395, 356.78741336593185, 7210.427421695273, 298.26135261785896, 2884.3599922697726, 1456.8091735718904, 3545.1084070447214, 754.0056940743664, 3099.738502152187, 3161.895939720076, 1017.043791021658, 701.6413633782449, 1177.5771342984701, 2285.3843574523826, 2196.962643480021, 1386.0272585289163, 1128.5152327883895, 1995.2920911066526, 1012.6684702035265, 2047.8481391165114, 2480.46243723955, 4773.728270714028, 5643.590032466819, 1353.6995403673927, 1711.5257931919787, 3450.896144796368, 3325.797231087396, 5881.64069201579, 1471.9041575920837, 1407.4319459959008, 8287.15853002437, 2298.247805333079, 562.0414564604819, 463.2555326595295, 322.5475055470283, 296.0722039890864, 265.92260014457713, 261.12095956136415, 191.0583316951738, 182.91794635172153, 158.533364643308, 140.2029835989405, 126.42845550871256, 123.4355168477954, 122.48732404845553, 114.14041468429168, 98.55763947212027, 90.35998011158568, 87.93152549088882, 187.9602548859745, 78.96054388556932, 70.91145552328528, 70.68083615784292, 70.05491859834314, 64.83120414424596, 63.505598347762955, 63.2898839850808, 60.59164097398928, 60.41558372777749, 60.378973241919795, 1294.6146101018116, 978.3728415251479, 640.9214772163576, 333.06050732453224, 5947.255370402537, 154.0036241569622, 340.85149260567886, 253.35087127136967, 130.38937985951137, 5563.667582007691, 588.5292240126544, 6647.201244700947, 1093.3507050350809, 2202.406755669496, 7821.024877640498, 4405.8148705321455, 897.1736053698991, 325.52506746247474, 3296.291298646365, 1285.6543987290847, 10707.911548785438, 3879.994128051873, 163493.38182616042, 330.00805226589046, 723.8411210037897, 1117.1677138902267, 4519.262554351475, 3059.7152525673287, 4530.236198893985, 2495.0295269272224, 5881.64069201579, 2499.4358247262226, 2483.0373901025987, 3417.485016533464, 1882.741738013339, 3722.984034316926, 4167.9029832924825, 5485.049127344973, 1751.2183402630253, 666.1282733475257, 997.4952558262829, 572.6529912851929, 451.03354813534656, 442.18007871952767, 424.522767992006, 374.650670300542, 365.40641102706076, 286.9839006675083, 286.34307283098155, 280.5692114640616, 269.86860497415705, 264.93969606346656, 211.24077499212623, 206.89093880748084, 201.92453614180548, 196.51660730340188, 193.5197412426277, 187.62943013927546, 183.50505053458363, 180.16036716537553, 165.815566296466, 162.8283187311398, 160.49175285672422, 160.3198192705147, 157.42590711606178, 159.48382562910297, 142.01855998190203, 135.2158629797287, 2287.876395585657, 204.07980636879998, 1067.944252591507, 687.453079200304, 2274.53355485132, 938.8812844340868, 822.7473165805062, 359.1353934134472, 1390.5484099374594, 329.42190801827627, 733.3482816169663, 1159.0709288334542, 386.2645186857587, 2306.3814043178036, 975.8527124483356, 2616.3749591151336, 3417.485016533464, 2022.888883580505, 1077.384315723552, 2619.985310333484, 989.7911052518858, 4519.262554351475, 490.333498553159, 1195.3316453969842, 686.2212876864625, 753.9354931654344, 3099.738502152187, 3296.291298646365, 2926.9898857728467, 1691.582612768988, 5643.590032466819, 4530.236198893985, 4405.8148705321455, 3722.984034316926, 3545.1084070447214, 4255.135710765739, 796.4545338691975, 778.1671801518686, 925.6357925166797, 591.4714321471055, 445.73533653592426, 400.1028461804724, 364.34900224982687, 323.6497600849908, 259.7197111563528, 181.9366085311961, 161.3910655389965, 154.88028416781245, 146.07271073204146, 143.9153988740272, 139.2346481886866, 134.76965888546636, 555.9371677536075, 123.59289417488763, 111.1363562901974, 103.4330559453137, 100.47377780895371, 100.38193858138352, 93.10254851926004, 91.81530043770837, 198.55313967999678, 82.55036920051626, 84.81754123210142, 79.04467965913867, 75.61328220104508, 75.1424094290169, 992.9986428850268, 328.9655269852396, 15057.676625946284, 421.8662108550581, 255.05475179263343, 160.05058260921095, 998.6768913506198, 491.63005731773063, 932.5002014303201, 400.14625057371484, 473.76912590594395, 2483.0373901025987, 863.1676390190725, 906.6524118171718, 287.6849409062662, 1814.7256307748407, 834.8474423720689, 1694.2302785959637, 606.1210906214674, 691.2422531488755, 1048.311627689814, 5881.64069201579, 1157.470285129006, 839.2706748441404, 5285.661134822597, 7821.024877640498, 2619.7042314862365, 2853.6286156952647, 163493.38182616042, 13903.221671504762, 4167.9029832924825, 1960.9299369492219, 2202.406755669496, 5485.049127344973, 1795.2295844182804, 2452.3020137198264, 2282.440716185674, 775.976381038938, 671.9730624573318, 386.37751339821926, 382.2949680430143, 372.1719561191363, 353.2512043152008, 338.65385121887203, 329.1052835660914, 292.2284191289629, 274.81217660255936, 233.87070179622734, 228.20520606094567, 223.6029533621295, 204.79288275047122, 196.15184457456118, 192.31648458722626, 182.08883215119238, 180.91663912537078, 171.7188188617761, 165.30145604284127, 160.70091867149557, 160.37307299134358, 155.8806270304988, 151.86722097422506, 148.53742780407143, 137.6581974907086, 136.04951534741326, 131.56917221401503, 128.76930711470035, 1882.3328785460467, 208.2907379186453, 2366.213948261376, 2113.7678346411767, 1117.6965707365296, 412.538105080062, 427.46389401104716, 1367.8184112682252, 696.7721240328082, 381.7047126528957, 2200.0997521390723, 828.7027620992292, 5285.661134822597, 3840.698443109888, 1711.8123113999106, 379.87370804838946, 849.4423851668118, 3722.984034316926, 2239.61993939481, 919.4027284559331, 3925.928230902846, 698.208034192244, 1233.4714210989728, 6647.201244700947, 7210.427421695273, 4800.839807032921, 163493.38182616042, 2874.606198534042, 13903.221671504762, 15057.676625946284, 958.9134940600045, 5485.049127344973, 2619.7042314862365, 3203.9835971590587, 1629.0316204182639, 1390.2205837707634, 1353.5608709516641, 1071.2611677869224, 1002.044655720611, 874.0552902848141, 856.9145347953533, 782.8117441504398, 743.4254125439869, 611.4688941617873, 448.3527002329622, 467.0288929590888, 3139.536327590687, 355.5865010356685, 330.6837103772945, 295.34531890529684, 279.176608646166, 269.07814214379596, 262.28226269904656, 240.55723731212717, 209.16212821074157, 208.20461487516815, 977.1166305275049, 205.20782111596478, 189.44979446029964, 184.48866615206157, 180.72613509632285, 180.39085413351967, 167.5215122132872, 1106.0694299695049, 1769.942681784232, 578.8136772246368, 580.4752397426847, 760.6479288028684, 1364.4231056549177, 3299.858679934554, 630.9082460198081, 908.4552505428932, 710.1880669445349, 1007.305816898606, 6285.146303257624, 906.8044614054868, 1114.1606347348963, 659.4803164410325, 5643.590032466819, 762.1962750984794, 3171.161145558998, 2924.709623920356, 996.7440514052477, 1846.2677914480382, 1072.6759428590233, 1544.2925726749122, 5485.049127344973, 1182.4574571693524, 880.5447940065401, 771.9378979005494, 535.0152497610175, 511.69827046998194, 500.76226451500315, 459.08867361940247, 693.2584042640464, 441.9045868096584, 422.0473329814776, 417.02600116928335, 382.857443972536, 380.0275434363117, 326.1730272709445, 320.15333776059674, 307.8964071653332, 285.2157369385353, 284.16961581564465, 265.56208069277534, 253.0460451315041, 238.63555125187358, 235.08364420084905, 233.0544939796002, 230.20868146907637, 215.5196234684163, 197.26664982851727, 171.7994292575039, 167.92427150458062, 165.02072692940175, 144.79659617804748, 5485.485961473206, 326.50557037649395, 1850.90616369582, 621.1146461813826, 403.94505841445505, 1338.1618419700387, 1427.2185653236959, 5948.0966977243515, 3059.7152525673287, 1594.5601462607185, 325.6285865125128, 1627.003699496794, 5450.226582522287, 1795.2295844182804, 1143.684821659289, 5854.689778819128, 917.6130778695494, 4530.236198893985, 762.9180205659545, 7648.396083363201, 8174.14691907205, 2239.61993939481, 1229.8441115195242, 756.8604045360964, 3840.698443109888, 1377.7708104247763, 5563.667582007691, 4167.9029832924825, 163493.38182616042, 1485.0424988623424], \"Category\": [\"Default\", \"Default\", \"Default\", \"Default\", \"Default\", \"Default\", \"Default\", \"Default\", \"Default\", \"Default\", \"Default\", \"Default\", \"Default\", \"Default\", \"Default\", \"Default\", \"Default\", \"Default\", \"Default\", \"Default\", \"Default\", \"Default\", \"Default\", \"Default\", \"Default\", \"Default\", \"Default\", \"Default\", \"Default\", \"Default\", \"Topic1\", \"Topic1\", \"Topic1\", \"Topic1\", \"Topic1\", \"Topic1\", \"Topic1\", \"Topic1\", \"Topic1\", \"Topic1\", \"Topic1\", \"Topic1\", \"Topic1\", \"Topic1\", \"Topic1\", \"Topic1\", \"Topic1\", \"Topic1\", \"Topic1\", \"Topic1\", \"Topic1\", \"Topic1\", \"Topic1\", \"Topic1\", \"Topic1\", \"Topic1\", \"Topic1\", \"Topic1\", \"Topic1\", \"Topic1\", \"Topic1\", \"Topic1\", \"Topic1\", \"Topic1\", \"Topic1\", \"Topic1\", \"Topic1\", \"Topic1\", \"Topic1\", \"Topic1\", \"Topic1\", \"Topic1\", \"Topic1\", \"Topic1\", \"Topic1\", \"Topic1\", \"Topic1\", \"Topic1\", \"Topic1\", \"Topic2\", \"Topic2\", \"Topic2\", \"Topic2\", \"Topic2\", \"Topic2\", \"Topic2\", \"Topic2\", \"Topic2\", \"Topic2\", \"Topic2\", \"Topic2\", \"Topic2\", \"Topic2\", \"Topic2\", \"Topic2\", \"Topic2\", \"Topic2\", \"Topic2\", \"Topic2\", \"Topic2\", \"Topic2\", \"Topic2\", \"Topic2\", \"Topic2\", \"Topic2\", \"Topic2\", \"Topic2\", \"Topic2\", \"Topic2\", \"Topic2\", \"Topic2\", \"Topic2\", \"Topic2\", \"Topic2\", \"Topic2\", \"Topic2\", \"Topic2\", \"Topic2\", \"Topic2\", \"Topic2\", \"Topic2\", \"Topic2\", \"Topic2\", \"Topic2\", \"Topic2\", \"Topic2\", \"Topic2\", \"Topic2\", \"Topic2\", \"Topic2\", \"Topic2\", \"Topic2\", \"Topic2\", \"Topic2\", \"Topic2\", \"Topic2\", \"Topic2\", \"Topic2\", \"Topic2\", \"Topic2\", \"Topic2\", \"Topic3\", \"Topic3\", \"Topic3\", \"Topic3\", \"Topic3\", \"Topic3\", \"Topic3\", \"Topic3\", \"Topic3\", \"Topic3\", \"Topic3\", \"Topic3\", \"Topic3\", \"Topic3\", \"Topic3\", \"Topic3\", \"Topic3\", \"Topic3\", \"Topic3\", \"Topic3\", \"Topic3\", \"Topic3\", \"Topic3\", \"Topic3\", \"Topic3\", \"Topic3\", \"Topic3\", \"Topic3\", \"Topic3\", \"Topic3\", \"Topic3\", \"Topic3\", \"Topic3\", \"Topic3\", \"Topic3\", \"Topic3\", \"Topic3\", \"Topic3\", \"Topic3\", \"Topic3\", \"Topic3\", \"Topic3\", \"Topic3\", \"Topic3\", \"Topic3\", \"Topic3\", \"Topic3\", \"Topic3\", \"Topic3\", \"Topic3\", \"Topic3\", \"Topic3\", \"Topic3\", \"Topic3\", \"Topic3\", \"Topic3\", \"Topic3\", \"Topic3\", \"Topic3\", \"Topic3\", \"Topic3\", \"Topic3\", \"Topic3\", \"Topic3\", \"Topic3\", \"Topic3\", \"Topic3\", \"Topic4\", \"Topic4\", \"Topic4\", \"Topic4\", \"Topic4\", \"Topic4\", \"Topic4\", \"Topic4\", \"Topic4\", \"Topic4\", \"Topic4\", \"Topic4\", \"Topic4\", \"Topic4\", \"Topic4\", \"Topic4\", \"Topic4\", \"Topic4\", \"Topic4\", \"Topic4\", \"Topic4\", \"Topic4\", \"Topic4\", \"Topic4\", \"Topic4\", \"Topic4\", \"Topic4\", \"Topic4\", \"Topic4\", \"Topic4\", \"Topic4\", \"Topic4\", \"Topic4\", \"Topic4\", \"Topic4\", \"Topic4\", \"Topic4\", \"Topic4\", \"Topic4\", \"Topic4\", \"Topic4\", \"Topic4\", \"Topic4\", \"Topic4\", \"Topic4\", \"Topic4\", \"Topic4\", \"Topic4\", \"Topic4\", \"Topic4\", \"Topic4\", \"Topic4\", \"Topic4\", \"Topic4\", \"Topic4\", \"Topic4\", \"Topic4\", \"Topic4\", \"Topic4\", \"Topic4\", \"Topic4\", \"Topic4\", \"Topic4\", \"Topic4\", \"Topic4\", \"Topic4\", \"Topic4\", \"Topic4\", \"Topic4\", \"Topic4\", \"Topic4\", \"Topic4\", \"Topic4\", \"Topic4\", \"Topic5\", \"Topic5\", \"Topic5\", \"Topic5\", \"Topic5\", \"Topic5\", \"Topic5\", \"Topic5\", \"Topic5\", \"Topic5\", \"Topic5\", \"Topic5\", \"Topic5\", \"Topic5\", \"Topic5\", \"Topic5\", \"Topic5\", \"Topic5\", \"Topic5\", \"Topic5\", \"Topic5\", \"Topic5\", \"Topic5\", \"Topic5\", \"Topic5\", \"Topic5\", \"Topic5\", \"Topic5\", \"Topic5\", \"Topic5\", \"Topic5\", \"Topic5\", \"Topic5\", \"Topic5\", \"Topic5\", \"Topic5\", \"Topic5\", \"Topic5\", \"Topic5\", \"Topic5\", \"Topic5\", \"Topic5\", \"Topic5\", \"Topic5\", \"Topic5\", \"Topic5\", \"Topic5\", \"Topic5\", \"Topic5\", \"Topic5\", \"Topic5\", \"Topic5\", \"Topic5\", \"Topic5\", \"Topic5\", \"Topic5\", \"Topic5\", \"Topic5\", \"Topic5\", \"Topic5\", \"Topic5\", \"Topic5\", \"Topic5\", \"Topic5\", \"Topic5\", \"Topic5\", \"Topic5\", \"Topic5\", \"Topic6\", \"Topic6\", \"Topic6\", \"Topic6\", \"Topic6\", \"Topic6\", \"Topic6\", \"Topic6\", \"Topic6\", \"Topic6\", \"Topic6\", \"Topic6\", \"Topic6\", \"Topic6\", \"Topic6\", \"Topic6\", \"Topic6\", \"Topic6\", \"Topic6\", \"Topic6\", \"Topic6\", \"Topic6\", \"Topic6\", \"Topic6\", \"Topic6\", \"Topic6\", \"Topic6\", \"Topic6\", \"Topic6\", \"Topic6\", \"Topic6\", \"Topic6\", \"Topic6\", \"Topic6\", \"Topic6\", \"Topic6\", \"Topic6\", \"Topic6\", \"Topic6\", \"Topic6\", \"Topic6\", \"Topic6\", \"Topic6\", \"Topic6\", \"Topic6\", \"Topic6\", \"Topic6\", \"Topic6\", \"Topic6\", \"Topic6\", \"Topic6\", \"Topic6\", \"Topic6\", \"Topic6\", \"Topic6\", \"Topic6\", \"Topic6\", \"Topic6\", \"Topic6\", \"Topic6\", \"Topic6\", \"Topic6\", \"Topic6\", \"Topic6\", \"Topic6\", \"Topic6\", \"Topic7\", \"Topic7\", \"Topic7\", \"Topic7\", \"Topic7\", \"Topic7\", \"Topic7\", \"Topic7\", \"Topic7\", \"Topic7\", \"Topic7\", \"Topic7\", \"Topic7\", \"Topic7\", \"Topic7\", \"Topic7\", \"Topic7\", \"Topic7\", \"Topic7\", \"Topic7\", \"Topic7\", \"Topic7\", \"Topic7\", \"Topic7\", \"Topic7\", \"Topic7\", \"Topic7\", \"Topic7\", \"Topic7\", \"Topic7\", \"Topic7\", \"Topic7\", \"Topic7\", \"Topic7\", \"Topic7\", \"Topic7\", \"Topic7\", \"Topic7\", \"Topic7\", \"Topic7\", \"Topic7\", \"Topic7\", \"Topic7\", \"Topic7\", \"Topic7\", \"Topic7\", \"Topic7\", \"Topic7\", \"Topic7\", \"Topic7\", \"Topic7\", \"Topic7\", \"Topic7\", \"Topic7\", \"Topic7\", \"Topic7\", \"Topic7\", \"Topic7\", \"Topic7\", \"Topic7\", \"Topic7\", \"Topic7\", \"Topic7\", \"Topic7\", \"Topic7\", \"Topic7\", \"Topic8\", \"Topic8\", \"Topic8\", \"Topic8\", \"Topic8\", \"Topic8\", \"Topic8\", \"Topic8\", \"Topic8\", \"Topic8\", \"Topic8\", \"Topic8\", \"Topic8\", \"Topic8\", \"Topic8\", \"Topic8\", \"Topic8\", \"Topic8\", \"Topic8\", \"Topic8\", \"Topic8\", \"Topic8\", \"Topic8\", \"Topic8\", \"Topic8\", \"Topic8\", \"Topic8\", \"Topic8\", \"Topic8\", \"Topic8\", \"Topic8\", \"Topic8\", \"Topic8\", \"Topic8\", \"Topic8\", \"Topic8\", \"Topic8\", \"Topic8\", \"Topic8\", \"Topic8\", \"Topic8\", \"Topic8\", \"Topic8\", \"Topic8\", \"Topic8\", \"Topic8\", \"Topic8\", \"Topic8\", \"Topic8\", \"Topic8\", \"Topic8\", \"Topic8\", \"Topic8\", \"Topic8\", \"Topic8\", \"Topic8\", \"Topic8\", \"Topic8\", \"Topic8\", \"Topic8\", \"Topic8\", \"Topic8\", \"Topic8\", \"Topic9\", \"Topic9\", \"Topic9\", \"Topic9\", \"Topic9\", \"Topic9\", \"Topic9\", \"Topic9\", \"Topic9\", \"Topic9\", \"Topic9\", \"Topic9\", \"Topic9\", \"Topic9\", \"Topic9\", \"Topic9\", \"Topic9\", \"Topic9\", \"Topic9\", \"Topic9\", \"Topic9\", \"Topic9\", \"Topic9\", \"Topic9\", \"Topic9\", \"Topic9\", \"Topic9\", \"Topic9\", \"Topic9\", \"Topic9\", \"Topic9\", \"Topic9\", \"Topic9\", \"Topic9\", \"Topic9\", \"Topic9\", \"Topic9\", \"Topic9\", \"Topic9\", \"Topic9\", \"Topic9\", \"Topic9\", \"Topic9\", \"Topic9\", \"Topic9\", \"Topic9\", \"Topic9\", \"Topic9\", \"Topic9\", \"Topic9\", \"Topic9\", \"Topic9\", \"Topic9\", \"Topic9\", \"Topic10\", \"Topic10\", \"Topic10\", \"Topic10\", \"Topic10\", \"Topic10\", \"Topic10\", \"Topic10\", \"Topic10\", \"Topic10\", \"Topic10\", \"Topic10\", \"Topic10\", \"Topic10\", \"Topic10\", \"Topic10\", \"Topic10\", \"Topic10\", \"Topic10\", \"Topic10\", \"Topic10\", \"Topic10\", \"Topic10\", \"Topic10\", \"Topic10\", \"Topic10\", \"Topic10\", \"Topic10\", \"Topic10\", \"Topic10\", \"Topic10\", \"Topic10\", \"Topic10\", \"Topic10\", \"Topic10\", \"Topic10\", \"Topic10\", \"Topic10\", \"Topic10\", \"Topic10\", \"Topic10\", \"Topic10\", \"Topic10\", \"Topic10\", \"Topic10\", \"Topic10\", \"Topic10\", \"Topic10\", \"Topic10\", \"Topic10\", \"Topic10\", \"Topic10\", \"Topic10\", \"Topic10\", \"Topic10\", \"Topic10\", \"Topic10\", \"Topic10\", \"Topic10\", \"Topic10\"], \"logprob\": [30.0, 29.0, 28.0, 27.0, 26.0, 25.0, 24.0, 23.0, 22.0, 21.0, 20.0, 19.0, 18.0, 17.0, 16.0, 15.0, 14.0, 13.0, 12.0, 11.0, 10.0, 9.0, 8.0, 7.0, 6.0, 5.0, 4.0, 3.0, 2.0, 1.0, -3.1097, -3.1831, -4.1941, -4.2233, -4.6574, -4.8076, -4.8586, -4.9355, -4.9878, -5.2293, -5.4203, -5.4413, -5.4595, -5.5488, -5.5494, -5.5569, -5.5631, -5.5898, -5.6939, -5.7128, -5.7289, -6.0267, -6.1684, -6.1962, -6.3007, -6.3074, -6.3378, -6.3465, -6.3514, -6.3755, -4.4476, -3.786, -5.7935, -3.6816, -3.8887, -4.5287, -1.2978, -4.0775, -2.2723, -4.24, -3.8385, -4.7525, -5.0454, -4.883, -5.0256, -5.2235, -5.3482, -5.5015, -5.4468, -4.2256, -4.5457, -5.2669, -5.3099, -5.366, -5.4561, -5.4978, -5.7563, -5.7832, -5.8442, -5.8894, -6.0055, -6.1097, -6.1412, -6.325, -6.3589, -6.4025, -6.4663, -6.5016, -6.5378, -6.6064, -6.621, -6.6299, -6.6476, -6.7027, -6.7035, -6.7077, -6.7098, -6.7161, -6.8237, -5.1338, -6.3071, -6.2875, -6.0827, -5.8568, -3.7714, -5.3006, -4.9956, -5.0018, -6.4462, -1.7855, -4.1607, -5.3222, -4.8456, -1.2877, -4.6458, -5.6352, -5.2635, -4.2417, -5.1758, -5.4489, -5.883, -4.9446, -4.7412, -5.0526, -4.9971, -5.0951, -5.5711, -5.382, -5.0564, -5.3029, -5.4759, -3.2648, -4.1961, -5.0225, -5.2528, -5.6169, -5.6687, -5.6715, -5.7153, -5.7957, -5.8706, -6.0107, -6.0425, -6.1083, -6.2144, -6.3677, -6.4808, -6.4935, -6.537, -6.5779, -5.4199, -6.7667, -6.8178, -6.8418, -6.8995, -5.1541, -6.9957, -7.0157, -7.026, -7.0639, -7.0519, -5.9904, -6.1055, -4.0383, -3.5875, -5.6522, -4.0623, -5.5767, -5.9184, -4.7775, -4.1572, -5.5051, -2.6133, -3.9331, -4.4992, -5.4087, -5.6124, -5.7373, -4.3119, -4.6933, -4.7503, -4.5311, -4.1044, -5.2405, -4.3513, -4.6152, -4.7982, -4.5682, -5.0549, -5.1916, -5.0717, -5.2495, -4.976, -4.4478, -4.8307, -4.9214, -4.8197, -5.1817, -5.1306, -5.3763, -5.3947, -5.5344, -6.1399, -6.2615, -6.4449, -6.5424, -6.7079, -6.7266, -6.8108, -6.814, -6.8238, -6.8615, -6.9806, -7.0936, -7.1101, -7.1863, -7.2042, -7.2396, -7.2708, -7.2958, -7.304, -7.3462, -7.3527, -7.38, -7.4024, -7.4806, -7.5319, -7.5408, -5.4282, -5.9721, -6.386, -5.6625, -5.7701, -6.5658, -5.0799, -5.0099, -5.0726, -5.6701, -5.4972, -5.3896, -4.7427, -4.9216, -5.2906, -5.9636, -3.3571, -6.1329, -4.1856, -4.7872, -4.042, -5.3832, -4.226, -4.276, -5.1752, -5.4697, -5.0886, -4.6415, -4.6709, -5.0119, -5.1589, -4.8584, -5.2698, -4.8913, -4.7898, -4.5345, -4.5106, -5.1531, -5.0669, -4.8892, -4.9054, -4.7663, -5.1659, -5.1922, -2.6444, -3.9273, -5.337, -5.5306, -5.8936, -5.9795, -6.0873, -6.1056, -6.4194, -6.4632, -6.607, -6.7307, -6.8349, -6.8591, -6.8668, -6.938, -7.0862, -7.1739, -7.2015, -6.442, -7.3103, -7.4193, -7.4226, -7.4316, -7.5103, -7.5312, -7.5347, -7.579, -7.5819, -7.5825, -4.5175, -4.7996, -5.2212, -5.8994, -3.0748, -6.6568, -5.883, -6.1722, -6.8234, -3.1852, -5.4021, -3.1441, -4.9693, -4.3875, -3.3367, -3.8523, -5.2087, -6.0509, -4.1981, -4.9555, -3.2893, -4.1559, -1.6084, -6.0444, -5.5162, -5.2917, -4.4645, -4.7336, -4.5188, -4.8907, -4.5495, -5.0146, -5.0231, -4.9998, -5.2101, -5.1261, -5.1787, -5.285, -4.0848, -5.0524, -4.6488, -5.2038, -5.443, -5.4629, -5.5037, -5.629, -5.6541, -5.8964, -5.8986, -5.9191, -5.9581, -5.9766, -6.2041, -6.225, -6.2494, -6.2767, -6.2921, -6.3232, -6.3455, -6.364, -6.4475, -6.4658, -6.4803, -6.4814, -6.4997, -6.4874, -6.6036, -6.6529, -3.8468, -6.2505, -4.6804, -5.1129, -4.0509, -4.8577, -4.9966, -5.7519, -4.5491, -5.8297, -5.1277, -4.7611, -5.71, -4.2413, -4.9928, -4.2141, -4.0354, -4.508, -5.0016, -4.4078, -5.1312, -4.1919, -5.5752, -5.0578, -5.394, -5.3642, -4.7416, -4.726, -4.8456, -5.0734, -4.6834, -4.7759, -4.7892, -4.9068, -4.93, -5.1028, -4.792, -4.8152, -4.642, -5.09, -5.3734, -5.4816, -5.5755, -5.6943, -5.9151, -6.2727, -6.3932, -6.4346, -6.4935, -6.5085, -6.5418, -6.5746, -5.1575, -6.6619, -6.769, -6.8415, -6.8708, -6.8717, -6.9478, -6.9618, -6.1912, -7.0694, -7.0424, -7.1133, -7.1583, -7.1646, -4.5933, -5.7034, -2.0131, -5.4809, -5.9836, -6.4335, -4.7274, -5.3946, -4.8228, -5.6169, -5.4724, -4.0242, -4.9771, -4.9375, -5.9241, -4.3836, -5.0446, -4.4694, -5.3266, -5.2276, -4.91, -3.6321, -4.8716, -5.108, -4.0061, -3.77, -4.4804, -4.4343, -2.5695, -3.9982, -4.6107, -4.9315, -4.9036, -4.7564, -5.0532, -5.0564, -3.6778, -4.7575, -4.9016, -5.4561, -5.4668, -5.4937, -5.546, -5.5883, -5.617, -5.7362, -5.7979, -5.9599, -5.9845, -6.0049, -6.0933, -6.1365, -6.1564, -6.2113, -6.2178, -6.2703, -6.3086, -6.337, -6.339, -6.3676, -6.3939, -6.4162, -6.4928, -6.5046, -6.5383, -6.56, -3.8845, -6.0855, -3.7501, -3.8749, -4.4885, -5.4456, -5.4125, -4.3312, -4.971, -5.5362, -3.9401, -4.8354, -3.2423, -3.5311, -4.2627, -5.5853, -4.9522, -3.7825, -4.2555, -5.0013, -4.1253, -5.2214, -4.892, -4.0513, -4.0381, -4.5848, -3.4393, -4.8948, -4.5274, -4.5596, -5.2816, -4.9643, -5.0993, -3.2728, -3.9495, -4.1082, -4.1349, -4.369, -4.4359, -4.5727, -4.5925, -4.6831, -4.7348, -4.9305, -5.2413, -5.2007, -3.2953, -5.4737, -5.5466, -5.66, -5.7165, -5.7534, -5.7791, -5.8659, -6.0064, -6.011, -4.465, -6.0256, -6.1059, -6.1326, -6.1533, -6.1552, -6.2296, -4.3434, -3.88, -4.9999, -5.009, -4.748, -4.215, -3.376, -4.9615, -4.6191, -4.8845, -4.6221, -3.0748, -4.7419, -4.5883, -5.0112, -3.4545, -4.9111, -4.0837, -4.3675, -4.8305, -4.6945, -4.8749, -4.87, -4.8133, -4.2164, -4.5115, -4.6433, -5.0104, -5.0551, -5.0767, -5.1638, -4.7517, -5.202, -5.2481, -5.2601, -5.3458, -5.3532, -5.5065, -5.5252, -5.5643, -5.6411, -5.6448, -5.7127, -5.7612, -5.82, -5.8351, -5.8438, -5.8561, -5.9224, -6.0113, -6.1502, -6.1732, -6.1907, -6.3223, -2.7047, -5.5325, -3.8931, -4.9552, -5.3723, -4.3488, -4.3175, -3.1349, -3.7233, -4.3067, -5.5731, -4.3942, -3.556, -4.4093, -4.7435, -3.8251, -4.9461, -4.0768, -5.0767, -3.9248, -3.9004, -4.6417, -4.9115, -5.112, -4.8097, -5.0103, -4.8244, -4.9386, -4.6643, -5.0323], \"loglift\": [30.0, 29.0, 28.0, 27.0, 26.0, 25.0, 24.0, 23.0, 22.0, 21.0, 20.0, 19.0, 18.0, 17.0, 16.0, 15.0, 14.0, 13.0, 12.0, 11.0, 10.0, 9.0, 8.0, 7.0, 6.0, 5.0, 4.0, 3.0, 2.0, 1.0, 1.5146, 1.5146, 1.5144, 1.5144, 1.5143, 1.5142, 1.5142, 1.5142, 1.5141, 1.514, 1.5139, 1.5139, 1.5138, 1.5138, 1.5138, 1.5138, 1.5138, 1.5137, 1.5136, 1.5136, 1.5136, 1.5132, 1.513, 1.513, 1.5128, 1.5128, 1.5127, 1.5127, 1.5127, 1.5126, 1.4427, 1.2775, 1.4617, 1.2412, 1.2412, 1.2948, 0.7699, 1.1627, 0.7877, 1.1572, 0.9549, 0.878, 0.8804, 0.4984, 0.3006, 0.7326, 0.8531, 1.2131, 0.35, 1.9347, 1.9345, 1.934, 1.934, 1.9339, 1.9338, 1.9338, 1.9334, 1.9333, 1.9332, 1.9332, 1.9329, 1.9327, 1.9326, 1.9321, 1.932, 1.9319, 1.9317, 1.9316, 1.9315, 1.9312, 1.9312, 1.9311, 1.931, 1.9308, 1.9308, 1.9308, 1.9308, 1.9308, 1.9303, 1.9203, 1.9275, 1.9238, 1.9147, 1.9034, 1.8085, 1.8643, 1.8351, 1.8322, 1.9127, 1.2745, 1.5976, 1.758, 1.6646, 0.7799, 1.4569, 1.7155, 1.5974, 1.2271, 1.4216, 1.5064, 1.7821, 1.0274, 0.8545, 0.9648, 0.8115, 0.9152, 1.3865, 0.8681, -0.1336, 0.4341, 0.8529, 2.3144, 2.3141, 2.3134, 2.3131, 2.3125, 2.3124, 2.3124, 2.3123, 2.3121, 2.3119, 2.3115, 2.3114, 2.3112, 2.3108, 2.3101, 2.3096, 2.3095, 2.3093, 2.3091, 2.3084, 2.3079, 2.3076, 2.3074, 2.307, 2.3064, 2.3062, 2.3061, 2.306, 2.3056, 2.3056, 2.3048, 2.2977, 2.2474, 2.21, 2.2613, 2.1881, 2.2507, 2.265, 2.1998, 2.1085, 2.2125, 1.919, 2.0377, 2.0892, 2.1454, 2.1781, 2.1941, 1.723, 1.845, 1.8267, 1.7363, 1.4969, 1.9639, 1.365, 1.5002, 1.6044, 1.3945, 1.7888, 1.8281, 1.6852, 1.862, 1.5077, 0.7925, 1.1254, 1.169, 0.7759, 0.9095, 2.3542, 2.3539, 2.3538, 2.3536, 2.3518, 2.3514, 2.3505, 2.35, 2.349, 2.3488, 2.3482, 2.3482, 2.3481, 2.3479, 2.3469, 2.3458, 2.3457, 2.3449, 2.3447, 2.3443, 2.3439, 2.3436, 2.3435, 2.343, 2.3429, 2.3426, 2.3423, 2.3412, 2.3405, 2.3403, 2.333, 2.3275, 2.325, 2.3102, 2.3023, 2.3183, 2.2383, 2.2295, 2.2094, 2.2474, 2.2259, 2.199, 2.1414, 2.1373, 2.1625, 2.2315, 1.8318, 2.2413, 1.9195, 2.001, 1.8568, 2.0636, 1.8071, 1.7372, 1.9723, 2.0491, 1.9124, 1.6964, 1.7064, 1.8261, 1.8846, 1.6152, 1.882, 1.5563, 1.4661, 1.0668, 0.9233, 1.7084, 1.5601, 1.0366, 1.0573, 0.6263, 1.612, 1.6304, 2.4053, 2.405, 2.4036, 2.4033, 2.4023, 2.4021, 2.4017, 2.4016, 2.4002, 2.4, 2.3992, 2.3984, 2.3976, 2.3974, 2.3973, 2.3968, 2.3954, 2.3945, 2.3942, 2.3939, 2.3929, 2.3915, 2.3914, 2.3913, 2.3901, 2.3898, 2.3898, 2.3891, 2.389, 2.389, 2.3887, 2.3867, 2.3881, 2.3644, 2.3067, 2.3784, 2.3577, 2.3652, 2.3782, 2.263, 2.2925, 2.1261, 2.1059, 1.9873, 1.7709, 1.8292, 2.0642, 2.2359, 1.7736, 1.9576, 1.5041, 1.6527, 0.4593, 2.2286, 1.9714, 1.7619, 1.1916, 1.3125, 1.1349, 1.3595, 0.8431, 1.2337, 1.2318, 0.9357, 1.3216, 0.7238, 0.5583, 0.1773, 2.5193, 2.5183, 2.5181, 2.5181, 2.5176, 2.5176, 2.5175, 2.5172, 2.5171, 2.5164, 2.5164, 2.5163, 2.5161, 2.5161, 2.5151, 2.515, 2.5149, 2.5148, 2.5147, 2.5145, 2.5144, 2.5143, 2.5138, 2.5137, 2.5136, 2.5136, 2.5135, 2.5128, 2.5126, 2.5124, 2.49, 2.5031, 2.4183, 2.4263, 2.2918, 2.3698, 2.363, 2.4366, 2.2856, 2.4451, 2.3469, 2.2557, 2.4056, 2.0874, 2.196, 1.9885, 1.9001, 1.9519, 2.0882, 1.7934, 2.0435, 1.4642, 2.3018, 1.9282, 2.147, 2.0826, 1.2915, 1.2456, 1.2449, 1.5654, 0.7505, 0.8778, 0.8923, 0.9431, 0.9688, 0.6135, 2.6, 2.6, 2.5997, 2.5996, 2.5991, 2.5988, 2.5986, 2.5982, 2.5975, 2.5959, 2.5952, 2.5949, 2.5945, 2.5944, 2.5942, 2.594, 2.594, 2.5933, 2.5924, 2.5918, 2.5915, 2.5915, 2.5907, 2.5906, 2.59, 2.5894, 2.5893, 2.5888, 2.5883, 2.5882, 2.5781, 2.5728, 2.4395, 2.5466, 2.5471, 2.5632, 2.4383, 2.4799, 2.4115, 2.4634, 2.439, 2.2307, 2.3344, 2.3249, 2.4862, 2.1849, 2.3003, 2.1678, 2.3385, 2.3061, 2.2072, 1.7605, 2.1465, 2.2316, 1.4933, 1.3376, 1.7209, 1.6815, -0.5018, 0.5341, 1.1263, 1.5595, 1.4713, 0.706, 1.526, 1.211, 2.6613, 2.6605, 2.6603, 2.6592, 2.6592, 2.6591, 2.659, 2.6589, 2.6588, 2.6584, 2.6582, 2.6575, 2.6575, 2.6574, 2.6569, 2.6568, 2.6567, 2.6564, 2.6563, 2.6561, 2.6558, 2.6557, 2.6557, 2.6555, 2.6553, 2.6551, 2.6546, 2.6546, 2.6543, 2.6541, 2.6474, 2.6477, 2.553, 2.541, 2.5646, 2.6042, 2.6018, 2.52, 2.5547, 2.5913, 2.4358, 2.5169, 2.2572, 2.2877, 2.3642, 2.547, 2.3754, 2.0674, 2.1026, 2.2472, 1.6716, 2.3023, 2.0626, 1.2189, 1.1508, 1.0108, -1.3716, 1.2137, 0.0049, -0.107, 1.9248, 0.4981, 1.102, 2.7272, 2.7269, 2.7268, 2.7268, 2.7266, 2.7265, 2.7264, 2.7263, 2.7262, 2.7262, 2.7259, 2.7253, 2.7251, 2.7251, 2.7247, 2.7244, 2.7241, 2.7239, 2.7237, 2.7236, 2.7233, 2.7227, 2.7226, 2.7226, 2.7226, 2.7221, 2.722, 2.7219, 2.7219, 2.7214, 2.7202, 2.7135, 2.7113, 2.6993, 2.69, 2.6387, 2.5946, 2.6635, 2.6413, 2.6222, 2.5351, 2.2515, 2.5203, 2.4681, 2.5695, 1.9794, 2.5249, 1.9266, 1.7237, 2.3372, 1.8568, 2.2194, 1.8599, 0.6491, 2.7804, 2.7801, 2.78, 2.7794, 2.7793, 2.7793, 2.7791, 2.7791, 2.779, 2.7789, 2.7789, 2.7787, 2.7787, 2.7783, 2.7782, 2.7781, 2.7778, 2.7778, 2.7776, 2.7774, 2.7772, 2.7771, 2.7771, 2.777, 2.7767, 2.7763, 2.7756, 2.7755, 2.7754, 2.7746, 2.7576, 2.7512, 2.6557, 2.6854, 2.6985, 2.5243, 2.4912, 2.2464, 2.3228, 2.3911, 2.7133, 2.2835, 1.9128, 2.17, 2.2867, 1.5721, 2.3043, 1.5769, 2.3583, 1.2052, 1.163, 1.7164, 2.046, 2.331, 1.0091, 1.8336, 0.6238, 0.7984, -2.5966, 1.7367]}, \"token.table\": {\"Topic\": [9, 1, 2, 3, 4, 8, 9, 1, 2, 3, 4, 6, 8, 10, 4, 7, 8, 1, 2, 3, 4, 6, 8, 2, 1, 2, 4, 5, 7, 8, 1, 3, 6, 8, 10, 2, 10, 5, 10, 8, 6, 7, 5, 10, 1, 2, 3, 4, 5, 6, 7, 8, 9, 1, 2, 3, 4, 5, 6, 7, 8, 10, 8, 5, 7, 10, 7, 7, 5, 10, 10, 10, 5, 2, 6, 8, 9, 9, 3, 9, 2, 3, 5, 3, 3, 6, 6, 8, 9, 3, 4, 5, 2, 1, 4, 6, 10, 9, 3, 9, 5, 8, 4, 1, 3, 1, 3, 1, 4, 5, 5, 7, 8, 2, 6, 7, 10, 5, 2, 10, 1, 2, 2, 5, 2, 1, 3, 4, 6, 9, 10, 1, 6, 1, 3, 4, 5, 6, 7, 8, 9, 10, 3, 4, 9, 3, 2, 4, 1, 5, 5, 10, 6, 6, 1, 4, 5, 7, 8, 10, 10, 8, 1, 2, 6, 7, 8, 9, 9, 1, 9, 10, 1, 3, 3, 1, 2, 3, 4, 5, 6, 7, 8, 10, 2, 3, 4, 6, 8, 9, 1, 2, 3, 4, 5, 8, 8, 7, 8, 8, 5, 4, 9, 2, 6, 9, 10, 2, 6, 9, 7, 6, 2, 3, 4, 5, 6, 7, 9, 7, 4, 5, 3, 6, 7, 1, 2, 10, 1, 2, 9, 9, 4, 1, 3, 4, 5, 6, 7, 10, 7, 3, 7, 8, 1, 2, 3, 8, 10, 3, 7, 8, 10, 5, 10, 3, 5, 8, 10, 9, 6, 1, 2, 9, 3, 4, 5, 6, 7, 9, 2, 3, 6, 7, 8, 3, 4, 5, 6, 7, 8, 10, 1, 3, 4, 5, 6, 10, 1, 2, 6, 8, 5, 6, 2, 1, 2, 3, 4, 6, 7, 8, 10, 1, 1, 8, 3, 3, 4, 5, 6, 7, 8, 9, 1, 4, 6, 7, 8, 3, 4, 4, 2, 1, 2, 8, 5, 1, 3, 4, 5, 6, 7, 9, 10, 10, 3, 4, 6, 6, 1, 2, 3, 4, 6, 7, 8, 10, 2, 5, 6, 10, 5, 6, 10, 2, 4, 5, 6, 1, 2, 6, 3, 6, 1, 3, 1, 3, 4, 2, 3, 4, 5, 6, 7, 8, 2, 3, 7, 6, 7, 10, 3, 4, 6, 7, 5, 1, 3, 4, 3, 7, 1, 3, 5, 6, 8, 5, 2, 5, 7, 2, 3, 4, 6, 9, 3, 4, 6, 7, 1, 2, 3, 5, 7, 8, 10, 1, 1, 2, 3, 4, 5, 6, 1, 3, 4, 6, 9, 3, 4, 6, 2, 3, 4, 5, 6, 7, 8, 9, 10, 1, 2, 5, 6, 10, 4, 4, 1, 2, 5, 2, 2, 1, 2, 3, 5, 6, 7, 9, 10, 7, 1, 2, 3, 8, 1, 2, 3, 4, 5, 6, 8, 9, 10, 1, 2, 3, 6, 9, 10, 6, 10, 1, 2, 10, 10, 3, 4, 5, 6, 7, 9, 10, 4, 8, 1, 3, 4, 6, 7, 1, 3, 5, 6, 10, 2, 9, 1, 9, 4, 6, 9, 4, 3, 5, 6, 7, 8, 10, 4, 5, 1, 2, 3, 4, 5, 6, 9, 10, 2, 2, 1, 2, 3, 4, 5, 6, 7, 8, 9, 10, 4, 4, 5, 6, 4, 7, 8, 10, 1, 2, 10, 10, 5, 1, 2, 4, 6, 6, 3, 5, 6, 9, 6, 2, 5, 6, 10, 6, 8, 10, 5, 10, 8, 10, 7, 2, 8, 2, 10, 1, 2, 3, 4, 5, 6, 8, 9, 10, 1, 4, 1, 2, 3, 4, 6, 7, 8, 10, 1, 2, 6, 9, 3, 4, 1, 4, 8, 5, 10, 1, 3, 4, 6, 8, 9, 2, 4, 6, 8, 9, 4, 6, 9, 1, 2, 3, 5, 6, 7, 9, 4, 6, 9, 4, 2, 3, 4, 5, 6, 7, 8, 4, 3, 7, 8, 9, 3, 4, 8, 1, 2, 10, 3, 4, 6, 9, 1, 2, 5, 7, 1, 5, 7, 10, 5, 7, 7, 2, 7, 1, 3, 4, 6, 7, 8, 9, 10, 9, 6, 3, 4, 6, 7, 8, 9, 1, 9, 1, 2, 10, 3, 4, 6, 9, 1, 2, 9, 10, 1, 8, 5, 8, 10, 10, 7, 2, 5, 3, 6, 6, 4, 1, 2, 9, 10, 1, 2, 3, 5, 7, 10, 1, 2, 3, 5, 6, 7, 10, 1, 2, 10, 6, 9, 10, 6, 7, 8, 10, 4, 9, 9, 2, 2, 8, 2, 5, 2, 9, 5, 5, 5, 6, 2, 4, 2, 3, 6, 5, 7, 1, 2, 5, 6, 8, 10, 8, 10, 5, 3, 5, 6, 8, 9, 10, 7, 1, 2, 3, 4, 5, 6, 7, 8, 9, 1, 2, 5, 6, 7, 10, 1, 6, 1, 2, 9, 10, 1, 4, 8, 7, 6, 7, 3, 6, 7, 7, 4, 9, 2, 7, 2, 6, 10, 2, 5, 10, 8, 3, 4, 7, 5, 7, 4, 5, 3, 4, 6, 7, 8, 9, 10, 1, 2, 4, 6, 8, 9, 10, 2, 1, 3, 1, 2, 3, 4, 6, 10, 7, 6, 3, 4, 6, 7, 8, 8, 7, 4, 5, 6, 9, 1, 2, 3, 5, 7, 1, 2, 3, 5, 6, 7, 9, 2, 8, 1, 6, 9, 9, 6, 3, 2, 2, 6, 8, 8, 7, 8, 10, 8, 2, 9, 10, 1, 3, 1, 3, 5, 7, 6, 10, 1, 5, 10, 1, 10, 1, 2, 4, 5, 6, 7, 10, 5, 7, 10, 1, 9, 7, 3, 4, 5, 6, 7, 8, 9, 10, 1, 2, 3, 6, 7, 9, 6, 9, 8, 9, 10, 1, 2, 3, 4, 5, 6, 7, 8, 9, 10, 2, 3, 4, 6, 7, 8, 10, 1, 1, 2, 5, 7, 5, 10, 5, 7, 8, 10, 1, 6, 8, 2, 3, 5, 6, 7, 8, 10, 8, 1, 3, 4, 5, 6, 4, 6, 8, 4, 5, 6, 7, 8, 9, 10, 5, 10, 2, 5, 4, 6, 7, 8, 1, 7, 1, 3, 4, 8, 10, 2, 5, 2, 2, 3, 7, 9, 10, 3, 6, 1, 2, 4, 9, 2, 4, 5, 6, 9, 1, 2, 10, 1, 2, 6, 1, 7, 8, 5, 10, 1, 8, 10, 10, 4, 5, 2, 3, 4, 5, 6, 7, 8, 9, 4, 1, 1, 2, 4, 5, 9, 5, 1, 2, 3, 4, 5, 6, 7, 8, 9, 10, 1, 5, 7, 8, 5, 8, 10, 1, 2, 3, 4, 5, 8, 10, 4, 5, 6, 8, 5, 3, 2, 3, 5, 6, 8, 9, 10, 1, 2, 6, 1, 2, 4, 5, 6, 7, 8, 10, 2, 5, 8, 10, 1, 2, 3, 4, 5, 6, 7, 8, 9, 10, 4, 9, 10, 7, 8, 7, 1, 3, 1, 2, 3, 10, 3, 1, 2, 5, 6, 10, 1, 1, 1, 2, 5, 5, 3, 3, 3, 4, 5, 7, 8, 10, 3, 3, 1, 2, 3, 4, 5, 6, 8, 9, 8, 2, 8, 10, 1, 2, 3, 4, 1, 3, 4, 4, 2, 1, 1, 3, 9, 2, 5, 8, 10, 8, 1, 2, 4, 5, 6, 8, 10, 2, 5, 10, 4, 5, 6, 7, 8, 3, 7, 1, 9, 1, 2, 5, 7, 10, 7, 3, 4, 9, 10, 5, 7, 5, 1, 2, 3, 4, 5, 6, 7, 8, 3, 4, 5, 6, 7, 8, 5, 10, 3, 9, 3, 9, 6, 9, 5, 2, 3, 4, 5, 8, 10, 6, 1, 2, 7, 8, 10, 1, 2, 9, 10, 9, 9, 2, 9, 3, 8, 6, 7, 3, 4, 6, 7, 9, 4, 4, 5, 6, 7, 8, 10, 10, 1, 3, 4, 5, 6, 9, 10, 6, 1, 1, 3, 5, 6, 7, 10, 3, 6, 9, 2, 5, 7, 9, 10, 2, 10, 1, 2, 1, 2, 3, 4, 8, 10, 10, 4, 10, 1, 4, 7, 7, 4, 4, 7, 9, 2, 10, 2, 10, 8, 6, 2, 1, 2, 3, 5, 4, 6, 6, 7, 1, 2, 4, 5, 6, 7, 8, 9, 1, 3, 5, 6, 7, 10, 7, 8, 10, 4, 4, 9, 8, 1, 2, 6, 8, 2, 6, 8, 9, 3, 9, 8, 1, 2, 3, 5, 6, 7, 10, 5, 3, 5, 6, 7, 10, 10, 1, 8, 8, 8, 5, 7, 8, 10, 1, 4, 1, 1, 5, 1, 3, 4, 1, 1, 2, 3, 4, 7, 10, 1, 1, 2, 10, 1, 2, 3, 5, 6, 7, 10, 9, 10], \"Freq\": [0.9919308530810529, 0.06939127316834044, 0.7138442675934596, 0.0066438453033517446, 0.048721532224579464, 0.11368357519068541, 0.04724512215716797, 0.3120281186898536, 0.1444244435078751, 0.0020377346526684313, 0.08762259006474254, 0.026745267316273164, 0.37137714044882164, 0.055273552453631206, 0.050264642487428304, 0.39968497977906703, 0.5488574671611123, 0.530297036831859, 0.03564291559033807, 0.13677606633040298, 0.2674667568283092, 0.000289779801547464, 0.029557539757841325, 0.9980578426613186, 0.026226160157952434, 0.022729338803558777, 0.8777021599528081, 0.001748410677196829, 0.001748410677196829, 0.06818801641067633, 0.999724455980882, 0.10256994894608794, 0.004826821126874727, 0.8652076869922948, 0.025340810916092315, 0.06449065244827036, 0.9335789687749614, 0.9829597265740077, 0.015602535342444566, 0.996851035926089, 0.9987685749000491, 0.984796742110112, 0.023152005290319317, 0.9765771050412644, 0.00943235248348909, 0.011609049210448112, 0.5913359441572007, 0.06094750835485259, 0.008706786907836083, 0.1436619839792954, 0.10738370519664503, 0.051515155871363495, 0.015236877088713147, 0.45761636198232103, 0.012545618278888697, 0.3043805958616091, 0.08333874999547491, 0.07168924730793541, 0.022402889783729816, 0.006272809139444348, 0.022701594980846212, 0.018818427418333044, 0.9987417387142238, 0.018126912991243745, 0.9768392000836906, 0.004028202886943054, 0.9926563235072069, 0.9942890789230204, 0.9812210225536236, 0.017375788941053752, 0.9984777916208574, 0.9964036656226326, 0.9849415484387118, 0.9956810409630503, 0.011807982135358976, 0.1705597419551852, 0.8160627653548091, 0.9983506093905132, 0.9024997917226566, 0.0956406330341929, 0.009552787859202353, 0.9349271943941085, 0.05524003414234404, 0.999891497811824, 0.0010025110336706737, 0.998500989535991, 0.05763617600395142, 0.9326581207912139, 0.007859478545993375, 0.9965706710820363, 0.9983978411213095, 0.9972897621916752, 0.9974197613860467, 0.999503513137528, 0.8638038123613753, 0.13159511203942828, 0.003374233642036622, 0.9991220215086639, 0.9962816500296785, 0.9979324340575638, 0.11354132467473244, 0.8860954213157244, 0.9899435697287426, 0.005272368521269496, 0.9929627381724216, 0.01380574381591235, 0.983659246883755, 0.1034802921395515, 0.8817383226057617, 0.014012956227230932, 0.050736091803697744, 0.7588354600205227, 0.19081182352260237, 0.6514555329737837, 0.07220366430220018, 0.16063287114422065, 0.1152013520327239, 0.988370309579815, 0.9976710964519695, 0.994498515855525, 0.01981072557880135, 0.9773291285541998, 0.0938247923196599, 0.905964123688759, 0.9985513093178706, 0.004497177906707597, 0.7982490784405984, 0.19675153341845736, 0.9973142727491762, 0.9988227261242673, 0.9954753329936109, 0.06981927868235152, 0.9288999685565028, 0.0058248974081102686, 0.08529314061875751, 0.5921979031578773, 0.01733600419080437, 0.04063559382324544, 0.037445769052137444, 0.22065266134055803, 0.00027737606705286995, 0.00013868803352643498, 0.7046020915690906, 0.11136251668817236, 0.18421649956828512, 0.9872732422241979, 0.024892605996844425, 0.9708116338769326, 0.03903194679077599, 0.9607863825421783, 0.9944606880747692, 0.9972961343090546, 0.9964531699951771, 0.9961511046751815, 0.009435531585976924, 0.1437104041556485, 0.07983911341980474, 0.04935508829587929, 0.32951779538719406, 0.38758260514705206, 0.9986353863003278, 0.9921267720563577, 0.022890336422992055, 0.8023665293533004, 0.0048190181943141164, 0.06746625472039763, 0.04819018194314117, 0.05300920013745528, 0.9989574758822901, 0.03328534716812163, 0.9383297868346667, 0.02694528104086036, 0.0067230105985745985, 0.9923163643496107, 0.9954563710398013, 0.5290368892809328, 0.05262331878701493, 0.12293152339589553, 0.10934435502055971, 0.01078346696455224, 0.037095126358059706, 0.0226452806255597, 0.009705120268097016, 0.105893645591903, 0.016594190235776057, 0.0512255437713087, 0.5887330101040549, 0.10894446633052977, 0.0728701397310166, 0.16017001010183848, 0.01690464213068764, 0.006761856852275055, 0.00042261605326719096, 0.005494008692473483, 0.07353519326849123, 0.8967912650329792, 0.9985519323441725, 0.9488158848212822, 0.05096944835816805, 0.9931545931174238, 0.9871465686811915, 0.09856544098405268, 0.8997616684115666, 0.08449537865824398, 0.5538211947698763, 0.24428366899215093, 0.11712230705103126, 0.881087740121424, 0.11011033661745512, 0.008611981634884759, 0.991889226559238, 0.9965715823597777, 0.029717599418503785, 0.13936529382470741, 0.03791555787878069, 0.02869285461096917, 0.723469834119437, 0.038940302686315306, 0.0020494896150692267, 0.9862331949261656, 0.9929463819302707, 0.9981470113129367, 0.0020340497598049017, 0.10983868702946468, 0.8848116455151323, 0.03386513837476202, 0.2884808083776024, 0.6766756353031153, 0.001129980095165485, 0.012429781046820333, 0.9859076330318856, 0.9944438879988319, 0.9888214993608367, 0.002800632018934413, 0.1580356639255847, 0.10762428758476529, 0.3096698832364622, 0.07001580047336033, 0.20764685968956575, 0.14403250383091265, 0.9975122515355238, 0.07176491278317262, 0.8506252897534874, 0.07598637824100632, 0.029728470078558777, 0.0026231003010493037, 0.07519554196341338, 0.28242046574630836, 0.6094336366104549, 0.18875529557275564, 0.0031285408105981597, 0.47866674402151843, 0.3295396320496728, 0.07674310987162376, 0.9209173184594851, 0.09887049035192172, 0.016208277106872414, 0.0021611036142496548, 0.8822705505174216, 0.9987926504232127, 0.9917675850901022, 0.003302309055076955, 0.07925541732184692, 0.9169411476263678, 0.10009499104231198, 0.05855897435128456, 0.561984575557289, 0.19633144501496566, 0.0011348638440171425, 0.08171019676923427, 0.7631133836288945, 0.16790573767856465, 0.04990387249889228, 0.018713952187084604, 0.9961283676472423, 0.5532903451108406, 0.17225686562154094, 0.11634610060741978, 0.011957793673540365, 0.03458064656942754, 0.09146096242194388, 0.020037383993500073, 0.11860761947467179, 0.1963160598201464, 0.45105951839628877, 0.12795600327563114, 0.05024756293015652, 0.055506028818196156, 0.9482671878429338, 0.003284990258116399, 0.04708486036633505, 0.9942896105646639, 0.9771613664844104, 0.994912931991225, 0.9964290235367524, 0.044522055004608506, 0.022153138839126688, 0.6732252582280058, 0.019348033596509998, 0.04293968794467089, 0.12651743901955792, 0.07019955684086898, 0.0011508124072273603, 0.9991674566200008, 0.9976774135589827, 0.9970446120233822, 0.9971449190564643, 0.08966925340521453, 0.5225396086760725, 0.08875890565490778, 0.10742103453619609, 0.03504838838680974, 0.15111772655091993, 0.0050069126266871055, 0.0006933947237377091, 0.6465905798854138, 0.19657740417964056, 0.046110749128557664, 0.11024976107429577, 0.9529668405216016, 0.047094291537404735, 0.9963555846747548, 0.9974982088769709, 0.9993731601341801, 0.9984876263213629, 0.9952186102774372, 0.9900086688186123, 0.0031626594266999514, 0.1106930799344983, 0.5389171663096717, 0.02150608410155967, 0.049021221113849246, 0.03826817906306941, 0.19197342720068705, 0.04680735951515928, 0.9957374829608462, 0.08701602844984163, 0.12081564280639168, 0.7910548040894693, 0.9950814853232307, 0.01871499899277544, 0.021388570277457646, 0.6250809663586997, 0.0010694285138728823, 0.03422171244393223, 0.11389413672746196, 0.1791292760737078, 0.006951285340173734, 0.022378018706738702, 0.5254358792342246, 0.4403994081486176, 0.011636569727504124, 0.7408418874838615, 0.22499642508769127, 0.03292630611039384, 0.010897747792911429, 0.9771647187643914, 0.010897747792911429, 0.9973711773753335, 0.004078856545395036, 0.18966682936086918, 0.803534739442822, 0.9949058707158251, 0.9909423604908274, 0.24158860938238602, 0.7581092999565212, 0.10950248607884316, 0.8137378054706598, 0.07652961852350378, 0.0005311402938648376, 0.16677805227355902, 0.35480171630171153, 0.3383363671919016, 0.1173820049441291, 0.018589910285269316, 0.0031868417631890256, 0.8579233359799663, 0.0065994102767689715, 0.13363805810457166, 0.006007949169511217, 0.8501248074858372, 0.14419078006826921, 0.19074891534918065, 0.6813865893658876, 0.005899450990180844, 0.12093874529870731, 0.994981649586441, 0.703411887902817, 0.2182650005011854, 0.07825420753754875, 0.9943116335671679, 0.9985000907495986, 0.026917043042829263, 0.02970156473691505, 0.15129234537866104, 0.6497217286200166, 0.14201060639837507, 0.9902356007449401, 0.9952028871319761, 0.3092986046288519, 0.6902836046013701, 0.0017950732934267422, 0.08795859137791037, 0.002692609940140113, 0.13552803365371904, 0.7718815161734992, 0.9945268088324649, 0.8918352903093243, 0.06370252073638032, 0.043585935240681266, 0.47484490890614056, 0.3150280422651257, 4.893164426989624e-05, 0.14282535316829337, 0.04491313298423101, 0.017713255225702437, 0.004617923927971457, 0.9995693279144937, 0.20172911933589377, 0.06368188190873489, 0.44137409599244876, 0.27567551510491817, 0.003561157869896359, 0.014035151604885651, 0.9989034087608323, 0.614143474287476, 0.1378349154961937, 0.2228701657821519, 0.02501036773116418, 0.5328907788291815, 0.3027032513948534, 0.16365934031458007, 0.9941549862160907, 0.111824698143289, 0.449740379868861, 0.026369142793614003, 0.095221904532495, 0.047855110995818004, 0.17286438053591402, 0.075200888707714, 0.020509333283922, 0.05319713076260115, 0.28955400288504424, 0.29965472391591785, 0.004713669814407697, 0.3521784732764608, 0.9937146793582752, 0.9952954804793374, 0.571353244012736, 0.02250672308059323, 0.40605490437518404, 0.9987714721541588, 0.9959287564737629, 0.014187897072738223, 0.07212181011975263, 0.08808319432658314, 0.1732105767630125, 0.3848467080980243, 0.0537957764007991, 0.013005572316676706, 0.19981288377439665, 0.9952028457716293, 0.27338516958461717, 0.5983845516841724, 0.09415339865362334, 0.03346415976243239, 0.9986688049307414, 0.0017082395891777373, 0.3180742115048947, 0.22787916119631016, 0.0030748312605199273, 0.2794679967894778, 0.03553138345489694, 0.12504313792781038, 0.008882845863724235, 0.23400137364205129, 0.4033564533985553, 0.1044052821437946, 0.01760321617540723, 0.09317564423879345, 0.1471993076736639, 0.9906960745188432, 0.9953903887931769, 0.3619645256983976, 0.05211751182838052, 0.5857335845486379, 0.9935789966037424, 0.5606976597121095, 0.09134274601855456, 0.006932261974622444, 0.006116701742313922, 0.24915365097025374, 0.07910934253392672, 0.006932261974622444, 0.9876450632163104, 0.9956739697876248, 0.035661758525323606, 0.89154396313309, 0.0588833687278599, 0.005805402550634075, 0.008293432215191536, 0.005051570956204523, 0.24146509170657618, 0.12325833133139034, 0.6213432276131563, 0.00909282772116814, 0.004093677126179467, 0.9947635416616104, 0.18636873459804246, 0.8127441266198656, 0.10433972478027519, 0.2187121154048076, 0.677204944487363, 0.9853713178070137, 0.06815935473830452, 0.07995616613531877, 0.06553784109452358, 0.0052430272875618866, 0.12583265490148526, 0.6553784109452357, 0.991509031690986, 0.9998602017784296, 0.02196581445292558, 0.006864317016539244, 0.0590331263422375, 0.7015331990903108, 0.026770836364503052, 0.008237180419847093, 0.16405717669528794, 0.01098290722646279, 0.9984079130479501, 0.9986989502476232, 0.04430224677269639, 0.12433799299991333, 0.09462084804538859, 0.112669911545376, 0.10774743968174308, 0.09954331990902152, 0.150226548727168, 0.11485767681810176, 0.1250672480908219, 0.026617810818163265, 0.9822610940504358, 0.8898562502584482, 0.10729590435619558, 0.002332519659917295, 0.9988001763683487, 0.6910762134131647, 0.29311163534420437, 0.015489639266157141, 0.08770277579520161, 0.49264006905882074, 0.4196155820996362, 0.9976286201730495, 0.9963785726095181, 0.005831691617149399, 0.991387574915398, 0.8828786784496979, 0.11491436767123052, 0.9910079856539392, 0.9935968439108936, 0.012675509942737312, 0.9707692269937783, 0.016609288890483374, 0.9977084894469171, 0.008353395557831617, 0.055689303718877446, 0.9188735113614778, 0.013922325929719362, 0.9941262524142298, 0.9860105091686086, 0.0138126472189568, 0.9740030523380303, 0.019480061046760606, 0.9993687826476906, 0.9975889737553645, 0.9983502844050036, 0.9026594802347838, 0.09702152056663679, 0.9993086214457771, 0.997952981623954, 0.04547289137643775, 0.04405186352092407, 0.0035525696387841994, 0.4845704987301648, 0.06323573957035875, 0.13997124376809744, 0.17691796801145313, 0.029841584965787274, 0.012789250699623117, 0.999592061516335, 0.9901400825405181, 0.037737197339711086, 0.02651803056304022, 0.35697348834861836, 0.14176947108702273, 0.01835863654364323, 0.35289379133891985, 0.06476519002896362, 0.001019924252424624, 0.004090825703423308, 0.1540877681622779, 0.8413464863373935, 0.9954449289723525, 0.9913214133318381, 0.006195758833323988, 0.09343829013508416, 0.89828174379865, 0.0063707925092102834, 0.9914197004367488, 0.9987674337368201, 0.9990364056539357, 0.011519560943700314, 0.624714651177594, 0.16038773313921206, 0.0017722401451846636, 0.20114925647845933, 0.030977632181637446, 0.806929540731434, 0.14204377683287414, 0.006044416035441453, 0.012844384075313088, 0.9719589838111204, 0.023477270140365228, 0.004695454028073046, 0.008547857125894556, 0.02325017138243319, 0.2454944566556916, 0.0902653712494465, 0.20993537101197027, 0.05607394274586828, 0.3665321135583585, 0.746678711347334, 0.029177498489593865, 0.2241362383973347, 0.9891340048784468, 0.012852905669232858, 0.00939250798905478, 0.13544985205268473, 0.05635504793432868, 0.5665165344977252, 0.17054817138020523, 0.047951224996753354, 0.9922607318538246, 0.9962213283263469, 0.9929179627087779, 0.005396293275591184, 0.995993200580299, 0.8872043663896022, 0.111977250126843, 0.9940256950049821, 0.028014950119401597, 0.9314970914701031, 0.03902082338059508, 0.12545686477359155, 0.824812153511485, 0.008007884985548398, 0.04137407242533339, 0.012259315828239203, 0.0059026335469299866, 0.658370664849883, 0.3228286501436323, 0.006492623900639929, 0.3382066813696981, 0.6480819129911494, 0.006492623900639929, 0.23286322484056743, 0.7657840379085327, 0.9903611774141833, 0.25872990565351056, 0.7402550078419886, 0.0010512930741932139, 0.00035043102473107126, 0.23023318324831382, 0.13596723759565565, 0.3987905061439591, 0.1499844785848985, 0.07989827363868425, 0.0035043102473107128, 0.9941141565199787, 0.9953095675837274, 0.19796600295294128, 0.4771231261043041, 0.12379139931487722, 0.03959320059058826, 0.0020047190172449753, 0.15937516187097553, 0.013821373465740014, 0.9830451877507586, 0.48337759800967955, 0.5165905244114779, 3.299843656413145e-05, 0.08266331352066116, 0.7354184444251923, 0.15820047932402392, 0.022803672695354802, 0.7608131086016184, 0.027195244301277992, 0.005099108306489623, 0.20684075232991242, 0.9988368822991124, 0.9964347992560335, 0.0830498053389634, 0.5715255421175977, 0.3447013425896761, 0.9944959028477584, 0.9972288928200774, 0.9798504658798943, 0.018400947716054356, 0.996596663535171, 0.9907051120685563, 0.9982632613468433, 0.9861992510479722, 0.8026152408578109, 0.057030678783247316, 0.11667744374921239, 0.0235447756444599, 0.01928666207522286, 0.20058128558231772, 0.018184567099495837, 0.09533121540038728, 0.6596038429726218, 0.006612569854362123, 0.01506260145458128, 0.26622272338329706, 0.442770424153273, 0.02697256539541299, 0.06200187110374155, 0.018915825082497423, 0.1674400812858105, 0.6994392793986683, 0.001878835671156374, 0.2983932652281987, 0.370619931710357, 0.020897309582341855, 0.6078658581451792, 0.7678563734626143, 0.20706239284385103, 0.024157279165115952, 0.9987850086087233, 0.9921380361009383, 0.9976835562365386, 0.992347342131303, 0.9986143629103943, 0.999373600921989, 0.9958139773698612, 0.005320273696195224, 0.9895709074923117, 0.9850235397215327, 0.013432139178020901, 0.9965305688795328, 0.9920385232024073, 0.31039550043414077, 0.6892820267856741, 0.9950791337525923, 0.9834923506441093, 0.041422391200825324, 0.06472248625128957, 0.8931703102677961, 0.04977881484614807, 0.9457974820768134, 0.005841761934649282, 0.01577275722355306, 0.025703752512456837, 0.0005841761934649282, 0.7424879418939236, 0.20913507726044428, 0.9964580324145635, 0.9958840926314816, 0.9903674575054193, 0.10478350033411307, 0.00795824053170479, 0.6459438564900388, 0.11937360797557185, 0.003979120265852395, 0.11804723455362105, 0.9913807772793943, 0.10060739774995951, 0.339315633405143, 0.21475409333376452, 0.005624016023289663, 0.0751951772002803, 0.019579907636638083, 0.009581656928567573, 0.19184143546110294, 0.043534049958057014, 0.05238673955485148, 0.03789679031627553, 0.7111221241701116, 0.01448994923857594, 0.06910591175320834, 0.11480498242871706, 0.014700131548432537, 0.98490881374498, 0.2970495689228943, 0.008750790728847985, 0.621306141748207, 0.07287022097840685, 0.9980022174776145, 0.9559278902530199, 0.04263528149015817, 0.9981737389802638, 0.0010803385176810568, 0.9982327903372965, 0.06604447191481809, 0.03823627321384205, 0.8898623584312332, 0.9936393264293526, 0.9900352949935234, 0.9968868940687259, 0.031240123706442847, 0.9621958101584397, 0.3390592720423468, 0.6490687087562572, 0.011706650057728087, 0.9885326998325539, 0.008546392217572512, 0.9947496268978078, 0.9922857840049394, 0.9929042404236507, 0.9955248351694315, 0.9972435932635807, 0.9960214328115883, 0.9861450874460156, 0.9962115616148562, 0.989406239847558, 0.1120254044221309, 0.26808391578475255, 0.05698402074651745, 0.09259903371309085, 0.03302483020536807, 0.42025715300556615, 0.016836187947834702, 0.0157670953019911, 0.3607511405095564, 0.05959962024152636, 0.029957481073783092, 0.07599739935559711, 0.44904687420070655, 0.008829573369115017, 0.9957113806223441, 0.9996789860739388, 0.9887946718943073, 0.013289188747409798, 0.05168017846214921, 0.844601773724267, 0.05610990804461914, 0.031008107077289526, 0.0029531530549799546, 0.9867836815375355, 0.9988597085929344, 0.15200702763869262, 0.641996161423752, 0.12228498312833373, 0.07048370555313681, 0.012738019075868096, 0.9957963734922687, 0.9911326081205488, 0.17174526057304992, 0.00198549434188497, 0.000992747170942485, 0.824972899053205, 0.009539148222592176, 0.007631318578073741, 0.15262637156147482, 0.15548811602825247, 0.6744177793372668, 0.057752785296505994, 0.09758229239754461, 0.05376983458640214, 0.29717237798163815, 0.3480656370551875, 0.11041624468565706, 0.03540400631203433, 0.009601963198100362, 0.9842012278052872, 0.5160334276179247, 0.48359049762715284, 0.9989327584511427, 0.997796939387262, 0.9954213779094374, 0.9979400247841054, 0.9997724775013422, 0.9958087285614998, 0.9973312259499683, 0.9962769949825268, 0.9966126469054947, 0.09213588426483466, 0.8924018504508271, 0.013162269180690665, 0.9966415502233363, 0.37815502892094843, 0.0010897839450171424, 0.6211768486597713, 0.05076309516101255, 0.947577776338901, 0.03616677060193491, 0.1562404490003588, 0.06220684543532804, 0.7450354743998592, 0.9928279797934029, 0.9975397189470043, 0.017075067588009734, 0.8672336959173365, 0.1155712469377922, 0.9992913709783263, 0.9981023909851711, 0.020749469977514468, 0.08785413884096552, 0.0002207390423139837, 0.2807800618233873, 0.1935881401093637, 0.11699169242641136, 0.29998435850470384, 0.33532532124978287, 0.03235595205041764, 0.6324117900763448, 0.025840895481862858, 0.9716176701180435, 0.988157697755911, 0.06168204674377984, 0.41081049432621997, 0.019351230350989755, 0.15118148711710747, 0.06813245686077643, 0.14190902257392488, 0.14473107700011087, 0.0020157531615614325, 0.2086638836601579, 0.012330138579918421, 0.6364248451634816, 0.14227082976828948, 0.9871412777248871, 0.005036435090433097, 0.9993042899134769, 0.9975977614302018, 0.02892271071404124, 0.9636521342451013, 0.006573343344100282, 0.02585111438906488, 0.16897228405216044, 0.38682667531273446, 0.12220526802103397, 0.031491357528497216, 0.1485264026717182, 0.056872451655942735, 0.03619156014469083, 0.0018800810464774458, 0.021150911772871265, 0.14467282048286115, 0.001526889925940487, 0.08436066840821191, 0.04847875514861046, 0.41455061489284223, 0.21032908729830208, 0.09581234285276556, 0.9980205266618517, 0.18118584121491263, 0.3252582242008816, 0.47113473362853525, 0.022422714346653484, 0.9591441260121714, 0.03552385651896931, 0.844789011622587, 0.0983027213524465, 0.04300744059169534, 0.012287840169055812, 0.008520779072534203, 0.8605986863259546, 0.1299418808561466, 0.012086858053943791, 0.03061561298279169, 6.641130798870214e-05, 0.034334646230159006, 0.8506624440272857, 0.06275868604932353, 0.009430405734395705, 0.9947187617594324, 0.05244886171766792, 0.1566078687907831, 0.5237499008144585, 0.0059097308977653995, 0.2615055922261189, 0.8543252766281008, 0.13601958787102142, 0.007641549880394461, 0.5777906745218948, 0.005161725735538982, 0.29292793549183727, 0.11097710331408812, 0.013226922197318643, 0.9975995412047134, 0.0022296286042250936, 0.9740057061153042, 0.02300800880587333, 0.995369594301543, 0.9957071252983783, 0.08793563784139016, 0.01179624410067429, 0.8268094728745343, 0.07184985043137976, 0.9993634185146171, 0.9943163574851227, 0.0071611894380225714, 0.15754616763649656, 0.10312112790752503, 0.6974998512633984, 0.03150923352729931, 0.04400743527725449, 0.9534944310071807, 0.99552418560851, 0.9961606006690755, 0.0027967439933481155, 0.3896796630731708, 0.6012999585698449, 0.005593487986696231, 0.9944712357433955, 0.9983062221006538, 0.33748127350288537, 0.5781908083386783, 0.04310001806181427, 0.041473602285896756, 0.07254234594520441, 0.04572366047455308, 0.03737029942631742, 0.7962072030713041, 0.04792191338198352, 0.7888284935221097, 0.012845377143272569, 0.19830815570709365, 0.056989973533030015, 0.837384933686941, 0.10478801585105518, 0.002459484190984998, 0.3303276459584466, 0.6672769801233913, 0.9833042127493743, 0.01622104357245629, 0.0043865471838742615, 0.8678052512097915, 0.1272098683323536, 0.9953467292588867, 0.9658338843459061, 0.033497128936852236, 0.019313947216742813, 0.014352566280331814, 0.23867786147662906, 0.0012403452341027495, 0.17045887360097786, 0.004606996583810212, 0.07778736539587243, 0.4732803028983491, 0.9892262962688257, 0.9996197623481026, 0.021061153907407596, 0.00747331267682205, 0.4755744430704941, 0.149466253536441, 0.34581055931840216, 0.9796194288271273, 0.026041084294896693, 0.3788660190708751, 0.09209651762829318, 0.09463711121803921, 0.02318291650643242, 0.17434823509632055, 0.06510271073724173, 0.06351483974365048, 0.017784155128222134, 0.06383241394236873, 0.00353172864032546, 0.20719474689909365, 0.03767177216347157, 0.7510809575092144, 0.7564085718042987, 0.236189629620674, 0.007221084217702135, 0.05893640277538866, 0.05933733068542532, 0.8812395462605733, 0.09635926725316912, 0.009545021756210149, 0.7976911039118482, 0.09635926725316912, 0.05506335727212226, 0.18614100775405235, 0.2065547402061562, 0.5519765814351768, 0.9994570623193096, 0.9979986824732303, 0.3438837058800976, 0.061321919580017405, 0.35149884622009975, 0.1811601807200514, 0.016031874400004552, 0.008015937200002276, 0.03807570170001081, 0.1788734441023236, 0.23276480226135696, 0.5878362329687472, 0.04703836985235708, 0.6197996968781168, 0.004150444398737389, 0.07643735101008026, 0.17777736841258485, 0.03769986995519795, 0.018331129427756804, 0.018331129427756804, 0.014544111019358005, 0.021816166529037007, 0.942943197755044, 0.01939214802581067, 0.006013595721667264, 0.0018040787165001795, 0.3984007165604563, 0.2730172457636938, 0.08509237946159179, 0.07667334545125762, 0.008719713796417533, 0.022250304170168878, 0.11245423999517785, 0.015635348876334887, 0.10424688853851843, 0.8754920377551737, 0.020000856521925046, 0.09215381231072937, 0.9072229677968892, 0.9911202116224462, 0.9988697648916494, 0.9948441230988224, 0.022540122159527397, 0.006440034902722113, 0.05957032285017955, 0.908044921283818, 0.9983465165485109, 0.7607365925912046, 0.1263819768884927, 0.05367779506197545, 0.018282338120118372, 0.040816382779799154, 0.999741500120896, 0.9990053217681717, 0.739772806761304, 0.2595582175446989, 0.9983025584212788, 0.9849493093081003, 0.9980440853217285, 0.999637521279818, 0.996315533491934, 0.1463600128780569, 0.05203911568997579, 0.2894675810254903, 0.03252444730623487, 0.4797355977669643, 0.9985027929278977, 0.9941601431036462, 0.01050151582675303, 0.3202962327159674, 0.01794008953736976, 0.5171996544675868, 0.0004375631594480429, 0.0008751263188960858, 0.05863346336603775, 0.07351061078727121, 0.9914382572726677, 0.10229687557832946, 0.14854066864798524, 0.7483086514907936, 0.02090126293293626, 0.009431057664861483, 0.9007934537194724, 0.06882123160844865, 0.027688234019843713, 0.6143326923152823, 0.3573512703186079, 0.9813769831502026, 0.9987951589570664, 0.9997665376503757, 0.0601592573875034, 0.9373200425214239, 0.9942142738964245, 0.007290340654114947, 0.134610932792051, 0.6878957145775604, 0.17002115882632357, 0.9941277912677322, 0.23620626726063154, 0.0629651463537177, 0.16036979264676163, 0.10679723718558747, 0.06609600998456552, 0.23516264605034892, 0.13184414623237017, 0.9951339323557942, 0.8937534085625799, 0.1053473599446387, 0.2125324538872132, 0.005183718387493005, 0.018143014356225517, 0.6350055024678931, 0.12959295968732512, 0.9897298375542029, 0.989775116549348, 0.08428470576566531, 0.9146722851786983, 0.005444698051762394, 0.32123718505398124, 0.639363114078384, 0.0007778140073946277, 0.033446002317968994, 0.9979923974458681, 0.8715703976448318, 0.011221936450362641, 0.11408968724535352, 0.9938145531873798, 0.6479322414698026, 0.35090573418620435, 0.987178949470126, 0.0397953463854399, 0.04564760320682812, 0.09422133482435034, 0.006144869662457631, 0.22999369308055706, 0.5381150147266468, 0.005267031139249398, 0.04067318490864813, 0.010862390134245234, 0.6231061977007948, 0.18762310231878132, 0.1540484419038415, 0.005924940073224674, 0.018762310231878132, 0.9943419964692031, 0.9970886079068411, 0.9919506226903241, 0.9980826421589367, 0.14405282103441586, 0.8537025078144855, 0.9935592539933581, 0.9993667278121962, 0.9878351409665902, 0.04894481885601327, 0.16097407090422142, 0.11529223997194236, 0.009788963771202653, 0.6602112232355567, 0.0032629879237342178, 0.9967813782035142, 0.13212476092112804, 0.08720234220794451, 0.048886161540817374, 0.09380858025400092, 0.6368413476398372, 0.07248749512779173, 0.0007472937642040385, 0.1531952216618279, 0.7734490459511799, 0.9996930080541202, 0.9922897746662356, 0.9992817596371623, 0.9959821245779652, 0.9964629222750118, 0.9943506319722046, 0.024318657560611065, 0.9727463024244426, 0.006299368220034099, 0.8036194029272072, 0.05129485550599195, 0.12148781567208619, 0.01799819491438314, 0.991656691574789, 0.6073157017488182, 0.020309675116541994, 0.2121232734394386, 0.027361645643119072, 0.01748888690591116, 0.11537023781480105, 0.9975184466299576, 0.010291031500418579, 0.2507761886680948, 0.21881982769311084, 0.0893694840825824, 0.004333065894913086, 0.4186824920959769, 0.0075828653160979, 0.9979712262044316, 0.9986138450478214, 0.9983543210886217, 0.06977538668820028, 0.5315064238162039, 0.27970828924574204, 0.04034837578056799, 0.07826978158937249, 0.04618672007091461, 0.8544543213119202, 0.0972352001492939, 0.004998172535997712, 0.12245522713194393, 0.8721811075316006, 0.995785432555142, 0.9973367285446804, 0.027564613950145138, 0.9708869580217787, 0.9989839630111907, 0.9977654294980305, 0.01249982747496911, 0.713715639355099, 0.011274354193109393, 0.13014526253350192, 0.00514698778381081, 0.12744922131341052, 0.9977604092958489, 0.9952880397181163, 0.9978834301519666, 0.0495854753785587, 0.9470825797304713, 0.9948520062083299, 0.9853317169803645, 0.9865876858244201, 0.9960195477150319, 0.9933329286610529, 0.9951111345241143, 0.9688927933313016, 0.029030495680338626, 0.0014424635804618717, 0.9981847976796152, 0.9949333619627128, 0.9966453549488039, 0.9948573376902781, 0.9985488693461911, 0.9956260785135903, 0.9947243916371121, 0.9887014714925936, 0.9989373408700276, 0.9972477567613952, 0.99569367893724, 0.9962974998106296, 0.05253636122646209, 0.008331008738176836, 0.17733147171262123, 0.20963538314636815, 0.05661685530230381, 0.43134222793376803, 0.05389652591840933, 0.01020123518960429, 0.019798024166583897, 0.018148188819368572, 0.1385861691660873, 0.0016498353472153247, 0.7688232718023413, 0.05114489576367507, 0.03743006186994241, 0.9427696833491744, 0.018715030934971205, 0.9838743402705504, 0.9979045781955383, 0.9989630404033849, 0.9973034642295041, 0.014546447317732194, 0.05091256561206268, 0.9106076020900353, 0.02327431570837151, 0.02528221855633471, 0.9036052187727035, 0.07022838487870753, 0.9969829550881274, 0.006328716634174579, 0.9927044091890982, 0.9963818694586504, 0.023014886516292948, 0.031837259680871914, 0.05178349466165914, 0.5302374132392603, 0.030175073432472978, 0.282571662227819, 0.05024916889390627, 0.9966356315939673, 0.0005570318184813317, 0.10806417278537833, 0.006684381821775979, 0.3414605047290563, 0.542548991200817, 0.9993812989296532, 0.9997314038947538, 0.9940203243750375, 0.9956383654972851, 0.9980692638913784, 0.9765692286586872, 0.1004632613527231, 0.8984285943829237, 0.9958661866026775, 0.9305495003508293, 0.06908497943692661, 0.9998956016184636, 0.16060214178439933, 0.8393734580052569, 0.5065072665138131, 0.4915688033539587, 0.0014004809212363495, 0.9993109690162957, 0.008606911339815572, 0.13771058143704915, 0.4460405229633834, 0.0865754023004978, 0.23441176178438877, 0.0860691133981557, 0.9999096553967194, 0.9977936982851903, 0.9046104677726342, 0.0945436118337195, 0.07605743254359108, 0.22289386382648615, 0.1132463979828864, 0.157633227700755, 0.06358113446073071, 0.22889208405863057, 0.1377191365300356, 0.9995856330042476, 0.9963975457239831], \"Term\": [\"abstract\", \"accept\", \"accept\", \"accept\", \"accept\", \"accept\", \"accept\", \"access\", \"access\", \"access\", \"access\", \"access\", \"access\", \"access\", \"account\", \"account\", \"account\", \"action\", \"action\", \"action\", \"action\", \"action\", \"action\", \"activator\", \"active\", \"active\", \"active\", \"active\", \"active\", \"active\", \"adaptor\", \"address\", \"address\", \"address\", \"address\", \"aether\", \"aether\", \"aggregator\", \"aggregator\", \"agreement\", \"android\", \"anytime\", \"apache\", \"apache\", \"appear\", \"appear\", \"appear\", \"appear\", \"appear\", \"appear\", \"appear\", \"appear\", \"appear\", \"application\", \"application\", \"application\", \"application\", \"application\", \"application\", \"application\", \"application\", \"application\", \"approval\", \"archive\", \"archive\", \"archive\", \"arduino\", \"arrange\", \"artifact\", \"artifact\", \"artifactid\", \"aspectj\", \"assemble\", \"assertj\", \"assign\", \"assign\", \"assign\", \"assignment\", \"assist\", \"assist\", \"attach\", \"attach\", \"attach\", \"attachment\", \"attribute\", \"attribute\", \"author\", \"author\", \"author\", \"autorefactor\", \"background\", \"baseline\", \"basicbuild\", \"basicrun\", \"better\", \"better\", \"better\", \"boolean\", \"border\", \"bracket\", \"branch\", \"branch\", \"breadcrumb\", \"breakpoint\", \"breakpoint\", \"breakpoints\", \"breakpoints\", \"browser\", \"browser\", \"browser\", \"bugzilla\", \"bugzilla\", \"bugzilla\", \"builder\", \"builder\", \"builder\", \"builder\", \"buildlogs\", \"buildmanager\", \"buildproject\", \"buildship\", \"buildship\", \"bundle\", \"bundle\", \"bundleloader\", \"button\", \"button\", \"button\", \"capabilities\", \"capella\", \"catalina\", \"category\", \"category\", \"change\", \"change\", \"change\", \"change\", \"change\", \"change\", \"change\", \"change\", \"change\", \"character\", \"character\", \"character\", \"charstring\", \"children\", \"children\", \"chromium\", \"chromium\", \"classifier\", \"classworlds\", \"clause\", \"clauses\", \"client\", \"client\", \"client\", \"client\", \"client\", \"client\", \"codehaus\", \"codewind\", \"collect\", \"collect\", \"collect\", \"collect\", \"collect\", \"collect\", \"collection\", \"collections\", \"collections\", \"collections\", \"column\", \"column\", \"columns\", \"command\", \"command\", \"command\", \"command\", \"command\", \"command\", \"command\", \"command\", \"command\", \"comment\", \"comment\", \"comment\", \"comment\", \"comment\", \"comment\", \"commit\", \"commit\", \"commit\", \"commit\", \"commit\", \"commit\", \"committer\", \"communication\", \"communication\", \"company\", \"comparatorlogs\", \"comparison\", \"comparison\", \"compile\", \"compile\", \"compile\", \"compile\", \"compiler\", \"compiler\", \"compiler\", \"completions\", \"compliance\", \"component\", \"component\", \"component\", \"component\", \"component\", \"component\", \"component\", \"composer\", \"computation\", \"concatenation\", \"concern\", \"concern\", \"concern\", \"concurrent\", \"concurrent\", \"concurrent\", \"condition\", \"condition\", \"condition\", \"conditional\", \"configurable\", \"configuration\", \"configuration\", \"configuration\", \"configuration\", \"configuration\", \"configuration\", \"configuration\", \"configurations\", \"confirm\", \"confirm\", \"confirm\", \"connect\", \"connect\", \"connect\", \"connect\", \"connect\", \"connection\", \"connection\", \"connection\", \"connection\", \"connector\", \"connector\", \"console\", \"console\", \"console\", \"console\", \"constant\", \"constraints\", \"constructor\", \"constructor\", \"constructor\", \"contain\", \"contain\", \"contain\", \"contain\", \"contain\", \"contain\", \"container\", \"container\", \"container\", \"container\", \"containsall\", \"content\", \"content\", \"content\", \"content\", \"content\", \"content\", \"content\", \"context\", \"context\", \"context\", \"context\", \"context\", \"context\", \"contexts\", \"contexts\", \"contexts\", \"contributor\", \"converters\", \"copyright\", \"cpptemplates\", \"create\", \"create\", \"create\", \"create\", \"create\", \"create\", \"create\", \"create\", \"createandrunui\", \"creategui\", \"credentials\", \"critical\", \"current\", \"current\", \"current\", \"current\", \"current\", \"current\", \"current\", \"currently\", \"currently\", \"currently\", \"currently\", \"currently\", \"cursor\", \"cursor\", \"customize\", \"daemon\", \"databinding\", \"datatools\", \"deadline\", \"deadlines\", \"default\", \"default\", \"default\", \"default\", \"default\", \"default\", \"default\", \"default\", \"defaultmaven\", \"define\", \"define\", \"define\", \"definitions\", \"delete\", \"delete\", \"delete\", \"delete\", \"delete\", \"delete\", \"delete\", \"delete\", \"dependencies\", \"dependencies\", \"dependencies\", \"dependencies\", \"dependency\", \"dependency\", \"dependency\", \"deprecate\", \"deprecate\", \"deprecate\", \"derive\", \"designer\", \"designer\", \"designer\", \"detach\", \"diagnostic\", \"diagram\", \"diagram\", \"dialog\", \"dialog\", \"dialog\", \"different\", \"different\", \"different\", \"different\", \"different\", \"different\", \"different\", \"director\", \"director\", \"director\", \"directory\", \"directory\", \"directory\", \"disable\", \"disable\", \"disable\", \"disable\", \"disjoint\", \"display\", \"display\", \"display\", \"distribute\", \"docker\", \"document\", \"document\", \"document\", \"document\", \"document\", \"dohandle\", \"dostart\", \"download\", \"download\", \"duplicate\", \"duplicate\", \"duplicate\", \"duplicate\", \"duplicate\", \"duration\", \"easier\", \"easier\", \"easier\", \"eclipse\", \"eclipse\", \"eclipse\", \"eclipse\", \"eclipse\", \"eclipse\", \"eclipse\", \"eclipsestarter\", \"editor\", \"editor\", \"editor\", \"editor\", \"editor\", \"editor\", \"editparts\", \"element\", \"element\", \"element\", \"element\", \"elements\", \"elements\", \"elements\", \"embedder\", \"enable\", \"enable\", \"enable\", \"enable\", \"enable\", \"enable\", \"enable\", \"enable\", \"engine\", \"engine\", \"engine\", \"engine\", \"engine\", \"enhancement\", \"epsilon\", \"equinox\", \"equinox\", \"equinox\", \"equinoxbundle\", \"equinoxmodule\", \"errors\", \"errors\", \"errors\", \"errors\", \"errors\", \"errors\", \"errors\", \"errors\", \"etrice\", \"events\", \"events\", \"events\", \"events\", \"eventtable\", \"example\", \"example\", \"example\", \"example\", \"example\", \"example\", \"example\", \"example\", \"exception\", \"exception\", \"exception\", \"exception\", \"exception\", \"exception\", \"exchange\", \"execchain\", \"execute\", \"execute\", \"execute\", \"executor\", \"expect\", \"expect\", \"expect\", \"expect\", \"expect\", \"expect\", \"expect\", \"experiment\", \"expire\", \"explorer\", \"explorer\", \"explorer\", \"explorer\", \"explorer\", \"export\", \"export\", \"export\", \"export\", \"export\", \"expression\", \"expression\", \"expressions\", \"expressions\", \"extend\", \"extend\", \"extend\", \"factor\", \"failure\", \"failure\", \"failure\", \"failure\", \"failure\", \"failure\", \"faster\", \"feature\", \"filter\", \"filter\", \"filter\", \"filter\", \"filter\", \"filter\", \"filter\", \"filter\", \"findclass\", \"findlocalclass\", \"follow\", \"follow\", \"follow\", \"follow\", \"follow\", \"follow\", \"follow\", \"follow\", \"follow\", \"follow\", \"foreground\", \"format\", \"format\", \"format\", \"formatter\", \"foundation\", \"foundation\", \"foundation\", \"framework\", \"framework\", \"framework\", \"frameworks\", \"friday\", \"friendly\", \"friendly\", \"functionality\", \"functionality\", \"furthermore\", \"gadget\", \"generate\", \"generate\", \"generate\", \"generation\", \"generator\", \"generator\", \"generator\", \"generator\", \"genmodel\", \"gerrit\", \"gerrit\", \"gitcache\", \"gitcache\", \"github\", \"gitroot\", \"glassfish\", \"google\", \"google\", \"gradle\", \"groupid\", \"handle\", \"handle\", \"handle\", \"handle\", \"handle\", \"handle\", \"handle\", \"handle\", \"handle\", \"handleevent\", \"handly\", \"happen\", \"happen\", \"happen\", \"happen\", \"happen\", \"happen\", \"happen\", \"happen\", \"hashmap\", \"hashmap\", \"hashmap\", \"hashset\", \"height\", \"height\", \"history\", \"history\", \"history\", \"httpcomponents\", \"hudson\", \"ideapplication\", \"implement\", \"implement\", \"implement\", \"implement\", \"implement\", \"implementation\", \"implementation\", \"implementation\", \"implementation\", \"implementation\", \"implementations\", \"implementations\", \"implementations\", \"import\", \"import\", \"import\", \"import\", \"import\", \"import\", \"import\", \"improve\", \"improve\", \"improve\", \"improvement\", \"include\", \"include\", \"include\", \"include\", \"include\", \"include\", \"include\", \"indent\", \"indentation\", \"infrastructure\", \"infrastructure\", \"inited\", \"initially\", \"initially\", \"initiate\", \"inject\", \"inject\", \"inject\", \"insert\", \"insert\", \"insert\", \"insert\", \"instal\", \"instal\", \"instal\", \"instal\", \"install\", \"install\", \"install\", \"install\", \"installation\", \"installation\", \"installations\", \"installer\", \"installer\", \"instance\", \"instance\", \"instance\", \"instance\", \"instance\", \"instance\", \"instance\", \"instance\", \"instanceof\", \"instantiation\", \"instead\", \"instead\", \"instead\", \"instead\", \"instead\", \"instead\", \"integer\", \"integer\", \"internal\", \"internal\", \"internal\", \"introduce\", \"introduce\", \"introduce\", \"introduce\", \"invoke\", \"invoke\", \"invoke\", \"invoke\", \"invokeframework\", \"jakarta\", \"jenkins\", \"jenkins\", \"jenkins\", \"jenkinsci\", \"jersey\", \"jupiter\", \"jupiter\", \"keyboard\", \"keyple\", \"keyset\", \"keywords\", \"lambda\", \"lambda\", \"lambda\", \"lambda\", \"latest\", \"latest\", \"latest\", \"latest\", \"latest\", \"latest\", \"launch\", \"launch\", \"launch\", \"launch\", \"launch\", \"launch\", \"launch\", \"launcher\", \"launcher\", \"launcher\", \"library\", \"library\", \"library\", \"license\", \"license\", \"license\", \"lifecycle\", \"listeners\", \"literal\", \"literals\", \"loadclass\", \"loader\", \"locationtech\", \"logback\", \"logback\", \"lookup\", \"lookup\", \"lucene\", \"mainly\", \"manifest\", \"manifest\", \"manipulation\", \"margin\", \"marker\", \"marker\", \"marker\", \"marketplace\", \"marketplace\", \"master\", \"master\", \"master\", \"master\", \"master\", \"master\", \"materials\", \"mavencli\", \"mavenproject\", \"memory\", \"memory\", \"memory\", \"memory\", \"memory\", \"memory\", \"mentor\", \"message\", \"message\", \"message\", \"message\", \"message\", \"message\", \"message\", \"message\", \"message\", \"metadata\", \"metadata\", \"metadata\", \"metadata\", \"metadata\", \"metadata\", \"metamodel\", \"metamodel\", \"method\", \"method\", \"method\", \"method\", \"methodrequestor\", \"microprofile\", \"microprofile\", \"migrate\", \"migration\", \"migration\", \"minimum\", \"minimum\", \"minimum\", \"mockito\", \"modern\", \"modifiers\", \"modular\", \"modular\", \"module\", \"module\", \"module\", \"modulecontainer\", \"modulecontainer\", \"mojoexecutor\", \"mosquitto\", \"navigation\", \"negation\", \"nightly\", \"notarization\", \"noteworthy\", \"notification\", \"notifier\", \"number\", \"number\", \"number\", \"number\", \"number\", \"number\", \"number\", \"object\", \"object\", \"object\", \"object\", \"object\", \"object\", \"object\", \"objectteams\", \"observable\", \"observation\", \"observe\", \"observe\", \"observe\", \"observe\", \"observe\", \"observe\", \"onboarding\", \"opposite\", \"option\", \"option\", \"option\", \"option\", \"option\", \"organization\", \"outdated\", \"override\", \"override\", \"override\", \"override\", \"oxygen\", \"oxygen\", \"oxygen\", \"oxygen\", \"oxygen\", \"package\", \"package\", \"package\", \"package\", \"package\", \"package\", \"package\", \"packet\", \"packet\", \"papyrus\", \"papyrus\", \"parameter\", \"parameters\", \"parenthesis\", \"parentrunner\", \"parser\", \"parsers\", \"passage\", \"passive\", \"password\", \"permission\", \"permission\", \"permission\", \"permissions\", \"persistence\", \"persistence\", \"persistence\", \"perspective\", \"perspective\", \"photon\", \"photon\", \"photon\", \"photon\", \"physical\", \"pipeline\", \"platform\", \"platform\", \"platform\", \"platformui\", \"plexus\", \"plugin\", \"plugin\", \"plugin\", \"plugin\", \"plugin\", \"plugin\", \"plugin\", \"plugins\", \"plugins\", \"plugins\", \"polarsys\", \"polarsys\", \"positive\", \"possible\", \"possible\", \"possible\", \"possible\", \"possible\", \"possible\", \"possible\", \"possible\", \"preference\", \"preference\", \"preference\", \"preference\", \"primary\", \"primary\", \"primitive\", \"println\", \"private\", \"private\", \"private\", \"problem\", \"problem\", \"problem\", \"problem\", \"problem\", \"problem\", \"problem\", \"problem\", \"problem\", \"problem\", \"process\", \"process\", \"process\", \"process\", \"process\", \"process\", \"process\", \"processcontents\", \"product\", \"product\", \"product\", \"product\", \"production\", \"production\", \"products\", \"products\", \"products\", \"products\", \"profile\", \"profile\", \"profile\", \"project\", \"project\", \"project\", \"project\", \"project\", \"project\", \"project\", \"promote\", \"property\", \"property\", \"property\", \"property\", \"property\", \"propose\", \"propose\", \"propose\", \"provide\", \"provide\", \"provide\", \"provide\", \"provide\", \"public\", \"public\", \"publisher\", \"publisher\", \"putall\", \"qualifier\", \"question\", \"question\", \"question\", \"question\", \"readanddispatch\", \"readme\", \"receive\", \"receive\", \"receive\", \"receive\", \"receive\", \"recommenders\", \"recommenders\", \"reconcile\", \"reconciler\", \"record\", \"record\", \"record\", \"record\", \"rectangle\", \"redundant\", \"refactoring\", \"refactoring\", \"refactoring\", \"refactoring\", \"reference\", \"reference\", \"reference\", \"reference\", \"reference\", \"reflect\", \"reflect\", \"reflect\", \"registry\", \"registry\", \"registry\", \"release\", \"release\", \"release\", \"releng\", \"releng\", \"remote\", \"remote\", \"remote\", \"remoting\", \"removal\", \"removal\", \"remove\", \"remove\", \"remove\", \"remove\", \"remove\", \"remove\", \"remove\", \"remove\", \"renderer\", \"renderers\", \"replace\", \"replace\", \"replace\", \"replace\", \"replace\", \"replaceall\", \"report\", \"report\", \"report\", \"report\", \"report\", \"report\", \"report\", \"report\", \"report\", \"report\", \"repositories\", \"repositories\", \"repositories\", \"repositories\", \"repository\", \"repository\", \"repository\", \"reproduce\", \"reproduce\", \"reproduce\", \"request\", \"request\", \"request\", \"request\", \"require\", \"require\", \"require\", \"require\", \"requirement\", \"resize\", \"resolve\", \"resolve\", \"resolve\", \"resolve\", \"resolve\", \"resolve\", \"resolve\", \"resource\", \"resource\", \"resource\", \"resources\", \"resources\", \"resources\", \"resources\", \"resources\", \"resources\", \"resources\", \"resources\", \"response\", \"response\", \"response\", \"response\", \"result\", \"result\", \"result\", \"result\", \"result\", \"result\", \"result\", \"result\", \"result\", \"result\", \"return\", \"return\", \"return\", \"review\", \"review\", \"rework\", \"runapplication\", \"runchild\", \"runner\", \"runner\", \"runner\", \"runner\", \"runners\", \"runtime\", \"runtime\", \"runtime\", \"runtime\", \"runtime\", \"runwithdefault\", \"safecreategui\", \"saferunner\", \"saferunner\", \"satisfy\", \"scopedhandler\", \"screen\", \"screenshot\", \"screenshots\", \"script\", \"script\", \"script\", \"script\", \"script\", \"scroll\", \"scrollbar\", \"search\", \"search\", \"search\", \"search\", \"search\", \"search\", \"search\", \"search\", \"secure\", \"security\", \"security\", \"security\", \"select\", \"select\", \"select\", \"select\", \"selection\", \"selection\", \"selection\", \"selector\", \"semantics\", \"sendevent\", \"sequence\", \"sequence\", \"serialize\", \"server\", \"server\", \"server\", \"server\", \"servers\", \"service\", \"service\", \"service\", \"service\", \"service\", \"service\", \"service\", \"serviceregistry\", \"servlet\", \"servlet\", \"settings\", \"settings\", \"settings\", \"settings\", \"settings\", \"shortcut\", \"silent\", \"sirius\", \"sirius\", \"snapshot\", \"snapshot\", \"snapshot\", \"snapshot\", \"snapshot\", \"snapshots\", \"snippet\", \"snippet\", \"snippet\", \"socket\", \"software\", \"software\", \"sonarcloud\", \"source\", \"source\", \"source\", \"source\", \"source\", \"source\", \"source\", \"source\", \"specific\", \"specific\", \"specific\", \"specific\", \"specific\", \"specific\", \"sphinx\", \"springframework\", \"square\", \"statement\", \"statements\", \"statements\", \"statet\", \"static\", \"statistics\", \"status\", \"status\", \"status\", \"status\", \"status\", \"status\", \"stereotype\", \"storage\", \"storage\", \"storage\", \"storage\", \"storage\", \"stream\", \"stream\", \"stream\", \"stream\", \"string\", \"stringbuffer\", \"stringbuilder\", \"struct\", \"subapp\", \"subscribe\", \"success\", \"success\", \"suggest\", \"suggest\", \"suggest\", \"suggest\", \"suggest\", \"suggestions\", \"support\", \"support\", \"support\", \"support\", \"support\", \"support\", \"surefire\", \"switch\", \"switch\", \"switch\", \"switch\", \"switch\", \"switch\", \"switch\", \"symbol\", \"syncexec\", \"synchronizer\", \"target\", \"target\", \"target\", \"target\", \"target\", \"template\", \"template\", \"template\", \"terminal\", \"terminal\", \"terminal\", \"ternary\", \"testresult\", \"testsuite\", \"testsuite\", \"texteditor\", \"thousand\", \"thread\", \"thread\", \"thread\", \"thread\", \"thread\", \"thread\", \"timeout\", \"toggle\", \"tomcat\", \"toolbar\", \"toolbar\", \"toolchain\", \"toolchains\", \"toolitem\", \"tooltip\", \"topics\", \"tostring\", \"tracecompass\", \"tracecompass\", \"transport\", \"transport\", \"travis\", \"treemap\", \"typedeclaration\", \"typedlistener\", \"typesystem\", \"underscore\", \"universal\", \"unnecessary\", \"unneeded\", \"unreachable\", \"upcoming\", \"update\", \"update\", \"update\", \"update\", \"update\", \"update\", \"update\", \"update\", \"upgrade\", \"upgrade\", \"upgrade\", \"upgrade\", \"upgrade\", \"upgrade\", \"upload\", \"upload\", \"upload\", \"usages\", \"useful\", \"useless\", \"username\", \"validate\", \"validate\", \"validate\", \"validate\", \"validation\", \"validation\", \"validation\", \"valueof\", \"variable\", \"variable\", \"verification\", \"version\", \"version\", \"version\", \"version\", \"version\", \"version\", \"version\", \"versioning\", \"versions\", \"versions\", \"versions\", \"versions\", \"versions\", \"viatra\", \"viewers\", \"vscode\", \"weblogic\", \"webmaster\", \"webservice\", \"website\", \"website\", \"webtools\", \"widget\", \"widget\", \"widgets\", \"wikitext\", \"wikitext\", \"window\", \"window\", \"window\", \"windowproc\", \"windows\", \"windows\", \"windows\", \"windows\", \"windows\", \"windows\", \"workbench\", \"workbenchpage\", \"worker\", \"worker\", \"workspace\", \"workspace\", \"workspace\", \"workspace\", \"workspace\", \"workspace\", \"workspace\", \"wrapper\", \"xerces\"]}, \"R\": 30, \"lambda.step\": 0.01, \"plot.opts\": {\"xlab\": \"PC1\", \"ylab\": \"PC2\"}, \"topic.order\": [1, 8, 3, 4, 9, 2, 5, 7, 6, 10]};\n",
              "\n",
              "function LDAvis_load_lib(url, callback){\n",
              "  var s = document.createElement('script');\n",
              "  s.src = url;\n",
              "  s.async = true;\n",
              "  s.onreadystatechange = s.onload = callback;\n",
              "  s.onerror = function(){console.warn(\"failed to load library \" + url);};\n",
              "  document.getElementsByTagName(\"head\")[0].appendChild(s);\n",
              "}\n",
              "\n",
              "if(typeof(LDAvis) !== \"undefined\"){\n",
              "   // already loaded: just create the visualization\n",
              "   !function(LDAvis){\n",
              "       new LDAvis(\"#\" + \"ldavis_el1291407095815834083485052054\", ldavis_el1291407095815834083485052054_data);\n",
              "   }(LDAvis);\n",
              "}else if(typeof define === \"function\" && define.amd){\n",
              "   // require.js is available: use it to load d3/LDAvis\n",
              "   require.config({paths: {d3: \"https://d3js.org/d3.v5\"}});\n",
              "   require([\"d3\"], function(d3){\n",
              "      window.d3 = d3;\n",
              "      LDAvis_load_lib(\"https://cdn.jsdelivr.net/gh/bmabey/pyLDAvis@3.4.0/pyLDAvis/js/ldavis.v3.0.0.js\", function(){\n",
              "        new LDAvis(\"#\" + \"ldavis_el1291407095815834083485052054\", ldavis_el1291407095815834083485052054_data);\n",
              "      });\n",
              "    });\n",
              "}else{\n",
              "    // require.js not available: dynamically load d3 & LDAvis\n",
              "    LDAvis_load_lib(\"https://d3js.org/d3.v5.js\", function(){\n",
              "         LDAvis_load_lib(\"https://cdn.jsdelivr.net/gh/bmabey/pyLDAvis@3.4.0/pyLDAvis/js/ldavis.v3.0.0.js\", function(){\n",
              "                 new LDAvis(\"#\" + \"ldavis_el1291407095815834083485052054\", ldavis_el1291407095815834083485052054_data);\n",
              "            })\n",
              "         });\n",
              "}\n",
              "</script>"
            ]
          },
          "metadata": {},
          "execution_count": 19
        }
      ]
    },
    {
      "cell_type": "code",
      "source": [
        "#Creating 10 empty clusters and pushing master reports in each of them based on topic modeling and saving them in individual csv file\n",
        "for c in range(10):\n",
        "    exec('topic_{} = pd.DataFrame()'.format(c))\n",
        "    for i in range(len(master_reports)):\n",
        "        topic=lda_model[dictionary.doc2bow(master_reports.Description[i])]\n",
        "        topic= np.asarray(topic)\n",
        "        if int(topic[np.argmax(topic[:,1]),0])== c:\n",
        "            exec('topic_{} = topic_{}.append(master_reports.loc[[i]])'.format(c,c))\n",
        "            exec('topic_{} = topic_{}.reset_index(drop=True)'.format(c,c))\n",
        "            exec('topic_{}.to_csv(\"topic_{}.csv\")'.format(c,c))"
      ],
      "metadata": {
        "id": "CrsYFPvuNPYK"
      },
      "execution_count": 20,
      "outputs": []
    },
    {
      "cell_type": "code",
      "source": [
        "#To Open Pickle File\n",
        "file_bow = open('eclipse_bow_corpus.pickle', 'rb')\n",
        "bow_corpus = pickle.load(file_bow)\n",
        "\n",
        "file_dict = open('eclipse_dictionary.pickle', 'rb')\n",
        "dictionary=pickle.load(file_dict)\n",
        "\n",
        "#To load Trained Model\n",
        "lda_model =  models.LdaModel.load('eclipse_lda_model.model')"
      ],
      "metadata": {
        "id": "FGrOGYa3NSJO"
      },
      "execution_count": 22,
      "outputs": []
    },
    {
      "cell_type": "code",
      "source": [
        "#To Create corpus for Word2Vec and FastText models\n",
        "for i in range(10):\n",
        "    exec('sent_{} = []'.format(i))\n",
        "    exec('x= topic_{}'.format(i))\n",
        "    for j in range(len(x)):\n",
        "        exec('sent_{}.append(topic_{}.Description[{}])'.format(i,i,j))\n",
        "\n",
        "for sent in range(10):\n",
        "    exec('print(len(sent_{}))'.format(sent))"
      ],
      "metadata": {
        "colab": {
          "base_uri": "https://localhost:8080/"
        },
        "id": "T64bkIl1OIWq",
        "outputId": "4a8c6b94-fad0-43a5-8fb1-ca6b3d3e806a"
      },
      "execution_count": 23,
      "outputs": [
        {
          "output_type": "stream",
          "name": "stdout",
          "text": [
            "2328\n",
            "5275\n",
            "7437\n",
            "8040\n",
            "4685\n",
            "2858\n",
            "5738\n",
            "2095\n",
            "3227\n",
            "1330\n"
          ]
        }
      ]
    },
    {
      "cell_type": "code",
      "source": [
        "#Training GloVe model for each cluster\n",
        "for cluster in range(10):\n",
        "    vector_size = 100\n",
        "    exec('glove_corpus{}=Corpus()'.format(cluster, cluster)) \n",
        "    exec('glove_corpus{}.fit(sent_{})'.format(cluster, cluster))\n",
        "    exec('glove{}= Glove(no_components=vector_size, learning_rate=0.18, alpha=0.75, max_count=100, max_loss=10.0, random_state=None)'.format(cluster, cluster))\n",
        "    exec('glove{}.fit(glove_corpus{}.matrix, epochs=200, no_threads=3, verbose=True)'.format(cluster, cluster))\n",
        "    exec('transformer = lambda dictionary2:glove{}.transform_paragraph(words, epochs=1000,ignore_missing=False)'.format(cluster, cluster))\n",
        "    exec('glove{}.add_dictionary(glove_corpus{}.dictionary)'.format(cluster, cluster))\n",
        "\n",
        "    #Save the all the models in individual file\n",
        "    exec('path = get_tmpfile(\"glove{}.model\")'.format(cluster))\n",
        "    exec('glove{}.save(\"glove{}.model\")'.format(cluster, cluster))"
      ],
      "metadata": {
        "id": "Jy7TvWMLNv_w"
      },
      "execution_count": 50,
      "outputs": []
    },
    {
      "cell_type": "markdown",
      "source": [
        "# **Classification**"
      ],
      "metadata": {
        "id": "edCLRlO7O2RE"
      }
    },
    {
      "cell_type": "code",
      "source": [
        "#To Import all the Clusters created using LDA based Topic Modeling\n",
        "for c in range(10):\n",
        "    exec('topic_{} = pd.read_csv(\"topic_{}.csv\")'.format(c,c))\n",
        "    exec(\"topic_{}= topic_{}.drop(columns=['Unnamed: 0'])\".format(c,c))\n",
        "    exec(\"topic_{}['Description'] = topic_{}['Description'].map(preprocess)\".format(c,c))"
      ],
      "metadata": {
        "id": "DxOIGsj5NyIz"
      },
      "execution_count": 25,
      "outputs": []
    },
    {
      "cell_type": "code",
      "source": [
        "#To Import all the trained GloVe models\n",
        "for mod in range(10):  \n",
        "    exec('glove{} = Glove.load(\"glove{}.model\")'.format(mod, mod))"
      ],
      "metadata": {
        "id": "nJF0u5RpPg_i"
      },
      "execution_count": 26,
      "outputs": []
    },
    {
      "cell_type": "code",
      "source": [
        "#This will return the index of cluster in which the master report of duplicate report may reside\n",
        "def sim_with_clusters_lda_topn(DR, n):\n",
        "    vec_bow = dictionary.doc2bow(DR)\n",
        "    x= lda_model[vec_bow]\n",
        "    topic = np.asarray(x)\n",
        "    sim=[]\n",
        "    x= topic[np.argsort(topic[:,1])[-n:][::-1],0]\n",
        "\n",
        "    for i in range(len(x)):\n",
        "        sim.append(int(x[i]))\n",
        "\n",
        "    return sim\n",
        "\n",
        "#To get Similarity between two feature vectors using the average of Cosine Similarity & Euclidean Similarity\n",
        "def sim(vec1, vec2): \n",
        "    sim1 = 1/(1+np.linalg.norm(np.array(vec1) - np.array(vec2)))\n",
        "    sim2 = cosine_similarity(vec1, vec2)\n",
        "    sim=(sim1+sim2)/2 \n",
        "    return sim"
      ],
      "metadata": {
        "id": "YdwkOSEvPlPx"
      },
      "execution_count": 27,
      "outputs": []
    },
    {
      "cell_type": "markdown",
      "source": [
        "# **LDA and GLOVE**"
      ],
      "metadata": {
        "id": "EpnKk2gLPzfy"
      }
    },
    {
      "cell_type": "code",
      "source": [
        "#Returns Top-N Master Reports\n",
        "def compare_topn(model, cluster, sent, DR, topn, modal):\n",
        "    similarity=[]\n",
        "    \n",
        "    if (modal == 'single'):\n",
        "        vec_duplicate, master= feature_vectors_single_modality(DR, sent, model)\n",
        "    else:\n",
        "        raise ValueError('Invalid Modality entered')\n",
        "\n",
        "    for doc in range(len(master)):\n",
        "        vec_master = master[doc]\n",
        "        vec_master= [vec_master]\n",
        "        unified_sim = sim(vec_duplicate, vec_master)\n",
        "        similarity.append(unified_sim)\n",
        "    \n",
        "    similarity = np.asarray(similarity)\n",
        "    similarity= np.concatenate(similarity, axis=0 )\n",
        "    similarity= np.concatenate(similarity, axis=0 )\n",
        "    max_similar_reports=similarity.argsort()[-topn:][::-1]\n",
        "\n",
        "    return(max_similar_reports)"
      ],
      "metadata": {
        "id": "w8TPjFd_PyTI"
      },
      "execution_count": 28,
      "outputs": []
    },
    {
      "cell_type": "code",
      "source": [
        "# creation of feature vectors by singlemodality feature extraction\n",
        "def feature_vectors_single_modality(DR, corpus, model):\n",
        "    master = averaged_word_vectorizer_glove(corpus=sent, model=model, num_features=100)\n",
        "\n",
        "    vec_duplicate = averaged_word_vectorizer_glove(corpus=DR, model=model, num_features=100)\n",
        "\n",
        "    vec_duplicate = [vec_duplicate]\n",
        "\n",
        "    return vec_duplicate, master\n",
        "\n",
        "def averaged_word_vectorizer_glove(corpus, model, num_features):\n",
        "    vocabulary = set(model.dictionary)\n",
        "    if(any(isinstance(i, list) for i in corpus)):\n",
        "        features = [average_word_vectors_glove(tokenized_sentence, model, vocabulary, num_features)\n",
        "                      for tokenized_sentence in corpus]\n",
        "        return np.array(features)\n",
        "    else:\n",
        "          features = average_word_vectors_glove(corpus, model, vocabulary, num_features)\n",
        "    return np.array(features)\n",
        "\n",
        "def average_word_vectors_glove(words, model, vocabulary, num_features):  \n",
        "    feature_vector = np.zeros((num_features,),dtype=\"float64\")\n",
        "    nwords = 0.  \n",
        "\n",
        "    for word in words:\n",
        "        if word in vocabulary: \n",
        "            nwords = nwords + 1.\n",
        "            feature_vector = np.add(feature_vector, model.word_vectors[model.dictionary[word]])\n",
        "\n",
        "    if nwords:\n",
        "        feature_vector = np.divide(feature_vector, nwords)\n",
        "        \n",
        "    return feature_vector"
      ],
      "metadata": {
        "id": "olzYGJuCP3R7"
      },
      "execution_count": 29,
      "outputs": []
    },
    {
      "cell_type": "markdown",
      "source": [
        "# Complete Data\n",
        "\n",
        "Determining the top-n values for the Recall Rate @ k"
      ],
      "metadata": {
        "id": "RqfoaGo6P8dP"
      }
    },
    {
      "cell_type": "code",
      "source": [
        "#Import Duplicate Reports\n",
        "test = pd.read_csv('eclipse_duplicate_reports.csv')\n",
        "test = test.drop(columns=['Unnamed: 0'])\n",
        "test['Description']= test['Description'].fillna('').astype(str).map(preprocess)\n",
        "test = test.rename(columns={'Bug ID':'Bug_ID'})\n",
        "\n",
        "#To Decide the Iterations\n",
        "number_of_samples = test.shape[0]\n",
        "\n",
        "if(number_of_samples > 200):\n",
        "  number_of_samples = 200"
      ],
      "metadata": {
        "id": "tyQCJE6kZnaq"
      },
      "execution_count": 30,
      "outputs": []
    },
    {
      "cell_type": "code",
      "source": [
        "#Evaluating the performance by Recall Rate\n",
        "def evaluate(vec_acc, t2, t1):\n",
        "  sum = 0\n",
        "  for i,num in enumerate(vec_acc):\n",
        "      sum = sum + int(num)\n",
        "  recall_rate = (sum/len(vec_acc))*100\n",
        "  print(\"Recall Rate : {} %\".format(recall_rate))\n",
        "  print(\"Time : \", (t2-t1)/60, \"min\")"
      ],
      "metadata": {
        "id": "XOntmWZcoQpi"
      },
      "execution_count": 31,
      "outputs": []
    },
    {
      "cell_type": "code",
      "source": [
        "#For k=1\n",
        "vec_acc_top1=[]\n",
        "t1_top1 = time.time()\n",
        "\n",
        "for i in range(number_of_samples):\n",
        "    print(f'\\rRunning sample {i}', end='')\n",
        "    sample = test.Description[i] \n",
        "    n = 1\n",
        "    max_cluster =sim_with_clusters_lda_topn(sample, n)\n",
        "    v=[]\n",
        "\n",
        "    for max in max_cluster:\n",
        "        exec('cluster = topic_{}'.format(max)) \n",
        "        exec('model = glove{}'.format(max))                \n",
        "        exec('sent = topic_{}.Description'.format(max))\n",
        "        \n",
        "        cluster = cluster.rename(columns={'Bug ID':'Bug_ID'})\n",
        "        topn = 1  \n",
        "        modal = 'single'                                 \n",
        "        \n",
        "        #This will return the Top-N predicted master reports\n",
        "        max_sim = compare_topn(model, cluster, sent, sample, topn, modal)\n",
        "        t2_top1 = time.time()\n",
        "\n",
        "        #Comparing the predicted value to the ground truth\n",
        "        for num in max_sim:\n",
        "            if (cluster.Bug_ID[num] == test.Duplicate_Bug_Ids[i]):\n",
        "                v.append(\"1\")\n",
        "            else:\n",
        "                v.append(\"0\")\n",
        "\n",
        "    if(all(x==v[0] for x in v)):\n",
        "        vec_acc_top1.append(\"0\")\n",
        "    else:\n",
        "        vec_acc_top1.append(\"1\")"
      ],
      "metadata": {
        "colab": {
          "base_uri": "https://localhost:8080/"
        },
        "id": "wU-r0jXhfFOP",
        "outputId": "00ae408f-8371-45c7-faaf-6672c025c401"
      },
      "execution_count": 32,
      "outputs": [
        {
          "output_type": "stream",
          "name": "stdout",
          "text": [
            "Running sample 199"
          ]
        }
      ]
    },
    {
      "cell_type": "code",
      "source": [
        "#For k=5\n",
        "vec_acc_top5=[]\n",
        "t1_top5 = time.time()\n",
        "\n",
        "for i in range(number_of_samples):\n",
        "    print(f'\\rRunning sample {i}', end='')\n",
        "    sample = test.Description[i] \n",
        "    n = 3\n",
        "    max_cluster =sim_with_clusters_lda_topn(sample, n)\n",
        "    v=[]\n",
        "\n",
        "    for max in max_cluster:\n",
        "        exec('cluster = topic_{}'.format(max)) \n",
        "        exec('model = glove{}'.format(max))                \n",
        "        exec('sent = topic_{}.Description'.format(max))\n",
        "        \n",
        "        cluster = cluster.rename(columns={'Bug ID':'Bug_ID'})\n",
        "        topn = 1 \n",
        "        modal = 'single'                                 \n",
        "        \n",
        "        #This will return the Top-N predicted master reports\n",
        "        max_sim = compare_topn(model, cluster, sent, sample, topn, modal)\n",
        "        t2_top5 = time.time()\n",
        "\n",
        "        #Comparing the predicted value to the ground truth\n",
        "        for num in max_sim:\n",
        "            if (cluster.Bug_ID[num] == test.Duplicate_Bug_Ids[i]):\n",
        "                v.append(\"1\")\n",
        "            else:\n",
        "                v.append(\"0\")\n",
        "\n",
        "    if(all(x==v[0] for x in v)):\n",
        "        vec_acc_top5.append(\"0\")\n",
        "    else:\n",
        "        vec_acc_top5.append(\"1\")"
      ],
      "metadata": {
        "colab": {
          "base_uri": "https://localhost:8080/"
        },
        "id": "3TGzhXLZpn69",
        "outputId": "683771c9-69d3-4002-ea77-1a79d1ed95ca"
      },
      "execution_count": 33,
      "outputs": [
        {
          "output_type": "stream",
          "name": "stdout",
          "text": [
            "Running sample 199"
          ]
        }
      ]
    },
    {
      "cell_type": "code",
      "source": [
        "#For k=10\n",
        "vec_acc_top10=[]\n",
        "t1_top10 = time.time()\n",
        "\n",
        "for i in range(number_of_samples):\n",
        "    print(f'\\rRunning sample {i}', end='')\n",
        "    sample = test.Description[i] \n",
        "    n = 3\n",
        "    max_cluster =sim_with_clusters_lda_topn(sample, n)\n",
        "    v=[]\n",
        "\n",
        "    for max in max_cluster:\n",
        "        exec('cluster = topic_{}'.format(max)) \n",
        "        exec('model = glove{}'.format(max))                \n",
        "        exec('sent = topic_{}.Description'.format(max))\n",
        "        \n",
        "        cluster = cluster.rename(columns={'Bug ID':'Bug_ID'})\n",
        "        topn = 3  \n",
        "        modal = 'single'                                 \n",
        "        \n",
        "        #This will return the Top-N predicted master reports\n",
        "        max_sim = compare_topn(model, cluster, sent, sample, topn, modal)\n",
        "        t2_top10 = time.time()\n",
        "\n",
        "        #Comparing the predicted value to the ground truth\n",
        "        for num in max_sim:\n",
        "            if (cluster.Bug_ID[num] == test.Duplicate_Bug_Ids[i]):\n",
        "                v.append(\"1\")\n",
        "            else:\n",
        "                v.append(\"0\")\n",
        "\n",
        "    if(all(x==v[0] for x in v)):\n",
        "        vec_acc_top10.append(\"0\")\n",
        "    else:\n",
        "        vec_acc_top10.append(\"1\")"
      ],
      "metadata": {
        "colab": {
          "base_uri": "https://localhost:8080/"
        },
        "id": "81ID20CTp3LX",
        "outputId": "b48c593e-6f77-430f-b201-b11fb61ebc98"
      },
      "execution_count": 34,
      "outputs": [
        {
          "output_type": "stream",
          "name": "stdout",
          "text": [
            "Running sample 199"
          ]
        }
      ]
    },
    {
      "cell_type": "code",
      "source": [
        "#For k=100\n",
        "vec_acc_top100=[]\n",
        "t1_top100 = time.time()\n",
        "\n",
        "for i in range(number_of_samples):\n",
        "    print(f'\\rRunning sample {i}', end='')\n",
        "    sample = test.Description[i] \n",
        "    n = 3\n",
        "    max_cluster =sim_with_clusters_lda_topn(sample, n)\n",
        "    v=[]\n",
        "\n",
        "    for max in max_cluster:\n",
        "        exec('cluster = topic_{}'.format(max)) \n",
        "        exec('model = glove{}'.format(max))                \n",
        "        exec('sent = topic_{}.Description'.format(max))\n",
        "        \n",
        "        cluster = cluster.rename(columns={'Bug ID':'Bug_ID'})\n",
        "        topn = 33   \n",
        "        modal = 'single'                                 \n",
        "        \n",
        "        #This will return the Top-N predicted master reports\n",
        "        max_sim = compare_topn(model, cluster, sent, sample, topn, modal)\n",
        "        t2_top100 = time.time()\n",
        "\n",
        "        #Comparing the predicted value to the ground truth\n",
        "        for num in max_sim:\n",
        "            if (cluster.Bug_ID[num] == test.Duplicate_Bug_Ids[i]):\n",
        "                v.append(\"1\")\n",
        "            else:\n",
        "                v.append(\"0\")\n",
        "\n",
        "    if(all(x==v[0] for x in v)):\n",
        "        vec_acc_top100.append(\"0\")\n",
        "    else:\n",
        "        vec_acc_top100.append(\"1\")"
      ],
      "metadata": {
        "colab": {
          "base_uri": "https://localhost:8080/"
        },
        "id": "Hc4wxJ7pqC3N",
        "outputId": "efe3f9f5-810b-4fa5-a804-2154f0d7efd6"
      },
      "execution_count": 35,
      "outputs": [
        {
          "output_type": "stream",
          "name": "stdout",
          "text": [
            "Running sample 199"
          ]
        }
      ]
    },
    {
      "cell_type": "code",
      "source": [
        "print('For k=1')\n",
        "evaluate(vec_acc_top1, t2_top1, t1_top1)\n",
        "\n",
        "print('\\nFor k=5')\n",
        "evaluate(vec_acc_top5, t2_top5, t1_top5)\n",
        "\n",
        "print('\\nFor k=10')\n",
        "evaluate(vec_acc_top10, t2_top10, t1_top10)\n",
        "\n",
        "print('\\nFor k=100')\n",
        "evaluate(vec_acc_top100, t2_top100, t1_top100)"
      ],
      "metadata": {
        "colab": {
          "base_uri": "https://localhost:8080/"
        },
        "id": "YFL6LJLNjRcj",
        "outputId": "d1c5dc28-0cd5-4781-c4a7-05e97509cd27"
      },
      "execution_count": 36,
      "outputs": [
        {
          "output_type": "stream",
          "name": "stdout",
          "text": [
            "For k=1\n",
            "Recall Rate : 0.0 %\n",
            "Time :  7.7113856196403505 min\n",
            "\n",
            "For k=5\n",
            "Recall Rate : 7.5 %\n",
            "Time :  21.24055993159612 min\n",
            "\n",
            "For k=10\n",
            "Recall Rate : 9.5 %\n",
            "Time :  21.13537961244583 min\n",
            "\n",
            "For k=100\n",
            "Recall Rate : 15.5 %\n",
            "Time :  21.02414633433024 min\n"
          ]
        }
      ]
    },
    {
      "cell_type": "markdown",
      "source": [
        "# Textually Similar Data\n",
        "\n",
        "Determining the top-n values for the Recall Rate @ k"
      ],
      "metadata": {
        "id": "AeHfgskBr4eb"
      }
    },
    {
      "cell_type": "code",
      "source": [
        "#Import Textually Similar Data\n",
        "test_sim = pd.read_csv('/content/drive/Shareddrives/DSCI-644-Team-5/PreProcessedData/eclipse_final_sim.csv')\n",
        "\n",
        "#Cleaning the Data\n",
        "test_sim = test_sim.drop(columns=['Unnamed: 0'])\n",
        "test_sim['Description']= test_sim['Description'].fillna('').astype(str).map(preprocess)\n",
        "test_sim.replace(\"\", np.nan, inplace=True)\n",
        "test_sim.dropna(subset = [\"Duplicate_Bug_Ids\"], inplace=True)\n",
        "test_sim = test_sim.reset_index(drop=True)\n",
        "\n",
        "#To Decide the Iterations\n",
        "number_of_samples_sim = test_sim.shape[0]\n",
        "\n",
        "if(number_of_samples_sim > 200):\n",
        "  number_of_samples_sim = 200"
      ],
      "metadata": {
        "id": "-D58P1BsPG2M"
      },
      "execution_count": 38,
      "outputs": []
    },
    {
      "cell_type": "code",
      "source": [
        "#For k=1\n",
        "vec_acc_top1_sim=[]\n",
        "t1_top1_sim = time.time()\n",
        "\n",
        "for i in range(number_of_samples_sim):\n",
        "    print(f'\\rRunning sample {i}', end='')\n",
        "    sample = test_sim.Description[i] \n",
        "    n = 1\n",
        "    max_cluster =sim_with_clusters_lda_topn(sample, n)\n",
        "    v=[]\n",
        "\n",
        "    for max in max_cluster:\n",
        "        exec('cluster = topic_{}'.format(max)) \n",
        "        exec('model = glove{}'.format(max))                \n",
        "        exec('sent = topic_{}.Description'.format(max))\n",
        "      \n",
        "        cluster = cluster.rename(columns={'Bug ID':'Bug_ID'})\n",
        "        topn = 1   \n",
        "        modal = 'single'                                 \n",
        "        \n",
        "        #This will return the Top-N predicted master reports\n",
        "        max_sim = compare_topn(model, cluster, sent, sample, topn, modal)\n",
        "        t2_top1_sim = time.time()\n",
        "\n",
        "        #Comparing the predicted value to the ground truth\n",
        "        for num in max_sim:\n",
        "            if (cluster.Bug_ID[num] == test_sim.Duplicate_Bug_Ids[i]):\n",
        "                v.append(\"1\")\n",
        "            else:\n",
        "                v.append(\"0\")\n",
        "\n",
        "    if(all(x==v[0] for x in v)):\n",
        "        vec_acc_top1_sim.append(\"0\")\n",
        "    else:\n",
        "        vec_acc_top1_sim.append(\"1\")"
      ],
      "metadata": {
        "colab": {
          "base_uri": "https://localhost:8080/"
        },
        "id": "6RDaBg1tglW4",
        "outputId": "38c5044e-38b2-407b-d344-6f9393809b1f"
      },
      "execution_count": 39,
      "outputs": [
        {
          "output_type": "stream",
          "name": "stdout",
          "text": [
            "Running sample 199"
          ]
        }
      ]
    },
    {
      "cell_type": "code",
      "source": [
        "#For k=5\n",
        "vec_acc_top5_sim=[]\n",
        "t1_top5_sim = time.time()\n",
        "\n",
        "for i in range(number_of_samples_sim):\n",
        "    print(f'\\rRunning sample {i}', end='')\n",
        "    sample = test_sim.Description[i]\n",
        "    n = 3\n",
        "    max_cluster =sim_with_clusters_lda_topn(sample, n)\n",
        "    v=[]\n",
        "\n",
        "    for max in max_cluster:\n",
        "        exec('cluster = topic_{}'.format(max))             \n",
        "        exec('model = glove{}'.format(max))                \n",
        "        exec('sent = topic_{}.Description'.format(max))     \n",
        "        \n",
        "        cluster = cluster.rename(columns={'Bug ID':'Bug_ID'})\n",
        "        topn = 1           \n",
        "        modal = 'single'        \n",
        "        \n",
        "        #This will return the Top-N predicted master reports\n",
        "        max_sim = compare_topn(model, cluster, sent, sample, topn, modal)\n",
        "        t2_top5_sim = time.time()\n",
        "\n",
        "        #Comparing the predicted value to the ground truth\n",
        "        for num in max_sim:\n",
        "            if (cluster.Bug_ID[num] == test_sim.Duplicate_Bug_Ids[i]):\n",
        "                v.append(\"1\")\n",
        "            else:\n",
        "                v.append(\"0\")\n",
        "\n",
        "    if(all(x==v[0] for x in v)):\n",
        "        vec_acc_top5_sim.append(\"0\")\n",
        "    else:\n",
        "        vec_acc_top5_sim.append(\"1\")"
      ],
      "metadata": {
        "colab": {
          "base_uri": "https://localhost:8080/"
        },
        "id": "r32ErU6uwPtO",
        "outputId": "0a28a9ba-55c0-44fa-93be-4744d0c2168b"
      },
      "execution_count": 40,
      "outputs": [
        {
          "output_type": "stream",
          "name": "stdout",
          "text": [
            "Running sample 199"
          ]
        }
      ]
    },
    {
      "cell_type": "code",
      "source": [
        "#For k=10\n",
        "vec_acc_top10_sim=[]\n",
        "t1_top10_sim = time.time()\n",
        "\n",
        "for i in range(number_of_samples_sim):\n",
        "    print(f'\\rRunning sample {i}', end='')\n",
        "    sample = test_sim.Description[i] \n",
        "    n = 3\n",
        "    max_cluster =sim_with_clusters_lda_topn(sample, n)\n",
        "    v=[]\n",
        "\n",
        "    for max in max_cluster:\n",
        "        exec('cluster = topic_{}'.format(max))              \n",
        "        exec('model = glove{}'.format(max))               \n",
        "        exec('sent = topic_{}.Description'.format(max))    \n",
        "        \n",
        "        cluster = cluster.rename(columns={'Bug ID':'Bug_ID'})\n",
        "        topn = 3          \n",
        "        modal = 'single'                                    \n",
        "        \n",
        "        #This will return the Top-N predicted master reports\n",
        "        max_sim = compare_topn(model, cluster, sent, sample, topn, modal)\n",
        "        t2_top10_sim = time.time()\n",
        "\n",
        "        #Comparing the predicted value to the ground truth\n",
        "        for num in max_sim:\n",
        "            if (cluster.Bug_ID[num] == test_sim.Duplicate_Bug_Ids[i]):\n",
        "                v.append(\"1\")\n",
        "            else:\n",
        "                v.append(\"0\")\n",
        "\n",
        "    if(all(x==v[0] for x in v)):\n",
        "        vec_acc_top10_sim.append(\"0\")\n",
        "    else:\n",
        "        vec_acc_top10_sim.append(\"1\")"
      ],
      "metadata": {
        "colab": {
          "base_uri": "https://localhost:8080/"
        },
        "id": "GgKgKY_cwsn7",
        "outputId": "2f2303e6-1493-4611-8cdd-6ac8054c79d5"
      },
      "execution_count": 41,
      "outputs": [
        {
          "output_type": "stream",
          "name": "stdout",
          "text": [
            "Running sample 199"
          ]
        }
      ]
    },
    {
      "cell_type": "code",
      "source": [
        "#For k=100\n",
        "vec_acc_top100_sim=[]\n",
        "t1_top100_sim = time.time()\n",
        "\n",
        "for i in range(number_of_samples_sim):\n",
        "    print(f'\\rRunning sample {i}', end='')\n",
        "    sample = test_sim.Description[i]\n",
        "    n = 3\n",
        "    max_cluster =sim_with_clusters_lda_topn(sample, n)\n",
        "    v=[]\n",
        "\n",
        "    for max in max_cluster:\n",
        "        exec('cluster = topic_{}'.format(max))              \n",
        "        exec('model = glove{}'.format(max))               \n",
        "        exec('sent = topic_{}.Description'.format(max))     \n",
        "        \n",
        "        cluster = cluster.rename(columns={'Bug ID':'Bug_ID'})\n",
        "        topn = 33          \n",
        "        modal = 'single'    \n",
        "\n",
        "        #This will return the Top-N predicted master reports\n",
        "        max_sim = compare_topn(model, cluster, sent, sample, topn, modal)\n",
        "        t2_top100_sim = time.time()\n",
        "\n",
        "        #Comparing the predicted value to the ground truth\n",
        "        for num in max_sim:\n",
        "            if (cluster.Bug_ID[num] == test_sim.Duplicate_Bug_Ids[i]):\n",
        "                v.append(\"1\")\n",
        "            else:\n",
        "                v.append(\"0\")\n",
        "\n",
        "    if(all(x==v[0] for x in v)):\n",
        "        vec_acc_top100_sim.append(\"0\")\n",
        "    else:\n",
        "        vec_acc_top100_sim.append(\"1\")"
      ],
      "metadata": {
        "colab": {
          "base_uri": "https://localhost:8080/"
        },
        "id": "GheBGogUxA0O",
        "outputId": "ca621ed0-2f2f-4a55-fa49-87bc47751b1e"
      },
      "execution_count": 42,
      "outputs": [
        {
          "output_type": "stream",
          "name": "stdout",
          "text": [
            "Running sample 199"
          ]
        }
      ]
    },
    {
      "cell_type": "code",
      "source": [
        "print('For k=1')\n",
        "evaluate(vec_acc_top1_sim, t2_top1_sim, t1_top1_sim)\n",
        "\n",
        "print('\\nFor k=5')\n",
        "evaluate(vec_acc_top5_sim, t2_top5_sim, t1_top5_sim)\n",
        "\n",
        "print('\\nFor k=10')\n",
        "evaluate(vec_acc_top10_sim, t2_top10_sim, t1_top10_sim)\n",
        "\n",
        "print('\\nFor k=100')\n",
        "evaluate(vec_acc_top100_sim, t2_top100_sim, t1_top100_sim)"
      ],
      "metadata": {
        "colab": {
          "base_uri": "https://localhost:8080/"
        },
        "id": "m9Wsh8cYu7QE",
        "outputId": "b48529dd-300a-4529-9324-fdacf52760f5"
      },
      "execution_count": 43,
      "outputs": [
        {
          "output_type": "stream",
          "name": "stdout",
          "text": [
            "For k=1\n",
            "Recall Rate : 0.0 %\n",
            "Time :  6.163674660523733 min\n",
            "\n",
            "For k=5\n",
            "Recall Rate : 9.0 %\n",
            "Time :  19.13568847179413 min\n",
            "\n",
            "For k=10\n",
            "Recall Rate : 13.5 %\n",
            "Time :  19.014440707365672 min\n",
            "\n",
            "For k=100\n",
            "Recall Rate : 20.0 %\n",
            "Time :  19.117087312539418 min\n"
          ]
        }
      ]
    },
    {
      "cell_type": "markdown",
      "source": [
        "# Textually Dissimilar Data\n",
        "\n",
        "Determining the top-n values for the Recall Rate @ k"
      ],
      "metadata": {
        "id": "3yYy3RIVPdH2"
      }
    },
    {
      "cell_type": "code",
      "source": [
        "#Import Textually Similar Data\n",
        "test_dissim = pd.read_csv('/content/drive/Shareddrives/DSCI-644-Team-5/PreProcessedData/eclipse_final_dis.csv')\n",
        "\n",
        "#Cleaning the Data\n",
        "test_dissim = test_dissim.drop(columns=['Unnamed: 0'])\n",
        "test_dissim['Description']= test_dissim['Description'].fillna('').astype(str).map(preprocess)\n",
        "test_dissim.replace(\"\", np.nan, inplace=True)\n",
        "test_dissim.dropna(subset = [\"Duplicate_Bug_Ids\"], inplace=True)\n",
        "test_dissim = test_dissim.reset_index(drop=True)\n",
        "\n",
        "#To Decide the Iterations\n",
        "number_of_samples_dis = test_dissim.shape[0]\n",
        "\n",
        "if(number_of_samples_dis > 200):\n",
        "  number_of_samples_dis = 200"
      ],
      "metadata": {
        "id": "0XwLRct5PdzU"
      },
      "execution_count": 44,
      "outputs": []
    },
    {
      "cell_type": "code",
      "source": [
        "#For k=1\n",
        "vec_acc_top1_dis=[]\n",
        "t1_top1_dis = time.time()\n",
        "\n",
        "for i in range(number_of_samples_dis):\n",
        "    print(f'\\rRunning sample {i}', end='')\n",
        "    sample = test_dissim.Description[i] \n",
        "    n = 1\n",
        "    max_cluster =sim_with_clusters_lda_topn(sample, n)\n",
        "    v=[]\n",
        "    \n",
        "    for max in max_cluster:\n",
        "        exec('cluster = topic_{}'.format(max))              \n",
        "        exec('model = glove{}'.format(max))               \n",
        "        exec('sent = topic_{}.Description'.format(max))     \n",
        "        \n",
        "        cluster = cluster.rename(columns={'Bug ID':'Bug_ID'})\n",
        "        topn = 1              \n",
        "        modal = 'single'                                    \n",
        "        \n",
        "        #This will return the Top-N predicted master reports\n",
        "        max_sim = compare_topn(model, cluster, sent, sample, topn, modal)\n",
        "        t2_top1_dis = time.time()\n",
        "\n",
        "        #Comparing the predicted value to the ground truth\n",
        "        for num in max_sim:\n",
        "            if (cluster.Bug_ID[num] == test_dissim.Duplicate_Bug_Ids[i]):\n",
        "                v.append(\"1\")\n",
        "            else:\n",
        "                v.append(\"0\")\n",
        "\n",
        "    if(all(x==v[0] for x in v)):\n",
        "        vec_acc_top1_dis.append(\"0\")\n",
        "    else:\n",
        "        vec_acc_top1_dis.append(\"1\")"
      ],
      "metadata": {
        "colab": {
          "base_uri": "https://localhost:8080/"
        },
        "id": "isHWj_qI25_d",
        "outputId": "fe5439c3-9523-413a-a8cc-9d68b88ae477"
      },
      "execution_count": 45,
      "outputs": [
        {
          "output_type": "stream",
          "name": "stdout",
          "text": [
            "Running sample 199"
          ]
        }
      ]
    },
    {
      "cell_type": "code",
      "source": [
        "#For k=5\n",
        "vec_acc_top5_dis=[]\n",
        "t1_top5_dis = time.time()\n",
        "\n",
        "for i in range(number_of_samples_dis):\n",
        "    print(f'\\rRunning sample {i}', end='')\n",
        "    sample = test_dissim.Description[i] \n",
        "    n = 3\n",
        "    max_cluster =sim_with_clusters_lda_topn(sample, n)\n",
        "    v=[]\n",
        "\n",
        "    for max in max_cluster:\n",
        "        exec('cluster = topic_{}'.format(max))                       \n",
        "        exec('model = glove{}'.format(max))                \n",
        "        exec('sent = topic_{}.Description'.format(max))     \n",
        "        \n",
        "        cluster = cluster.rename(columns={'Bug ID':'Bug_ID'})\n",
        "        topn = 1          \n",
        "        modal = 'single'                                    \n",
        "        \n",
        "        #This will return the Top-N predicted master reports\n",
        "        max_sim = compare_topn(model, cluster, sent, sample, topn, modal)\n",
        "        t2_top5_dis = time.time()\n",
        "\n",
        "        #Comparing the predicted value to the ground truth\n",
        "        for num in max_sim:\n",
        "            if (cluster.Bug_ID[num] == test_dissim.Duplicate_Bug_Ids[i]):\n",
        "                v.append(\"1\")\n",
        "            else:\n",
        "                v.append(\"0\")\n",
        "\n",
        "    if(all(x==v[0] for x in v)):\n",
        "        vec_acc_top5_dis.append(\"0\")\n",
        "    else:\n",
        "        vec_acc_top5_dis.append(\"1\")"
      ],
      "metadata": {
        "colab": {
          "base_uri": "https://localhost:8080/"
        },
        "id": "aChnGZGa4y4T",
        "outputId": "4eaebf53-e92e-4098-d554-7e79224ed7fa"
      },
      "execution_count": 46,
      "outputs": [
        {
          "output_type": "stream",
          "name": "stdout",
          "text": [
            "Running sample 199"
          ]
        }
      ]
    },
    {
      "cell_type": "code",
      "source": [
        "#For k=10\n",
        "vec_acc_top10_dis=[]\n",
        "t1_top10_dis = time.time()\n",
        "\n",
        "for i in range(number_of_samples_dis):\n",
        "    print(f'\\rRunning sample {i}', end='')\n",
        "    sample = test_dissim.Description[i] \n",
        "    n = 3\n",
        "    max_cluster =sim_with_clusters_lda_topn(sample, n)\n",
        "    v=[]\n",
        "\n",
        "    for max in max_cluster:\n",
        "        exec('cluster = topic_{}'.format(max))                         \n",
        "        exec('model = glove{}'.format(max))                \n",
        "        exec('sent = topic_{}.Description'.format(max))     \n",
        "        \n",
        "        cluster = cluster.rename(columns={'Bug ID':'Bug_ID'})\n",
        "        topn = 3      \n",
        "        modal = 'single'                                  \n",
        "        \n",
        "        #This will return the Top-N predicted master reports\n",
        "        max_sim = compare_topn(model, cluster, sent, sample, topn, modal)\n",
        "        t2_top10_dis = time.time()\n",
        "\n",
        "        #Comparing the predicted value to the ground truth\n",
        "        for num in max_sim:\n",
        "            if (cluster.Bug_ID[num] == test_dissim.Duplicate_Bug_Ids[i]):\n",
        "                v.append(\"1\")\n",
        "            else:\n",
        "                v.append(\"0\")\n",
        "\n",
        "    if(all(x==v[0] for x in v)):\n",
        "        vec_acc_top10_dis.append(\"0\")\n",
        "    else:\n",
        "        vec_acc_top10_dis.append(\"1\")"
      ],
      "metadata": {
        "colab": {
          "base_uri": "https://localhost:8080/"
        },
        "id": "tqbDuoBy5xF-",
        "outputId": "0e630ee2-359d-4256-c1f8-c132c8e6bc73"
      },
      "execution_count": 47,
      "outputs": [
        {
          "output_type": "stream",
          "name": "stdout",
          "text": [
            "Running sample 199"
          ]
        }
      ]
    },
    {
      "cell_type": "code",
      "source": [
        "#For k=100\n",
        "vec_acc_top100_dis=[]\n",
        "t1_top100_dis = time.time()\n",
        "\n",
        "for i in range(number_of_samples_dis):\n",
        "    print(f'\\rRunning sample {i}', end='')\n",
        "    sample = test_dissim.Description[i] \n",
        "    n = 3\n",
        "    max_cluster =sim_with_clusters_lda_topn(sample, n)\n",
        "    v=[]\n",
        "\n",
        "    for max in max_cluster:\n",
        "        exec('cluster = topic_{}'.format(max))                \n",
        "        exec('model = glove{}'.format(max))               \n",
        "        exec('sent = topic_{}.Description'.format(max))    \n",
        "        \n",
        "        cluster = cluster.rename(columns={'Bug ID':'Bug_ID'})\n",
        "        topn = 33         \n",
        "        modal = 'single'                                   \n",
        "        \n",
        "        #This will return the Top-N predicted master reports\n",
        "        max_sim = compare_topn(model, cluster, sent, sample, topn, modal)\n",
        "        t2_top100_dis = time.time()\n",
        "\n",
        "        #Comparing the predicted value to the ground truth\n",
        "        for num in max_sim:\n",
        "            if (cluster.Bug_ID[num] == test_dissim.Duplicate_Bug_Ids[i]):\n",
        "                v.append(\"1\")\n",
        "            else:\n",
        "                v.append(\"0\")\n",
        "\n",
        "    if(all(x==v[0] for x in v)):\n",
        "        vec_acc_top100_dis.append(\"0\")\n",
        "    else:\n",
        "        vec_acc_top100_dis.append(\"1\")"
      ],
      "metadata": {
        "colab": {
          "base_uri": "https://localhost:8080/"
        },
        "id": "qi-tC3Nd6y0g",
        "outputId": "ec87f6fa-5d89-4d6c-93ed-9bc9381c0d03"
      },
      "execution_count": 48,
      "outputs": [
        {
          "output_type": "stream",
          "name": "stdout",
          "text": [
            "Running sample 199"
          ]
        }
      ]
    },
    {
      "cell_type": "code",
      "source": [
        "print('For k=1')\n",
        "evaluate(vec_acc_top1_dis, t2_top1_dis, t1_top1_dis)\n",
        "\n",
        "print('\\nFor k=5')\n",
        "evaluate(vec_acc_top5_dis, t2_top5_dis, t1_top5_dis)\n",
        "\n",
        "print('\\nFor k=10')\n",
        "evaluate(vec_acc_top10_dis, t2_top10_dis, t1_top10_dis)\n",
        "\n",
        "print('\\nFor k=100')\n",
        "evaluate(vec_acc_top100_dis, t2_top100_dis, t1_top100_dis)"
      ],
      "metadata": {
        "colab": {
          "base_uri": "https://localhost:8080/"
        },
        "id": "XPdfuaKm4r1M",
        "outputId": "5c0f539c-8f23-44ad-cdde-a79c79361436"
      },
      "execution_count": 49,
      "outputs": [
        {
          "output_type": "stream",
          "name": "stdout",
          "text": [
            "For k=1\n",
            "Recall Rate : 0.0 %\n",
            "Time :  8.604792694250742 min\n",
            "\n",
            "For k=5\n",
            "Recall Rate : 5.5 %\n",
            "Time :  23.08441285689672 min\n",
            "\n",
            "For k=10\n",
            "Recall Rate : 8.5 %\n",
            "Time :  23.032829546928404 min\n",
            "\n",
            "For k=100\n",
            "Recall Rate : 15.5 %\n",
            "Time :  22.9544872601827 min\n"
          ]
        }
      ]
    }
  ]
}