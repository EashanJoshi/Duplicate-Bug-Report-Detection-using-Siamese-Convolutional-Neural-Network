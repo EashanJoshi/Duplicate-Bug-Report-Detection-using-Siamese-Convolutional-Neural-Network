{
 "cells": [
  {
   "cell_type": "code",
   "execution_count": 1,
   "id": "99aa50c9",
   "metadata": {},
   "outputs": [
    {
     "name": "stderr",
     "output_type": "stream",
     "text": [
      "[nltk_data] Downloading package stopwords to\n",
      "[nltk_data]     C:\\Users\\comka\\AppData\\Roaming\\nltk_data...\n",
      "[nltk_data]   Package stopwords is already up-to-date!\n",
      "[nltk_data] Downloading package wordnet to\n",
      "[nltk_data]     C:\\Users\\comka\\AppData\\Roaming\\nltk_data...\n",
      "[nltk_data]   Package wordnet is already up-to-date!\n"
     ]
    }
   ],
   "source": [
    "import pandas as pd\n",
    "\n",
    "import numpy as np\n",
    "np.random.seed(0)\n",
    "\n",
    "import seaborn as sns; \n",
    "sns.set_theme()\n",
    "\n",
    "import matplotlib.pyplot as plt\n",
    "from matplotlib import pyplot\n",
    "\n",
    "import nltk\n",
    "from nltk.corpus import stopwords\n",
    "from nltk import word_tokenize\n",
    "from nltk.stem import WordNetLemmatizer, SnowballStemmer\n",
    "from nltk.stem.porter import *\n",
    "from nltk.stem import PorterStemmer\n",
    "nltk.download('stopwords')\n",
    "nltk.download('wordnet')\n",
    "\n",
    "import gensim\n",
    "from gensim.utils import simple_preprocess\n",
    "from gensim.parsing.preprocessing import STOPWORDS\n",
    "\n",
    "import pickle\n",
    "import requests\n",
    "import json\n",
    "import urllib.request\n",
    "import time\n",
    "import re\n",
    "import itertools\n",
    "import statistics\n",
    "import random\n",
    "\n",
    "import warnings\n",
    "warnings.filterwarnings('ignore')\n",
    "\n",
    "import os\n",
    "os.environ['CUDA_VISIBLE_DEVICES'] = '-1'\n",
    "\n",
    "from typing import List, Dict, Tuple, Set\n",
    "from bs4 import BeautifulSoup\n",
    "\n",
    "import sklearn\n",
    "from sklearn.model_selection import train_test_split\n",
    "from sklearn.feature_extraction.text import TfidfVectorizer\n",
    "from sklearn.metrics.pairwise import cosine_similarity\n",
    "from sklearn.datasets import make_circles\n",
    "from sklearn.metrics import accuracy_score\n",
    "from sklearn.metrics import precision_score\n",
    "from sklearn.metrics import recall_score\n",
    "from sklearn.metrics import f1_score\n",
    "from sklearn.metrics import cohen_kappa_score\n",
    "from sklearn.metrics import roc_auc_score\n",
    "from sklearn.metrics import confusion_matrix\n",
    "from sklearn.metrics import classification_report\n",
    "from sklearn.metrics import roc_curve\n",
    "import sklearn.metrics as metrics\n",
    "from sklearn.datasets import make_classification\n",
    "\n",
    "from datetime import datetime\n",
    "from scipy.stats import skew\n",
    "\n",
    "from keras.models import Sequential\n",
    "from keras.layers import Dense\n",
    "from keras.initializers import Constant\n",
    "from keras.layers.preprocessing.text_vectorization import TextVectorization\n",
    "from keras.utils.vis_utils import plot_model\n",
    "\n",
    "import tensorflow as tf\n",
    "import tensorflow.keras.utils as kutils\n",
    "from tensorflow.keras import layers\n",
    "from tensorflow.keras import models\n",
    "from tensorflow.keras import callbacks\n",
    "\n",
    "from collections import Counter\n",
    "from imblearn.over_sampling import RandomOverSampler "
   ]
  },
  {
   "cell_type": "code",
   "execution_count": 2,
   "id": "14290a65",
   "metadata": {},
   "outputs": [
    {
     "name": "stdout",
     "output_type": "stream",
     "text": [
      "Dimensions of Training Dataset:  (31611, 4)\n"
     ]
    },
    {
     "data": {
      "text/html": [
       "<div>\n",
       "<style scoped>\n",
       "    .dataframe tbody tr th:only-of-type {\n",
       "        vertical-align: middle;\n",
       "    }\n",
       "\n",
       "    .dataframe tbody tr th {\n",
       "        vertical-align: top;\n",
       "    }\n",
       "\n",
       "    .dataframe thead th {\n",
       "        text-align: right;\n",
       "    }\n",
       "</style>\n",
       "<table border=\"1\" class=\"dataframe\">\n",
       "  <thead>\n",
       "    <tr style=\"text-align: right;\">\n",
       "      <th></th>\n",
       "      <th>Unnamed: 0</th>\n",
       "      <th>description1</th>\n",
       "      <th>description2</th>\n",
       "      <th>is_similar</th>\n",
       "    </tr>\n",
       "  </thead>\n",
       "  <tbody>\n",
       "    <tr>\n",
       "      <th>0</th>\n",
       "      <td>0</td>\n",
       "      <td>created attachment   fandango com after sign...</td>\n",
       "      <td>user agent  mozilla       gecko   firefox   ...</td>\n",
       "      <td>0</td>\n",
       "    </tr>\n",
       "    <tr>\n",
       "      <th>1</th>\n",
       "      <td>1</td>\n",
       "      <td>created attachment   dropdown marker        ...</td>\n",
       "      <td>user agent  mozilla       gecko   firefox   ...</td>\n",
       "      <td>1</td>\n",
       "    </tr>\n",
       "    <tr>\n",
       "      <th>2</th>\n",
       "      <td>3</td>\n",
       "      <td>this bug was initially created as a clon...</td>\n",
       "      <td>note  i am very bad at filing bugs  so i apo...</td>\n",
       "      <td>0</td>\n",
       "    </tr>\n",
       "    <tr>\n",
       "      <th>3</th>\n",
       "      <td>4</td>\n",
       "      <td>currently in policies  we have two function ...</td>\n",
       "      <td>filed by    ncsoregi  at  mozilla com   pa...</td>\n",
       "      <td>0</td>\n",
       "    </tr>\n",
       "    <tr>\n",
       "      <th>4</th>\n",
       "      <td>5</td>\n",
       "      <td>remove bottom margin on image wrapper for ...</td>\n",
       "      <td>there s only a few tests remaining in browse...</td>\n",
       "      <td>0</td>\n",
       "    </tr>\n",
       "  </tbody>\n",
       "</table>\n",
       "</div>"
      ],
      "text/plain": [
       "   Unnamed: 0                                       description1  \\\n",
       "0           0    created attachment   fandango com after sign...   \n",
       "1           1    created attachment   dropdown marker        ...   \n",
       "2           3        this bug was initially created as a clon...   \n",
       "3           4    currently in policies  we have two function ...   \n",
       "4           5      remove bottom margin on image wrapper for ...   \n",
       "\n",
       "                                        description2  is_similar  \n",
       "0    user agent  mozilla       gecko   firefox   ...           0  \n",
       "1    user agent  mozilla       gecko   firefox   ...           1  \n",
       "2    note  i am very bad at filing bugs  so i apo...           0  \n",
       "3      filed by    ncsoregi  at  mozilla com   pa...           0  \n",
       "4    there s only a few tests remaining in browse...           0  "
      ]
     },
     "execution_count": 2,
     "metadata": {},
     "output_type": "execute_result"
    }
   ],
   "source": [
    "train_firefox_df = pd.read_csv('../../PreProcessedData/Firefox/Firefox_siamese_train_preprocessed.csv')\n",
    "\n",
    "print('Dimensions of Training Dataset: ', train_firefox_df.shape)\n",
    "\n",
    "#To show Data\n",
    "train_firefox_df.head()"
   ]
  },
  {
   "cell_type": "code",
   "execution_count": 3,
   "id": "4238963e",
   "metadata": {},
   "outputs": [
    {
     "name": "stdout",
     "output_type": "stream",
     "text": [
      "Dimensions of Testing Dataset:  (8167, 4)\n"
     ]
    },
    {
     "data": {
      "text/html": [
       "<div>\n",
       "<style scoped>\n",
       "    .dataframe tbody tr th:only-of-type {\n",
       "        vertical-align: middle;\n",
       "    }\n",
       "\n",
       "    .dataframe tbody tr th {\n",
       "        vertical-align: top;\n",
       "    }\n",
       "\n",
       "    .dataframe thead th {\n",
       "        text-align: right;\n",
       "    }\n",
       "</style>\n",
       "<table border=\"1\" class=\"dataframe\">\n",
       "  <thead>\n",
       "    <tr style=\"text-align: right;\">\n",
       "      <th></th>\n",
       "      <th>Unnamed: 0</th>\n",
       "      <th>description1</th>\n",
       "      <th>description2</th>\n",
       "      <th>is_similar</th>\n",
       "    </tr>\n",
       "  </thead>\n",
       "  <tbody>\n",
       "    <tr>\n",
       "      <th>0</th>\n",
       "      <td>0</td>\n",
       "      <td>the comment in the code suggests it can be r...</td>\n",
       "      <td>bug   is adding a new  pinned  page action o...</td>\n",
       "      <td>0</td>\n",
       "    </tr>\n",
       "    <tr>\n",
       "      <th>1</th>\n",
       "      <td>1</td>\n",
       "      <td>created attachment   jira sidbar png  user a...</td>\n",
       "      <td>automatically unloading a webrtc tab seems l...</td>\n",
       "      <td>0</td>\n",
       "    </tr>\n",
       "    <tr>\n",
       "      <th>2</th>\n",
       "      <td>2</td>\n",
       "      <td>created attachment   reference png  hi    th...</td>\n",
       "      <td>filed by  philringnalda  at  gmail com     j...</td>\n",
       "      <td>0</td>\n",
       "    </tr>\n",
       "    <tr>\n",
       "      <th>3</th>\n",
       "      <td>3</td>\n",
       "      <td>markdown   filed by  rmaries  at  mozilla ...</td>\n",
       "      <td>user agent  mozilla       gecko   firefox   ...</td>\n",
       "      <td>0</td>\n",
       "    </tr>\n",
       "    <tr>\n",
       "      <th>4</th>\n",
       "      <td>4</td>\n",
       "      <td>user agent  mozilla       gecko   firefox   ...</td>\n",
       "      <td>currently we are storing full details   in t...</td>\n",
       "      <td>0</td>\n",
       "    </tr>\n",
       "  </tbody>\n",
       "</table>\n",
       "</div>"
      ],
      "text/plain": [
       "   Unnamed: 0                                       description1  \\\n",
       "0           0    the comment in the code suggests it can be r...   \n",
       "1           1    created attachment   jira sidbar png  user a...   \n",
       "2           2    created attachment   reference png  hi    th...   \n",
       "3           3      markdown   filed by  rmaries  at  mozilla ...   \n",
       "4           4    user agent  mozilla       gecko   firefox   ...   \n",
       "\n",
       "                                        description2  is_similar  \n",
       "0    bug   is adding a new  pinned  page action o...           0  \n",
       "1    automatically unloading a webrtc tab seems l...           0  \n",
       "2    filed by  philringnalda  at  gmail com     j...           0  \n",
       "3    user agent  mozilla       gecko   firefox   ...           0  \n",
       "4    currently we are storing full details   in t...           0  "
      ]
     },
     "execution_count": 3,
     "metadata": {},
     "output_type": "execute_result"
    }
   ],
   "source": [
    "test_firefox_df = pd.read_csv('../../PreProcessedData/Firefox/Firefox_siamese_test_preprocessed.csv')\n",
    "\n",
    "print('Dimensions of Testing Dataset: ', test_firefox_df.shape)\n",
    "\n",
    "#To show Data\n",
    "test_firefox_df.head()"
   ]
  },
  {
   "cell_type": "code",
   "execution_count": 4,
   "id": "a7ced117",
   "metadata": {},
   "outputs": [],
   "source": [
    "#Concatenate Train and Test Data\n",
    "result = pd.concat([train_firefox_df, test_firefox_df])\n",
    "result = result.sample(frac=1, random_state=1).reset_index(drop=True)\n",
    "\n",
    "dup_df= result.copy()"
   ]
  },
  {
   "cell_type": "code",
   "execution_count": 5,
   "id": "32eeebb1",
   "metadata": {},
   "outputs": [
    {
     "data": {
      "text/html": [
       "<div>\n",
       "<style scoped>\n",
       "    .dataframe tbody tr th:only-of-type {\n",
       "        vertical-align: middle;\n",
       "    }\n",
       "\n",
       "    .dataframe tbody tr th {\n",
       "        vertical-align: top;\n",
       "    }\n",
       "\n",
       "    .dataframe thead th {\n",
       "        text-align: right;\n",
       "    }\n",
       "</style>\n",
       "<table border=\"1\" class=\"dataframe\">\n",
       "  <thead>\n",
       "    <tr style=\"text-align: right;\">\n",
       "      <th></th>\n",
       "      <th>description1</th>\n",
       "      <th>description2</th>\n",
       "    </tr>\n",
       "  </thead>\n",
       "  <tbody>\n",
       "    <tr>\n",
       "      <th>count</th>\n",
       "      <td>39778.000000</td>\n",
       "      <td>39778.000000</td>\n",
       "    </tr>\n",
       "    <tr>\n",
       "      <th>mean</th>\n",
       "      <td>1111.995324</td>\n",
       "      <td>1185.271406</td>\n",
       "    </tr>\n",
       "    <tr>\n",
       "      <th>std</th>\n",
       "      <td>2859.586179</td>\n",
       "      <td>3082.720871</td>\n",
       "    </tr>\n",
       "    <tr>\n",
       "      <th>min</th>\n",
       "      <td>50.000000</td>\n",
       "      <td>50.000000</td>\n",
       "    </tr>\n",
       "    <tr>\n",
       "      <th>25%</th>\n",
       "      <td>281.000000</td>\n",
       "      <td>289.000000</td>\n",
       "    </tr>\n",
       "    <tr>\n",
       "      <th>50%</th>\n",
       "      <td>482.000000</td>\n",
       "      <td>510.000000</td>\n",
       "    </tr>\n",
       "    <tr>\n",
       "      <th>75%</th>\n",
       "      <td>841.000000</td>\n",
       "      <td>925.000000</td>\n",
       "    </tr>\n",
       "    <tr>\n",
       "      <th>max</th>\n",
       "      <td>67448.000000</td>\n",
       "      <td>67448.000000</td>\n",
       "    </tr>\n",
       "  </tbody>\n",
       "</table>\n",
       "</div>"
      ],
      "text/plain": [
       "       description1  description2\n",
       "count  39778.000000  39778.000000\n",
       "mean    1111.995324   1185.271406\n",
       "std     2859.586179   3082.720871\n",
       "min       50.000000     50.000000\n",
       "25%      281.000000    289.000000\n",
       "50%      482.000000    510.000000\n",
       "75%      841.000000    925.000000\n",
       "max    67448.000000  67448.000000"
      ]
     },
     "execution_count": 5,
     "metadata": {},
     "output_type": "execute_result"
    }
   ],
   "source": [
    "description = ['description1', 'description2']\n",
    "\n",
    "#To Describe Length of 'Description' of the Bugs\n",
    "dup_df[description].apply(lambda col: col.str.len().describe())"
   ]
  },
  {
   "cell_type": "markdown",
   "id": "1cfe79ce",
   "metadata": {},
   "source": [
    "# Splitting Data into Train, Test and Validation"
   ]
  },
  {
   "cell_type": "code",
   "execution_count": 6,
   "id": "a87da909",
   "metadata": {},
   "outputs": [],
   "source": [
    "train_val_df = train_firefox_df.copy()\n",
    "test_df = test_firefox_df.copy()"
   ]
  },
  {
   "cell_type": "code",
   "execution_count": 7,
   "id": "98af5d7a",
   "metadata": {},
   "outputs": [],
   "source": [
    "train_df, val_df = train_test_split(train_val_df, test_size = 0.2, stratify = train_val_df.is_similar, random_state = 13)"
   ]
  },
  {
   "cell_type": "code",
   "execution_count": 8,
   "id": "1a69941b",
   "metadata": {},
   "outputs": [
    {
     "name": "stdout",
     "output_type": "stream",
     "text": [
      "Size of Training Dataset:  25288\n",
      "Size of Validation Dataset:  6323\n",
      "Size of Testing Dataset:  8167\n"
     ]
    }
   ],
   "source": [
    "print('Size of Training Dataset: ', train_df.shape[0])\n",
    "print('Size of Validation Dataset: ', val_df.shape[0])\n",
    "print('Size of Testing Dataset: ', test_df.shape[0])"
   ]
  },
  {
   "cell_type": "code",
   "execution_count": 9,
   "id": "a3e4da9d",
   "metadata": {},
   "outputs": [
    {
     "data": {
      "text/plain": [
       "0.19136485845326587"
      ]
     },
     "execution_count": 9,
     "metadata": {},
     "output_type": "execute_result"
    }
   ],
   "source": [
    "len(val_df[val_df.is_similar.astype('bool')]) / len(val_df)"
   ]
  },
  {
   "cell_type": "code",
   "execution_count": 10,
   "id": "8b342e4c",
   "metadata": {},
   "outputs": [],
   "source": [
    "sm = RandomOverSampler(random_state=42)\n",
    "X_res, y_res = sm.fit_resample(X=train_df[['description1', 'description2']], y=train_df.is_similar)"
   ]
  },
  {
   "cell_type": "code",
   "execution_count": 11,
   "id": "efc77356",
   "metadata": {},
   "outputs": [],
   "source": [
    "train_df = X_res.copy()\n",
    "train_df['is_similar'] = y_res\n",
    "train_df = train_df.sample(frac=1)"
   ]
  },
  {
   "cell_type": "code",
   "execution_count": 12,
   "id": "6c68fe06",
   "metadata": {},
   "outputs": [
    {
     "data": {
      "text/plain": [
       "0.5"
      ]
     },
     "execution_count": 12,
     "metadata": {},
     "output_type": "execute_result"
    }
   ],
   "source": [
    "len(train_df[train_df.is_similar.astype('bool')]) / len(train_df)"
   ]
  },
  {
   "cell_type": "markdown",
   "id": "235215e8",
   "metadata": {},
   "source": [
    "# Create Vocabulary Index"
   ]
  },
  {
   "cell_type": "code",
   "execution_count": 13,
   "id": "1c1cc233",
   "metadata": {},
   "outputs": [],
   "source": [
    "MAX_TOKENS = 20000\n",
    "MAX_TITLE_LENGTH = 21\n",
    "MAX_DESCRIPTION_LENGTH = 500\n",
    "EMBEDDING_DIM = 100"
   ]
  },
  {
   "cell_type": "code",
   "execution_count": 14,
   "id": "e592af85",
   "metadata": {},
   "outputs": [],
   "source": [
    "def build_vocab(sentences: List[str], sequence_length: int):\n",
    "    vectorizer = TextVectorization(max_tokens=MAX_TOKENS - 2,output_sequence_length=sequence_length)\n",
    "    vectorizer.adapt(sentences)\n",
    "    vocab = vectorizer.get_vocabulary()\n",
    "    word_index = dict(zip(vocab, range(len(vocab))))\n",
    "\n",
    "    return vectorizer, word_index"
   ]
  },
  {
   "cell_type": "code",
   "execution_count": 15,
   "id": "f2007527",
   "metadata": {},
   "outputs": [
    {
     "name": "stdout",
     "output_type": "stream",
     "text": [
      "Most frequent description words: ['', '[UNK]', 'info', 'the', 'task']\n"
     ]
    }
   ],
   "source": [
    "descr_vectorizer, descr_word_index = build_vocab([dup_df.description1, dup_df.description2],MAX_DESCRIPTION_LENGTH)\n",
    "\n",
    "print(  'Most frequent description words:',list(itertools.islice(descr_word_index.keys(), 5)))"
   ]
  },
  {
   "cell_type": "markdown",
   "id": "d34a7acb",
   "metadata": {},
   "source": [
    "# To Prepare Training Data"
   ]
  },
  {
   "cell_type": "code",
   "execution_count": 16,
   "id": "e03878a0",
   "metadata": {},
   "outputs": [],
   "source": [
    "def generate_batches(split_df: pd.DataFrame,batch_size=256):\n",
    "    steps_per_epoch = len(split_df) // batch_size\n",
    "    while True:\n",
    "        for i in range(steps_per_epoch):\n",
    "            offset = i * batch_size\n",
    "            till = offset + batch_size\n",
    "            feature_batches = []\n",
    "            for feature in description:\n",
    "                vectorizer = descr_vectorizer\n",
    "                feature_batch = vectorizer(split_df[feature][offset: till].to_numpy().reshape((-1, 1))).numpy()\n",
    "                feature_batches.append(feature_batch)\n",
    "                \n",
    "            target_batch = split_df.is_similar[offset: till].to_numpy()\n",
    "            yield (feature_batches,target_batch)"
   ]
  },
  {
   "cell_type": "code",
   "execution_count": 17,
   "id": "84e7c0b2",
   "metadata": {},
   "outputs": [],
   "source": [
    "DescrEmbeddingLayer = layers.Embedding(input_dim=MAX_TOKENS,output_dim=EMBEDDING_DIM,name='DescrEmbeddingLayer')\n",
    "\n",
    "def make_descr_layer(num, kernel_size=3, pool_size=2, strides=None):\n",
    "    DescrConv1dLayer = layers.Conv1D(filters=32,kernel_size=kernel_size,activation='relu',name=f'DescrConv1dLayer{num}')\n",
    "    DescrMaxPool1dLayer = layers.MaxPool1D(pool_size=pool_size,strides=strides,name=f'DescrMaxPool1dLayer{num}')\n",
    "    return DescrConv1dLayer, DescrMaxPool1dLayer\n",
    "\n",
    "DescrConv1dLayer1, DescrMaxPool1dLayer1 = make_descr_layer(1, pool_size=4)\n",
    "DescrConv1dLayer2, DescrMaxPool1dLayer2 = make_descr_layer(2)"
   ]
  },
  {
   "cell_type": "code",
   "execution_count": 18,
   "id": "64727479",
   "metadata": {},
   "outputs": [
    {
     "name": "stdout",
     "output_type": "stream",
     "text": [
      "You must install pydot (`pip install pydot`) and install graphviz (see instructions at https://graphviz.gitlab.io/download/) for plot_model to work.\n"
     ]
    }
   ],
   "source": [
    "def create_siamese_component(num: int):\n",
    "    class SiameseComponent:\n",
    "        def __init__(self, title: layers.Input, description: layers.Input, output: layers.Concatenate):\n",
    "            self.title = title\n",
    "            self.description = description\n",
    "            self.output = output\n",
    "\n",
    "    title_input = layers.Input(shape=(None,), dtype='int32', name=f'title{num}_input')\n",
    "\n",
    "    descr_input = layers.Input(shape=(None,), name=f'descr{num}_input')\n",
    "    descr_embedding_layer = DescrEmbeddingLayer(descr_input)\n",
    "    descr_conv1d1 = DescrConv1dLayer1(descr_embedding_layer)\n",
    "    descr_max_pool1d1 = DescrMaxPool1dLayer1(descr_conv1d1)\n",
    "    descr_conv1d2 = DescrConv1dLayer2(descr_max_pool1d1)\n",
    "    descr_max_pool1d2 = DescrMaxPool1dLayer2(descr_conv1d2)\n",
    "    descr_flat_Layer = layers.Flatten(name=f'FlatDescr{num}')(descr_max_pool1d2)\n",
    "\n",
    "    concat = layers.Concatenate(axis=1, name=f'Concat{num}')([descr_flat_Layer])\n",
    "    return SiameseComponent(title_input, descr_input, concat)\n",
    "\n",
    "component1 = create_siamese_component(1)\n",
    "component2 = create_siamese_component(2)\n",
    "\n",
    "dot_product_layer = layers.Dot(axes=1,name='dot_product_layer')([component1.output, component2.output])\n",
    "\n",
    "output = layers.Dense(1, activation='sigmoid', name='output')(dot_product_layer)\n",
    "\n",
    "siamese_model = models.Model(inputs=[component1.description, component2.description],outputs=output,name='siamese_model')\n",
    "\n",
    "kutils.plot_model(siamese_model)"
   ]
  },
  {
   "cell_type": "markdown",
   "id": "58b64086",
   "metadata": {},
   "source": [
    "# Train"
   ]
  },
  {
   "cell_type": "code",
   "execution_count": 19,
   "id": "d8b75041",
   "metadata": {},
   "outputs": [
    {
     "name": "stdout",
     "output_type": "stream",
     "text": [
      "Epoch 1/12\n",
      "159/159 [==============================] - 68s 420ms/step - loss: 0.6131 - acc: 0.6620 - val_loss: 0.7105 - val_acc: 0.6823\n",
      "Epoch 2/12\n",
      "159/159 [==============================] - 61s 384ms/step - loss: 0.4907 - acc: 0.8144 - val_loss: 0.6773 - val_acc: 0.7624\n",
      "Epoch 3/12\n",
      "159/159 [==============================] - 67s 419ms/step - loss: 0.3932 - acc: 0.8795 - val_loss: 0.6476 - val_acc: 0.7996\n",
      "Epoch 4/12\n",
      "159/159 [==============================] - 70s 439ms/step - loss: 0.3174 - acc: 0.9216 - val_loss: 0.6480 - val_acc: 0.8083\n",
      "Epoch 5/12\n",
      "159/159 [==============================] - 64s 401ms/step - loss: 0.2653 - acc: 0.9472 - val_loss: 0.6896 - val_acc: 0.8084\n",
      "Epoch 6/12\n",
      "159/159 [==============================] - 75s 470ms/step - loss: 0.2283 - acc: 0.9597 - val_loss: 0.7225 - val_acc: 0.8114\n",
      "Epoch 7/12\n",
      "159/159 [==============================] - 75s 472ms/step - loss: 0.2010 - acc: 0.9673 - val_loss: 0.6636 - val_acc: 0.8241\n",
      "Epoch 8/12\n",
      "159/159 [==============================] - 76s 475ms/step - loss: 0.1789 - acc: 0.9719 - val_loss: 0.6788 - val_acc: 0.8234\n",
      "Epoch 9/12\n",
      "159/159 [==============================] - 79s 494ms/step - loss: 0.1613 - acc: 0.9748 - val_loss: 0.6907 - val_acc: 0.8247\n",
      "Epoch 10/12\n",
      "159/159 [==============================] - 78s 491ms/step - loss: 0.1475 - acc: 0.9773 - val_loss: 0.6918 - val_acc: 0.8244\n",
      "Epoch 11/12\n",
      "159/159 [==============================] - 72s 451ms/step - loss: 0.1364 - acc: 0.9787 - val_loss: 0.7293 - val_acc: 0.8237\n",
      "Epoch 12/12\n",
      "159/159 [==============================] - 81s 508ms/step - loss: 0.1278 - acc: 0.9797 - val_loss: 0.6953 - val_acc: 0.8257\n"
     ]
    }
   ],
   "source": [
    "BATCH_SIZE = 256\n",
    "opt = tf.keras.optimizers.Adam(learning_rate=0.001)\n",
    "\n",
    "siamese_model.compile(loss='binary_crossentropy',optimizer=opt,metrics=['acc'])\n",
    "\n",
    "history = siamese_model.fit(\n",
    "  generate_batches(train_df, BATCH_SIZE),\n",
    "  steps_per_epoch=len(train_df) // BATCH_SIZE,\n",
    "  epochs=12,\n",
    "  validation_data=generate_batches(val_df, BATCH_SIZE),\n",
    "  validation_steps=len(val_df) // BATCH_SIZE,\n",
    "  verbose=1\n",
    ")"
   ]
  },
  {
   "cell_type": "code",
   "execution_count": 20,
   "id": "c52a896d",
   "metadata": {},
   "outputs": [
    {
     "name": "stdout",
     "output_type": "stream",
     "text": [
      "You must install pydot (`pip install pydot`) and install graphviz (see instructions at https://graphviz.gitlab.io/download/) for plot_model to work.\n"
     ]
    },
    {
     "data": {
      "image/png": "[encoded data removed]",
      "text/plain": [
       "<Figure size 640x480 with 1 Axes>"
      ]
     },
     "metadata": {},
     "output_type": "display_data"
    }
   ],
   "source": [
    "plot_model(siamese_model, to_file='model_plot.png', show_shapes=True, show_layer_names=True)\n",
    "\n",
    "#To Plot Loss\n",
    "plt.plot(history.history['loss'], label='Train Loss')\n",
    "plt.plot(history.history['val_loss'], label='Validationa Loss')\n",
    "plt.legend()\n",
    "plt.show()"
   ]
  },
  {
   "cell_type": "code",
   "execution_count": 21,
   "id": "e4a25eb3",
   "metadata": {},
   "outputs": [
    {
     "data": {
      "image/png": "[encoded data removed]",
      "text/plain": [
       "<Figure size 640x480 with 1 Axes>"
      ]
     },
     "metadata": {},
     "output_type": "display_data"
    }
   ],
   "source": [
    "#To Plot Accuracy\n",
    "plt.plot(history.history['acc'], label='Train Accuracy')\n",
    "plt.plot(history.history['val_acc'], label='Validation Accuracy')\n",
    "plt.legend()\n",
    "plt.show()"
   ]
  },
  {
   "cell_type": "code",
   "execution_count": 22,
   "id": "3447919e",
   "metadata": {},
   "outputs": [
    {
     "name": "stdout",
     "output_type": "stream",
     "text": [
      "31/31 [==============================] - 3s 108ms/step - loss: 1.0680 - acc: 0.7873\n",
      "1/1 [==============================] - 5s 5s/step\n"
     ]
    }
   ],
   "source": [
    "siamese_model.evaluate(generate_batches(test_df, BATCH_SIZE),steps=len(test_df) // BATCH_SIZE)\n",
    "\n",
    "BATCH_SIZE = len(test_df)\n",
    "\n",
    "num_batched_instances = len(test_df) - (len(test_df) % BATCH_SIZE)\n",
    "\n",
    "pred_y = siamese_model.predict(generate_batches(test_df, BATCH_SIZE),steps=len(test_df) // BATCH_SIZE,verbose=1)"
   ]
  },
  {
   "cell_type": "code",
   "execution_count": 23,
   "id": "75d92d25",
   "metadata": {},
   "outputs": [
    {
     "name": "stdout",
     "output_type": "stream",
     "text": [
      "AUC: 0.6535397009798248\n",
      "Recall: 0.7862128076405045\n",
      "Precision: 0.7936415310829948\n",
      "F1: 0.7897197018822073\n"
     ]
    }
   ],
   "source": [
    "print('AUC:', roc_auc_score(test_df.is_similar[:num_batched_instances], pred_y > .5, average='weighted'))\n",
    "print('Recall:', recall_score(test_df.is_similar[:num_batched_instances], pred_y > .5, average='weighted'))\n",
    "print('Precision:', precision_score(test_df.is_similar[:num_batched_instances], pred_y > .5, average='weighted'))\n",
    "print('F1:', f1_score(test_df.is_similar[:num_batched_instances], pred_y > .5, average='weighted'))      "
   ]
  },
  {
   "cell_type": "code",
   "execution_count": 24,
   "id": "161b9c40",
   "metadata": {},
   "outputs": [
    {
     "name": "stdout",
     "output_type": "stream",
     "text": [
      "              precision    recall  f1-score   support\n",
      "\n",
      "           0       0.88      0.86      0.87      6706\n",
      "           1       0.41      0.45      0.43      1461\n",
      "\n",
      "    accuracy                           0.79      8167\n",
      "   macro avg       0.64      0.65      0.65      8167\n",
      "weighted avg       0.79      0.79      0.79      8167\n",
      "\n",
      "\n",
      "AUC: 0.6535397009798248\n"
     ]
    }
   ],
   "source": [
    "#Classification Report\n",
    "print(classification_report(test_df.is_similar[:num_batched_instances], pred_y > .5,))\n",
    "\n",
    "print('\\nAUC:', roc_auc_score(test_df.is_similar[:num_batched_instances], pred_y > .5))"
   ]
  },
  {
   "cell_type": "code",
   "execution_count": 25,
   "id": "477b803c",
   "metadata": {},
   "outputs": [
    {
     "data": {
      "text/html": [
       "<div>\n",
       "<style scoped>\n",
       "    .dataframe tbody tr th:only-of-type {\n",
       "        vertical-align: middle;\n",
       "    }\n",
       "\n",
       "    .dataframe tbody tr th {\n",
       "        vertical-align: top;\n",
       "    }\n",
       "\n",
       "    .dataframe thead th {\n",
       "        text-align: right;\n",
       "    }\n",
       "</style>\n",
       "<table border=\"1\" class=\"dataframe\">\n",
       "  <thead>\n",
       "    <tr style=\"text-align: right;\">\n",
       "      <th></th>\n",
       "      <th>TPR</th>\n",
       "      <th>FPR</th>\n",
       "      <th>Threshold</th>\n",
       "    </tr>\n",
       "  </thead>\n",
       "  <tbody>\n",
       "    <tr>\n",
       "      <th>0</th>\n",
       "      <td>0.000000</td>\n",
       "      <td>0.000000</td>\n",
       "      <td>2.000000</td>\n",
       "    </tr>\n",
       "    <tr>\n",
       "      <th>1</th>\n",
       "      <td>0.011035</td>\n",
       "      <td>0.086242</td>\n",
       "      <td>1.000000</td>\n",
       "    </tr>\n",
       "    <tr>\n",
       "      <th>2</th>\n",
       "      <td>0.011780</td>\n",
       "      <td>0.086927</td>\n",
       "      <td>1.000000</td>\n",
       "    </tr>\n",
       "    <tr>\n",
       "      <th>3</th>\n",
       "      <td>0.012973</td>\n",
       "      <td>0.092402</td>\n",
       "      <td>1.000000</td>\n",
       "    </tr>\n",
       "    <tr>\n",
       "      <th>4</th>\n",
       "      <td>0.013272</td>\n",
       "      <td>0.094456</td>\n",
       "      <td>1.000000</td>\n",
       "    </tr>\n",
       "    <tr>\n",
       "      <th>...</th>\n",
       "      <td>...</td>\n",
       "      <td>...</td>\n",
       "      <td>...</td>\n",
       "    </tr>\n",
       "    <tr>\n",
       "      <th>1424</th>\n",
       "      <td>0.448106</td>\n",
       "      <td>0.783025</td>\n",
       "      <td>0.157295</td>\n",
       "    </tr>\n",
       "    <tr>\n",
       "      <th>1425</th>\n",
       "      <td>0.449597</td>\n",
       "      <td>0.783025</td>\n",
       "      <td>0.157291</td>\n",
       "    </tr>\n",
       "    <tr>\n",
       "      <th>1426</th>\n",
       "      <td>0.449597</td>\n",
       "      <td>0.783710</td>\n",
       "      <td>0.157291</td>\n",
       "    </tr>\n",
       "    <tr>\n",
       "      <th>1427</th>\n",
       "      <td>0.449896</td>\n",
       "      <td>0.783710</td>\n",
       "      <td>0.157291</td>\n",
       "    </tr>\n",
       "    <tr>\n",
       "      <th>1428</th>\n",
       "      <td>1.000000</td>\n",
       "      <td>1.000000</td>\n",
       "      <td>0.157290</td>\n",
       "    </tr>\n",
       "  </tbody>\n",
       "</table>\n",
       "<p>1429 rows × 3 columns</p>\n",
       "</div>"
      ],
      "text/plain": [
       "           TPR       FPR  Threshold\n",
       "0     0.000000  0.000000   2.000000\n",
       "1     0.011035  0.086242   1.000000\n",
       "2     0.011780  0.086927   1.000000\n",
       "3     0.012973  0.092402   1.000000\n",
       "4     0.013272  0.094456   1.000000\n",
       "...        ...       ...        ...\n",
       "1424  0.448106  0.783025   0.157295\n",
       "1425  0.449597  0.783025   0.157291\n",
       "1426  0.449597  0.783710   0.157291\n",
       "1427  0.449896  0.783710   0.157291\n",
       "1428  1.000000  1.000000   0.157290\n",
       "\n",
       "[1429 rows x 3 columns]"
      ]
     },
     "execution_count": 25,
     "metadata": {},
     "output_type": "execute_result"
    }
   ],
   "source": [
    "value_names = ['TPR', 'FPR', 'Threshold']\n",
    "\n",
    "roc = dict(zip(value_names, roc_curve(test_df.is_similar[:num_batched_instances],pred_y)))\n",
    "\n",
    "pd.DataFrame(roc)"
   ]
  },
  {
   "cell_type": "markdown",
   "id": "59a84a86",
   "metadata": {},
   "source": [
    "# To Evaluate Textually Similar Data"
   ]
  },
  {
   "cell_type": "code",
   "execution_count": 26,
   "id": "c53df92c",
   "metadata": {},
   "outputs": [
    {
     "name": "stdout",
     "output_type": "stream",
     "text": [
      "Dimensions of Dataset:  (536, 9)\n"
     ]
    }
   ],
   "source": [
    "sim_df_original = pd.read_csv('../../PreProcessedData/Firefox/Firefox_textually_similar_pair.csv')\n",
    "\n",
    "print('Dimensions of Dataset: ', sim_df_original.shape)"
   ]
  },
  {
   "cell_type": "code",
   "execution_count": 27,
   "id": "0c86ad43",
   "metadata": {},
   "outputs": [
    {
     "data": {
      "text/html": [
       "<div>\n",
       "<style scoped>\n",
       "    .dataframe tbody tr th:only-of-type {\n",
       "        vertical-align: middle;\n",
       "    }\n",
       "\n",
       "    .dataframe tbody tr th {\n",
       "        vertical-align: top;\n",
       "    }\n",
       "\n",
       "    .dataframe thead th {\n",
       "        text-align: right;\n",
       "    }\n",
       "</style>\n",
       "<table border=\"1\" class=\"dataframe\">\n",
       "  <thead>\n",
       "    <tr style=\"text-align: right;\">\n",
       "      <th></th>\n",
       "      <th>Unnamed: 0</th>\n",
       "      <th>description1</th>\n",
       "      <th>description2</th>\n",
       "      <th>is_similar</th>\n",
       "    </tr>\n",
       "  </thead>\n",
       "  <tbody>\n",
       "    <tr>\n",
       "      <th>0</th>\n",
       "      <td>0</td>\n",
       "      <td>created attachment   keyselectedsearch    mozi...</td>\n",
       "      <td>i noticed this while working on bug    and i t...</td>\n",
       "      <td>1</td>\n",
       "    </tr>\n",
       "    <tr>\n",
       "      <th>1</th>\n",
       "      <td>4</td>\n",
       "      <td>created attachment   bug dialog png  user agen...</td>\n",
       "      <td>created attachment   screenshot of bookmark wi...</td>\n",
       "      <td>1</td>\n",
       "    </tr>\n",
       "    <tr>\n",
       "      <th>2</th>\n",
       "      <td>8</td>\n",
       "      <td>created attachment   firefoxfail png  user age...</td>\n",
       "      <td>created attachment   toolbar screenshot png  s...</td>\n",
       "      <td>1</td>\n",
       "    </tr>\n",
       "    <tr>\n",
       "      <th>3</th>\n",
       "      <td>11</td>\n",
       "      <td>created attachment   screenshot png  user agen...</td>\n",
       "      <td>str      open           open another tab in th...</td>\n",
       "      <td>1</td>\n",
       "    </tr>\n",
       "    <tr>\n",
       "      <th>4</th>\n",
       "      <td>12</td>\n",
       "      <td>user agent  mozilla       gecko   firefox     ...</td>\n",
       "      <td>based on    edit    the overlay icon should ch...</td>\n",
       "      <td>1</td>\n",
       "    </tr>\n",
       "  </tbody>\n",
       "</table>\n",
       "</div>"
      ],
      "text/plain": [
       "   Unnamed: 0                                       description1  \\\n",
       "0           0  created attachment   keyselectedsearch    mozi...   \n",
       "1           4  created attachment   bug dialog png  user agen...   \n",
       "2           8  created attachment   firefoxfail png  user age...   \n",
       "3          11  created attachment   screenshot png  user agen...   \n",
       "4          12  user agent  mozilla       gecko   firefox     ...   \n",
       "\n",
       "                                        description2  is_similar  \n",
       "0  i noticed this while working on bug    and i t...           1  \n",
       "1  created attachment   screenshot of bookmark wi...           1  \n",
       "2  created attachment   toolbar screenshot png  s...           1  \n",
       "3  str      open           open another tab in th...           1  \n",
       "4  based on    edit    the overlay icon should ch...           1  "
      ]
     },
     "execution_count": 27,
     "metadata": {},
     "output_type": "execute_result"
    }
   ],
   "source": [
    "#Preprocessing Dataset\n",
    "sim_df = pd.DataFrame()\n",
    "\n",
    "sim_df['Unnamed: 0'] = sim_df_original['Unnamed: 0']\n",
    "sim_df['description1'] = sim_df_original['Description1']\n",
    "sim_df['description2'] = sim_df_original['Description2']\n",
    "sim_df['is_similar'] = sim_df_original['is_similar']\n",
    "\n",
    "sim_df['description1'] = sim_df['description1'].str.replace('[','').str.replace(']','')\n",
    "sim_df['description2'] = sim_df['description2'].str.replace('[','').str.replace(']','')\n",
    "\n",
    "sim_df['description1'] = sim_df['description1'].str.replace(\"'\", \"\")\n",
    "sim_df['description2'] = sim_df['description2'].str.replace(\"'\", \"\")\n",
    "\n",
    "#To show Data\n",
    "sim_df.head()"
   ]
  },
  {
   "cell_type": "code",
   "execution_count": 28,
   "id": "3984344a",
   "metadata": {},
   "outputs": [],
   "source": [
    "#Adding Data to the Dataframe\n",
    "sim_df_new = sim_df[['description1', 'description2', 'is_similar']]\n",
    "sim_df_new['description2'] = sim_df_new.description2.shift(1)\n",
    "sim_df_new['is_similar'] = 0\n",
    "sim_df_new.dropna(inplace = True)\n",
    "sim_df = pd.concat([sim_df[['description1', 'description2', 'is_similar']],sim_df_new])"
   ]
  },
  {
   "cell_type": "code",
   "execution_count": 29,
   "id": "84620cba",
   "metadata": {},
   "outputs": [
    {
     "name": "stdout",
     "output_type": "stream",
     "text": [
      "1/1 [==============================] - 1s 718ms/step - loss: 3.6675 - acc: 0.5658\n",
      "1/1 [==============================] - 1s 607ms/step\n"
     ]
    }
   ],
   "source": [
    "BATCH_SIZE = len(sim_df)\n",
    "\n",
    "siamese_model.evaluate(generate_batches(sim_df, BATCH_SIZE),steps=len(sim_df) // BATCH_SIZE)\n",
    "\n",
    "num_batched_instances = len(sim_df) - (len(sim_df) % BATCH_SIZE)\n",
    "\n",
    "pred_y_sim = siamese_model.predict(generate_batches(sim_df, BATCH_SIZE),steps=len(sim_df) // BATCH_SIZE,verbose=1)"
   ]
  },
  {
   "cell_type": "code",
   "execution_count": 30,
   "id": "ea67c6d4",
   "metadata": {},
   "outputs": [
    {
     "name": "stdout",
     "output_type": "stream",
     "text": [
      "AUC: 0.5656454875156927\n",
      "Recall: 0.5658263305322129\n",
      "Precision: 0.577215784386827\n",
      "F1: 0.5488901364344875\n"
     ]
    }
   ],
   "source": [
    "print('AUC:', roc_auc_score(sim_df.is_similar[:num_batched_instances], pred_y_sim > .5, average='weighted'))\n",
    "print('Recall:', recall_score(sim_df.is_similar[:num_batched_instances], pred_y_sim > .5, average='weighted'))\n",
    "print('Precision:', precision_score(sim_df.is_similar[:num_batched_instances], pred_y_sim > .5, average='weighted'))\n",
    "print('F1:', f1_score(sim_df.is_similar[:num_batched_instances], pred_y_sim > .5, average='weighted'))  "
   ]
  },
  {
   "cell_type": "code",
   "execution_count": 31,
   "id": "69a99a82",
   "metadata": {},
   "outputs": [
    {
     "name": "stdout",
     "output_type": "stream",
     "text": [
      "              precision    recall  f1-score   support\n",
      "\n",
      "           0       0.61      0.37      0.46       535\n",
      "           1       0.55      0.76      0.64       536\n",
      "\n",
      "    accuracy                           0.57      1071\n",
      "   macro avg       0.58      0.57      0.55      1071\n",
      "weighted avg       0.58      0.57      0.55      1071\n",
      "\n",
      "\n",
      "AUC: 0.5656454875156927\n"
     ]
    }
   ],
   "source": [
    "#Classification Report\n",
    "print(classification_report(sim_df.is_similar[:num_batched_instances], pred_y_sim > .5,))\n",
    "\n",
    "print('\\nAUC:', roc_auc_score(sim_df.is_similar[:num_batched_instances], pred_y_sim > .5))"
   ]
  },
  {
   "cell_type": "markdown",
   "id": "b5fb30fd",
   "metadata": {},
   "source": [
    "# To Evaluate Textually Dissimilar Data"
   ]
  },
  {
   "cell_type": "code",
   "execution_count": 32,
   "id": "5a56e49a",
   "metadata": {},
   "outputs": [
    {
     "name": "stdout",
     "output_type": "stream",
     "text": [
      "Dimensions of Dataset:  (816, 9)\n"
     ]
    }
   ],
   "source": [
    "dissim_df_original = pd.read_csv('../../PreProcessedData/Firefox/Firefox_textually_dissimilar_pair.csv')\n",
    "\n",
    "print('Dimensions of Dataset: ', dissim_df_original.shape)"
   ]
  },
  {
   "cell_type": "code",
   "execution_count": 33,
   "id": "eab22c18",
   "metadata": {},
   "outputs": [
    {
     "data": {
      "text/html": [
       "<div>\n",
       "<style scoped>\n",
       "    .dataframe tbody tr th:only-of-type {\n",
       "        vertical-align: middle;\n",
       "    }\n",
       "\n",
       "    .dataframe tbody tr th {\n",
       "        vertical-align: top;\n",
       "    }\n",
       "\n",
       "    .dataframe thead th {\n",
       "        text-align: right;\n",
       "    }\n",
       "</style>\n",
       "<table border=\"1\" class=\"dataframe\">\n",
       "  <thead>\n",
       "    <tr style=\"text-align: right;\">\n",
       "      <th></th>\n",
       "      <th>Unnamed: 0</th>\n",
       "      <th>description1</th>\n",
       "      <th>description2</th>\n",
       "      <th>is_similar</th>\n",
       "    </tr>\n",
       "  </thead>\n",
       "  <tbody>\n",
       "    <tr>\n",
       "      <th>0</th>\n",
       "      <td>0</td>\n",
       "      <td>should add the customize firefox tour in the o...</td>\n",
       "      <td>should add the add on tour in the onboarding o...</td>\n",
       "      <td>1</td>\n",
       "    </tr>\n",
       "    <tr>\n",
       "      <th>1</th>\n",
       "      <td>1</td>\n",
       "      <td>nightly       on windows      at the moment  a...</td>\n",
       "      <td>this bug was initially created as a clone ...</td>\n",
       "      <td>1</td>\n",
       "    </tr>\n",
       "    <tr>\n",
       "      <th>2</th>\n",
       "      <td>2</td>\n",
       "      <td>should not display the notification for the co...</td>\n",
       "      <td>should show the notification bar to notify use...</td>\n",
       "      <td>1</td>\n",
       "    </tr>\n",
       "    <tr>\n",
       "      <th>3</th>\n",
       "      <td>3</td>\n",
       "      <td>should highlight the customize button in the h...</td>\n",
       "      <td>should add the add on tour in the onboarding o...</td>\n",
       "      <td>1</td>\n",
       "    </tr>\n",
       "    <tr>\n",
       "      <th>4</th>\n",
       "      <td>6</td>\n",
       "      <td>created attachment   jiggle    video attached ...</td>\n",
       "      <td>created attachment   autocomplete richlistbox ...</td>\n",
       "      <td>1</td>\n",
       "    </tr>\n",
       "  </tbody>\n",
       "</table>\n",
       "</div>"
      ],
      "text/plain": [
       "   Unnamed: 0                                       description1  \\\n",
       "0           0  should add the customize firefox tour in the o...   \n",
       "1           1  nightly       on windows      at the moment  a...   \n",
       "2           2  should not display the notification for the co...   \n",
       "3           3  should highlight the customize button in the h...   \n",
       "4           6  created attachment   jiggle    video attached ...   \n",
       "\n",
       "                                        description2  is_similar  \n",
       "0  should add the add on tour in the onboarding o...           1  \n",
       "1      this bug was initially created as a clone ...           1  \n",
       "2  should show the notification bar to notify use...           1  \n",
       "3  should add the add on tour in the onboarding o...           1  \n",
       "4  created attachment   autocomplete richlistbox ...           1  "
      ]
     },
     "execution_count": 33,
     "metadata": {},
     "output_type": "execute_result"
    }
   ],
   "source": [
    "#Preprocessing Dataset\n",
    "dissim_df = pd.DataFrame()\n",
    "\n",
    "dissim_df['Unnamed: 0'] = dissim_df_original['Unnamed: 0']\n",
    "dissim_df['description1'] = dissim_df_original['Description1']\n",
    "dissim_df['description2'] = dissim_df_original['Description2']\n",
    "dissim_df['is_similar'] = dissim_df_original['is_similar']\n",
    "\n",
    "#df['my_column'] = df['my_column'].str.replace('[','').str.replace(']','')\n",
    "dissim_df['description1'] = dissim_df['description1'].str.replace('[','').str.replace(']','')\n",
    "dissim_df['description2'] = dissim_df['description2'].str.replace('[','').str.replace(']','')\n",
    "\n",
    "#df['my_column'] = df['my_column'].str.replace(\"'\", \"\")\n",
    "dissim_df['description1'] = dissim_df['description1'].str.replace(\"'\", \"\")\n",
    "dissim_df['description2'] = dissim_df['description2'].str.replace(\"'\", \"\")\n",
    "\n",
    "#To show Data\n",
    "dissim_df.head()"
   ]
  },
  {
   "cell_type": "code",
   "execution_count": 34,
   "id": "e1c6a024",
   "metadata": {},
   "outputs": [],
   "source": [
    "#Adding Data to the Dataframe\n",
    "dissim_df_new = dissim_df[['description1', 'description2', 'is_similar']]\n",
    "dissim_df_new['description2'] = dissim_df_new.description2.shift(1)\n",
    "dissim_df_new['is_similar'] = 0\n",
    "dissim_df_new.dropna(inplace = True)\n",
    "dissim_df = pd.concat([sim_df[['description1', 'description2', 'is_similar']],dissim_df_new])"
   ]
  },
  {
   "cell_type": "code",
   "execution_count": 35,
   "id": "598166f6",
   "metadata": {},
   "outputs": [
    {
     "name": "stdout",
     "output_type": "stream",
     "text": [
      "1/1 [==============================] - 1s 949ms/step - loss: 3.2831 - acc: 0.6246\n",
      "1/1 [==============================] - 1s 923ms/step\n"
     ]
    }
   ],
   "source": [
    "BATCH_SIZE = len(dissim_df)\n",
    "\n",
    "siamese_model.evaluate(generate_batches(dissim_df, BATCH_SIZE), steps=len(dissim_df) // BATCH_SIZE)\n",
    "\n",
    "num_batched_instances = len(dissim_df) - (len(dissim_df) % BATCH_SIZE)\n",
    "\n",
    "pred_y_dis = siamese_model.predict(generate_batches(dissim_df, BATCH_SIZE),steps=len(dissim_df) // BATCH_SIZE,verbose=1)"
   ]
  },
  {
   "cell_type": "code",
   "execution_count": 36,
   "id": "2e72820d",
   "metadata": {},
   "outputs": [
    {
     "name": "stdout",
     "output_type": "stream",
     "text": [
      "AUC: 0.6652197346600333\n",
      "Recall: 0.6246023329798516\n",
      "Precision: 0.7305140471371201\n",
      "F1: 0.642558279207885\n"
     ]
    }
   ],
   "source": [
    "print('AUC:', roc_auc_score(dissim_df.is_similar[:num_batched_instances], pred_y_dis > .5, average='weighted'))\n",
    "print('Recall:', recall_score(dissim_df.is_similar[:num_batched_instances], pred_y_dis > .5, average='weighted'))\n",
    "print('Precision:', precision_score(dissim_df.is_similar[:num_batched_instances], pred_y_dis > .5, average='weighted'))\n",
    "print('F1:', f1_score(dissim_df.is_similar[:num_batched_instances], pred_y_dis > .5, average='weighted'))  "
   ]
  },
  {
   "cell_type": "code",
   "execution_count": 37,
   "id": "5c46d4bc",
   "metadata": {},
   "outputs": [
    {
     "name": "stdout",
     "output_type": "stream",
     "text": [
      "              precision    recall  f1-score   support\n",
      "\n",
      "           0       0.86      0.57      0.69      1350\n",
      "           1       0.41      0.76      0.53       536\n",
      "\n",
      "    accuracy                           0.62      1886\n",
      "   macro avg       0.63      0.67      0.61      1886\n",
      "weighted avg       0.73      0.62      0.64      1886\n",
      "\n",
      "\n",
      "AUC: 0.6652197346600333\n"
     ]
    }
   ],
   "source": [
    "#Classification Report\n",
    "print(classification_report(dissim_df.is_similar[:num_batched_instances], pred_y_dis > .5,))\n",
    "\n",
    "print('\\nAUC:', roc_auc_score(dissim_df.is_similar[:num_batched_instances], pred_y_dis > .5))"
   ]
  }
 ],
 "metadata": {
  "kernelspec": {
   "display_name": "Python 3 (ipykernel)",
   "language": "python",
   "name": "python3"
  },
  "language_info": {
   "codemirror_mode": {
    "name": "ipython",
    "version": 3
   },
   "file_extension": ".py",
   "mimetype": "text/x-python",
   "name": "python",
   "nbconvert_exporter": "python",
   "pygments_lexer": "ipython3",
   "version": "3.10.9"
  }
 },
 "nbformat": 4,
 "nbformat_minor": 5
}
