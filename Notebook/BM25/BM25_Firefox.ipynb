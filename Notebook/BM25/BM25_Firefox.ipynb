{
 "cells": [
  {
   "cell_type": "code",
   "execution_count": 33,
   "id": "0c5fb99e",
   "metadata": {},
   "outputs": [
    {
     "name": "stdout",
     "output_type": "stream",
     "text": [
      "Requirement already satisfied: rank_bm25 in c:\\users\\comka\\anaconda3\\lib\\site-packages (0.2.2)\n",
      "Requirement already satisfied: numpy in c:\\users\\comka\\anaconda3\\lib\\site-packages (from rank_bm25) (1.21.5)\n"
     ]
    }
   ],
   "source": [
    "!pip install rank_bm25"
   ]
  },
  {
   "cell_type": "code",
   "execution_count": 34,
   "id": "c389ba9f",
   "metadata": {},
   "outputs": [
    {
     "name": "stderr",
     "output_type": "stream",
     "text": [
      "[nltk_data] Downloading package punkt to\n",
      "[nltk_data]     C:\\Users\\comka\\AppData\\Roaming\\nltk_data...\n",
      "[nltk_data]   Package punkt is already up-to-date!\n"
     ]
    }
   ],
   "source": [
    "import numpy as np\n",
    "import pandas as pd\n",
    "\n",
    "import requests\n",
    "import json\n",
    "import urllib.request\n",
    "import time\n",
    "import re\n",
    "import nltk\n",
    "nltk.download('punkt')\n",
    "\n",
    "from bs4 import BeautifulSoup\n",
    "from rank_bm25 import BM25Okapi\n",
    "from nltk.tokenize import word_tokenize"
   ]
  },
  {
   "cell_type": "markdown",
   "id": "62249bf4",
   "metadata": {},
   "source": [
    "# For Complete Data with Duplicates"
   ]
  },
  {
   "cell_type": "code",
   "execution_count": 35,
   "id": "9f0f98a3",
   "metadata": {
    "scrolled": true
   },
   "outputs": [
    {
     "name": "stdout",
     "output_type": "stream",
     "text": [
      "Dimensions of Dataset:  (38290, 11)\n"
     ]
    },
    {
     "data": {
      "text/html": [
       "<div>\n",
       "<style scoped>\n",
       "    .dataframe tbody tr th:only-of-type {\n",
       "        vertical-align: middle;\n",
       "    }\n",
       "\n",
       "    .dataframe tbody tr th {\n",
       "        vertical-align: top;\n",
       "    }\n",
       "\n",
       "    .dataframe thead th {\n",
       "        text-align: right;\n",
       "    }\n",
       "</style>\n",
       "<table border=\"1\" class=\"dataframe\">\n",
       "  <thead>\n",
       "    <tr style=\"text-align: right;\">\n",
       "      <th></th>\n",
       "      <th>Bug_Id</th>\n",
       "      <th>Description</th>\n",
       "      <th>Duplicate_Bug_Ids</th>\n",
       "      <th>Resolution</th>\n",
       "    </tr>\n",
       "  </thead>\n",
       "  <tbody>\n",
       "    <tr>\n",
       "      <th>0</th>\n",
       "      <td>1399936</td>\n",
       "      <td>Shield unenrolls users in active preference ex...</td>\n",
       "      <td>NaN</td>\n",
       "      <td>FIXED</td>\n",
       "    </tr>\n",
       "    <tr>\n",
       "      <th>1</th>\n",
       "      <td>1387208</td>\n",
       "      <td>browser_as_load_location.js is permafailing on...</td>\n",
       "      <td>NaN</td>\n",
       "      <td>FIXED</td>\n",
       "    </tr>\n",
       "    <tr>\n",
       "      <th>2</th>\n",
       "      <td>1368432</td>\n",
       "      <td>web.skype.com is inaccessible: SEC_ERROR_OCSP_...</td>\n",
       "      <td>1368433.0</td>\n",
       "      <td>DUPLICATE</td>\n",
       "    </tr>\n",
       "    <tr>\n",
       "      <th>3</th>\n",
       "      <td>1383741</td>\n",
       "      <td>Perma failure when 56 merge to beta in browser...</td>\n",
       "      <td>NaN</td>\n",
       "      <td>FIXED</td>\n",
       "    </tr>\n",
       "    <tr>\n",
       "      <th>4</th>\n",
       "      <td>1388753</td>\n",
       "      <td>Bookmarks and history pages in Library sub men...</td>\n",
       "      <td>NaN</td>\n",
       "      <td>FIXED</td>\n",
       "    </tr>\n",
       "  </tbody>\n",
       "</table>\n",
       "</div>"
      ],
      "text/plain": [
       "    Bug_Id                                        Description  \\\n",
       "0  1399936  Shield unenrolls users in active preference ex...   \n",
       "1  1387208  browser_as_load_location.js is permafailing on...   \n",
       "2  1368432  web.skype.com is inaccessible: SEC_ERROR_OCSP_...   \n",
       "3  1383741  Perma failure when 56 merge to beta in browser...   \n",
       "4  1388753  Bookmarks and history pages in Library sub men...   \n",
       "\n",
       "   Duplicate_Bug_Ids Resolution  \n",
       "0                NaN      FIXED  \n",
       "1                NaN      FIXED  \n",
       "2          1368433.0  DUPLICATE  \n",
       "3                NaN      FIXED  \n",
       "4                NaN      FIXED  "
      ]
     },
     "execution_count": 35,
     "metadata": {},
     "output_type": "execute_result"
    }
   ],
   "source": [
    "dataset = pd.read_csv('../../PrimaryDataset/firefox_preproccessed_whole_dataset.csv')\n",
    "\n",
    "print('Dimensions of Dataset: ', dataset.shape)\n",
    "\n",
    "#To Create a Copy\n",
    "data = dataset.copy()\n",
    "\n",
    "#To add 'Summary' and 'Description' in a new Column 'Description1'\n",
    "data['Description1'] = data['Summary']+ data['Description']\n",
    "\n",
    "#To add only required Columns\n",
    "data = data[['Bug ID', 'Description1', 'Duplicate_Bug_Ids', 'Resolution']]\n",
    "\n",
    "#To Rename the Columns\n",
    "data = data.rename(columns = {'Bug ID':'Bug_Id', 'Description1':'Description'})\n",
    "\n",
    "#To show Data\n",
    "data.head()"
   ]
  },
  {
   "cell_type": "code",
   "execution_count": 36,
   "id": "f369aae9",
   "metadata": {},
   "outputs": [],
   "source": [
    "#To Tokenize Data\n",
    "sentences = data['Description']\n",
    "tokens = []\n",
    "\n",
    "for sentence in sentences:\n",
    "    cleanedTex=re.sub(r'[^\\w\\s]','',str(sentence)).lower()\n",
    "    words = (word_tokenize(cleanedTex))\n",
    "    tokens.append(words)\n",
    "\n",
    "#BM25\n",
    "bm25 = BM25Okapi(tokens)"
   ]
  },
  {
   "cell_type": "code",
   "execution_count": 37,
   "id": "ce683772",
   "metadata": {},
   "outputs": [],
   "source": [
    "#Replacing Blank Values with 'NaN' Values\n",
    "data.replace(\"\", np.nan, inplace=True)\n",
    "\n",
    "#Droping Data which has 'Nan' value for 'Description' Column\n",
    "data.dropna(subset = [\"Description\"], inplace=True)\n",
    "\n",
    "#To Reset the index\n",
    "data = data.reset_index(drop=True)\n",
    "\n",
    "data['Description']=data['Description'].values.astype('object')\n",
    "\n",
    "#Filtering data based on 'Duplicate_Bug_Ids' Column to get Duplicate Bugs\n",
    "# data = data[data['Duplicate_Bug_Ids'] > 0]\n",
    "# print('Dimensions of Data with Duplicate Bug Ids: ', data.shape)"
   ]
  },
  {
   "cell_type": "code",
   "execution_count": 63,
   "id": "27a65724",
   "metadata": {},
   "outputs": [],
   "source": [
    "def getDuplicates(whole_data, data, tokens, bm25):\n",
    "    count=0\n",
    "    dup_indices_with_bug_id = {}\n",
    "    similarity_scores_before = []\n",
    "    similarity_scores = {}\n",
    "    bugs = whole_data['Bug_Id']\n",
    "\n",
    "    for i, row in data.iterrows():\n",
    "        bug_id = row['Bug_Id']\n",
    "        dup_bug_id = row['Duplicate_Bug_Ids']\n",
    "    \n",
    "        if dup_bug_id not in bugs.values:\n",
    "            count+=1\n",
    "            continue\n",
    "        \n",
    "        similarity_row = bm25.get_scores(tokens[i])\n",
    "        argsort_similarity = np.argsort(similarity_row)[::-1][1:]\n",
    "        #similarity_scores_before = (np.sort(similarity_row)[::-1][1:])\n",
    "        dup_bug_index = list(bugs[bugs == dup_bug_id].index)[0]\n",
    "        dup_ranking = np.argmax(argsort_similarity == np.int64(dup_bug_index)) \n",
    "        dup_indices_with_bug_id[bug_id] = dup_ranking\n",
    "        \n",
    "    return dup_indices_with_bug_id"
   ]
  },
  {
   "cell_type": "code",
   "execution_count": 39,
   "id": "d5118309",
   "metadata": {},
   "outputs": [],
   "source": [
    "def calculate_recall(dup_indices_with_bug_id):\n",
    "    counts = {1: 0, 5: 0, 10: 0, 20: 0, 25: 0, 30: 0, 50: 0, 75: 0, 100: 0}\n",
    "\n",
    "    for value in dup_indices_with_bug_id.values():\n",
    "        for key in counts.keys():\n",
    "            if(value < key):\n",
    "                counts[key] += 1\n",
    "\n",
    "    N = len(dup_indices_with_bug_id)\n",
    "    \n",
    "    for key in counts.keys():\n",
    "        recall_rate = counts[key]/N\n",
    "        print('Recall Rate at '+str(key)+': ', recall_rate)"
   ]
  },
  {
   "cell_type": "code",
   "execution_count": null,
   "id": "22301fd3",
   "metadata": {},
   "outputs": [],
   "source": [
    "#To get Duplicate Indices\n",
    "dup_indices_with_bug_id = getDuplicates(data, data, tokens, bm25)"
   ]
  },
  {
   "cell_type": "code",
   "execution_count": 41,
   "id": "9fb4a038",
   "metadata": {},
   "outputs": [
    {
     "name": "stdout",
     "output_type": "stream",
     "text": [
      "For Complete Dataset: \n",
      "Recall Rate at 1:  0.16105082809822957\n",
      "Recall Rate at 5:  0.27984009137635635\n",
      "Recall Rate at 10:  0.33637921187892633\n",
      "Recall Rate at 20:  0.39149057681324956\n",
      "Recall Rate at 25:  0.4106225014277556\n",
      "Recall Rate at 30:  0.4251856082238721\n",
      "Recall Rate at 50:  0.46601941747572817\n",
      "Recall Rate at 75:  0.5014277555682467\n",
      "Recall Rate at 100:  0.5268418046830383\n"
     ]
    }
   ],
   "source": [
    "#To Calculate Recall\n",
    "print('For Complete Dataset: ')\n",
    "calculate_recall(dup_indices_with_bug_id)"
   ]
  },
  {
   "cell_type": "markdown",
   "id": "d120e478",
   "metadata": {},
   "source": [
    "# For Textually Similar Data"
   ]
  },
  {
   "cell_type": "code",
   "execution_count": 64,
   "id": "7f7f59cc",
   "metadata": {},
   "outputs": [
    {
     "name": "stdout",
     "output_type": "stream",
     "text": [
      "Dimensions of Dataset:  (1239, 14)\n"
     ]
    },
    {
     "data": {
      "text/html": [
       "<div>\n",
       "<style scoped>\n",
       "    .dataframe tbody tr th:only-of-type {\n",
       "        vertical-align: middle;\n",
       "    }\n",
       "\n",
       "    .dataframe tbody tr th {\n",
       "        vertical-align: top;\n",
       "    }\n",
       "\n",
       "    .dataframe thead th {\n",
       "        text-align: right;\n",
       "    }\n",
       "</style>\n",
       "<table border=\"1\" class=\"dataframe\">\n",
       "  <thead>\n",
       "    <tr style=\"text-align: right;\">\n",
       "      <th></th>\n",
       "      <th>Bug_Id</th>\n",
       "      <th>Description</th>\n",
       "      <th>Duplicate_Bug_Ids</th>\n",
       "      <th>Resolution</th>\n",
       "    </tr>\n",
       "  </thead>\n",
       "  <tbody>\n",
       "    <tr>\n",
       "      <th>0</th>\n",
       "      <td>1369688</td>\n",
       "      <td>One-off search takes the initial value rather ...</td>\n",
       "      <td>1331736.0</td>\n",
       "      <td>DUPLICATE</td>\n",
       "    </tr>\n",
       "    <tr>\n",
       "      <th>1</th>\n",
       "      <td>1332106</td>\n",
       "      <td>[Deleted][Windows 10] Possible Cortana Search ...</td>\n",
       "      <td>1332118.0</td>\n",
       "      <td>DUPLICATE</td>\n",
       "    </tr>\n",
       "    <tr>\n",
       "      <th>2</th>\n",
       "      <td>1328104</td>\n",
       "      <td>Add Search Engine Button Does Not Workuser age...</td>\n",
       "      <td>1323525.0</td>\n",
       "      <td>DUPLICATE</td>\n",
       "    </tr>\n",
       "    <tr>\n",
       "      <th>3</th>\n",
       "      <td>1333599</td>\n",
       "      <td>URL Spoofing by using onbeforeunload and openi...</td>\n",
       "      <td>1481994.0</td>\n",
       "      <td>DUPLICATE</td>\n",
       "    </tr>\n",
       "    <tr>\n",
       "      <th>4</th>\n",
       "      <td>1351282</td>\n",
       "      <td>Cannot delete or edit invalid bookmarkcreated ...</td>\n",
       "      <td>1401401.0</td>\n",
       "      <td>DUPLICATE</td>\n",
       "    </tr>\n",
       "  </tbody>\n",
       "</table>\n",
       "</div>"
      ],
      "text/plain": [
       "    Bug_Id                                        Description  \\\n",
       "0  1369688  One-off search takes the initial value rather ...   \n",
       "1  1332106  [Deleted][Windows 10] Possible Cortana Search ...   \n",
       "2  1328104  Add Search Engine Button Does Not Workuser age...   \n",
       "3  1333599  URL Spoofing by using onbeforeunload and openi...   \n",
       "4  1351282  Cannot delete or edit invalid bookmarkcreated ...   \n",
       "\n",
       "   Duplicate_Bug_Ids Resolution  \n",
       "0          1331736.0  DUPLICATE  \n",
       "1          1332118.0  DUPLICATE  \n",
       "2          1323525.0  DUPLICATE  \n",
       "3          1481994.0  DUPLICATE  \n",
       "4          1401401.0  DUPLICATE  "
      ]
     },
     "execution_count": 64,
     "metadata": {},
     "output_type": "execute_result"
    }
   ],
   "source": [
    "dataset_sim = pd.read_csv('../../PreProcessedData/Firefox_final_sim.csv')\n",
    "\n",
    "print('Dimensions of Dataset: ', dataset_sim.shape)\n",
    "\n",
    "#To Create a Copy\n",
    "data_sim = dataset_sim.copy()\n",
    "\n",
    "#To add 'Summary' and 'Description' in a new Column 'Description1'\n",
    "data_sim['Description1'] = data_sim['Summary']+ data_sim['Description']\n",
    "\n",
    "#To add only required Columns\n",
    "data_sim = data_sim[['Bug ID', 'Description1', 'Duplicate_Bug_Ids', 'Resolution']]\n",
    "\n",
    "#To Rename the Columns\n",
    "data_sim = data_sim.rename(columns = {'Bug ID':'Bug_Id', 'Description1':'Description'})\n",
    "\n",
    "#To show Data\n",
    "data_sim.head()"
   ]
  },
  {
   "cell_type": "code",
   "execution_count": 65,
   "id": "864ab918",
   "metadata": {},
   "outputs": [],
   "source": [
    "#To Tokenize Data\n",
    "sentences = data_sim['Description']\n",
    "tokens_sim = []\n",
    "\n",
    "for sentence in sentences:\n",
    "    cleanedTex=re.sub(r'[^\\w\\s]','',str(sentence)).lower()\n",
    "    words = (word_tokenize(cleanedTex))\n",
    "    tokens_sim.append(words)\n",
    "\n",
    "#BM25\n",
    "bm25 = BM25Okapi(tokens)"
   ]
  },
  {
   "cell_type": "code",
   "execution_count": 67,
   "id": "5550f47f",
   "metadata": {},
   "outputs": [],
   "source": [
    "#Replacing Blank Values with 'NaN' Values\n",
    "data_sim.replace(\"\", np.nan, inplace=True)\n",
    "\n",
    "#Droping Data which has 'Nan' value for 'Description' Column\n",
    "data_sim.dropna(subset = [\"Description\"], inplace=True)\n",
    "\n",
    "#To Reset the index\n",
    "data_sim = data_sim.reset_index(drop=True)\n",
    "\n",
    "data_sim['Description']=data_sim['Description'].values.astype('object')\n",
    "\n",
    "#Filtering data based on 'Duplicate_Bug_Ids' Column to get Duplicate Bugs\n",
    "# data_sim = data_sim[data_sim['Duplicate_Bug_Ids'] > 0]\n",
    "# print('Dimensions of Data with Duplicate Bug Ids: ', data_sim.shape)"
   ]
  },
  {
   "cell_type": "code",
   "execution_count": null,
   "id": "bbe76ddd",
   "metadata": {},
   "outputs": [],
   "source": [
    "#To get Duplicate Indices\n",
    "dup_indices_with_bug_id_similar = getDuplicates(data, data_sim, tokens_sim, bm25)"
   ]
  },
  {
   "cell_type": "code",
   "execution_count": 69,
   "id": "f91abcba",
   "metadata": {},
   "outputs": [
    {
     "name": "stdout",
     "output_type": "stream",
     "text": [
      "For Textually Similar Dataset: \n",
      "Recall Rate at 1:  0.11567164179104478\n",
      "Recall Rate at 5:  0.208955223880597\n",
      "Recall Rate at 10:  0.2667910447761194\n",
      "Recall Rate at 20:  0.31716417910447764\n",
      "Recall Rate at 25:  0.3358208955223881\n",
      "Recall Rate at 30:  0.35634328358208955\n",
      "Recall Rate at 50:  0.39552238805970147\n",
      "Recall Rate at 75:  0.44029850746268656\n",
      "Recall Rate at 100:  0.47201492537313433\n"
     ]
    }
   ],
   "source": [
    "#To Calculate Recall\n",
    "print('For Textually Similar Dataset: ')\n",
    "calculate_recall(dup_indices_with_bug_id_similar)"
   ]
  },
  {
   "cell_type": "markdown",
   "id": "be3a1e38",
   "metadata": {},
   "source": [
    "# For Textually Dissimilar Data"
   ]
  },
  {
   "cell_type": "code",
   "execution_count": 70,
   "id": "cd244eb0",
   "metadata": {},
   "outputs": [
    {
     "name": "stdout",
     "output_type": "stream",
     "text": [
      "Dimensions of Dataset:  (1589, 14)\n"
     ]
    },
    {
     "data": {
      "text/html": [
       "<div>\n",
       "<style scoped>\n",
       "    .dataframe tbody tr th:only-of-type {\n",
       "        vertical-align: middle;\n",
       "    }\n",
       "\n",
       "    .dataframe tbody tr th {\n",
       "        vertical-align: top;\n",
       "    }\n",
       "\n",
       "    .dataframe thead th {\n",
       "        text-align: right;\n",
       "    }\n",
       "</style>\n",
       "<table border=\"1\" class=\"dataframe\">\n",
       "  <thead>\n",
       "    <tr style=\"text-align: right;\">\n",
       "      <th></th>\n",
       "      <th>Bug_Id</th>\n",
       "      <th>Description</th>\n",
       "      <th>Duplicate_Bug_Ids</th>\n",
       "      <th>Resolution</th>\n",
       "    </tr>\n",
       "  </thead>\n",
       "  <tbody>\n",
       "    <tr>\n",
       "      <th>0</th>\n",
       "      <td>1357039</td>\n",
       "      <td>Should add the Customize Firefox tour in the o...</td>\n",
       "      <td>1357029.0</td>\n",
       "      <td>DUPLICATE</td>\n",
       "    </tr>\n",
       "    <tr>\n",
       "      <th>1</th>\n",
       "      <td>1359062</td>\n",
       "      <td>Increase contrast of the Downloads Indicator o...</td>\n",
       "      <td>1347543.0</td>\n",
       "      <td>DUPLICATE</td>\n",
       "    </tr>\n",
       "    <tr>\n",
       "      <th>2</th>\n",
       "      <td>1357056</td>\n",
       "      <td>Should not display the notification bar if use...</td>\n",
       "      <td>1357641.0</td>\n",
       "      <td>DUPLICATE</td>\n",
       "    </tr>\n",
       "    <tr>\n",
       "      <th>3</th>\n",
       "      <td>1357041</td>\n",
       "      <td>Should highlight the customize button in the h...</td>\n",
       "      <td>1357029.0</td>\n",
       "      <td>DUPLICATE</td>\n",
       "    </tr>\n",
       "    <tr>\n",
       "      <th>4</th>\n",
       "      <td>1378164</td>\n",
       "      <td>Noisy debug in a debug build (of Thunderbird, ...</td>\n",
       "      <td>1377923.0</td>\n",
       "      <td>DUPLICATE</td>\n",
       "    </tr>\n",
       "  </tbody>\n",
       "</table>\n",
       "</div>"
      ],
      "text/plain": [
       "    Bug_Id                                        Description  \\\n",
       "0  1357039  Should add the Customize Firefox tour in the o...   \n",
       "1  1359062  Increase contrast of the Downloads Indicator o...   \n",
       "2  1357056  Should not display the notification bar if use...   \n",
       "3  1357041  Should highlight the customize button in the h...   \n",
       "4  1378164  Noisy debug in a debug build (of Thunderbird, ...   \n",
       "\n",
       "   Duplicate_Bug_Ids Resolution  \n",
       "0          1357029.0  DUPLICATE  \n",
       "1          1347543.0  DUPLICATE  \n",
       "2          1357641.0  DUPLICATE  \n",
       "3          1357029.0  DUPLICATE  \n",
       "4          1377923.0  DUPLICATE  "
      ]
     },
     "execution_count": 70,
     "metadata": {},
     "output_type": "execute_result"
    }
   ],
   "source": [
    "dataset_dissim = pd.read_csv('../../PreProcessedData/Firefox_final_dis.csv')\n",
    "\n",
    "print('Dimensions of Dataset: ', dataset_dissim.shape)\n",
    "\n",
    "#To Create a Copy\n",
    "data_dissim = dataset_dissim.copy()\n",
    "\n",
    "#To add 'Summary' and 'Description' in a new Column 'Description1'\n",
    "data_dissim['Description1'] = data_dissim['Summary']+ data_dissim['Description']\n",
    "\n",
    "#To add only required Columns\n",
    "data_dissim = data_dissim[['Bug ID', 'Description1', 'Duplicate_Bug_Ids', 'Resolution']]\n",
    "\n",
    "#To Rename the Columns\n",
    "data_dissim = data_dissim.rename(columns = {'Bug ID':'Bug_Id', 'Description1':'Description'})\n",
    "\n",
    "#To show Data\n",
    "data_dissim.head()"
   ]
  },
  {
   "cell_type": "code",
   "execution_count": 71,
   "id": "876983c7",
   "metadata": {},
   "outputs": [],
   "source": [
    "#To Tokenize Data\n",
    "sentences = data_dissim['Description']\n",
    "tokens_dissim = []\n",
    "\n",
    "for sentence in sentences:\n",
    "    cleanedTex=re.sub(r'[^\\w\\s]','',str(sentence)).lower()\n",
    "    words = (word_tokenize(cleanedTex))\n",
    "    tokens_dissim.append(words)\n",
    "\n",
    "#BM25\n",
    "bm25 = BM25Okapi(tokens)"
   ]
  },
  {
   "cell_type": "code",
   "execution_count": 73,
   "id": "7bca6204",
   "metadata": {},
   "outputs": [],
   "source": [
    "#Replacing Blank Values with 'NaN' Values\n",
    "data_dissim.replace(\"\", np.nan, inplace=True)\n",
    "\n",
    "#Droping Data which has 'Nan' value for 'Description' Column\n",
    "data_dissim.dropna(subset = [\"Description\"], inplace=True)\n",
    "\n",
    "#To Reset the index\n",
    "data_dissim = data_dissim.reset_index(drop=True)\n",
    "\n",
    "data_dissim['Description']=data_dissim['Description'].values.astype('object')\n",
    "\n",
    "#Filtering data based on 'Duplicate_Bug_Ids' Column to get Duplicate Bugs\n",
    "# data_dissim = data_dissim[data_dissim['Duplicate_Bug_Ids'] > 0]\n",
    "# print('Dimensions of Data with Duplicate Bug Ids: ', data_dissim.shape)"
   ]
  },
  {
   "cell_type": "code",
   "execution_count": null,
   "id": "779fa7cf",
   "metadata": {},
   "outputs": [],
   "source": [
    "#To get Duplicate Indices\n",
    "dup_indices_with_bug_id_dissimilar = getDuplicates(data, data_dissim, tokens_dissim, bm25)"
   ]
  },
  {
   "cell_type": "code",
   "execution_count": 75,
   "id": "2c48d4e1",
   "metadata": {},
   "outputs": [
    {
     "name": "stdout",
     "output_type": "stream",
     "text": [
      "For Textually Dissimilar Dataset: \n",
      "Recall Rate at 1:  0.20710784313725492\n",
      "Recall Rate at 5:  0.34681372549019607\n",
      "Recall Rate at 10:  0.4007352941176471\n",
      "Recall Rate at 20:  0.4583333333333333\n",
      "Recall Rate at 25:  0.47549019607843135\n",
      "Recall Rate at 30:  0.4889705882352941\n",
      "Recall Rate at 50:  0.5306372549019608\n",
      "Recall Rate at 75:  0.5588235294117647\n",
      "Recall Rate at 100:  0.5808823529411765\n"
     ]
    }
   ],
   "source": [
    "#To Calculate Recall\n",
    "print('For Textually Dissimilar Dataset: ')\n",
    "calculate_recall(dup_indices_with_bug_id_dissimilar)"
   ]
  }
 ],
 "metadata": {
  "kernelspec": {
   "display_name": "Python 3 (ipykernel)",
   "language": "python",
   "name": "python3"
  },
  "language_info": {
   "codemirror_mode": {
    "name": "ipython",
    "version": 3
   },
   "file_extension": ".py",
   "mimetype": "text/x-python",
   "name": "python",
   "nbconvert_exporter": "python",
   "pygments_lexer": "ipython3",
   "version": "3.9.12"
  }
 },
 "nbformat": 4,
 "nbformat_minor": 5
}
