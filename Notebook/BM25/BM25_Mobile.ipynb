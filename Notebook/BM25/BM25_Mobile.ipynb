{
 "cells": [
  {
   "cell_type": "code",
   "execution_count": 144,
   "id": "b7d01387",
   "metadata": {},
   "outputs": [
    {
     "name": "stderr",
     "output_type": "stream",
     "text": [
      "[nltk_data] Downloading package punkt to\n",
      "[nltk_data]     C:\\Users\\comka\\AppData\\Roaming\\nltk_data...\n",
      "[nltk_data]   Package punkt is already up-to-date!\n"
     ]
    }
   ],
   "source": [
    "import numpy as np\n",
    "import pandas as pd\n",
    "\n",
    "import requests\n",
    "import json\n",
    "import urllib.request\n",
    "import time\n",
    "import re\n",
    "import nltk\n",
    "nltk.download('punkt')\n",
    "\n",
    "from bs4 import BeautifulSoup\n",
    "from rank_bm25 import BM25Okapi\n",
    "from nltk.tokenize import word_tokenize"
   ]
  },
  {
   "cell_type": "code",
   "execution_count": 145,
   "id": "b517e7ba",
   "metadata": {},
   "outputs": [
    {
     "name": "stdout",
     "output_type": "stream",
     "text": [
      "Dimensions of Dataset:  (5320, 12)\n"
     ]
    },
    {
     "data": {
      "text/html": [
       "<div>\n",
       "<style scoped>\n",
       "    .dataframe tbody tr th:only-of-type {\n",
       "        vertical-align: middle;\n",
       "    }\n",
       "\n",
       "    .dataframe tbody tr th {\n",
       "        vertical-align: top;\n",
       "    }\n",
       "\n",
       "    .dataframe thead th {\n",
       "        text-align: right;\n",
       "    }\n",
       "</style>\n",
       "<table border=\"1\" class=\"dataframe\">\n",
       "  <thead>\n",
       "    <tr style=\"text-align: right;\">\n",
       "      <th></th>\n",
       "      <th>Bug_Id</th>\n",
       "      <th>Description</th>\n",
       "      <th>Duplicate_Bug_Ids</th>\n",
       "      <th>Resolution</th>\n",
       "    </tr>\n",
       "  </thead>\n",
       "  <tbody>\n",
       "    <tr>\n",
       "      <th>0</th>\n",
       "      <td>1668376</td>\n",
       "      <td>Test failure in dom/base/test/test_window_clos...</td>\n",
       "      <td>NaN</td>\n",
       "      <td>FIXED</td>\n",
       "    </tr>\n",
       "    <tr>\n",
       "      <th>1</th>\n",
       "      <td>1631754</td>\n",
       "      <td>PanZoomController erroneously returns INPUT_RE...</td>\n",
       "      <td>NaN</td>\n",
       "      <td>FIXED</td>\n",
       "    </tr>\n",
       "    <tr>\n",
       "      <th>2</th>\n",
       "      <td>1677838</td>\n",
       "      <td>NumberFormatExceptionjava.lang.Integer in pars...</td>\n",
       "      <td>NaN</td>\n",
       "      <td>FIXED</td>\n",
       "    </tr>\n",
       "    <tr>\n",
       "      <th>3</th>\n",
       "      <td>1686100</td>\n",
       "      <td>Route Service.onTrimMemory notifications throu...</td>\n",
       "      <td>NaN</td>\n",
       "      <td>FIXED</td>\n",
       "    </tr>\n",
       "    <tr>\n",
       "      <th>4</th>\n",
       "      <td>1630229</td>\n",
       "      <td>Crash in [@ java.lang.AssertionError: at org.m...</td>\n",
       "      <td>NaN</td>\n",
       "      <td>FIXED</td>\n",
       "    </tr>\n",
       "  </tbody>\n",
       "</table>\n",
       "</div>"
      ],
      "text/plain": [
       "    Bug_Id                                        Description  \\\n",
       "0  1668376  Test failure in dom/base/test/test_window_clos...   \n",
       "1  1631754  PanZoomController erroneously returns INPUT_RE...   \n",
       "2  1677838  NumberFormatExceptionjava.lang.Integer in pars...   \n",
       "3  1686100  Route Service.onTrimMemory notifications throu...   \n",
       "4  1630229  Crash in [@ java.lang.AssertionError: at org.m...   \n",
       "\n",
       "   Duplicate_Bug_Ids Resolution  \n",
       "0                NaN      FIXED  \n",
       "1                NaN      FIXED  \n",
       "2                NaN      FIXED  \n",
       "3                NaN      FIXED  \n",
       "4                NaN      FIXED  "
      ]
     },
     "execution_count": 145,
     "metadata": {},
     "output_type": "execute_result"
    }
   ],
   "source": [
    "dataset = pd.read_csv('../../PrimaryDataset/mobile_preproccessed_whole_dataset.csv')\n",
    "\n",
    "print('Dimensions of Dataset: ', dataset.shape)\n",
    "\n",
    "#To Create a Copy\n",
    "data = dataset.copy()\n",
    "\n",
    "#To add 'Summary' and 'Description' in a new Column 'Description1'\n",
    "data['Description1'] = data['Summary']+ data['Description']\n",
    "\n",
    "#To add only required Columns\n",
    "data = data[['Bug ID', 'Description1', 'Duplicate_Bug_Ids', 'Resolution']]\n",
    "\n",
    "#To Rename the Columns\n",
    "data = data.rename(columns = {'Bug ID':'Bug_Id', 'Description1':'Description'})\n",
    "\n",
    "#To show Data\n",
    "data.head()"
   ]
  },
  {
   "cell_type": "code",
   "execution_count": 146,
   "id": "2730f265",
   "metadata": {},
   "outputs": [],
   "source": [
    "#To Tokenize Data\n",
    "sentences = data['Description']\n",
    "tokens = []\n",
    "\n",
    "for sentence in sentences:\n",
    "    cleanedTex=re.sub(r'[^\\w\\s]','',str(sentence)).lower()\n",
    "    words = (word_tokenize(cleanedTex))\n",
    "    tokens.append(words)\n",
    "\n",
    "#BM25\n",
    "bm25 = BM25Okapi(tokens)"
   ]
  },
  {
   "cell_type": "code",
   "execution_count": 147,
   "id": "252753bc",
   "metadata": {},
   "outputs": [],
   "source": [
    "#Replacing Blank Values with 'NaN' Values\n",
    "data.replace(\"\", np.nan, inplace=True)\n",
    "\n",
    "#Droping Data which has 'Nan' value for 'Description' Column\n",
    "data.dropna(subset = [\"Description\"], inplace=True)\n",
    "\n",
    "#To Reset the index\n",
    "data = data.reset_index(drop=True)\n",
    "\n",
    "data['Description']=data['Description'].values.astype('object')\n",
    "\n",
    "#Filtering data based on 'Duplicate_Bug_Ids' Column to get Duplicate Bugs\n",
    "# data = data[data['Duplicate_Bug_Ids'] > 0]\n",
    "# print('Dimensions of Data with Duplicate Bug Ids: ', data.shape)"
   ]
  },
  {
   "cell_type": "code",
   "execution_count": 148,
   "id": "c2653981",
   "metadata": {},
   "outputs": [],
   "source": [
    "def getDuplicates(whole_data, data, tokens, bm25):\n",
    "    count=0\n",
    "    dup_indices_with_bug_id = {}\n",
    "    bugs = whole_data['Bug_Id']\n",
    "\n",
    "    for i, row in data.iterrows():\n",
    "        bug_id = row['Bug_Id']\n",
    "        dup_bug_id = row['Duplicate_Bug_Ids']\n",
    "    \n",
    "        if dup_bug_id not in bugs.values:\n",
    "            count+=1\n",
    "            continue\n",
    "        \n",
    "        similarity_row = bm25.get_scores(tokens[i])\n",
    "        argsort_similarity = np.argsort(similarity_row)[::-1][1:]\n",
    "        dup_bug_index = list(bugs[bugs == dup_bug_id].index)[0]\n",
    "        dup_ranking = np.argmax(argsort_similarity == np.int64(dup_bug_index)) \n",
    "        dup_indices_with_bug_id[bug_id] = dup_ranking\n",
    "        \n",
    "    return dup_indices_with_bug_id"
   ]
  },
  {
   "cell_type": "code",
   "execution_count": 149,
   "id": "d9fb70f5",
   "metadata": {},
   "outputs": [],
   "source": [
    "def calculate_recall(dup_indices_with_bug_id):\n",
    "    counts = {1: 0, 5: 0, 10: 0, 20: 0, 25: 0, 30: 0, 50: 0, 75: 0, 100: 0}\n",
    "\n",
    "    for value in dup_indices_with_bug_id.values():\n",
    "        for key in counts.keys():\n",
    "            if(value < key):\n",
    "                counts[key] += 1\n",
    "\n",
    "    N = len(dup_indices_with_bug_id)\n",
    "    \n",
    "    for key in counts.keys():\n",
    "        recall_rate = counts[key]/N\n",
    "        print('Recall Rate at '+str(key)+': ', recall_rate)"
   ]
  },
  {
   "cell_type": "code",
   "execution_count": 150,
   "id": "20dca98a",
   "metadata": {},
   "outputs": [],
   "source": [
    "#To get Duplicate Indices\n",
    "dup_indices_with_bug_id = getDuplicates(data, data, tokens, bm25)"
   ]
  },
  {
   "cell_type": "code",
   "execution_count": 151,
   "id": "d56a2747",
   "metadata": {},
   "outputs": [
    {
     "name": "stdout",
     "output_type": "stream",
     "text": [
      "For Complete Dataset: \n",
      "Recall Rate at 1:  0.17251461988304093\n",
      "Recall Rate at 5:  0.2894736842105263\n",
      "Recall Rate at 10:  0.3538011695906433\n",
      "Recall Rate at 20:  0.4239766081871345\n",
      "Recall Rate at 25:  0.4502923976608187\n",
      "Recall Rate at 30:  0.4678362573099415\n",
      "Recall Rate at 50:  0.5087719298245614\n",
      "Recall Rate at 75:  0.5555555555555556\n",
      "Recall Rate at 100:  0.5760233918128655\n"
     ]
    }
   ],
   "source": [
    "#To Calculate Recall\n",
    "print('For Complete Dataset: ')\n",
    "calculate_recall(dup_indices_with_bug_id)"
   ]
  },
  {
   "cell_type": "markdown",
   "id": "b22d8937",
   "metadata": {},
   "source": [
    "# For Textually Similar Data"
   ]
  },
  {
   "cell_type": "code",
   "execution_count": 152,
   "id": "d1a61efd",
   "metadata": {},
   "outputs": [
    {
     "name": "stdout",
     "output_type": "stream",
     "text": [
      "Dimensions of Dataset:  (122, 15)\n"
     ]
    },
    {
     "data": {
      "text/html": [
       "<div>\n",
       "<style scoped>\n",
       "    .dataframe tbody tr th:only-of-type {\n",
       "        vertical-align: middle;\n",
       "    }\n",
       "\n",
       "    .dataframe tbody tr th {\n",
       "        vertical-align: top;\n",
       "    }\n",
       "\n",
       "    .dataframe thead th {\n",
       "        text-align: right;\n",
       "    }\n",
       "</style>\n",
       "<table border=\"1\" class=\"dataframe\">\n",
       "  <thead>\n",
       "    <tr style=\"text-align: right;\">\n",
       "      <th></th>\n",
       "      <th>Bug_Id</th>\n",
       "      <th>Description</th>\n",
       "      <th>Duplicate_Bug_Ids</th>\n",
       "      <th>Resolution</th>\n",
       "    </tr>\n",
       "  </thead>\n",
       "  <tbody>\n",
       "    <tr>\n",
       "      <th>0</th>\n",
       "      <td>1536820</td>\n",
       "      <td>Intermittent org.mozilla.geckoview.test.WebExt...</td>\n",
       "      <td>1535913.0</td>\n",
       "      <td>DUPLICATE</td>\n",
       "    </tr>\n",
       "    <tr>\n",
       "      <th>1</th>\n",
       "      <td>1466482</td>\n",
       "      <td>Intermittent org.mozilla.geckoview.test.GeckoS...</td>\n",
       "      <td>1464351.0</td>\n",
       "      <td>DUPLICATE</td>\n",
       "    </tr>\n",
       "    <tr>\n",
       "      <th>2</th>\n",
       "      <td>1677708</td>\n",
       "      <td>Intermittent org.mozilla.geckoview.test.PanZoo...</td>\n",
       "      <td>1678895.0</td>\n",
       "      <td>DUPLICATE</td>\n",
       "    </tr>\n",
       "    <tr>\n",
       "      <th>3</th>\n",
       "      <td>1703350</td>\n",
       "      <td>Intermittent org.mozilla.geckoview.test.TextIn...</td>\n",
       "      <td>1681261.0</td>\n",
       "      <td>DUPLICATE</td>\n",
       "    </tr>\n",
       "    <tr>\n",
       "      <th>4</th>\n",
       "      <td>1574141</td>\n",
       "      <td>Intermittent org.mozilla.geckoview.test.Conten...</td>\n",
       "      <td>1564920.0</td>\n",
       "      <td>DUPLICATE</td>\n",
       "    </tr>\n",
       "  </tbody>\n",
       "</table>\n",
       "</div>"
      ],
      "text/plain": [
       "    Bug_Id                                        Description  \\\n",
       "0  1536820  Intermittent org.mozilla.geckoview.test.WebExt...   \n",
       "1  1466482  Intermittent org.mozilla.geckoview.test.GeckoS...   \n",
       "2  1677708  Intermittent org.mozilla.geckoview.test.PanZoo...   \n",
       "3  1703350  Intermittent org.mozilla.geckoview.test.TextIn...   \n",
       "4  1574141  Intermittent org.mozilla.geckoview.test.Conten...   \n",
       "\n",
       "   Duplicate_Bug_Ids Resolution  \n",
       "0          1535913.0  DUPLICATE  \n",
       "1          1464351.0  DUPLICATE  \n",
       "2          1678895.0  DUPLICATE  \n",
       "3          1681261.0  DUPLICATE  \n",
       "4          1564920.0  DUPLICATE  "
      ]
     },
     "execution_count": 152,
     "metadata": {},
     "output_type": "execute_result"
    }
   ],
   "source": [
    "dataset_sim = pd.read_csv('../../PreProcessedData/Mobile_final_sim.csv')\n",
    "\n",
    "print('Dimensions of Dataset: ', dataset_sim.shape)\n",
    "\n",
    "#To Create a Copy\n",
    "data_sim = dataset_sim.copy()\n",
    "\n",
    "#To add 'Summary' and 'Description' in a new Column 'Description1'\n",
    "data_sim['Description1'] = data_sim['Summary']+ data_sim['Description']\n",
    "\n",
    "#To add only required Columns\n",
    "data_sim = data_sim[['Bug ID', 'Description1', 'Duplicate_Bug_Ids', 'Resolution']]\n",
    "\n",
    "#To Rename the Columns\n",
    "data_sim = data_sim.rename(columns = {'Bug ID':'Bug_Id', 'Description1':'Description'})\n",
    "\n",
    "#To show Data\n",
    "data_sim.head()"
   ]
  },
  {
   "cell_type": "code",
   "execution_count": 153,
   "id": "839133e5",
   "metadata": {},
   "outputs": [],
   "source": [
    "#To Tokenize Data\n",
    "sentences = data_sim['Description']\n",
    "tokens_sim = []\n",
    "\n",
    "for sentence in sentences:\n",
    "    cleanedTex=re.sub(r'[^\\w\\s]','',str(sentence)).lower()\n",
    "    words = (word_tokenize(cleanedTex))\n",
    "    tokens_sim.append(words)\n",
    "\n",
    "#BM25\n",
    "bm25 = BM25Okapi(tokens)"
   ]
  },
  {
   "cell_type": "code",
   "execution_count": 154,
   "id": "288701b3",
   "metadata": {},
   "outputs": [],
   "source": [
    "#Replacing Blank Values with 'NaN' Values\n",
    "data_sim.replace(\"\", np.nan, inplace=True)\n",
    "\n",
    "#Droping Data which has 'Nan' value for 'Description' Column\n",
    "data_sim.dropna(subset = [\"Description\"], inplace=True)\n",
    "\n",
    "#To Reset the index\n",
    "data_sim = data_sim.reset_index(drop=True)\n",
    "\n",
    "data_sim['Description']=data_sim['Description'].values.astype('object')\n",
    "\n",
    "#Filtering data based on 'Duplicate_Bug_Ids' Column to get Duplicate Bugs\n",
    "# data_sim = data_sim[data_sim['Duplicate_Bug_Ids'] > 0]\n",
    "# print('Dimensions of Data with Duplicate Bug Ids: ', data_sim.shape)"
   ]
  },
  {
   "cell_type": "code",
   "execution_count": 155,
   "id": "7b523230",
   "metadata": {},
   "outputs": [],
   "source": [
    "#To get Duplicate Indices\n",
    "dup_indices_with_bug_id_similar = getDuplicates(data, data_sim, tokens_sim, bm25)"
   ]
  },
  {
   "cell_type": "code",
   "execution_count": 156,
   "id": "febc8bf0",
   "metadata": {},
   "outputs": [
    {
     "name": "stdout",
     "output_type": "stream",
     "text": [
      "For Textually Similar Dataset: \n",
      "Recall Rate at 1:  0.22\n",
      "Recall Rate at 5:  0.44\n",
      "Recall Rate at 10:  0.48\n",
      "Recall Rate at 20:  0.58\n",
      "Recall Rate at 25:  0.6\n",
      "Recall Rate at 30:  0.64\n",
      "Recall Rate at 50:  0.7\n",
      "Recall Rate at 75:  0.78\n",
      "Recall Rate at 100:  0.78\n"
     ]
    }
   ],
   "source": [
    "#To Calculate Recall\n",
    "print('For Textually Similar Dataset: ')\n",
    "calculate_recall(dup_indices_with_bug_id_similar)"
   ]
  },
  {
   "cell_type": "markdown",
   "id": "78ca32d2",
   "metadata": {},
   "source": [
    "# For Textually Dissimilar Data"
   ]
  },
  {
   "cell_type": "code",
   "execution_count": 157,
   "id": "5805afe5",
   "metadata": {},
   "outputs": [
    {
     "name": "stdout",
     "output_type": "stream",
     "text": [
      "Dimensions of Dataset:  (131, 15)\n"
     ]
    },
    {
     "data": {
      "text/html": [
       "<div>\n",
       "<style scoped>\n",
       "    .dataframe tbody tr th:only-of-type {\n",
       "        vertical-align: middle;\n",
       "    }\n",
       "\n",
       "    .dataframe tbody tr th {\n",
       "        vertical-align: top;\n",
       "    }\n",
       "\n",
       "    .dataframe thead th {\n",
       "        text-align: right;\n",
       "    }\n",
       "</style>\n",
       "<table border=\"1\" class=\"dataframe\">\n",
       "  <thead>\n",
       "    <tr style=\"text-align: right;\">\n",
       "      <th></th>\n",
       "      <th>Bug_Id</th>\n",
       "      <th>Description</th>\n",
       "      <th>Duplicate_Bug_Ids</th>\n",
       "      <th>Resolution</th>\n",
       "    </tr>\n",
       "  </thead>\n",
       "  <tbody>\n",
       "    <tr>\n",
       "      <th>0</th>\n",
       "      <td>1655196</td>\n",
       "      <td>High ratio of ERROR_NO_MINIDUMP_HEADERtalking ...</td>\n",
       "      <td>1644486.0</td>\n",
       "      <td>DUPLICATE</td>\n",
       "    </tr>\n",
       "    <tr>\n",
       "      <th>1</th>\n",
       "      <td>1482876</td>\n",
       "      <td>Storage crash: lastInsertedRowID, 32-bit only,...</td>\n",
       "      <td>1482487.0</td>\n",
       "      <td>DUPLICATE</td>\n",
       "    </tr>\n",
       "    <tr>\n",
       "      <th>2</th>\n",
       "      <td>1331985</td>\n",
       "      <td>Crash: [UIApplication _cachedSystemAnimationFe...</td>\n",
       "      <td>1355440.0</td>\n",
       "      <td>DUPLICATE</td>\n",
       "    </tr>\n",
       "    <tr>\n",
       "      <th>3</th>\n",
       "      <td>1494388</td>\n",
       "      <td>Remaining mochitest and reftest failures in Te...</td>\n",
       "      <td>1460411.0</td>\n",
       "      <td>DUPLICATE</td>\n",
       "    </tr>\n",
       "    <tr>\n",
       "      <th>4</th>\n",
       "      <td>1568667</td>\n",
       "      <td>Extend ContentBlocking API to support Social T...</td>\n",
       "      <td>1568295.0</td>\n",
       "      <td>DUPLICATE</td>\n",
       "    </tr>\n",
       "  </tbody>\n",
       "</table>\n",
       "</div>"
      ],
      "text/plain": [
       "    Bug_Id                                        Description  \\\n",
       "0  1655196  High ratio of ERROR_NO_MINIDUMP_HEADERtalking ...   \n",
       "1  1482876  Storage crash: lastInsertedRowID, 32-bit only,...   \n",
       "2  1331985  Crash: [UIApplication _cachedSystemAnimationFe...   \n",
       "3  1494388  Remaining mochitest and reftest failures in Te...   \n",
       "4  1568667  Extend ContentBlocking API to support Social T...   \n",
       "\n",
       "   Duplicate_Bug_Ids Resolution  \n",
       "0          1644486.0  DUPLICATE  \n",
       "1          1482487.0  DUPLICATE  \n",
       "2          1355440.0  DUPLICATE  \n",
       "3          1460411.0  DUPLICATE  \n",
       "4          1568295.0  DUPLICATE  "
      ]
     },
     "execution_count": 157,
     "metadata": {},
     "output_type": "execute_result"
    }
   ],
   "source": [
    "dataset_dissim = pd.read_csv('../../PreProcessedData/Mobile_final_dis.csv')\n",
    "\n",
    "print('Dimensions of Dataset: ', dataset_dissim.shape)\n",
    "\n",
    "#To Create a Copy\n",
    "data_dissim = dataset_dissim.copy()\n",
    "\n",
    "#To add 'Summary' and 'Description' in a new Column 'Description1'\n",
    "data_dissim['Description1'] = data_dissim['Summary']+ data_dissim['Description']\n",
    "\n",
    "#To add only required Columns\n",
    "data_dissim = data_dissim[['Bug ID', 'Description1', 'Duplicate_Bug_Ids', 'Resolution']]\n",
    "\n",
    "#To Rename the Columns\n",
    "data_dissim = data_dissim.rename(columns = {'Bug ID':'Bug_Id', 'Description1':'Description'})\n",
    "\n",
    "#To show Data\n",
    "data_dissim.head()"
   ]
  },
  {
   "cell_type": "code",
   "execution_count": 158,
   "id": "a69422ab",
   "metadata": {},
   "outputs": [],
   "source": [
    "#To Tokenize Data\n",
    "sentences = data_dissim['Description']\n",
    "tokens_dissim = []\n",
    "\n",
    "for sentence in sentences:\n",
    "    cleanedTex=re.sub(r'[^\\w\\s]','',str(sentence)).lower()\n",
    "    words = (word_tokenize(cleanedTex))\n",
    "    tokens_dissim.append(words)\n",
    "\n",
    "#BM25\n",
    "bm25 = BM25Okapi(tokens)"
   ]
  },
  {
   "cell_type": "code",
   "execution_count": 159,
   "id": "2172f1ce",
   "metadata": {},
   "outputs": [
    {
     "data": {
      "text/plain": [
       "131"
      ]
     },
     "execution_count": 159,
     "metadata": {},
     "output_type": "execute_result"
    }
   ],
   "source": [
    "len(tokens_dissim)"
   ]
  },
  {
   "cell_type": "code",
   "execution_count": 160,
   "id": "9cd95960",
   "metadata": {},
   "outputs": [],
   "source": [
    "#Replacing Blank Values with 'NaN' Values\n",
    "data_dissim.replace(\"\", np.nan, inplace=True)\n",
    "\n",
    "#Droping Data which has 'Nan' value for 'Description' Column\n",
    "data_dissim.dropna(subset = [\"Description\"], inplace=True)\n",
    "\n",
    "#To Reset the index\n",
    "data_dissim = data_dissim.reset_index(drop=True)\n",
    "\n",
    "data_dissim['Description']=data_dissim['Description'].values.astype('object')\n",
    "\n",
    "#Filtering data based on 'Duplicate_Bug_Ids' Column to get Duplicate Bugs\n",
    "# data_dissim = data_dissim[data_dissim['Duplicate_Bug_Ids'] > 0]\n",
    "# print('Dimensions of Data with Duplicate Bug Ids: ', data_dissim.shape)"
   ]
  },
  {
   "cell_type": "code",
   "execution_count": 161,
   "id": "47e3819d",
   "metadata": {},
   "outputs": [],
   "source": [
    "#To get Duplicate Indices\n",
    "dup_indices_with_bug_id_dissimilar = getDuplicates(data, data_dissim, tokens_dissim, bm25)"
   ]
  },
  {
   "cell_type": "code",
   "execution_count": 162,
   "id": "182b1407",
   "metadata": {},
   "outputs": [
    {
     "name": "stdout",
     "output_type": "stream",
     "text": [
      "For Textually Dissimilar Dataset: \n",
      "Recall Rate at 1:  0.15730337078651685\n",
      "Recall Rate at 5:  0.2808988764044944\n",
      "Recall Rate at 10:  0.3595505617977528\n",
      "Recall Rate at 20:  0.43820224719101125\n",
      "Recall Rate at 25:  0.449438202247191\n",
      "Recall Rate at 30:  0.47191011235955055\n",
      "Recall Rate at 50:  0.5168539325842697\n",
      "Recall Rate at 75:  0.5617977528089888\n",
      "Recall Rate at 100:  0.5955056179775281\n"
     ]
    }
   ],
   "source": [
    "#To Calculate Recall\n",
    "print('For Textually Dissimilar Dataset: ')\n",
    "calculate_recall(dup_indices_with_bug_id_dissimilar)"
   ]
  }
 ],
 "metadata": {
  "kernelspec": {
   "display_name": "Python 3 (ipykernel)",
   "language": "python",
   "name": "python3"
  },
  "language_info": {
   "codemirror_mode": {
    "name": "ipython",
    "version": 3
   },
   "file_extension": ".py",
   "mimetype": "text/x-python",
   "name": "python",
   "nbconvert_exporter": "python",
   "pygments_lexer": "ipython3",
   "version": "3.9.12"
  }
 },
 "nbformat": 4,
 "nbformat_minor": 5
}
