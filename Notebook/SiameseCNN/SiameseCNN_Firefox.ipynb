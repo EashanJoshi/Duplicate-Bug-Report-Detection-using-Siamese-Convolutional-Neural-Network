{
 "cells": [
  {
   "cell_type": "code",
   "execution_count": 11,
   "id": "ae0c3a12",
   "metadata": {},
   "outputs": [
    {
     "name": "stdout",
     "output_type": "stream",
     "text": [
      "Requirement already satisfied: kutils==0.3.0 in c:\\users\\comka\\anaconda3\\lib\\site-packages (0.3.0)\n",
      "Requirement already satisfied: pydot in c:\\users\\comka\\anaconda3\\lib\\site-packages (1.4.2)\n",
      "Requirement already satisfied: pyparsing>=2.1.4 in c:\\users\\comka\\anaconda3\\lib\\site-packages (from pydot) (3.0.9)\n",
      "Requirement already satisfied: graphviz in c:\\users\\comka\\anaconda3\\lib\\site-packages (0.20.1)\n"
     ]
    }
   ],
   "source": [
    "!pip install kutils==0.3.0\n",
    "!pip install pydot\n",
    "!pip install graphviz"
   ]
  },
  {
   "cell_type": "code",
   "execution_count": 12,
   "id": "34ebfbdc",
   "metadata": {},
   "outputs": [
    {
     "name": "stderr",
     "output_type": "stream",
     "text": [
      "[nltk_data] Downloading package stopwords to\n",
      "[nltk_data]     C:\\Users\\comka\\AppData\\Roaming\\nltk_data...\n",
      "[nltk_data]   Package stopwords is already up-to-date!\n",
      "[nltk_data] Downloading package wordnet to\n",
      "[nltk_data]     C:\\Users\\comka\\AppData\\Roaming\\nltk_data...\n",
      "[nltk_data]   Package wordnet is already up-to-date!\n"
     ]
    }
   ],
   "source": [
    "import pandas as pd\n",
    "\n",
    "import numpy as np\n",
    "np.random.seed(0)\n",
    "\n",
    "import matplotlib.pyplot as plt\n",
    "from matplotlib import pyplot\n",
    "\n",
    "import nltk\n",
    "from nltk.corpus import stopwords\n",
    "from nltk import word_tokenize\n",
    "from nltk.stem import WordNetLemmatizer, SnowballStemmer\n",
    "from nltk.stem.porter import *\n",
    "from nltk.stem import PorterStemmer\n",
    "nltk.download('stopwords')\n",
    "nltk.download('wordnet')\n",
    "\n",
    "import gensim\n",
    "from gensim.utils import simple_preprocess\n",
    "from gensim.parsing.preprocessing import STOPWORDS\n",
    "\n",
    "import pickle\n",
    "import pickle\n",
    "\n",
    "import requests\n",
    "import json\n",
    "import urllib.request\n",
    "import time\n",
    "import re\n",
    "import itertools\n",
    "import statistics\n",
    "import random\n",
    "\n",
    "import warnings\n",
    "warnings.filterwarnings('ignore')\n",
    "\n",
    "import os\n",
    "os.environ['CUDA_VISIBLE_DEVICES'] = '-1'\n",
    "\n",
    "from typing import List, Dict, Tuple, Set\n",
    "from bs4 import BeautifulSoup\n",
    "\n",
    "import sklearn\n",
    "from sklearn.model_selection import train_test_split\n",
    "from sklearn.feature_extraction.text import TfidfVectorizer\n",
    "from sklearn.metrics.pairwise import cosine_similarity\n",
    "from sklearn.datasets import make_circles\n",
    "from sklearn.metrics import accuracy_score\n",
    "from sklearn.metrics import precision_score\n",
    "from sklearn.metrics import recall_score\n",
    "from sklearn.metrics import f1_score\n",
    "from sklearn.metrics import cohen_kappa_score\n",
    "from sklearn.metrics import roc_auc_score\n",
    "from sklearn.metrics import confusion_matrix\n",
    "from sklearn.metrics import classification_report\n",
    "from sklearn.metrics import roc_curve\n",
    "\n",
    "import seaborn as sns; sns.set_theme()\n",
    "from sklearn.metrics import accuracy_score\n",
    "import sklearn.metrics as metrics\n",
    "\n",
    "from datetime import datetime\n",
    "from scipy.stats import skew\n",
    "\n",
    "from keras.models import Sequential\n",
    "from keras.layers import Dense\n",
    "from keras.initializers import Constant\n",
    "from keras.layers.preprocessing.text_vectorization import TextVectorization\n",
    "from keras.utils.vis_utils import plot_model\n",
    "\n",
    "import tensorflow as tf\n",
    "import tensorflow.keras.utils as kutils\n",
    "\n",
    "from pathlib import Path\n",
    "from io import open\n",
    "\n",
    "from tensorflow.keras import layers\n",
    "from tensorflow.keras import models\n",
    "from tensorflow.keras import callbacks"
   ]
  },
  {
   "cell_type": "code",
   "execution_count": 13,
   "id": "10a42a74",
   "metadata": {},
   "outputs": [
    {
     "name": "stdout",
     "output_type": "stream",
     "text": [
      "Dimensions of Training Dataset:  (31611, 4)\n"
     ]
    },
    {
     "data": {
      "text/html": [
       "<div>\n",
       "<style scoped>\n",
       "    .dataframe tbody tr th:only-of-type {\n",
       "        vertical-align: middle;\n",
       "    }\n",
       "\n",
       "    .dataframe tbody tr th {\n",
       "        vertical-align: top;\n",
       "    }\n",
       "\n",
       "    .dataframe thead th {\n",
       "        text-align: right;\n",
       "    }\n",
       "</style>\n",
       "<table border=\"1\" class=\"dataframe\">\n",
       "  <thead>\n",
       "    <tr style=\"text-align: right;\">\n",
       "      <th></th>\n",
       "      <th>Unnamed: 0</th>\n",
       "      <th>description1</th>\n",
       "      <th>description2</th>\n",
       "      <th>is_similar</th>\n",
       "    </tr>\n",
       "  </thead>\n",
       "  <tbody>\n",
       "    <tr>\n",
       "      <th>0</th>\n",
       "      <td>0</td>\n",
       "      <td>created attachment   fandango com after sign...</td>\n",
       "      <td>user agent  mozilla       gecko   firefox   ...</td>\n",
       "      <td>0</td>\n",
       "    </tr>\n",
       "    <tr>\n",
       "      <th>1</th>\n",
       "      <td>1</td>\n",
       "      <td>created attachment   dropdown marker        ...</td>\n",
       "      <td>user agent  mozilla       gecko   firefox   ...</td>\n",
       "      <td>1</td>\n",
       "    </tr>\n",
       "    <tr>\n",
       "      <th>2</th>\n",
       "      <td>3</td>\n",
       "      <td>this bug was initially created as a clon...</td>\n",
       "      <td>note  i am very bad at filing bugs  so i apo...</td>\n",
       "      <td>0</td>\n",
       "    </tr>\n",
       "    <tr>\n",
       "      <th>3</th>\n",
       "      <td>4</td>\n",
       "      <td>currently in policies  we have two function ...</td>\n",
       "      <td>filed by    ncsoregi  at  mozilla com   pa...</td>\n",
       "      <td>0</td>\n",
       "    </tr>\n",
       "    <tr>\n",
       "      <th>4</th>\n",
       "      <td>5</td>\n",
       "      <td>remove bottom margin on image wrapper for ...</td>\n",
       "      <td>there s only a few tests remaining in browse...</td>\n",
       "      <td>0</td>\n",
       "    </tr>\n",
       "  </tbody>\n",
       "</table>\n",
       "</div>"
      ],
      "text/plain": [
       "   Unnamed: 0                                       description1  \\\n",
       "0           0    created attachment   fandango com after sign...   \n",
       "1           1    created attachment   dropdown marker        ...   \n",
       "2           3        this bug was initially created as a clon...   \n",
       "3           4    currently in policies  we have two function ...   \n",
       "4           5      remove bottom margin on image wrapper for ...   \n",
       "\n",
       "                                        description2  is_similar  \n",
       "0    user agent  mozilla       gecko   firefox   ...           0  \n",
       "1    user agent  mozilla       gecko   firefox   ...           1  \n",
       "2    note  i am very bad at filing bugs  so i apo...           0  \n",
       "3      filed by    ncsoregi  at  mozilla com   pa...           0  \n",
       "4    there s only a few tests remaining in browse...           0  "
      ]
     },
     "execution_count": 13,
     "metadata": {},
     "output_type": "execute_result"
    }
   ],
   "source": [
    "train_firefox_df = pd.read_csv('../../PreProcessedData/Firefox/Firefox_siamese_train_preprocessed.csv')\n",
    "\n",
    "print('Dimensions of Training Dataset: ', train_firefox_df.shape)\n",
    "\n",
    "#To show Data\n",
    "train_firefox_df.head()"
   ]
  },
  {
   "cell_type": "code",
   "execution_count": 14,
   "id": "7b7866bc",
   "metadata": {},
   "outputs": [
    {
     "name": "stdout",
     "output_type": "stream",
     "text": [
      "Dimensions of Testing Dataset:  (8167, 4)\n"
     ]
    },
    {
     "data": {
      "text/html": [
       "<div>\n",
       "<style scoped>\n",
       "    .dataframe tbody tr th:only-of-type {\n",
       "        vertical-align: middle;\n",
       "    }\n",
       "\n",
       "    .dataframe tbody tr th {\n",
       "        vertical-align: top;\n",
       "    }\n",
       "\n",
       "    .dataframe thead th {\n",
       "        text-align: right;\n",
       "    }\n",
       "</style>\n",
       "<table border=\"1\" class=\"dataframe\">\n",
       "  <thead>\n",
       "    <tr style=\"text-align: right;\">\n",
       "      <th></th>\n",
       "      <th>Unnamed: 0</th>\n",
       "      <th>description1</th>\n",
       "      <th>description2</th>\n",
       "      <th>is_similar</th>\n",
       "    </tr>\n",
       "  </thead>\n",
       "  <tbody>\n",
       "    <tr>\n",
       "      <th>0</th>\n",
       "      <td>0</td>\n",
       "      <td>the comment in the code suggests it can be r...</td>\n",
       "      <td>bug   is adding a new  pinned  page action o...</td>\n",
       "      <td>0</td>\n",
       "    </tr>\n",
       "    <tr>\n",
       "      <th>1</th>\n",
       "      <td>1</td>\n",
       "      <td>created attachment   jira sidbar png  user a...</td>\n",
       "      <td>automatically unloading a webrtc tab seems l...</td>\n",
       "      <td>0</td>\n",
       "    </tr>\n",
       "    <tr>\n",
       "      <th>2</th>\n",
       "      <td>2</td>\n",
       "      <td>created attachment   reference png  hi    th...</td>\n",
       "      <td>filed by  philringnalda  at  gmail com     j...</td>\n",
       "      <td>0</td>\n",
       "    </tr>\n",
       "    <tr>\n",
       "      <th>3</th>\n",
       "      <td>3</td>\n",
       "      <td>markdown   filed by  rmaries  at  mozilla ...</td>\n",
       "      <td>user agent  mozilla       gecko   firefox   ...</td>\n",
       "      <td>0</td>\n",
       "    </tr>\n",
       "    <tr>\n",
       "      <th>4</th>\n",
       "      <td>4</td>\n",
       "      <td>user agent  mozilla       gecko   firefox   ...</td>\n",
       "      <td>currently we are storing full details   in t...</td>\n",
       "      <td>0</td>\n",
       "    </tr>\n",
       "  </tbody>\n",
       "</table>\n",
       "</div>"
      ],
      "text/plain": [
       "   Unnamed: 0                                       description1  \\\n",
       "0           0    the comment in the code suggests it can be r...   \n",
       "1           1    created attachment   jira sidbar png  user a...   \n",
       "2           2    created attachment   reference png  hi    th...   \n",
       "3           3      markdown   filed by  rmaries  at  mozilla ...   \n",
       "4           4    user agent  mozilla       gecko   firefox   ...   \n",
       "\n",
       "                                        description2  is_similar  \n",
       "0    bug   is adding a new  pinned  page action o...           0  \n",
       "1    automatically unloading a webrtc tab seems l...           0  \n",
       "2    filed by  philringnalda  at  gmail com     j...           0  \n",
       "3    user agent  mozilla       gecko   firefox   ...           0  \n",
       "4    currently we are storing full details   in t...           0  "
      ]
     },
     "execution_count": 14,
     "metadata": {},
     "output_type": "execute_result"
    }
   ],
   "source": [
    "test_firefox_df = pd.read_csv('../../PreProcessedData/Firefox/Firefox_siamese_test_preprocessed.csv')\n",
    "\n",
    "print('Dimensions of Testing Dataset: ', test_firefox_df.shape)\n",
    "\n",
    "#To show Data\n",
    "test_firefox_df.head()"
   ]
  },
  {
   "cell_type": "code",
   "execution_count": 15,
   "id": "d08c4450",
   "metadata": {},
   "outputs": [],
   "source": [
    "#Concatenate Train and Test Data\n",
    "result = pd.concat([train_firefox_df, test_firefox_df])\n",
    "result = result.sample(frac=1, random_state=1).reset_index(drop=True)\n",
    "\n",
    "dup_df= result.copy()"
   ]
  },
  {
   "cell_type": "code",
   "execution_count": 16,
   "id": "f1cee820",
   "metadata": {},
   "outputs": [
    {
     "data": {
      "text/html": [
       "<div>\n",
       "<style scoped>\n",
       "    .dataframe tbody tr th:only-of-type {\n",
       "        vertical-align: middle;\n",
       "    }\n",
       "\n",
       "    .dataframe tbody tr th {\n",
       "        vertical-align: top;\n",
       "    }\n",
       "\n",
       "    .dataframe thead th {\n",
       "        text-align: right;\n",
       "    }\n",
       "</style>\n",
       "<table border=\"1\" class=\"dataframe\">\n",
       "  <thead>\n",
       "    <tr style=\"text-align: right;\">\n",
       "      <th></th>\n",
       "      <th>description1</th>\n",
       "      <th>description2</th>\n",
       "    </tr>\n",
       "  </thead>\n",
       "  <tbody>\n",
       "    <tr>\n",
       "      <th>count</th>\n",
       "      <td>39778.000000</td>\n",
       "      <td>39778.000000</td>\n",
       "    </tr>\n",
       "    <tr>\n",
       "      <th>mean</th>\n",
       "      <td>1111.995324</td>\n",
       "      <td>1185.271406</td>\n",
       "    </tr>\n",
       "    <tr>\n",
       "      <th>std</th>\n",
       "      <td>2859.586179</td>\n",
       "      <td>3082.720871</td>\n",
       "    </tr>\n",
       "    <tr>\n",
       "      <th>min</th>\n",
       "      <td>50.000000</td>\n",
       "      <td>50.000000</td>\n",
       "    </tr>\n",
       "    <tr>\n",
       "      <th>25%</th>\n",
       "      <td>281.000000</td>\n",
       "      <td>289.000000</td>\n",
       "    </tr>\n",
       "    <tr>\n",
       "      <th>50%</th>\n",
       "      <td>482.000000</td>\n",
       "      <td>510.000000</td>\n",
       "    </tr>\n",
       "    <tr>\n",
       "      <th>75%</th>\n",
       "      <td>841.000000</td>\n",
       "      <td>925.000000</td>\n",
       "    </tr>\n",
       "    <tr>\n",
       "      <th>max</th>\n",
       "      <td>67448.000000</td>\n",
       "      <td>67448.000000</td>\n",
       "    </tr>\n",
       "  </tbody>\n",
       "</table>\n",
       "</div>"
      ],
      "text/plain": [
       "       description1  description2\n",
       "count  39778.000000  39778.000000\n",
       "mean    1111.995324   1185.271406\n",
       "std     2859.586179   3082.720871\n",
       "min       50.000000     50.000000\n",
       "25%      281.000000    289.000000\n",
       "50%      482.000000    510.000000\n",
       "75%      841.000000    925.000000\n",
       "max    67448.000000  67448.000000"
      ]
     },
     "execution_count": 16,
     "metadata": {},
     "output_type": "execute_result"
    }
   ],
   "source": [
    "description = ['description1', 'description2']\n",
    "\n",
    "#To Describe Length of 'Description' of the Bugs\n",
    "dup_df[description].apply(lambda col: col.str.len().describe())"
   ]
  },
  {
   "cell_type": "markdown",
   "id": "cbada774",
   "metadata": {},
   "source": [
    "# Splitting Data into Train, Test and Validation"
   ]
  },
  {
   "cell_type": "code",
   "execution_count": 17,
   "id": "5f8b9fca",
   "metadata": {},
   "outputs": [],
   "source": [
    "train_val_df = train_firefox_df.copy()\n",
    "test_df = test_firefox_df.copy()"
   ]
  },
  {
   "cell_type": "code",
   "execution_count": 18,
   "id": "550f5356",
   "metadata": {},
   "outputs": [],
   "source": [
    "train_df, val_df = train_test_split(train_val_df, test_size = 0.2, stratify = train_val_df.is_similar, random_state = 13)"
   ]
  },
  {
   "cell_type": "code",
   "execution_count": 19,
   "id": "57f78d14",
   "metadata": {},
   "outputs": [
    {
     "name": "stdout",
     "output_type": "stream",
     "text": [
      "Size of Training Dataset:  25288\n",
      "Size of Validation Dataset:  6323\n",
      "Size of Testing Dataset:  8167\n"
     ]
    }
   ],
   "source": [
    "print('Size of Training Dataset: ', train_df.shape[0])\n",
    "print('Size of Validation Dataset: ', val_df.shape[0])\n",
    "print('Size of Testing Dataset: ', test_df.shape[0])"
   ]
  },
  {
   "cell_type": "code",
   "execution_count": 20,
   "id": "2ca0bfe7",
   "metadata": {},
   "outputs": [
    {
     "name": "stdout",
     "output_type": "stream",
     "text": [
      "Indexing word vectors...\n",
      "Found 400000 word vectors.\n"
     ]
    }
   ],
   "source": [
    "print('Indexing word vectors...')\n",
    "\n",
    "embeddings_index = {}\n",
    "f = open('../../PreProcessedData/Requirement/glove.6B.100d.txt', encoding='utf-8')\n",
    "for line in f:\n",
    "    values = line.split()\n",
    "    word = values[0]\n",
    "    coefs = np.asarray(values[1:], dtype='float32')\n",
    "    embeddings_index[word] = coefs\n",
    "f.close()\n",
    "\n",
    "print('Found %s word vectors.' % len(embeddings_index))"
   ]
  },
  {
   "cell_type": "code",
   "execution_count": 21,
   "id": "41468c43",
   "metadata": {},
   "outputs": [],
   "source": [
    "#To Dump Data in a Pickle File\n",
    "pickle.dump({'embeddings_index' : embeddings_index } , open('../../PreProcessedData/Requirement/firefox.glove.42B.300d.txt', 'wb'))"
   ]
  },
  {
   "cell_type": "code",
   "execution_count": 22,
   "id": "9fc0f6a3",
   "metadata": {},
   "outputs": [],
   "source": [
    "file_path = open('../../PreProcessedData/Requirement/firefox.glove.42B.300d.txt',  mode=\"r\", encoding=\"utf-8\")"
   ]
  },
  {
   "cell_type": "markdown",
   "id": "d51f483d",
   "metadata": {},
   "source": [
    "# Create Vocabulary Index"
   ]
  },
  {
   "cell_type": "code",
   "execution_count": 23,
   "id": "2701afb0",
   "metadata": {},
   "outputs": [],
   "source": [
    "MAX_TOKENS = 20000\n",
    "MAX_TITLE_LENGTH = 21\n",
    "MAX_DESCRIPTION_LENGTH = 500\n",
    "EMBEDDING_DIM = 100"
   ]
  },
  {
   "cell_type": "code",
   "execution_count": 24,
   "id": "fb7022f5",
   "metadata": {},
   "outputs": [],
   "source": [
    "def build_vocab(sentences: List[str], sequence_length: int):\n",
    "    vectorizer = TextVectorization(max_tokens=MAX_TOKENS - 2,output_sequence_length=sequence_length)\n",
    "    vectorizer.adapt(sentences)\n",
    "    vocab = vectorizer.get_vocabulary()\n",
    "    word_index = dict(zip(vocab, range(len(vocab))))\n",
    "\n",
    "    return vectorizer, word_index"
   ]
  },
  {
   "cell_type": "code",
   "execution_count": 25,
   "id": "ee79b141",
   "metadata": {},
   "outputs": [
    {
     "name": "stdout",
     "output_type": "stream",
     "text": [
      "Most frequent description words: ['', '[UNK]', 'info', 'the', 'task']\n"
     ]
    }
   ],
   "source": [
    "descr_vectorizer, descr_word_index = build_vocab([dup_df.description1, dup_df.description2],MAX_DESCRIPTION_LENGTH)\n",
    "\n",
    "print('Most frequent description words:',list(itertools.islice(descr_word_index.keys(), 5)))"
   ]
  },
  {
   "cell_type": "markdown",
   "id": "e35ec1b5",
   "metadata": {},
   "source": [
    "# Create Embedding Matrix"
   ]
  },
  {
   "cell_type": "code",
   "execution_count": 26,
   "id": "1541edce",
   "metadata": {},
   "outputs": [],
   "source": [
    "def create_embedding_matrix(embedding_index: Dict[str, np.ndarray],word_index: Dict[str, int],verbose=False):\n",
    "    hits = 0\n",
    "    misses = 0\n",
    "\n",
    "    #To initialize Embedding Matrix\n",
    "    embedding_matrix = np.zeros((MAX_TOKENS, EMBEDDING_DIM))\n",
    "    for word, i in word_index.items():\n",
    "        embedding_vector = embedding_index.get(word)\n",
    "    \n",
    "        if embedding_vector is not None:\n",
    "        # Words not found in Embedding Index will zeros.\n",
    "        # This includes the representation for \"Padding\" and \"OOV\"\n",
    "            embedding_matrix[i] = embedding_vector\n",
    "            hits += 1\n",
    "        else:\n",
    "            misses += 1\n",
    "\n",
    "    if verbose:\n",
    "        print('Embedding shape:', embedding_matrix.shape)\n",
    "        print(f'Found {hits} words, missed {misses}.')\n",
    "\n",
    "    return embedding_matrix"
   ]
  },
  {
   "cell_type": "code",
   "execution_count": 27,
   "id": "25c3939d",
   "metadata": {},
   "outputs": [
    {
     "name": "stdout",
     "output_type": "stream",
     "text": [
      "Embedding shape: (20000, 100)\n",
      "Found 11164 words, missed 8834.\n"
     ]
    }
   ],
   "source": [
    "#To create Embedding Matrix of Description\n",
    "descr_embedding_matrix = create_embedding_matrix(embeddings_index, descr_word_index, True)"
   ]
  },
  {
   "cell_type": "markdown",
   "id": "5c116ffe",
   "metadata": {},
   "source": [
    "# To Prepare Training Data"
   ]
  },
  {
   "cell_type": "code",
   "execution_count": 28,
   "id": "4aa15a80",
   "metadata": {},
   "outputs": [],
   "source": [
    "def generate_batches(split_df: pd.DataFrame,batch_size=256):\n",
    "    steps_per_epoch = len(split_df) // batch_size\n",
    "    while True:\n",
    "        for i in range(steps_per_epoch):\n",
    "            offset = i * batch_size\n",
    "            till = offset + batch_size\n",
    "            feature_batches = []\n",
    "            for feature in description:\n",
    "                vectorizer = title_vectorizer if feature.startswith('title') else descr_vectorizer\n",
    "                feature_batch = vectorizer(split_df[feature][offset: till].to_numpy().reshape((-1, 1))).numpy()\n",
    "                feature_batches.append(feature_batch)\n",
    "\n",
    "            target_batch = split_df.is_similar[offset: till].to_numpy()\n",
    "            yield (feature_batches,target_batch)"
   ]
  },
  {
   "cell_type": "code",
   "execution_count": 29,
   "id": "489f54db",
   "metadata": {},
   "outputs": [],
   "source": [
    "DescrEmbeddingLayer = layers.Embedding(input_dim=MAX_TOKENS,output_dim=EMBEDDING_DIM,\n",
    "                        embeddings_initializer=Constant(descr_embedding_matrix),trainable=False,name='DescrEmbeddingLayer')\n",
    "\n",
    "def make_descr_layer(num, kernel_size=3, pool_size=2, strides=None):\n",
    "    DescrConv1dLayer = layers.Conv1D(filters=32, kernel_size=kernel_size, activation='relu', name=f'DescrConv1dLayer{num}')\n",
    "    DescrMaxPool1dLayer = layers.MaxPool1D(pool_size=pool_size, strides=strides, name=f'DescrMaxPool1dLayer{num}')\n",
    "    return DescrConv1dLayer, DescrMaxPool1dLayer\n",
    "\n",
    "DescrConv1dLayer1, DescrMaxPool1dLayer1 = make_descr_layer(1, pool_size=4)\n",
    "DescrConv1dLayer2, DescrMaxPool1dLayer2 = make_descr_layer(2)"
   ]
  },
  {
   "cell_type": "code",
   "execution_count": 30,
   "id": "509c1f64",
   "metadata": {},
   "outputs": [
    {
     "name": "stdout",
     "output_type": "stream",
     "text": [
      "You must install pydot (`pip install pydot`) and install graphviz (see instructions at https://graphviz.gitlab.io/download/) for plot_model to work.\n"
     ]
    }
   ],
   "source": [
    "def create_siamese_component(num: int):\n",
    "  \n",
    "    class SiameseComponent:\n",
    "        def __init__(self, title: layers.Input, description: layers.Input, output: layers.Concatenate):\n",
    "            self.title = title\n",
    "            self.description = description\n",
    "            self.output = output\n",
    "\n",
    "    title_input = layers.Input(shape=(None,), dtype='int32', name=f'title{num}_input')\n",
    "\n",
    "    descr_input = layers.Input(shape=(None,), name=f'descr{num}_input')\n",
    "    descr_embedding_layer = DescrEmbeddingLayer(descr_input)\n",
    "    descr_conv1d1 = DescrConv1dLayer1(descr_embedding_layer)\n",
    "    descr_max_pool1d1 = DescrMaxPool1dLayer1(descr_conv1d1)\n",
    "    descr_conv1d2 = DescrConv1dLayer2(descr_max_pool1d1)\n",
    "    descr_max_pool1d2 = DescrMaxPool1dLayer2(descr_conv1d2)\n",
    "    descr_flat_Layer = layers.Flatten(name=f'FlatDescr{num}')(descr_max_pool1d2)\n",
    "\n",
    "    concat = layers.Concatenate(axis=1, name=f'Concat{num}')([descr_flat_Layer])\n",
    "    return SiameseComponent(title_input, descr_input, concat)\n",
    "\n",
    "component1 = create_siamese_component(1)\n",
    "component2 = create_siamese_component(2)\n",
    "\n",
    "dot_product_layer = layers.Dot(axes=1,name='dot_product_layer')([component1.output, component2.output])\n",
    "\n",
    "output = layers.Dense(1, activation='sigmoid', name='output',)(dot_product_layer)\n",
    "\n",
    "siamese_model = models.Model(inputs=[component1.description, component2.description],outputs=output,name='siamese_model')\n",
    "\n",
    "kutils.plot_model(siamese_model)"
   ]
  },
  {
   "cell_type": "markdown",
   "id": "f8e21cfa",
   "metadata": {},
   "source": [
    "# Train"
   ]
  },
  {
   "cell_type": "code",
   "execution_count": 31,
   "id": "9d4dce11",
   "metadata": {},
   "outputs": [
    {
     "name": "stdout",
     "output_type": "stream",
     "text": [
      "Epoch 1/12\n",
      "98/98 [==============================] - 65s 644ms/step - loss: 0.5943 - acc: 0.8089 - val_loss: 0.4991 - val_acc: 0.8083\n",
      "Epoch 2/12\n",
      "98/98 [==============================] - 62s 629ms/step - loss: 0.4810 - acc: 0.8089 - val_loss: 0.4799 - val_acc: 0.8083\n",
      "Epoch 3/12\n",
      "98/98 [==============================] - 65s 659ms/step - loss: 0.4764 - acc: 0.8089 - val_loss: 0.4782 - val_acc: 0.8083\n",
      "Epoch 4/12\n",
      "98/98 [==============================] - 56s 575ms/step - loss: 0.4740 - acc: 0.8089 - val_loss: 0.4771 - val_acc: 0.8083\n",
      "Epoch 5/12\n",
      "98/98 [==============================] - 65s 668ms/step - loss: 0.4721 - acc: 0.8089 - val_loss: 0.4761 - val_acc: 0.8083\n",
      "Epoch 6/12\n",
      "98/98 [==============================] - 58s 595ms/step - loss: 0.4704 - acc: 0.8089 - val_loss: 0.4753 - val_acc: 0.8083\n",
      "Epoch 7/12\n",
      "98/98 [==============================] - 57s 588ms/step - loss: 0.4687 - acc: 0.8089 - val_loss: 0.4745 - val_acc: 0.8083\n",
      "Epoch 8/12\n",
      "98/98 [==============================] - 55s 559ms/step - loss: 0.4671 - acc: 0.8089 - val_loss: 0.4738 - val_acc: 0.8083\n",
      "Epoch 9/12\n",
      "98/98 [==============================] - 64s 653ms/step - loss: 0.4655 - acc: 0.8089 - val_loss: 0.4733 - val_acc: 0.8083\n",
      "Epoch 10/12\n",
      "98/98 [==============================] - 63s 646ms/step - loss: 0.4639 - acc: 0.8089 - val_loss: 0.4728 - val_acc: 0.8083\n",
      "Epoch 11/12\n",
      "98/98 [==============================] - 64s 655ms/step - loss: 0.4621 - acc: 0.8089 - val_loss: 0.4725 - val_acc: 0.8083\n",
      "Epoch 12/12\n",
      "98/98 [==============================] - 58s 593ms/step - loss: 0.4603 - acc: 0.8090 - val_loss: 0.4722 - val_acc: 0.8084\n"
     ]
    }
   ],
   "source": [
    "BATCH_SIZE = 256\n",
    "\n",
    "opt = tf.keras.optimizers.Adam(learning_rate=0.001)\n",
    "\n",
    "siamese_model.compile(loss='binary_crossentropy', optimizer=opt, metrics=['acc'])\n",
    "\n",
    "history = siamese_model.fit(\n",
    "  generate_batches(train_df, BATCH_SIZE),\n",
    "  steps_per_epoch=len(train_df) // BATCH_SIZE,\n",
    "  epochs=12,\n",
    "  validation_data=generate_batches(val_df, BATCH_SIZE),\n",
    "  validation_steps=len(val_df) // BATCH_SIZE,\n",
    "  verbose=1\n",
    ")"
   ]
  },
  {
   "cell_type": "code",
   "execution_count": 46,
   "id": "f7bc5fd9",
   "metadata": {},
   "outputs": [
    {
     "name": "stdout",
     "output_type": "stream",
     "text": [
      "You must install pydot (`pip install pydot`) and install graphviz (see instructions at https://graphviz.gitlab.io/download/) for plot_model to work.\n"
     ]
    },
    {
     "data": {
      "image/png": "[encoded data removed]",
      "text/plain": [
       "<Figure size 640x480 with 1 Axes>"
      ]
     },
     "metadata": {},
     "output_type": "display_data"
    },
    {
     "data": {
      "text/plain": [
       "<Figure size 640x480 with 0 Axes>"
      ]
     },
     "metadata": {},
     "output_type": "display_data"
    }
   ],
   "source": [
    "plot_model(siamese_model, to_file='model_plot.png', show_shapes=True, show_layer_names=True)\n",
    "\n",
    "#To Plot Loss\n",
    "plt.plot(history.history['loss'], label='Train Loss')\n",
    "plt.plot(history.history['val_loss'], label='Validationa Loss')\n",
    "plt.legend()\n",
    "plt.show()\n",
    "plt.savefig('Graphs/Firefox_Loss')"
   ]
  },
  {
   "cell_type": "code",
   "execution_count": 47,
   "id": "9b039883",
   "metadata": {},
   "outputs": [
    {
     "data": {
      "image/png": "[encoded data removed]",
      "text/plain": [
       "<Figure size 640x480 with 1 Axes>"
      ]
     },
     "metadata": {},
     "output_type": "display_data"
    },
    {
     "data": {
      "text/plain": [
       "<Figure size 640x480 with 0 Axes>"
      ]
     },
     "metadata": {},
     "output_type": "display_data"
    }
   ],
   "source": [
    "#To Plot Accuracy\n",
    "plt.plot(history.history['acc'], label='Train Accuracy')\n",
    "plt.plot(history.history['val_acc'], label='Validation Accuracy')\n",
    "plt.legend()\n",
    "plt.show()\n",
    "plt.savefig('Graphs/Firefox_Accuracy')"
   ]
  },
  {
   "cell_type": "markdown",
   "id": "ef269aaa",
   "metadata": {},
   "source": [
    "# To Evaluate Model on Test Data "
   ]
  },
  {
   "cell_type": "code",
   "execution_count": 34,
   "id": "a5931b9f",
   "metadata": {},
   "outputs": [
    {
     "name": "stdout",
     "output_type": "stream",
     "text": [
      "31/31 [==============================] - 9s 276ms/step - loss: 0.4564 - acc: 0.8228\n",
      "1/1 [==============================] - 5s 5s/step\n"
     ]
    }
   ],
   "source": [
    "siamese_model.evaluate(generate_batches(test_df, BATCH_SIZE),steps=len(test_df) // BATCH_SIZE)\n",
    "\n",
    "BATCH_SIZE = len(test_df)\n",
    "\n",
    "num_batched_instances = len(test_df) - (len(test_df) % BATCH_SIZE)\n",
    "\n",
    "pred_y = siamese_model.predict(generate_batches(test_df, BATCH_SIZE),steps=len(test_df) // BATCH_SIZE,verbose=1)"
   ]
  },
  {
   "cell_type": "code",
   "execution_count": 35,
   "id": "d1206dc6",
   "metadata": {},
   "outputs": [
    {
     "name": "stdout",
     "output_type": "stream",
     "text": [
      "AUC: 0.5003422313483915\n",
      "Recall: 0.8212317864576956\n",
      "Precision: 0.8531937741838485\n",
      "F1: 0.7407448886493075\n"
     ]
    }
   ],
   "source": [
    "print('AUC:', roc_auc_score(test_df.is_similar[:num_batched_instances], pred_y > .5, average='weighted'))\n",
    "print('Recall:', recall_score(test_df.is_similar[:num_batched_instances], pred_y > .5, average='weighted'))\n",
    "print('Precision:', precision_score(test_df.is_similar[:num_batched_instances], pred_y > .5, average='weighted'))\n",
    "print('F1:', f1_score(test_df.is_similar[:num_batched_instances], pred_y > .5, average='weighted'))      "
   ]
  },
  {
   "cell_type": "code",
   "execution_count": 36,
   "id": "31324855",
   "metadata": {},
   "outputs": [
    {
     "name": "stdout",
     "output_type": "stream",
     "text": [
      "              precision    recall  f1-score   support\n",
      "\n",
      "           0       0.82      1.00      0.90      6706\n",
      "           1       1.00      0.00      0.00      1461\n",
      "\n",
      "    accuracy                           0.82      8167\n",
      "   macro avg       0.91      0.50      0.45      8167\n",
      "weighted avg       0.85      0.82      0.74      8167\n",
      "\n",
      "\n",
      "AUC: 0.5003422313483915\n"
     ]
    }
   ],
   "source": [
    "#Classification Report\n",
    "print(classification_report(test_df.is_similar[:num_batched_instances], pred_y > .5,))\n",
    "\n",
    "print('\\nAUC:', roc_auc_score(test_df.is_similar[:num_batched_instances], pred_y > .5))"
   ]
  },
  {
   "cell_type": "code",
   "execution_count": 37,
   "id": "d06c655c",
   "metadata": {},
   "outputs": [
    {
     "data": {
      "text/html": [
       "<div>\n",
       "<style scoped>\n",
       "    .dataframe tbody tr th:only-of-type {\n",
       "        vertical-align: middle;\n",
       "    }\n",
       "\n",
       "    .dataframe tbody tr th {\n",
       "        vertical-align: top;\n",
       "    }\n",
       "\n",
       "    .dataframe thead th {\n",
       "        text-align: right;\n",
       "    }\n",
       "</style>\n",
       "<table border=\"1\" class=\"dataframe\">\n",
       "  <thead>\n",
       "    <tr style=\"text-align: right;\">\n",
       "      <th></th>\n",
       "      <th>TPR</th>\n",
       "      <th>FPR</th>\n",
       "      <th>Threshold</th>\n",
       "    </tr>\n",
       "  </thead>\n",
       "  <tbody>\n",
       "    <tr>\n",
       "      <th>0</th>\n",
       "      <td>0.000000</td>\n",
       "      <td>0.000000</td>\n",
       "      <td>1.502949</td>\n",
       "    </tr>\n",
       "    <tr>\n",
       "      <th>1</th>\n",
       "      <td>0.000000</td>\n",
       "      <td>0.000684</td>\n",
       "      <td>0.502949</td>\n",
       "    </tr>\n",
       "    <tr>\n",
       "      <th>2</th>\n",
       "      <td>0.000000</td>\n",
       "      <td>0.002053</td>\n",
       "      <td>0.491352</td>\n",
       "    </tr>\n",
       "    <tr>\n",
       "      <th>3</th>\n",
       "      <td>0.000298</td>\n",
       "      <td>0.002053</td>\n",
       "      <td>0.489310</td>\n",
       "    </tr>\n",
       "    <tr>\n",
       "      <th>4</th>\n",
       "      <td>0.000298</td>\n",
       "      <td>0.003422</td>\n",
       "      <td>0.483061</td>\n",
       "    </tr>\n",
       "    <tr>\n",
       "      <th>...</th>\n",
       "      <td>...</td>\n",
       "      <td>...</td>\n",
       "      <td>...</td>\n",
       "    </tr>\n",
       "    <tr>\n",
       "      <th>2303</th>\n",
       "      <td>0.998061</td>\n",
       "      <td>0.997947</td>\n",
       "      <td>0.015371</td>\n",
       "    </tr>\n",
       "    <tr>\n",
       "      <th>2304</th>\n",
       "      <td>0.998061</td>\n",
       "      <td>0.998631</td>\n",
       "      <td>0.014417</td>\n",
       "    </tr>\n",
       "    <tr>\n",
       "      <th>2305</th>\n",
       "      <td>0.998956</td>\n",
       "      <td>0.998631</td>\n",
       "      <td>0.010317</td>\n",
       "    </tr>\n",
       "    <tr>\n",
       "      <th>2306</th>\n",
       "      <td>0.998956</td>\n",
       "      <td>1.000000</td>\n",
       "      <td>0.005587</td>\n",
       "    </tr>\n",
       "    <tr>\n",
       "      <th>2307</th>\n",
       "      <td>1.000000</td>\n",
       "      <td>1.000000</td>\n",
       "      <td>0.001550</td>\n",
       "    </tr>\n",
       "  </tbody>\n",
       "</table>\n",
       "<p>2308 rows × 3 columns</p>\n",
       "</div>"
      ],
      "text/plain": [
       "           TPR       FPR  Threshold\n",
       "0     0.000000  0.000000   1.502949\n",
       "1     0.000000  0.000684   0.502949\n",
       "2     0.000000  0.002053   0.491352\n",
       "3     0.000298  0.002053   0.489310\n",
       "4     0.000298  0.003422   0.483061\n",
       "...        ...       ...        ...\n",
       "2303  0.998061  0.997947   0.015371\n",
       "2304  0.998061  0.998631   0.014417\n",
       "2305  0.998956  0.998631   0.010317\n",
       "2306  0.998956  1.000000   0.005587\n",
       "2307  1.000000  1.000000   0.001550\n",
       "\n",
       "[2308 rows x 3 columns]"
      ]
     },
     "execution_count": 37,
     "metadata": {},
     "output_type": "execute_result"
    }
   ],
   "source": [
    "value_names = ['TPR', 'FPR', 'Threshold']\n",
    "\n",
    "roc = dict(zip(value_names, roc_curve(test_df.is_similar[:num_batched_instances],pred_y)))\n",
    "\n",
    "pd.DataFrame(roc)"
   ]
  },
  {
   "cell_type": "markdown",
   "id": "22d6eefe",
   "metadata": {},
   "source": [
    "# To Evaluate Textually Similar Data"
   ]
  },
  {
   "cell_type": "code",
   "execution_count": 38,
   "id": "e0f74685",
   "metadata": {},
   "outputs": [
    {
     "name": "stdout",
     "output_type": "stream",
     "text": [
      "Dimensions of Dataset:  (536, 9)\n"
     ]
    }
   ],
   "source": [
    "sim_df_original = pd.read_csv('../../PreProcessedData/Firefox/Firefox_textually_similar_pair.csv')\n",
    "\n",
    "print('Dimensions of Dataset: ', sim_df_original.shape)"
   ]
  },
  {
   "cell_type": "code",
   "execution_count": 39,
   "id": "387e8a39",
   "metadata": {},
   "outputs": [
    {
     "data": {
      "text/html": [
       "<div>\n",
       "<style scoped>\n",
       "    .dataframe tbody tr th:only-of-type {\n",
       "        vertical-align: middle;\n",
       "    }\n",
       "\n",
       "    .dataframe tbody tr th {\n",
       "        vertical-align: top;\n",
       "    }\n",
       "\n",
       "    .dataframe thead th {\n",
       "        text-align: right;\n",
       "    }\n",
       "</style>\n",
       "<table border=\"1\" class=\"dataframe\">\n",
       "  <thead>\n",
       "    <tr style=\"text-align: right;\">\n",
       "      <th></th>\n",
       "      <th>Unnamed: 0</th>\n",
       "      <th>description1</th>\n",
       "      <th>description2</th>\n",
       "      <th>is_similar</th>\n",
       "    </tr>\n",
       "  </thead>\n",
       "  <tbody>\n",
       "    <tr>\n",
       "      <th>0</th>\n",
       "      <td>0</td>\n",
       "      <td>created attachment   keyselectedsearch    mozi...</td>\n",
       "      <td>i noticed this while working on bug    and i t...</td>\n",
       "      <td>1</td>\n",
       "    </tr>\n",
       "    <tr>\n",
       "      <th>1</th>\n",
       "      <td>4</td>\n",
       "      <td>created attachment   bug dialog png  user agen...</td>\n",
       "      <td>created attachment   screenshot of bookmark wi...</td>\n",
       "      <td>1</td>\n",
       "    </tr>\n",
       "    <tr>\n",
       "      <th>2</th>\n",
       "      <td>8</td>\n",
       "      <td>created attachment   firefoxfail png  user age...</td>\n",
       "      <td>created attachment   toolbar screenshot png  s...</td>\n",
       "      <td>1</td>\n",
       "    </tr>\n",
       "    <tr>\n",
       "      <th>3</th>\n",
       "      <td>11</td>\n",
       "      <td>created attachment   screenshot png  user agen...</td>\n",
       "      <td>str      open           open another tab in th...</td>\n",
       "      <td>1</td>\n",
       "    </tr>\n",
       "    <tr>\n",
       "      <th>4</th>\n",
       "      <td>12</td>\n",
       "      <td>user agent  mozilla       gecko   firefox     ...</td>\n",
       "      <td>based on    edit    the overlay icon should ch...</td>\n",
       "      <td>1</td>\n",
       "    </tr>\n",
       "  </tbody>\n",
       "</table>\n",
       "</div>"
      ],
      "text/plain": [
       "   Unnamed: 0                                       description1  \\\n",
       "0           0  created attachment   keyselectedsearch    mozi...   \n",
       "1           4  created attachment   bug dialog png  user agen...   \n",
       "2           8  created attachment   firefoxfail png  user age...   \n",
       "3          11  created attachment   screenshot png  user agen...   \n",
       "4          12  user agent  mozilla       gecko   firefox     ...   \n",
       "\n",
       "                                        description2  is_similar  \n",
       "0  i noticed this while working on bug    and i t...           1  \n",
       "1  created attachment   screenshot of bookmark wi...           1  \n",
       "2  created attachment   toolbar screenshot png  s...           1  \n",
       "3  str      open           open another tab in th...           1  \n",
       "4  based on    edit    the overlay icon should ch...           1  "
      ]
     },
     "execution_count": 39,
     "metadata": {},
     "output_type": "execute_result"
    }
   ],
   "source": [
    "#Preprocessing Dataset\n",
    "sim_df = pd.DataFrame()\n",
    "\n",
    "sim_df['Unnamed: 0'] = sim_df_original['Unnamed: 0']\n",
    "sim_df['description1'] = sim_df_original['Description1']\n",
    "sim_df['description2'] = sim_df_original['Description2']\n",
    "sim_df['is_similar'] = sim_df_original['is_similar']\n",
    "\n",
    "sim_df['description1'] = sim_df['description1'].str.replace('[','').str.replace(']','')\n",
    "sim_df['description2'] = sim_df['description2'].str.replace('[','').str.replace(']','')\n",
    "\n",
    "sim_df['description1'] = sim_df['description1'].str.replace(\"'\", \"\")\n",
    "sim_df['description2'] = sim_df['description2'].str.replace(\"'\", \"\")\n",
    "\n",
    "#To show Data\n",
    "sim_df.head()"
   ]
  },
  {
   "cell_type": "code",
   "execution_count": 40,
   "id": "783c1569",
   "metadata": {},
   "outputs": [
    {
     "name": "stdout",
     "output_type": "stream",
     "text": [
      "1/1 [==============================] - 1s 534ms/step - loss: 1.5316 - acc: 0.0000e+00\n",
      "1/1 [==============================] - 1s 513ms/step\n"
     ]
    }
   ],
   "source": [
    "BATCH_SIZE = len(sim_df)\n",
    "\n",
    "siamese_model.evaluate(generate_batches(sim_df, BATCH_SIZE),steps=len(sim_df) // BATCH_SIZE)\n",
    "\n",
    "num_batched_instances = len(sim_df) - (len(sim_df) % BATCH_SIZE)\n",
    "\n",
    "pred_y_sim = siamese_model.predict(generate_batches(sim_df, BATCH_SIZE),steps=len(sim_df) // BATCH_SIZE,verbose=1)"
   ]
  },
  {
   "cell_type": "code",
   "execution_count": 41,
   "id": "06cdce40",
   "metadata": {},
   "outputs": [
    {
     "name": "stdout",
     "output_type": "stream",
     "text": [
      "              precision    recall  f1-score   support\n",
      "\n",
      "           0       0.00      0.00      0.00       0.0\n",
      "           1       0.00      0.00      0.00     536.0\n",
      "\n",
      "    accuracy                           0.00     536.0\n",
      "   macro avg       0.00      0.00      0.00     536.0\n",
      "weighted avg       0.00      0.00      0.00     536.0\n",
      "\n"
     ]
    }
   ],
   "source": [
    "#Classification Report\n",
    "print(classification_report(sim_df.is_similar[:num_batched_instances], pred_y_sim > .5,))\n",
    "\n",
    "#print('\\nAUC:', roc_auc_score(test_df.is_similar[:num_batched_instances], pred_y > .5))"
   ]
  },
  {
   "cell_type": "markdown",
   "id": "19dbb57c",
   "metadata": {},
   "source": [
    "# To Evaluate Textually Dissimilar Data"
   ]
  },
  {
   "cell_type": "code",
   "execution_count": 42,
   "id": "f675d416",
   "metadata": {},
   "outputs": [
    {
     "name": "stdout",
     "output_type": "stream",
     "text": [
      "Dimensions of Dataset:  (816, 9)\n"
     ]
    }
   ],
   "source": [
    "dissim_df_original = pd.read_csv('../../PreProcessedData/Firefox/Firefox_textually_dissimilar_pair.csv')\n",
    "\n",
    "print('Dimensions of Dataset: ', dissim_df_original.shape)"
   ]
  },
  {
   "cell_type": "code",
   "execution_count": 43,
   "id": "905b0709",
   "metadata": {},
   "outputs": [],
   "source": [
    "#Preprocessing Dataset\n",
    "dissim_df = pd.DataFrame()\n",
    "\n",
    "dissim_df['Unnamed: 0'] = dissim_df_original['Unnamed: 0']\n",
    "dissim_df['description1'] = dissim_df_original['Description1']\n",
    "dissim_df['description2'] = dissim_df_original['Description2']\n",
    "dissim_df['is_similar'] = dissim_df_original['is_similar']\n",
    "\n",
    "#df['my_column'] = df['my_column'].str.replace('[','').str.replace(']','')\n",
    "dissim_df['description1'] = dissim_df['description1'].str.replace('[','').str.replace(']','')\n",
    "dissim_df['description2'] = dissim_df['description2'].str.replace('[','').str.replace(']','')\n",
    "\n",
    "#df['my_column'] = df['my_column'].str.replace(\"'\", \"\")\n",
    "dissim_df['description1'] = dissim_df['description1'].str.replace(\"'\", \"\")\n",
    "dissim_df['description2'] = dissim_df['description2'].str.replace(\"'\", \"\")"
   ]
  },
  {
   "cell_type": "code",
   "execution_count": 44,
   "id": "1c2a1ea4",
   "metadata": {},
   "outputs": [
    {
     "name": "stdout",
     "output_type": "stream",
     "text": [
      "1/1 [==============================] - 1s 796ms/step - loss: 1.7833 - acc: 0.0012\n",
      "1/1 [==============================] - 1s 729ms/step\n"
     ]
    }
   ],
   "source": [
    "BATCH_SIZE = len(dissim_df)\n",
    "\n",
    "siamese_model.evaluate(generate_batches(dissim_df, BATCH_SIZE), steps=len(dissim_df) // BATCH_SIZE)\n",
    "\n",
    "num_batched_instances = len(dissim_df) - (len(dissim_df) % BATCH_SIZE)\n",
    "\n",
    "pred_y_dis = siamese_model.predict(generate_batches(dissim_df, BATCH_SIZE),steps=len(dissim_df) // BATCH_SIZE,verbose=1)"
   ]
  },
  {
   "cell_type": "code",
   "execution_count": 45,
   "id": "e0b92ab3",
   "metadata": {},
   "outputs": [
    {
     "name": "stdout",
     "output_type": "stream",
     "text": [
      "              precision    recall  f1-score   support\n",
      "\n",
      "           0       0.00      0.00      0.00         0\n",
      "           1       1.00      0.00      0.00       816\n",
      "\n",
      "    accuracy                           0.00       816\n",
      "   macro avg       0.50      0.00      0.00       816\n",
      "weighted avg       1.00      0.00      0.00       816\n",
      "\n"
     ]
    }
   ],
   "source": [
    "#Classification Report\n",
    "print(classification_report(dissim_df.is_similar[:num_batched_instances], pred_y_dis > .5,))\n",
    "\n",
    "#print('\\nAUC:', roc_auc_score(test_df.is_similar[:num_batched_instances], pred_y > .5))"
   ]
  }
 ],
 "metadata": {
  "kernelspec": {
   "display_name": "Python 3 (ipykernel)",
   "language": "python",
   "name": "python3"
  },
  "language_info": {
   "codemirror_mode": {
    "name": "ipython",
    "version": 3
   },
   "file_extension": ".py",
   "mimetype": "text/x-python",
   "name": "python",
   "nbconvert_exporter": "python",
   "pygments_lexer": "ipython3",
   "version": "3.10.9"
  }
 },
 "nbformat": 4,
 "nbformat_minor": 5
}
