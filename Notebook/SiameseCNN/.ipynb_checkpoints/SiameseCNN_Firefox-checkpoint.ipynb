{
 "cells": [
  {
   "cell_type": "code",
   "execution_count": 40,
   "id": "ae0c3a12",
   "metadata": {},
   "outputs": [
    {
     "name": "stdout",
     "output_type": "stream",
     "text": [
      "Requirement already satisfied: kutils==0.3.0 in c:\\users\\comka\\anaconda3\\lib\\site-packages (0.3.0)\n",
      "Requirement already satisfied: pydot in c:\\users\\comka\\anaconda3\\lib\\site-packages (1.4.2)\n",
      "Requirement already satisfied: pyparsing>=2.1.4 in c:\\users\\comka\\anaconda3\\lib\\site-packages (from pydot) (3.0.9)\n",
      "Requirement already satisfied: graphviz in c:\\users\\comka\\anaconda3\\lib\\site-packages (0.20.1)\n"
     ]
    }
   ],
   "source": [
    "#Download 'glove.6B.zip' from below link\n",
    "#http://nlp.stanford.edu/data/glove.6B.zip\n",
    "#Keep 'glove.6B.100d.txt' file in following path -> '../../PreProcessedData/Requirement/glove.6B.100d.txt'\n",
    "\n",
    "!pip install kutils==0.3.0\n",
    "!pip install pydot\n",
    "!pip install graphviz"
   ]
  },
  {
   "cell_type": "code",
   "execution_count": 41,
   "id": "34ebfbdc",
   "metadata": {},
   "outputs": [
    {
     "name": "stderr",
     "output_type": "stream",
     "text": [
      "[nltk_data] Downloading package stopwords to\n",
      "[nltk_data]     C:\\Users\\comka\\AppData\\Roaming\\nltk_data...\n",
      "[nltk_data]   Package stopwords is already up-to-date!\n",
      "[nltk_data] Downloading package wordnet to\n",
      "[nltk_data]     C:\\Users\\comka\\AppData\\Roaming\\nltk_data...\n",
      "[nltk_data]   Package wordnet is already up-to-date!\n"
     ]
    }
   ],
   "source": [
    "import pandas as pd\n",
    "\n",
    "import numpy as np\n",
    "np.random.seed(0)\n",
    "\n",
    "import seaborn as sns; \n",
    "sns.set_theme()\n",
    "\n",
    "import matplotlib.pyplot as plt\n",
    "from matplotlib import pyplot\n",
    "\n",
    "import nltk\n",
    "from nltk.corpus import stopwords\n",
    "from nltk import word_tokenize\n",
    "from nltk.stem import WordNetLemmatizer, SnowballStemmer\n",
    "from nltk.stem.porter import *\n",
    "from nltk.stem import PorterStemmer\n",
    "nltk.download('stopwords')\n",
    "nltk.download('wordnet')\n",
    "\n",
    "import gensim\n",
    "from gensim.utils import simple_preprocess\n",
    "from gensim.parsing.preprocessing import STOPWORDS\n",
    "\n",
    "import pickle\n",
    "import requests\n",
    "import json\n",
    "import urllib.request\n",
    "import time\n",
    "import re\n",
    "import itertools\n",
    "import statistics\n",
    "import random\n",
    "\n",
    "import warnings\n",
    "warnings.filterwarnings('ignore')\n",
    "\n",
    "import os\n",
    "os.environ['CUDA_VISIBLE_DEVICES'] = '-1'\n",
    "\n",
    "from typing import List, Dict, Tuple, Set\n",
    "from bs4 import BeautifulSoup\n",
    "\n",
    "import sklearn\n",
    "from sklearn.model_selection import train_test_split\n",
    "from sklearn.feature_extraction.text import TfidfVectorizer\n",
    "from sklearn.metrics.pairwise import cosine_similarity\n",
    "from sklearn.datasets import make_circles\n",
    "from sklearn.metrics import accuracy_score\n",
    "from sklearn.metrics import precision_score\n",
    "from sklearn.metrics import recall_score\n",
    "from sklearn.metrics import f1_score\n",
    "from sklearn.metrics import cohen_kappa_score\n",
    "from sklearn.metrics import roc_auc_score\n",
    "from sklearn.metrics import confusion_matrix\n",
    "from sklearn.metrics import classification_report\n",
    "from sklearn.metrics import roc_curve\n",
    "import sklearn.metrics as metrics\n",
    "\n",
    "from datetime import datetime\n",
    "from scipy.stats import skew\n",
    "\n",
    "from keras.models import Sequential\n",
    "from keras.layers import Dense\n",
    "from keras.initializers import Constant\n",
    "from keras.layers.preprocessing.text_vectorization import TextVectorization\n",
    "from keras.utils.vis_utils import plot_model\n",
    "\n",
    "import tensorflow as tf\n",
    "import tensorflow.keras.utils as kutils\n",
    "from tensorflow.keras import layers\n",
    "from tensorflow.keras import models\n",
    "from tensorflow.keras import callbacks\n",
    "\n",
    "from pathlib import Path\n",
    "from io import open"
   ]
  },
  {
   "cell_type": "code",
   "execution_count": 42,
   "id": "10a42a74",
   "metadata": {},
   "outputs": [
    {
     "name": "stdout",
     "output_type": "stream",
     "text": [
      "Dimensions of Training Dataset:  (31611, 4)\n"
     ]
    },
    {
     "data": {
      "text/html": [
       "<div>\n",
       "<style scoped>\n",
       "    .dataframe tbody tr th:only-of-type {\n",
       "        vertical-align: middle;\n",
       "    }\n",
       "\n",
       "    .dataframe tbody tr th {\n",
       "        vertical-align: top;\n",
       "    }\n",
       "\n",
       "    .dataframe thead th {\n",
       "        text-align: right;\n",
       "    }\n",
       "</style>\n",
       "<table border=\"1\" class=\"dataframe\">\n",
       "  <thead>\n",
       "    <tr style=\"text-align: right;\">\n",
       "      <th></th>\n",
       "      <th>Unnamed: 0</th>\n",
       "      <th>description1</th>\n",
       "      <th>description2</th>\n",
       "      <th>is_similar</th>\n",
       "    </tr>\n",
       "  </thead>\n",
       "  <tbody>\n",
       "    <tr>\n",
       "      <th>0</th>\n",
       "      <td>0</td>\n",
       "      <td>created attachment   fandango com after sign...</td>\n",
       "      <td>user agent  mozilla       gecko   firefox   ...</td>\n",
       "      <td>0</td>\n",
       "    </tr>\n",
       "    <tr>\n",
       "      <th>1</th>\n",
       "      <td>1</td>\n",
       "      <td>created attachment   dropdown marker        ...</td>\n",
       "      <td>user agent  mozilla       gecko   firefox   ...</td>\n",
       "      <td>1</td>\n",
       "    </tr>\n",
       "    <tr>\n",
       "      <th>2</th>\n",
       "      <td>3</td>\n",
       "      <td>this bug was initially created as a clon...</td>\n",
       "      <td>note  i am very bad at filing bugs  so i apo...</td>\n",
       "      <td>0</td>\n",
       "    </tr>\n",
       "    <tr>\n",
       "      <th>3</th>\n",
       "      <td>4</td>\n",
       "      <td>currently in policies  we have two function ...</td>\n",
       "      <td>filed by    ncsoregi  at  mozilla com   pa...</td>\n",
       "      <td>0</td>\n",
       "    </tr>\n",
       "    <tr>\n",
       "      <th>4</th>\n",
       "      <td>5</td>\n",
       "      <td>remove bottom margin on image wrapper for ...</td>\n",
       "      <td>there s only a few tests remaining in browse...</td>\n",
       "      <td>0</td>\n",
       "    </tr>\n",
       "  </tbody>\n",
       "</table>\n",
       "</div>"
      ],
      "text/plain": [
       "   Unnamed: 0                                       description1  \\\n",
       "0           0    created attachment   fandango com after sign...   \n",
       "1           1    created attachment   dropdown marker        ...   \n",
       "2           3        this bug was initially created as a clon...   \n",
       "3           4    currently in policies  we have two function ...   \n",
       "4           5      remove bottom margin on image wrapper for ...   \n",
       "\n",
       "                                        description2  is_similar  \n",
       "0    user agent  mozilla       gecko   firefox   ...           0  \n",
       "1    user agent  mozilla       gecko   firefox   ...           1  \n",
       "2    note  i am very bad at filing bugs  so i apo...           0  \n",
       "3      filed by    ncsoregi  at  mozilla com   pa...           0  \n",
       "4    there s only a few tests remaining in browse...           0  "
      ]
     },
     "execution_count": 42,
     "metadata": {},
     "output_type": "execute_result"
    }
   ],
   "source": [
    "train_firefox_df = pd.read_csv('../../PreProcessedData/Firefox/Firefox_siamese_train_preprocessed.csv')\n",
    "\n",
    "print('Dimensions of Training Dataset: ', train_firefox_df.shape)\n",
    "\n",
    "#To show Data\n",
    "train_firefox_df.head()"
   ]
  },
  {
   "cell_type": "code",
   "execution_count": 43,
   "id": "7b7866bc",
   "metadata": {},
   "outputs": [
    {
     "name": "stdout",
     "output_type": "stream",
     "text": [
      "Dimensions of Testing Dataset:  (8167, 4)\n"
     ]
    },
    {
     "data": {
      "text/html": [
       "<div>\n",
       "<style scoped>\n",
       "    .dataframe tbody tr th:only-of-type {\n",
       "        vertical-align: middle;\n",
       "    }\n",
       "\n",
       "    .dataframe tbody tr th {\n",
       "        vertical-align: top;\n",
       "    }\n",
       "\n",
       "    .dataframe thead th {\n",
       "        text-align: right;\n",
       "    }\n",
       "</style>\n",
       "<table border=\"1\" class=\"dataframe\">\n",
       "  <thead>\n",
       "    <tr style=\"text-align: right;\">\n",
       "      <th></th>\n",
       "      <th>Unnamed: 0</th>\n",
       "      <th>description1</th>\n",
       "      <th>description2</th>\n",
       "      <th>is_similar</th>\n",
       "    </tr>\n",
       "  </thead>\n",
       "  <tbody>\n",
       "    <tr>\n",
       "      <th>0</th>\n",
       "      <td>0</td>\n",
       "      <td>the comment in the code suggests it can be r...</td>\n",
       "      <td>bug   is adding a new  pinned  page action o...</td>\n",
       "      <td>0</td>\n",
       "    </tr>\n",
       "    <tr>\n",
       "      <th>1</th>\n",
       "      <td>1</td>\n",
       "      <td>created attachment   jira sidbar png  user a...</td>\n",
       "      <td>automatically unloading a webrtc tab seems l...</td>\n",
       "      <td>0</td>\n",
       "    </tr>\n",
       "    <tr>\n",
       "      <th>2</th>\n",
       "      <td>2</td>\n",
       "      <td>created attachment   reference png  hi    th...</td>\n",
       "      <td>filed by  philringnalda  at  gmail com     j...</td>\n",
       "      <td>0</td>\n",
       "    </tr>\n",
       "    <tr>\n",
       "      <th>3</th>\n",
       "      <td>3</td>\n",
       "      <td>markdown   filed by  rmaries  at  mozilla ...</td>\n",
       "      <td>user agent  mozilla       gecko   firefox   ...</td>\n",
       "      <td>0</td>\n",
       "    </tr>\n",
       "    <tr>\n",
       "      <th>4</th>\n",
       "      <td>4</td>\n",
       "      <td>user agent  mozilla       gecko   firefox   ...</td>\n",
       "      <td>currently we are storing full details   in t...</td>\n",
       "      <td>0</td>\n",
       "    </tr>\n",
       "  </tbody>\n",
       "</table>\n",
       "</div>"
      ],
      "text/plain": [
       "   Unnamed: 0                                       description1  \\\n",
       "0           0    the comment in the code suggests it can be r...   \n",
       "1           1    created attachment   jira sidbar png  user a...   \n",
       "2           2    created attachment   reference png  hi    th...   \n",
       "3           3      markdown   filed by  rmaries  at  mozilla ...   \n",
       "4           4    user agent  mozilla       gecko   firefox   ...   \n",
       "\n",
       "                                        description2  is_similar  \n",
       "0    bug   is adding a new  pinned  page action o...           0  \n",
       "1    automatically unloading a webrtc tab seems l...           0  \n",
       "2    filed by  philringnalda  at  gmail com     j...           0  \n",
       "3    user agent  mozilla       gecko   firefox   ...           0  \n",
       "4    currently we are storing full details   in t...           0  "
      ]
     },
     "execution_count": 43,
     "metadata": {},
     "output_type": "execute_result"
    }
   ],
   "source": [
    "test_firefox_df = pd.read_csv('../../PreProcessedData/Firefox/Firefox_siamese_test_preprocessed.csv')\n",
    "\n",
    "print('Dimensions of Testing Dataset: ', test_firefox_df.shape)\n",
    "\n",
    "#To show Data\n",
    "test_firefox_df.head()"
   ]
  },
  {
   "cell_type": "code",
   "execution_count": 44,
   "id": "d08c4450",
   "metadata": {},
   "outputs": [],
   "source": [
    "#Concatenate Train and Test Data\n",
    "result = pd.concat([train_firefox_df, test_firefox_df])\n",
    "result = result.sample(frac=1, random_state=1).reset_index(drop=True)\n",
    "\n",
    "dup_df= result.copy()"
   ]
  },
  {
   "cell_type": "code",
   "execution_count": 45,
   "id": "f1cee820",
   "metadata": {},
   "outputs": [
    {
     "data": {
      "text/html": [
       "<div>\n",
       "<style scoped>\n",
       "    .dataframe tbody tr th:only-of-type {\n",
       "        vertical-align: middle;\n",
       "    }\n",
       "\n",
       "    .dataframe tbody tr th {\n",
       "        vertical-align: top;\n",
       "    }\n",
       "\n",
       "    .dataframe thead th {\n",
       "        text-align: right;\n",
       "    }\n",
       "</style>\n",
       "<table border=\"1\" class=\"dataframe\">\n",
       "  <thead>\n",
       "    <tr style=\"text-align: right;\">\n",
       "      <th></th>\n",
       "      <th>description1</th>\n",
       "      <th>description2</th>\n",
       "    </tr>\n",
       "  </thead>\n",
       "  <tbody>\n",
       "    <tr>\n",
       "      <th>count</th>\n",
       "      <td>39778.000000</td>\n",
       "      <td>39778.000000</td>\n",
       "    </tr>\n",
       "    <tr>\n",
       "      <th>mean</th>\n",
       "      <td>1111.995324</td>\n",
       "      <td>1185.271406</td>\n",
       "    </tr>\n",
       "    <tr>\n",
       "      <th>std</th>\n",
       "      <td>2859.586179</td>\n",
       "      <td>3082.720871</td>\n",
       "    </tr>\n",
       "    <tr>\n",
       "      <th>min</th>\n",
       "      <td>50.000000</td>\n",
       "      <td>50.000000</td>\n",
       "    </tr>\n",
       "    <tr>\n",
       "      <th>25%</th>\n",
       "      <td>281.000000</td>\n",
       "      <td>289.000000</td>\n",
       "    </tr>\n",
       "    <tr>\n",
       "      <th>50%</th>\n",
       "      <td>482.000000</td>\n",
       "      <td>510.000000</td>\n",
       "    </tr>\n",
       "    <tr>\n",
       "      <th>75%</th>\n",
       "      <td>841.000000</td>\n",
       "      <td>925.000000</td>\n",
       "    </tr>\n",
       "    <tr>\n",
       "      <th>max</th>\n",
       "      <td>67448.000000</td>\n",
       "      <td>67448.000000</td>\n",
       "    </tr>\n",
       "  </tbody>\n",
       "</table>\n",
       "</div>"
      ],
      "text/plain": [
       "       description1  description2\n",
       "count  39778.000000  39778.000000\n",
       "mean    1111.995324   1185.271406\n",
       "std     2859.586179   3082.720871\n",
       "min       50.000000     50.000000\n",
       "25%      281.000000    289.000000\n",
       "50%      482.000000    510.000000\n",
       "75%      841.000000    925.000000\n",
       "max    67448.000000  67448.000000"
      ]
     },
     "execution_count": 45,
     "metadata": {},
     "output_type": "execute_result"
    }
   ],
   "source": [
    "description = ['description1', 'description2']\n",
    "\n",
    "#To Describe Length of 'Description' of the Bugs\n",
    "dup_df[description].apply(lambda col: col.str.len().describe())"
   ]
  },
  {
   "cell_type": "markdown",
   "id": "cbada774",
   "metadata": {},
   "source": [
    "# Splitting Data into Train, Test and Validation"
   ]
  },
  {
   "cell_type": "code",
   "execution_count": 46,
   "id": "5f8b9fca",
   "metadata": {},
   "outputs": [],
   "source": [
    "train_val_df = train_firefox_df.copy()\n",
    "test_df = test_firefox_df.copy()"
   ]
  },
  {
   "cell_type": "code",
   "execution_count": 47,
   "id": "550f5356",
   "metadata": {},
   "outputs": [],
   "source": [
    "train_df, val_df = train_test_split(train_val_df, test_size = 0.2, stratify = train_val_df.is_similar, random_state = 13)"
   ]
  },
  {
   "cell_type": "code",
   "execution_count": 48,
   "id": "57f78d14",
   "metadata": {},
   "outputs": [
    {
     "name": "stdout",
     "output_type": "stream",
     "text": [
      "Size of Training Dataset:  25288\n",
      "Size of Validation Dataset:  6323\n",
      "Size of Testing Dataset:  8167\n"
     ]
    }
   ],
   "source": [
    "print('Size of Training Dataset: ', train_df.shape[0])\n",
    "print('Size of Validation Dataset: ', val_df.shape[0])\n",
    "print('Size of Testing Dataset: ', test_df.shape[0])"
   ]
  },
  {
   "cell_type": "code",
   "execution_count": 49,
   "id": "2ca0bfe7",
   "metadata": {},
   "outputs": [
    {
     "name": "stdout",
     "output_type": "stream",
     "text": [
      "Indexing word vectors...\n",
      "Found 400000 word vectors.\n"
     ]
    }
   ],
   "source": [
    "print('Indexing word vectors...')\n",
    "\n",
    "embeddings_index = {}\n",
    "f = open('../../PreProcessedData/Requirement/glove.6B.100d.txt', encoding='utf-8')\n",
    "for line in f:\n",
    "    values = line.split()\n",
    "    word = values[0]\n",
    "    coefs = np.asarray(values[1:], dtype='float32')\n",
    "    embeddings_index[word] = coefs\n",
    "f.close()\n",
    "\n",
    "print('Found %s word vectors.' % len(embeddings_index))"
   ]
  },
  {
   "cell_type": "code",
   "execution_count": 50,
   "id": "41468c43",
   "metadata": {},
   "outputs": [],
   "source": [
    "#To Dump Data in a Pickle File\n",
    "pickle.dump({'embeddings_index' : embeddings_index } , open('../../PreProcessedData/Requirement/firefox.glove.42B.300d.txt', 'wb'))"
   ]
  },
  {
   "cell_type": "code",
   "execution_count": 51,
   "id": "9fc0f6a3",
   "metadata": {},
   "outputs": [],
   "source": [
    "file_path = open('../../PreProcessedData/Requirement/firefox.glove.42B.300d.txt',  mode=\"r\", encoding=\"utf-8\")"
   ]
  },
  {
   "cell_type": "markdown",
   "id": "d51f483d",
   "metadata": {},
   "source": [
    "# Create Vocabulary Index"
   ]
  },
  {
   "cell_type": "code",
   "execution_count": 52,
   "id": "2701afb0",
   "metadata": {},
   "outputs": [],
   "source": [
    "MAX_TOKENS = 20000\n",
    "MAX_TITLE_LENGTH = 21\n",
    "MAX_DESCRIPTION_LENGTH = 500\n",
    "EMBEDDING_DIM = 100"
   ]
  },
  {
   "cell_type": "code",
   "execution_count": 53,
   "id": "fb7022f5",
   "metadata": {},
   "outputs": [],
   "source": [
    "def build_vocab(sentences: List[str], sequence_length: int):\n",
    "    vectorizer = TextVectorization(max_tokens=MAX_TOKENS - 2,output_sequence_length=sequence_length)\n",
    "    vectorizer.adapt(sentences)\n",
    "    vocab = vectorizer.get_vocabulary()\n",
    "    word_index = dict(zip(vocab, range(len(vocab))))\n",
    "\n",
    "    return vectorizer, word_index"
   ]
  },
  {
   "cell_type": "code",
   "execution_count": 54,
   "id": "ee79b141",
   "metadata": {},
   "outputs": [
    {
     "name": "stdout",
     "output_type": "stream",
     "text": [
      "Most frequent description words: ['', '[UNK]', 'info', 'the', 'task']\n"
     ]
    }
   ],
   "source": [
    "descr_vectorizer, descr_word_index = build_vocab([dup_df.description1, dup_df.description2],MAX_DESCRIPTION_LENGTH)\n",
    "\n",
    "print('Most frequent description words:',list(itertools.islice(descr_word_index.keys(), 5)))"
   ]
  },
  {
   "cell_type": "markdown",
   "id": "e35ec1b5",
   "metadata": {},
   "source": [
    "# Create Embedding Matrix"
   ]
  },
  {
   "cell_type": "code",
   "execution_count": 55,
   "id": "1541edce",
   "metadata": {},
   "outputs": [],
   "source": [
    "def create_embedding_matrix(embedding_index: Dict[str, np.ndarray],word_index: Dict[str, int],verbose=False):\n",
    "    hits = 0\n",
    "    misses = 0\n",
    "\n",
    "    #To initialize Embedding Matrix\n",
    "    embedding_matrix = np.zeros((MAX_TOKENS, EMBEDDING_DIM))\n",
    "    for word, i in word_index.items():\n",
    "        embedding_vector = embedding_index.get(word)\n",
    "    \n",
    "        if embedding_vector is not None:\n",
    "        # Words not found in Embedding Index will zeros.\n",
    "        # This includes the representation for \"Padding\" and \"OOV\"\n",
    "            embedding_matrix[i] = embedding_vector\n",
    "            hits += 1\n",
    "        else:\n",
    "            misses += 1\n",
    "\n",
    "    if verbose:\n",
    "        print('Embedding shape:', embedding_matrix.shape)\n",
    "        print(f'Found {hits} words, missed {misses}.')\n",
    "\n",
    "    return embedding_matrix"
   ]
  },
  {
   "cell_type": "code",
   "execution_count": 56,
   "id": "25c3939d",
   "metadata": {},
   "outputs": [
    {
     "name": "stdout",
     "output_type": "stream",
     "text": [
      "Embedding shape: (20000, 100)\n",
      "Found 11164 words, missed 8834.\n"
     ]
    }
   ],
   "source": [
    "#To create Embedding Matrix of Description\n",
    "descr_embedding_matrix = create_embedding_matrix(embeddings_index, descr_word_index, True)"
   ]
  },
  {
   "cell_type": "markdown",
   "id": "5c116ffe",
   "metadata": {},
   "source": [
    "# To Prepare Training Data"
   ]
  },
  {
   "cell_type": "code",
   "execution_count": 57,
   "id": "4aa15a80",
   "metadata": {},
   "outputs": [],
   "source": [
    "def generate_batches(split_df: pd.DataFrame,batch_size=256):\n",
    "    steps_per_epoch = len(split_df) // batch_size\n",
    "    while True:\n",
    "        for i in range(steps_per_epoch):\n",
    "            offset = i * batch_size\n",
    "            till = offset + batch_size\n",
    "            feature_batches = []\n",
    "            for feature in description:\n",
    "                vectorizer = title_vectorizer if feature.startswith('title') else descr_vectorizer\n",
    "                feature_batch = vectorizer(split_df[feature][offset: till].to_numpy().reshape((-1, 1))).numpy()\n",
    "                feature_batches.append(feature_batch)\n",
    "\n",
    "            target_batch = split_df.is_similar[offset: till].to_numpy()\n",
    "            yield (feature_batches,target_batch)"
   ]
  },
  {
   "cell_type": "code",
   "execution_count": 58,
   "id": "489f54db",
   "metadata": {},
   "outputs": [],
   "source": [
    "DescrEmbeddingLayer = layers.Embedding(input_dim=MAX_TOKENS,output_dim=EMBEDDING_DIM,\n",
    "                        embeddings_initializer=Constant(descr_embedding_matrix),trainable=False,name='DescrEmbeddingLayer')\n",
    "\n",
    "def make_descr_layer(num, kernel_size=3, pool_size=2, strides=None):\n",
    "    DescrConv1dLayer = layers.Conv1D(filters=32, kernel_size=kernel_size, activation='relu', name=f'DescrConv1dLayer{num}')\n",
    "    DescrMaxPool1dLayer = layers.MaxPool1D(pool_size=pool_size, strides=strides, name=f'DescrMaxPool1dLayer{num}')\n",
    "    return DescrConv1dLayer, DescrMaxPool1dLayer\n",
    "\n",
    "DescrConv1dLayer1, DescrMaxPool1dLayer1 = make_descr_layer(1, pool_size=4)\n",
    "DescrConv1dLayer2, DescrMaxPool1dLayer2 = make_descr_layer(2)"
   ]
  },
  {
   "cell_type": "code",
   "execution_count": 59,
   "id": "509c1f64",
   "metadata": {},
   "outputs": [
    {
     "name": "stdout",
     "output_type": "stream",
     "text": [
      "You must install pydot (`pip install pydot`) and install graphviz (see instructions at https://graphviz.gitlab.io/download/) for plot_model to work.\n"
     ]
    }
   ],
   "source": [
    "def create_siamese_component(num: int):\n",
    "  \n",
    "    class SiameseComponent:\n",
    "        def __init__(self, title: layers.Input, description: layers.Input, output: layers.Concatenate):\n",
    "            self.title = title\n",
    "            self.description = description\n",
    "            self.output = output\n",
    "\n",
    "    title_input = layers.Input(shape=(None,), dtype='int32', name=f'title{num}_input')\n",
    "\n",
    "    descr_input = layers.Input(shape=(None,), name=f'descr{num}_input')\n",
    "    descr_embedding_layer = DescrEmbeddingLayer(descr_input)\n",
    "    descr_conv1d1 = DescrConv1dLayer1(descr_embedding_layer)\n",
    "    descr_max_pool1d1 = DescrMaxPool1dLayer1(descr_conv1d1)\n",
    "    descr_conv1d2 = DescrConv1dLayer2(descr_max_pool1d1)\n",
    "    descr_max_pool1d2 = DescrMaxPool1dLayer2(descr_conv1d2)\n",
    "    descr_flat_Layer = layers.Flatten(name=f'FlatDescr{num}')(descr_max_pool1d2)\n",
    "\n",
    "    concat = layers.Concatenate(axis=1, name=f'Concat{num}')([descr_flat_Layer])\n",
    "    return SiameseComponent(title_input, descr_input, concat)\n",
    "\n",
    "component1 = create_siamese_component(1)\n",
    "component2 = create_siamese_component(2)\n",
    "\n",
    "dot_product_layer = layers.Dot(axes=1,name='dot_product_layer')([component1.output, component2.output])\n",
    "\n",
    "output = layers.Dense(1, activation='sigmoid', name='output',)(dot_product_layer)\n",
    "\n",
    "siamese_model = models.Model(inputs=[component1.description, component2.description],outputs=output,name='siamese_model')\n",
    "\n",
    "kutils.plot_model(siamese_model)"
   ]
  },
  {
   "cell_type": "markdown",
   "id": "f8e21cfa",
   "metadata": {},
   "source": [
    "# Train"
   ]
  },
  {
   "cell_type": "code",
   "execution_count": 60,
   "id": "9d4dce11",
   "metadata": {},
   "outputs": [
    {
     "name": "stdout",
     "output_type": "stream",
     "text": [
      "Epoch 1/12\n",
      "98/98 [==============================] - 27s 260ms/step - loss: 1.0930 - acc: 0.6700 - val_loss: 0.6703 - val_acc: 0.8078\n",
      "Epoch 2/12\n",
      "98/98 [==============================] - 27s 276ms/step - loss: 0.6587 - acc: 0.8116 - val_loss: 0.6467 - val_acc: 0.8122\n",
      "Epoch 3/12\n",
      "98/98 [==============================] - 29s 300ms/step - loss: 0.6356 - acc: 0.8133 - val_loss: 0.6239 - val_acc: 0.8148\n",
      "Epoch 4/12\n",
      "98/98 [==============================] - 31s 313ms/step - loss: 0.6137 - acc: 0.8144 - val_loss: 0.6033 - val_acc: 0.8148\n",
      "Epoch 5/12\n",
      "98/98 [==============================] - 28s 290ms/step - loss: 0.5940 - acc: 0.8145 - val_loss: 0.5853 - val_acc: 0.8149\n",
      "Epoch 6/12\n",
      "98/98 [==============================] - 30s 310ms/step - loss: 0.5768 - acc: 0.8150 - val_loss: 0.5696 - val_acc: 0.8153\n",
      "Epoch 7/12\n",
      "98/98 [==============================] - 35s 356ms/step - loss: 0.5618 - acc: 0.8153 - val_loss: 0.5557 - val_acc: 0.8154\n",
      "Epoch 8/12\n",
      "98/98 [==============================] - 31s 315ms/step - loss: 0.5486 - acc: 0.8156 - val_loss: 0.5436 - val_acc: 0.8154\n",
      "Epoch 9/12\n",
      "98/98 [==============================] - 30s 307ms/step - loss: 0.5369 - acc: 0.8162 - val_loss: 0.5322 - val_acc: 0.8159\n",
      "Epoch 10/12\n",
      "98/98 [==============================] - 32s 331ms/step - loss: 0.5252 - acc: 0.8180 - val_loss: 0.5210 - val_acc: 0.8177\n",
      "Epoch 11/12\n",
      "98/98 [==============================] - 34s 347ms/step - loss: 0.5153 - acc: 0.8191 - val_loss: 0.5123 - val_acc: 0.8185\n",
      "Epoch 12/12\n",
      "98/98 [==============================] - 33s 342ms/step - loss: 0.5057 - acc: 0.8195 - val_loss: 0.5024 - val_acc: 0.8203\n"
     ]
    }
   ],
   "source": [
    "BATCH_SIZE = 256\n",
    "\n",
    "opt = tf.keras.optimizers.Adam(learning_rate=0.001)\n",
    "\n",
    "siamese_model.compile(loss='binary_crossentropy', optimizer=opt, metrics=['acc'])\n",
    "\n",
    "history = siamese_model.fit(\n",
    "  generate_batches(train_df, BATCH_SIZE),\n",
    "  steps_per_epoch=len(train_df) // BATCH_SIZE,\n",
    "  epochs=12,\n",
    "  validation_data=generate_batches(val_df, BATCH_SIZE),\n",
    "  validation_steps=len(val_df) // BATCH_SIZE,\n",
    "  verbose=1\n",
    ")"
   ]
  },
  {
   "cell_type": "code",
   "execution_count": 61,
   "id": "f7bc5fd9",
   "metadata": {},
   "outputs": [
    {
     "name": "stdout",
     "output_type": "stream",
     "text": [
      "You must install pydot (`pip install pydot`) and install graphviz (see instructions at https://graphviz.gitlab.io/download/) for plot_model to work.\n"
     ]
    },
    {
     "data": {
      "image/png": "[encoded data removed]",
      "text/plain": [
       "<Figure size 640x480 with 1 Axes>"
      ]
     },
     "metadata": {},
     "output_type": "display_data"
    }
   ],
   "source": [
    "plot_model(siamese_model, to_file='model_plot.png', show_shapes=True, show_layer_names=True)\n",
    "\n",
    "#To Plot Loss\n",
    "plt.plot(history.history['loss'], label='Train Loss')\n",
    "plt.plot(history.history['val_loss'], label='Validationa Loss')\n",
    "plt.legend()\n",
    "plt.show()"
   ]
  },
  {
   "cell_type": "code",
   "execution_count": 62,
   "id": "9b039883",
   "metadata": {},
   "outputs": [
    {
     "data": {
      "image/png": "[encoded data removed]",
      "text/plain": [
       "<Figure size 640x480 with 1 Axes>"
      ]
     },
     "metadata": {},
     "output_type": "display_data"
    }
   ],
   "source": [
    "#To Plot Accuracy\n",
    "plt.plot(history.history['acc'], label='Train Accuracy')\n",
    "plt.plot(history.history['val_acc'], label='Validation Accuracy')\n",
    "plt.legend()\n",
    "plt.show()"
   ]
  },
  {
   "cell_type": "markdown",
   "id": "ef269aaa",
   "metadata": {},
   "source": [
    "# To Evaluate Model on Test Data "
   ]
  },
  {
   "cell_type": "code",
   "execution_count": 63,
   "id": "a5931b9f",
   "metadata": {},
   "outputs": [
    {
     "name": "stdout",
     "output_type": "stream",
     "text": [
      "31/31 [==============================] - 3s 95ms/step - loss: 0.4958 - acc: 0.8284\n",
      "1/1 [==============================] - 4s 4s/step\n"
     ]
    }
   ],
   "source": [
    "siamese_model.evaluate(generate_batches(test_df, BATCH_SIZE),steps=len(test_df) // BATCH_SIZE)\n",
    "\n",
    "BATCH_SIZE = len(test_df)\n",
    "\n",
    "num_batched_instances = len(test_df) - (len(test_df) % BATCH_SIZE)\n",
    "\n",
    "pred_y = siamese_model.predict(generate_batches(test_df, BATCH_SIZE),steps=len(test_df) // BATCH_SIZE,verbose=1)"
   ]
  },
  {
   "cell_type": "code",
   "execution_count": 64,
   "id": "d1206dc6",
   "metadata": {},
   "outputs": [
    {
     "name": "stdout",
     "output_type": "stream",
     "text": [
      "AUC: 0.5300783386234768\n",
      "Recall: 0.8269866536059752\n",
      "Precision: 0.7996797429314794\n",
      "F1: 0.7642921612296035\n"
     ]
    }
   ],
   "source": [
    "print('AUC:', roc_auc_score(test_df.is_similar[:num_batched_instances], pred_y > .5, average='weighted'))\n",
    "print('Recall:', recall_score(test_df.is_similar[:num_batched_instances], pred_y > .5, average='weighted'))\n",
    "print('Precision:', precision_score(test_df.is_similar[:num_batched_instances], pred_y > .5, average='weighted'))\n",
    "print('F1:', f1_score(test_df.is_similar[:num_batched_instances], pred_y > .5, average='weighted'))      "
   ]
  },
  {
   "cell_type": "code",
   "execution_count": 65,
   "id": "31324855",
   "metadata": {},
   "outputs": [
    {
     "name": "stdout",
     "output_type": "stream",
     "text": [
      "              precision    recall  f1-score   support\n",
      "\n",
      "           0       0.83      0.99      0.90      6706\n",
      "           1       0.66      0.07      0.12      1461\n",
      "\n",
      "    accuracy                           0.83      8167\n",
      "   macro avg       0.75      0.53      0.51      8167\n",
      "weighted avg       0.80      0.83      0.76      8167\n",
      "\n",
      "\n",
      "AUC: 0.5300783386234768\n"
     ]
    }
   ],
   "source": [
    "#Classification Report\n",
    "print(classification_report(test_df.is_similar[:num_batched_instances], pred_y > .5,))\n",
    "\n",
    "print('\\nAUC:', roc_auc_score(test_df.is_similar[:num_batched_instances], pred_y > .5))"
   ]
  },
  {
   "cell_type": "code",
   "execution_count": 66,
   "id": "d06c655c",
   "metadata": {},
   "outputs": [
    {
     "data": {
      "text/html": [
       "<div>\n",
       "<style scoped>\n",
       "    .dataframe tbody tr th:only-of-type {\n",
       "        vertical-align: middle;\n",
       "    }\n",
       "\n",
       "    .dataframe tbody tr th {\n",
       "        vertical-align: top;\n",
       "    }\n",
       "\n",
       "    .dataframe thead th {\n",
       "        text-align: right;\n",
       "    }\n",
       "</style>\n",
       "<table border=\"1\" class=\"dataframe\">\n",
       "  <thead>\n",
       "    <tr style=\"text-align: right;\">\n",
       "      <th></th>\n",
       "      <th>TPR</th>\n",
       "      <th>FPR</th>\n",
       "      <th>Threshold</th>\n",
       "    </tr>\n",
       "  </thead>\n",
       "  <tbody>\n",
       "    <tr>\n",
       "      <th>0</th>\n",
       "      <td>0.000000</td>\n",
       "      <td>0.000000</td>\n",
       "      <td>2.000000</td>\n",
       "    </tr>\n",
       "    <tr>\n",
       "      <th>1</th>\n",
       "      <td>0.000000</td>\n",
       "      <td>0.001369</td>\n",
       "      <td>1.000000</td>\n",
       "    </tr>\n",
       "    <tr>\n",
       "      <th>2</th>\n",
       "      <td>0.000000</td>\n",
       "      <td>0.007529</td>\n",
       "      <td>0.999406</td>\n",
       "    </tr>\n",
       "    <tr>\n",
       "      <th>3</th>\n",
       "      <td>0.000149</td>\n",
       "      <td>0.007529</td>\n",
       "      <td>0.999266</td>\n",
       "    </tr>\n",
       "    <tr>\n",
       "      <th>4</th>\n",
       "      <td>0.000149</td>\n",
       "      <td>0.010267</td>\n",
       "      <td>0.992562</td>\n",
       "    </tr>\n",
       "    <tr>\n",
       "      <th>...</th>\n",
       "      <td>...</td>\n",
       "      <td>...</td>\n",
       "      <td>...</td>\n",
       "    </tr>\n",
       "    <tr>\n",
       "      <th>1018</th>\n",
       "      <td>0.337161</td>\n",
       "      <td>0.513347</td>\n",
       "      <td>0.293164</td>\n",
       "    </tr>\n",
       "    <tr>\n",
       "      <th>1019</th>\n",
       "      <td>0.337459</td>\n",
       "      <td>0.513347</td>\n",
       "      <td>0.293163</td>\n",
       "    </tr>\n",
       "    <tr>\n",
       "      <th>1020</th>\n",
       "      <td>0.337459</td>\n",
       "      <td>0.514031</td>\n",
       "      <td>0.293163</td>\n",
       "    </tr>\n",
       "    <tr>\n",
       "      <th>1021</th>\n",
       "      <td>0.338055</td>\n",
       "      <td>0.514031</td>\n",
       "      <td>0.293163</td>\n",
       "    </tr>\n",
       "    <tr>\n",
       "      <th>1022</th>\n",
       "      <td>1.000000</td>\n",
       "      <td>1.000000</td>\n",
       "      <td>0.293163</td>\n",
       "    </tr>\n",
       "  </tbody>\n",
       "</table>\n",
       "<p>1023 rows × 3 columns</p>\n",
       "</div>"
      ],
      "text/plain": [
       "           TPR       FPR  Threshold\n",
       "0     0.000000  0.000000   2.000000\n",
       "1     0.000000  0.001369   1.000000\n",
       "2     0.000000  0.007529   0.999406\n",
       "3     0.000149  0.007529   0.999266\n",
       "4     0.000149  0.010267   0.992562\n",
       "...        ...       ...        ...\n",
       "1018  0.337161  0.513347   0.293164\n",
       "1019  0.337459  0.513347   0.293163\n",
       "1020  0.337459  0.514031   0.293163\n",
       "1021  0.338055  0.514031   0.293163\n",
       "1022  1.000000  1.000000   0.293163\n",
       "\n",
       "[1023 rows x 3 columns]"
      ]
     },
     "execution_count": 66,
     "metadata": {},
     "output_type": "execute_result"
    }
   ],
   "source": [
    "value_names = ['TPR', 'FPR', 'Threshold']\n",
    "\n",
    "roc = dict(zip(value_names, roc_curve(test_df.is_similar[:num_batched_instances],pred_y)))\n",
    "\n",
    "pd.DataFrame(roc)"
   ]
  },
  {
   "cell_type": "markdown",
   "id": "22d6eefe",
   "metadata": {},
   "source": [
    "# To Evaluate Textually Similar Data"
   ]
  },
  {
   "cell_type": "code",
   "execution_count": 67,
   "id": "e0f74685",
   "metadata": {},
   "outputs": [
    {
     "name": "stdout",
     "output_type": "stream",
     "text": [
      "Dimensions of Dataset:  (536, 9)\n"
     ]
    }
   ],
   "source": [
    "sim_df_original = pd.read_csv('../../PreProcessedData/Firefox/Firefox_textually_similar_pair.csv')\n",
    "\n",
    "print('Dimensions of Dataset: ', sim_df_original.shape)"
   ]
  },
  {
   "cell_type": "code",
   "execution_count": 68,
   "id": "387e8a39",
   "metadata": {},
   "outputs": [
    {
     "data": {
      "text/html": [
       "<div>\n",
       "<style scoped>\n",
       "    .dataframe tbody tr th:only-of-type {\n",
       "        vertical-align: middle;\n",
       "    }\n",
       "\n",
       "    .dataframe tbody tr th {\n",
       "        vertical-align: top;\n",
       "    }\n",
       "\n",
       "    .dataframe thead th {\n",
       "        text-align: right;\n",
       "    }\n",
       "</style>\n",
       "<table border=\"1\" class=\"dataframe\">\n",
       "  <thead>\n",
       "    <tr style=\"text-align: right;\">\n",
       "      <th></th>\n",
       "      <th>Unnamed: 0</th>\n",
       "      <th>description1</th>\n",
       "      <th>description2</th>\n",
       "      <th>is_similar</th>\n",
       "    </tr>\n",
       "  </thead>\n",
       "  <tbody>\n",
       "    <tr>\n",
       "      <th>0</th>\n",
       "      <td>0</td>\n",
       "      <td>created attachment   keyselectedsearch    mozi...</td>\n",
       "      <td>i noticed this while working on bug    and i t...</td>\n",
       "      <td>1</td>\n",
       "    </tr>\n",
       "    <tr>\n",
       "      <th>1</th>\n",
       "      <td>4</td>\n",
       "      <td>created attachment   bug dialog png  user agen...</td>\n",
       "      <td>created attachment   screenshot of bookmark wi...</td>\n",
       "      <td>1</td>\n",
       "    </tr>\n",
       "    <tr>\n",
       "      <th>2</th>\n",
       "      <td>8</td>\n",
       "      <td>created attachment   firefoxfail png  user age...</td>\n",
       "      <td>created attachment   toolbar screenshot png  s...</td>\n",
       "      <td>1</td>\n",
       "    </tr>\n",
       "    <tr>\n",
       "      <th>3</th>\n",
       "      <td>11</td>\n",
       "      <td>created attachment   screenshot png  user agen...</td>\n",
       "      <td>str      open           open another tab in th...</td>\n",
       "      <td>1</td>\n",
       "    </tr>\n",
       "    <tr>\n",
       "      <th>4</th>\n",
       "      <td>12</td>\n",
       "      <td>user agent  mozilla       gecko   firefox     ...</td>\n",
       "      <td>based on    edit    the overlay icon should ch...</td>\n",
       "      <td>1</td>\n",
       "    </tr>\n",
       "  </tbody>\n",
       "</table>\n",
       "</div>"
      ],
      "text/plain": [
       "   Unnamed: 0                                       description1  \\\n",
       "0           0  created attachment   keyselectedsearch    mozi...   \n",
       "1           4  created attachment   bug dialog png  user agen...   \n",
       "2           8  created attachment   firefoxfail png  user age...   \n",
       "3          11  created attachment   screenshot png  user agen...   \n",
       "4          12  user agent  mozilla       gecko   firefox     ...   \n",
       "\n",
       "                                        description2  is_similar  \n",
       "0  i noticed this while working on bug    and i t...           1  \n",
       "1  created attachment   screenshot of bookmark wi...           1  \n",
       "2  created attachment   toolbar screenshot png  s...           1  \n",
       "3  str      open           open another tab in th...           1  \n",
       "4  based on    edit    the overlay icon should ch...           1  "
      ]
     },
     "execution_count": 68,
     "metadata": {},
     "output_type": "execute_result"
    }
   ],
   "source": [
    "#Preprocessing Dataset\n",
    "sim_df = pd.DataFrame()\n",
    "\n",
    "sim_df['Unnamed: 0'] = sim_df_original['Unnamed: 0']\n",
    "sim_df['description1'] = sim_df_original['Description1']\n",
    "sim_df['description2'] = sim_df_original['Description2']\n",
    "sim_df['is_similar'] = sim_df_original['is_similar']\n",
    "\n",
    "sim_df['description1'] = sim_df['description1'].str.replace('[','').str.replace(']','')\n",
    "sim_df['description2'] = sim_df['description2'].str.replace('[','').str.replace(']','')\n",
    "\n",
    "sim_df['description1'] = sim_df['description1'].str.replace(\"'\", \"\")\n",
    "sim_df['description2'] = sim_df['description2'].str.replace(\"'\", \"\")\n",
    "\n",
    "#To show Data\n",
    "sim_df.head()"
   ]
  },
  {
   "cell_type": "code",
   "execution_count": 69,
   "id": "01feda24",
   "metadata": {},
   "outputs": [],
   "source": [
    "#Adding Data to the Dataframe\n",
    "sim_df_new = sim_df[['description1', 'description2', 'is_similar']]\n",
    "sim_df_new['description2'] = sim_df_new.description2.shift(1)\n",
    "sim_df_new['is_similar'] = 0\n",
    "sim_df_new.dropna(inplace = True)\n",
    "sim_df = pd.concat([sim_df[['description1', 'description2', 'is_similar']],sim_df_new])"
   ]
  },
  {
   "cell_type": "code",
   "execution_count": 70,
   "id": "783c1569",
   "metadata": {},
   "outputs": [
    {
     "name": "stdout",
     "output_type": "stream",
     "text": [
      "1/1 [==============================] - 1s 635ms/step - loss: 0.7526 - acc: 0.5070\n",
      "1/1 [==============================] - 1s 661ms/step\n"
     ]
    }
   ],
   "source": [
    "BATCH_SIZE = len(sim_df)\n",
    "\n",
    "siamese_model.evaluate(generate_batches(sim_df, BATCH_SIZE),steps=len(sim_df) // BATCH_SIZE)\n",
    "\n",
    "num_batched_instances = len(sim_df) - (len(sim_df) % BATCH_SIZE)\n",
    "\n",
    "pred_y_sim = siamese_model.predict(generate_batches(sim_df, BATCH_SIZE),steps=len(sim_df) // BATCH_SIZE,verbose=1)"
   ]
  },
  {
   "cell_type": "code",
   "execution_count": 71,
   "id": "8e781db6",
   "metadata": {},
   "outputs": [
    {
     "name": "stdout",
     "output_type": "stream",
     "text": [
      "AUC: 0.5074504812386664\n",
      "Recall: 0.5070028011204482\n",
      "Precision: 0.5926606711668114\n",
      "F1: 0.3599289178036806\n"
     ]
    }
   ],
   "source": [
    "print('AUC:', roc_auc_score(sim_df.is_similar[:num_batched_instances], pred_y_sim > .5, average='weighted'))\n",
    "print('Recall:', recall_score(sim_df.is_similar[:num_batched_instances], pred_y_sim > .5, average='weighted'))\n",
    "print('Precision:', precision_score(sim_df.is_similar[:num_batched_instances], pred_y_sim > .5, average='weighted'))\n",
    "print('F1:', f1_score(sim_df.is_similar[:num_batched_instances], pred_y_sim > .5, average='weighted'))  "
   ]
  },
  {
   "cell_type": "code",
   "execution_count": 72,
   "id": "06cdce40",
   "metadata": {},
   "outputs": [
    {
     "name": "stdout",
     "output_type": "stream",
     "text": [
      "              precision    recall  f1-score   support\n",
      "\n",
      "           0       0.50      0.99      0.67       535\n",
      "           1       0.68      0.03      0.05       536\n",
      "\n",
      "    accuracy                           0.51      1071\n",
      "   macro avg       0.59      0.51      0.36      1071\n",
      "weighted avg       0.59      0.51      0.36      1071\n",
      "\n",
      "\n",
      "AUC: 0.5074504812386664\n"
     ]
    }
   ],
   "source": [
    "#Classification Report\n",
    "print(classification_report(sim_df.is_similar[:num_batched_instances], pred_y_sim > .5,))\n",
    "\n",
    "print('\\nAUC:', roc_auc_score(sim_df.is_similar[:num_batched_instances], pred_y_sim > .5))"
   ]
  },
  {
   "cell_type": "markdown",
   "id": "19dbb57c",
   "metadata": {},
   "source": [
    "# To Evaluate Textually Dissimilar Data"
   ]
  },
  {
   "cell_type": "code",
   "execution_count": 73,
   "id": "f675d416",
   "metadata": {},
   "outputs": [
    {
     "name": "stdout",
     "output_type": "stream",
     "text": [
      "Dimensions of Dataset:  (816, 9)\n"
     ]
    }
   ],
   "source": [
    "dissim_df_original = pd.read_csv('../../PreProcessedData/Firefox/Firefox_textually_dissimilar_pair.csv')\n",
    "\n",
    "print('Dimensions of Dataset: ', dissim_df_original.shape)"
   ]
  },
  {
   "cell_type": "code",
   "execution_count": 74,
   "id": "905b0709",
   "metadata": {},
   "outputs": [
    {
     "data": {
      "text/html": [
       "<div>\n",
       "<style scoped>\n",
       "    .dataframe tbody tr th:only-of-type {\n",
       "        vertical-align: middle;\n",
       "    }\n",
       "\n",
       "    .dataframe tbody tr th {\n",
       "        vertical-align: top;\n",
       "    }\n",
       "\n",
       "    .dataframe thead th {\n",
       "        text-align: right;\n",
       "    }\n",
       "</style>\n",
       "<table border=\"1\" class=\"dataframe\">\n",
       "  <thead>\n",
       "    <tr style=\"text-align: right;\">\n",
       "      <th></th>\n",
       "      <th>Unnamed: 0</th>\n",
       "      <th>description1</th>\n",
       "      <th>description2</th>\n",
       "      <th>is_similar</th>\n",
       "    </tr>\n",
       "  </thead>\n",
       "  <tbody>\n",
       "    <tr>\n",
       "      <th>0</th>\n",
       "      <td>0</td>\n",
       "      <td>should add the customize firefox tour in the o...</td>\n",
       "      <td>should add the add on tour in the onboarding o...</td>\n",
       "      <td>1</td>\n",
       "    </tr>\n",
       "    <tr>\n",
       "      <th>1</th>\n",
       "      <td>1</td>\n",
       "      <td>nightly       on windows      at the moment  a...</td>\n",
       "      <td>this bug was initially created as a clone ...</td>\n",
       "      <td>1</td>\n",
       "    </tr>\n",
       "    <tr>\n",
       "      <th>2</th>\n",
       "      <td>2</td>\n",
       "      <td>should not display the notification for the co...</td>\n",
       "      <td>should show the notification bar to notify use...</td>\n",
       "      <td>1</td>\n",
       "    </tr>\n",
       "    <tr>\n",
       "      <th>3</th>\n",
       "      <td>3</td>\n",
       "      <td>should highlight the customize button in the h...</td>\n",
       "      <td>should add the add on tour in the onboarding o...</td>\n",
       "      <td>1</td>\n",
       "    </tr>\n",
       "    <tr>\n",
       "      <th>4</th>\n",
       "      <td>6</td>\n",
       "      <td>created attachment   jiggle    video attached ...</td>\n",
       "      <td>created attachment   autocomplete richlistbox ...</td>\n",
       "      <td>1</td>\n",
       "    </tr>\n",
       "  </tbody>\n",
       "</table>\n",
       "</div>"
      ],
      "text/plain": [
       "   Unnamed: 0                                       description1  \\\n",
       "0           0  should add the customize firefox tour in the o...   \n",
       "1           1  nightly       on windows      at the moment  a...   \n",
       "2           2  should not display the notification for the co...   \n",
       "3           3  should highlight the customize button in the h...   \n",
       "4           6  created attachment   jiggle    video attached ...   \n",
       "\n",
       "                                        description2  is_similar  \n",
       "0  should add the add on tour in the onboarding o...           1  \n",
       "1      this bug was initially created as a clone ...           1  \n",
       "2  should show the notification bar to notify use...           1  \n",
       "3  should add the add on tour in the onboarding o...           1  \n",
       "4  created attachment   autocomplete richlistbox ...           1  "
      ]
     },
     "execution_count": 74,
     "metadata": {},
     "output_type": "execute_result"
    }
   ],
   "source": [
    "#Preprocessing Dataset\n",
    "dissim_df = pd.DataFrame()\n",
    "\n",
    "dissim_df['Unnamed: 0'] = dissim_df_original['Unnamed: 0']\n",
    "dissim_df['description1'] = dissim_df_original['Description1']\n",
    "dissim_df['description2'] = dissim_df_original['Description2']\n",
    "dissim_df['is_similar'] = dissim_df_original['is_similar']\n",
    "\n",
    "#df['my_column'] = df['my_column'].str.replace('[','').str.replace(']','')\n",
    "dissim_df['description1'] = dissim_df['description1'].str.replace('[','').str.replace(']','')\n",
    "dissim_df['description2'] = dissim_df['description2'].str.replace('[','').str.replace(']','')\n",
    "\n",
    "#df['my_column'] = df['my_column'].str.replace(\"'\", \"\")\n",
    "dissim_df['description1'] = dissim_df['description1'].str.replace(\"'\", \"\")\n",
    "dissim_df['description2'] = dissim_df['description2'].str.replace(\"'\", \"\")\n",
    "\n",
    "#To show Data\n",
    "dissim_df.head()"
   ]
  },
  {
   "cell_type": "code",
   "execution_count": 75,
   "id": "8ee71820",
   "metadata": {},
   "outputs": [],
   "source": [
    "#Adding Data to the Dataframe\n",
    "dissim_df_new = dissim_df[['description1', 'description2', 'is_similar']]\n",
    "dissim_df_new['description2'] = dissim_df_new.description2.shift(1)\n",
    "dissim_df_new['is_similar'] = 0\n",
    "dissim_df_new.dropna(inplace = True)\n",
    "dissim_df = pd.concat([sim_df[['description1', 'description2', 'is_similar']],dissim_df_new])"
   ]
  },
  {
   "cell_type": "code",
   "execution_count": 76,
   "id": "1c2a1ea4",
   "metadata": {},
   "outputs": [
    {
     "name": "stdout",
     "output_type": "stream",
     "text": [
      "1/1 [==============================] - 1s 1s/step - loss: 0.6067 - acc: 0.7031\n",
      "1/1 [==============================] - 1s 1s/step\n"
     ]
    }
   ],
   "source": [
    "BATCH_SIZE = len(dissim_df)\n",
    "\n",
    "siamese_model.evaluate(generate_batches(dissim_df, BATCH_SIZE), steps=len(dissim_df) // BATCH_SIZE)\n",
    "\n",
    "num_batched_instances = len(dissim_df) - (len(dissim_df) % BATCH_SIZE)\n",
    "\n",
    "pred_y_dis = siamese_model.predict(generate_batches(dissim_df, BATCH_SIZE),steps=len(dissim_df) // BATCH_SIZE,verbose=1)"
   ]
  },
  {
   "cell_type": "code",
   "execution_count": 77,
   "id": "9844c78d",
   "metadata": {},
   "outputs": [
    {
     "name": "stdout",
     "output_type": "stream",
     "text": [
      "AUC: 0.49954809286898844\n",
      "Recall: 0.7030752916224814\n",
      "Precision: 0.5911793300105016\n",
      "F1: 0.6042777378871688\n"
     ]
    }
   ],
   "source": [
    "print('AUC:', roc_auc_score(dissim_df.is_similar[:num_batched_instances], pred_y_dis > .5, average='weighted'))\n",
    "print('Recall:', recall_score(dissim_df.is_similar[:num_batched_instances], pred_y_dis > .5, average='weighted'))\n",
    "print('Precision:', precision_score(dissim_df.is_similar[:num_batched_instances], pred_y_dis > .5, average='weighted'))\n",
    "print('F1:', f1_score(dissim_df.is_similar[:num_batched_instances], pred_y_dis > .5, average='weighted'))  "
   ]
  },
  {
   "cell_type": "code",
   "execution_count": 78,
   "id": "e0b92ab3",
   "metadata": {},
   "outputs": [
    {
     "name": "stdout",
     "output_type": "stream",
     "text": [
      "              precision    recall  f1-score   support\n",
      "\n",
      "           0       0.72      0.97      0.82      1350\n",
      "           1       0.28      0.03      0.05       536\n",
      "\n",
      "    accuracy                           0.70      1886\n",
      "   macro avg       0.50      0.50      0.44      1886\n",
      "weighted avg       0.59      0.70      0.60      1886\n",
      "\n",
      "\n",
      "AUC: 0.49954809286898844\n"
     ]
    }
   ],
   "source": [
    "#Classification Report\n",
    "print(classification_report(dissim_df.is_similar[:num_batched_instances], pred_y_dis > .5,))\n",
    "\n",
    "print('\\nAUC:', roc_auc_score(dissim_df.is_similar[:num_batched_instances], pred_y_dis > .5))"
   ]
  }
 ],
 "metadata": {
  "kernelspec": {
   "display_name": "Python 3 (ipykernel)",
   "language": "python",
   "name": "python3"
  },
  "language_info": {
   "codemirror_mode": {
    "name": "ipython",
    "version": 3
   },
   "file_extension": ".py",
   "mimetype": "text/x-python",
   "name": "python",
   "nbconvert_exporter": "python",
   "pygments_lexer": "ipython3",
   "version": "3.10.9"
  }
 },
 "nbformat": 4,
 "nbformat_minor": 5
}
