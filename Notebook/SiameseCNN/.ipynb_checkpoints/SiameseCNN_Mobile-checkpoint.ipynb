{
 "cells": [
  {
   "cell_type": "code",
   "execution_count": 1,
   "id": "ae0c3a12",
   "metadata": {},
   "outputs": [
    {
     "name": "stdout",
     "output_type": "stream",
     "text": [
      "Requirement already satisfied: kutils==0.3.0 in c:\\users\\comka\\anaconda3\\lib\\site-packages (0.3.0)\n",
      "Requirement already satisfied: pydot in c:\\users\\comka\\anaconda3\\lib\\site-packages (1.4.2)\n",
      "Requirement already satisfied: pyparsing>=2.1.4 in c:\\users\\comka\\anaconda3\\lib\\site-packages (from pydot) (3.0.9)\n",
      "Requirement already satisfied: graphviz in c:\\users\\comka\\anaconda3\\lib\\site-packages (0.20.1)\n"
     ]
    }
   ],
   "source": [
    "!pip install kutils==0.3.0\n",
    "!pip install pydot\n",
    "!pip install graphviz"
   ]
  },
  {
   "cell_type": "code",
   "execution_count": 2,
   "id": "055e21c4",
   "metadata": {},
   "outputs": [
    {
     "name": "stderr",
     "output_type": "stream",
     "text": [
      "[nltk_data] Downloading package stopwords to\n",
      "[nltk_data]     C:\\Users\\comka\\AppData\\Roaming\\nltk_data...\n",
      "[nltk_data]   Package stopwords is already up-to-date!\n",
      "[nltk_data] Downloading package wordnet to\n",
      "[nltk_data]     C:\\Users\\comka\\AppData\\Roaming\\nltk_data...\n",
      "[nltk_data]   Package wordnet is already up-to-date!\n"
     ]
    }
   ],
   "source": [
    "import pandas as pd\n",
    "\n",
    "import numpy as np\n",
    "np.random.seed(0)\n",
    "\n",
    "import matplotlib.pyplot as plt\n",
    "from matplotlib import pyplot\n",
    "\n",
    "import nltk\n",
    "from nltk.corpus import stopwords\n",
    "from nltk import word_tokenize\n",
    "from nltk.stem import WordNetLemmatizer, SnowballStemmer\n",
    "from nltk.stem.porter import *\n",
    "from nltk.stem import PorterStemmer\n",
    "nltk.download('stopwords')\n",
    "nltk.download('wordnet')\n",
    "\n",
    "import gensim\n",
    "from gensim.utils import simple_preprocess\n",
    "from gensim.parsing.preprocessing import STOPWORDS\n",
    "\n",
    "import pickle\n",
    "import pickle\n",
    "\n",
    "import requests\n",
    "import json\n",
    "import urllib.request\n",
    "import time\n",
    "import re\n",
    "import itertools\n",
    "import statistics\n",
    "import random\n",
    "\n",
    "import warnings\n",
    "warnings.filterwarnings('ignore')\n",
    "\n",
    "import os\n",
    "os.environ['CUDA_VISIBLE_DEVICES'] = '-1'\n",
    "\n",
    "from typing import List, Dict, Tuple, Set\n",
    "from bs4 import BeautifulSoup\n",
    "\n",
    "import sklearn\n",
    "from sklearn.model_selection import train_test_split\n",
    "from sklearn.feature_extraction.text import TfidfVectorizer\n",
    "from sklearn.metrics.pairwise import cosine_similarity\n",
    "from sklearn.datasets import make_circles\n",
    "from sklearn.metrics import accuracy_score\n",
    "from sklearn.metrics import precision_score\n",
    "from sklearn.metrics import recall_score\n",
    "from sklearn.metrics import f1_score\n",
    "from sklearn.metrics import cohen_kappa_score\n",
    "from sklearn.metrics import roc_auc_score\n",
    "from sklearn.metrics import confusion_matrix\n",
    "from sklearn.metrics import classification_report\n",
    "from sklearn.metrics import roc_curve\n",
    "\n",
    "import seaborn as sns; sns.set_theme()\n",
    "from sklearn.metrics import accuracy_score\n",
    "import sklearn.metrics as metrics\n",
    "\n",
    "from datetime import datetime\n",
    "from scipy.stats import skew\n",
    "\n",
    "from keras.models import Sequential\n",
    "from keras.layers import Dense\n",
    "from keras.initializers import Constant\n",
    "from keras.layers.preprocessing.text_vectorization import TextVectorization\n",
    "from keras.utils.vis_utils import plot_model\n",
    "\n",
    "import tensorflow as tf\n",
    "import tensorflow.keras.utils as kutils\n",
    "\n",
    "from pathlib import Path\n",
    "from io import open\n",
    "\n",
    "from tensorflow.keras import layers\n",
    "from tensorflow.keras import models\n",
    "from tensorflow.keras import callbacks"
   ]
  },
  {
   "cell_type": "code",
   "execution_count": 3,
   "id": "d0e8054f",
   "metadata": {},
   "outputs": [
    {
     "name": "stdout",
     "output_type": "stream",
     "text": [
      "Dimensions of Training Dataset:  (3823, 4)\n"
     ]
    },
    {
     "data": {
      "text/html": [
       "<div>\n",
       "<style scoped>\n",
       "    .dataframe tbody tr th:only-of-type {\n",
       "        vertical-align: middle;\n",
       "    }\n",
       "\n",
       "    .dataframe tbody tr th {\n",
       "        vertical-align: top;\n",
       "    }\n",
       "\n",
       "    .dataframe thead th {\n",
       "        text-align: right;\n",
       "    }\n",
       "</style>\n",
       "<table border=\"1\" class=\"dataframe\">\n",
       "  <thead>\n",
       "    <tr style=\"text-align: right;\">\n",
       "      <th></th>\n",
       "      <th>Unnamed: 0</th>\n",
       "      <th>description1</th>\n",
       "      <th>description2</th>\n",
       "      <th>is_similar</th>\n",
       "    </tr>\n",
       "  </thead>\n",
       "  <tbody>\n",
       "    <tr>\n",
       "      <th>0</th>\n",
       "      <td>0</td>\n",
       "      <td>this way we can hold the placeholder color a...</td>\n",
       "      <td>the quick work around in bug   didn t quite ...</td>\n",
       "      <td>0</td>\n",
       "    </tr>\n",
       "    <tr>\n",
       "      <th>1</th>\n",
       "      <td>1</td>\n",
       "      <td>having two build targets for this takes doub...</td>\n",
       "      <td>filed by  btara  at  mozilla com     job id ...</td>\n",
       "      <td>0</td>\n",
       "    </tr>\n",
       "    <tr>\n",
       "      <th>2</th>\n",
       "      <td>2</td>\n",
       "      <td>we are adding a feature now to focus klar to...</td>\n",
       "      <td>now that the user can browse   documents in ...</td>\n",
       "      <td>0</td>\n",
       "    </tr>\n",
       "    <tr>\n",
       "      <th>3</th>\n",
       "      <td>3</td>\n",
       "      <td>user agent  mozilla       gecko   firefox   ...</td>\n",
       "      <td>user agent  mozilla       gecko   firefox   ...</td>\n",
       "      <td>1</td>\n",
       "    </tr>\n",
       "    <tr>\n",
       "      <th>4</th>\n",
       "      <td>4</td>\n",
       "      <td>created attachment     png  build    device ...</td>\n",
       "      <td>right now we have to use intents  which is c...</td>\n",
       "      <td>0</td>\n",
       "    </tr>\n",
       "  </tbody>\n",
       "</table>\n",
       "</div>"
      ],
      "text/plain": [
       "   Unnamed: 0                                       description1  \\\n",
       "0           0    this way we can hold the placeholder color a...   \n",
       "1           1    having two build targets for this takes doub...   \n",
       "2           2    we are adding a feature now to focus klar to...   \n",
       "3           3    user agent  mozilla       gecko   firefox   ...   \n",
       "4           4    created attachment     png  build    device ...   \n",
       "\n",
       "                                        description2  is_similar  \n",
       "0    the quick work around in bug   didn t quite ...           0  \n",
       "1    filed by  btara  at  mozilla com     job id ...           0  \n",
       "2    now that the user can browse   documents in ...           0  \n",
       "3    user agent  mozilla       gecko   firefox   ...           1  \n",
       "4    right now we have to use intents  which is c...           0  "
      ]
     },
     "execution_count": 3,
     "metadata": {},
     "output_type": "execute_result"
    }
   ],
   "source": [
    "train_mobile_df = pd.read_csv('../../PreProcessedData/Mobile/Mobile_siamese_train_preprocessed.csv')\n",
    "\n",
    "print('Dimensions of Training Dataset: ', train_mobile_df.shape)\n",
    "\n",
    "#To show Data\n",
    "train_mobile_df.head()"
   ]
  },
  {
   "cell_type": "code",
   "execution_count": 4,
   "id": "e4f3a5cc",
   "metadata": {},
   "outputs": [
    {
     "name": "stdout",
     "output_type": "stream",
     "text": [
      "Dimensions of Testing Dataset:  (959, 4)\n"
     ]
    },
    {
     "data": {
      "text/html": [
       "<div>\n",
       "<style scoped>\n",
       "    .dataframe tbody tr th:only-of-type {\n",
       "        vertical-align: middle;\n",
       "    }\n",
       "\n",
       "    .dataframe tbody tr th {\n",
       "        vertical-align: top;\n",
       "    }\n",
       "\n",
       "    .dataframe thead th {\n",
       "        text-align: right;\n",
       "    }\n",
       "</style>\n",
       "<table border=\"1\" class=\"dataframe\">\n",
       "  <thead>\n",
       "    <tr style=\"text-align: right;\">\n",
       "      <th></th>\n",
       "      <th>Unnamed: 0</th>\n",
       "      <th>description1</th>\n",
       "      <th>description2</th>\n",
       "      <th>is_similar</th>\n",
       "    </tr>\n",
       "  </thead>\n",
       "  <tbody>\n",
       "    <tr>\n",
       "      <th>0</th>\n",
       "      <td>0</td>\n",
       "      <td>to integrate the functionality of taking scr...</td>\n",
       "      <td>created attachment   screen shot       at   ...</td>\n",
       "      <td>0</td>\n",
       "    </tr>\n",
       "    <tr>\n",
       "      <th>1</th>\n",
       "      <td>1</td>\n",
       "      <td>created attachment     png  master build    ...</td>\n",
       "      <td>filed by  cbrindusan  at  mozilla com     jo...</td>\n",
       "      <td>0</td>\n",
       "    </tr>\n",
       "    <tr>\n",
       "      <th>2</th>\n",
       "      <td>2</td>\n",
       "      <td>sebastian reports that  input type  file   d...</td>\n",
       "      <td>robin mentioned that  i want to edit a url a...</td>\n",
       "      <td>0</td>\n",
       "    </tr>\n",
       "    <tr>\n",
       "      <th>3</th>\n",
       "      <td>3</td>\n",
       "      <td>visit   and the page doesn t load unless you...</td>\n",
       "      <td>bug   ran geckoview mochitest on  opt builds...</td>\n",
       "      <td>0</td>\n",
       "    </tr>\n",
       "    <tr>\n",
       "      <th>4</th>\n",
       "      <td>4</td>\n",
       "      <td>geckoprocessmanager  needs to support multi...</td>\n",
       "      <td>created attachment      user agent  mozilla ...</td>\n",
       "      <td>0</td>\n",
       "    </tr>\n",
       "  </tbody>\n",
       "</table>\n",
       "</div>"
      ],
      "text/plain": [
       "   Unnamed: 0                                       description1  \\\n",
       "0           0    to integrate the functionality of taking scr...   \n",
       "1           1    created attachment     png  master build    ...   \n",
       "2           2    sebastian reports that  input type  file   d...   \n",
       "3           3    visit   and the page doesn t load unless you...   \n",
       "4           4     geckoprocessmanager  needs to support multi...   \n",
       "\n",
       "                                        description2  is_similar  \n",
       "0    created attachment   screen shot       at   ...           0  \n",
       "1    filed by  cbrindusan  at  mozilla com     jo...           0  \n",
       "2    robin mentioned that  i want to edit a url a...           0  \n",
       "3    bug   ran geckoview mochitest on  opt builds...           0  \n",
       "4    created attachment      user agent  mozilla ...           0  "
      ]
     },
     "execution_count": 4,
     "metadata": {},
     "output_type": "execute_result"
    }
   ],
   "source": [
    "test_mobile_df = pd.read_csv('../../PreProcessedData/Mobile/Mobile_siamese_test_preprocessed.csv')\n",
    "\n",
    "print('Dimensions of Testing Dataset: ', test_mobile_df.shape)\n",
    "\n",
    "#To show Data\n",
    "test_mobile_df.head()"
   ]
  },
  {
   "cell_type": "code",
   "execution_count": 5,
   "id": "558dbfbf",
   "metadata": {},
   "outputs": [],
   "source": [
    "#Concatenate Train and Test Data\n",
    "result = pd.concat([train_mobile_df, test_mobile_df])\n",
    "result = result.sample(frac=1, random_state=1).reset_index(drop=True)\n",
    "\n",
    "dup_df= result.copy()"
   ]
  },
  {
   "cell_type": "code",
   "execution_count": 6,
   "id": "3bfa6d8a",
   "metadata": {},
   "outputs": [
    {
     "data": {
      "text/html": [
       "<div>\n",
       "<style scoped>\n",
       "    .dataframe tbody tr th:only-of-type {\n",
       "        vertical-align: middle;\n",
       "    }\n",
       "\n",
       "    .dataframe tbody tr th {\n",
       "        vertical-align: top;\n",
       "    }\n",
       "\n",
       "    .dataframe thead th {\n",
       "        text-align: right;\n",
       "    }\n",
       "</style>\n",
       "<table border=\"1\" class=\"dataframe\">\n",
       "  <thead>\n",
       "    <tr style=\"text-align: right;\">\n",
       "      <th></th>\n",
       "      <th>description1</th>\n",
       "      <th>description2</th>\n",
       "    </tr>\n",
       "  </thead>\n",
       "  <tbody>\n",
       "    <tr>\n",
       "      <th>count</th>\n",
       "      <td>4782.000000</td>\n",
       "      <td>4782.000000</td>\n",
       "    </tr>\n",
       "    <tr>\n",
       "      <th>mean</th>\n",
       "      <td>1045.613760</td>\n",
       "      <td>994.800502</td>\n",
       "    </tr>\n",
       "    <tr>\n",
       "      <th>std</th>\n",
       "      <td>2925.653641</td>\n",
       "      <td>2696.171659</td>\n",
       "    </tr>\n",
       "    <tr>\n",
       "      <th>min</th>\n",
       "      <td>50.000000</td>\n",
       "      <td>50.000000</td>\n",
       "    </tr>\n",
       "    <tr>\n",
       "      <th>25%</th>\n",
       "      <td>176.000000</td>\n",
       "      <td>176.000000</td>\n",
       "    </tr>\n",
       "    <tr>\n",
       "      <th>50%</th>\n",
       "      <td>324.000000</td>\n",
       "      <td>320.000000</td>\n",
       "    </tr>\n",
       "    <tr>\n",
       "      <th>75%</th>\n",
       "      <td>583.000000</td>\n",
       "      <td>578.000000</td>\n",
       "    </tr>\n",
       "    <tr>\n",
       "      <th>max</th>\n",
       "      <td>40577.000000</td>\n",
       "      <td>40577.000000</td>\n",
       "    </tr>\n",
       "  </tbody>\n",
       "</table>\n",
       "</div>"
      ],
      "text/plain": [
       "       description1  description2\n",
       "count   4782.000000   4782.000000\n",
       "mean    1045.613760    994.800502\n",
       "std     2925.653641   2696.171659\n",
       "min       50.000000     50.000000\n",
       "25%      176.000000    176.000000\n",
       "50%      324.000000    320.000000\n",
       "75%      583.000000    578.000000\n",
       "max    40577.000000  40577.000000"
      ]
     },
     "execution_count": 6,
     "metadata": {},
     "output_type": "execute_result"
    }
   ],
   "source": [
    "description = ['description1', 'description2']\n",
    "\n",
    "#To Describe Length of 'Description' of the Bugs\n",
    "dup_df[description].apply(lambda col: col.str.len().describe())"
   ]
  },
  {
   "cell_type": "markdown",
   "id": "1dd23cb9",
   "metadata": {},
   "source": [
    "# Splitting Data into Train, Test and Validation"
   ]
  },
  {
   "cell_type": "code",
   "execution_count": 7,
   "id": "ab4b7240",
   "metadata": {},
   "outputs": [],
   "source": [
    "train_val_df = train_mobile_df.copy()\n",
    "test_df = test_mobile_df.copy()"
   ]
  },
  {
   "cell_type": "code",
   "execution_count": 8,
   "id": "48b4b023",
   "metadata": {},
   "outputs": [],
   "source": [
    "train_df, val_df = train_test_split(train_val_df, test_size = 0.2, stratify = train_val_df.is_similar, random_state = 13)"
   ]
  },
  {
   "cell_type": "code",
   "execution_count": 9,
   "id": "ef6e5417",
   "metadata": {},
   "outputs": [
    {
     "name": "stdout",
     "output_type": "stream",
     "text": [
      "Size of Training Dataset:  3058\n",
      "Size of Validation Dataset:  765\n",
      "Size of Testing Dataset:  959\n"
     ]
    }
   ],
   "source": [
    "print('Size of Training Dataset: ', train_df.shape[0])\n",
    "print('Size of Validation Dataset: ', val_df.shape[0])\n",
    "print('Size of Testing Dataset: ', test_df.shape[0])"
   ]
  },
  {
   "cell_type": "code",
   "execution_count": 10,
   "id": "297616cd",
   "metadata": {},
   "outputs": [
    {
     "name": "stdout",
     "output_type": "stream",
     "text": [
      "Indexing word vectors...\n",
      "Found 400000 word vectors.\n"
     ]
    }
   ],
   "source": [
    "print('Indexing word vectors...')\n",
    "\n",
    "embeddings_index = {}\n",
    "f = open('../../PreProcessedData/Requirement/glove.6B.100d.txt', encoding='utf-8')\n",
    "for line in f:\n",
    "    values = line.split()\n",
    "    word = values[0]\n",
    "    coefs = np.asarray(values[1:], dtype='float32')\n",
    "    embeddings_index[word] = coefs\n",
    "f.close()\n",
    "\n",
    "print('Found %s word vectors.' % len(embeddings_index))"
   ]
  },
  {
   "cell_type": "code",
   "execution_count": 11,
   "id": "248d2713",
   "metadata": {},
   "outputs": [],
   "source": [
    "#To Dump Data in a Pickle File\n",
    "pickle.dump({'embeddings_index' : embeddings_index } , open('../../PreProcessedData/Requirement/mobile.glove.42B.300d.txt', 'wb'))"
   ]
  },
  {
   "cell_type": "code",
   "execution_count": 12,
   "id": "fda3624f",
   "metadata": {},
   "outputs": [],
   "source": [
    "file_path = open('../../PreProcessedData/Requirement/mobile.glove.42B.300d.txt',  mode=\"r\", encoding=\"utf-8\")"
   ]
  },
  {
   "cell_type": "markdown",
   "id": "f301d211",
   "metadata": {},
   "source": [
    "# Create Vocabulary Index"
   ]
  },
  {
   "cell_type": "code",
   "execution_count": 13,
   "id": "467deb68",
   "metadata": {},
   "outputs": [],
   "source": [
    "MAX_TOKENS = 20000\n",
    "MAX_TITLE_LENGTH = 21\n",
    "MAX_DESCRIPTION_LENGTH = 500\n",
    "EMBEDDING_DIM = 100"
   ]
  },
  {
   "cell_type": "code",
   "execution_count": 14,
   "id": "af17c897",
   "metadata": {},
   "outputs": [],
   "source": [
    "def build_vocab(sentences: List[str], sequence_length: int):\n",
    "    vectorizer = TextVectorization(max_tokens=MAX_TOKENS - 2,output_sequence_length=sequence_length)\n",
    "    vectorizer.adapt(sentences)\n",
    "    vocab = vectorizer.get_vocabulary()\n",
    "    word_index = dict(zip(vocab, range(len(vocab))))\n",
    "\n",
    "    return vectorizer, word_index"
   ]
  },
  {
   "cell_type": "code",
   "execution_count": 15,
   "id": "75558ac4",
   "metadata": {},
   "outputs": [
    {
     "name": "stdout",
     "output_type": "stream",
     "text": [
      "Most frequent description words: ['', '[UNK]', 'task', 'info', 'mozilla']\n"
     ]
    }
   ],
   "source": [
    "descr_vectorizer, descr_word_index = build_vocab([dup_df.description1, dup_df.description2],MAX_DESCRIPTION_LENGTH)\n",
    "\n",
    "print('Most frequent description words:',list(itertools.islice(descr_word_index.keys(), 5)))"
   ]
  },
  {
   "cell_type": "markdown",
   "id": "609ee28d",
   "metadata": {},
   "source": [
    "# Create Embedding Matrix"
   ]
  },
  {
   "cell_type": "code",
   "execution_count": 16,
   "id": "452ae77b",
   "metadata": {},
   "outputs": [],
   "source": [
    "def create_embedding_matrix(embedding_index: Dict[str, np.ndarray],word_index: Dict[str, int],verbose=False):\n",
    "    hits = 0\n",
    "    misses = 0\n",
    "\n",
    "    #To initialize Embedding Matrix\n",
    "    embedding_matrix = np.zeros((MAX_TOKENS, EMBEDDING_DIM))\n",
    "    for word, i in word_index.items():\n",
    "        embedding_vector = embedding_index.get(word)\n",
    "    \n",
    "        if embedding_vector is not None:\n",
    "        # Words not found in Embedding Index will zeros.\n",
    "        # This includes the representation for \"Padding\" and \"OOV\"\n",
    "            embedding_matrix[i] = embedding_vector\n",
    "            hits += 1\n",
    "        else:\n",
    "            misses += 1\n",
    "\n",
    "    if verbose:\n",
    "        print('Embedding shape:', embedding_matrix.shape)\n",
    "        print(f'Found {hits} words, missed {misses}.')\n",
    "\n",
    "    return embedding_matrix"
   ]
  },
  {
   "cell_type": "code",
   "execution_count": 17,
   "id": "dbbced91",
   "metadata": {},
   "outputs": [
    {
     "name": "stdout",
     "output_type": "stream",
     "text": [
      "Embedding shape: (20000, 100)\n",
      "Found 6871 words, missed 5538.\n"
     ]
    }
   ],
   "source": [
    "#To create Embedding Matrix of Description\n",
    "descr_embedding_matrix = create_embedding_matrix(embeddings_index, descr_word_index, True)"
   ]
  },
  {
   "cell_type": "markdown",
   "id": "53dd6100",
   "metadata": {},
   "source": [
    "# To Prepare Training Data"
   ]
  },
  {
   "cell_type": "code",
   "execution_count": 18,
   "id": "c5af8683",
   "metadata": {},
   "outputs": [],
   "source": [
    "def generate_batches(split_df: pd.DataFrame,batch_size=256):\n",
    "    steps_per_epoch = len(split_df) // batch_size\n",
    "    while True:\n",
    "        for i in range(steps_per_epoch):\n",
    "            offset = i * batch_size\n",
    "            till = offset + batch_size\n",
    "            feature_batches = []\n",
    "            for feature in description:\n",
    "                vectorizer = title_vectorizer if feature.startswith('title') else descr_vectorizer\n",
    "                feature_batch = vectorizer(split_df[feature][offset: till].to_numpy().reshape((-1, 1))).numpy()\n",
    "                feature_batches.append(feature_batch)\n",
    "\n",
    "            target_batch = split_df.is_similar[offset: till].to_numpy()\n",
    "            yield (feature_batches,target_batch)"
   ]
  },
  {
   "cell_type": "code",
   "execution_count": 19,
   "id": "eb0a68c9",
   "metadata": {},
   "outputs": [],
   "source": [
    "DescrEmbeddingLayer = layers.Embedding(input_dim=MAX_TOKENS,output_dim=EMBEDDING_DIM,\n",
    "                        embeddings_initializer=Constant(descr_embedding_matrix),trainable=False,name='DescrEmbeddingLayer')\n",
    "\n",
    "def make_descr_layer(num, kernel_size=3, pool_size=2, strides=None):\n",
    "    DescrConv1dLayer = layers.Conv1D(filters=32, kernel_size=kernel_size, activation='relu', name=f'DescrConv1dLayer{num}')\n",
    "    DescrMaxPool1dLayer = layers.MaxPool1D(pool_size=pool_size, strides=strides, name=f'DescrMaxPool1dLayer{num}')\n",
    "    return DescrConv1dLayer, DescrMaxPool1dLayer\n",
    "\n",
    "DescrConv1dLayer1, DescrMaxPool1dLayer1 = make_descr_layer(1, pool_size=4)\n",
    "DescrConv1dLayer2, DescrMaxPool1dLayer2 = make_descr_layer(2)"
   ]
  },
  {
   "cell_type": "code",
   "execution_count": 20,
   "id": "6e17ab77",
   "metadata": {},
   "outputs": [
    {
     "name": "stdout",
     "output_type": "stream",
     "text": [
      "You must install pydot (`pip install pydot`) and install graphviz (see instructions at https://graphviz.gitlab.io/download/) for plot_model to work.\n"
     ]
    }
   ],
   "source": [
    "def create_siamese_component(num: int):\n",
    "  \n",
    "    class SiameseComponent:\n",
    "        def __init__(self, title: layers.Input, description: layers.Input, output: layers.Concatenate):\n",
    "            self.title = title\n",
    "            self.description = description\n",
    "            self.output = output\n",
    "\n",
    "    title_input = layers.Input(shape=(None,), dtype='int32', name=f'title{num}_input')\n",
    "\n",
    "    descr_input = layers.Input(shape=(None,), name=f'descr{num}_input')\n",
    "    descr_embedding_layer = DescrEmbeddingLayer(descr_input)\n",
    "    descr_conv1d1 = DescrConv1dLayer1(descr_embedding_layer)\n",
    "    descr_max_pool1d1 = DescrMaxPool1dLayer1(descr_conv1d1)\n",
    "    descr_conv1d2 = DescrConv1dLayer2(descr_max_pool1d1)\n",
    "    descr_max_pool1d2 = DescrMaxPool1dLayer2(descr_conv1d2)\n",
    "    descr_flat_Layer = layers.Flatten(name=f'FlatDescr{num}')(descr_max_pool1d2)\n",
    "\n",
    "    concat = layers.Concatenate(axis=1, name=f'Concat{num}')([descr_flat_Layer])\n",
    "    return SiameseComponent(title_input, descr_input, concat)\n",
    "\n",
    "component1 = create_siamese_component(1)\n",
    "component2 = create_siamese_component(2)\n",
    "\n",
    "dot_product_layer = layers.Dot(axes=1,name='dot_product_layer')([component1.output, component2.output])\n",
    "\n",
    "output = layers.Dense(1, activation='sigmoid', name='output',)(dot_product_layer)\n",
    "\n",
    "siamese_model = models.Model(inputs=[component1.description, component2.description],outputs=output,name='siamese_model')\n",
    "\n",
    "kutils.plot_model(siamese_model)"
   ]
  },
  {
   "cell_type": "markdown",
   "id": "4f0a104f",
   "metadata": {},
   "source": [
    "# Train"
   ]
  },
  {
   "cell_type": "code",
   "execution_count": 21,
   "id": "85dcb2c7",
   "metadata": {},
   "outputs": [
    {
     "name": "stdout",
     "output_type": "stream",
     "text": [
      "Epoch 1/12\n",
      "11/11 [==============================] - 9s 691ms/step - loss: 2.4617 - acc: 0.0760 - val_loss: 0.7200 - val_acc: 0.1055\n",
      "Epoch 2/12\n",
      "11/11 [==============================] - 6s 511ms/step - loss: 0.6933 - acc: 0.4719 - val_loss: 0.6816 - val_acc: 0.8770\n",
      "Epoch 3/12\n",
      "11/11 [==============================] - 6s 504ms/step - loss: 0.6808 - acc: 0.9190 - val_loss: 0.6776 - val_acc: 0.9355\n",
      "Epoch 4/12\n",
      "11/11 [==============================] - 6s 540ms/step - loss: 0.6767 - acc: 0.9489 - val_loss: 0.6735 - val_acc: 0.9551\n",
      "Epoch 5/12\n",
      "11/11 [==============================] - 7s 598ms/step - loss: 0.6725 - acc: 0.9698 - val_loss: 0.6691 - val_acc: 0.9727\n",
      "Epoch 6/12\n",
      "11/11 [==============================] - 5s 482ms/step - loss: 0.6681 - acc: 0.9748 - val_loss: 0.6646 - val_acc: 0.9707\n",
      "Epoch 7/12\n",
      "11/11 [==============================] - 6s 539ms/step - loss: 0.6636 - acc: 0.9798 - val_loss: 0.6603 - val_acc: 0.9688\n",
      "Epoch 8/12\n",
      "11/11 [==============================] - 7s 602ms/step - loss: 0.6591 - acc: 0.9773 - val_loss: 0.6560 - val_acc: 0.9707\n",
      "Epoch 9/12\n",
      "11/11 [==============================] - 6s 582ms/step - loss: 0.6546 - acc: 0.9751 - val_loss: 0.6517 - val_acc: 0.9648\n",
      "Epoch 10/12\n",
      "11/11 [==============================] - 7s 669ms/step - loss: 0.6501 - acc: 0.9716 - val_loss: 0.6475 - val_acc: 0.9609\n",
      "Epoch 11/12\n",
      "11/11 [==============================] - 7s 673ms/step - loss: 0.6457 - acc: 0.9702 - val_loss: 0.6433 - val_acc: 0.9570\n",
      "Epoch 12/12\n",
      "11/11 [==============================] - 7s 594ms/step - loss: 0.6413 - acc: 0.9677 - val_loss: 0.6392 - val_acc: 0.9570\n"
     ]
    }
   ],
   "source": [
    "BATCH_SIZE = 256\n",
    "\n",
    "opt = tf.keras.optimizers.Adam(learning_rate=0.001)\n",
    "\n",
    "siamese_model.compile(loss='binary_crossentropy', optimizer=opt, metrics=['acc'])\n",
    "\n",
    "history = siamese_model.fit(\n",
    "  generate_batches(train_df, BATCH_SIZE),\n",
    "  steps_per_epoch=len(train_df) // BATCH_SIZE,\n",
    "  epochs=12,\n",
    "  validation_data=generate_batches(val_df, BATCH_SIZE),\n",
    "  validation_steps=len(val_df) // BATCH_SIZE,\n",
    "  verbose=1\n",
    ")"
   ]
  },
  {
   "cell_type": "code",
   "execution_count": 22,
   "id": "ed2f9693",
   "metadata": {},
   "outputs": [
    {
     "name": "stdout",
     "output_type": "stream",
     "text": [
      "You must install pydot (`pip install pydot`) and install graphviz (see instructions at https://graphviz.gitlab.io/download/) for plot_model to work.\n"
     ]
    },
    {
     "data": {
      "image/png": "[encoded data removed]",
      "text/plain": [
       "<Figure size 640x480 with 1 Axes>"
      ]
     },
     "metadata": {},
     "output_type": "display_data"
    },
    {
     "data": {
      "text/plain": [
       "<Figure size 640x480 with 0 Axes>"
      ]
     },
     "metadata": {},
     "output_type": "display_data"
    }
   ],
   "source": [
    "plot_model(siamese_model, to_file='model_plot.png', show_shapes=True, show_layer_names=True)\n",
    "\n",
    "#To Plot Loss\n",
    "plt.plot(history.history['loss'], label='Train Loss')\n",
    "plt.plot(history.history['val_loss'], label='Validationa Loss')\n",
    "plt.legend()\n",
    "plt.show()\n",
    "plt.savefig('Graphs/Mobile_Loss')"
   ]
  },
  {
   "cell_type": "code",
   "execution_count": 23,
   "id": "3b0c574b",
   "metadata": {},
   "outputs": [
    {
     "data": {
      "image/png": "[encoded data removed]",
      "text/plain": [
       "<Figure size 640x480 with 1 Axes>"
      ]
     },
     "metadata": {},
     "output_type": "display_data"
    },
    {
     "data": {
      "text/plain": [
       "<Figure size 640x480 with 0 Axes>"
      ]
     },
     "metadata": {},
     "output_type": "display_data"
    }
   ],
   "source": [
    "#To Plot Accuracy\n",
    "plt.plot(history.history['acc'], label='Train Accuracy')\n",
    "plt.plot(history.history['val_acc'], label='Validation Accuracy')\n",
    "plt.legend()\n",
    "plt.show()\n",
    "plt.savefig('Graphs/Mobile_Accuracy')"
   ]
  },
  {
   "cell_type": "markdown",
   "id": "5f45fb19",
   "metadata": {},
   "source": [
    "# To Evaluate Model on Test Data "
   ]
  },
  {
   "cell_type": "code",
   "execution_count": 24,
   "id": "2424e906",
   "metadata": {},
   "outputs": [
    {
     "name": "stdout",
     "output_type": "stream",
     "text": [
      "3/3 [==============================] - 1s 238ms/step - loss: 0.6451 - acc: 0.9401\n",
      "1/1 [==============================] - 1s 1s/step\n"
     ]
    }
   ],
   "source": [
    "siamese_model.evaluate(generate_batches(test_df, BATCH_SIZE),steps=len(test_df) // BATCH_SIZE)\n",
    "\n",
    "BATCH_SIZE = len(test_df)\n",
    "\n",
    "num_batched_instances = len(test_df) - (len(test_df) % BATCH_SIZE)\n",
    "\n",
    "pred_y = siamese_model.predict(generate_batches(test_df, BATCH_SIZE),steps=len(test_df) // BATCH_SIZE,verbose=1)"
   ]
  },
  {
   "cell_type": "code",
   "execution_count": 25,
   "id": "41db67e8",
   "metadata": {},
   "outputs": [
    {
     "name": "stdout",
     "output_type": "stream",
     "text": [
      "AUC: 0.5543962680661418\n",
      "Recall: 0.9468196037539103\n",
      "Precision: 0.9311049114868732\n",
      "F1: 0.9292871149286048\n"
     ]
    }
   ],
   "source": [
    "print('AUC:', roc_auc_score(test_df.is_similar[:num_batched_instances], pred_y > .5, average='weighted'))\n",
    "print('Recall:', recall_score(test_df.is_similar[:num_batched_instances], pred_y > .5, average='weighted'))\n",
    "print('Precision:', precision_score(test_df.is_similar[:num_batched_instances], pred_y > .5, average='weighted'))\n",
    "print('F1:', f1_score(test_df.is_similar[:num_batched_instances], pred_y > .5, average='weighted'))      "
   ]
  },
  {
   "cell_type": "code",
   "execution_count": 26,
   "id": "72154f3e",
   "metadata": {},
   "outputs": [
    {
     "name": "stdout",
     "output_type": "stream",
     "text": [
      "              precision    recall  f1-score   support\n",
      "\n",
      "           0       0.95      1.00      0.97       906\n",
      "           1       0.60      0.11      0.19        53\n",
      "\n",
      "    accuracy                           0.95       959\n",
      "   macro avg       0.78      0.55      0.58       959\n",
      "weighted avg       0.93      0.95      0.93       959\n",
      "\n",
      "\n",
      "AUC: 0.5543962680661418\n"
     ]
    }
   ],
   "source": [
    "#Classification Report\n",
    "print(classification_report(test_df.is_similar[:num_batched_instances], pred_y > .5,))\n",
    "\n",
    "print('\\nAUC:', roc_auc_score(test_df.is_similar[:num_batched_instances], pred_y > .5))"
   ]
  },
  {
   "cell_type": "code",
   "execution_count": 27,
   "id": "3896f8eb",
   "metadata": {},
   "outputs": [
    {
     "data": {
      "text/html": [
       "<div>\n",
       "<style scoped>\n",
       "    .dataframe tbody tr th:only-of-type {\n",
       "        vertical-align: middle;\n",
       "    }\n",
       "\n",
       "    .dataframe tbody tr th {\n",
       "        vertical-align: top;\n",
       "    }\n",
       "\n",
       "    .dataframe thead th {\n",
       "        text-align: right;\n",
       "    }\n",
       "</style>\n",
       "<table border=\"1\" class=\"dataframe\">\n",
       "  <thead>\n",
       "    <tr style=\"text-align: right;\">\n",
       "      <th></th>\n",
       "      <th>TPR</th>\n",
       "      <th>FPR</th>\n",
       "      <th>Threshold</th>\n",
       "    </tr>\n",
       "  </thead>\n",
       "  <tbody>\n",
       "    <tr>\n",
       "      <th>0</th>\n",
       "      <td>0.000000</td>\n",
       "      <td>0.000000</td>\n",
       "      <td>1.744064</td>\n",
       "    </tr>\n",
       "    <tr>\n",
       "      <th>1</th>\n",
       "      <td>0.000000</td>\n",
       "      <td>0.018868</td>\n",
       "      <td>0.744064</td>\n",
       "    </tr>\n",
       "    <tr>\n",
       "      <th>2</th>\n",
       "      <td>0.000000</td>\n",
       "      <td>0.075472</td>\n",
       "      <td>0.605307</td>\n",
       "    </tr>\n",
       "    <tr>\n",
       "      <th>3</th>\n",
       "      <td>0.003311</td>\n",
       "      <td>0.075472</td>\n",
       "      <td>0.568632</td>\n",
       "    </tr>\n",
       "    <tr>\n",
       "      <th>4</th>\n",
       "      <td>0.003311</td>\n",
       "      <td>0.113208</td>\n",
       "      <td>0.513112</td>\n",
       "    </tr>\n",
       "    <tr>\n",
       "      <th>...</th>\n",
       "      <td>...</td>\n",
       "      <td>...</td>\n",
       "      <td>...</td>\n",
       "    </tr>\n",
       "    <tr>\n",
       "      <th>88</th>\n",
       "      <td>0.700883</td>\n",
       "      <td>0.811321</td>\n",
       "      <td>0.470849</td>\n",
       "    </tr>\n",
       "    <tr>\n",
       "      <th>89</th>\n",
       "      <td>0.705298</td>\n",
       "      <td>0.811321</td>\n",
       "      <td>0.470849</td>\n",
       "    </tr>\n",
       "    <tr>\n",
       "      <th>90</th>\n",
       "      <td>0.711921</td>\n",
       "      <td>0.811321</td>\n",
       "      <td>0.470849</td>\n",
       "    </tr>\n",
       "    <tr>\n",
       "      <th>91</th>\n",
       "      <td>0.717439</td>\n",
       "      <td>0.830189</td>\n",
       "      <td>0.470849</td>\n",
       "    </tr>\n",
       "    <tr>\n",
       "      <th>92</th>\n",
       "      <td>1.000000</td>\n",
       "      <td>1.000000</td>\n",
       "      <td>0.470849</td>\n",
       "    </tr>\n",
       "  </tbody>\n",
       "</table>\n",
       "<p>93 rows × 3 columns</p>\n",
       "</div>"
      ],
      "text/plain": [
       "         TPR       FPR  Threshold\n",
       "0   0.000000  0.000000   1.744064\n",
       "1   0.000000  0.018868   0.744064\n",
       "2   0.000000  0.075472   0.605307\n",
       "3   0.003311  0.075472   0.568632\n",
       "4   0.003311  0.113208   0.513112\n",
       "..       ...       ...        ...\n",
       "88  0.700883  0.811321   0.470849\n",
       "89  0.705298  0.811321   0.470849\n",
       "90  0.711921  0.811321   0.470849\n",
       "91  0.717439  0.830189   0.470849\n",
       "92  1.000000  1.000000   0.470849\n",
       "\n",
       "[93 rows x 3 columns]"
      ]
     },
     "execution_count": 27,
     "metadata": {},
     "output_type": "execute_result"
    }
   ],
   "source": [
    "value_names = ['TPR', 'FPR', 'Threshold']\n",
    "\n",
    "roc = dict(zip(value_names, roc_curve(test_df.is_similar[:num_batched_instances],pred_y)))\n",
    "\n",
    "pd.DataFrame(roc)"
   ]
  },
  {
   "cell_type": "markdown",
   "id": "0f91e6cb",
   "metadata": {},
   "source": [
    "# To Evaluate Textually Similar Data"
   ]
  },
  {
   "cell_type": "code",
   "execution_count": 28,
   "id": "902f4266",
   "metadata": {},
   "outputs": [
    {
     "name": "stdout",
     "output_type": "stream",
     "text": [
      "Dimensions of Dataset:  (50, 9)\n"
     ]
    }
   ],
   "source": [
    "sim_df_original = pd.read_csv('../../PreProcessedData/Mobile/Mobile_textually_similar_pair.csv')\n",
    "\n",
    "print('Dimensions of Dataset: ', sim_df_original.shape)"
   ]
  },
  {
   "cell_type": "code",
   "execution_count": 29,
   "id": "0a1d404c",
   "metadata": {},
   "outputs": [
    {
     "data": {
      "text/html": [
       "<div>\n",
       "<style scoped>\n",
       "    .dataframe tbody tr th:only-of-type {\n",
       "        vertical-align: middle;\n",
       "    }\n",
       "\n",
       "    .dataframe tbody tr th {\n",
       "        vertical-align: top;\n",
       "    }\n",
       "\n",
       "    .dataframe thead th {\n",
       "        text-align: right;\n",
       "    }\n",
       "</style>\n",
       "<table border=\"1\" class=\"dataframe\">\n",
       "  <thead>\n",
       "    <tr style=\"text-align: right;\">\n",
       "      <th></th>\n",
       "      <th>Unnamed: 0</th>\n",
       "      <th>description1</th>\n",
       "      <th>description2</th>\n",
       "      <th>is_similar</th>\n",
       "    </tr>\n",
       "  </thead>\n",
       "  <tbody>\n",
       "    <tr>\n",
       "      <th>0</th>\n",
       "      <td>1</td>\n",
       "      <td>filed by  apavel  at  mozilla com     job id  ...</td>\n",
       "      <td>filed by  ncsoregi  at  mozilla com     job id...</td>\n",
       "      <td>1</td>\n",
       "    </tr>\n",
       "    <tr>\n",
       "      <th>1</th>\n",
       "      <td>5</td>\n",
       "      <td>this bug continues a conversation from the oct...</td>\n",
       "      <td>as part of the webextension support in bug    ...</td>\n",
       "      <td>1</td>\n",
       "    </tr>\n",
       "    <tr>\n",
       "      <th>2</th>\n",
       "      <td>6</td>\n",
       "      <td>while looking at   bug cgi id   we noticed tha...</td>\n",
       "      <td>we ran into this when testing ublock  the logg...</td>\n",
       "      <td>1</td>\n",
       "    </tr>\n",
       "    <tr>\n",
       "      <th>3</th>\n",
       "      <td>8</td>\n",
       "      <td>filed by    rmaries  at  mozilla com   parse...</td>\n",
       "      <td>filed by    aiakab  at  mozilla com   parsed...</td>\n",
       "      <td>1</td>\n",
       "    </tr>\n",
       "    <tr>\n",
       "      <th>4</th>\n",
       "      <td>11</td>\n",
       "      <td>filed by    nbeleuzu  at  mozilla com   pars...</td>\n",
       "      <td>filed by    opoprus  at  mozilla com   parse...</td>\n",
       "      <td>1</td>\n",
       "    </tr>\n",
       "  </tbody>\n",
       "</table>\n",
       "</div>"
      ],
      "text/plain": [
       "   Unnamed: 0                                       description1  \\\n",
       "0           1  filed by  apavel  at  mozilla com     job id  ...   \n",
       "1           5  this bug continues a conversation from the oct...   \n",
       "2           6  while looking at   bug cgi id   we noticed tha...   \n",
       "3           8    filed by    rmaries  at  mozilla com   parse...   \n",
       "4          11    filed by    nbeleuzu  at  mozilla com   pars...   \n",
       "\n",
       "                                        description2  is_similar  \n",
       "0  filed by  ncsoregi  at  mozilla com     job id...           1  \n",
       "1  as part of the webextension support in bug    ...           1  \n",
       "2  we ran into this when testing ublock  the logg...           1  \n",
       "3    filed by    aiakab  at  mozilla com   parsed...           1  \n",
       "4    filed by    opoprus  at  mozilla com   parse...           1  "
      ]
     },
     "execution_count": 29,
     "metadata": {},
     "output_type": "execute_result"
    }
   ],
   "source": [
    "#Preprocessing Dataset\n",
    "sim_df = pd.DataFrame()\n",
    "\n",
    "sim_df['Unnamed: 0'] = sim_df_original['Unnamed: 0']\n",
    "sim_df['description1'] = sim_df_original['Description1']\n",
    "sim_df['description2'] = sim_df_original['Description2']\n",
    "sim_df['is_similar'] = sim_df_original['is_similar']\n",
    "\n",
    "sim_df['description1'] = sim_df['description1'].str.replace('[','').str.replace(']','')\n",
    "sim_df['description2'] = sim_df['description2'].str.replace('[','').str.replace(']','')\n",
    "\n",
    "sim_df['description1'] = sim_df['description1'].str.replace(\"'\", \"\")\n",
    "sim_df['description2'] = sim_df['description2'].str.replace(\"'\", \"\")\n",
    "\n",
    "#To show Data\n",
    "sim_df.head()"
   ]
  },
  {
   "cell_type": "code",
   "execution_count": 30,
   "id": "20590e56",
   "metadata": {},
   "outputs": [
    {
     "name": "stdout",
     "output_type": "stream",
     "text": [
      "1/1 [==============================] - 0s 93ms/step - loss: 0.5380 - acc: 0.7600\n",
      "1/1 [==============================] - 0s 88ms/step\n"
     ]
    }
   ],
   "source": [
    "BATCH_SIZE = len(sim_df)\n",
    "\n",
    "siamese_model.evaluate(generate_batches(sim_df, BATCH_SIZE),steps=len(sim_df) // BATCH_SIZE)\n",
    "\n",
    "num_batched_instances = len(sim_df) - (len(sim_df) % BATCH_SIZE)\n",
    "\n",
    "pred_y_sim = siamese_model.predict(generate_batches(sim_df, BATCH_SIZE),steps=len(sim_df) // BATCH_SIZE,verbose=1)"
   ]
  },
  {
   "cell_type": "code",
   "execution_count": 31,
   "id": "b4110d23",
   "metadata": {},
   "outputs": [
    {
     "name": "stdout",
     "output_type": "stream",
     "text": [
      "              precision    recall  f1-score   support\n",
      "\n",
      "           0       0.00      0.00      0.00         0\n",
      "           1       1.00      0.76      0.86        50\n",
      "\n",
      "    accuracy                           0.76        50\n",
      "   macro avg       0.50      0.38      0.43        50\n",
      "weighted avg       1.00      0.76      0.86        50\n",
      "\n"
     ]
    }
   ],
   "source": [
    "#Classification Report\n",
    "print(classification_report(sim_df.is_similar[:num_batched_instances], pred_y_sim > .5,))\n",
    "\n",
    "#print('\\nAUC:', roc_auc_score(test_df.is_similar[:num_batched_instances], pred_y > .5))"
   ]
  },
  {
   "cell_type": "markdown",
   "id": "bd59bef5",
   "metadata": {},
   "source": [
    "# To Evaluate Textually Dissimilar Data"
   ]
  },
  {
   "cell_type": "code",
   "execution_count": 32,
   "id": "68fa57a5",
   "metadata": {},
   "outputs": [
    {
     "name": "stdout",
     "output_type": "stream",
     "text": [
      "Dimensions of Dataset:  (89, 9)\n"
     ]
    }
   ],
   "source": [
    "dissim_df_original = pd.read_csv('../../PreProcessedData/Mobile/Mobile_textually_dissimilar_pair.csv')\n",
    "\n",
    "print('Dimensions of Dataset: ', dissim_df_original.shape)"
   ]
  },
  {
   "cell_type": "code",
   "execution_count": 33,
   "id": "9419f9de",
   "metadata": {},
   "outputs": [],
   "source": [
    "#Preprocessing Dataset\n",
    "dissim_df = pd.DataFrame()\n",
    "\n",
    "dissim_df['Unnamed: 0'] = dissim_df_original['Unnamed: 0']\n",
    "dissim_df['description1'] = dissim_df_original['Description1']\n",
    "dissim_df['description2'] = dissim_df_original['Description2']\n",
    "dissim_df['is_similar'] = dissim_df_original['is_similar']\n",
    "\n",
    "#df['my_column'] = df['my_column'].str.replace('[','').str.replace(']','')\n",
    "dissim_df['description1'] = dissim_df['description1'].str.replace('[','').str.replace(']','')\n",
    "dissim_df['description2'] = dissim_df['description2'].str.replace('[','').str.replace(']','')\n",
    "\n",
    "#df['my_column'] = df['my_column'].str.replace(\"'\", \"\")\n",
    "dissim_df['description1'] = dissim_df['description1'].str.replace(\"'\", \"\")\n",
    "dissim_df['description2'] = dissim_df['description2'].str.replace(\"'\", \"\")"
   ]
  },
  {
   "cell_type": "code",
   "execution_count": 34,
   "id": "4dad2b96",
   "metadata": {},
   "outputs": [
    {
     "name": "stdout",
     "output_type": "stream",
     "text": [
      "1/1 [==============================] - 0s 111ms/step - loss: 0.7440 - acc: 0.0225\n",
      "1/1 [==============================] - 0s 125ms/step\n"
     ]
    }
   ],
   "source": [
    "BATCH_SIZE = len(dissim_df)\n",
    "\n",
    "siamese_model.evaluate(generate_batches(dissim_df, BATCH_SIZE), steps=len(dissim_df) // BATCH_SIZE)\n",
    "\n",
    "num_batched_instances = len(dissim_df) - (len(dissim_df) % BATCH_SIZE)\n",
    "\n",
    "pred_y_dis = siamese_model.predict(generate_batches(dissim_df, BATCH_SIZE),steps=len(dissim_df) // BATCH_SIZE,verbose=1)"
   ]
  },
  {
   "cell_type": "code",
   "execution_count": 35,
   "id": "e574c8d6",
   "metadata": {},
   "outputs": [
    {
     "name": "stdout",
     "output_type": "stream",
     "text": [
      "              precision    recall  f1-score   support\n",
      "\n",
      "           0       0.00      0.00      0.00         0\n",
      "           1       1.00      0.02      0.04        89\n",
      "\n",
      "    accuracy                           0.02        89\n",
      "   macro avg       0.50      0.01      0.02        89\n",
      "weighted avg       1.00      0.02      0.04        89\n",
      "\n"
     ]
    }
   ],
   "source": [
    "#Classification Report\n",
    "print(classification_report(dissim_df.is_similar[:num_batched_instances], pred_y_dis > .5,))\n",
    "\n",
    "#print('\\nAUC:', roc_auc_score(test_df.is_similar[:num_batched_instances], pred_y > .5))"
   ]
  }
 ],
 "metadata": {
  "kernelspec": {
   "display_name": "Python 3 (ipykernel)",
   "language": "python",
   "name": "python3"
  },
  "language_info": {
   "codemirror_mode": {
    "name": "ipython",
    "version": 3
   },
   "file_extension": ".py",
   "mimetype": "text/x-python",
   "name": "python",
   "nbconvert_exporter": "python",
   "pygments_lexer": "ipython3",
   "version": "3.10.9"
  }
 },
 "nbformat": 4,
 "nbformat_minor": 5
}
