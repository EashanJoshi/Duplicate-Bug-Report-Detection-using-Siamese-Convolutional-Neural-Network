{
 "cells": [
  {
   "cell_type": "code",
   "execution_count": 213,
   "id": "ae0c3a12",
   "metadata": {},
   "outputs": [
    {
     "name": "stdout",
     "output_type": "stream",
     "text": [
      "Requirement already satisfied: kutils==0.3.0 in c:\\users\\comka\\anaconda3\\lib\\site-packages (0.3.0)\n",
      "Requirement already satisfied: pydot in c:\\users\\comka\\anaconda3\\lib\\site-packages (1.4.2)\n",
      "Requirement already satisfied: pyparsing>=2.1.4 in c:\\users\\comka\\anaconda3\\lib\\site-packages (from pydot) (3.0.9)\n",
      "Requirement already satisfied: graphviz in c:\\users\\comka\\anaconda3\\lib\\site-packages (0.20.1)\n"
     ]
    }
   ],
   "source": [
    "#Download 'glove.6B.zip' from below link\n",
    "#http://nlp.stanford.edu/data/glove.6B.zip\n",
    "#Keep 'glove.6B.100d.txt' file in following path -> '../../PreProcessedData/Requirement/glove.6B.100d.txt'\n",
    "\n",
    "!pip install kutils==0.3.0\n",
    "!pip install pydot\n",
    "!pip install graphviz"
   ]
  },
  {
   "cell_type": "code",
   "execution_count": 214,
   "id": "055e21c4",
   "metadata": {},
   "outputs": [
    {
     "name": "stderr",
     "output_type": "stream",
     "text": [
      "[nltk_data] Downloading package stopwords to\n",
      "[nltk_data]     C:\\Users\\comka\\AppData\\Roaming\\nltk_data...\n",
      "[nltk_data]   Package stopwords is already up-to-date!\n",
      "[nltk_data] Downloading package wordnet to\n",
      "[nltk_data]     C:\\Users\\comka\\AppData\\Roaming\\nltk_data...\n",
      "[nltk_data]   Package wordnet is already up-to-date!\n"
     ]
    }
   ],
   "source": [
    "import pandas as pd\n",
    "\n",
    "import numpy as np\n",
    "np.random.seed(0)\n",
    "\n",
    "import matplotlib.pyplot as plt\n",
    "from matplotlib import pyplot\n",
    "\n",
    "import nltk\n",
    "from nltk.corpus import stopwords\n",
    "from nltk import word_tokenize\n",
    "from nltk.stem import WordNetLemmatizer, SnowballStemmer\n",
    "from nltk.stem.porter import *\n",
    "from nltk.stem import PorterStemmer\n",
    "nltk.download('stopwords')\n",
    "nltk.download('wordnet')\n",
    "\n",
    "import gensim\n",
    "from gensim.utils import simple_preprocess\n",
    "from gensim.parsing.preprocessing import STOPWORDS\n",
    "\n",
    "import pickle\n",
    "import pickle\n",
    "\n",
    "import requests\n",
    "import json\n",
    "import urllib.request\n",
    "import time\n",
    "import re\n",
    "import itertools\n",
    "import statistics\n",
    "import random\n",
    "\n",
    "import warnings\n",
    "warnings.filterwarnings('ignore')\n",
    "\n",
    "import os\n",
    "os.environ['CUDA_VISIBLE_DEVICES'] = '-1'\n",
    "\n",
    "from typing import List, Dict, Tuple, Set\n",
    "from bs4 import BeautifulSoup\n",
    "\n",
    "import sklearn\n",
    "from sklearn.model_selection import train_test_split\n",
    "from sklearn.feature_extraction.text import TfidfVectorizer\n",
    "from sklearn.metrics.pairwise import cosine_similarity\n",
    "from sklearn.datasets import make_circles\n",
    "from sklearn.metrics import accuracy_score\n",
    "from sklearn.metrics import precision_score\n",
    "from sklearn.metrics import recall_score\n",
    "from sklearn.metrics import f1_score\n",
    "from sklearn.metrics import cohen_kappa_score\n",
    "from sklearn.metrics import roc_auc_score\n",
    "from sklearn.metrics import confusion_matrix\n",
    "from sklearn.metrics import classification_report\n",
    "from sklearn.metrics import roc_curve\n",
    "\n",
    "import seaborn as sns; sns.set_theme()\n",
    "from sklearn.metrics import accuracy_score\n",
    "import sklearn.metrics as metrics\n",
    "\n",
    "from datetime import datetime\n",
    "from scipy.stats import skew\n",
    "\n",
    "from keras.models import Sequential\n",
    "from keras.layers import Dense\n",
    "from keras.initializers import Constant\n",
    "from keras.layers.preprocessing.text_vectorization import TextVectorization\n",
    "from keras.utils.vis_utils import plot_model\n",
    "\n",
    "import tensorflow as tf\n",
    "import tensorflow.keras.utils as kutils\n",
    "\n",
    "from pathlib import Path\n",
    "from io import open\n",
    "\n",
    "from tensorflow.keras import layers\n",
    "from tensorflow.keras import models\n",
    "from tensorflow.keras import callbacks"
   ]
  },
  {
   "cell_type": "code",
   "execution_count": 215,
   "id": "d0e8054f",
   "metadata": {},
   "outputs": [
    {
     "name": "stdout",
     "output_type": "stream",
     "text": [
      "Dimensions of Training Dataset:  (3823, 4)\n"
     ]
    },
    {
     "data": {
      "text/html": [
       "<div>\n",
       "<style scoped>\n",
       "    .dataframe tbody tr th:only-of-type {\n",
       "        vertical-align: middle;\n",
       "    }\n",
       "\n",
       "    .dataframe tbody tr th {\n",
       "        vertical-align: top;\n",
       "    }\n",
       "\n",
       "    .dataframe thead th {\n",
       "        text-align: right;\n",
       "    }\n",
       "</style>\n",
       "<table border=\"1\" class=\"dataframe\">\n",
       "  <thead>\n",
       "    <tr style=\"text-align: right;\">\n",
       "      <th></th>\n",
       "      <th>Unnamed: 0</th>\n",
       "      <th>description1</th>\n",
       "      <th>description2</th>\n",
       "      <th>is_similar</th>\n",
       "    </tr>\n",
       "  </thead>\n",
       "  <tbody>\n",
       "    <tr>\n",
       "      <th>0</th>\n",
       "      <td>0</td>\n",
       "      <td>this way we can hold the placeholder color a...</td>\n",
       "      <td>the quick work around in bug   didn t quite ...</td>\n",
       "      <td>0</td>\n",
       "    </tr>\n",
       "    <tr>\n",
       "      <th>1</th>\n",
       "      <td>1</td>\n",
       "      <td>having two build targets for this takes doub...</td>\n",
       "      <td>filed by  btara  at  mozilla com     job id ...</td>\n",
       "      <td>0</td>\n",
       "    </tr>\n",
       "    <tr>\n",
       "      <th>2</th>\n",
       "      <td>2</td>\n",
       "      <td>we are adding a feature now to focus klar to...</td>\n",
       "      <td>now that the user can browse   documents in ...</td>\n",
       "      <td>0</td>\n",
       "    </tr>\n",
       "    <tr>\n",
       "      <th>3</th>\n",
       "      <td>3</td>\n",
       "      <td>user agent  mozilla       gecko   firefox   ...</td>\n",
       "      <td>user agent  mozilla       gecko   firefox   ...</td>\n",
       "      <td>1</td>\n",
       "    </tr>\n",
       "    <tr>\n",
       "      <th>4</th>\n",
       "      <td>4</td>\n",
       "      <td>created attachment     png  build    device ...</td>\n",
       "      <td>right now we have to use intents  which is c...</td>\n",
       "      <td>0</td>\n",
       "    </tr>\n",
       "  </tbody>\n",
       "</table>\n",
       "</div>"
      ],
      "text/plain": [
       "   Unnamed: 0                                       description1  \\\n",
       "0           0    this way we can hold the placeholder color a...   \n",
       "1           1    having two build targets for this takes doub...   \n",
       "2           2    we are adding a feature now to focus klar to...   \n",
       "3           3    user agent  mozilla       gecko   firefox   ...   \n",
       "4           4    created attachment     png  build    device ...   \n",
       "\n",
       "                                        description2  is_similar  \n",
       "0    the quick work around in bug   didn t quite ...           0  \n",
       "1    filed by  btara  at  mozilla com     job id ...           0  \n",
       "2    now that the user can browse   documents in ...           0  \n",
       "3    user agent  mozilla       gecko   firefox   ...           1  \n",
       "4    right now we have to use intents  which is c...           0  "
      ]
     },
     "execution_count": 215,
     "metadata": {},
     "output_type": "execute_result"
    }
   ],
   "source": [
    "train_mobile_df = pd.read_csv('../../PreProcessedData/Mobile/Mobile_siamese_train_preprocessed.csv')\n",
    "\n",
    "print('Dimensions of Training Dataset: ', train_mobile_df.shape)\n",
    "\n",
    "#To show Data\n",
    "train_mobile_df.head()"
   ]
  },
  {
   "cell_type": "code",
   "execution_count": 216,
   "id": "e4f3a5cc",
   "metadata": {},
   "outputs": [
    {
     "name": "stdout",
     "output_type": "stream",
     "text": [
      "Dimensions of Testing Dataset:  (959, 4)\n"
     ]
    },
    {
     "data": {
      "text/html": [
       "<div>\n",
       "<style scoped>\n",
       "    .dataframe tbody tr th:only-of-type {\n",
       "        vertical-align: middle;\n",
       "    }\n",
       "\n",
       "    .dataframe tbody tr th {\n",
       "        vertical-align: top;\n",
       "    }\n",
       "\n",
       "    .dataframe thead th {\n",
       "        text-align: right;\n",
       "    }\n",
       "</style>\n",
       "<table border=\"1\" class=\"dataframe\">\n",
       "  <thead>\n",
       "    <tr style=\"text-align: right;\">\n",
       "      <th></th>\n",
       "      <th>Unnamed: 0</th>\n",
       "      <th>description1</th>\n",
       "      <th>description2</th>\n",
       "      <th>is_similar</th>\n",
       "    </tr>\n",
       "  </thead>\n",
       "  <tbody>\n",
       "    <tr>\n",
       "      <th>0</th>\n",
       "      <td>0</td>\n",
       "      <td>to integrate the functionality of taking scr...</td>\n",
       "      <td>created attachment   screen shot       at   ...</td>\n",
       "      <td>0</td>\n",
       "    </tr>\n",
       "    <tr>\n",
       "      <th>1</th>\n",
       "      <td>1</td>\n",
       "      <td>created attachment     png  master build    ...</td>\n",
       "      <td>filed by  cbrindusan  at  mozilla com     jo...</td>\n",
       "      <td>0</td>\n",
       "    </tr>\n",
       "    <tr>\n",
       "      <th>2</th>\n",
       "      <td>2</td>\n",
       "      <td>sebastian reports that  input type  file   d...</td>\n",
       "      <td>robin mentioned that  i want to edit a url a...</td>\n",
       "      <td>0</td>\n",
       "    </tr>\n",
       "    <tr>\n",
       "      <th>3</th>\n",
       "      <td>3</td>\n",
       "      <td>visit   and the page doesn t load unless you...</td>\n",
       "      <td>bug   ran geckoview mochitest on  opt builds...</td>\n",
       "      <td>0</td>\n",
       "    </tr>\n",
       "    <tr>\n",
       "      <th>4</th>\n",
       "      <td>4</td>\n",
       "      <td>geckoprocessmanager  needs to support multi...</td>\n",
       "      <td>created attachment      user agent  mozilla ...</td>\n",
       "      <td>0</td>\n",
       "    </tr>\n",
       "  </tbody>\n",
       "</table>\n",
       "</div>"
      ],
      "text/plain": [
       "   Unnamed: 0                                       description1  \\\n",
       "0           0    to integrate the functionality of taking scr...   \n",
       "1           1    created attachment     png  master build    ...   \n",
       "2           2    sebastian reports that  input type  file   d...   \n",
       "3           3    visit   and the page doesn t load unless you...   \n",
       "4           4     geckoprocessmanager  needs to support multi...   \n",
       "\n",
       "                                        description2  is_similar  \n",
       "0    created attachment   screen shot       at   ...           0  \n",
       "1    filed by  cbrindusan  at  mozilla com     jo...           0  \n",
       "2    robin mentioned that  i want to edit a url a...           0  \n",
       "3    bug   ran geckoview mochitest on  opt builds...           0  \n",
       "4    created attachment      user agent  mozilla ...           0  "
      ]
     },
     "execution_count": 216,
     "metadata": {},
     "output_type": "execute_result"
    }
   ],
   "source": [
    "test_mobile_df = pd.read_csv('../../PreProcessedData/Mobile/Mobile_siamese_test_preprocessed.csv')\n",
    "\n",
    "print('Dimensions of Testing Dataset: ', test_mobile_df.shape)\n",
    "\n",
    "#To show Data\n",
    "test_mobile_df.head()"
   ]
  },
  {
   "cell_type": "code",
   "execution_count": 217,
   "id": "558dbfbf",
   "metadata": {},
   "outputs": [],
   "source": [
    "#Concatenate Train and Test Data\n",
    "result = pd.concat([train_mobile_df, test_mobile_df])\n",
    "result = result.sample(frac=1, random_state=1).reset_index(drop=True)\n",
    "\n",
    "dup_df= result.copy()"
   ]
  },
  {
   "cell_type": "code",
   "execution_count": 218,
   "id": "3bfa6d8a",
   "metadata": {},
   "outputs": [
    {
     "data": {
      "text/html": [
       "<div>\n",
       "<style scoped>\n",
       "    .dataframe tbody tr th:only-of-type {\n",
       "        vertical-align: middle;\n",
       "    }\n",
       "\n",
       "    .dataframe tbody tr th {\n",
       "        vertical-align: top;\n",
       "    }\n",
       "\n",
       "    .dataframe thead th {\n",
       "        text-align: right;\n",
       "    }\n",
       "</style>\n",
       "<table border=\"1\" class=\"dataframe\">\n",
       "  <thead>\n",
       "    <tr style=\"text-align: right;\">\n",
       "      <th></th>\n",
       "      <th>description1</th>\n",
       "      <th>description2</th>\n",
       "    </tr>\n",
       "  </thead>\n",
       "  <tbody>\n",
       "    <tr>\n",
       "      <th>count</th>\n",
       "      <td>4782.000000</td>\n",
       "      <td>4782.000000</td>\n",
       "    </tr>\n",
       "    <tr>\n",
       "      <th>mean</th>\n",
       "      <td>1045.613760</td>\n",
       "      <td>994.800502</td>\n",
       "    </tr>\n",
       "    <tr>\n",
       "      <th>std</th>\n",
       "      <td>2925.653641</td>\n",
       "      <td>2696.171659</td>\n",
       "    </tr>\n",
       "    <tr>\n",
       "      <th>min</th>\n",
       "      <td>50.000000</td>\n",
       "      <td>50.000000</td>\n",
       "    </tr>\n",
       "    <tr>\n",
       "      <th>25%</th>\n",
       "      <td>176.000000</td>\n",
       "      <td>176.000000</td>\n",
       "    </tr>\n",
       "    <tr>\n",
       "      <th>50%</th>\n",
       "      <td>324.000000</td>\n",
       "      <td>320.000000</td>\n",
       "    </tr>\n",
       "    <tr>\n",
       "      <th>75%</th>\n",
       "      <td>583.000000</td>\n",
       "      <td>578.000000</td>\n",
       "    </tr>\n",
       "    <tr>\n",
       "      <th>max</th>\n",
       "      <td>40577.000000</td>\n",
       "      <td>40577.000000</td>\n",
       "    </tr>\n",
       "  </tbody>\n",
       "</table>\n",
       "</div>"
      ],
      "text/plain": [
       "       description1  description2\n",
       "count   4782.000000   4782.000000\n",
       "mean    1045.613760    994.800502\n",
       "std     2925.653641   2696.171659\n",
       "min       50.000000     50.000000\n",
       "25%      176.000000    176.000000\n",
       "50%      324.000000    320.000000\n",
       "75%      583.000000    578.000000\n",
       "max    40577.000000  40577.000000"
      ]
     },
     "execution_count": 218,
     "metadata": {},
     "output_type": "execute_result"
    }
   ],
   "source": [
    "description = ['description1', 'description2']\n",
    "\n",
    "#To Describe Length of 'Description' of the Bugs\n",
    "dup_df[description].apply(lambda col: col.str.len().describe())"
   ]
  },
  {
   "cell_type": "markdown",
   "id": "1dd23cb9",
   "metadata": {},
   "source": [
    "# Splitting Data into Train, Test and Validation"
   ]
  },
  {
   "cell_type": "code",
   "execution_count": 219,
   "id": "ab4b7240",
   "metadata": {},
   "outputs": [],
   "source": [
    "train_val_df = train_mobile_df.copy()\n",
    "test_df = test_mobile_df.copy()"
   ]
  },
  {
   "cell_type": "code",
   "execution_count": 220,
   "id": "48b4b023",
   "metadata": {},
   "outputs": [],
   "source": [
    "train_df, val_df = train_test_split(train_val_df, test_size = 0.2, stratify = train_val_df.is_similar, random_state = 13)"
   ]
  },
  {
   "cell_type": "code",
   "execution_count": 221,
   "id": "ef6e5417",
   "metadata": {},
   "outputs": [
    {
     "name": "stdout",
     "output_type": "stream",
     "text": [
      "Size of Training Dataset:  3058\n",
      "Size of Validation Dataset:  765\n",
      "Size of Testing Dataset:  959\n"
     ]
    }
   ],
   "source": [
    "print('Size of Training Dataset: ', train_df.shape[0])\n",
    "print('Size of Validation Dataset: ', val_df.shape[0])\n",
    "print('Size of Testing Dataset: ', test_df.shape[0])"
   ]
  },
  {
   "cell_type": "code",
   "execution_count": 222,
   "id": "297616cd",
   "metadata": {},
   "outputs": [
    {
     "name": "stdout",
     "output_type": "stream",
     "text": [
      "Indexing word vectors...\n",
      "Found 400000 word vectors.\n"
     ]
    }
   ],
   "source": [
    "print('Indexing word vectors...')\n",
    "\n",
    "embeddings_index = {}\n",
    "f = open('../../PreProcessedData/Requirement/glove.6B.100d.txt', encoding='utf-8')\n",
    "for line in f:\n",
    "    values = line.split()\n",
    "    word = values[0]\n",
    "    coefs = np.asarray(values[1:], dtype='float32')\n",
    "    embeddings_index[word] = coefs\n",
    "f.close()\n",
    "\n",
    "print('Found %s word vectors.' % len(embeddings_index))"
   ]
  },
  {
   "cell_type": "code",
   "execution_count": 223,
   "id": "248d2713",
   "metadata": {},
   "outputs": [],
   "source": [
    "#To Dump Data in a Pickle File\n",
    "pickle.dump({'embeddings_index' : embeddings_index } , open('../../PreProcessedData/Requirement/mobile.glove.42B.300d.txt', 'wb'))"
   ]
  },
  {
   "cell_type": "code",
   "execution_count": 224,
   "id": "fda3624f",
   "metadata": {},
   "outputs": [],
   "source": [
    "file_path = open('../../PreProcessedData/Requirement/mobile.glove.42B.300d.txt',  mode=\"r\", encoding=\"utf-8\")"
   ]
  },
  {
   "cell_type": "markdown",
   "id": "f301d211",
   "metadata": {},
   "source": [
    "# Create Vocabulary Index"
   ]
  },
  {
   "cell_type": "code",
   "execution_count": 225,
   "id": "467deb68",
   "metadata": {},
   "outputs": [],
   "source": [
    "MAX_TOKENS = 20000\n",
    "MAX_TITLE_LENGTH = 21\n",
    "MAX_DESCRIPTION_LENGTH = 500\n",
    "EMBEDDING_DIM = 100"
   ]
  },
  {
   "cell_type": "code",
   "execution_count": 226,
   "id": "af17c897",
   "metadata": {},
   "outputs": [],
   "source": [
    "def build_vocab(sentences: List[str], sequence_length: int):\n",
    "    vectorizer = TextVectorization(max_tokens=MAX_TOKENS - 2,output_sequence_length=sequence_length)\n",
    "    vectorizer.adapt(sentences)\n",
    "    vocab = vectorizer.get_vocabulary()\n",
    "    word_index = dict(zip(vocab, range(len(vocab))))\n",
    "\n",
    "    return vectorizer, word_index"
   ]
  },
  {
   "cell_type": "code",
   "execution_count": 227,
   "id": "75558ac4",
   "metadata": {},
   "outputs": [
    {
     "name": "stdout",
     "output_type": "stream",
     "text": [
      "Most frequent description words: ['', '[UNK]', 'task', 'info', 'mozilla']\n"
     ]
    }
   ],
   "source": [
    "descr_vectorizer, descr_word_index = build_vocab([dup_df.description1, dup_df.description2],MAX_DESCRIPTION_LENGTH)\n",
    "\n",
    "print('Most frequent description words:',list(itertools.islice(descr_word_index.keys(), 5)))"
   ]
  },
  {
   "cell_type": "markdown",
   "id": "609ee28d",
   "metadata": {},
   "source": [
    "# Create Embedding Matrix"
   ]
  },
  {
   "cell_type": "code",
   "execution_count": 228,
   "id": "452ae77b",
   "metadata": {},
   "outputs": [],
   "source": [
    "def create_embedding_matrix(embedding_index: Dict[str, np.ndarray],word_index: Dict[str, int],verbose=False):\n",
    "    hits = 0\n",
    "    misses = 0\n",
    "\n",
    "    #To initialize Embedding Matrix\n",
    "    embedding_matrix = np.zeros((MAX_TOKENS, EMBEDDING_DIM))\n",
    "    for word, i in word_index.items():\n",
    "        embedding_vector = embedding_index.get(word)\n",
    "    \n",
    "        if embedding_vector is not None:\n",
    "        # Words not found in Embedding Index will zeros.\n",
    "        # This includes the representation for \"Padding\" and \"OOV\"\n",
    "            embedding_matrix[i] = embedding_vector\n",
    "            hits += 1\n",
    "        else:\n",
    "            misses += 1\n",
    "\n",
    "    if verbose:\n",
    "        print('Embedding shape:', embedding_matrix.shape)\n",
    "        print(f'Found {hits} words, missed {misses}.')\n",
    "\n",
    "    return embedding_matrix"
   ]
  },
  {
   "cell_type": "code",
   "execution_count": 229,
   "id": "dbbced91",
   "metadata": {},
   "outputs": [
    {
     "name": "stdout",
     "output_type": "stream",
     "text": [
      "Embedding shape: (20000, 100)\n",
      "Found 6871 words, missed 5538.\n"
     ]
    }
   ],
   "source": [
    "#To create Embedding Matrix of Description\n",
    "descr_embedding_matrix = create_embedding_matrix(embeddings_index, descr_word_index, True)"
   ]
  },
  {
   "cell_type": "markdown",
   "id": "53dd6100",
   "metadata": {},
   "source": [
    "# To Prepare Training Data"
   ]
  },
  {
   "cell_type": "code",
   "execution_count": 230,
   "id": "c5af8683",
   "metadata": {},
   "outputs": [],
   "source": [
    "def generate_batches(split_df: pd.DataFrame,batch_size=256):\n",
    "    steps_per_epoch = len(split_df) // batch_size\n",
    "    while True:\n",
    "        for i in range(steps_per_epoch):\n",
    "            offset = i * batch_size\n",
    "            till = offset + batch_size\n",
    "            feature_batches = []\n",
    "            for feature in description:\n",
    "                vectorizer = title_vectorizer if feature.startswith('title') else descr_vectorizer\n",
    "                feature_batch = vectorizer(split_df[feature][offset: till].to_numpy().reshape((-1, 1))).numpy()\n",
    "                feature_batches.append(feature_batch)\n",
    "\n",
    "            target_batch = split_df.is_similar[offset: till].to_numpy()\n",
    "            yield (feature_batches,target_batch)"
   ]
  },
  {
   "cell_type": "code",
   "execution_count": 231,
   "id": "eb0a68c9",
   "metadata": {},
   "outputs": [],
   "source": [
    "DescrEmbeddingLayer = layers.Embedding(input_dim=MAX_TOKENS,output_dim=EMBEDDING_DIM,\n",
    "                        embeddings_initializer=Constant(descr_embedding_matrix),trainable=False,name='DescrEmbeddingLayer')\n",
    "\n",
    "def make_descr_layer(num, kernel_size=3, pool_size=2, strides=None):\n",
    "    DescrConv1dLayer = layers.Conv1D(filters=32, kernel_size=kernel_size, activation='relu', name=f'DescrConv1dLayer{num}')\n",
    "    DescrMaxPool1dLayer = layers.MaxPool1D(pool_size=pool_size, strides=strides, name=f'DescrMaxPool1dLayer{num}')\n",
    "    return DescrConv1dLayer, DescrMaxPool1dLayer\n",
    "\n",
    "DescrConv1dLayer1, DescrMaxPool1dLayer1 = make_descr_layer(1, pool_size=4)\n",
    "DescrConv1dLayer2, DescrMaxPool1dLayer2 = make_descr_layer(2)"
   ]
  },
  {
   "cell_type": "code",
   "execution_count": 232,
   "id": "6e17ab77",
   "metadata": {},
   "outputs": [
    {
     "name": "stdout",
     "output_type": "stream",
     "text": [
      "You must install pydot (`pip install pydot`) and install graphviz (see instructions at https://graphviz.gitlab.io/download/) for plot_model to work.\n"
     ]
    }
   ],
   "source": [
    "def create_siamese_component(num: int):\n",
    "  \n",
    "    class SiameseComponent:\n",
    "        def __init__(self, title: layers.Input, description: layers.Input, output: layers.Concatenate):\n",
    "            self.title = title\n",
    "            self.description = description\n",
    "            self.output = output\n",
    "\n",
    "    title_input = layers.Input(shape=(None,), dtype='int32', name=f'title{num}_input')\n",
    "\n",
    "    descr_input = layers.Input(shape=(None,), name=f'descr{num}_input')\n",
    "    descr_embedding_layer = DescrEmbeddingLayer(descr_input)\n",
    "    descr_conv1d1 = DescrConv1dLayer1(descr_embedding_layer)\n",
    "    descr_max_pool1d1 = DescrMaxPool1dLayer1(descr_conv1d1)\n",
    "    descr_conv1d2 = DescrConv1dLayer2(descr_max_pool1d1)\n",
    "    descr_max_pool1d2 = DescrMaxPool1dLayer2(descr_conv1d2)\n",
    "    descr_flat_Layer = layers.Flatten(name=f'FlatDescr{num}')(descr_max_pool1d2)\n",
    "\n",
    "    concat = layers.Concatenate(axis=1, name=f'Concat{num}')([descr_flat_Layer])\n",
    "    return SiameseComponent(title_input, descr_input, concat)\n",
    "\n",
    "component1 = create_siamese_component(1)\n",
    "component2 = create_siamese_component(2)\n",
    "\n",
    "dot_product_layer = layers.Dot(axes=1,name='dot_product_layer')([component1.output, component2.output])\n",
    "\n",
    "output = layers.Dense(1, activation='sigmoid', name='output',)(dot_product_layer)\n",
    "\n",
    "siamese_model = models.Model(inputs=[component1.description, component2.description],outputs=output,name='siamese_model')\n",
    "\n",
    "kutils.plot_model(siamese_model)"
   ]
  },
  {
   "cell_type": "markdown",
   "id": "4f0a104f",
   "metadata": {},
   "source": [
    "# Train"
   ]
  },
  {
   "cell_type": "code",
   "execution_count": 233,
   "id": "85dcb2c7",
   "metadata": {},
   "outputs": [
    {
     "name": "stdout",
     "output_type": "stream",
     "text": [
      "Epoch 1/12\n",
      "11/11 [==============================] - 7s 542ms/step - loss: 15.5247 - acc: 0.0742 - val_loss: 1.6323 - val_acc: 0.0820\n",
      "Epoch 2/12\n",
      "11/11 [==============================] - 2s 208ms/step - loss: 0.9355 - acc: 0.1413 - val_loss: 0.6968 - val_acc: 0.3438\n",
      "Epoch 3/12\n",
      "11/11 [==============================] - 4s 414ms/step - loss: 0.6848 - acc: 0.5938 - val_loss: 0.6735 - val_acc: 0.7480\n",
      "Epoch 4/12\n",
      "11/11 [==============================] - 7s 637ms/step - loss: 0.6728 - acc: 0.7965 - val_loss: 0.6682 - val_acc: 0.8379\n",
      "Epoch 5/12\n",
      "11/11 [==============================] - 6s 534ms/step - loss: 0.6673 - acc: 0.8469 - val_loss: 0.6640 - val_acc: 0.8711\n",
      "Epoch 6/12\n",
      "11/11 [==============================] - 7s 710ms/step - loss: 0.6627 - acc: 0.8796 - val_loss: 0.6597 - val_acc: 0.8887\n",
      "Epoch 7/12\n",
      "11/11 [==============================] - 8s 677ms/step - loss: 0.6578 - acc: 0.8871 - val_loss: 0.6554 - val_acc: 0.9004\n",
      "Epoch 8/12\n",
      "11/11 [==============================] - 8s 735ms/step - loss: 0.6532 - acc: 0.9045 - val_loss: 0.6514 - val_acc: 0.9121\n",
      "Epoch 9/12\n",
      "11/11 [==============================] - 10s 932ms/step - loss: 0.6485 - acc: 0.9134 - val_loss: 0.6471 - val_acc: 0.9219\n",
      "Epoch 10/12\n",
      "11/11 [==============================] - 9s 816ms/step - loss: 0.6439 - acc: 0.9229 - val_loss: 0.6430 - val_acc: 0.9316\n",
      "Epoch 11/12\n",
      "11/11 [==============================] - 11s 1s/step - loss: 0.6393 - acc: 0.9315 - val_loss: 0.6388 - val_acc: 0.9414\n",
      "Epoch 12/12\n",
      "11/11 [==============================] - 11s 958ms/step - loss: 0.6348 - acc: 0.9379 - val_loss: 0.6345 - val_acc: 0.9453\n"
     ]
    }
   ],
   "source": [
    "BATCH_SIZE = 256\n",
    "\n",
    "opt = tf.keras.optimizers.Adam(learning_rate=0.001)\n",
    "\n",
    "siamese_model.compile(loss='binary_crossentropy', optimizer=opt, metrics=['acc'])\n",
    "\n",
    "history = siamese_model.fit(\n",
    "  generate_batches(train_df, BATCH_SIZE),\n",
    "  steps_per_epoch=len(train_df) // BATCH_SIZE,\n",
    "  epochs=12,\n",
    "  validation_data=generate_batches(val_df, BATCH_SIZE),\n",
    "  validation_steps=len(val_df) // BATCH_SIZE,\n",
    "  verbose=1\n",
    ")"
   ]
  },
  {
   "cell_type": "code",
   "execution_count": 234,
   "id": "ed2f9693",
   "metadata": {},
   "outputs": [
    {
     "name": "stdout",
     "output_type": "stream",
     "text": [
      "You must install pydot (`pip install pydot`) and install graphviz (see instructions at https://graphviz.gitlab.io/download/) for plot_model to work.\n"
     ]
    },
    {
     "data": {
      "image/png": "[encoded data removed]",
      "text/plain": [
       "<Figure size 640x480 with 1 Axes>"
      ]
     },
     "metadata": {},
     "output_type": "display_data"
    }
   ],
   "source": [
    "plot_model(siamese_model, to_file='model_plot.png', show_shapes=True, show_layer_names=True)\n",
    "\n",
    "#To Plot Loss\n",
    "plt.plot(history.history['loss'], label='Train Loss')\n",
    "plt.plot(history.history['val_loss'], label='Validationa Loss')\n",
    "plt.legend()\n",
    "plt.show()"
   ]
  },
  {
   "cell_type": "code",
   "execution_count": 235,
   "id": "3b0c574b",
   "metadata": {},
   "outputs": [
    {
     "data": {
      "image/png": "[encoded data removed]",
      "text/plain": [
       "<Figure size 640x480 with 1 Axes>"
      ]
     },
     "metadata": {},
     "output_type": "display_data"
    }
   ],
   "source": [
    "#To Plot Accuracy\n",
    "plt.plot(history.history['acc'], label='Train Accuracy')\n",
    "plt.plot(history.history['val_acc'], label='Validation Accuracy')\n",
    "plt.legend()\n",
    "plt.show()"
   ]
  },
  {
   "cell_type": "markdown",
   "id": "5f45fb19",
   "metadata": {},
   "source": [
    "# To Evaluate Model on Test Data "
   ]
  },
  {
   "cell_type": "code",
   "execution_count": 236,
   "id": "2424e906",
   "metadata": {},
   "outputs": [
    {
     "name": "stdout",
     "output_type": "stream",
     "text": [
      "3/3 [==============================] - 2s 322ms/step - loss: 0.6529 - acc: 0.9076\n",
      "WARNING:tensorflow:5 out of the last 13 calls to <function Model.make_predict_function.<locals>.predict_function at 0x0000025CAFF52E60> triggered tf.function retracing. Tracing is expensive and the excessive number of tracings could be due to (1) creating @tf.function repeatedly in a loop, (2) passing tensors with different shapes, (3) passing Python objects instead of tensors. For (1), please define your @tf.function outside of the loop. For (2), @tf.function has reduce_retracing=True option that can avoid unnecessary retracing. For (3), please refer to https://www.tensorflow.org/guide/function#controlling_retracing and https://www.tensorflow.org/api_docs/python/tf/function for  more details.\n",
      "1/1 [==============================] - 2s 2s/step\n"
     ]
    }
   ],
   "source": [
    "siamese_model.evaluate(generate_batches(test_df, BATCH_SIZE),steps=len(test_df) // BATCH_SIZE)\n",
    "\n",
    "BATCH_SIZE = len(test_df)\n",
    "\n",
    "num_batched_instances = len(test_df) - (len(test_df) % BATCH_SIZE)\n",
    "\n",
    "pred_y = siamese_model.predict(generate_batches(test_df, BATCH_SIZE),steps=len(test_df) // BATCH_SIZE,verbose=1)"
   ]
  },
  {
   "cell_type": "code",
   "execution_count": 237,
   "id": "41db67e8",
   "metadata": {},
   "outputs": [
    {
     "name": "stdout",
     "output_type": "stream",
     "text": [
      "AUC: 0.5778353950601858\n",
      "Recall: 0.9071949947862357\n",
      "Precision: 0.9111769027905223\n",
      "F1: 0.9091568010855938\n"
     ]
    }
   ],
   "source": [
    "print('AUC:', roc_auc_score(test_df.is_similar[:num_batched_instances], pred_y > .5, average='weighted'))\n",
    "print('Recall:', recall_score(test_df.is_similar[:num_batched_instances], pred_y > .5, average='weighted'))\n",
    "print('Precision:', precision_score(test_df.is_similar[:num_batched_instances], pred_y > .5, average='weighted'))\n",
    "print('F1:', f1_score(test_df.is_similar[:num_batched_instances], pred_y > .5, average='weighted'))      "
   ]
  },
  {
   "cell_type": "code",
   "execution_count": 238,
   "id": "72154f3e",
   "metadata": {},
   "outputs": [
    {
     "name": "stdout",
     "output_type": "stream",
     "text": [
      "              precision    recall  f1-score   support\n",
      "\n",
      "           0       0.95      0.95      0.95       906\n",
      "           1       0.19      0.21      0.20        53\n",
      "\n",
      "    accuracy                           0.91       959\n",
      "   macro avg       0.57      0.58      0.57       959\n",
      "weighted avg       0.91      0.91      0.91       959\n",
      "\n",
      "\n",
      "AUC: 0.5778353950601858\n"
     ]
    }
   ],
   "source": [
    "#Classification Report\n",
    "print(classification_report(test_df.is_similar[:num_batched_instances], pred_y > .5,))\n",
    "\n",
    "print('\\nAUC:', roc_auc_score(test_df.is_similar[:num_batched_instances], pred_y > .5))"
   ]
  },
  {
   "cell_type": "code",
   "execution_count": 239,
   "id": "3896f8eb",
   "metadata": {},
   "outputs": [
    {
     "data": {
      "text/html": [
       "<div>\n",
       "<style scoped>\n",
       "    .dataframe tbody tr th:only-of-type {\n",
       "        vertical-align: middle;\n",
       "    }\n",
       "\n",
       "    .dataframe tbody tr th {\n",
       "        vertical-align: top;\n",
       "    }\n",
       "\n",
       "    .dataframe thead th {\n",
       "        text-align: right;\n",
       "    }\n",
       "</style>\n",
       "<table border=\"1\" class=\"dataframe\">\n",
       "  <thead>\n",
       "    <tr style=\"text-align: right;\">\n",
       "      <th></th>\n",
       "      <th>TPR</th>\n",
       "      <th>FPR</th>\n",
       "      <th>Threshold</th>\n",
       "    </tr>\n",
       "  </thead>\n",
       "  <tbody>\n",
       "    <tr>\n",
       "      <th>0</th>\n",
       "      <td>0.000000</td>\n",
       "      <td>0.000000</td>\n",
       "      <td>1.770443</td>\n",
       "    </tr>\n",
       "    <tr>\n",
       "      <th>1</th>\n",
       "      <td>0.000000</td>\n",
       "      <td>0.018868</td>\n",
       "      <td>0.770443</td>\n",
       "    </tr>\n",
       "    <tr>\n",
       "      <th>2</th>\n",
       "      <td>0.000000</td>\n",
       "      <td>0.056604</td>\n",
       "      <td>0.708632</td>\n",
       "    </tr>\n",
       "    <tr>\n",
       "      <th>3</th>\n",
       "      <td>0.001104</td>\n",
       "      <td>0.056604</td>\n",
       "      <td>0.705346</td>\n",
       "    </tr>\n",
       "    <tr>\n",
       "      <th>4</th>\n",
       "      <td>0.001104</td>\n",
       "      <td>0.094340</td>\n",
       "      <td>0.588291</td>\n",
       "    </tr>\n",
       "    <tr>\n",
       "      <th>5</th>\n",
       "      <td>0.006623</td>\n",
       "      <td>0.094340</td>\n",
       "      <td>0.543329</td>\n",
       "    </tr>\n",
       "    <tr>\n",
       "      <th>6</th>\n",
       "      <td>0.006623</td>\n",
       "      <td>0.113208</td>\n",
       "      <td>0.533808</td>\n",
       "    </tr>\n",
       "    <tr>\n",
       "      <th>7</th>\n",
       "      <td>0.012141</td>\n",
       "      <td>0.113208</td>\n",
       "      <td>0.527153</td>\n",
       "    </tr>\n",
       "    <tr>\n",
       "      <th>8</th>\n",
       "      <td>0.012141</td>\n",
       "      <td>0.150943</td>\n",
       "      <td>0.524776</td>\n",
       "    </tr>\n",
       "    <tr>\n",
       "      <th>9</th>\n",
       "      <td>0.023179</td>\n",
       "      <td>0.150943</td>\n",
       "      <td>0.519639</td>\n",
       "    </tr>\n",
       "    <tr>\n",
       "      <th>10</th>\n",
       "      <td>0.023179</td>\n",
       "      <td>0.169811</td>\n",
       "      <td>0.516900</td>\n",
       "    </tr>\n",
       "    <tr>\n",
       "      <th>11</th>\n",
       "      <td>0.043046</td>\n",
       "      <td>0.169811</td>\n",
       "      <td>0.505657</td>\n",
       "    </tr>\n",
       "    <tr>\n",
       "      <th>12</th>\n",
       "      <td>0.043046</td>\n",
       "      <td>0.188679</td>\n",
       "      <td>0.505013</td>\n",
       "    </tr>\n",
       "    <tr>\n",
       "      <th>13</th>\n",
       "      <td>0.050773</td>\n",
       "      <td>0.188679</td>\n",
       "      <td>0.500201</td>\n",
       "    </tr>\n",
       "    <tr>\n",
       "      <th>14</th>\n",
       "      <td>0.050773</td>\n",
       "      <td>0.207547</td>\n",
       "      <td>0.500187</td>\n",
       "    </tr>\n",
       "    <tr>\n",
       "      <th>15</th>\n",
       "      <td>0.051876</td>\n",
       "      <td>0.207547</td>\n",
       "      <td>0.500166</td>\n",
       "    </tr>\n",
       "    <tr>\n",
       "      <th>16</th>\n",
       "      <td>0.051876</td>\n",
       "      <td>0.226415</td>\n",
       "      <td>0.499154</td>\n",
       "    </tr>\n",
       "    <tr>\n",
       "      <th>17</th>\n",
       "      <td>0.064018</td>\n",
       "      <td>0.226415</td>\n",
       "      <td>0.496914</td>\n",
       "    </tr>\n",
       "    <tr>\n",
       "      <th>18</th>\n",
       "      <td>0.064018</td>\n",
       "      <td>0.245283</td>\n",
       "      <td>0.496812</td>\n",
       "    </tr>\n",
       "    <tr>\n",
       "      <th>19</th>\n",
       "      <td>0.077263</td>\n",
       "      <td>0.245283</td>\n",
       "      <td>0.495134</td>\n",
       "    </tr>\n",
       "    <tr>\n",
       "      <th>20</th>\n",
       "      <td>0.077263</td>\n",
       "      <td>0.264151</td>\n",
       "      <td>0.494967</td>\n",
       "    </tr>\n",
       "    <tr>\n",
       "      <th>21</th>\n",
       "      <td>0.083885</td>\n",
       "      <td>0.264151</td>\n",
       "      <td>0.493937</td>\n",
       "    </tr>\n",
       "    <tr>\n",
       "      <th>22</th>\n",
       "      <td>0.083885</td>\n",
       "      <td>0.283019</td>\n",
       "      <td>0.493272</td>\n",
       "    </tr>\n",
       "    <tr>\n",
       "      <th>23</th>\n",
       "      <td>0.088300</td>\n",
       "      <td>0.283019</td>\n",
       "      <td>0.492909</td>\n",
       "    </tr>\n",
       "    <tr>\n",
       "      <th>24</th>\n",
       "      <td>0.088300</td>\n",
       "      <td>0.301887</td>\n",
       "      <td>0.492812</td>\n",
       "    </tr>\n",
       "    <tr>\n",
       "      <th>25</th>\n",
       "      <td>0.136865</td>\n",
       "      <td>0.301887</td>\n",
       "      <td>0.483744</td>\n",
       "    </tr>\n",
       "    <tr>\n",
       "      <th>26</th>\n",
       "      <td>0.136865</td>\n",
       "      <td>0.320755</td>\n",
       "      <td>0.483429</td>\n",
       "    </tr>\n",
       "    <tr>\n",
       "      <th>27</th>\n",
       "      <td>0.142384</td>\n",
       "      <td>0.320755</td>\n",
       "      <td>0.483034</td>\n",
       "    </tr>\n",
       "    <tr>\n",
       "      <th>28</th>\n",
       "      <td>0.142384</td>\n",
       "      <td>0.339623</td>\n",
       "      <td>0.482738</td>\n",
       "    </tr>\n",
       "    <tr>\n",
       "      <th>29</th>\n",
       "      <td>0.161148</td>\n",
       "      <td>0.339623</td>\n",
       "      <td>0.481397</td>\n",
       "    </tr>\n",
       "    <tr>\n",
       "      <th>30</th>\n",
       "      <td>0.161148</td>\n",
       "      <td>0.358491</td>\n",
       "      <td>0.481296</td>\n",
       "    </tr>\n",
       "    <tr>\n",
       "      <th>31</th>\n",
       "      <td>0.184327</td>\n",
       "      <td>0.358491</td>\n",
       "      <td>0.480100</td>\n",
       "    </tr>\n",
       "    <tr>\n",
       "      <th>32</th>\n",
       "      <td>0.184327</td>\n",
       "      <td>0.377358</td>\n",
       "      <td>0.480047</td>\n",
       "    </tr>\n",
       "    <tr>\n",
       "      <th>33</th>\n",
       "      <td>0.193157</td>\n",
       "      <td>0.377358</td>\n",
       "      <td>0.479734</td>\n",
       "    </tr>\n",
       "    <tr>\n",
       "      <th>34</th>\n",
       "      <td>0.193157</td>\n",
       "      <td>0.396226</td>\n",
       "      <td>0.479692</td>\n",
       "    </tr>\n",
       "    <tr>\n",
       "      <th>35</th>\n",
       "      <td>0.209713</td>\n",
       "      <td>0.396226</td>\n",
       "      <td>0.478902</td>\n",
       "    </tr>\n",
       "    <tr>\n",
       "      <th>36</th>\n",
       "      <td>0.209713</td>\n",
       "      <td>0.415094</td>\n",
       "      <td>0.478902</td>\n",
       "    </tr>\n",
       "    <tr>\n",
       "      <th>37</th>\n",
       "      <td>0.251656</td>\n",
       "      <td>0.415094</td>\n",
       "      <td>0.476599</td>\n",
       "    </tr>\n",
       "    <tr>\n",
       "      <th>38</th>\n",
       "      <td>0.251656</td>\n",
       "      <td>0.433962</td>\n",
       "      <td>0.476585</td>\n",
       "    </tr>\n",
       "    <tr>\n",
       "      <th>39</th>\n",
       "      <td>0.258278</td>\n",
       "      <td>0.433962</td>\n",
       "      <td>0.476405</td>\n",
       "    </tr>\n",
       "    <tr>\n",
       "      <th>40</th>\n",
       "      <td>0.258278</td>\n",
       "      <td>0.452830</td>\n",
       "      <td>0.476368</td>\n",
       "    </tr>\n",
       "    <tr>\n",
       "      <th>41</th>\n",
       "      <td>0.307947</td>\n",
       "      <td>0.452830</td>\n",
       "      <td>0.474470</td>\n",
       "    </tr>\n",
       "    <tr>\n",
       "      <th>42</th>\n",
       "      <td>0.307947</td>\n",
       "      <td>0.471698</td>\n",
       "      <td>0.474438</td>\n",
       "    </tr>\n",
       "    <tr>\n",
       "      <th>43</th>\n",
       "      <td>0.312362</td>\n",
       "      <td>0.471698</td>\n",
       "      <td>0.474377</td>\n",
       "    </tr>\n",
       "    <tr>\n",
       "      <th>44</th>\n",
       "      <td>0.312362</td>\n",
       "      <td>0.490566</td>\n",
       "      <td>0.474353</td>\n",
       "    </tr>\n",
       "    <tr>\n",
       "      <th>45</th>\n",
       "      <td>0.332230</td>\n",
       "      <td>0.490566</td>\n",
       "      <td>0.473990</td>\n",
       "    </tr>\n",
       "    <tr>\n",
       "      <th>46</th>\n",
       "      <td>0.332230</td>\n",
       "      <td>0.509434</td>\n",
       "      <td>0.473959</td>\n",
       "    </tr>\n",
       "    <tr>\n",
       "      <th>47</th>\n",
       "      <td>0.348786</td>\n",
       "      <td>0.509434</td>\n",
       "      <td>0.473560</td>\n",
       "    </tr>\n",
       "    <tr>\n",
       "      <th>48</th>\n",
       "      <td>0.348786</td>\n",
       "      <td>0.528302</td>\n",
       "      <td>0.473554</td>\n",
       "    </tr>\n",
       "    <tr>\n",
       "      <th>49</th>\n",
       "      <td>0.363135</td>\n",
       "      <td>0.528302</td>\n",
       "      <td>0.473449</td>\n",
       "    </tr>\n",
       "    <tr>\n",
       "      <th>50</th>\n",
       "      <td>0.363135</td>\n",
       "      <td>0.547170</td>\n",
       "      <td>0.473446</td>\n",
       "    </tr>\n",
       "    <tr>\n",
       "      <th>51</th>\n",
       "      <td>0.373068</td>\n",
       "      <td>0.547170</td>\n",
       "      <td>0.473275</td>\n",
       "    </tr>\n",
       "    <tr>\n",
       "      <th>52</th>\n",
       "      <td>0.373068</td>\n",
       "      <td>0.566038</td>\n",
       "      <td>0.473252</td>\n",
       "    </tr>\n",
       "    <tr>\n",
       "      <th>53</th>\n",
       "      <td>0.395143</td>\n",
       "      <td>0.566038</td>\n",
       "      <td>0.472998</td>\n",
       "    </tr>\n",
       "    <tr>\n",
       "      <th>54</th>\n",
       "      <td>0.395143</td>\n",
       "      <td>0.584906</td>\n",
       "      <td>0.472962</td>\n",
       "    </tr>\n",
       "    <tr>\n",
       "      <th>55</th>\n",
       "      <td>0.435982</td>\n",
       "      <td>0.584906</td>\n",
       "      <td>0.472730</td>\n",
       "    </tr>\n",
       "    <tr>\n",
       "      <th>56</th>\n",
       "      <td>1.000000</td>\n",
       "      <td>1.000000</td>\n",
       "      <td>0.472719</td>\n",
       "    </tr>\n",
       "  </tbody>\n",
       "</table>\n",
       "</div>"
      ],
      "text/plain": [
       "         TPR       FPR  Threshold\n",
       "0   0.000000  0.000000   1.770443\n",
       "1   0.000000  0.018868   0.770443\n",
       "2   0.000000  0.056604   0.708632\n",
       "3   0.001104  0.056604   0.705346\n",
       "4   0.001104  0.094340   0.588291\n",
       "5   0.006623  0.094340   0.543329\n",
       "6   0.006623  0.113208   0.533808\n",
       "7   0.012141  0.113208   0.527153\n",
       "8   0.012141  0.150943   0.524776\n",
       "9   0.023179  0.150943   0.519639\n",
       "10  0.023179  0.169811   0.516900\n",
       "11  0.043046  0.169811   0.505657\n",
       "12  0.043046  0.188679   0.505013\n",
       "13  0.050773  0.188679   0.500201\n",
       "14  0.050773  0.207547   0.500187\n",
       "15  0.051876  0.207547   0.500166\n",
       "16  0.051876  0.226415   0.499154\n",
       "17  0.064018  0.226415   0.496914\n",
       "18  0.064018  0.245283   0.496812\n",
       "19  0.077263  0.245283   0.495134\n",
       "20  0.077263  0.264151   0.494967\n",
       "21  0.083885  0.264151   0.493937\n",
       "22  0.083885  0.283019   0.493272\n",
       "23  0.088300  0.283019   0.492909\n",
       "24  0.088300  0.301887   0.492812\n",
       "25  0.136865  0.301887   0.483744\n",
       "26  0.136865  0.320755   0.483429\n",
       "27  0.142384  0.320755   0.483034\n",
       "28  0.142384  0.339623   0.482738\n",
       "29  0.161148  0.339623   0.481397\n",
       "30  0.161148  0.358491   0.481296\n",
       "31  0.184327  0.358491   0.480100\n",
       "32  0.184327  0.377358   0.480047\n",
       "33  0.193157  0.377358   0.479734\n",
       "34  0.193157  0.396226   0.479692\n",
       "35  0.209713  0.396226   0.478902\n",
       "36  0.209713  0.415094   0.478902\n",
       "37  0.251656  0.415094   0.476599\n",
       "38  0.251656  0.433962   0.476585\n",
       "39  0.258278  0.433962   0.476405\n",
       "40  0.258278  0.452830   0.476368\n",
       "41  0.307947  0.452830   0.474470\n",
       "42  0.307947  0.471698   0.474438\n",
       "43  0.312362  0.471698   0.474377\n",
       "44  0.312362  0.490566   0.474353\n",
       "45  0.332230  0.490566   0.473990\n",
       "46  0.332230  0.509434   0.473959\n",
       "47  0.348786  0.509434   0.473560\n",
       "48  0.348786  0.528302   0.473554\n",
       "49  0.363135  0.528302   0.473449\n",
       "50  0.363135  0.547170   0.473446\n",
       "51  0.373068  0.547170   0.473275\n",
       "52  0.373068  0.566038   0.473252\n",
       "53  0.395143  0.566038   0.472998\n",
       "54  0.395143  0.584906   0.472962\n",
       "55  0.435982  0.584906   0.472730\n",
       "56  1.000000  1.000000   0.472719"
      ]
     },
     "execution_count": 239,
     "metadata": {},
     "output_type": "execute_result"
    }
   ],
   "source": [
    "value_names = ['TPR', 'FPR', 'Threshold']\n",
    "\n",
    "roc = dict(zip(value_names, roc_curve(test_df.is_similar[:num_batched_instances],pred_y)))\n",
    "\n",
    "pd.DataFrame(roc)"
   ]
  },
  {
   "cell_type": "markdown",
   "id": "0f91e6cb",
   "metadata": {},
   "source": [
    "# To Evaluate Textually Similar Data"
   ]
  },
  {
   "cell_type": "code",
   "execution_count": 240,
   "id": "902f4266",
   "metadata": {},
   "outputs": [
    {
     "name": "stdout",
     "output_type": "stream",
     "text": [
      "Dimensions of Dataset:  (50, 9)\n"
     ]
    }
   ],
   "source": [
    "sim_df_original = pd.read_csv('../../PreProcessedData/Mobile/Mobile_textually_similar_pair.csv')\n",
    "\n",
    "print('Dimensions of Dataset: ', sim_df_original.shape)"
   ]
  },
  {
   "cell_type": "code",
   "execution_count": 241,
   "id": "0a1d404c",
   "metadata": {},
   "outputs": [
    {
     "data": {
      "text/html": [
       "<div>\n",
       "<style scoped>\n",
       "    .dataframe tbody tr th:only-of-type {\n",
       "        vertical-align: middle;\n",
       "    }\n",
       "\n",
       "    .dataframe tbody tr th {\n",
       "        vertical-align: top;\n",
       "    }\n",
       "\n",
       "    .dataframe thead th {\n",
       "        text-align: right;\n",
       "    }\n",
       "</style>\n",
       "<table border=\"1\" class=\"dataframe\">\n",
       "  <thead>\n",
       "    <tr style=\"text-align: right;\">\n",
       "      <th></th>\n",
       "      <th>Unnamed: 0</th>\n",
       "      <th>description1</th>\n",
       "      <th>description2</th>\n",
       "      <th>is_similar</th>\n",
       "    </tr>\n",
       "  </thead>\n",
       "  <tbody>\n",
       "    <tr>\n",
       "      <th>0</th>\n",
       "      <td>1</td>\n",
       "      <td>filed by  apavel  at  mozilla com     job id  ...</td>\n",
       "      <td>filed by  ncsoregi  at  mozilla com     job id...</td>\n",
       "      <td>1</td>\n",
       "    </tr>\n",
       "    <tr>\n",
       "      <th>1</th>\n",
       "      <td>5</td>\n",
       "      <td>this bug continues a conversation from the oct...</td>\n",
       "      <td>as part of the webextension support in bug    ...</td>\n",
       "      <td>1</td>\n",
       "    </tr>\n",
       "    <tr>\n",
       "      <th>2</th>\n",
       "      <td>6</td>\n",
       "      <td>while looking at   bug cgi id   we noticed tha...</td>\n",
       "      <td>we ran into this when testing ublock  the logg...</td>\n",
       "      <td>1</td>\n",
       "    </tr>\n",
       "    <tr>\n",
       "      <th>3</th>\n",
       "      <td>8</td>\n",
       "      <td>filed by    rmaries  at  mozilla com   parse...</td>\n",
       "      <td>filed by    aiakab  at  mozilla com   parsed...</td>\n",
       "      <td>1</td>\n",
       "    </tr>\n",
       "    <tr>\n",
       "      <th>4</th>\n",
       "      <td>11</td>\n",
       "      <td>filed by    nbeleuzu  at  mozilla com   pars...</td>\n",
       "      <td>filed by    opoprus  at  mozilla com   parse...</td>\n",
       "      <td>1</td>\n",
       "    </tr>\n",
       "  </tbody>\n",
       "</table>\n",
       "</div>"
      ],
      "text/plain": [
       "   Unnamed: 0                                       description1  \\\n",
       "0           1  filed by  apavel  at  mozilla com     job id  ...   \n",
       "1           5  this bug continues a conversation from the oct...   \n",
       "2           6  while looking at   bug cgi id   we noticed tha...   \n",
       "3           8    filed by    rmaries  at  mozilla com   parse...   \n",
       "4          11    filed by    nbeleuzu  at  mozilla com   pars...   \n",
       "\n",
       "                                        description2  is_similar  \n",
       "0  filed by  ncsoregi  at  mozilla com     job id...           1  \n",
       "1  as part of the webextension support in bug    ...           1  \n",
       "2  we ran into this when testing ublock  the logg...           1  \n",
       "3    filed by    aiakab  at  mozilla com   parsed...           1  \n",
       "4    filed by    opoprus  at  mozilla com   parse...           1  "
      ]
     },
     "execution_count": 241,
     "metadata": {},
     "output_type": "execute_result"
    }
   ],
   "source": [
    "#Preprocessing Dataset\n",
    "sim_df = pd.DataFrame()\n",
    "\n",
    "sim_df['Unnamed: 0'] = sim_df_original['Unnamed: 0']\n",
    "sim_df['description1'] = sim_df_original['Description1']\n",
    "sim_df['description2'] = sim_df_original['Description2']\n",
    "sim_df['is_similar'] = sim_df_original['is_similar']\n",
    "\n",
    "sim_df['description1'] = sim_df['description1'].str.replace('[','').str.replace(']','')\n",
    "sim_df['description2'] = sim_df['description2'].str.replace('[','').str.replace(']','')\n",
    "\n",
    "sim_df['description1'] = sim_df['description1'].str.replace(\"'\", \"\")\n",
    "sim_df['description2'] = sim_df['description2'].str.replace(\"'\", \"\")\n",
    "\n",
    "#To show Data\n",
    "sim_df.head()"
   ]
  },
  {
   "cell_type": "code",
   "execution_count": 242,
   "id": "64bbe4df",
   "metadata": {},
   "outputs": [],
   "source": [
    "sim_df_new = sim_df[['description1', 'description2', 'is_similar']]\n",
    "sim_df_new['description2'] = sim_df_new.description2.shift(1)\n",
    "sim_df_new['is_similar'] = 0\n",
    "sim_df_new.dropna(inplace = True)\n",
    "sim_df = pd.concat([sim_df[['description1', 'description2', 'is_similar']],sim_df_new])"
   ]
  },
  {
   "cell_type": "code",
   "execution_count": 243,
   "id": "20590e56",
   "metadata": {},
   "outputs": [
    {
     "name": "stdout",
     "output_type": "stream",
     "text": [
      "1/1 [==============================] - 1s 1s/step - loss: 0.6792 - acc: 0.6061\n",
      "1/1 [==============================] - 1s 979ms/step\n"
     ]
    }
   ],
   "source": [
    "BATCH_SIZE = len(sim_df)\n",
    "\n",
    "siamese_model.evaluate(generate_batches(sim_df, BATCH_SIZE),steps=len(sim_df) // BATCH_SIZE)\n",
    "\n",
    "num_batched_instances = len(sim_df) - (len(sim_df) % BATCH_SIZE)\n",
    "\n",
    "pred_y_sim = siamese_model.predict(generate_batches(sim_df, BATCH_SIZE),steps=len(sim_df) // BATCH_SIZE,verbose=1)"
   ]
  },
  {
   "cell_type": "code",
   "execution_count": 244,
   "id": "b0ffe1cb",
   "metadata": {},
   "outputs": [
    {
     "name": "stdout",
     "output_type": "stream",
     "text": [
      "AUC: 0.6048979591836735\n",
      "Recall: 0.6060606060606061\n",
      "Precision: 0.6106622741652941\n",
      "F1: 0.6006759110207387\n"
     ]
    }
   ],
   "source": [
    "print('AUC:', roc_auc_score(sim_df.is_similar[:num_batched_instances], pred_y_sim > .5, average='weighted'))\n",
    "print('Recall:', recall_score(sim_df.is_similar[:num_batched_instances], pred_y_sim > .5, average='weighted'))\n",
    "print('Precision:', precision_score(sim_df.is_similar[:num_batched_instances], pred_y_sim > .5, average='weighted'))\n",
    "print('F1:', f1_score(sim_df.is_similar[:num_batched_instances], pred_y_sim > .5, average='weighted'))  "
   ]
  },
  {
   "cell_type": "code",
   "execution_count": 245,
   "id": "b4110d23",
   "metadata": {},
   "outputs": [
    {
     "name": "stdout",
     "output_type": "stream",
     "text": [
      "              precision    recall  f1-score   support\n",
      "\n",
      "           0       0.63      0.49      0.55        49\n",
      "           1       0.59      0.72      0.65        50\n",
      "\n",
      "    accuracy                           0.61        99\n",
      "   macro avg       0.61      0.60      0.60        99\n",
      "weighted avg       0.61      0.61      0.60        99\n",
      "\n",
      "\n",
      "AUC: 0.6048979591836735\n"
     ]
    }
   ],
   "source": [
    "#Classification Report\n",
    "print(classification_report(sim_df.is_similar[:num_batched_instances], pred_y_sim > .5,))\n",
    "\n",
    "print('\\nAUC:', roc_auc_score(sim_df.is_similar[:num_batched_instances], pred_y_sim > .5))"
   ]
  },
  {
   "cell_type": "markdown",
   "id": "bd59bef5",
   "metadata": {},
   "source": [
    "# To Evaluate Textually Dissimilar Data"
   ]
  },
  {
   "cell_type": "code",
   "execution_count": 246,
   "id": "68fa57a5",
   "metadata": {},
   "outputs": [
    {
     "name": "stdout",
     "output_type": "stream",
     "text": [
      "Dimensions of Dataset:  (89, 9)\n"
     ]
    }
   ],
   "source": [
    "dissim_df_original = pd.read_csv('../../PreProcessedData/Mobile/Mobile_textually_dissimilar_pair.csv')\n",
    "\n",
    "print('Dimensions of Dataset: ', dissim_df_original.shape)"
   ]
  },
  {
   "cell_type": "code",
   "execution_count": 247,
   "id": "9419f9de",
   "metadata": {},
   "outputs": [
    {
     "data": {
      "text/html": [
       "<div>\n",
       "<style scoped>\n",
       "    .dataframe tbody tr th:only-of-type {\n",
       "        vertical-align: middle;\n",
       "    }\n",
       "\n",
       "    .dataframe tbody tr th {\n",
       "        vertical-align: top;\n",
       "    }\n",
       "\n",
       "    .dataframe thead th {\n",
       "        text-align: right;\n",
       "    }\n",
       "</style>\n",
       "<table border=\"1\" class=\"dataframe\">\n",
       "  <thead>\n",
       "    <tr style=\"text-align: right;\">\n",
       "      <th></th>\n",
       "      <th>Unnamed: 0</th>\n",
       "      <th>description1</th>\n",
       "      <th>description2</th>\n",
       "      <th>is_similar</th>\n",
       "    </tr>\n",
       "  </thead>\n",
       "  <tbody>\n",
       "    <tr>\n",
       "      <th>0</th>\n",
       "      <td>1</td>\n",
       "      <td>the brief crash report   thread   name  thread...</td>\n",
       "      <td>this crash is happening in firefox for ios    ...</td>\n",
       "      <td>1</td>\n",
       "    </tr>\n",
       "    <tr>\n",
       "      <th>1</th>\n",
       "      <td>2</td>\n",
       "      <td>created attachment                   crash  cu...</td>\n",
       "      <td>created attachment                   crash  fu...</td>\n",
       "      <td>1</td>\n",
       "    </tr>\n",
       "    <tr>\n",
       "      <th>2</th>\n",
       "      <td>4</td>\n",
       "      <td>stp is a new blocklist setting we need to supp...</td>\n",
       "      <td>fenix would like to expose a user setting to t...</td>\n",
       "      <td>1</td>\n",
       "    </tr>\n",
       "    <tr>\n",
       "      <th>3</th>\n",
       "      <td>5</td>\n",
       "      <td>work breakdown for moving gv from the old geck...</td>\n",
       "      <td>this is for implementing the new geckoview str...</td>\n",
       "      <td>1</td>\n",
       "    </tr>\n",
       "    <tr>\n",
       "      <th>4</th>\n",
       "      <td>7</td>\n",
       "      <td>created attachment   testcase html  load minim...</td>\n",
       "      <td>created attachment   testcase html  elements w...</td>\n",
       "      <td>1</td>\n",
       "    </tr>\n",
       "  </tbody>\n",
       "</table>\n",
       "</div>"
      ],
      "text/plain": [
       "   Unnamed: 0                                       description1  \\\n",
       "0           1  the brief crash report   thread   name  thread...   \n",
       "1           2  created attachment                   crash  cu...   \n",
       "2           4  stp is a new blocklist setting we need to supp...   \n",
       "3           5  work breakdown for moving gv from the old geck...   \n",
       "4           7  created attachment   testcase html  load minim...   \n",
       "\n",
       "                                        description2  is_similar  \n",
       "0  this crash is happening in firefox for ios    ...           1  \n",
       "1  created attachment                   crash  fu...           1  \n",
       "2  fenix would like to expose a user setting to t...           1  \n",
       "3  this is for implementing the new geckoview str...           1  \n",
       "4  created attachment   testcase html  elements w...           1  "
      ]
     },
     "execution_count": 247,
     "metadata": {},
     "output_type": "execute_result"
    }
   ],
   "source": [
    "#Preprocessing Dataset\n",
    "dissim_df = pd.DataFrame()\n",
    "\n",
    "dissim_df['Unnamed: 0'] = dissim_df_original['Unnamed: 0']\n",
    "dissim_df['description1'] = dissim_df_original['Description1']\n",
    "dissim_df['description2'] = dissim_df_original['Description2']\n",
    "dissim_df['is_similar'] = dissim_df_original['is_similar']\n",
    "\n",
    "#df['my_column'] = df['my_column'].str.replace('[','').str.replace(']','')\n",
    "dissim_df['description1'] = dissim_df['description1'].str.replace('[','').str.replace(']','')\n",
    "dissim_df['description2'] = dissim_df['description2'].str.replace('[','').str.replace(']','')\n",
    "\n",
    "#df['my_column'] = df['my_column'].str.replace(\"'\", \"\")\n",
    "dissim_df['description1'] = dissim_df['description1'].str.replace(\"'\", \"\")\n",
    "dissim_df['description2'] = dissim_df['description2'].str.replace(\"'\", \"\")\n",
    "\n",
    "#To show Data\n",
    "dissim_df.head()"
   ]
  },
  {
   "cell_type": "code",
   "execution_count": 248,
   "id": "c65c80d8",
   "metadata": {},
   "outputs": [],
   "source": [
    "#Adding Data to the Dataframe\n",
    "dissim_df_new = dissim_df[['description1', 'description2', 'is_similar']]\n",
    "dissim_df_new['description2'] = dissim_df_new.description2.shift(1)\n",
    "dissim_df_new['is_similar'] = 0\n",
    "dissim_df_new.dropna(inplace = True)\n",
    "dissim_df = pd.concat([sim_df[['description1', 'description2', 'is_similar']],dissim_df_new])"
   ]
  },
  {
   "cell_type": "code",
   "execution_count": 249,
   "id": "4dad2b96",
   "metadata": {},
   "outputs": [
    {
     "name": "stdout",
     "output_type": "stream",
     "text": [
      "1/1 [==============================] - 1s 704ms/step - loss: 0.6702 - acc: 0.7166\n",
      "1/1 [==============================] - 0s 430ms/step\n"
     ]
    }
   ],
   "source": [
    "BATCH_SIZE = len(dissim_df)\n",
    "\n",
    "siamese_model.evaluate(generate_batches(dissim_df, BATCH_SIZE), steps=len(dissim_df) // BATCH_SIZE)\n",
    "\n",
    "num_batched_instances = len(dissim_df) - (len(dissim_df) % BATCH_SIZE)\n",
    "\n",
    "pred_y_dis = siamese_model.predict(generate_batches(dissim_df, BATCH_SIZE),steps=len(dissim_df) // BATCH_SIZE,verbose=1)"
   ]
  },
  {
   "cell_type": "code",
   "execution_count": 250,
   "id": "88a4fc5f",
   "metadata": {},
   "outputs": [
    {
     "name": "stdout",
     "output_type": "stream",
     "text": [
      "AUC: 0.7176642335766423\n",
      "Recall: 0.7165775401069518\n",
      "Precision: 0.7693850267379679\n",
      "F1: 0.7306917509610634\n"
     ]
    }
   ],
   "source": [
    "print('AUC:', roc_auc_score(dissim_df.is_similar[:num_batched_instances], pred_y_dis > .5, average='weighted'))\n",
    "print('Recall:', recall_score(dissim_df.is_similar[:num_batched_instances], pred_y_dis > .5, average='weighted'))\n",
    "print('Precision:', precision_score(dissim_df.is_similar[:num_batched_instances], pred_y_dis > .5, average='weighted'))\n",
    "print('F1:', f1_score(dissim_df.is_similar[:num_batched_instances], pred_y_dis > .5, average='weighted'))  "
   ]
  },
  {
   "cell_type": "code",
   "execution_count": 251,
   "id": "e574c8d6",
   "metadata": {},
   "outputs": [
    {
     "name": "stdout",
     "output_type": "stream",
     "text": [
      "              precision    recall  f1-score   support\n",
      "\n",
      "           0       0.88      0.72      0.79       137\n",
      "           1       0.48      0.72      0.58        50\n",
      "\n",
      "    accuracy                           0.72       187\n",
      "   macro avg       0.68      0.72      0.68       187\n",
      "weighted avg       0.77      0.72      0.73       187\n",
      "\n",
      "\n",
      "AUC: 0.7176642335766423\n"
     ]
    }
   ],
   "source": [
    "#Classification Report\n",
    "print(classification_report(dissim_df.is_similar[:num_batched_instances], pred_y_dis > .5,))\n",
    "\n",
    "print('\\nAUC:', roc_auc_score(dissim_df.is_similar[:num_batched_instances], pred_y_dis > .5))"
   ]
  }
 ],
 "metadata": {
  "kernelspec": {
   "display_name": "Python 3 (ipykernel)",
   "language": "python",
   "name": "python3"
  },
  "language_info": {
   "codemirror_mode": {
    "name": "ipython",
    "version": 3
   },
   "file_extension": ".py",
   "mimetype": "text/x-python",
   "name": "python",
   "nbconvert_exporter": "python",
   "pygments_lexer": "ipython3",
   "version": "3.10.9"
  }
 },
 "nbformat": 4,
 "nbformat_minor": 5
}
