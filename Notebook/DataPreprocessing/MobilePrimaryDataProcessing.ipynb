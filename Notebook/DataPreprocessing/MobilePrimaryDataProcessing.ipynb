{
 "cells": [
  {
   "cell_type": "code",
   "execution_count": 1,
   "id": "52e836fe",
   "metadata": {},
   "outputs": [
    {
     "name": "stderr",
     "output_type": "stream",
     "text": [
      "[nltk_data] Downloading package stopwords to\n",
      "[nltk_data]     C:\\Users\\easha\\AppData\\Roaming\\nltk_data...\n",
      "[nltk_data]   Package stopwords is already up-to-date!\n",
      "[nltk_data] Downloading package wordnet to\n",
      "[nltk_data]     C:\\Users\\easha\\AppData\\Roaming\\nltk_data...\n",
      "[nltk_data]   Package wordnet is already up-to-date!\n"
     ]
    }
   ],
   "source": [
    "import warnings\n",
    "warnings.filterwarnings('ignore')\n",
    "\n",
    "import numpy as np\n",
    "import pandas as pd\n",
    "import matplotlib.pyplot as plt\n",
    "\n",
    "import nltk\n",
    "from nltk.corpus import stopwords\n",
    "from nltk.stem import PorterStemmer\n",
    "from nltk.stem.porter import *\n",
    "nltk.download('stopwords')\n",
    "nltk.download('wordnet')\n",
    "\n",
    "import re\n",
    "import statistics\n",
    "\n",
    "from sklearn.feature_extraction.text import TfidfVectorizer\n",
    "from sklearn.metrics.pairwise import cosine_similarity\n",
    "from scipy.stats import skew"
   ]
  },
  {
   "cell_type": "code",
   "execution_count": 2,
   "id": "f8322ea4",
   "metadata": {},
   "outputs": [
    {
     "name": "stdout",
     "output_type": "stream",
     "text": [
      "Dimensions of Dataset:  (5320, 12)\n"
     ]
    }
   ],
   "source": [
    "training_dataset = pd.read_csv('../../PrimaryDataset/mobile_preproccessed_whole_dataset.csv')\n",
    "\n",
    "print('Dimensions of Dataset: ', training_dataset.shape)"
   ]
  },
  {
   "cell_type": "code",
   "execution_count": 3,
   "id": "c972fdf8",
   "metadata": {},
   "outputs": [
    {
     "name": "stdout",
     "output_type": "stream",
     "text": [
      "NaN Values after Replacing:  5320\n",
      "Dimensions of Data with Duplicate Bug Ids:  (562, 12)\n"
     ]
    }
   ],
   "source": [
    "#Replacing Blank Values with 'NaN' Values\n",
    "training_dataset.replace(\"\", np.nan, inplace = True)\n",
    "\n",
    "#Droping Data which has 'Nan' value for 'Description' Column\n",
    "training_dataset.dropna(subset = ['Description'], inplace = True)\n",
    "\n",
    "#Checking of any 'NaN' values are present or not.\n",
    "cond = (training_dataset['Description'] == np.nan)\n",
    "print('NaN Values after Replacing: ',len(cond))\n",
    "\n",
    "#Filtering data based on 'Duplicate_Bug_Ids' Column to get Duplicate Bugs\n",
    "duplicate_test = training_dataset[training_dataset['Duplicate_Bug_Ids'] > 0]\n",
    "print('Dimensions of Data with Duplicate Bug Ids: ', duplicate_test.shape)"
   ]
  },
  {
   "cell_type": "code",
   "execution_count": 4,
   "id": "960d5850",
   "metadata": {},
   "outputs": [
    {
     "name": "stdout",
     "output_type": "stream",
     "text": [
      "Dimensions of Data after Tokenization:  (562, 3704)\n"
     ]
    }
   ],
   "source": [
    "#To Tokenize Data\n",
    "ted = duplicate_test['Description']\n",
    "\n",
    "tfidf = TfidfVectorizer()\n",
    "stemmer = PorterStemmer()\n",
    "\n",
    "def tokenizer(arg):\n",
    "    tokens = re.split(r'(\\W+)', arg.lower())\n",
    "    tokens = [\n",
    "        token for token in tokens\n",
    "        if re.match('\\\\w+', token) and not re.match('\\\\d+', token)\n",
    "    ]\n",
    "    \n",
    "    return list(map(stemmer.stem, tokens))\n",
    "\n",
    "tfidf.tokenizer = tokenizer\n",
    "tfidf_matrix_desc = tfidf.fit_transform(ted)\n",
    "\n",
    "print('Dimensions of Data after Tokenization: ', tfidf_matrix_desc.shape)"
   ]
  },
  {
   "cell_type": "code",
   "execution_count": 5,
   "id": "14140e37",
   "metadata": {},
   "outputs": [
    {
     "name": "stdout",
     "output_type": "stream",
     "text": [
      "Cosine Similarity Matrix:\n",
      "[[1.         0.03626514 0.04771126 ... 0.00819527 0.00431848 0.00813439]\n",
      " [0.03626514 1.         0.0923619  ... 0.0118519  0.01097122 0.01176386]\n",
      " [0.04771126 0.0923619  1.         ... 0.02953536 0.02568051 0.03026084]\n",
      " ...\n",
      " [0.00819527 0.0118519  0.02953536 ... 1.         0.99182525 0.99854414]\n",
      " [0.00431848 0.01097122 0.02568051 ... 0.99182525 1.         0.99091449]\n",
      " [0.00813439 0.01176386 0.03026084 ... 0.99854414 0.99091449 1.        ]]\n",
      "Cosine Similarity Matrix Dimensions:  (562, 562)\n"
     ]
    }
   ],
   "source": [
    "#To calculate Cosine Similarity\n",
    "tfidf_sim = TfidfVectorizer()\n",
    "\n",
    "tfidf_matrix = tfidf_sim.fit_transform(ted)\n",
    "\n",
    "cosine_sim = cosine_similarity(tfidf_matrix, tfidf_matrix)\n",
    "\n",
    "print('Cosine Similarity Matrix:')\n",
    "print(cosine_sim)\n",
    "print('Cosine Similarity Matrix Dimensions: ', cosine_sim.shape)"
   ]
  },
  {
   "cell_type": "code",
   "execution_count": 6,
   "id": "db46212d",
   "metadata": {},
   "outputs": [
    {
     "name": "stdout",
     "output_type": "stream",
     "text": [
      "Skewness of Distribution:  1.20656537160451\n",
      "Median of Distribution:  0.05737684438117005\n"
     ]
    }
   ],
   "source": [
    "#To get Average Cosine Similarity Score\n",
    "average = np.average(cosine_sim, axis=1)\n",
    "average_df = pd.DataFrame(average, columns = ['Avg_Sim_Score'])\n",
    "\n",
    "#To sort Data\n",
    "average_for_sorting = average_df\n",
    "sorted_average = average_for_sorting.sort_values(by = 'Avg_Sim_Score', ascending = False)\n",
    "\n",
    "#To get Skewness Of Distribution\n",
    "print('Skewness of Distribution: ', skew(average))\n",
    "\n",
    "#To get Median Of Distribution\n",
    "median = statistics.median(average)\n",
    "print('Median of Distribution: ', median)"
   ]
  },
  {
   "cell_type": "code",
   "execution_count": 7,
   "id": "5c1a48c7",
   "metadata": {},
   "outputs": [
    {
     "name": "stdout",
     "output_type": "stream",
     "text": [
      "Simlar Scores Dataset Dimensions:  (281, 13)\n",
      "Disimlar Scores Dataset Dimensions:  (281, 13)\n"
     ]
    }
   ],
   "source": [
    "#To add Column in DataFrame\n",
    "duplicate_test.insert(loc = 7, column = 'Average_Cos_Similarity_Score', value = average_df.values)\n",
    "\n",
    "similar_score = duplicate_test[duplicate_test['Average_Cos_Similarity_Score'] >= median]\n",
    "dissimilar_score = duplicate_test[duplicate_test['Average_Cos_Similarity_Score'] < median]\n",
    "\n",
    "print('Simlar Scores Dataset Dimensions: ', similar_score.shape)\n",
    "print('Disimlar Scores Dataset Dimensions: ', dissimilar_score.shape)\n",
    "\n",
    "#To get Average Similarity Scores \n",
    "scores = sorted_average['Avg_Sim_Score'].values.tolist()"
   ]
  },
  {
   "cell_type": "code",
   "execution_count": 8,
   "id": "91c3f798",
   "metadata": {},
   "outputs": [],
   "source": [
    "#To get data for BoxPlot\n",
    "\n",
    "def get_box_plot_data(scores, title):\n",
    "    scores_df = pd.DataFrame(scores)\n",
    "    \n",
    "    labels = ['Scores']\n",
    "    plt.boxplot([scores], labels = labels)\n",
    "    plt.ylabel('Cosine Similarity')\n",
    "    plt.title(title)\n",
    "    plt.show()\n",
    "    \n",
    "    scores_desc = {}\n",
    "    scores_desc['lower_quartile'] = scores_df.describe().loc['25%']\n",
    "    scores_desc['median'] = scores_df.describe().loc['50%']\n",
    "    scores_desc['upper_quartile'] = scores_df.describe().loc['75%']\n",
    "        \n",
    "    return pd.DataFrame(scores_desc)"
   ]
  },
  {
   "cell_type": "code",
   "execution_count": 9,
   "id": "27751844",
   "metadata": {
    "scrolled": true
   },
   "outputs": [
    {
     "data": {
      "image/png": "[encoded data removed]",
      "text/plain": [
       "<Figure size 640x480 with 1 Axes>"
      ]
     },
     "metadata": {},
     "output_type": "display_data"
    },
    {
     "data": {
      "text/html": [
       "<div>\n",
       "<style scoped>\n",
       "    .dataframe tbody tr th:only-of-type {\n",
       "        vertical-align: middle;\n",
       "    }\n",
       "\n",
       "    .dataframe tbody tr th {\n",
       "        vertical-align: top;\n",
       "    }\n",
       "\n",
       "    .dataframe thead th {\n",
       "        text-align: right;\n",
       "    }\n",
       "</style>\n",
       "<table border=\"1\" class=\"dataframe\">\n",
       "  <thead>\n",
       "    <tr style=\"text-align: right;\">\n",
       "      <th></th>\n",
       "      <th>lower_quartile</th>\n",
       "      <th>median</th>\n",
       "      <th>upper_quartile</th>\n",
       "    </tr>\n",
       "  </thead>\n",
       "  <tbody>\n",
       "    <tr>\n",
       "      <th>0</th>\n",
       "      <td>0.040302</td>\n",
       "      <td>0.057377</td>\n",
       "      <td>0.08148</td>\n",
       "    </tr>\n",
       "  </tbody>\n",
       "</table>\n",
       "</div>"
      ],
      "text/plain": [
       "   lower_quartile    median  upper_quartile\n",
       "0        0.040302  0.057377         0.08148"
      ]
     },
     "execution_count": 9,
     "metadata": {},
     "output_type": "execute_result"
    }
   ],
   "source": [
    "#To plot Box-Plot\n",
    "result = get_box_plot_data(scores, 'Mobile')\n",
    "\n",
    "#To get Description of Scores\n",
    "result.head()"
   ]
  },
  {
   "cell_type": "code",
   "execution_count": 10,
   "id": "ad34e7df",
   "metadata": {},
   "outputs": [
    {
     "name": "stdout",
     "output_type": "stream",
     "text": [
      "Dimensions of Filtered Data with Similar Duplicate Bugs:  (141, 13)\n",
      "Dimensions of Filtered Data with Dissimilar Duplicate Bugs:  (141, 13)\n"
     ]
    }
   ],
   "source": [
    "#Lower and Upper Limit\n",
    "lower_limit = result.iloc[0][0]\n",
    "upper_limit = result.iloc[0][2]\n",
    "\n",
    "#To Filter data for Similar Bugs\n",
    "similar_final_score = duplicate_test[duplicate_test['Average_Cos_Similarity_Score'] >= upper_limit]\n",
    "\n",
    "#To Filter data for Dissimilar Bugs\n",
    "dissimilar_final_score = duplicate_test[duplicate_test['Average_Cos_Similarity_Score'] <= lower_limit]\n",
    "\n",
    "print('Dimensions of Filtered Data with Similar Duplicate Bugs: ', similar_final_score.shape)\n",
    "print('Dimensions of Filtered Data with Dissimilar Duplicate Bugs: ', dissimilar_final_score.shape)"
   ]
  },
  {
   "cell_type": "markdown",
   "id": "5d20c7f3",
   "metadata": {},
   "source": [
    "# Unigram"
   ]
  },
  {
   "cell_type": "code",
   "execution_count": 11,
   "id": "5613c25f",
   "metadata": {},
   "outputs": [
    {
     "name": "stdout",
     "output_type": "stream",
     "text": [
      "Cosine Similarity Matrix:\n",
      "[[1.         0.04246202 0.05574089 ... 0.00927583 0.00489032 0.0092107 ]\n",
      " [0.04246202 1.         0.09862302 ... 0.01226055 0.01135518 0.01217447]\n",
      " [0.05574089 0.09862302 1.         ... 0.03048638 0.02652066 0.03124805]\n",
      " ...\n",
      " [0.00927583 0.01226055 0.03048638 ... 1.         0.99232143 0.99895438]\n",
      " [0.00489032 0.01135518 0.02652066 ... 0.99232143 1.         0.99181753]\n",
      " [0.0092107  0.01217447 0.03124805 ... 0.99895438 0.99181753 1.        ]]\n",
      "Cosine Similarity Matrix Dimensions:  (562, 562)\n"
     ]
    }
   ],
   "source": [
    "#Unigram\n",
    "unigram_vector = TfidfVectorizer(analyzer='word', ngram_range=(1,1), lowercase=True, min_df=2)\n",
    "\n",
    "unigram = unigram_vector.fit_transform(ted)\n",
    "\n",
    "unigram_cosine_sim = cosine_similarity(unigram, unigram)\n",
    "\n",
    "print('Cosine Similarity Matrix:')\n",
    "print(unigram_cosine_sim)\n",
    "print('Cosine Similarity Matrix Dimensions: ', unigram_cosine_sim.shape)"
   ]
  },
  {
   "cell_type": "code",
   "execution_count": 12,
   "id": "81b913ed",
   "metadata": {},
   "outputs": [
    {
     "name": "stdout",
     "output_type": "stream",
     "text": [
      "Skewness of Distribution:  1.0962665741732966\n",
      "Median of Distribution:  0.06785992311407305\n"
     ]
    }
   ],
   "source": [
    "#To get Average Unigram Cosine Similarity Score\n",
    "unigram_average = np.average(unigram_cosine_sim, axis=1)\n",
    "unigram_average_df = pd.DataFrame(unigram_average, columns = ['Avg_Sim_Score'])\n",
    "\n",
    "#To sort Data\n",
    "unigram_average_for_sorting = pd.DataFrame(unigram_average_df)\n",
    "sorted_unigram_average = unigram_average_for_sorting.sort_values(by = 'Avg_Sim_Score', ascending = False)\n",
    "\n",
    "#To get Skewness Of Distribution\n",
    "print('Skewness of Distribution: ', skew(unigram_average))\n",
    "\n",
    "#To get Median Of Distribution\n",
    "unigram_median = statistics.median(unigram_average)\n",
    "print('Median of Distribution: ', unigram_median)\n",
    "\n",
    "#To get Unigram Scores\n",
    "unigram_scores = sorted_unigram_average['Avg_Sim_Score'].values.tolist()"
   ]
  },
  {
   "cell_type": "code",
   "execution_count": 13,
   "id": "19c08927",
   "metadata": {},
   "outputs": [
    {
     "data": {
      "image/png": "[encoded data removed]",
      "text/plain": [
       "<Figure size 640x480 with 1 Axes>"
      ]
     },
     "metadata": {},
     "output_type": "display_data"
    },
    {
     "data": {
      "text/html": [
       "<div>\n",
       "<style scoped>\n",
       "    .dataframe tbody tr th:only-of-type {\n",
       "        vertical-align: middle;\n",
       "    }\n",
       "\n",
       "    .dataframe tbody tr th {\n",
       "        vertical-align: top;\n",
       "    }\n",
       "\n",
       "    .dataframe thead th {\n",
       "        text-align: right;\n",
       "    }\n",
       "</style>\n",
       "<table border=\"1\" class=\"dataframe\">\n",
       "  <thead>\n",
       "    <tr style=\"text-align: right;\">\n",
       "      <th></th>\n",
       "      <th>lower_quartile</th>\n",
       "      <th>median</th>\n",
       "      <th>upper_quartile</th>\n",
       "    </tr>\n",
       "  </thead>\n",
       "  <tbody>\n",
       "    <tr>\n",
       "      <th>0</th>\n",
       "      <td>0.048793</td>\n",
       "      <td>0.06786</td>\n",
       "      <td>0.094407</td>\n",
       "    </tr>\n",
       "  </tbody>\n",
       "</table>\n",
       "</div>"
      ],
      "text/plain": [
       "   lower_quartile   median  upper_quartile\n",
       "0        0.048793  0.06786        0.094407"
      ]
     },
     "execution_count": 13,
     "metadata": {},
     "output_type": "execute_result"
    }
   ],
   "source": [
    "#To plot Box-Plot\n",
    "result = get_box_plot_data(unigram_scores, 'Mobile with Unigram')\n",
    "\n",
    "#To get Description of Unigram Scores\n",
    "result.head()"
   ]
  },
  {
   "cell_type": "code",
   "execution_count": 14,
   "id": "5dee9e2e",
   "metadata": {},
   "outputs": [
    {
     "name": "stdout",
     "output_type": "stream",
     "text": [
      "Dimensions of Filtered Data with Similar Duplicate Bugs using Unigram:  (122, 13)\n",
      "Dimensions of Filtered Data with Dissimilar Duplicate Bugs using Unigram:  (199, 13)\n"
     ]
    }
   ],
   "source": [
    "#Lower and Upper Limit\n",
    "lower_limit = result.iloc[0][0]\n",
    "upper_limit = result.iloc[0][2]\n",
    "\n",
    "#To Filter data for Similar Bugs\n",
    "similar_unigram_score = duplicate_test[duplicate_test['Average_Cos_Similarity_Score'] >= upper_limit]\n",
    "\n",
    "#To Filter data for Dissimilar Bugs\n",
    "dissimilar_unigram_score = duplicate_test[duplicate_test['Average_Cos_Similarity_Score'] <= lower_limit]\n",
    "\n",
    "print('Dimensions of Filtered Data with Similar Duplicate Bugs using Unigram: ', similar_unigram_score.shape)\n",
    "print('Dimensions of Filtered Data with Dissimilar Duplicate Bugs using Unigram: ', dissimilar_unigram_score.shape)\n",
    "\n",
    "#Download to csv\n",
    "# similar_unigram_score.to_csv(\"Mobile_textually_similar_unigram_final.csv\",index=False)\n",
    "# dissimilar_unigram_score.to_csv(\"Mobile_textually_dissimilar_unigram_final.csv\",index=False)"
   ]
  },
  {
   "cell_type": "markdown",
   "id": "d9b61673",
   "metadata": {},
   "source": [
    "# Bigram"
   ]
  },
  {
   "cell_type": "code",
   "execution_count": 15,
   "id": "d8abb012",
   "metadata": {},
   "outputs": [
    {
     "name": "stdout",
     "output_type": "stream",
     "text": [
      "Cosine Similarity Matrix:\n",
      "[[1.         0.02522813 0.0310252  ... 0.00533419 0.00277215 0.00530103]\n",
      " [0.02522813 1.         0.05589652 ... 0.00717946 0.00655449 0.00713482]\n",
      " [0.0310252  0.05589652 1.         ... 0.01672415 0.0143412  0.01715586]\n",
      " ...\n",
      " [0.00533419 0.00717946 0.01672415 ... 1.         0.99121391 0.99886273]\n",
      " [0.00277215 0.00655449 0.0143412  ... 0.99121391 1.         0.99042036]\n",
      " [0.00530103 0.00713482 0.01715586 ... 0.99886273 0.99042036 1.        ]]\n",
      "Cosine Similarity Matrix Dimensions:  (562, 562)\n"
     ]
    }
   ],
   "source": [
    "#Bigram\n",
    "bigram_vector = TfidfVectorizer(analyzer='word', ngram_range=(1,2), lowercase=True, min_df=2)\n",
    "\n",
    "bigram = bigram_vector.fit_transform(ted)\n",
    "\n",
    "bigram_cosine_sim = cosine_similarity(bigram, bigram)\n",
    "\n",
    "print('Cosine Similarity Matrix:')\n",
    "print(bigram_cosine_sim)\n",
    "print('Cosine Similarity Matrix Dimensions: ', bigram_cosine_sim.shape)"
   ]
  },
  {
   "cell_type": "code",
   "execution_count": 16,
   "id": "f7f81f95",
   "metadata": {},
   "outputs": [
    {
     "name": "stdout",
     "output_type": "stream",
     "text": [
      "Skewness of Distribution:  1.373813151215287\n",
      "Median of Distribution:  0.0451110828595558\n"
     ]
    }
   ],
   "source": [
    "#To get Average Bigram Cosine Similarity Score\n",
    "bigram_average = np.average(bigram_cosine_sim, axis=1)\n",
    "bigram_average_df = pd.DataFrame(bigram_average, columns = ['Avg_Sim_Score'])\n",
    "\n",
    "#To sort Data\n",
    "bigram_average_for_sorting = bigram_average_df\n",
    "sorted_bigram_average = bigram_average_for_sorting.sort_values(by = 'Avg_Sim_Score', ascending = False)\n",
    "\n",
    "#To get Skewness Of Distribution\n",
    "print('Skewness of Distribution: ', skew(bigram_average))\n",
    "\n",
    "#To get Median Of Distribution\n",
    "bigram_median = statistics.median(bigram_average)\n",
    "print('Median of Distribution: ', bigram_median)\n",
    "\n",
    "#To get Bigram Scores\n",
    "bigram_scores = sorted_bigram_average['Avg_Sim_Score'].values.tolist()"
   ]
  },
  {
   "cell_type": "code",
   "execution_count": 17,
   "id": "6d63ef47",
   "metadata": {
    "scrolled": true
   },
   "outputs": [
    {
     "data": {
      "image/png": "[encoded data removed]",
      "text/plain": [
       "<Figure size 640x480 with 1 Axes>"
      ]
     },
     "metadata": {},
     "output_type": "display_data"
    },
    {
     "data": {
      "text/html": [
       "<div>\n",
       "<style scoped>\n",
       "    .dataframe tbody tr th:only-of-type {\n",
       "        vertical-align: middle;\n",
       "    }\n",
       "\n",
       "    .dataframe tbody tr th {\n",
       "        vertical-align: top;\n",
       "    }\n",
       "\n",
       "    .dataframe thead th {\n",
       "        text-align: right;\n",
       "    }\n",
       "</style>\n",
       "<table border=\"1\" class=\"dataframe\">\n",
       "  <thead>\n",
       "    <tr style=\"text-align: right;\">\n",
       "      <th></th>\n",
       "      <th>lower_quartile</th>\n",
       "      <th>median</th>\n",
       "      <th>upper_quartile</th>\n",
       "    </tr>\n",
       "  </thead>\n",
       "  <tbody>\n",
       "    <tr>\n",
       "      <th>0</th>\n",
       "      <td>0.031624</td>\n",
       "      <td>0.045111</td>\n",
       "      <td>0.063928</td>\n",
       "    </tr>\n",
       "  </tbody>\n",
       "</table>\n",
       "</div>"
      ],
      "text/plain": [
       "   lower_quartile    median  upper_quartile\n",
       "0        0.031624  0.045111        0.063928"
      ]
     },
     "execution_count": 17,
     "metadata": {},
     "output_type": "execute_result"
    }
   ],
   "source": [
    "#To plot Box-Plot\n",
    "result = get_box_plot_data(bigram_scores, 'Mobile with Bigram')\n",
    "\n",
    "#To get Description of Unigram Scores\n",
    "result.head()"
   ]
  },
  {
   "cell_type": "code",
   "execution_count": 18,
   "id": "c8a3fb2c",
   "metadata": {},
   "outputs": [
    {
     "name": "stdout",
     "output_type": "stream",
     "text": [
      "Dimensions of Filtered Data with Similar Duplicate Bugs using Bigram:  (141, 14)\n",
      "Dimensions of Filtered Data with Dissimilar Duplicate Bugs using Bigram:  (141, 14)\n"
     ]
    }
   ],
   "source": [
    "#Lower and Upper Limit\n",
    "lower_limit = result.iloc[0][0]\n",
    "upper_limit = result.iloc[0][2]\n",
    "\n",
    "#To add Column in DataFrame\n",
    "duplicate_test.insert(loc = 7, column = 'Average_Cos_Similarity_Bigram', value = bigram_average_df.values)\n",
    "\n",
    "#To Filter data for Similar Bugs\n",
    "similar_bigram_score = duplicate_test[duplicate_test['Average_Cos_Similarity_Bigram'] >= upper_limit]\n",
    "\n",
    "#To Filter data for Dissimilar Bugs\n",
    "dissimilar_bigram_score = duplicate_test[duplicate_test['Average_Cos_Similarity_Bigram'] <= lower_limit]\n",
    "\n",
    "print('Dimensions of Filtered Data with Similar Duplicate Bugs using Bigram: ', similar_bigram_score.shape)\n",
    "print('Dimensions of Filtered Data with Dissimilar Duplicate Bugs using Bigram: ', dissimilar_bigram_score.shape)\n",
    "\n",
    "#Download to csv\n",
    "# similar_bigram_score.to_csv(\"Mobile_textually_similar_bigram_final.csv\",index=False)\n",
    "# dissimilar_bigram_score.to_csv(\"Mobile_textually_dissimilar_bigram_final.csv\",index=False)"
   ]
  },
  {
   "cell_type": "markdown",
   "id": "633dad72",
   "metadata": {},
   "source": [
    "# Trigram"
   ]
  },
  {
   "cell_type": "code",
   "execution_count": 19,
   "id": "1e9dae53",
   "metadata": {},
   "outputs": [
    {
     "name": "stdout",
     "output_type": "stream",
     "text": [
      "Cosine Similarity Matrix:\n",
      "[[1.         0.02361163 0.02642169 ... 0.00460778 0.0023603  0.00458376]\n",
      " [0.02361163 1.         0.04669972 ... 0.00608413 0.00547486 0.00605241]\n",
      " [0.02642169 0.04669972 1.         ... 0.01289602 0.01089995 0.01324227]\n",
      " ...\n",
      " [0.00460778 0.00608413 0.01289602 ... 1.         0.98972238 0.9986182 ]\n",
      " [0.0023603  0.00547486 0.01089995 ... 0.98972238 1.         0.98873356]\n",
      " [0.00458376 0.00605241 0.01324227 ... 0.9986182  0.98873356 1.        ]]\n",
      "Cosine Similarity Matrix Dimensions:  (562, 562)\n"
     ]
    }
   ],
   "source": [
    "#Trigram\n",
    "trigram_vector = TfidfVectorizer(analyzer='word', ngram_range=(1,3), lowercase=True, min_df=2)\n",
    "\n",
    "trigram = trigram_vector.fit_transform(ted)\n",
    "\n",
    "trigram_cosine_sim = cosine_similarity(trigram, trigram)\n",
    "\n",
    "print('Cosine Similarity Matrix:')\n",
    "print(trigram_cosine_sim)\n",
    "print('Cosine Similarity Matrix Dimensions: ', trigram_cosine_sim.shape)"
   ]
  },
  {
   "cell_type": "code",
   "execution_count": 20,
   "id": "954bdefb",
   "metadata": {},
   "outputs": [
    {
     "name": "stdout",
     "output_type": "stream",
     "text": [
      "Skewness of Distribution:  1.4730488219169071\n",
      "Median of Distribution:  0.040260184440509286\n"
     ]
    }
   ],
   "source": [
    "#To get Average Of Distribution\n",
    "trigram_average = np.average(trigram_cosine_sim, axis=1)\n",
    "trigram_average_df = pd.DataFrame(trigram_average, columns = ['Avg_Sim_Score'])\n",
    "\n",
    "#To sort Data\n",
    "trigram_average_for_sorting = trigram_average_df\n",
    "sorted_trigram_average = trigram_average_for_sorting.sort_values(by = 'Avg_Sim_Score', ascending = False)\n",
    "\n",
    "#To get Skewness Of Distribution\n",
    "print('Skewness of Distribution: ', skew(trigram_average))\n",
    "\n",
    "#To get Median Of Distribution\n",
    "trigram_median = statistics.median(trigram_average)\n",
    "print('Median of Distribution: ', trigram_median)\n",
    "\n",
    "#To get Trigram Scores\n",
    "trigram_scores = sorted_trigram_average['Avg_Sim_Score'].values.tolist()"
   ]
  },
  {
   "cell_type": "code",
   "execution_count": 21,
   "id": "bf85307a",
   "metadata": {},
   "outputs": [
    {
     "data": {
      "image/png": "[encoded data removed]",
      "text/plain": [
       "<Figure size 640x480 with 1 Axes>"
      ]
     },
     "metadata": {},
     "output_type": "display_data"
    },
    {
     "data": {
      "text/html": [
       "<div>\n",
       "<style scoped>\n",
       "    .dataframe tbody tr th:only-of-type {\n",
       "        vertical-align: middle;\n",
       "    }\n",
       "\n",
       "    .dataframe tbody tr th {\n",
       "        vertical-align: top;\n",
       "    }\n",
       "\n",
       "    .dataframe thead th {\n",
       "        text-align: right;\n",
       "    }\n",
       "</style>\n",
       "<table border=\"1\" class=\"dataframe\">\n",
       "  <thead>\n",
       "    <tr style=\"text-align: right;\">\n",
       "      <th></th>\n",
       "      <th>lower_quartile</th>\n",
       "      <th>median</th>\n",
       "      <th>upper_quartile</th>\n",
       "    </tr>\n",
       "  </thead>\n",
       "  <tbody>\n",
       "    <tr>\n",
       "      <th>0</th>\n",
       "      <td>0.028266</td>\n",
       "      <td>0.04026</td>\n",
       "      <td>0.056586</td>\n",
       "    </tr>\n",
       "  </tbody>\n",
       "</table>\n",
       "</div>"
      ],
      "text/plain": [
       "   lower_quartile   median  upper_quartile\n",
       "0        0.028266  0.04026        0.056586"
      ]
     },
     "execution_count": 21,
     "metadata": {},
     "output_type": "execute_result"
    }
   ],
   "source": [
    "#To plot Box-Plot\n",
    "result = get_box_plot_data(trigram_scores, 'Mobile with Trigram')\n",
    "\n",
    "#To get Description of Unigram Scores\n",
    "result.head()"
   ]
  },
  {
   "cell_type": "code",
   "execution_count": 22,
   "id": "52cc7ea8",
   "metadata": {},
   "outputs": [
    {
     "name": "stdout",
     "output_type": "stream",
     "text": [
      "Dimensions of Filtered Data with Similar Duplicate Bugs using Trigram:  (141, 15)\n",
      "Dimensions of Filtered Data with Dissimilar Duplicate Bugs using Trigram:  (141, 15)\n"
     ]
    }
   ],
   "source": [
    "#Lower and Upper Limit\n",
    "lower_limit = result.iloc[0][0]\n",
    "upper_limit = result.iloc[0][2]\n",
    "\n",
    "#To add Column in DataFrame\n",
    "duplicate_test.insert(loc = 7, column = 'Average_Cos_Similarity_Trigram', value = trigram_average_df.values)\n",
    "\n",
    "#To Filter data for Similar Bugs\n",
    "similar_trigram_score = duplicate_test[duplicate_test['Average_Cos_Similarity_Trigram'] >= upper_limit]\n",
    "\n",
    "#To Filter data for Dissimilar Bugs\n",
    "dissimilar_trigram_score = duplicate_test[duplicate_test['Average_Cos_Similarity_Trigram'] <= lower_limit]\n",
    "\n",
    "print('Dimensions of Filtered Data with Similar Duplicate Bugs using Trigram: ', similar_trigram_score.shape)\n",
    "print('Dimensions of Filtered Data with Dissimilar Duplicate Bugs using Trigram: ', dissimilar_trigram_score.shape)\n",
    "\n",
    "#Download to csv\n",
    "# similar_trigram_score.to_csv(\"Mobile_textually_similar_trigram_final.csv\",index=False)\n",
    "# dissimilar_trigram_score.to_csv(\"Mobile_textually_dissimilar_trigram_final.csv\",index=False)"
   ]
  },
  {
   "cell_type": "markdown",
   "id": "fc966b2a",
   "metadata": {},
   "source": [
    "# Comparing Unigram and Bigram"
   ]
  },
  {
   "cell_type": "code",
   "execution_count": 23,
   "id": "cf93d442",
   "metadata": {},
   "outputs": [
    {
     "name": "stdout",
     "output_type": "stream",
     "text": [
      "Is Similar Unigram and Bigram Data Same?:  False\n",
      "Duplicate Bug IDs in Similar Unigram and Bigram Data:  122\n",
      "Dimensions of new Data:  (122, 14)\n"
     ]
    }
   ],
   "source": [
    "#Comparing Similar Unigram and Bigram\n",
    "print('Is Similar Unigram and Bigram Data Same?: ', similar_bigram_score['Bug ID'].equals(similar_unigram_score['Bug ID']))\n",
    "\n",
    "#To convert Data in List\n",
    "unigram_bug_list = list(similar_unigram_score['Bug ID'])\n",
    "bigram_bug_list = list(similar_bigram_score['Bug ID'])\n",
    "\n",
    "#To get Duplicate Bug IDs in Similar Unigram and Bigram Data\n",
    "count_id = 0\n",
    "dup_id_in_bug_id = []\n",
    "for i,v in enumerate(bigram_bug_list):\n",
    "    if (v in unigram_bug_list):\n",
    "        count_id +=1\n",
    "        dup_id_in_bug_id.append(v)\n",
    "        \n",
    "print('Duplicate Bug IDs in Similar Unigram and Bigram Data: ', len(dup_id_in_bug_id))\n",
    "\n",
    "#To get Similar Bigram Data present from Duplicate Bug IDs in Unigram and Bigram List \n",
    "new_sim = similar_bigram_score[similar_bigram_score['Bug ID'].isin(dup_id_in_bug_id)]\n",
    "\n",
    "print('Dimensions of new Data: ', new_sim.shape)"
   ]
  },
  {
   "cell_type": "code",
   "execution_count": 24,
   "id": "bd3a5dfb",
   "metadata": {},
   "outputs": [
    {
     "name": "stdout",
     "output_type": "stream",
     "text": [
      "Is Disimilar Unigram and Bigram Data Same?:  False\n",
      "Duplicate Bug IDs in Dissimilar Unigram and Bigram Data:  138\n",
      "Dimensions of new Data:  (138, 14)\n"
     ]
    }
   ],
   "source": [
    "#Comparing Dis-similar Unigram and Bigram\n",
    "print('Is Disimilar Unigram and Bigram Data Same?: ', dissimilar_bigram_score['Bug ID'].equals(dissimilar_unigram_score['Bug ID']))\n",
    "\n",
    "#To convert Data in List\n",
    "unigram_dis_bug_list = list(dissimilar_unigram_score['Bug ID'])\n",
    "bigram_dis_bug_list = list(dissimilar_bigram_score['Bug ID'])\n",
    "\n",
    "#To get Duplicate Bug IDs in Dissimilar Unigram and Bigram Data\n",
    "count_id = 0\n",
    "dup_id_in_bug_id_dis = []\n",
    "for i,v in enumerate(bigram_dis_bug_list):\n",
    "    if (v in unigram_dis_bug_list):\n",
    "        count_id +=1\n",
    "        dup_id_in_bug_id_dis.append(v)\n",
    "        \n",
    "print('Duplicate Bug IDs in Dissimilar Unigram and Bigram Data: ', len(dup_id_in_bug_id_dis))\n",
    "\n",
    "#To get Dissimilar Bigram Data present from Duplicate Bug IDs in Unigram and Bigram List \n",
    "new_dissim = dissimilar_bigram_score[dissimilar_bigram_score['Bug ID'].isin(dup_id_in_bug_id_dis)]\n",
    "\n",
    "print('Dimensions of new Data: ', new_dissim.shape)"
   ]
  },
  {
   "cell_type": "markdown",
   "id": "90cb7d4e",
   "metadata": {},
   "source": [
    "# Comparing Trigram and Unigram-Bigram"
   ]
  },
  {
   "cell_type": "code",
   "execution_count": 25,
   "id": "d7bd215e",
   "metadata": {},
   "outputs": [
    {
     "name": "stdout",
     "output_type": "stream",
     "text": [
      "Is Disimilar Unigram and Bigram Data Same?:  False\n",
      "Duplicate Bug IDs in Similar Trigram and Unigram-Bigram Data:  122\n",
      "Dimensions of new Data:  (122, 15)\n"
     ]
    }
   ],
   "source": [
    "#Comparing Similar Trigram and Unigram-Bigram\n",
    "print('Is Disimilar Unigram and Bigram Data Same?: ', similar_trigram_score['Bug ID'].equals(new_sim['Bug ID']))\n",
    "\n",
    "#To convert Data in List\n",
    "trigram_bug_list = list(similar_trigram_score['Bug ID'])\n",
    "unigram_bigram_bug_list = list(new_sim['Bug ID'])\n",
    "\n",
    "#To get Duplicate Bug IDs in Similar Trigram and Unigram-Bigram Data\n",
    "count_id = 0\n",
    "dup_id_in_bug_id_tri = []\n",
    "for i,v in enumerate(trigram_bug_list):\n",
    "    if (v in unigram_bigram_bug_list):\n",
    "        count_id +=1\n",
    "        dup_id_in_bug_id_tri.append(v)\n",
    "        \n",
    "print('Duplicate Bug IDs in Similar Trigram and Unigram-Bigram Data: ', len(dup_id_in_bug_id_tri))\n",
    "\n",
    "#To get Similar Trigram Data present from Duplicate Bug IDs in Trigram and Unigram-Bigram List \n",
    "final_new_sim = similar_trigram_score[similar_trigram_score['Bug ID'].isin(dup_id_in_bug_id_tri)]\n",
    "\n",
    "print('Dimensions of new Data: ', final_new_sim.shape)"
   ]
  },
  {
   "cell_type": "code",
   "execution_count": 26,
   "id": "693e3bd8",
   "metadata": {},
   "outputs": [
    {
     "name": "stdout",
     "output_type": "stream",
     "text": [
      "Is Disimilar Trigram and Unigram-Bigram Data Same?:  False\n",
      "Duplicate Bug IDs in Dissimilar Trigram and Unigram-Bigram Data:  131\n",
      "Dimensions of new Data:  (131, 15)\n"
     ]
    }
   ],
   "source": [
    "#Comparing Dissimilar Trigram and Unigram-Bigram\n",
    "print('Is Disimilar Trigram and Unigram-Bigram Data Same?: ', dissimilar_trigram_score['Bug ID'].equals(new_dissim['Bug ID']))\n",
    "\n",
    "#To convert Data in List\n",
    "trigram_dis_bug_list = list(dissimilar_trigram_score['Bug ID'])\n",
    "unigram_bigram_dis_bug_list = list(new_dissim['Bug ID'])\n",
    "\n",
    "#To get Duplicate Bug IDs in Dissimilar Trigram and Unigram-Bigram Data\n",
    "count_id = 0\n",
    "dup_id_in_bug_id_dis_tri = []\n",
    "for i,v in enumerate(trigram_dis_bug_list):\n",
    "    if (v in unigram_bigram_dis_bug_list):\n",
    "        count_id +=1\n",
    "        dup_id_in_bug_id_dis_tri.append(v)\n",
    "        \n",
    "print('Duplicate Bug IDs in Dissimilar Trigram and Unigram-Bigram Data: ', len(dup_id_in_bug_id_dis_tri))\n",
    "\n",
    "#To get Dissimilar Trigram Data present from Duplicate Bug IDs in Trigram and Unigram-Bigram List \n",
    "final_new_dissim = dissimilar_trigram_score [dissimilar_trigram_score['Bug ID'].isin(dup_id_in_bug_id_dis_tri)]\n",
    "\n",
    "print('Dimensions of new Data: ', final_new_dissim.shape)\n",
    "\n",
    "#Download to csv\n",
    "#final_new_sim.to_csv(\"Mobile_final_sim.csv\",index=False)\n",
    "#final_new_dissim.to_csv(\"Mobile_final_dis.csv\",index=False)"
   ]
  },
  {
   "cell_type": "markdown",
   "id": "daaf11c7",
   "metadata": {},
   "source": [
    "# Textually Similar"
   ]
  },
  {
   "cell_type": "code",
   "execution_count": 27,
   "id": "c68a84ac",
   "metadata": {},
   "outputs": [
    {
     "name": "stdout",
     "output_type": "stream",
     "text": [
      "Dimensions of Data After Dropping Duplicates:  (122, 15)\n"
     ]
    },
    {
     "data": {
      "text/html": [
       "<div>\n",
       "<style scoped>\n",
       "    .dataframe tbody tr th:only-of-type {\n",
       "        vertical-align: middle;\n",
       "    }\n",
       "\n",
       "    .dataframe tbody tr th {\n",
       "        vertical-align: top;\n",
       "    }\n",
       "\n",
       "    .dataframe thead th {\n",
       "        text-align: right;\n",
       "    }\n",
       "</style>\n",
       "<table border=\"1\" class=\"dataframe\">\n",
       "  <thead>\n",
       "    <tr style=\"text-align: right;\">\n",
       "      <th></th>\n",
       "      <th>Bug ID</th>\n",
       "      <th>Duplicate_Bug_Ids</th>\n",
       "      <th>Average_Cos_Similarity_Trigram</th>\n",
       "      <th>Summary1</th>\n",
       "      <th>Description1</th>\n",
       "      <th>Summary2</th>\n",
       "      <th>Description2</th>\n",
       "      <th>is_similar</th>\n",
       "    </tr>\n",
       "  </thead>\n",
       "  <tbody>\n",
       "    <tr>\n",
       "      <th>0</th>\n",
       "      <td>1536820</td>\n",
       "      <td>1535913.0</td>\n",
       "      <td>0.124524</td>\n",
       "      <td>['Intermittent org.mozilla.geckoview.test.WebE...</td>\n",
       "      <td>['  markdown   filed by  nerli  at  mozilla co...</td>\n",
       "      <td>[]</td>\n",
       "      <td>[]</td>\n",
       "      <td>1</td>\n",
       "    </tr>\n",
       "    <tr>\n",
       "      <th>1</th>\n",
       "      <td>1466482</td>\n",
       "      <td>1464351.0</td>\n",
       "      <td>0.162806</td>\n",
       "      <td>['Intermittent org.mozilla.geckoview.test.Geck...</td>\n",
       "      <td>['filed by  apavel  at  mozilla com     job id...</td>\n",
       "      <td>['Intermittent org.mozilla.geckoview.test.Geck...</td>\n",
       "      <td>['filed by  ncsoregi  at  mozilla com     job ...</td>\n",
       "      <td>1</td>\n",
       "    </tr>\n",
       "    <tr>\n",
       "      <th>2</th>\n",
       "      <td>1677708</td>\n",
       "      <td>1678895.0</td>\n",
       "      <td>0.162700</td>\n",
       "      <td>['Intermittent org.mozilla.geckoview.test.PanZ...</td>\n",
       "      <td>['  filed by    malexandru  at  mozilla com   ...</td>\n",
       "      <td>[]</td>\n",
       "      <td>[]</td>\n",
       "      <td>1</td>\n",
       "    </tr>\n",
       "    <tr>\n",
       "      <th>3</th>\n",
       "      <td>1703350</td>\n",
       "      <td>1681261.0</td>\n",
       "      <td>0.099396</td>\n",
       "      <td>['Intermittent org.mozilla.geckoview.test.Text...</td>\n",
       "      <td>['  filed by    csabou  at  mozilla com   pars...</td>\n",
       "      <td>[]</td>\n",
       "      <td>[]</td>\n",
       "      <td>1</td>\n",
       "    </tr>\n",
       "    <tr>\n",
       "      <th>4</th>\n",
       "      <td>1574141</td>\n",
       "      <td>1564920.0</td>\n",
       "      <td>0.094800</td>\n",
       "      <td>['Intermittent org.mozilla.geckoview.test.Cont...</td>\n",
       "      <td>['  filed by    cbrindusan  at  mozilla com   ...</td>\n",
       "      <td>[]</td>\n",
       "      <td>[]</td>\n",
       "      <td>1</td>\n",
       "    </tr>\n",
       "  </tbody>\n",
       "</table>\n",
       "</div>"
      ],
      "text/plain": [
       "    Bug ID  Duplicate_Bug_Ids  Average_Cos_Similarity_Trigram  \\\n",
       "0  1536820          1535913.0                        0.124524   \n",
       "1  1466482          1464351.0                        0.162806   \n",
       "2  1677708          1678895.0                        0.162700   \n",
       "3  1703350          1681261.0                        0.099396   \n",
       "4  1574141          1564920.0                        0.094800   \n",
       "\n",
       "                                            Summary1  \\\n",
       "0  ['Intermittent org.mozilla.geckoview.test.WebE...   \n",
       "1  ['Intermittent org.mozilla.geckoview.test.Geck...   \n",
       "2  ['Intermittent org.mozilla.geckoview.test.PanZ...   \n",
       "3  ['Intermittent org.mozilla.geckoview.test.Text...   \n",
       "4  ['Intermittent org.mozilla.geckoview.test.Cont...   \n",
       "\n",
       "                                        Description1  \\\n",
       "0  ['  markdown   filed by  nerli  at  mozilla co...   \n",
       "1  ['filed by  apavel  at  mozilla com     job id...   \n",
       "2  ['  filed by    malexandru  at  mozilla com   ...   \n",
       "3  ['  filed by    csabou  at  mozilla com   pars...   \n",
       "4  ['  filed by    cbrindusan  at  mozilla com   ...   \n",
       "\n",
       "                                            Summary2  \\\n",
       "0                                                 []   \n",
       "1  ['Intermittent org.mozilla.geckoview.test.Geck...   \n",
       "2                                                 []   \n",
       "3                                                 []   \n",
       "4                                                 []   \n",
       "\n",
       "                                        Description2  is_similar  \n",
       "0                                                 []           1  \n",
       "1  ['filed by  ncsoregi  at  mozilla com     job ...           1  \n",
       "2                                                 []           1  \n",
       "3                                                 []           1  \n",
       "4                                                 []           1  "
      ]
     },
     "execution_count": 27,
     "metadata": {},
     "output_type": "execute_result"
    }
   ],
   "source": [
    "#To Drop Duplicates\n",
    "df_sim = final_new_sim.drop_duplicates(subset = ['Bug ID', 'Summary','Description','Average_Cos_Similarity_Score', 'Average_Cos_Similarity_Bigram', 'Average_Cos_Similarity_Trigram','Duplicate_Bug_Ids' ], keep='first')\n",
    "\n",
    "print('Dimensions of Data After Dropping Duplicates: ', df_sim.shape)\n",
    "\n",
    "# Duplicate Pair ( b- & b+)\n",
    "sim = df_sim[['Bug ID', 'Duplicate_Bug_Ids', 'Average_Cos_Similarity_Trigram']]\n",
    "sim.reset_index(drop=True, inplace=True)\n",
    "na = sim.to_numpy()\n",
    "\n",
    "def createData(training_column, tem_column, col_index):\n",
    "    s = []\n",
    "    for i in range(0,df_sim.shape[0]):\n",
    "        tem = training_dataset.loc[training_dataset[training_column] == na[i, col_index]].copy()\n",
    "        s.append(str(tem[tem_column].values))\n",
    "    se = pd.Series(s)\n",
    "    return se.values\n",
    "\n",
    "#To add Data in Columns\n",
    "sim['Summary1'] = createData('Bug ID', 'Summary', 0)\n",
    "sim['Description1'] = createData('Bug ID', 'Description', 0)\n",
    "sim['Summary2'] = createData('Bug ID', 'Summary', 1)\n",
    "sim['Description2'] = createData('Bug ID', 'Description', 1)\n",
    "sim['is_similar'] = 1\n",
    "\n",
    "#To show Data\n",
    "sim.head()"
   ]
  },
  {
   "cell_type": "code",
   "execution_count": 28,
   "id": "385768ee",
   "metadata": {},
   "outputs": [
    {
     "name": "stdout",
     "output_type": "stream",
     "text": [
      "Dimensions of Data after Cleaning:  (50, 8)\n"
     ]
    }
   ],
   "source": [
    "#To Create a Copy\n",
    "df_sim_fin = sim.copy()\n",
    "\n",
    "#To Replace '[]' with '0' \n",
    "df_sim_fin['Summary2'] = df_sim_fin['Summary2'].replace(['[]'],'0')\n",
    "df_sim_fin['Description2'] = df_sim_fin['Description2'].replace(['[]'],'0')\n",
    "\n",
    "#To Drop rows with '0' value in 'Summary2' Column\n",
    "df_sim_fin.drop(df_sim_fin.loc[df_sim_fin['Summary2']=='0'].index, inplace=True)\n",
    "\n",
    "#To Drop rows with '0' value in 'Description2' Column\n",
    "df_sim_fin.drop(df_sim_fin.loc[df_sim_fin['Description2']=='0'].index, inplace=True)\n",
    "\n",
    "print('Dimensions of Data after Cleaning: ', df_sim_fin.shape)"
   ]
  },
  {
   "cell_type": "markdown",
   "id": "1a32e4c0",
   "metadata": {},
   "source": [
    "# Textually Dissimilar"
   ]
  },
  {
   "cell_type": "code",
   "execution_count": 29,
   "id": "d3592aa4",
   "metadata": {},
   "outputs": [
    {
     "name": "stdout",
     "output_type": "stream",
     "text": [
      "Dimensions of Data After Dropping Duplicates:  (131, 15)\n"
     ]
    },
    {
     "data": {
      "text/html": [
       "<div>\n",
       "<style scoped>\n",
       "    .dataframe tbody tr th:only-of-type {\n",
       "        vertical-align: middle;\n",
       "    }\n",
       "\n",
       "    .dataframe tbody tr th {\n",
       "        vertical-align: top;\n",
       "    }\n",
       "\n",
       "    .dataframe thead th {\n",
       "        text-align: right;\n",
       "    }\n",
       "</style>\n",
       "<table border=\"1\" class=\"dataframe\">\n",
       "  <thead>\n",
       "    <tr style=\"text-align: right;\">\n",
       "      <th></th>\n",
       "      <th>Bug ID</th>\n",
       "      <th>Duplicate_Bug_Ids</th>\n",
       "      <th>Average_Cos_Similarity_Trigram</th>\n",
       "      <th>Summary1</th>\n",
       "      <th>Description1</th>\n",
       "      <th>Summary2</th>\n",
       "      <th>Description2</th>\n",
       "      <th>is_similar</th>\n",
       "    </tr>\n",
       "  </thead>\n",
       "  <tbody>\n",
       "    <tr>\n",
       "      <th>0</th>\n",
       "      <td>1655196</td>\n",
       "      <td>1644486.0</td>\n",
       "      <td>0.022843</td>\n",
       "      <td>['High ratio of ERROR_NO_MINIDUMP_HEADER']</td>\n",
       "      <td>['talking to  gsvelto today he pointed out tha...</td>\n",
       "      <td>[]</td>\n",
       "      <td>[]</td>\n",
       "      <td>1</td>\n",
       "    </tr>\n",
       "    <tr>\n",
       "      <th>1</th>\n",
       "      <td>1482876</td>\n",
       "      <td>1482487.0</td>\n",
       "      <td>0.007713</td>\n",
       "      <td>['Storage crash: lastInsertedRowID, 32-bit onl...</td>\n",
       "      <td>['the brief crash report   thread   name  thre...</td>\n",
       "      <td>['Crash in Storage:ConcreteSQLiteDBConnection....</td>\n",
       "      <td>['this crash is happening in firefox for ios  ...</td>\n",
       "      <td>1</td>\n",
       "    </tr>\n",
       "    <tr>\n",
       "      <th>2</th>\n",
       "      <td>1331985</td>\n",
       "      <td>1355440.0</td>\n",
       "      <td>0.026783</td>\n",
       "      <td>['Crash: [UIApplication _cachedSystemAnimation...</td>\n",
       "      <td>['created attachment                   crash  ...</td>\n",
       "      <td>['Crash in UIApplication#_cachedSystemAnimatio...</td>\n",
       "      <td>['created attachment                   crash  ...</td>\n",
       "      <td>1</td>\n",
       "    </tr>\n",
       "    <tr>\n",
       "      <th>3</th>\n",
       "      <td>1494388</td>\n",
       "      <td>1460411.0</td>\n",
       "      <td>0.024667</td>\n",
       "      <td>['Remaining mochitest and reftest failures in ...</td>\n",
       "      <td>['   jobs repo try tier       revision    demo...</td>\n",
       "      <td>[]</td>\n",
       "      <td>[]</td>\n",
       "      <td>1</td>\n",
       "    </tr>\n",
       "    <tr>\n",
       "      <th>4</th>\n",
       "      <td>1568667</td>\n",
       "      <td>1568295.0</td>\n",
       "      <td>0.022837</td>\n",
       "      <td>['Extend ContentBlocking API to support Social...</td>\n",
       "      <td>['stp is a new blocklist setting we need to su...</td>\n",
       "      <td>['Expose Disconnect social tracker list (socia...</td>\n",
       "      <td>['fenix would like to expose a user setting to...</td>\n",
       "      <td>1</td>\n",
       "    </tr>\n",
       "  </tbody>\n",
       "</table>\n",
       "</div>"
      ],
      "text/plain": [
       "    Bug ID  Duplicate_Bug_Ids  Average_Cos_Similarity_Trigram  \\\n",
       "0  1655196          1644486.0                        0.022843   \n",
       "1  1482876          1482487.0                        0.007713   \n",
       "2  1331985          1355440.0                        0.026783   \n",
       "3  1494388          1460411.0                        0.024667   \n",
       "4  1568667          1568295.0                        0.022837   \n",
       "\n",
       "                                            Summary1  \\\n",
       "0         ['High ratio of ERROR_NO_MINIDUMP_HEADER']   \n",
       "1  ['Storage crash: lastInsertedRowID, 32-bit onl...   \n",
       "2  ['Crash: [UIApplication _cachedSystemAnimation...   \n",
       "3  ['Remaining mochitest and reftest failures in ...   \n",
       "4  ['Extend ContentBlocking API to support Social...   \n",
       "\n",
       "                                        Description1  \\\n",
       "0  ['talking to  gsvelto today he pointed out tha...   \n",
       "1  ['the brief crash report   thread   name  thre...   \n",
       "2  ['created attachment                   crash  ...   \n",
       "3  ['   jobs repo try tier       revision    demo...   \n",
       "4  ['stp is a new blocklist setting we need to su...   \n",
       "\n",
       "                                            Summary2  \\\n",
       "0                                                 []   \n",
       "1  ['Crash in Storage:ConcreteSQLiteDBConnection....   \n",
       "2  ['Crash in UIApplication#_cachedSystemAnimatio...   \n",
       "3                                                 []   \n",
       "4  ['Expose Disconnect social tracker list (socia...   \n",
       "\n",
       "                                        Description2  is_similar  \n",
       "0                                                 []           1  \n",
       "1  ['this crash is happening in firefox for ios  ...           1  \n",
       "2  ['created attachment                   crash  ...           1  \n",
       "3                                                 []           1  \n",
       "4  ['fenix would like to expose a user setting to...           1  "
      ]
     },
     "execution_count": 29,
     "metadata": {},
     "output_type": "execute_result"
    }
   ],
   "source": [
    "#To Drop Duplicate\n",
    "df_dissim = final_new_dissim.drop_duplicates(subset = ['Bug ID', 'Summary','Description','Average_Cos_Similarity_Score', 'Average_Cos_Similarity_Bigram', 'Average_Cos_Similarity_Trigram','Duplicate_Bug_Ids' ], keep='first')\n",
    "\n",
    "print('Dimensions of Data After Dropping Duplicates: ', df_dissim.shape)\n",
    "\n",
    "# Duplicate Pair ( b- & b+)\n",
    "dissim = df_dissim[['Bug ID', 'Duplicate_Bug_Ids', 'Average_Cos_Similarity_Trigram']]\n",
    "dissim.reset_index(drop=True, inplace=True)\n",
    "na = dissim.to_numpy()\n",
    "\n",
    "def createDataForDissimilarity(training_column, tem_column, col_index):\n",
    "    s = []\n",
    "    for i in range(0,df_dissim.shape[0]):\n",
    "        tem = training_dataset.loc[training_dataset[training_column] == na[i, col_index]]\n",
    "        s.append(str(tem[tem_column].values))\n",
    "    se = pd.Series(s)\n",
    "    return se.values\n",
    "\n",
    "#To add Data in Columns\n",
    "dissim['Summary1'] = createDataForDissimilarity('Bug ID', 'Summary', 0)\n",
    "dissim['Description1'] = createDataForDissimilarity('Bug ID', 'Description', 0)\n",
    "dissim['Summary2'] = createDataForDissimilarity('Bug ID', 'Summary', 1)\n",
    "dissim['Description2'] = createDataForDissimilarity('Bug ID', 'Description', 1)\n",
    "dissim['is_similar'] = 1\n",
    "\n",
    "#To show Data\n",
    "dissim.head()"
   ]
  },
  {
   "cell_type": "code",
   "execution_count": 30,
   "id": "f6d94b4f",
   "metadata": {},
   "outputs": [
    {
     "name": "stdout",
     "output_type": "stream",
     "text": [
      "Dimensions of Data after Cleaning:  (89, 8)\n"
     ]
    }
   ],
   "source": [
    "#To Create a Copy\n",
    "df_dissim_fin= dissim.copy()\n",
    "\n",
    "#To Replace '[]' with '0' \n",
    "df_dissim_fin['Summary2'] = df_dissim_fin['Summary2'].replace(['[]'],'0')\n",
    "df_dissim_fin['Description2'] = df_dissim_fin['Description2'].replace(['[]'],'0')\n",
    "\n",
    "#To Drop rows with '0' value in 'Summary2' Column\n",
    "df_dissim_fin.drop(df_dissim_fin.loc[df_dissim_fin['Summary2']=='0'].index, inplace=True)\n",
    "\n",
    "#To Drop rows with '0' value in 'Description2' Column\n",
    "df_dissim_fin.drop(df_dissim_fin.loc[df_dissim_fin['Description2']=='0'].index, inplace=True)\n",
    "\n",
    "print('Dimensions of Data after Cleaning: ', df_dissim_fin.shape)"
   ]
  },
  {
   "cell_type": "code",
   "execution_count": 31,
   "id": "c8e6eda3",
   "metadata": {},
   "outputs": [],
   "source": [
    "#To Download Final Processed Data\n",
    "df_sim_fin.to_csv(\"../../PreProcessedData/Mobile_textually_similar_pair.csv\")\n",
    "df_sim_fin.to_csv(\"../../PreProcessedData/Mobile_textually_dissimilar_pair.csv\")"
   ]
  },
  {
   "cell_type": "code",
   "execution_count": null,
   "id": "f73a4c5d",
   "metadata": {},
   "outputs": [],
   "source": []
  }
 ],
 "metadata": {
  "kernelspec": {
   "display_name": "Python 3 (ipykernel)",
   "language": "python",
   "name": "python3"
  },
  "language_info": {
   "codemirror_mode": {
    "name": "ipython",
    "version": 3
   },
   "file_extension": ".py",
   "mimetype": "text/x-python",
   "name": "python",
   "nbconvert_exporter": "python",
   "pygments_lexer": "ipython3",
   "version": "3.9.13"
  },
  "vscode": {
   "interpreter": {
    "hash": "1989b88a6612e39f2f477c52f763309ba9342b0bd5094b9b3fbb1f2088fe1109"
   }
  }
 },
 "nbformat": 4,
 "nbformat_minor": 5
}
