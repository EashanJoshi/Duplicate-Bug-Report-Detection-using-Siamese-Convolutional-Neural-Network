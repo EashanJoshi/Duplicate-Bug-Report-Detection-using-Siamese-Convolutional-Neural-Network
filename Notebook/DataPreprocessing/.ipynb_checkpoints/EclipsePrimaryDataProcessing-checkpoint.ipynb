{
 "cells": [
  {
   "cell_type": "code",
   "execution_count": 1,
   "id": "52e836fe",
   "metadata": {},
   "outputs": [
    {
     "name": "stderr",
     "output_type": "stream",
     "text": [
      "[nltk_data] Downloading package stopwords to\n",
      "[nltk_data]     C:\\Users\\comka\\AppData\\Roaming\\nltk_data...\n",
      "[nltk_data]   Package stopwords is already up-to-date!\n",
      "[nltk_data] Downloading package wordnet to\n",
      "[nltk_data]     C:\\Users\\comka\\AppData\\Roaming\\nltk_data...\n",
      "[nltk_data]   Package wordnet is already up-to-date!\n"
     ]
    }
   ],
   "source": [
    "import warnings\n",
    "warnings.filterwarnings('ignore')\n",
    "\n",
    "import numpy as np\n",
    "import pandas as pd\n",
    "import matplotlib.pyplot as plt\n",
    "\n",
    "import nltk\n",
    "from nltk.corpus import stopwords\n",
    "from nltk.stem import PorterStemmer\n",
    "from nltk.stem.porter import *\n",
    "nltk.download('stopwords')\n",
    "nltk.download('wordnet')\n",
    "\n",
    "import re\n",
    "import statistics\n",
    "\n",
    "from sklearn.feature_extraction.text import TfidfVectorizer\n",
    "from sklearn.metrics.pairwise import cosine_similarity\n",
    "from scipy.stats import skew"
   ]
  },
  {
   "cell_type": "code",
   "execution_count": 2,
   "id": "f8322ea4",
   "metadata": {},
   "outputs": [
    {
     "name": "stdout",
     "output_type": "stream",
     "text": [
      "Dimensions of Dataset:  (46316, 10)\n"
     ]
    }
   ],
   "source": [
    "training_dataset = pd.read_csv('../../PrimaryDataset/eclipse_preproccessed_whole_dataset.csv')\n",
    "\n",
    "print('Dimensions of Dataset: ', training_dataset.shape)"
   ]
  },
  {
   "cell_type": "code",
   "execution_count": 3,
   "id": "c972fdf8",
   "metadata": {},
   "outputs": [
    {
     "name": "stdout",
     "output_type": "stream",
     "text": [
      "NaN Values after Replacing:  46263\n",
      "Dimensions of Data with Duplicate Bug Ids:  (3238, 10)\n"
     ]
    }
   ],
   "source": [
    "#Replacing Blank Values with 'NaN' Values\n",
    "training_dataset.replace(\"\", np.nan, inplace = True)\n",
    "\n",
    "#Droping Data which has 'Nan' value for 'Description' Column\n",
    "training_dataset.dropna(subset = ['Description'], inplace = True)\n",
    "\n",
    "#Checking of any 'NaN' values are present or not.\n",
    "cond = (training_dataset['Description'] == np.nan)\n",
    "print('NaN Values after Replacing: ',len(cond))\n",
    "\n",
    "#Filtering data based on 'Duplicate_Bug_Ids' Column to get Duplicate Bugs\n",
    "duplicate_test = training_dataset[training_dataset['Duplicate_Bug_Ids'] > 0]\n",
    "print('Dimensions of Data with Duplicate Bug Ids: ', duplicate_test.shape)"
   ]
  },
  {
   "cell_type": "code",
   "execution_count": 4,
   "id": "960d5850",
   "metadata": {},
   "outputs": [
    {
     "name": "stdout",
     "output_type": "stream",
     "text": [
      "Dimensions of Data after Tokenization:  (3238, 13713)\n"
     ]
    }
   ],
   "source": [
    "#To Tokenize Data\n",
    "ted = duplicate_test['Description']\n",
    "\n",
    "tfidf = TfidfVectorizer()\n",
    "stemmer = PorterStemmer()\n",
    "\n",
    "def tokenizer(arg):\n",
    "    tokens = re.split(r'(\\W+)', arg.lower())\n",
    "    tokens = [\n",
    "        token for token in tokens\n",
    "        if re.match('\\\\w+', token) and not re.match('\\\\d+', token)\n",
    "    ]\n",
    "    \n",
    "    return list(map(stemmer.stem, tokens))\n",
    "\n",
    "tfidf.tokenizer = tokenizer\n",
    "tfidf_matrix_desc = tfidf.fit_transform(ted)\n",
    "\n",
    "print('Dimensions of Data after Tokenization: ', tfidf_matrix_desc.shape)"
   ]
  },
  {
   "cell_type": "code",
   "execution_count": 5,
   "id": "14140e37",
   "metadata": {},
   "outputs": [
    {
     "name": "stdout",
     "output_type": "stream",
     "text": [
      "Cosine Similarity Matrix:\n",
      "[[1.         0.02579    0.06066968 ... 0.00432633 0.03327533 0.05068615]\n",
      " [0.02579    1.         0.04296404 ... 0.02687507 0.05095012 0.07560723]\n",
      " [0.06066968 0.04296404 1.         ... 0.01420384 0.07776646 0.0637031 ]\n",
      " ...\n",
      " [0.00432633 0.02687507 0.01420384 ... 1.         0.03044475 0.02796393]\n",
      " [0.03327533 0.05095012 0.07776646 ... 0.03044475 1.         0.08878525]\n",
      " [0.05068615 0.07560723 0.0637031  ... 0.02796393 0.08878525 1.        ]]\n",
      "Cosine Similarity Matrix Dimensions:  (3238, 3238)\n"
     ]
    }
   ],
   "source": [
    "#To calculate Cosine Similarity\n",
    "tfidf_sim = TfidfVectorizer()\n",
    "\n",
    "tfidf_matrix = tfidf_sim.fit_transform(ted)\n",
    "\n",
    "cosine_sim = cosine_similarity(tfidf_matrix, tfidf_matrix)\n",
    "\n",
    "print('Cosine Similarity Matrix:')\n",
    "print(cosine_sim)\n",
    "print('Cosine Similarity Matrix Dimensions: ', cosine_sim.shape)"
   ]
  },
  {
   "cell_type": "code",
   "execution_count": 6,
   "id": "db46212d",
   "metadata": {},
   "outputs": [
    {
     "name": "stdout",
     "output_type": "stream",
     "text": [
      "Skewness of Distribution:  1.0574483302443363\n",
      "Median of Distribution:  0.04573175864561851\n"
     ]
    }
   ],
   "source": [
    "#To get Average Cosine Similarity Score\n",
    "average = np.average(cosine_sim, axis=1)\n",
    "average_df = pd.DataFrame(average, columns = ['Avg_Sim_Score'])\n",
    "\n",
    "#To sort Data\n",
    "average_for_sorting = average_df\n",
    "sorted_average = average_for_sorting.sort_values(by = 'Avg_Sim_Score', ascending = False)\n",
    "\n",
    "#To get Skewness Of Distribution\n",
    "print('Skewness of Distribution: ', skew(average))\n",
    "\n",
    "#To get Median Of Distribution\n",
    "median = statistics.median(average)\n",
    "print('Median of Distribution: ', median)"
   ]
  },
  {
   "cell_type": "code",
   "execution_count": 7,
   "id": "5c1a48c7",
   "metadata": {},
   "outputs": [
    {
     "name": "stdout",
     "output_type": "stream",
     "text": [
      "Simlar Scores Dataset Dimensions:  (1619, 11)\n",
      "Disimlar Scores Dataset Dimensions:  (1619, 11)\n"
     ]
    }
   ],
   "source": [
    "#To add Column in DataFrame\n",
    "duplicate_test.insert(loc = 7, column = 'Average_Cos_Similarity_Score', value = average_df.values)\n",
    "\n",
    "similar_score = duplicate_test[duplicate_test['Average_Cos_Similarity_Score'] >= median]\n",
    "dissimilar_score = duplicate_test[duplicate_test['Average_Cos_Similarity_Score'] < median]\n",
    "\n",
    "print('Simlar Scores Dataset Dimensions: ', similar_score.shape)\n",
    "print('Disimlar Scores Dataset Dimensions: ', dissimilar_score.shape)\n",
    "\n",
    "#To get Average Similarity Scores \n",
    "scores = sorted_average['Avg_Sim_Score'].values.tolist()"
   ]
  },
  {
   "cell_type": "code",
   "execution_count": 8,
   "id": "91c3f798",
   "metadata": {},
   "outputs": [],
   "source": [
    "#To get data for BoxPlot\n",
    "\n",
    "def get_box_plot_data(scores, title):\n",
    "    scores_df = pd.DataFrame(scores)\n",
    "    \n",
    "    labels = ['Scores']\n",
    "    plt.boxplot([scores], labels = labels)\n",
    "    plt.ylabel('Cosine Similarity')\n",
    "    plt.title(title)\n",
    "    plt.show()\n",
    "    \n",
    "    scores_desc = {}\n",
    "    scores_desc['lower_quartile'] = scores_df.describe().loc['25%']\n",
    "    scores_desc['median'] = scores_df.describe().loc['50%']\n",
    "    scores_desc['upper_quartile'] = scores_df.describe().loc['75%']\n",
    "        \n",
    "    return pd.DataFrame(scores_desc)"
   ]
  },
  {
   "cell_type": "code",
   "execution_count": 9,
   "id": "27751844",
   "metadata": {
    "scrolled": true
   },
   "outputs": [
    {
     "data": {
      "image/png": "[encoded data removed]",
      "text/plain": [
       "<Figure size 432x288 with 1 Axes>"
      ]
     },
     "metadata": {
      "needs_background": "light"
     },
     "output_type": "display_data"
    },
    {
     "data": {
      "text/html": [
       "<div>\n",
       "<style scoped>\n",
       "    .dataframe tbody tr th:only-of-type {\n",
       "        vertical-align: middle;\n",
       "    }\n",
       "\n",
       "    .dataframe tbody tr th {\n",
       "        vertical-align: top;\n",
       "    }\n",
       "\n",
       "    .dataframe thead th {\n",
       "        text-align: right;\n",
       "    }\n",
       "</style>\n",
       "<table border=\"1\" class=\"dataframe\">\n",
       "  <thead>\n",
       "    <tr style=\"text-align: right;\">\n",
       "      <th></th>\n",
       "      <th>lower_quartile</th>\n",
       "      <th>median</th>\n",
       "      <th>upper_quartile</th>\n",
       "    </tr>\n",
       "  </thead>\n",
       "  <tbody>\n",
       "    <tr>\n",
       "      <th>0</th>\n",
       "      <td>0.032604</td>\n",
       "      <td>0.045732</td>\n",
       "      <td>0.061941</td>\n",
       "    </tr>\n",
       "  </tbody>\n",
       "</table>\n",
       "</div>"
      ],
      "text/plain": [
       "   lower_quartile    median  upper_quartile\n",
       "0        0.032604  0.045732        0.061941"
      ]
     },
     "execution_count": 9,
     "metadata": {},
     "output_type": "execute_result"
    }
   ],
   "source": [
    "#To plot Box-Plot\n",
    "result = get_box_plot_data(scores, 'Eclipse')\n",
    "\n",
    "#To get Description of Scores\n",
    "result.head()"
   ]
  },
  {
   "cell_type": "code",
   "execution_count": 10,
   "id": "ad34e7df",
   "metadata": {},
   "outputs": [
    {
     "name": "stdout",
     "output_type": "stream",
     "text": [
      "Dimensions of Filtered Data with Similar Duplicate Bugs:  (810, 11)\n",
      "Dimensions of Filtered Data with Dissimilar Duplicate Bugs:  (810, 11)\n"
     ]
    }
   ],
   "source": [
    "#Lower and Upper Limit\n",
    "lower_limit = result.iloc[0][0]\n",
    "upper_limit = result.iloc[0][2]\n",
    "\n",
    "#To Filter data for Similar Bugs\n",
    "similar_final_score = duplicate_test[duplicate_test['Average_Cos_Similarity_Score'] >= upper_limit]\n",
    "\n",
    "#To Filter data for Dissimilar Bugs\n",
    "dissimilar_final_score = duplicate_test[duplicate_test['Average_Cos_Similarity_Score'] <= lower_limit]\n",
    "\n",
    "print('Dimensions of Filtered Data with Similar Duplicate Bugs: ', similar_final_score.shape)\n",
    "print('Dimensions of Filtered Data with Dissimilar Duplicate Bugs: ', dissimilar_final_score.shape)"
   ]
  },
  {
   "cell_type": "markdown",
   "id": "5d20c7f3",
   "metadata": {},
   "source": [
    "# Unigram"
   ]
  },
  {
   "cell_type": "code",
   "execution_count": 11,
   "id": "5613c25f",
   "metadata": {},
   "outputs": [
    {
     "name": "stdout",
     "output_type": "stream",
     "text": [
      "Cosine Similarity Matrix:\n",
      "[[1.         0.02747156 0.06741182 ... 0.00460842 0.03617896 0.05545536]\n",
      " [0.02747156 1.         0.04481647 ... 0.02687507 0.05200523 0.07765789]\n",
      " [0.06741182 0.04481647 1.         ... 0.01481625 0.08279929 0.06825199]\n",
      " ...\n",
      " [0.00460842 0.02687507 0.01481625 ... 1.         0.03107522 0.02872239]\n",
      " [0.03617896 0.05200523 0.08279929 ... 0.03107522 1.         0.09308183]\n",
      " [0.05545536 0.07765789 0.06825199 ... 0.02872239 0.09308183 1.        ]]\n",
      "Cosine Similarity Matrix Dimensions:  (3238, 3238)\n"
     ]
    }
   ],
   "source": [
    "#Unigram\n",
    "unigram_vector = TfidfVectorizer(analyzer='word', ngram_range=(1,1), lowercase=True, min_df=2)\n",
    "\n",
    "unigram = unigram_vector.fit_transform(ted)\n",
    "\n",
    "unigram_cosine_sim = cosine_similarity(unigram, unigram)\n",
    "\n",
    "print('Cosine Similarity Matrix:')\n",
    "print(unigram_cosine_sim)\n",
    "print('Cosine Similarity Matrix Dimensions: ', unigram_cosine_sim.shape)"
   ]
  },
  {
   "cell_type": "code",
   "execution_count": 12,
   "id": "81b913ed",
   "metadata": {},
   "outputs": [
    {
     "name": "stdout",
     "output_type": "stream",
     "text": [
      "Skewness of Distribution:  0.9456888348867691\n",
      "Median of Distribution:  0.05015750877049034\n"
     ]
    }
   ],
   "source": [
    "#To get Average Unigram Cosine Similarity Score\n",
    "unigram_average = np.average(unigram_cosine_sim, axis=1)\n",
    "unigram_average_df = pd.DataFrame(unigram_average, columns = ['Avg_Sim_Score'])\n",
    "\n",
    "#To sort Data\n",
    "unigram_average_for_sorting = pd.DataFrame(unigram_average_df)\n",
    "sorted_unigram_average = unigram_average_for_sorting.sort_values(by = 'Avg_Sim_Score', ascending = False)\n",
    "\n",
    "#To get Skewness Of Distribution\n",
    "print('Skewness of Distribution: ', skew(unigram_average))\n",
    "\n",
    "#To get Median Of Distribution\n",
    "unigram_median = statistics.median(unigram_average)\n",
    "print('Median of Distribution: ', unigram_median)\n",
    "\n",
    "#To get Unigram Scores\n",
    "unigram_scores = sorted_unigram_average['Avg_Sim_Score'].values.tolist()"
   ]
  },
  {
   "cell_type": "code",
   "execution_count": 13,
   "id": "19c08927",
   "metadata": {},
   "outputs": [
    {
     "data": {
      "image/png": "[encoded data removed]",
      "text/plain": [
       "<Figure size 432x288 with 1 Axes>"
      ]
     },
     "metadata": {
      "needs_background": "light"
     },
     "output_type": "display_data"
    },
    {
     "data": {
      "text/html": [
       "<div>\n",
       "<style scoped>\n",
       "    .dataframe tbody tr th:only-of-type {\n",
       "        vertical-align: middle;\n",
       "    }\n",
       "\n",
       "    .dataframe tbody tr th {\n",
       "        vertical-align: top;\n",
       "    }\n",
       "\n",
       "    .dataframe thead th {\n",
       "        text-align: right;\n",
       "    }\n",
       "</style>\n",
       "<table border=\"1\" class=\"dataframe\">\n",
       "  <thead>\n",
       "    <tr style=\"text-align: right;\">\n",
       "      <th></th>\n",
       "      <th>lower_quartile</th>\n",
       "      <th>median</th>\n",
       "      <th>upper_quartile</th>\n",
       "    </tr>\n",
       "  </thead>\n",
       "  <tbody>\n",
       "    <tr>\n",
       "      <th>0</th>\n",
       "      <td>0.036198</td>\n",
       "      <td>0.050158</td>\n",
       "      <td>0.067285</td>\n",
       "    </tr>\n",
       "  </tbody>\n",
       "</table>\n",
       "</div>"
      ],
      "text/plain": [
       "   lower_quartile    median  upper_quartile\n",
       "0        0.036198  0.050158        0.067285"
      ]
     },
     "execution_count": 13,
     "metadata": {},
     "output_type": "execute_result"
    }
   ],
   "source": [
    "#To plot Box-Plot\n",
    "result = get_box_plot_data(unigram_scores, 'Eclipse with Unigram')\n",
    "\n",
    "#To get Description of Unigram Scores\n",
    "result.head()"
   ]
  },
  {
   "cell_type": "code",
   "execution_count": 14,
   "id": "5dee9e2e",
   "metadata": {},
   "outputs": [
    {
     "name": "stdout",
     "output_type": "stream",
     "text": [
      "Dimensions of Filtered Data with Similar Duplicate Bugs using Unigram:  (639, 11)\n",
      "Dimensions of Filtered Data with Dissimilar Duplicate Bugs using Unigram:  (1025, 11)\n"
     ]
    }
   ],
   "source": [
    "#Lower and Upper Limit\n",
    "lower_limit = result.iloc[0][0]\n",
    "upper_limit = result.iloc[0][2]\n",
    "\n",
    "#To Filter data for Similar Bugs\n",
    "similar_unigram_score = duplicate_test[duplicate_test['Average_Cos_Similarity_Score'] >= upper_limit]\n",
    "\n",
    "#To Filter data for Dissimilar Bugs\n",
    "dissimilar_unigram_score = duplicate_test[duplicate_test['Average_Cos_Similarity_Score'] <= lower_limit]\n",
    "\n",
    "print('Dimensions of Filtered Data with Similar Duplicate Bugs using Unigram: ', similar_unigram_score.shape)\n",
    "print('Dimensions of Filtered Data with Dissimilar Duplicate Bugs using Unigram: ', dissimilar_unigram_score.shape)\n",
    "\n",
    "#Download to csv\n",
    "similar_unigram_score.to_csv(\"../../PreProcessedData/Eclipse/Eclipse_textually_similar_unigram_final.csv\",index=False)\n",
    "dissimilar_unigram_score.to_csv(\"../../PreProcessedData/Eclipse/Eclipse_textually_dissimilar_unigram_final.csv\",index=False)"
   ]
  },
  {
   "cell_type": "markdown",
   "id": "d9b61673",
   "metadata": {},
   "source": [
    "# Bigram"
   ]
  },
  {
   "cell_type": "code",
   "execution_count": 15,
   "id": "d8abb012",
   "metadata": {},
   "outputs": [
    {
     "name": "stdout",
     "output_type": "stream",
     "text": [
      "Cosine Similarity Matrix:\n",
      "[[1.         0.02093461 0.03557779 ... 0.00204761 0.02124545 0.03275939]\n",
      " [0.02093461 1.         0.0207871  ... 0.01049442 0.0307928  0.03808964]\n",
      " [0.03557779 0.0207871  1.         ... 0.00614572 0.04493833 0.03556006]\n",
      " ...\n",
      " [0.00204761 0.01049442 0.00614572 ... 1.         0.01622357 0.01259854]\n",
      " [0.02124545 0.0307928  0.04493833 ... 0.01622357 1.         0.05718869]\n",
      " [0.03275939 0.03808964 0.03556006 ... 0.01259854 0.05718869 1.        ]]\n",
      "Cosine Similarity Matrix Dimensions:  (3238, 3238)\n"
     ]
    }
   ],
   "source": [
    "#Bigram\n",
    "bigram_vector = TfidfVectorizer(analyzer='word', ngram_range=(1,2), lowercase=True, min_df=2)\n",
    "\n",
    "bigram = bigram_vector.fit_transform(ted)\n",
    "\n",
    "bigram_cosine_sim = cosine_similarity(bigram, bigram)\n",
    "\n",
    "print('Cosine Similarity Matrix:')\n",
    "print(bigram_cosine_sim)\n",
    "print('Cosine Similarity Matrix Dimensions: ', bigram_cosine_sim.shape)"
   ]
  },
  {
   "cell_type": "code",
   "execution_count": 16,
   "id": "f7f81f95",
   "metadata": {},
   "outputs": [
    {
     "name": "stdout",
     "output_type": "stream",
     "text": [
      "Skewness of Distribution:  1.7708793733590487\n",
      "Median of Distribution:  0.026151756809766287\n"
     ]
    }
   ],
   "source": [
    "#To get Average Bigram Cosine Similarity Score\n",
    "bigram_average = np.average(bigram_cosine_sim, axis=1)\n",
    "bigram_average_df = pd.DataFrame(bigram_average, columns = ['Avg_Sim_Score'])\n",
    "\n",
    "#To sort Data\n",
    "bigram_average_for_sorting = bigram_average_df\n",
    "sorted_bigram_average = bigram_average_for_sorting.sort_values(by = 'Avg_Sim_Score', ascending = False)\n",
    "\n",
    "#To get Skewness Of Distribution\n",
    "print('Skewness of Distribution: ', skew(bigram_average))\n",
    "\n",
    "#To get Median Of Distribution\n",
    "bigram_median = statistics.median(bigram_average)\n",
    "print('Median of Distribution: ', bigram_median)\n",
    "\n",
    "#To get Bigram Scores\n",
    "bigram_scores = sorted_bigram_average['Avg_Sim_Score'].values.tolist()"
   ]
  },
  {
   "cell_type": "code",
   "execution_count": 17,
   "id": "6d63ef47",
   "metadata": {
    "scrolled": true
   },
   "outputs": [
    {
     "data": {
      "image/png": "[encoded data removed]",
      "text/plain": [
       "<Figure size 432x288 with 1 Axes>"
      ]
     },
     "metadata": {
      "needs_background": "light"
     },
     "output_type": "display_data"
    },
    {
     "data": {
      "text/html": [
       "<div>\n",
       "<style scoped>\n",
       "    .dataframe tbody tr th:only-of-type {\n",
       "        vertical-align: middle;\n",
       "    }\n",
       "\n",
       "    .dataframe tbody tr th {\n",
       "        vertical-align: top;\n",
       "    }\n",
       "\n",
       "    .dataframe thead th {\n",
       "        text-align: right;\n",
       "    }\n",
       "</style>\n",
       "<table border=\"1\" class=\"dataframe\">\n",
       "  <thead>\n",
       "    <tr style=\"text-align: right;\">\n",
       "      <th></th>\n",
       "      <th>lower_quartile</th>\n",
       "      <th>median</th>\n",
       "      <th>upper_quartile</th>\n",
       "    </tr>\n",
       "  </thead>\n",
       "  <tbody>\n",
       "    <tr>\n",
       "      <th>0</th>\n",
       "      <td>0.019081</td>\n",
       "      <td>0.026152</td>\n",
       "      <td>0.036747</td>\n",
       "    </tr>\n",
       "  </tbody>\n",
       "</table>\n",
       "</div>"
      ],
      "text/plain": [
       "   lower_quartile    median  upper_quartile\n",
       "0        0.019081  0.026152        0.036747"
      ]
     },
     "execution_count": 17,
     "metadata": {},
     "output_type": "execute_result"
    }
   ],
   "source": [
    "#To plot Box-Plot\n",
    "result = get_box_plot_data(bigram_scores, 'Eclipse with Bigram')\n",
    "\n",
    "#To get Description of Unigram Scores\n",
    "result.head()"
   ]
  },
  {
   "cell_type": "code",
   "execution_count": 18,
   "id": "c8a3fb2c",
   "metadata": {},
   "outputs": [
    {
     "name": "stdout",
     "output_type": "stream",
     "text": [
      "Dimensions of Filtered Data with Similar Duplicate Bugs using Bigram:  (810, 12)\n",
      "Dimensions of Filtered Data with Dissimilar Duplicate Bugs using Bigram:  (810, 12)\n"
     ]
    }
   ],
   "source": [
    "#Lower and Upper Limit\n",
    "lower_limit = result.iloc[0][0]\n",
    "upper_limit = result.iloc[0][2]\n",
    "\n",
    "#To add Column in DataFrame\n",
    "duplicate_test.insert(loc = 7, column = 'Average_Cos_Similarity_Bigram', value = bigram_average_df.values)\n",
    "\n",
    "#To Filter data for Similar Bugs\n",
    "similar_bigram_score = duplicate_test[duplicate_test['Average_Cos_Similarity_Bigram'] >= upper_limit]\n",
    "\n",
    "#To Filter data for Dissimilar Bugs\n",
    "dissimilar_bigram_score = duplicate_test[duplicate_test['Average_Cos_Similarity_Bigram'] <= lower_limit]\n",
    "\n",
    "print('Dimensions of Filtered Data with Similar Duplicate Bugs using Bigram: ', similar_bigram_score.shape)\n",
    "print('Dimensions of Filtered Data with Dissimilar Duplicate Bugs using Bigram: ', dissimilar_bigram_score.shape)\n",
    "\n",
    "#Download to csv\n",
    "similar_bigram_score.to_csv(\"../../PreProcessedData/Eclipse/Eclipse_textually_similar_bigram_final.csv\",index=False)\n",
    "dissimilar_bigram_score.to_csv(\"../../PreProcessedData/Eclipse/Eclipse_textually_dissimilar_bigram_final.csv\",index=False)"
   ]
  },
  {
   "cell_type": "markdown",
   "id": "633dad72",
   "metadata": {},
   "source": [
    "# Trigram"
   ]
  },
  {
   "cell_type": "code",
   "execution_count": 19,
   "id": "1e9dae53",
   "metadata": {},
   "outputs": [
    {
     "name": "stdout",
     "output_type": "stream",
     "text": [
      "Cosine Similarity Matrix:\n",
      "[[1.         0.01678812 0.0304743  ... 0.00167457 0.0184065  0.02913531]\n",
      " [0.01678812 1.         0.01578828 ... 0.00761028 0.02365596 0.03003839]\n",
      " [0.0304743  0.01578828 1.         ... 0.00476028 0.03687447 0.02995366]\n",
      " ...\n",
      " [0.00167457 0.00761028 0.00476028 ... 1.         0.01271033 0.01013233]\n",
      " [0.0184065  0.02365596 0.03687447 ... 0.01271033 1.         0.04872458]\n",
      " [0.02913531 0.03003839 0.02995366 ... 0.01013233 0.04872458 1.        ]]\n",
      "Cosine Similarity Matrix Dimensions:  (3238, 3238)\n"
     ]
    }
   ],
   "source": [
    "#Trigram\n",
    "trigram_vector = TfidfVectorizer(analyzer='word', ngram_range=(1,3), lowercase=True, min_df=2)\n",
    "\n",
    "trigram = trigram_vector.fit_transform(ted)\n",
    "\n",
    "trigram_cosine_sim = cosine_similarity(trigram, trigram)\n",
    "\n",
    "print('Cosine Similarity Matrix:')\n",
    "print(trigram_cosine_sim)\n",
    "print('Cosine Similarity Matrix Dimensions: ', trigram_cosine_sim.shape)"
   ]
  },
  {
   "cell_type": "code",
   "execution_count": 20,
   "id": "954bdefb",
   "metadata": {},
   "outputs": [
    {
     "name": "stdout",
     "output_type": "stream",
     "text": [
      "Skewness of Distribution:  1.9482169208666797\n",
      "Median of Distribution:  0.021224629909475573\n"
     ]
    }
   ],
   "source": [
    "#To get Average Of Distribution\n",
    "trigram_average = np.average(trigram_cosine_sim, axis=1)\n",
    "trigram_average_df = pd.DataFrame(trigram_average, columns = ['Avg_Sim_Score'])\n",
    "\n",
    "#To sort Data\n",
    "trigram_average_for_sorting = trigram_average_df\n",
    "sorted_trigram_average = trigram_average_for_sorting.sort_values(by = 'Avg_Sim_Score', ascending = False)\n",
    "\n",
    "#To get Skewness Of Distribution\n",
    "print('Skewness of Distribution: ', skew(trigram_average))\n",
    "\n",
    "#To get Median Of Distribution\n",
    "trigram_median = statistics.median(trigram_average)\n",
    "print('Median of Distribution: ', trigram_median)\n",
    "\n",
    "#To get Trigram Scores\n",
    "trigram_scores = sorted_trigram_average['Avg_Sim_Score'].values.tolist()"
   ]
  },
  {
   "cell_type": "code",
   "execution_count": 21,
   "id": "bf85307a",
   "metadata": {},
   "outputs": [
    {
     "data": {
      "image/png": "[encoded data removed]",
      "text/plain": [
       "<Figure size 432x288 with 1 Axes>"
      ]
     },
     "metadata": {
      "needs_background": "light"
     },
     "output_type": "display_data"
    },
    {
     "data": {
      "text/html": [
       "<div>\n",
       "<style scoped>\n",
       "    .dataframe tbody tr th:only-of-type {\n",
       "        vertical-align: middle;\n",
       "    }\n",
       "\n",
       "    .dataframe tbody tr th {\n",
       "        vertical-align: top;\n",
       "    }\n",
       "\n",
       "    .dataframe thead th {\n",
       "        text-align: right;\n",
       "    }\n",
       "</style>\n",
       "<table border=\"1\" class=\"dataframe\">\n",
       "  <thead>\n",
       "    <tr style=\"text-align: right;\">\n",
       "      <th></th>\n",
       "      <th>lower_quartile</th>\n",
       "      <th>median</th>\n",
       "      <th>upper_quartile</th>\n",
       "    </tr>\n",
       "  </thead>\n",
       "  <tbody>\n",
       "    <tr>\n",
       "      <th>0</th>\n",
       "      <td>0.015667</td>\n",
       "      <td>0.021225</td>\n",
       "      <td>0.029742</td>\n",
       "    </tr>\n",
       "  </tbody>\n",
       "</table>\n",
       "</div>"
      ],
      "text/plain": [
       "   lower_quartile    median  upper_quartile\n",
       "0        0.015667  0.021225        0.029742"
      ]
     },
     "execution_count": 21,
     "metadata": {},
     "output_type": "execute_result"
    }
   ],
   "source": [
    "#To plot Box-Plot\n",
    "result = get_box_plot_data(trigram_scores, 'Eclipse with Trigram')\n",
    "\n",
    "#To get Description of Unigram Scores\n",
    "result.head()"
   ]
  },
  {
   "cell_type": "code",
   "execution_count": 22,
   "id": "52cc7ea8",
   "metadata": {},
   "outputs": [
    {
     "name": "stdout",
     "output_type": "stream",
     "text": [
      "Dimensions of Filtered Data with Similar Duplicate Bugs using Trigram:  (810, 13)\n",
      "Dimensions of Filtered Data with Dissimilar Duplicate Bugs using Trigram:  (810, 13)\n"
     ]
    }
   ],
   "source": [
    "#Lower and Upper Limit\n",
    "lower_limit = result.iloc[0][0]\n",
    "upper_limit = result.iloc[0][2]\n",
    "\n",
    "#To add Column in DataFrame\n",
    "duplicate_test.insert(loc = 7, column = 'Average_Cos_Similarity_Trigram', value = trigram_average_df.values)\n",
    "\n",
    "#To Filter data for Similar Bugs\n",
    "similar_trigram_score = duplicate_test[duplicate_test['Average_Cos_Similarity_Trigram'] >= upper_limit]\n",
    "\n",
    "#To Filter data for Dissimilar Bugs\n",
    "dissimilar_trigram_score = duplicate_test[duplicate_test['Average_Cos_Similarity_Trigram'] <= lower_limit]\n",
    "\n",
    "print('Dimensions of Filtered Data with Similar Duplicate Bugs using Trigram: ', similar_trigram_score.shape)\n",
    "print('Dimensions of Filtered Data with Dissimilar Duplicate Bugs using Trigram: ', dissimilar_trigram_score.shape)\n",
    "\n",
    "#Download to csv\n",
    "similar_trigram_score.to_csv(\"../../PreProcessedData/Eclipse/Eclipse_textually_similar_trigram_final.csv\",index=False)\n",
    "dissimilar_trigram_score.to_csv(\"../../PreProcessedData/Eclipse/Eclipse_textually_dissimilar_trigram_final.csv\",index=False)"
   ]
  },
  {
   "cell_type": "markdown",
   "id": "fc966b2a",
   "metadata": {},
   "source": [
    "# Comparing Unigram and Bigram"
   ]
  },
  {
   "cell_type": "code",
   "execution_count": 23,
   "id": "cf93d442",
   "metadata": {},
   "outputs": [
    {
     "name": "stdout",
     "output_type": "stream",
     "text": [
      "Is Similar Unigram and Bigram Data Same?:  False\n",
      "Duplicate Bug IDs in Similar Unigram and Bigram Data:  604\n",
      "Dimensions of new Data:  (604, 12)\n"
     ]
    }
   ],
   "source": [
    "#Comparing Similar Unigram and Bigram\n",
    "print('Is Similar Unigram and Bigram Data Same?: ', similar_bigram_score['Bug ID'].equals(similar_unigram_score['Bug ID']))\n",
    "\n",
    "#To convert Data in List\n",
    "unigram_bug_list = list(similar_unigram_score['Bug ID'])\n",
    "bigram_bug_list = list(similar_bigram_score['Bug ID'])\n",
    "\n",
    "#To get Duplicate Bug IDs in Similar Unigram and Bigram Data\n",
    "count_id = 0\n",
    "dup_id_in_bug_id = []\n",
    "for i,v in enumerate(bigram_bug_list):\n",
    "    if (v in unigram_bug_list):\n",
    "        count_id +=1\n",
    "        dup_id_in_bug_id.append(v)\n",
    "        \n",
    "print('Duplicate Bug IDs in Similar Unigram and Bigram Data: ', len(dup_id_in_bug_id))\n",
    "\n",
    "#To get Similar Bigram Data present from Duplicate Bug IDs in Unigram and Bigram List \n",
    "new_sim = similar_bigram_score[similar_bigram_score['Bug ID'].isin(dup_id_in_bug_id)]\n",
    "\n",
    "print('Dimensions of new Data: ', new_sim.shape)"
   ]
  },
  {
   "cell_type": "code",
   "execution_count": 24,
   "id": "bd3a5dfb",
   "metadata": {},
   "outputs": [
    {
     "name": "stdout",
     "output_type": "stream",
     "text": [
      "Is Disimilar Unigram and Bigram Data Same?:  False\n",
      "Duplicate Bug IDs in Dissimilar Unigram and Bigram Data:  763\n",
      "Dimensions of new Data:  (763, 12)\n"
     ]
    }
   ],
   "source": [
    "#Comparing Dis-similar Unigram and Bigram\n",
    "print('Is Disimilar Unigram and Bigram Data Same?: ', dissimilar_bigram_score['Bug ID'].equals(dissimilar_unigram_score['Bug ID']))\n",
    "\n",
    "#To convert Data in List\n",
    "unigram_dis_bug_list = list(dissimilar_unigram_score['Bug ID'])\n",
    "bigram_dis_bug_list = list(dissimilar_bigram_score['Bug ID'])\n",
    "\n",
    "#To get Duplicate Bug IDs in Dissimilar Unigram and Bigram Data\n",
    "count_id = 0\n",
    "dup_id_in_bug_id_dis = []\n",
    "for i,v in enumerate(bigram_dis_bug_list):\n",
    "    if (v in unigram_dis_bug_list):\n",
    "        count_id +=1\n",
    "        dup_id_in_bug_id_dis.append(v)\n",
    "        \n",
    "print('Duplicate Bug IDs in Dissimilar Unigram and Bigram Data: ', len(dup_id_in_bug_id_dis))\n",
    "\n",
    "#To get Dissimilar Bigram Data present from Duplicate Bug IDs in Unigram and Bigram List \n",
    "new_dissim = dissimilar_bigram_score[dissimilar_bigram_score['Bug ID'].isin(dup_id_in_bug_id_dis)]\n",
    "\n",
    "print('Dimensions of new Data: ', new_dissim.shape)"
   ]
  },
  {
   "cell_type": "markdown",
   "id": "90cb7d4e",
   "metadata": {},
   "source": [
    "# Comparing Trigram and Unigram-Bigram"
   ]
  },
  {
   "cell_type": "code",
   "execution_count": 25,
   "id": "d7bd215e",
   "metadata": {},
   "outputs": [
    {
     "name": "stdout",
     "output_type": "stream",
     "text": [
      "Is Disimilar Unigram and Bigram Data Same?:  False\n",
      "Duplicate Bug IDs in Similar Trigram and Unigram-Bigram Data:  593\n",
      "Dimensions of new Data:  (593, 13)\n"
     ]
    }
   ],
   "source": [
    "#Comparing Similar Trigram and Unigram-Bigram\n",
    "print('Is Disimilar Unigram and Bigram Data Same?: ', similar_trigram_score['Bug ID'].equals(new_sim['Bug ID']))\n",
    "\n",
    "#To convert Data in List\n",
    "trigram_bug_list = list(similar_trigram_score['Bug ID'])\n",
    "unigram_bigram_bug_list = list(new_sim['Bug ID'])\n",
    "\n",
    "#To get Duplicate Bug IDs in Similar Trigram and Unigram-Bigram Data\n",
    "count_id = 0\n",
    "dup_id_in_bug_id_tri = []\n",
    "for i,v in enumerate(trigram_bug_list):\n",
    "    if (v in unigram_bigram_bug_list):\n",
    "        count_id +=1\n",
    "        dup_id_in_bug_id_tri.append(v)\n",
    "        \n",
    "print('Duplicate Bug IDs in Similar Trigram and Unigram-Bigram Data: ', len(dup_id_in_bug_id_tri))\n",
    "\n",
    "#To get Similar Trigram Data present from Duplicate Bug IDs in Trigram and Unigram-Bigram List \n",
    "final_new_sim = similar_trigram_score[similar_trigram_score['Bug ID'].isin(dup_id_in_bug_id_tri)]\n",
    "\n",
    "print('Dimensions of new Data: ', final_new_sim.shape)"
   ]
  },
  {
   "cell_type": "code",
   "execution_count": 26,
   "id": "693e3bd8",
   "metadata": {},
   "outputs": [
    {
     "name": "stdout",
     "output_type": "stream",
     "text": [
      "Is Disimilar Trigram and Unigram-Bigram Data Same?:  False\n",
      "Duplicate Bug IDs in Dissimilar Trigram and Unigram-Bigram Data:  723\n",
      "Dimensions of new Data:  (723, 13)\n"
     ]
    }
   ],
   "source": [
    "#Comparing Dissimilar Trigram and Unigram-Bigram\n",
    "print('Is Disimilar Trigram and Unigram-Bigram Data Same?: ', dissimilar_trigram_score['Bug ID'].equals(new_dissim['Bug ID']))\n",
    "\n",
    "#To convert Data in List\n",
    "trigram_dis_bug_list = list(dissimilar_trigram_score['Bug ID'])\n",
    "unigram_bigram_dis_bug_list = list(new_dissim['Bug ID'])\n",
    "\n",
    "#To get Duplicate Bug IDs in Dissimilar Trigram and Unigram-Bigram Data\n",
    "count_id = 0\n",
    "dup_id_in_bug_id_dis_tri = []\n",
    "for i,v in enumerate(trigram_dis_bug_list):\n",
    "    if (v in unigram_bigram_dis_bug_list):\n",
    "        count_id +=1\n",
    "        dup_id_in_bug_id_dis_tri.append(v)\n",
    "        \n",
    "print('Duplicate Bug IDs in Dissimilar Trigram and Unigram-Bigram Data: ', len(dup_id_in_bug_id_dis_tri))\n",
    "\n",
    "#To get Dissimilar Trigram Data present from Duplicate Bug IDs in Trigram and Unigram-Bigram List \n",
    "final_new_dissim = dissimilar_trigram_score [dissimilar_trigram_score['Bug ID'].isin(dup_id_in_bug_id_dis_tri)]\n",
    "\n",
    "print('Dimensions of new Data: ', final_new_dissim.shape)\n",
    "\n",
    "#Download to csv\n",
    "final_new_sim.to_csv(\"../../PreProcessedData/Eclipse/Eclipse_final_sim.csv\",index=False)\n",
    "final_new_dissim.to_csv(\"../../PreProcessedData/Eclipse/Eclipse_final_dis.csv\",index=False)"
   ]
  },
  {
   "cell_type": "markdown",
   "id": "daaf11c7",
   "metadata": {},
   "source": [
    "# Textually Similar"
   ]
  },
  {
   "cell_type": "code",
   "execution_count": 27,
   "id": "c68a84ac",
   "metadata": {},
   "outputs": [
    {
     "name": "stdout",
     "output_type": "stream",
     "text": [
      "Dimensions of Data After Dropping Duplicates:  (593, 13)\n"
     ]
    },
    {
     "data": {
      "text/html": [
       "<div>\n",
       "<style scoped>\n",
       "    .dataframe tbody tr th:only-of-type {\n",
       "        vertical-align: middle;\n",
       "    }\n",
       "\n",
       "    .dataframe tbody tr th {\n",
       "        vertical-align: top;\n",
       "    }\n",
       "\n",
       "    .dataframe thead th {\n",
       "        text-align: right;\n",
       "    }\n",
       "</style>\n",
       "<table border=\"1\" class=\"dataframe\">\n",
       "  <thead>\n",
       "    <tr style=\"text-align: right;\">\n",
       "      <th></th>\n",
       "      <th>Bug ID</th>\n",
       "      <th>Duplicate_Bug_Ids</th>\n",
       "      <th>Average_Cos_Similarity_Trigram</th>\n",
       "      <th>Summary1</th>\n",
       "      <th>Description1</th>\n",
       "      <th>Summary2</th>\n",
       "      <th>Description2</th>\n",
       "      <th>is_similar</th>\n",
       "    </tr>\n",
       "  </thead>\n",
       "  <tbody>\n",
       "    <tr>\n",
       "      <th>0</th>\n",
       "      <td>526539.0</td>\n",
       "      <td>522581.0</td>\n",
       "      <td>0.035323</td>\n",
       "      <td>['Executing an \"ant\" build in a non java proje...</td>\n",
       "      <td>['since        having a  build xml  file in a ...</td>\n",
       "      <td>['Cannot run ant build file from generic proje...</td>\n",
       "      <td>['created attachment   screen grab showing err...</td>\n",
       "      <td>1</td>\n",
       "    </tr>\n",
       "    <tr>\n",
       "      <th>1</th>\n",
       "      <td>521057.0</td>\n",
       "      <td>517951.0</td>\n",
       "      <td>0.064607</td>\n",
       "      <td>['Internal compiler error: java.lang.NullPoint...</td>\n",
       "      <td>['created attachment   source code that causes...</td>\n",
       "      <td>['Internal compiler error: null pointer except...</td>\n",
       "      <td>['it looks like eclipse       has trouble with...</td>\n",
       "      <td>1</td>\n",
       "    </tr>\n",
       "    <tr>\n",
       "      <th>2</th>\n",
       "      <td>516277.0</td>\n",
       "      <td>517672.0</td>\n",
       "      <td>0.030134</td>\n",
       "      <td>['Exception when launching server']</td>\n",
       "      <td>['created attachment   osgi capture  since    ...</td>\n",
       "      <td>['Meta File Error, file IO error']</td>\n",
       "      <td>['created attachment   orion   log  this error...</td>\n",
       "      <td>1</td>\n",
       "    </tr>\n",
       "    <tr>\n",
       "      <th>3</th>\n",
       "      <td>515243.0</td>\n",
       "      <td>515213.0</td>\n",
       "      <td>0.031674</td>\n",
       "      <td>['Oxygen installation via Eclipse Installer cu...</td>\n",
       "      <td>['created attachment   log of eclipse installe...</td>\n",
       "      <td>['Many mirrors are broken, probably because an...</td>\n",
       "      <td>['created attachment   installer log  what i d...</td>\n",
       "      <td>1</td>\n",
       "    </tr>\n",
       "    <tr>\n",
       "      <th>4</th>\n",
       "      <td>510223.0</td>\n",
       "      <td>457065.0</td>\n",
       "      <td>0.071653</td>\n",
       "      <td>['Error when trying to save using Java editor']</td>\n",
       "      <td>['this suddenly happened when trying to save m...</td>\n",
       "      <td>[]</td>\n",
       "      <td>[]</td>\n",
       "      <td>1</td>\n",
       "    </tr>\n",
       "  </tbody>\n",
       "</table>\n",
       "</div>"
      ],
      "text/plain": [
       "     Bug ID  Duplicate_Bug_Ids  Average_Cos_Similarity_Trigram  \\\n",
       "0  526539.0           522581.0                        0.035323   \n",
       "1  521057.0           517951.0                        0.064607   \n",
       "2  516277.0           517672.0                        0.030134   \n",
       "3  515243.0           515213.0                        0.031674   \n",
       "4  510223.0           457065.0                        0.071653   \n",
       "\n",
       "                                            Summary1  \\\n",
       "0  ['Executing an \"ant\" build in a non java proje...   \n",
       "1  ['Internal compiler error: java.lang.NullPoint...   \n",
       "2                ['Exception when launching server']   \n",
       "3  ['Oxygen installation via Eclipse Installer cu...   \n",
       "4    ['Error when trying to save using Java editor']   \n",
       "\n",
       "                                        Description1  \\\n",
       "0  ['since        having a  build xml  file in a ...   \n",
       "1  ['created attachment   source code that causes...   \n",
       "2  ['created attachment   osgi capture  since    ...   \n",
       "3  ['created attachment   log of eclipse installe...   \n",
       "4  ['this suddenly happened when trying to save m...   \n",
       "\n",
       "                                            Summary2  \\\n",
       "0  ['Cannot run ant build file from generic proje...   \n",
       "1  ['Internal compiler error: null pointer except...   \n",
       "2                 ['Meta File Error, file IO error']   \n",
       "3  ['Many mirrors are broken, probably because an...   \n",
       "4                                                 []   \n",
       "\n",
       "                                        Description2  is_similar  \n",
       "0  ['created attachment   screen grab showing err...           1  \n",
       "1  ['it looks like eclipse       has trouble with...           1  \n",
       "2  ['created attachment   orion   log  this error...           1  \n",
       "3  ['created attachment   installer log  what i d...           1  \n",
       "4                                                 []           1  "
      ]
     },
     "execution_count": 27,
     "metadata": {},
     "output_type": "execute_result"
    }
   ],
   "source": [
    "#To Drop Duplicates\n",
    "df_sim = final_new_sim.drop_duplicates(subset = ['Bug ID', 'Summary','Description','Average_Cos_Similarity_Score', 'Average_Cos_Similarity_Bigram', 'Average_Cos_Similarity_Trigram','Duplicate_Bug_Ids' ], keep='first')\n",
    "\n",
    "print('Dimensions of Data After Dropping Duplicates: ', df_sim.shape)\n",
    "\n",
    "# Duplicate Pair ( b- & b+)\n",
    "sim = df_sim[['Bug ID', 'Duplicate_Bug_Ids', 'Average_Cos_Similarity_Trigram']]\n",
    "sim.reset_index(drop=True, inplace=True)\n",
    "na = sim.to_numpy()\n",
    "\n",
    "def createData(training_column, tem_column, col_index):\n",
    "    s = []\n",
    "    for i in range(0,df_sim.shape[0]):\n",
    "        tem = training_dataset.loc[training_dataset[training_column] == na[i, col_index]].copy()\n",
    "        s.append(str(tem[tem_column].values))\n",
    "    se = pd.Series(s)\n",
    "    return se.values\n",
    "\n",
    "#To add Data in Columns\n",
    "sim['Summary1'] = createData('Bug ID', 'Summary', 0)\n",
    "sim['Description1'] = createData('Bug ID', 'Description', 0)\n",
    "sim['Summary2'] = createData('Bug ID', 'Summary', 1)\n",
    "sim['Description2'] = createData('Bug ID', 'Description', 1)\n",
    "sim['is_similar'] = 1\n",
    "\n",
    "#To show Data\n",
    "sim.head()"
   ]
  },
  {
   "cell_type": "code",
   "execution_count": 28,
   "id": "385768ee",
   "metadata": {},
   "outputs": [
    {
     "name": "stdout",
     "output_type": "stream",
     "text": [
      "Dimensions of Data after Cleaning:  (446, 8)\n"
     ]
    }
   ],
   "source": [
    "#To Create a Copy\n",
    "df_sim_fin = sim.copy()\n",
    "\n",
    "#To Replace '[]' with '0' \n",
    "df_sim_fin['Summary2'] = df_sim_fin['Summary2'].replace(['[]'],'0')\n",
    "df_sim_fin['Description2'] = df_sim_fin['Description2'].replace(['[]'],'0')\n",
    "\n",
    "#To Drop rows with '0' value in 'Summary2' Column\n",
    "df_sim_fin.drop(df_sim_fin.loc[df_sim_fin['Summary2']=='0'].index, inplace=True)\n",
    "\n",
    "#To Drop rows with '0' value in 'Description2' Column\n",
    "df_sim_fin.drop(df_sim_fin.loc[df_sim_fin['Description2']=='0'].index, inplace=True)\n",
    "\n",
    "print('Dimensions of Data after Cleaning: ', df_sim_fin.shape)"
   ]
  },
  {
   "cell_type": "markdown",
   "id": "1a32e4c0",
   "metadata": {},
   "source": [
    "# Textually Dissimilar"
   ]
  },
  {
   "cell_type": "code",
   "execution_count": 29,
   "id": "d3592aa4",
   "metadata": {},
   "outputs": [
    {
     "name": "stdout",
     "output_type": "stream",
     "text": [
      "Dimensions of Data After Dropping Duplicates:  (723, 13)\n"
     ]
    },
    {
     "data": {
      "text/html": [
       "<div>\n",
       "<style scoped>\n",
       "    .dataframe tbody tr th:only-of-type {\n",
       "        vertical-align: middle;\n",
       "    }\n",
       "\n",
       "    .dataframe tbody tr th {\n",
       "        vertical-align: top;\n",
       "    }\n",
       "\n",
       "    .dataframe thead th {\n",
       "        text-align: right;\n",
       "    }\n",
       "</style>\n",
       "<table border=\"1\" class=\"dataframe\">\n",
       "  <thead>\n",
       "    <tr style=\"text-align: right;\">\n",
       "      <th></th>\n",
       "      <th>Bug ID</th>\n",
       "      <th>Duplicate_Bug_Ids</th>\n",
       "      <th>Average_Cos_Similarity_Trigram</th>\n",
       "      <th>Summary1</th>\n",
       "      <th>Description1</th>\n",
       "      <th>Summary2</th>\n",
       "      <th>Description2</th>\n",
       "      <th>is_similar</th>\n",
       "    </tr>\n",
       "  </thead>\n",
       "  <tbody>\n",
       "    <tr>\n",
       "      <th>0</th>\n",
       "      <td>576714.0</td>\n",
       "      <td>574220.0</td>\n",
       "      <td>0.014654</td>\n",
       "      <td>['Upgrade org.apache.sshd:sshd-core to version...</td>\n",
       "      <td>['affected versions of this package are vulner...</td>\n",
       "      <td>['Apache MINA sshd: update to 2.7.0']</td>\n",
       "      <td>['update the dependency and remove work around...</td>\n",
       "      <td>1</td>\n",
       "    </tr>\n",
       "    <tr>\n",
       "      <th>1</th>\n",
       "      <td>513150.0</td>\n",
       "      <td>513149.0</td>\n",
       "      <td>0.013748</td>\n",
       "      <td>['[release] technology.collections 8.1.0']</td>\n",
       "      <td>['we ll use this bug to track the release  we ...</td>\n",
       "      <td>['[release] technology.collections 8.1.0']</td>\n",
       "      <td>['we ll use this bug to track the release  we ...</td>\n",
       "      <td>1</td>\n",
       "    </tr>\n",
       "    <tr>\n",
       "      <th>2</th>\n",
       "      <td>540216.0</td>\n",
       "      <td>539997.0</td>\n",
       "      <td>0.013748</td>\n",
       "      <td>['[release] technology.app4mc 0.9.2']</td>\n",
       "      <td>['we ll use this bug to track the release  we ...</td>\n",
       "      <td>['[release] technology.app4mc 0.9.2']</td>\n",
       "      <td>['we ll use this bug to track the release  we ...</td>\n",
       "      <td>1</td>\n",
       "    </tr>\n",
       "    <tr>\n",
       "      <th>3</th>\n",
       "      <td>542667.0</td>\n",
       "      <td>542532.0</td>\n",
       "      <td>0.013748</td>\n",
       "      <td>['[release] modeling.mmt.qvtd 2018.0.0']</td>\n",
       "      <td>['we ll use this bug to track the release  we ...</td>\n",
       "      <td>['[release] modeling.mmt.qvtd 0.17.0']</td>\n",
       "      <td>['we ll use this bug to track the release  we ...</td>\n",
       "      <td>1</td>\n",
       "    </tr>\n",
       "    <tr>\n",
       "      <th>4</th>\n",
       "      <td>542639.0</td>\n",
       "      <td>542638.0</td>\n",
       "      <td>0.013748</td>\n",
       "      <td>['[release] iot.wakaama 1.0.0']</td>\n",
       "      <td>['we ll use this bug to track the release  we ...</td>\n",
       "      <td>['[release] iot.wakaama 1.0.0']</td>\n",
       "      <td>['we ll use this bug to track the release  we ...</td>\n",
       "      <td>1</td>\n",
       "    </tr>\n",
       "  </tbody>\n",
       "</table>\n",
       "</div>"
      ],
      "text/plain": [
       "     Bug ID  Duplicate_Bug_Ids  Average_Cos_Similarity_Trigram  \\\n",
       "0  576714.0           574220.0                        0.014654   \n",
       "1  513150.0           513149.0                        0.013748   \n",
       "2  540216.0           539997.0                        0.013748   \n",
       "3  542667.0           542532.0                        0.013748   \n",
       "4  542639.0           542638.0                        0.013748   \n",
       "\n",
       "                                            Summary1  \\\n",
       "0  ['Upgrade org.apache.sshd:sshd-core to version...   \n",
       "1         ['[release] technology.collections 8.1.0']   \n",
       "2              ['[release] technology.app4mc 0.9.2']   \n",
       "3           ['[release] modeling.mmt.qvtd 2018.0.0']   \n",
       "4                    ['[release] iot.wakaama 1.0.0']   \n",
       "\n",
       "                                        Description1  \\\n",
       "0  ['affected versions of this package are vulner...   \n",
       "1  ['we ll use this bug to track the release  we ...   \n",
       "2  ['we ll use this bug to track the release  we ...   \n",
       "3  ['we ll use this bug to track the release  we ...   \n",
       "4  ['we ll use this bug to track the release  we ...   \n",
       "\n",
       "                                     Summary2  \\\n",
       "0       ['Apache MINA sshd: update to 2.7.0']   \n",
       "1  ['[release] technology.collections 8.1.0']   \n",
       "2       ['[release] technology.app4mc 0.9.2']   \n",
       "3      ['[release] modeling.mmt.qvtd 0.17.0']   \n",
       "4             ['[release] iot.wakaama 1.0.0']   \n",
       "\n",
       "                                        Description2  is_similar  \n",
       "0  ['update the dependency and remove work around...           1  \n",
       "1  ['we ll use this bug to track the release  we ...           1  \n",
       "2  ['we ll use this bug to track the release  we ...           1  \n",
       "3  ['we ll use this bug to track the release  we ...           1  \n",
       "4  ['we ll use this bug to track the release  we ...           1  "
      ]
     },
     "execution_count": 29,
     "metadata": {},
     "output_type": "execute_result"
    }
   ],
   "source": [
    "#To Drop Duplicate\n",
    "df_dissim = final_new_dissim.drop_duplicates(subset = ['Bug ID', 'Summary','Description','Average_Cos_Similarity_Score', 'Average_Cos_Similarity_Bigram', 'Average_Cos_Similarity_Trigram','Duplicate_Bug_Ids' ], keep='first')\n",
    "\n",
    "print('Dimensions of Data After Dropping Duplicates: ', df_dissim.shape)\n",
    "\n",
    "# Duplicate Pair ( b- & b+)\n",
    "dissim = df_dissim[['Bug ID', 'Duplicate_Bug_Ids', 'Average_Cos_Similarity_Trigram']]\n",
    "dissim.reset_index(drop=True, inplace=True)\n",
    "na = dissim.to_numpy()\n",
    "\n",
    "def createDataForDissimilarity(training_column, tem_column, col_index):\n",
    "    s = []\n",
    "    for i in range(0,df_dissim.shape[0]):\n",
    "        tem = training_dataset.loc[training_dataset[training_column] == na[i, col_index]]\n",
    "        s.append(str(tem[tem_column].values))\n",
    "    se = pd.Series(s)\n",
    "    return se.values\n",
    "\n",
    "#To add Data in Columns\n",
    "dissim['Summary1'] = createDataForDissimilarity('Bug ID', 'Summary', 0)\n",
    "dissim['Description1'] = createDataForDissimilarity('Bug ID', 'Description', 0)\n",
    "dissim['Summary2'] = createDataForDissimilarity('Bug ID', 'Summary', 1)\n",
    "dissim['Description2'] = createDataForDissimilarity('Bug ID', 'Description', 1)\n",
    "dissim['is_similar'] = 1\n",
    "\n",
    "#To show Data\n",
    "dissim.head()"
   ]
  },
  {
   "cell_type": "code",
   "execution_count": 30,
   "id": "f6d94b4f",
   "metadata": {},
   "outputs": [
    {
     "name": "stdout",
     "output_type": "stream",
     "text": [
      "Dimensions of Data after Cleaning:  (544, 8)\n"
     ]
    }
   ],
   "source": [
    "#To Create a Copy\n",
    "df_dissim_fin= dissim.copy()\n",
    "\n",
    "#To Replace '[]' with '0' \n",
    "df_dissim_fin['Summary2'] = df_dissim_fin['Summary2'].replace(['[]'],'0')\n",
    "df_dissim_fin['Description2'] = df_dissim_fin['Description2'].replace(['[]'],'0')\n",
    "\n",
    "#To Drop rows with '0' value in 'Summary2' Column\n",
    "df_dissim_fin.drop(df_dissim_fin.loc[df_dissim_fin['Summary2']=='0'].index, inplace=True)\n",
    "\n",
    "#To Drop rows with '0' value in 'Description2' Column\n",
    "df_dissim_fin.drop(df_dissim_fin.loc[df_dissim_fin['Description2']=='0'].index, inplace=True)\n",
    "\n",
    "print('Dimensions of Data after Cleaning: ', df_dissim_fin.shape)"
   ]
  },
  {
   "cell_type": "code",
   "execution_count": 31,
   "id": "c8e6eda3",
   "metadata": {},
   "outputs": [],
   "source": [
    "#To Download Final Processed Data\n",
    "df_sim_fin.to_csv(\"../../PreProcessedData/Eclipse/Eclipse_textually_similar_pair.csv\")\n",
    "df_dissim_fin.to_csv(\"../../PreProcessedData/Eclipse/Eclipse_textually_dissimilar_pair.csv\")"
   ]
  }
 ],
 "metadata": {
  "kernelspec": {
   "display_name": "Python 3 (ipykernel)",
   "language": "python",
   "name": "python3"
  },
  "language_info": {
   "codemirror_mode": {
    "name": "ipython",
    "version": 3
   },
   "file_extension": ".py",
   "mimetype": "text/x-python",
   "name": "python",
   "nbconvert_exporter": "python",
   "pygments_lexer": "ipython3",
   "version": "3.9.12"
  },
  "vscode": {
   "interpreter": {
    "hash": "1989b88a6612e39f2f477c52f763309ba9342b0bd5094b9b3fbb1f2088fe1109"
   }
  }
 },
 "nbformat": 4,
 "nbformat_minor": 5
}
