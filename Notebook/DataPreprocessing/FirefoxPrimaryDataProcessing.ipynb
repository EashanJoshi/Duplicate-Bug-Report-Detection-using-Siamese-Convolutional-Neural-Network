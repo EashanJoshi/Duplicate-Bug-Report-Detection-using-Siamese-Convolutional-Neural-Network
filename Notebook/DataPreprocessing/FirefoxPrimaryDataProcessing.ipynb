{
 "cells": [
  {
   "cell_type": "code",
   "execution_count": 1,
   "id": "52e836fe",
   "metadata": {},
   "outputs": [
    {
     "name": "stderr",
     "output_type": "stream",
     "text": [
      "[nltk_data] Downloading package stopwords to\n",
      "[nltk_data]     C:\\Users\\comka\\AppData\\Roaming\\nltk_data...\n",
      "[nltk_data]   Package stopwords is already up-to-date!\n",
      "[nltk_data] Downloading package wordnet to\n",
      "[nltk_data]     C:\\Users\\comka\\AppData\\Roaming\\nltk_data...\n",
      "[nltk_data]   Package wordnet is already up-to-date!\n"
     ]
    }
   ],
   "source": [
    "import warnings\n",
    "warnings.filterwarnings('ignore')\n",
    "\n",
    "import numpy as np\n",
    "import pandas as pd\n",
    "import matplotlib.pyplot as plt\n",
    "\n",
    "import nltk\n",
    "from nltk.corpus import stopwords\n",
    "from nltk.stem import PorterStemmer\n",
    "from nltk.stem.porter import *\n",
    "nltk.download('stopwords')\n",
    "nltk.download('wordnet')\n",
    "\n",
    "import re\n",
    "import statistics\n",
    "\n",
    "from sklearn.feature_extraction.text import TfidfVectorizer\n",
    "from sklearn.metrics.pairwise import cosine_similarity\n",
    "from scipy.stats import skew"
   ]
  },
  {
   "cell_type": "code",
   "execution_count": 2,
   "id": "f8322ea4",
   "metadata": {},
   "outputs": [
    {
     "name": "stdout",
     "output_type": "stream",
     "text": [
      "Dimensions of Dataset:  (38290, 11)\n"
     ]
    }
   ],
   "source": [
    "training_dataset = pd.read_csv('../../PrimaryDataset/firefox_preproccessed_whole_dataset.csv')\n",
    "\n",
    "print('Dimensions of Dataset: ', training_dataset.shape)"
   ]
  },
  {
   "cell_type": "code",
   "execution_count": 3,
   "id": "c972fdf8",
   "metadata": {},
   "outputs": [
    {
     "name": "stdout",
     "output_type": "stream",
     "text": [
      "NaN Values after Replacing:  38290\n",
      "Dimensions of Data with Duplicate Bug Ids:  (7859, 11)\n"
     ]
    }
   ],
   "source": [
    "#Replacing Blank Values with 'NaN' Values\n",
    "training_dataset.replace(\"\", np.nan, inplace = True)\n",
    "\n",
    "#Droping Data which has 'Nan' value for 'Description' Column\n",
    "training_dataset.dropna(subset = ['Description'], inplace = True)\n",
    "\n",
    "#Checking of any 'NaN' values are present or not.\n",
    "cond = (training_dataset['Description'] == np.nan)\n",
    "print('NaN Values after Replacing: ',len(cond))\n",
    "\n",
    "#Filtering data based on 'Duplicate_Bug_Ids' Column to get Duplicate Bugs\n",
    "duplicate_test = training_dataset[training_dataset['Duplicate_Bug_Ids'] > 0]\n",
    "print('Dimensions of Data with Duplicate Bug Ids: ', duplicate_test.shape)"
   ]
  },
  {
   "cell_type": "code",
   "execution_count": 4,
   "id": "960d5850",
   "metadata": {},
   "outputs": [
    {
     "name": "stdout",
     "output_type": "stream",
     "text": [
      "Dimensions of Data after Tokenization:  (7859, 14864)\n"
     ]
    }
   ],
   "source": [
    "#To Tokenize Data\n",
    "ted = duplicate_test['Description']\n",
    "\n",
    "tfidf = TfidfVectorizer()\n",
    "stemmer = PorterStemmer()\n",
    "\n",
    "def tokenizer(arg):\n",
    "    tokens = re.split(r'(\\W+)', arg.lower())\n",
    "    tokens = [\n",
    "        token for token in tokens\n",
    "        if re.match('\\\\w+', token) and not re.match('\\\\d+', token)\n",
    "    ]\n",
    "    \n",
    "    return list(map(stemmer.stem, tokens))\n",
    "\n",
    "tfidf.tokenizer = tokenizer\n",
    "tfidf_matrix_desc = tfidf.fit_transform(ted)\n",
    "\n",
    "print('Dimensions of Data after Tokenization: ', tfidf_matrix_desc.shape)"
   ]
  },
  {
   "cell_type": "code",
   "execution_count": 5,
   "id": "14140e37",
   "metadata": {},
   "outputs": [
    {
     "name": "stdout",
     "output_type": "stream",
     "text": [
      "Cosine Similarity Matrix:\n",
      "[[1.         0.04122147 0.04019784 ... 0.02639855 0.042071   0.01534793]\n",
      " [0.04122147 1.         0.07110638 ... 0.06228067 0.03302893 0.01394963]\n",
      " [0.04019784 0.07110638 1.         ... 0.05066284 0.0219455  0.02641063]\n",
      " ...\n",
      " [0.02639855 0.06228067 0.05066284 ... 1.         0.11492979 0.00451332]\n",
      " [0.042071   0.03302893 0.0219455  ... 0.11492979 1.         0.00434397]\n",
      " [0.01534793 0.01394963 0.02641063 ... 0.00451332 0.00434397 1.        ]]\n",
      "Cosine Similarity Matrix Dimensions:  (7859, 7859)\n"
     ]
    }
   ],
   "source": [
    "#To calculate Cosine Similarity\n",
    "tfidf_sim = TfidfVectorizer()\n",
    "\n",
    "tfidf_matrix = tfidf_sim.fit_transform(ted)\n",
    "\n",
    "cosine_sim = cosine_similarity(tfidf_matrix, tfidf_matrix)\n",
    "\n",
    "print('Cosine Similarity Matrix:')\n",
    "print(cosine_sim)\n",
    "print('Cosine Similarity Matrix Dimensions: ', cosine_sim.shape)"
   ]
  },
  {
   "cell_type": "code",
   "execution_count": 6,
   "id": "db46212d",
   "metadata": {},
   "outputs": [
    {
     "name": "stdout",
     "output_type": "stream",
     "text": [
      "Skewness of Distribution:  -0.049826805982141224\n",
      "Median of Distribution:  0.060176621036006114\n"
     ]
    }
   ],
   "source": [
    "#To get Average Cosine Similarity Score\n",
    "average = np.average(cosine_sim, axis=1)\n",
    "average_df = pd.DataFrame(average, columns = ['Avg_Sim_Score'])\n",
    "\n",
    "#To sort Data\n",
    "average_for_sorting = average_df\n",
    "sorted_average = average_for_sorting.sort_values(by = 'Avg_Sim_Score', ascending = False)\n",
    "\n",
    "#To get Skewness Of Distribution\n",
    "print('Skewness of Distribution: ', skew(average))\n",
    "\n",
    "#To get Median Of Distribution\n",
    "median = statistics.median(average)\n",
    "print('Median of Distribution: ', median)"
   ]
  },
  {
   "cell_type": "code",
   "execution_count": 7,
   "id": "5c1a48c7",
   "metadata": {},
   "outputs": [
    {
     "name": "stdout",
     "output_type": "stream",
     "text": [
      "Simlar Scores Dataset Dimensions:  (3930, 12)\n",
      "Disimlar Scores Dataset Dimensions:  (3929, 12)\n"
     ]
    }
   ],
   "source": [
    "#To add Column in DataFrame\n",
    "duplicate_test.insert(loc = 7, column = 'Average_Cos_Similarity_Score', value = average_df.values)\n",
    "\n",
    "similar_score = duplicate_test[duplicate_test['Average_Cos_Similarity_Score'] >= median]\n",
    "dissimilar_score = duplicate_test[duplicate_test['Average_Cos_Similarity_Score'] < median]\n",
    "\n",
    "print('Simlar Scores Dataset Dimensions: ', similar_score.shape)\n",
    "print('Disimlar Scores Dataset Dimensions: ', dissimilar_score.shape)\n",
    "\n",
    "#To get Average Similarity Scores \n",
    "scores = sorted_average['Avg_Sim_Score'].values.tolist()"
   ]
  },
  {
   "cell_type": "code",
   "execution_count": 8,
   "id": "91c3f798",
   "metadata": {},
   "outputs": [],
   "source": [
    "#To get data for BoxPlot\n",
    "\n",
    "def get_box_plot_data(scores, title):\n",
    "    scores_df = pd.DataFrame(scores)\n",
    "    \n",
    "    labels = ['Scores']\n",
    "    plt.boxplot([scores], labels = labels)\n",
    "    plt.ylabel('Cosine Similarity')\n",
    "    plt.title(title)\n",
    "    plt.show()\n",
    "    \n",
    "    scores_desc = {}\n",
    "    scores_desc['lower_quartile'] = scores_df.describe().loc['25%']\n",
    "    scores_desc['median'] = scores_df.describe().loc['50%']\n",
    "    scores_desc['upper_quartile'] = scores_df.describe().loc['75%']\n",
    "        \n",
    "    return pd.DataFrame(scores_desc)"
   ]
  },
  {
   "cell_type": "code",
   "execution_count": 9,
   "id": "27751844",
   "metadata": {
    "scrolled": true
   },
   "outputs": [
    {
     "data": {
      "image/png": "[encoded data removed]",
      "text/plain": [
       "<Figure size 432x288 with 1 Axes>"
      ]
     },
     "metadata": {
      "needs_background": "light"
     },
     "output_type": "display_data"
    },
    {
     "data": {
      "text/html": [
       "<div>\n",
       "<style scoped>\n",
       "    .dataframe tbody tr th:only-of-type {\n",
       "        vertical-align: middle;\n",
       "    }\n",
       "\n",
       "    .dataframe tbody tr th {\n",
       "        vertical-align: top;\n",
       "    }\n",
       "\n",
       "    .dataframe thead th {\n",
       "        text-align: right;\n",
       "    }\n",
       "</style>\n",
       "<table border=\"1\" class=\"dataframe\">\n",
       "  <thead>\n",
       "    <tr style=\"text-align: right;\">\n",
       "      <th></th>\n",
       "      <th>lower_quartile</th>\n",
       "      <th>median</th>\n",
       "      <th>upper_quartile</th>\n",
       "    </tr>\n",
       "  </thead>\n",
       "  <tbody>\n",
       "    <tr>\n",
       "      <th>0</th>\n",
       "      <td>0.045692</td>\n",
       "      <td>0.060177</td>\n",
       "      <td>0.074049</td>\n",
       "    </tr>\n",
       "  </tbody>\n",
       "</table>\n",
       "</div>"
      ],
      "text/plain": [
       "   lower_quartile    median  upper_quartile\n",
       "0        0.045692  0.060177        0.074049"
      ]
     },
     "execution_count": 9,
     "metadata": {},
     "output_type": "execute_result"
    }
   ],
   "source": [
    "#To plot Box-Plot\n",
    "result = get_box_plot_data(scores, 'Firefox')\n",
    "\n",
    "#To get Description of Scores\n",
    "result.head()"
   ]
  },
  {
   "cell_type": "code",
   "execution_count": 10,
   "id": "ad34e7df",
   "metadata": {},
   "outputs": [
    {
     "name": "stdout",
     "output_type": "stream",
     "text": [
      "Dimensions of Filtered Data with Similar Duplicate Bugs:  (1965, 12)\n",
      "Dimensions of Filtered Data with Dissimilar Duplicate Bugs:  (1965, 12)\n"
     ]
    }
   ],
   "source": [
    "#Lower and Upper Limit\n",
    "lower_limit = result.iloc[0][0]\n",
    "upper_limit = result.iloc[0][2]\n",
    "\n",
    "#To Filter data for Similar Bugs\n",
    "similar_final_score = duplicate_test[duplicate_test['Average_Cos_Similarity_Score'] >= upper_limit]\n",
    "\n",
    "#To Filter data for Dissimilar Bugs\n",
    "dissimilar_final_score = duplicate_test[duplicate_test['Average_Cos_Similarity_Score'] <= lower_limit]\n",
    "\n",
    "print('Dimensions of Filtered Data with Similar Duplicate Bugs: ', similar_final_score.shape)\n",
    "print('Dimensions of Filtered Data with Dissimilar Duplicate Bugs: ', dissimilar_final_score.shape)"
   ]
  },
  {
   "cell_type": "markdown",
   "id": "5d20c7f3",
   "metadata": {},
   "source": [
    "# Unigram"
   ]
  },
  {
   "cell_type": "code",
   "execution_count": 11,
   "id": "5613c25f",
   "metadata": {},
   "outputs": [
    {
     "name": "stdout",
     "output_type": "stream",
     "text": [
      "Cosine Similarity Matrix:\n",
      "[[1.         0.04245795 0.04045055 ... 0.02721041 0.042071   0.0154029 ]\n",
      " [0.04245795 1.         0.07369971 ... 0.06612169 0.03401967 0.01441953]\n",
      " [0.04045055 0.07369971 1.         ... 0.05254922 0.02208346 0.02667185]\n",
      " ...\n",
      " [0.02721041 0.06612169 0.05254922 ... 1.         0.11846437 0.00466879]\n",
      " [0.042071   0.03401967 0.02208346 ... 0.11846437 1.         0.00435953]\n",
      " [0.0154029  0.01441953 0.02667185 ... 0.00466879 0.00435953 1.        ]]\n",
      "Cosine Similarity Matrix Dimensions:  (7859, 7859)\n"
     ]
    }
   ],
   "source": [
    "#Unigram\n",
    "unigram_vector = TfidfVectorizer(analyzer='word', ngram_range=(1,1), lowercase=True, min_df=2)\n",
    "\n",
    "unigram = unigram_vector.fit_transform(ted)\n",
    "\n",
    "unigram_cosine_sim = cosine_similarity(unigram, unigram)\n",
    "\n",
    "print('Cosine Similarity Matrix:')\n",
    "print(unigram_cosine_sim)\n",
    "print('Cosine Similarity Matrix Dimensions: ', unigram_cosine_sim.shape)"
   ]
  },
  {
   "cell_type": "code",
   "execution_count": 12,
   "id": "81b913ed",
   "metadata": {},
   "outputs": [
    {
     "name": "stdout",
     "output_type": "stream",
     "text": [
      "Skewness of Distribution:  -0.0710382579794963\n",
      "Median of Distribution:  0.06332519385251839\n"
     ]
    }
   ],
   "source": [
    "#To get Average Unigram Cosine Similarity Score\n",
    "unigram_average = np.average(unigram_cosine_sim, axis=1)\n",
    "unigram_average_df = pd.DataFrame(unigram_average, columns = ['Avg_Sim_Score'])\n",
    "\n",
    "#To sort Data\n",
    "unigram_average_for_sorting = pd.DataFrame(unigram_average_df)\n",
    "sorted_unigram_average = unigram_average_for_sorting.sort_values(by = 'Avg_Sim_Score', ascending = False)\n",
    "\n",
    "#To get Skewness Of Distribution\n",
    "print('Skewness of Distribution: ', skew(unigram_average))\n",
    "\n",
    "#To get Median Of Distribution\n",
    "unigram_median = statistics.median(unigram_average)\n",
    "print('Median of Distribution: ', unigram_median)\n",
    "\n",
    "#To get Unigram Scores\n",
    "unigram_scores = sorted_unigram_average['Avg_Sim_Score'].values.tolist()"
   ]
  },
  {
   "cell_type": "code",
   "execution_count": 13,
   "id": "19c08927",
   "metadata": {},
   "outputs": [
    {
     "data": {
      "image/png": "[encoded data removed]",
      "text/plain": [
       "<Figure size 432x288 with 1 Axes>"
      ]
     },
     "metadata": {
      "needs_background": "light"
     },
     "output_type": "display_data"
    },
    {
     "data": {
      "text/html": [
       "<div>\n",
       "<style scoped>\n",
       "    .dataframe tbody tr th:only-of-type {\n",
       "        vertical-align: middle;\n",
       "    }\n",
       "\n",
       "    .dataframe tbody tr th {\n",
       "        vertical-align: top;\n",
       "    }\n",
       "\n",
       "    .dataframe thead th {\n",
       "        text-align: right;\n",
       "    }\n",
       "</style>\n",
       "<table border=\"1\" class=\"dataframe\">\n",
       "  <thead>\n",
       "    <tr style=\"text-align: right;\">\n",
       "      <th></th>\n",
       "      <th>lower_quartile</th>\n",
       "      <th>median</th>\n",
       "      <th>upper_quartile</th>\n",
       "    </tr>\n",
       "  </thead>\n",
       "  <tbody>\n",
       "    <tr>\n",
       "      <th>0</th>\n",
       "      <td>0.048253</td>\n",
       "      <td>0.063325</td>\n",
       "      <td>0.07755</td>\n",
       "    </tr>\n",
       "  </tbody>\n",
       "</table>\n",
       "</div>"
      ],
      "text/plain": [
       "   lower_quartile    median  upper_quartile\n",
       "0        0.048253  0.063325         0.07755"
      ]
     },
     "execution_count": 13,
     "metadata": {},
     "output_type": "execute_result"
    }
   ],
   "source": [
    "#To plot Box-Plot\n",
    "result = get_box_plot_data(unigram_scores, 'Firefox with Unigram')\n",
    "\n",
    "#To get Description of Unigram Scores\n",
    "result.head()"
   ]
  },
  {
   "cell_type": "code",
   "execution_count": 14,
   "id": "5dee9e2e",
   "metadata": {},
   "outputs": [
    {
     "name": "stdout",
     "output_type": "stream",
     "text": [
      "Dimensions of Filtered Data with Similar Duplicate Bugs using Unigram:  (1556, 12)\n",
      "Dimensions of Filtered Data with Dissimilar Duplicate Bugs using Unigram:  (2309, 12)\n"
     ]
    }
   ],
   "source": [
    "#Lower and Upper Limit\n",
    "lower_limit = result.iloc[0][0]\n",
    "upper_limit = result.iloc[0][2]\n",
    "\n",
    "#To Filter data for Similar Bugs\n",
    "similar_unigram_score = duplicate_test[duplicate_test['Average_Cos_Similarity_Score'] >= upper_limit]\n",
    "\n",
    "#To Filter data for Dissimilar Bugs\n",
    "dissimilar_unigram_score = duplicate_test[duplicate_test['Average_Cos_Similarity_Score'] <= lower_limit]\n",
    "\n",
    "print('Dimensions of Filtered Data with Similar Duplicate Bugs using Unigram: ', similar_unigram_score.shape)\n",
    "print('Dimensions of Filtered Data with Dissimilar Duplicate Bugs using Unigram: ', dissimilar_unigram_score.shape)\n",
    "\n",
    "#Download to csv\n",
    "similar_unigram_score.to_csv(\"../../PreProcessedData/Firefox/Firefox_textually_similar_unigram_final.csv\",index=False)\n",
    "dissimilar_unigram_score.to_csv(\"../../PreProcessedData/Firefox/Firefox_textually_dissimilar_unigram_final.csv\",index=False)"
   ]
  },
  {
   "cell_type": "markdown",
   "id": "d9b61673",
   "metadata": {},
   "source": [
    "# Bigram"
   ]
  },
  {
   "cell_type": "code",
   "execution_count": 15,
   "id": "d8abb012",
   "metadata": {},
   "outputs": [
    {
     "name": "stdout",
     "output_type": "stream",
     "text": [
      "Cosine Similarity Matrix:\n",
      "[[1.         0.02521412 0.02161435 ... 0.01077285 0.01909951 0.00715465]\n",
      " [0.02521412 1.         0.03488997 ... 0.02475384 0.01550532 0.00676029]\n",
      " [0.02161435 0.03488997 1.         ... 0.02144234 0.01105035 0.0163111 ]\n",
      " ...\n",
      " [0.01077285 0.02475384 0.02144234 ... 1.         0.07914972 0.00203209]\n",
      " [0.01909951 0.01550532 0.01105035 ... 0.07914972 1.         0.00229606]\n",
      " [0.00715465 0.00676029 0.0163111  ... 0.00203209 0.00229606 1.        ]]\n",
      "Cosine Similarity Matrix Dimensions:  (7859, 7859)\n"
     ]
    }
   ],
   "source": [
    "#Bigram\n",
    "bigram_vector = TfidfVectorizer(analyzer='word', ngram_range=(1,2), lowercase=True, min_df=2)\n",
    "\n",
    "bigram = bigram_vector.fit_transform(ted)\n",
    "\n",
    "bigram_cosine_sim = cosine_similarity(bigram, bigram)\n",
    "\n",
    "print('Cosine Similarity Matrix:')\n",
    "print(bigram_cosine_sim)\n",
    "print('Cosine Similarity Matrix Dimensions: ', bigram_cosine_sim.shape)"
   ]
  },
  {
   "cell_type": "code",
   "execution_count": 16,
   "id": "f7f81f95",
   "metadata": {},
   "outputs": [
    {
     "name": "stdout",
     "output_type": "stream",
     "text": [
      "Skewness of Distribution:  -0.17110761734715704\n",
      "Median of Distribution:  0.0297766713772623\n"
     ]
    }
   ],
   "source": [
    "#To get Average Bigram Cosine Similarity Score\n",
    "bigram_average = np.average(bigram_cosine_sim, axis=1)\n",
    "bigram_average_df = pd.DataFrame(bigram_average, columns = ['Avg_Sim_Score'])\n",
    "\n",
    "#To sort Data\n",
    "bigram_average_for_sorting = bigram_average_df\n",
    "sorted_bigram_average = bigram_average_for_sorting.sort_values(by = 'Avg_Sim_Score', ascending = False)\n",
    "\n",
    "#To get Skewness Of Distribution\n",
    "print('Skewness of Distribution: ', skew(bigram_average))\n",
    "\n",
    "#To get Median Of Distribution\n",
    "bigram_median = statistics.median(bigram_average)\n",
    "print('Median of Distribution: ', bigram_median)\n",
    "\n",
    "#To get Bigram Scores\n",
    "bigram_scores = sorted_bigram_average['Avg_Sim_Score'].values.tolist()"
   ]
  },
  {
   "cell_type": "code",
   "execution_count": 17,
   "id": "6d63ef47",
   "metadata": {
    "scrolled": true
   },
   "outputs": [
    {
     "data": {
      "image/png": "[encoded data removed]",
      "text/plain": [
       "<Figure size 432x288 with 1 Axes>"
      ]
     },
     "metadata": {
      "needs_background": "light"
     },
     "output_type": "display_data"
    },
    {
     "data": {
      "text/html": [
       "<div>\n",
       "<style scoped>\n",
       "    .dataframe tbody tr th:only-of-type {\n",
       "        vertical-align: middle;\n",
       "    }\n",
       "\n",
       "    .dataframe tbody tr th {\n",
       "        vertical-align: top;\n",
       "    }\n",
       "\n",
       "    .dataframe thead th {\n",
       "        text-align: right;\n",
       "    }\n",
       "</style>\n",
       "<table border=\"1\" class=\"dataframe\">\n",
       "  <thead>\n",
       "    <tr style=\"text-align: right;\">\n",
       "      <th></th>\n",
       "      <th>lower_quartile</th>\n",
       "      <th>median</th>\n",
       "      <th>upper_quartile</th>\n",
       "    </tr>\n",
       "  </thead>\n",
       "  <tbody>\n",
       "    <tr>\n",
       "      <th>0</th>\n",
       "      <td>0.02326</td>\n",
       "      <td>0.029777</td>\n",
       "      <td>0.035516</td>\n",
       "    </tr>\n",
       "  </tbody>\n",
       "</table>\n",
       "</div>"
      ],
      "text/plain": [
       "   lower_quartile    median  upper_quartile\n",
       "0         0.02326  0.029777        0.035516"
      ]
     },
     "execution_count": 17,
     "metadata": {},
     "output_type": "execute_result"
    }
   ],
   "source": [
    "#To plot Box-Plot\n",
    "result = get_box_plot_data(bigram_scores, 'Firefox with Bigram')\n",
    "\n",
    "#To get Description of Unigram Scores\n",
    "result.head()"
   ]
  },
  {
   "cell_type": "code",
   "execution_count": 18,
   "id": "c8a3fb2c",
   "metadata": {},
   "outputs": [
    {
     "name": "stdout",
     "output_type": "stream",
     "text": [
      "Dimensions of Filtered Data with Similar Duplicate Bugs using Bigram:  (1965, 13)\n",
      "Dimensions of Filtered Data with Dissimilar Duplicate Bugs using Bigram:  (1965, 13)\n"
     ]
    }
   ],
   "source": [
    "#Lower and Upper Limit\n",
    "lower_limit = result.iloc[0][0]\n",
    "upper_limit = result.iloc[0][2]\n",
    "\n",
    "#To add Column in DataFrame\n",
    "duplicate_test.insert(loc = 7, column = 'Average_Cos_Similarity_Bigram', value = bigram_average_df.values)\n",
    "\n",
    "#To Filter data for Similar Bugs\n",
    "similar_bigram_score = duplicate_test[duplicate_test['Average_Cos_Similarity_Bigram'] >= upper_limit]\n",
    "\n",
    "#To Filter data for Dissimilar Bugs\n",
    "dissimilar_bigram_score = duplicate_test[duplicate_test['Average_Cos_Similarity_Bigram'] <= lower_limit]\n",
    "\n",
    "print('Dimensions of Filtered Data with Similar Duplicate Bugs using Bigram: ', similar_bigram_score.shape)\n",
    "print('Dimensions of Filtered Data with Dissimilar Duplicate Bugs using Bigram: ', dissimilar_bigram_score.shape)\n",
    "\n",
    "#Download to csv\n",
    "similar_bigram_score.to_csv(\"../../PreProcessedData/Firefox/Firefox_textually_similar_bigram_final.csv\",index=False)\n",
    "dissimilar_bigram_score.to_csv(\"../../PreProcessedData/Firefox/Firefox_textually_dissimilar_bigram_final.csv\",index=False)"
   ]
  },
  {
   "cell_type": "markdown",
   "id": "633dad72",
   "metadata": {},
   "source": [
    "# Trigram"
   ]
  },
  {
   "cell_type": "code",
   "execution_count": 19,
   "id": "1e9dae53",
   "metadata": {},
   "outputs": [
    {
     "name": "stdout",
     "output_type": "stream",
     "text": [
      "Cosine Similarity Matrix:\n",
      "[[1.         0.02103657 0.01849083 ... 0.00715837 0.01249891 0.00496291]\n",
      " [0.02103657 1.         0.0323174  ... 0.01913736 0.01213475 0.00562237]\n",
      " [0.01849083 0.0323174  1.         ... 0.0169888  0.00889362 0.01390382]\n",
      " ...\n",
      " [0.00715837 0.01913736 0.0169888  ... 1.         0.06194188 0.00155484]\n",
      " [0.01249891 0.01213475 0.00889362 ... 0.06194188 1.         0.00177324]\n",
      " [0.00496291 0.00562237 0.01390382 ... 0.00155484 0.00177324 1.        ]]\n",
      "Cosine Similarity Matrix Dimensions:  (7859, 7859)\n"
     ]
    }
   ],
   "source": [
    "#Trigram\n",
    "trigram_vector = TfidfVectorizer(analyzer='word', ngram_range=(1,3), lowercase=True, min_df=2)\n",
    "\n",
    "trigram = trigram_vector.fit_transform(ted)\n",
    "\n",
    "trigram_cosine_sim = cosine_similarity(trigram, trigram)\n",
    "\n",
    "print('Cosine Similarity Matrix:')\n",
    "print(trigram_cosine_sim)\n",
    "print('Cosine Similarity Matrix Dimensions: ', trigram_cosine_sim.shape)"
   ]
  },
  {
   "cell_type": "code",
   "execution_count": 20,
   "id": "954bdefb",
   "metadata": {},
   "outputs": [
    {
     "name": "stdout",
     "output_type": "stream",
     "text": [
      "Skewness of Distribution:  -0.19234811804156507\n",
      "Median of Distribution:  0.023242112154572205\n"
     ]
    }
   ],
   "source": [
    "#To get Average Of Distribution\n",
    "trigram_average = np.average(trigram_cosine_sim, axis=1)\n",
    "trigram_average_df = pd.DataFrame(trigram_average, columns = ['Avg_Sim_Score'])\n",
    "\n",
    "#To sort Data\n",
    "trigram_average_for_sorting = trigram_average_df\n",
    "sorted_trigram_average = trigram_average_for_sorting.sort_values(by = 'Avg_Sim_Score', ascending = False)\n",
    "\n",
    "#To get Skewness Of Distribution\n",
    "print('Skewness of Distribution: ', skew(trigram_average))\n",
    "\n",
    "#To get Median Of Distribution\n",
    "trigram_median = statistics.median(trigram_average)\n",
    "print('Median of Distribution: ', trigram_median)\n",
    "\n",
    "#To get Trigram Scores\n",
    "trigram_scores = sorted_trigram_average['Avg_Sim_Score'].values.tolist()"
   ]
  },
  {
   "cell_type": "code",
   "execution_count": 21,
   "id": "bf85307a",
   "metadata": {},
   "outputs": [
    {
     "data": {
      "image/png": "[encoded data removed]",
      "text/plain": [
       "<Figure size 432x288 with 1 Axes>"
      ]
     },
     "metadata": {
      "needs_background": "light"
     },
     "output_type": "display_data"
    },
    {
     "data": {
      "text/html": [
       "<div>\n",
       "<style scoped>\n",
       "    .dataframe tbody tr th:only-of-type {\n",
       "        vertical-align: middle;\n",
       "    }\n",
       "\n",
       "    .dataframe tbody tr th {\n",
       "        vertical-align: top;\n",
       "    }\n",
       "\n",
       "    .dataframe thead th {\n",
       "        text-align: right;\n",
       "    }\n",
       "</style>\n",
       "<table border=\"1\" class=\"dataframe\">\n",
       "  <thead>\n",
       "    <tr style=\"text-align: right;\">\n",
       "      <th></th>\n",
       "      <th>lower_quartile</th>\n",
       "      <th>median</th>\n",
       "      <th>upper_quartile</th>\n",
       "    </tr>\n",
       "  </thead>\n",
       "  <tbody>\n",
       "    <tr>\n",
       "      <th>0</th>\n",
       "      <td>0.017871</td>\n",
       "      <td>0.023242</td>\n",
       "      <td>0.027378</td>\n",
       "    </tr>\n",
       "  </tbody>\n",
       "</table>\n",
       "</div>"
      ],
      "text/plain": [
       "   lower_quartile    median  upper_quartile\n",
       "0        0.017871  0.023242        0.027378"
      ]
     },
     "execution_count": 21,
     "metadata": {},
     "output_type": "execute_result"
    }
   ],
   "source": [
    "#To plot Box-Plot\n",
    "result = get_box_plot_data(trigram_scores, 'Firefox with Trigram')\n",
    "\n",
    "#To get Description of Unigram Scores\n",
    "result.head()"
   ]
  },
  {
   "cell_type": "code",
   "execution_count": 22,
   "id": "52cc7ea8",
   "metadata": {},
   "outputs": [
    {
     "name": "stdout",
     "output_type": "stream",
     "text": [
      "Dimensions of Filtered Data with Similar Duplicate Bugs using Trigram:  (1965, 14)\n",
      "Dimensions of Filtered Data with Dissimilar Duplicate Bugs using Trigram:  (1965, 14)\n"
     ]
    }
   ],
   "source": [
    "#Lower and Upper Limit\n",
    "lower_limit = result.iloc[0][0]\n",
    "upper_limit = result.iloc[0][2]\n",
    "\n",
    "#To add Column in DataFrame\n",
    "duplicate_test.insert(loc = 7, column = 'Average_Cos_Similarity_Trigram', value = trigram_average_df.values)\n",
    "\n",
    "#To Filter data for Similar Bugs\n",
    "similar_trigram_score = duplicate_test[duplicate_test['Average_Cos_Similarity_Trigram'] >= upper_limit]\n",
    "\n",
    "#To Filter data for Dissimilar Bugs\n",
    "dissimilar_trigram_score = duplicate_test[duplicate_test['Average_Cos_Similarity_Trigram'] <= lower_limit]\n",
    "\n",
    "print('Dimensions of Filtered Data with Similar Duplicate Bugs using Trigram: ', similar_trigram_score.shape)\n",
    "print('Dimensions of Filtered Data with Dissimilar Duplicate Bugs using Trigram: ', dissimilar_trigram_score.shape)\n",
    "\n",
    "#Download to csv\n",
    "similar_trigram_score.to_csv(\"../../PreProcessedData/Firefox/Firefox_textually_similar_trigram_final.csv\",index=False)\n",
    "dissimilar_trigram_score.to_csv(\"../../PreProcessedData/Firefox/Firefox_textually_dissimilar_trigram_final.csv\",index=False)"
   ]
  },
  {
   "cell_type": "markdown",
   "id": "fc966b2a",
   "metadata": {},
   "source": [
    "# Comparing Unigram and Bigram"
   ]
  },
  {
   "cell_type": "code",
   "execution_count": 23,
   "id": "cf93d442",
   "metadata": {},
   "outputs": [
    {
     "name": "stdout",
     "output_type": "stream",
     "text": [
      "Is Similar Unigram and Bigram Data Same?:  False\n",
      "Duplicate Bug IDs in Similar Unigram and Bigram Data:  1385\n",
      "Dimensions of new Data:  (1385, 13)\n"
     ]
    }
   ],
   "source": [
    "#Comparing Similar Unigram and Bigram\n",
    "print('Is Similar Unigram and Bigram Data Same?: ', similar_bigram_score['Bug ID'].equals(similar_unigram_score['Bug ID']))\n",
    "\n",
    "#To convert Data in List\n",
    "unigram_bug_list = list(similar_unigram_score['Bug ID'])\n",
    "bigram_bug_list = list(similar_bigram_score['Bug ID'])\n",
    "\n",
    "#To get Duplicate Bug IDs in Similar Unigram and Bigram Data\n",
    "count_id = 0\n",
    "dup_id_in_bug_id = []\n",
    "for i,v in enumerate(bigram_bug_list):\n",
    "    if (v in unigram_bug_list):\n",
    "        count_id +=1\n",
    "        dup_id_in_bug_id.append(v)\n",
    "        \n",
    "print('Duplicate Bug IDs in Similar Unigram and Bigram Data: ', len(dup_id_in_bug_id))\n",
    "\n",
    "#To get Similar Bigram Data present from Duplicate Bug IDs in Unigram and Bigram List \n",
    "new_sim = similar_bigram_score[similar_bigram_score['Bug ID'].isin(dup_id_in_bug_id)]\n",
    "\n",
    "print('Dimensions of new Data: ', new_sim.shape)"
   ]
  },
  {
   "cell_type": "code",
   "execution_count": 24,
   "id": "bd3a5dfb",
   "metadata": {},
   "outputs": [
    {
     "name": "stdout",
     "output_type": "stream",
     "text": [
      "Is Disimilar Unigram and Bigram Data Same?:  False\n",
      "Duplicate Bug IDs in Dissimilar Unigram and Bigram Data:  1710\n",
      "Dimensions of new Data:  (1710, 13)\n"
     ]
    }
   ],
   "source": [
    "#Comparing Dis-similar Unigram and Bigram\n",
    "print('Is Disimilar Unigram and Bigram Data Same?: ', dissimilar_bigram_score['Bug ID'].equals(dissimilar_unigram_score['Bug ID']))\n",
    "\n",
    "#To convert Data in List\n",
    "unigram_dis_bug_list = list(dissimilar_unigram_score['Bug ID'])\n",
    "bigram_dis_bug_list = list(dissimilar_bigram_score['Bug ID'])\n",
    "\n",
    "#To get Duplicate Bug IDs in Dissimilar Unigram and Bigram Data\n",
    "count_id = 0\n",
    "dup_id_in_bug_id_dis = []\n",
    "for i,v in enumerate(bigram_dis_bug_list):\n",
    "    if (v in unigram_dis_bug_list):\n",
    "        count_id +=1\n",
    "        dup_id_in_bug_id_dis.append(v)\n",
    "        \n",
    "print('Duplicate Bug IDs in Dissimilar Unigram and Bigram Data: ', len(dup_id_in_bug_id_dis))\n",
    "\n",
    "#To get Dissimilar Bigram Data present from Duplicate Bug IDs in Unigram and Bigram List \n",
    "new_dissim = dissimilar_bigram_score[dissimilar_bigram_score['Bug ID'].isin(dup_id_in_bug_id_dis)]\n",
    "\n",
    "print('Dimensions of new Data: ', new_dissim.shape)"
   ]
  },
  {
   "cell_type": "markdown",
   "id": "90cb7d4e",
   "metadata": {},
   "source": [
    "# Comparing Trigram and Unigram-Bigram"
   ]
  },
  {
   "cell_type": "code",
   "execution_count": 25,
   "id": "d7bd215e",
   "metadata": {},
   "outputs": [
    {
     "name": "stdout",
     "output_type": "stream",
     "text": [
      "Is Disimilar Unigram and Bigram Data Same?:  False\n",
      "Duplicate Bug IDs in Similar Trigram and Unigram-Bigram Data:  1239\n",
      "Dimensions of new Data:  (1239, 14)\n"
     ]
    }
   ],
   "source": [
    "#Comparing Similar Trigram and Unigram-Bigram\n",
    "print('Is Disimilar Unigram and Bigram Data Same?: ', similar_trigram_score['Bug ID'].equals(new_sim['Bug ID']))\n",
    "\n",
    "#To convert Data in List\n",
    "trigram_bug_list = list(similar_trigram_score['Bug ID'])\n",
    "unigram_bigram_bug_list = list(new_sim['Bug ID'])\n",
    "\n",
    "#To get Duplicate Bug IDs in Similar Trigram and Unigram-Bigram Data\n",
    "count_id = 0\n",
    "dup_id_in_bug_id_tri = []\n",
    "for i,v in enumerate(trigram_bug_list):\n",
    "    if (v in unigram_bigram_bug_list):\n",
    "        count_id +=1\n",
    "        dup_id_in_bug_id_tri.append(v)\n",
    "        \n",
    "print('Duplicate Bug IDs in Similar Trigram and Unigram-Bigram Data: ', len(dup_id_in_bug_id_tri))\n",
    "\n",
    "#To get Similar Trigram Data present from Duplicate Bug IDs in Trigram and Unigram-Bigram List \n",
    "final_new_sim = similar_trigram_score[similar_trigram_score['Bug ID'].isin(dup_id_in_bug_id_tri)]\n",
    "\n",
    "print('Dimensions of new Data: ', final_new_sim.shape)"
   ]
  },
  {
   "cell_type": "code",
   "execution_count": 26,
   "id": "693e3bd8",
   "metadata": {},
   "outputs": [
    {
     "name": "stdout",
     "output_type": "stream",
     "text": [
      "Is Disimilar Trigram and Unigram-Bigram Data Same?:  False\n",
      "Duplicate Bug IDs in Dissimilar Trigram and Unigram-Bigram Data:  1589\n",
      "Dimensions of new Data:  (1589, 14)\n"
     ]
    }
   ],
   "source": [
    "#Comparing Dissimilar Trigram and Unigram-Bigram\n",
    "print('Is Disimilar Trigram and Unigram-Bigram Data Same?: ', dissimilar_trigram_score['Bug ID'].equals(new_dissim['Bug ID']))\n",
    "\n",
    "#To convert Data in List\n",
    "trigram_dis_bug_list = list(dissimilar_trigram_score['Bug ID'])\n",
    "unigram_bigram_dis_bug_list = list(new_dissim['Bug ID'])\n",
    "\n",
    "#To get Duplicate Bug IDs in Dissimilar Trigram and Unigram-Bigram Data\n",
    "count_id = 0\n",
    "dup_id_in_bug_id_dis_tri = []\n",
    "for i,v in enumerate(trigram_dis_bug_list):\n",
    "    if (v in unigram_bigram_dis_bug_list):\n",
    "        count_id +=1\n",
    "        dup_id_in_bug_id_dis_tri.append(v)\n",
    "        \n",
    "print('Duplicate Bug IDs in Dissimilar Trigram and Unigram-Bigram Data: ', len(dup_id_in_bug_id_dis_tri))\n",
    "\n",
    "#To get Dissimilar Trigram Data present from Duplicate Bug IDs in Trigram and Unigram-Bigram List \n",
    "final_new_dissim = dissimilar_trigram_score [dissimilar_trigram_score['Bug ID'].isin(dup_id_in_bug_id_dis_tri)]\n",
    "\n",
    "print('Dimensions of new Data: ', final_new_dissim.shape)\n",
    "\n",
    "#Download to csv\n",
    "final_new_sim.to_csv(\"../../PreProcessedData/Firefox/Firefox_final_sim.csv\",index=False)\n",
    "final_new_dissim.to_csv(\"../../PreProcessedData/Firefox/Firefox_final_dis.csv\",index=False)"
   ]
  },
  {
   "cell_type": "markdown",
   "id": "daaf11c7",
   "metadata": {},
   "source": [
    "# Textually Similar"
   ]
  },
  {
   "cell_type": "code",
   "execution_count": 27,
   "id": "c68a84ac",
   "metadata": {},
   "outputs": [
    {
     "name": "stdout",
     "output_type": "stream",
     "text": [
      "Dimensions of Data After Dropping Duplicates:  (1239, 14)\n"
     ]
    },
    {
     "data": {
      "text/html": [
       "<div>\n",
       "<style scoped>\n",
       "    .dataframe tbody tr th:only-of-type {\n",
       "        vertical-align: middle;\n",
       "    }\n",
       "\n",
       "    .dataframe tbody tr th {\n",
       "        vertical-align: top;\n",
       "    }\n",
       "\n",
       "    .dataframe thead th {\n",
       "        text-align: right;\n",
       "    }\n",
       "</style>\n",
       "<table border=\"1\" class=\"dataframe\">\n",
       "  <thead>\n",
       "    <tr style=\"text-align: right;\">\n",
       "      <th></th>\n",
       "      <th>Bug ID</th>\n",
       "      <th>Duplicate_Bug_Ids</th>\n",
       "      <th>Average_Cos_Similarity_Trigram</th>\n",
       "      <th>Summary1</th>\n",
       "      <th>Description1</th>\n",
       "      <th>Summary2</th>\n",
       "      <th>Description2</th>\n",
       "      <th>is_similar</th>\n",
       "    </tr>\n",
       "  </thead>\n",
       "  <tbody>\n",
       "    <tr>\n",
       "      <th>0</th>\n",
       "      <td>1369688</td>\n",
       "      <td>1331736.0</td>\n",
       "      <td>0.028173</td>\n",
       "      <td>['One-off search takes the initial value rathe...</td>\n",
       "      <td>['created attachment   keyselectedsearch    mo...</td>\n",
       "      <td>['Alt+down in location bar searches for origin...</td>\n",
       "      <td>['i noticed this while working on bug    and i...</td>\n",
       "      <td>1</td>\n",
       "    </tr>\n",
       "    <tr>\n",
       "      <th>1</th>\n",
       "      <td>1332106</td>\n",
       "      <td>1332118.0</td>\n",
       "      <td>0.041752</td>\n",
       "      <td>['[Deleted][Windows 10] Possible Cortana Searc...</td>\n",
       "      <td>['user agent  mozilla       gecko   firefox   ...</td>\n",
       "      <td>[]</td>\n",
       "      <td>[]</td>\n",
       "      <td>1</td>\n",
       "    </tr>\n",
       "    <tr>\n",
       "      <th>2</th>\n",
       "      <td>1328104</td>\n",
       "      <td>1323525.0</td>\n",
       "      <td>0.030858</td>\n",
       "      <td>['Add Search Engine Button Does Not Work']</td>\n",
       "      <td>['user agent  mozilla       gecko   firefox   ...</td>\n",
       "      <td>[]</td>\n",
       "      <td>[]</td>\n",
       "      <td>1</td>\n",
       "    </tr>\n",
       "    <tr>\n",
       "      <th>3</th>\n",
       "      <td>1333599</td>\n",
       "      <td>1481994.0</td>\n",
       "      <td>0.038145</td>\n",
       "      <td>['URL Spoofing by using onbeforeunload and ope...</td>\n",
       "      <td>['i have noticed that the onbeforeunload dialo...</td>\n",
       "      <td>[]</td>\n",
       "      <td>[]</td>\n",
       "      <td>1</td>\n",
       "    </tr>\n",
       "    <tr>\n",
       "      <th>4</th>\n",
       "      <td>1351282</td>\n",
       "      <td>1401401.0</td>\n",
       "      <td>0.037071</td>\n",
       "      <td>['Cannot delete or edit invalid bookmark']</td>\n",
       "      <td>['created attachment   bug dialog png  user ag...</td>\n",
       "      <td>['Bookmarks with an invalid url cannot be remo...</td>\n",
       "      <td>['created attachment   screenshot of bookmark ...</td>\n",
       "      <td>1</td>\n",
       "    </tr>\n",
       "  </tbody>\n",
       "</table>\n",
       "</div>"
      ],
      "text/plain": [
       "    Bug ID  Duplicate_Bug_Ids  Average_Cos_Similarity_Trigram  \\\n",
       "0  1369688          1331736.0                        0.028173   \n",
       "1  1332106          1332118.0                        0.041752   \n",
       "2  1328104          1323525.0                        0.030858   \n",
       "3  1333599          1481994.0                        0.038145   \n",
       "4  1351282          1401401.0                        0.037071   \n",
       "\n",
       "                                            Summary1  \\\n",
       "0  ['One-off search takes the initial value rathe...   \n",
       "1  ['[Deleted][Windows 10] Possible Cortana Searc...   \n",
       "2         ['Add Search Engine Button Does Not Work']   \n",
       "3  ['URL Spoofing by using onbeforeunload and ope...   \n",
       "4         ['Cannot delete or edit invalid bookmark']   \n",
       "\n",
       "                                        Description1  \\\n",
       "0  ['created attachment   keyselectedsearch    mo...   \n",
       "1  ['user agent  mozilla       gecko   firefox   ...   \n",
       "2  ['user agent  mozilla       gecko   firefox   ...   \n",
       "3  ['i have noticed that the onbeforeunload dialo...   \n",
       "4  ['created attachment   bug dialog png  user ag...   \n",
       "\n",
       "                                            Summary2  \\\n",
       "0  ['Alt+down in location bar searches for origin...   \n",
       "1                                                 []   \n",
       "2                                                 []   \n",
       "3                                                 []   \n",
       "4  ['Bookmarks with an invalid url cannot be remo...   \n",
       "\n",
       "                                        Description2  is_similar  \n",
       "0  ['i noticed this while working on bug    and i...           1  \n",
       "1                                                 []           1  \n",
       "2                                                 []           1  \n",
       "3                                                 []           1  \n",
       "4  ['created attachment   screenshot of bookmark ...           1  "
      ]
     },
     "execution_count": 27,
     "metadata": {},
     "output_type": "execute_result"
    }
   ],
   "source": [
    "#To Drop Duplicates\n",
    "df_sim = final_new_sim.drop_duplicates(subset = ['Bug ID', 'Summary','Description','Average_Cos_Similarity_Score', 'Average_Cos_Similarity_Bigram', 'Average_Cos_Similarity_Trigram','Duplicate_Bug_Ids' ], keep='first')\n",
    "\n",
    "print('Dimensions of Data After Dropping Duplicates: ', df_sim.shape)\n",
    "\n",
    "# Duplicate Pair ( b- & b+)\n",
    "sim = df_sim[['Bug ID', 'Duplicate_Bug_Ids', 'Average_Cos_Similarity_Trigram']]\n",
    "sim.reset_index(drop=True, inplace=True)\n",
    "na = sim.to_numpy()\n",
    "\n",
    "def createData(training_column, tem_column, col_index):\n",
    "    s = []\n",
    "    for i in range(0,df_sim.shape[0]):\n",
    "        tem = training_dataset.loc[training_dataset[training_column] == na[i, col_index]].copy()\n",
    "        s.append(str(tem[tem_column].values))\n",
    "    se = pd.Series(s)\n",
    "    return se.values\n",
    "\n",
    "#To add Data in Columns\n",
    "sim['Summary1'] = createData('Bug ID', 'Summary', 0)\n",
    "sim['Description1'] = createData('Bug ID', 'Description', 0)\n",
    "sim['Summary2'] = createData('Bug ID', 'Summary', 1)\n",
    "sim['Description2'] = createData('Bug ID', 'Description', 1)\n",
    "sim['is_similar'] = 1\n",
    "\n",
    "#To show Data\n",
    "sim.head()"
   ]
  },
  {
   "cell_type": "code",
   "execution_count": 28,
   "id": "385768ee",
   "metadata": {},
   "outputs": [
    {
     "name": "stdout",
     "output_type": "stream",
     "text": [
      "Dimensions of Data after Cleaning:  (536, 8)\n"
     ]
    }
   ],
   "source": [
    "#To Create a Copy\n",
    "df_sim_fin = sim.copy()\n",
    "\n",
    "#To Replace '[]' with '0' \n",
    "df_sim_fin['Summary2'] = df_sim_fin['Summary2'].replace(['[]'],'0')\n",
    "df_sim_fin['Description2'] = df_sim_fin['Description2'].replace(['[]'],'0')\n",
    "\n",
    "#To Drop rows with '0' value in 'Summary2' Column\n",
    "df_sim_fin.drop(df_sim_fin.loc[df_sim_fin['Summary2']=='0'].index, inplace=True)\n",
    "\n",
    "#To Drop rows with '0' value in 'Description2' Column\n",
    "df_sim_fin.drop(df_sim_fin.loc[df_sim_fin['Description2']=='0'].index, inplace=True)\n",
    "\n",
    "print('Dimensions of Data after Cleaning: ', df_sim_fin.shape)"
   ]
  },
  {
   "cell_type": "markdown",
   "id": "1a32e4c0",
   "metadata": {},
   "source": [
    "# Textually Dissimilar"
   ]
  },
  {
   "cell_type": "code",
   "execution_count": 29,
   "id": "d3592aa4",
   "metadata": {},
   "outputs": [
    {
     "name": "stdout",
     "output_type": "stream",
     "text": [
      "Dimensions of Data After Dropping Duplicates:  (1589, 14)\n"
     ]
    },
    {
     "data": {
      "text/html": [
       "<div>\n",
       "<style scoped>\n",
       "    .dataframe tbody tr th:only-of-type {\n",
       "        vertical-align: middle;\n",
       "    }\n",
       "\n",
       "    .dataframe tbody tr th {\n",
       "        vertical-align: top;\n",
       "    }\n",
       "\n",
       "    .dataframe thead th {\n",
       "        text-align: right;\n",
       "    }\n",
       "</style>\n",
       "<table border=\"1\" class=\"dataframe\">\n",
       "  <thead>\n",
       "    <tr style=\"text-align: right;\">\n",
       "      <th></th>\n",
       "      <th>Bug ID</th>\n",
       "      <th>Duplicate_Bug_Ids</th>\n",
       "      <th>Average_Cos_Similarity_Trigram</th>\n",
       "      <th>Summary1</th>\n",
       "      <th>Description1</th>\n",
       "      <th>Summary2</th>\n",
       "      <th>Description2</th>\n",
       "      <th>is_similar</th>\n",
       "    </tr>\n",
       "  </thead>\n",
       "  <tbody>\n",
       "    <tr>\n",
       "      <th>0</th>\n",
       "      <td>1357039</td>\n",
       "      <td>1357029.0</td>\n",
       "      <td>0.010312</td>\n",
       "      <td>['Should add the Customize Firefox tour in the...</td>\n",
       "      <td>['should add the customize firefox tour in the...</td>\n",
       "      <td>['Should add the Add-on tour in the onBoarding...</td>\n",
       "      <td>['should add the add on tour in the onboarding...</td>\n",
       "      <td>1</td>\n",
       "    </tr>\n",
       "    <tr>\n",
       "      <th>1</th>\n",
       "      <td>1359062</td>\n",
       "      <td>1347543.0</td>\n",
       "      <td>0.014964</td>\n",
       "      <td>['Increase contrast of the Downloads Indicator...</td>\n",
       "      <td>['nightly       on windows      at the moment ...</td>\n",
       "      <td>['Change Toolbar Icons from PNG to SVG']</td>\n",
       "      <td>['    this bug was initially created as a clon...</td>\n",
       "      <td>1</td>\n",
       "    </tr>\n",
       "    <tr>\n",
       "      <th>2</th>\n",
       "      <td>1357056</td>\n",
       "      <td>1357641.0</td>\n",
       "      <td>0.009494</td>\n",
       "      <td>['Should not display the notification bar if u...</td>\n",
       "      <td>['should not display the notification for the ...</td>\n",
       "      <td>['Should show the notification bar to notify u...</td>\n",
       "      <td>['should show the notification bar to notify u...</td>\n",
       "      <td>1</td>\n",
       "    </tr>\n",
       "    <tr>\n",
       "      <th>3</th>\n",
       "      <td>1357041</td>\n",
       "      <td>1357029.0</td>\n",
       "      <td>0.012423</td>\n",
       "      <td>['Should highlight the customize button in the...</td>\n",
       "      <td>['should highlight the customize button in the...</td>\n",
       "      <td>['Should add the Add-on tour in the onBoarding...</td>\n",
       "      <td>['should add the add on tour in the onboarding...</td>\n",
       "      <td>1</td>\n",
       "    </tr>\n",
       "    <tr>\n",
       "      <th>4</th>\n",
       "      <td>1378164</td>\n",
       "      <td>1377923.0</td>\n",
       "      <td>0.015985</td>\n",
       "      <td>[\"Noisy debug in a debug build (of Thunderbird...</td>\n",
       "      <td>['    this bug was initially created as a clon...</td>\n",
       "      <td>[]</td>\n",
       "      <td>[]</td>\n",
       "      <td>1</td>\n",
       "    </tr>\n",
       "  </tbody>\n",
       "</table>\n",
       "</div>"
      ],
      "text/plain": [
       "    Bug ID  Duplicate_Bug_Ids  Average_Cos_Similarity_Trigram  \\\n",
       "0  1357039          1357029.0                        0.010312   \n",
       "1  1359062          1347543.0                        0.014964   \n",
       "2  1357056          1357641.0                        0.009494   \n",
       "3  1357041          1357029.0                        0.012423   \n",
       "4  1378164          1377923.0                        0.015985   \n",
       "\n",
       "                                            Summary1  \\\n",
       "0  ['Should add the Customize Firefox tour in the...   \n",
       "1  ['Increase contrast of the Downloads Indicator...   \n",
       "2  ['Should not display the notification bar if u...   \n",
       "3  ['Should highlight the customize button in the...   \n",
       "4  [\"Noisy debug in a debug build (of Thunderbird...   \n",
       "\n",
       "                                        Description1  \\\n",
       "0  ['should add the customize firefox tour in the...   \n",
       "1  ['nightly       on windows      at the moment ...   \n",
       "2  ['should not display the notification for the ...   \n",
       "3  ['should highlight the customize button in the...   \n",
       "4  ['    this bug was initially created as a clon...   \n",
       "\n",
       "                                            Summary2  \\\n",
       "0  ['Should add the Add-on tour in the onBoarding...   \n",
       "1           ['Change Toolbar Icons from PNG to SVG']   \n",
       "2  ['Should show the notification bar to notify u...   \n",
       "3  ['Should add the Add-on tour in the onBoarding...   \n",
       "4                                                 []   \n",
       "\n",
       "                                        Description2  is_similar  \n",
       "0  ['should add the add on tour in the onboarding...           1  \n",
       "1  ['    this bug was initially created as a clon...           1  \n",
       "2  ['should show the notification bar to notify u...           1  \n",
       "3  ['should add the add on tour in the onboarding...           1  \n",
       "4                                                 []           1  "
      ]
     },
     "execution_count": 29,
     "metadata": {},
     "output_type": "execute_result"
    }
   ],
   "source": [
    "#To Drop Duplicate\n",
    "df_dissim = final_new_dissim.drop_duplicates(subset = ['Bug ID', 'Summary','Description','Average_Cos_Similarity_Score', 'Average_Cos_Similarity_Bigram', 'Average_Cos_Similarity_Trigram','Duplicate_Bug_Ids' ], keep='first')\n",
    "\n",
    "print('Dimensions of Data After Dropping Duplicates: ', df_dissim.shape)\n",
    "\n",
    "# Duplicate Pair ( b- & b+)\n",
    "dissim = df_dissim[['Bug ID', 'Duplicate_Bug_Ids', 'Average_Cos_Similarity_Trigram']]\n",
    "dissim.reset_index(drop=True, inplace=True)\n",
    "na = dissim.to_numpy()\n",
    "\n",
    "def createDataForDissimilarity(training_column, tem_column, col_index):\n",
    "    s = []\n",
    "    for i in range(0,df_dissim.shape[0]):\n",
    "        tem = training_dataset.loc[training_dataset[training_column] == na[i, col_index]]\n",
    "        s.append(str(tem[tem_column].values))\n",
    "    se = pd.Series(s)\n",
    "    return se.values\n",
    "\n",
    "#To add Data in Columns\n",
    "dissim['Summary1'] = createDataForDissimilarity('Bug ID', 'Summary', 0)\n",
    "dissim['Description1'] = createDataForDissimilarity('Bug ID', 'Description', 0)\n",
    "dissim['Summary2'] = createDataForDissimilarity('Bug ID', 'Summary', 1)\n",
    "dissim['Description2'] = createDataForDissimilarity('Bug ID', 'Description', 1)\n",
    "dissim['is_similar'] = 1\n",
    "\n",
    "#To show Data\n",
    "dissim.head()"
   ]
  },
  {
   "cell_type": "code",
   "execution_count": 30,
   "id": "f6d94b4f",
   "metadata": {},
   "outputs": [
    {
     "name": "stdout",
     "output_type": "stream",
     "text": [
      "Dimensions of Data after Cleaning:  (816, 8)\n"
     ]
    }
   ],
   "source": [
    "#To Create a Copy\n",
    "df_dissim_fin= dissim.copy()\n",
    "\n",
    "#To Replace '[]' with '0' \n",
    "df_dissim_fin['Summary2'] = df_dissim_fin['Summary2'].replace(['[]'],'0')\n",
    "df_dissim_fin['Description2'] = df_dissim_fin['Description2'].replace(['[]'],'0')\n",
    "\n",
    "#To Drop rows with '0' value in 'Summary2' Column\n",
    "df_dissim_fin.drop(df_dissim_fin.loc[df_dissim_fin['Summary2']=='0'].index, inplace=True)\n",
    "\n",
    "#To Drop rows with '0' value in 'Description2' Column\n",
    "df_dissim_fin.drop(df_dissim_fin.loc[df_dissim_fin['Description2']=='0'].index, inplace=True)\n",
    "\n",
    "print('Dimensions of Data after Cleaning: ', df_dissim_fin.shape)"
   ]
  },
  {
   "cell_type": "code",
   "execution_count": 31,
   "id": "c8e6eda3",
   "metadata": {},
   "outputs": [],
   "source": [
    "#To Download Final Processed Data\n",
    "df_sim_fin.to_csv(\"../../PreProcessedData/Firefox/Firefox_textually_similar_pair.csv\")\n",
    "df_sim_fin.to_csv(\"../../PreProcessedData/Firefox/Firefox_textually_dissimilar_pair.csv\")"
   ]
  }
 ],
 "metadata": {
  "kernelspec": {
   "display_name": "Python 3 (ipykernel)",
   "language": "python",
   "name": "python3"
  },
  "language_info": {
   "codemirror_mode": {
    "name": "ipython",
    "version": 3
   },
   "file_extension": ".py",
   "mimetype": "text/x-python",
   "name": "python",
   "nbconvert_exporter": "python",
   "pygments_lexer": "ipython3",
   "version": "3.9.12"
  },
  "vscode": {
   "interpreter": {
    "hash": "1989b88a6612e39f2f477c52f763309ba9342b0bd5094b9b3fbb1f2088fe1109"
   }
  }
 },
 "nbformat": 4,
 "nbformat_minor": 5
}
